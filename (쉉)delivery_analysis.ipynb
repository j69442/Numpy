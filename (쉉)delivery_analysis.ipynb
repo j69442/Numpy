{
 "cells": [
  {
   "cell_type": "code",
   "execution_count": 1,
   "metadata": {},
   "outputs": [
    {
     "data": {
      "text/html": [
       "<div>\n",
       "<style scoped>\n",
       "    .dataframe tbody tr th:only-of-type {\n",
       "        vertical-align: middle;\n",
       "    }\n",
       "\n",
       "    .dataframe tbody tr th {\n",
       "        vertical-align: top;\n",
       "    }\n",
       "\n",
       "    .dataframe thead th {\n",
       "        text-align: right;\n",
       "    }\n",
       "</style>\n",
       "<table border=\"1\" class=\"dataframe\">\n",
       "  <thead>\n",
       "    <tr style=\"text-align: right;\">\n",
       "      <th></th>\n",
       "      <th>SERIAL_NUMBER</th>\n",
       "      <th>PROCESS_DT</th>\n",
       "      <th>DLVR_RQESTER_ID</th>\n",
       "      <th>DLVR_REQUST_STTUS_VALUE</th>\n",
       "      <th>DLVR_RCEPT_CMPNY_ID</th>\n",
       "      <th>DLVR_STORE_ID</th>\n",
       "      <th>DLVR_STORE_INDUTY_NM</th>\n",
       "      <th>DLVR_STORE_LEGALDONG_CODE</th>\n",
       "      <th>DLVR_STORE_SIDO</th>\n",
       "      <th>DLVR_STORE_SIGUNGU</th>\n",
       "      <th>...</th>\n",
       "      <th>DLVR_MAN_ID</th>\n",
       "      <th>DLVR_AMOUNT</th>\n",
       "      <th>CALL_RLAY_FEE_AMOUNT</th>\n",
       "      <th>GOODS_AMOUNT</th>\n",
       "      <th>SETLE_KND_VALUE</th>\n",
       "      <th>SETLE_CARD_CN</th>\n",
       "      <th>DLVR_RCEPT_TIME</th>\n",
       "      <th>DLVR_CARALC_TIME</th>\n",
       "      <th>DLVR_COMPT_TIME</th>\n",
       "      <th>DLVR_CANCL_TIME</th>\n",
       "    </tr>\n",
       "  </thead>\n",
       "  <tbody>\n",
       "    <tr>\n",
       "      <th>0</th>\n",
       "      <td>4577985</td>\n",
       "      <td>2020-01-01</td>\n",
       "      <td>C000035</td>\n",
       "      <td>1</td>\n",
       "      <td>C000035</td>\n",
       "      <td>S0032342</td>\n",
       "      <td>치킨</td>\n",
       "      <td>4812710600</td>\n",
       "      <td>경상남도</td>\n",
       "      <td>창원시 마산회원구</td>\n",
       "      <td>...</td>\n",
       "      <td>D0005271</td>\n",
       "      <td>4290</td>\n",
       "      <td>300</td>\n",
       "      <td>25000</td>\n",
       "      <td>1</td>\n",
       "      <td>승인:비씨카드사</td>\n",
       "      <td>2020-01-01 00:15:49</td>\n",
       "      <td>2020-01-01 00:21:38</td>\n",
       "      <td>2020-01-01 00:41:37</td>\n",
       "      <td>NaN</td>\n",
       "    </tr>\n",
       "    <tr>\n",
       "      <th>1</th>\n",
       "      <td>4577986</td>\n",
       "      <td>2020-01-01</td>\n",
       "      <td>C000237</td>\n",
       "      <td>1</td>\n",
       "      <td>C000237</td>\n",
       "      <td>S0021847</td>\n",
       "      <td>찜탕</td>\n",
       "      <td>4121010200</td>\n",
       "      <td>경기도</td>\n",
       "      <td>광명시</td>\n",
       "      <td>...</td>\n",
       "      <td>D0003269</td>\n",
       "      <td>4800</td>\n",
       "      <td>200</td>\n",
       "      <td>49000</td>\n",
       "      <td>2</td>\n",
       "      <td>NaN</td>\n",
       "      <td>2020-01-01 01:12:14</td>\n",
       "      <td>2020-01-01 01:21:41</td>\n",
       "      <td>2020-01-01 01:31:44</td>\n",
       "      <td>NaN</td>\n",
       "    </tr>\n",
       "    <tr>\n",
       "      <th>2</th>\n",
       "      <td>4577988</td>\n",
       "      <td>2020-01-01</td>\n",
       "      <td>C000129</td>\n",
       "      <td>1</td>\n",
       "      <td>C000129</td>\n",
       "      <td>S0025740</td>\n",
       "      <td>치킨</td>\n",
       "      <td>1138010400</td>\n",
       "      <td>서울특별시</td>\n",
       "      <td>은평구</td>\n",
       "      <td>...</td>\n",
       "      <td>D0001536</td>\n",
       "      <td>3300</td>\n",
       "      <td>300</td>\n",
       "      <td>23000</td>\n",
       "      <td>3</td>\n",
       "      <td>승인:</td>\n",
       "      <td>2020-01-01 00:01:14</td>\n",
       "      <td>2020-01-01 00:01:47</td>\n",
       "      <td>2020-01-01 00:18:47</td>\n",
       "      <td>NaN</td>\n",
       "    </tr>\n",
       "    <tr>\n",
       "      <th>3</th>\n",
       "      <td>4577989</td>\n",
       "      <td>2020-01-01</td>\n",
       "      <td>C000029</td>\n",
       "      <td>1</td>\n",
       "      <td>C000043</td>\n",
       "      <td>S0039634</td>\n",
       "      <td>한식</td>\n",
       "      <td>4115010100</td>\n",
       "      <td>경기도</td>\n",
       "      <td>의정부시</td>\n",
       "      <td>...</td>\n",
       "      <td>D0005061</td>\n",
       "      <td>4500</td>\n",
       "      <td>300</td>\n",
       "      <td>20000</td>\n",
       "      <td>2</td>\n",
       "      <td>NaN</td>\n",
       "      <td>2020-01-01 01:01:34</td>\n",
       "      <td>2020-01-01 01:28:06</td>\n",
       "      <td>2020-01-01 01:36:48</td>\n",
       "      <td>NaN</td>\n",
       "    </tr>\n",
       "    <tr>\n",
       "      <th>4</th>\n",
       "      <td>4577991</td>\n",
       "      <td>2020-01-01</td>\n",
       "      <td>C000130</td>\n",
       "      <td>1</td>\n",
       "      <td>C000130</td>\n",
       "      <td>S0002237</td>\n",
       "      <td>한식</td>\n",
       "      <td>4128112800</td>\n",
       "      <td>경기도</td>\n",
       "      <td>고양시 덕양구</td>\n",
       "      <td>...</td>\n",
       "      <td>D0005215</td>\n",
       "      <td>6500</td>\n",
       "      <td>300</td>\n",
       "      <td>32000</td>\n",
       "      <td>2</td>\n",
       "      <td>NaN</td>\n",
       "      <td>2020-01-01 01:05:06</td>\n",
       "      <td>2020-01-01 01:08:01</td>\n",
       "      <td>2020-01-01 01:29:00</td>\n",
       "      <td>NaN</td>\n",
       "    </tr>\n",
       "  </tbody>\n",
       "</table>\n",
       "<p>5 rows × 31 columns</p>\n",
       "</div>"
      ],
      "text/plain": [
       "   SERIAL_NUMBER  PROCESS_DT DLVR_RQESTER_ID  DLVR_REQUST_STTUS_VALUE  \\\n",
       "0        4577985  2020-01-01         C000035                        1   \n",
       "1        4577986  2020-01-01         C000237                        1   \n",
       "2        4577988  2020-01-01         C000129                        1   \n",
       "3        4577989  2020-01-01         C000029                        1   \n",
       "4        4577991  2020-01-01         C000130                        1   \n",
       "\n",
       "  DLVR_RCEPT_CMPNY_ID DLVR_STORE_ID DLVR_STORE_INDUTY_NM  \\\n",
       "0             C000035      S0032342                   치킨   \n",
       "1             C000237      S0021847                   찜탕   \n",
       "2             C000129      S0025740                   치킨   \n",
       "3             C000043      S0039634                   한식   \n",
       "4             C000130      S0002237                   한식   \n",
       "\n",
       "   DLVR_STORE_LEGALDONG_CODE DLVR_STORE_SIDO DLVR_STORE_SIGUNGU  ...  \\\n",
       "0                 4812710600            경상남도          창원시 마산회원구  ...   \n",
       "1                 4121010200             경기도                광명시  ...   \n",
       "2                 1138010400           서울특별시                은평구  ...   \n",
       "3                 4115010100             경기도               의정부시  ...   \n",
       "4                 4128112800             경기도            고양시 덕양구  ...   \n",
       "\n",
       "  DLVR_MAN_ID DLVR_AMOUNT  CALL_RLAY_FEE_AMOUNT  GOODS_AMOUNT  \\\n",
       "0    D0005271        4290                   300         25000   \n",
       "1    D0003269        4800                   200         49000   \n",
       "2    D0001536        3300                   300         23000   \n",
       "3    D0005061        4500                   300         20000   \n",
       "4    D0005215        6500                   300         32000   \n",
       "\n",
       "   SETLE_KND_VALUE SETLE_CARD_CN      DLVR_RCEPT_TIME     DLVR_CARALC_TIME  \\\n",
       "0                1      승인:비씨카드사  2020-01-01 00:15:49  2020-01-01 00:21:38   \n",
       "1                2           NaN  2020-01-01 01:12:14  2020-01-01 01:21:41   \n",
       "2                3           승인:  2020-01-01 00:01:14  2020-01-01 00:01:47   \n",
       "3                2           NaN  2020-01-01 01:01:34  2020-01-01 01:28:06   \n",
       "4                2           NaN  2020-01-01 01:05:06  2020-01-01 01:08:01   \n",
       "\n",
       "       DLVR_COMPT_TIME  DLVR_CANCL_TIME  \n",
       "0  2020-01-01 00:41:37              NaN  \n",
       "1  2020-01-01 01:31:44              NaN  \n",
       "2  2020-01-01 00:18:47              NaN  \n",
       "3  2020-01-01 01:36:48              NaN  \n",
       "4  2020-01-01 01:29:00              NaN  \n",
       "\n",
       "[5 rows x 31 columns]"
      ]
     },
     "execution_count": 1,
     "metadata": {},
     "output_type": "execute_result"
    }
   ],
   "source": [
    "import pandas as pd\n",
    "import numpy as np\n",
    "import matplotlib.pyplot as plt\n",
    "import seaborn as sns\n",
    "import datetime as dt\n",
    "\n",
    "df = pd.read_csv('delivery.csv')\n",
    "\n",
    "df.head()"
   ]
  },
  {
   "cell_type": "markdown",
   "metadata": {},
   "source": [
    "### Column \n",
    "```SERIAL_NUMBER\t순번\n",
    "PROCESS_DT\t처리일시\n",
    "DLVR_RQESTER_ID\t배달요청업체 ID\n",
    "DLVR_REQUES_STTUS_VALUE\t배달요청상태값(1:완료, 2:취소, 3:사고, 4:문의)\n",
    "DLVR_RCEPT_CMPNY_ID\t배달접수회사 ID\n",
    "DLVR_STORE_ID\t배달상점id\n",
    "DLVR_STORE_INDUTY_NM\t배달상점 업종이름\n",
    "DLVR_STORE_LEGALDONG_CODE\t배달상점 주소 법정동코드\n",
    "DLVR_STORE_SIDO\t배달상점 주소 법정동 시도명\n",
    "DLVR_STORE_SIGUNGU\t배달상점 주소 법정동 시군구명\n",
    "DLVR_STORE_DONG\t배달상점 주소 법정동 읍면동명\n",
    "DLVR_STORE_RI\t배달상점 주소 법정동 리명\n",
    "DLVR_STORE_ADSTRD_CODE\t배달상점 주소 행정동 코드\n",
    "DLVR_STORE_RDNMADR_CODE\t배달상점 주소 도로명 주소 코드\n",
    "DLVR_DSTN_LEGALDONG_CODE\t배달목적지 주소 법정동코드\n",
    "DLVR_DSTN_SIDO\t배달목적지 주소 법정동 시도명\n",
    "DLVR_DSTN_SIGUNGU\t배달목적지 주소 법정동 시군구명\n",
    "DLVR_DSTN_DONG\t배달주소 목적지  법정동 읍면동명\n",
    "DLVR_DSTN_RI\t배달목적지 주소 법정동 리명\n",
    "DLVR_DSTN_ADSTRD_CODE\t배달목적지 주소 행정동 코드\n",
    "DSVR_DSTN_RDNMADR_CODE\t배달목적지주소 도로명주소 코드\n",
    "DLVR_MAN_ID\t배달기사 ID\n",
    "DLVR_AMOUNT\t배달비용\n",
    "CALL_RLAY_FEE_AMOUNT\t호출중계수수료금액\n",
    "GOODS_AMOUNT\t배달상품금액\n",
    "SETLE_KND_VALUE\t결제종류번호 (1:카드, 2:선불, 3:현금)\n",
    "SETLE_CARD_CN\t결제카드종류\n",
    "DLVR_RCEPT_TIME\t배달접수시간\n",
    "DLVR_CARALC_TIME\t배달배차시간\n",
    "DLVR_COMPT_TIME\t배달완료시간\n",
    "DLVR_CANCL_TIME\t배달취소시간\n",
    "```"
   ]
  },
  {
   "cell_type": "markdown",
   "metadata": {},
   "source": [
    "## 분석 주제"
   ]
  },
  {
   "cell_type": "markdown",
   "metadata": {},
   "source": [
    "- 배달기사님들의 수익은 어느정도일까?\n",
    "    - 수익 분포 (배달기사님들별로 천차만별인가?)\n",
    "        - 차이가 난다면 얼마나 나는가?\n",
    "            - 지역별 특성이 클까 배달수행역량에 따른 특성이 클까? 등..\n",
    "            \n",
    "            \n",
    "- 기사들이 어떤 배달대행회사에서 일하는지 구분하지 않고 전반적인 배달기사들의 수익 파악"
   ]
  },
  {
   "cell_type": "markdown",
   "metadata": {},
   "source": [
    "## 데이터 확인\n",
    "- 컬럼별 결측치 확인"
   ]
  },
  {
   "cell_type": "code",
   "execution_count": 2,
   "metadata": {
    "scrolled": true
   },
   "outputs": [
    {
     "data": {
      "text/plain": [
       "SERIAL_NUMBER                      0\n",
       "PROCESS_DT                         0\n",
       "DLVR_RQESTER_ID                    0\n",
       "DLVR_REQUST_STTUS_VALUE            0\n",
       "DLVR_RCEPT_CMPNY_ID            62894\n",
       "DLVR_STORE_ID                      0\n",
       "DLVR_STORE_INDUTY_NM               0\n",
       "DLVR_STORE_LEGALDONG_CODE          0\n",
       "DLVR_STORE_SIDO                    0\n",
       "DLVR_STORE_SIGUNGU                 0\n",
       "DLVR_STORE_DONG                    0\n",
       "DLVR_STORE_RI                4567428\n",
       "DLVR_STORE_ADSTRD_CODE             0\n",
       "DLVR_STORE_RDNMADR_CODE        99621\n",
       "DLVR_DSTN_LEGALDONG_CODE      389543\n",
       "DLVR_DSTN_SIDO                389543\n",
       "DLVR_DSTN_SIGUNGU             389543\n",
       "DLVR_DSTN_DONG                389543\n",
       "DLVR_DSTN_RI                 4756752\n",
       "DLVR_DSTN_ADSTRD_CODE         383887\n",
       "DLVR_DSTN_RDNMADR_CODE        600821\n",
       "DLVR_MAN_ID                        0\n",
       "DLVR_AMOUNT                        0\n",
       "CALL_RLAY_FEE_AMOUNT               0\n",
       "GOODS_AMOUNT                       0\n",
       "SETLE_KND_VALUE                    0\n",
       "SETLE_CARD_CN                3541335\n",
       "DLVR_RCEPT_TIME                    0\n",
       "DLVR_CARALC_TIME               61801\n",
       "DLVR_COMPT_TIME               103240\n",
       "DLVR_CANCL_TIME              5074724\n",
       "dtype: int64"
      ]
     },
     "execution_count": 2,
     "metadata": {},
     "output_type": "execute_result"
    }
   ],
   "source": [
    "df.isnull().sum()"
   ]
  },
  {
   "cell_type": "markdown",
   "metadata": {},
   "source": [
    "- 배달접수회사정보, 도착지 정보, 결제카드 정보, 배달 시간 관련한 정보들이 상당 수 비어있음\n",
    "    - 내가 분석하고자 하는 배달기사 수익 분포 파악 관점에서는 크게 문제 없을 듯\n",
    "    - 결제카드 정보는 현금건 때문에 그럴 가능성 있음"
   ]
  },
  {
   "cell_type": "markdown",
   "metadata": {},
   "source": [
    "### 데이터 처리 \n",
    "- 필요한 컬럼만 남기기 (기사의 배송 수익과 관련된 컬럼)\n",
    "- 사용하기 쉬운 컬럼명으로 변경 "
   ]
  },
  {
   "cell_type": "code",
   "execution_count": 3,
   "metadata": {},
   "outputs": [],
   "source": [
    "delivery = df[['DLVR_REQUST_STTUS_VALUE', 'DLVR_STORE_ID', 'DLVR_STORE_INDUTY_NM',\n",
    "               'DLVR_STORE_SIDO', 'DLVR_STORE_SIGUNGU', 'DLVR_MAN_ID', 'DLVR_AMOUNT', \n",
    "               'DLVR_RCEPT_TIME', 'DLVR_CARALC_TIME', 'DLVR_COMPT_TIME', 'DLVR_CANCL_TIME'\n",
    "              ]].rename(\n",
    "                columns={'DLVR_REQUST_STTUS_VALUE':'delivery_status', 'DLVR_STORE_ID':'store_id',\n",
    "                         'DLVR_STORE_INDUTY_NM':'category','DLVR_STORE_SIDO':'store_sido', 'DLVR_STORE_SIGUNGU' : 'store_sigungu',\n",
    "                         'DLVR_MAN_ID':'rider_id', 'DLVR_AMOUNT':'rider_amt', 'DLVR_RCEPT_TIME':'receive_time', \n",
    "                         'DLVR_CARALC_TIME':'dispath_time','DLVR_COMPT_TIME':'complete_time', 'DLVR_CANCL_TIME':'cancel_time'\n",
    "            })"
   ]
  },
  {
   "cell_type": "code",
   "execution_count": 4,
   "metadata": {},
   "outputs": [
    {
     "data": {
      "text/plain": [
       "Index(['delivery_status', 'store_id', 'category', 'store_sido',\n",
       "       'store_sigungu', 'rider_id', 'rider_amt', 'receive_time',\n",
       "       'dispath_time', 'complete_time', 'cancel_time'],\n",
       "      dtype='object')"
      ]
     },
     "execution_count": 4,
     "metadata": {},
     "output_type": "execute_result"
    }
   ],
   "source": [
    "delivery.columns"
   ]
  },
  {
   "cell_type": "code",
   "execution_count": 5,
   "metadata": {},
   "outputs": [
    {
     "data": {
      "text/html": [
       "<div>\n",
       "<style scoped>\n",
       "    .dataframe tbody tr th:only-of-type {\n",
       "        vertical-align: middle;\n",
       "    }\n",
       "\n",
       "    .dataframe tbody tr th {\n",
       "        vertical-align: top;\n",
       "    }\n",
       "\n",
       "    .dataframe thead th {\n",
       "        text-align: right;\n",
       "    }\n",
       "</style>\n",
       "<table border=\"1\" class=\"dataframe\">\n",
       "  <thead>\n",
       "    <tr style=\"text-align: right;\">\n",
       "      <th></th>\n",
       "      <th>delivery_status</th>\n",
       "      <th>store_id</th>\n",
       "      <th>category</th>\n",
       "      <th>store_sido</th>\n",
       "      <th>store_sigungu</th>\n",
       "      <th>rider_id</th>\n",
       "      <th>rider_amt</th>\n",
       "      <th>receive_time</th>\n",
       "      <th>dispath_time</th>\n",
       "      <th>complete_time</th>\n",
       "      <th>cancel_time</th>\n",
       "    </tr>\n",
       "  </thead>\n",
       "  <tbody>\n",
       "    <tr>\n",
       "      <th>0</th>\n",
       "      <td>1</td>\n",
       "      <td>S0032342</td>\n",
       "      <td>치킨</td>\n",
       "      <td>경상남도</td>\n",
       "      <td>창원시 마산회원구</td>\n",
       "      <td>D0005271</td>\n",
       "      <td>4290</td>\n",
       "      <td>2020-01-01 00:15:49</td>\n",
       "      <td>2020-01-01 00:21:38</td>\n",
       "      <td>2020-01-01 00:41:37</td>\n",
       "      <td>NaN</td>\n",
       "    </tr>\n",
       "    <tr>\n",
       "      <th>1</th>\n",
       "      <td>1</td>\n",
       "      <td>S0021847</td>\n",
       "      <td>찜탕</td>\n",
       "      <td>경기도</td>\n",
       "      <td>광명시</td>\n",
       "      <td>D0003269</td>\n",
       "      <td>4800</td>\n",
       "      <td>2020-01-01 01:12:14</td>\n",
       "      <td>2020-01-01 01:21:41</td>\n",
       "      <td>2020-01-01 01:31:44</td>\n",
       "      <td>NaN</td>\n",
       "    </tr>\n",
       "    <tr>\n",
       "      <th>2</th>\n",
       "      <td>1</td>\n",
       "      <td>S0025740</td>\n",
       "      <td>치킨</td>\n",
       "      <td>서울특별시</td>\n",
       "      <td>은평구</td>\n",
       "      <td>D0001536</td>\n",
       "      <td>3300</td>\n",
       "      <td>2020-01-01 00:01:14</td>\n",
       "      <td>2020-01-01 00:01:47</td>\n",
       "      <td>2020-01-01 00:18:47</td>\n",
       "      <td>NaN</td>\n",
       "    </tr>\n",
       "    <tr>\n",
       "      <th>3</th>\n",
       "      <td>1</td>\n",
       "      <td>S0039634</td>\n",
       "      <td>한식</td>\n",
       "      <td>경기도</td>\n",
       "      <td>의정부시</td>\n",
       "      <td>D0005061</td>\n",
       "      <td>4500</td>\n",
       "      <td>2020-01-01 01:01:34</td>\n",
       "      <td>2020-01-01 01:28:06</td>\n",
       "      <td>2020-01-01 01:36:48</td>\n",
       "      <td>NaN</td>\n",
       "    </tr>\n",
       "    <tr>\n",
       "      <th>4</th>\n",
       "      <td>1</td>\n",
       "      <td>S0002237</td>\n",
       "      <td>한식</td>\n",
       "      <td>경기도</td>\n",
       "      <td>고양시 덕양구</td>\n",
       "      <td>D0005215</td>\n",
       "      <td>6500</td>\n",
       "      <td>2020-01-01 01:05:06</td>\n",
       "      <td>2020-01-01 01:08:01</td>\n",
       "      <td>2020-01-01 01:29:00</td>\n",
       "      <td>NaN</td>\n",
       "    </tr>\n",
       "  </tbody>\n",
       "</table>\n",
       "</div>"
      ],
      "text/plain": [
       "   delivery_status  store_id category store_sido store_sigungu  rider_id  \\\n",
       "0                1  S0032342       치킨       경상남도     창원시 마산회원구  D0005271   \n",
       "1                1  S0021847       찜탕        경기도           광명시  D0003269   \n",
       "2                1  S0025740       치킨      서울특별시           은평구  D0001536   \n",
       "3                1  S0039634       한식        경기도          의정부시  D0005061   \n",
       "4                1  S0002237       한식        경기도       고양시 덕양구  D0005215   \n",
       "\n",
       "   rider_amt         receive_time         dispath_time        complete_time  \\\n",
       "0       4290  2020-01-01 00:15:49  2020-01-01 00:21:38  2020-01-01 00:41:37   \n",
       "1       4800  2020-01-01 01:12:14  2020-01-01 01:21:41  2020-01-01 01:31:44   \n",
       "2       3300  2020-01-01 00:01:14  2020-01-01 00:01:47  2020-01-01 00:18:47   \n",
       "3       4500  2020-01-01 01:01:34  2020-01-01 01:28:06  2020-01-01 01:36:48   \n",
       "4       6500  2020-01-01 01:05:06  2020-01-01 01:08:01  2020-01-01 01:29:00   \n",
       "\n",
       "  cancel_time  \n",
       "0         NaN  \n",
       "1         NaN  \n",
       "2         NaN  \n",
       "3         NaN  \n",
       "4         NaN  "
      ]
     },
     "execution_count": 5,
     "metadata": {},
     "output_type": "execute_result"
    }
   ],
   "source": [
    "delivery.head()"
   ]
  },
  {
   "cell_type": "markdown",
   "metadata": {},
   "source": [
    "### 기초 분석\n",
    "- 데이터 기간\n",
    "- 배달비용 distribution"
   ]
  },
  {
   "cell_type": "code",
   "execution_count": 6,
   "metadata": {},
   "outputs": [
    {
     "name": "stdout",
     "output_type": "stream",
     "text": [
      "최소 접수 시간 -> 2020-01-01 00:00:02\n",
      "최대 접수 시간 -> 2020-06-21 23:59:55\n"
     ]
    }
   ],
   "source": [
    "# 접수 시간을 기준으로 데이터 기간 파악\n",
    "min_receive = delivery['receive_time'].min()\n",
    "max_receive = delivery['receive_time'].max()\n",
    "print(f'최소 접수 시간 -> {min_receive}')\n",
    "print(f'최대 접수 시간 -> {max_receive}')"
   ]
  },
  {
   "cell_type": "code",
   "execution_count": 7,
   "metadata": {},
   "outputs": [
    {
     "name": "stdout",
     "output_type": "stream",
     "text": [
      "최소 배달비용 -> 0\n",
      "최대 배달비용 -> 202100\n"
     ]
    }
   ],
   "source": [
    "# 기사 배달 비용 파악\n",
    "min_amt = delivery['rider_amt'].min()\n",
    "max_amt = delivery['rider_amt'].max()\n",
    "print(f'최소 배달비용 -> {min_amt}')\n",
    "print(f'최대 배달비용 -> {max_amt}')"
   ]
  },
  {
   "cell_type": "markdown",
   "metadata": {},
   "source": [
    "기사의 수익을 보고 싶은 것이기 때문에 배달비용이 이상한 outlier들은 제거가 필요함"
   ]
  },
  {
   "cell_type": "code",
   "execution_count": 48,
   "metadata": {},
   "outputs": [],
   "source": [
    "delivery['rider_amt_refine'] = (delivery['rider_amt']/1000).apply(np.floor) * 1000\n",
    "# tempDF['int_measure'] = tempDF['measure'].apply(np.floor)"
   ]
  },
  {
   "cell_type": "code",
   "execution_count": 49,
   "metadata": {},
   "outputs": [
    {
     "data": {
      "text/plain": [
       "0          4000.0\n",
       "1          4000.0\n",
       "2          3000.0\n",
       "3          4000.0\n",
       "4          6000.0\n",
       "5          3000.0\n",
       "6          3000.0\n",
       "7          3000.0\n",
       "8          4000.0\n",
       "9          3000.0\n",
       "10         4000.0\n",
       "11         3000.0\n",
       "12         3000.0\n",
       "13         4000.0\n",
       "14         3000.0\n",
       "15         3000.0\n",
       "16         4000.0\n",
       "17         3000.0\n",
       "18         3000.0\n",
       "19         3000.0\n",
       "20         4000.0\n",
       "21         3000.0\n",
       "22         5000.0\n",
       "23         3000.0\n",
       "24         3000.0\n",
       "25         4000.0\n",
       "26         4000.0\n",
       "27         4000.0\n",
       "28         5000.0\n",
       "29         4000.0\n",
       "            ...  \n",
       "5158294    3000.0\n",
       "5158295    3000.0\n",
       "5158296    3000.0\n",
       "5158297    3000.0\n",
       "5158298    3000.0\n",
       "5158299    3000.0\n",
       "5158300    3000.0\n",
       "5158301    4000.0\n",
       "5158302    3000.0\n",
       "5158303    4000.0\n",
       "5158304    5000.0\n",
       "5158305    5000.0\n",
       "5158306    3000.0\n",
       "5158307    3000.0\n",
       "5158308    3000.0\n",
       "5158309    5000.0\n",
       "5158310    4000.0\n",
       "5158311    3000.0\n",
       "5158312    3000.0\n",
       "5158313    4000.0\n",
       "5158314    4000.0\n",
       "5158315    3000.0\n",
       "5158316    3000.0\n",
       "5158317    3000.0\n",
       "5158318    3000.0\n",
       "5158319    3000.0\n",
       "5158320    3000.0\n",
       "5158321    3000.0\n",
       "5158322    3000.0\n",
       "5158323    4000.0\n",
       "Name: rider_amt_refine, Length: 5158324, dtype: float64"
      ]
     },
     "execution_count": 49,
     "metadata": {},
     "output_type": "execute_result"
    }
   ],
   "source": [
    "delivery['rider_amt_refine']"
   ]
  },
  {
   "cell_type": "markdown",
   "metadata": {},
   "source": [
    "20년 1월 ~ 6월까지 대략 6개월 정도의 데이터 "
   ]
  },
  {
   "cell_type": "markdown",
   "metadata": {},
   "source": [
    "- 월별 데이터 개수 파악"
   ]
  },
  {
   "cell_type": "markdown",
   "metadata": {},
   "source": [
    "- 카테고리, 지역, 거리(걸리는 시간으로 대체)별 수익"
   ]
  },
  {
   "cell_type": "markdown",
   "metadata": {},
   "source": [
    "- 시간당 평균, 월급"
   ]
  },
  {
   "cell_type": "code",
   "execution_count": 29,
   "metadata": {},
   "outputs": [],
   "source": [
    "\n",
    "delivery['receive_month'] = pd.DatetimeIndex(delivery['receive_time']).month"
   ]
  },
  {
   "cell_type": "code",
   "execution_count": 30,
   "metadata": {},
   "outputs": [
    {
     "data": {
      "text/html": [
       "<div>\n",
       "<style scoped>\n",
       "    .dataframe tbody tr th:only-of-type {\n",
       "        vertical-align: middle;\n",
       "    }\n",
       "\n",
       "    .dataframe tbody tr th {\n",
       "        vertical-align: top;\n",
       "    }\n",
       "\n",
       "    .dataframe thead th {\n",
       "        text-align: right;\n",
       "    }\n",
       "</style>\n",
       "<table border=\"1\" class=\"dataframe\">\n",
       "  <thead>\n",
       "    <tr style=\"text-align: right;\">\n",
       "      <th></th>\n",
       "      <th>delivery_status</th>\n",
       "      <th>store_id</th>\n",
       "      <th>category</th>\n",
       "      <th>store_sido</th>\n",
       "      <th>store_sigungu</th>\n",
       "      <th>rider_id</th>\n",
       "      <th>rider_amt</th>\n",
       "      <th>receive_time</th>\n",
       "      <th>dispath_time</th>\n",
       "      <th>complete_time</th>\n",
       "      <th>cancel_time</th>\n",
       "      <th>receive_month</th>\n",
       "    </tr>\n",
       "  </thead>\n",
       "  <tbody>\n",
       "    <tr>\n",
       "      <th>0</th>\n",
       "      <td>1</td>\n",
       "      <td>S0032342</td>\n",
       "      <td>치킨</td>\n",
       "      <td>경상남도</td>\n",
       "      <td>창원시 마산회원구</td>\n",
       "      <td>D0005271</td>\n",
       "      <td>4290</td>\n",
       "      <td>2020-01-01 00:15:49</td>\n",
       "      <td>2020-01-01 00:21:38</td>\n",
       "      <td>2020-01-01 00:41:37</td>\n",
       "      <td>NaN</td>\n",
       "      <td>1</td>\n",
       "    </tr>\n",
       "    <tr>\n",
       "      <th>1</th>\n",
       "      <td>1</td>\n",
       "      <td>S0021847</td>\n",
       "      <td>찜탕</td>\n",
       "      <td>경기도</td>\n",
       "      <td>광명시</td>\n",
       "      <td>D0003269</td>\n",
       "      <td>4800</td>\n",
       "      <td>2020-01-01 01:12:14</td>\n",
       "      <td>2020-01-01 01:21:41</td>\n",
       "      <td>2020-01-01 01:31:44</td>\n",
       "      <td>NaN</td>\n",
       "      <td>1</td>\n",
       "    </tr>\n",
       "    <tr>\n",
       "      <th>2</th>\n",
       "      <td>1</td>\n",
       "      <td>S0025740</td>\n",
       "      <td>치킨</td>\n",
       "      <td>서울특별시</td>\n",
       "      <td>은평구</td>\n",
       "      <td>D0001536</td>\n",
       "      <td>3300</td>\n",
       "      <td>2020-01-01 00:01:14</td>\n",
       "      <td>2020-01-01 00:01:47</td>\n",
       "      <td>2020-01-01 00:18:47</td>\n",
       "      <td>NaN</td>\n",
       "      <td>1</td>\n",
       "    </tr>\n",
       "    <tr>\n",
       "      <th>3</th>\n",
       "      <td>1</td>\n",
       "      <td>S0039634</td>\n",
       "      <td>한식</td>\n",
       "      <td>경기도</td>\n",
       "      <td>의정부시</td>\n",
       "      <td>D0005061</td>\n",
       "      <td>4500</td>\n",
       "      <td>2020-01-01 01:01:34</td>\n",
       "      <td>2020-01-01 01:28:06</td>\n",
       "      <td>2020-01-01 01:36:48</td>\n",
       "      <td>NaN</td>\n",
       "      <td>1</td>\n",
       "    </tr>\n",
       "    <tr>\n",
       "      <th>4</th>\n",
       "      <td>1</td>\n",
       "      <td>S0002237</td>\n",
       "      <td>한식</td>\n",
       "      <td>경기도</td>\n",
       "      <td>고양시 덕양구</td>\n",
       "      <td>D0005215</td>\n",
       "      <td>6500</td>\n",
       "      <td>2020-01-01 01:05:06</td>\n",
       "      <td>2020-01-01 01:08:01</td>\n",
       "      <td>2020-01-01 01:29:00</td>\n",
       "      <td>NaN</td>\n",
       "      <td>1</td>\n",
       "    </tr>\n",
       "  </tbody>\n",
       "</table>\n",
       "</div>"
      ],
      "text/plain": [
       "   delivery_status  store_id category store_sido store_sigungu  rider_id  \\\n",
       "0                1  S0032342       치킨       경상남도     창원시 마산회원구  D0005271   \n",
       "1                1  S0021847       찜탕        경기도           광명시  D0003269   \n",
       "2                1  S0025740       치킨      서울특별시           은평구  D0001536   \n",
       "3                1  S0039634       한식        경기도          의정부시  D0005061   \n",
       "4                1  S0002237       한식        경기도       고양시 덕양구  D0005215   \n",
       "\n",
       "   rider_amt         receive_time         dispath_time        complete_time  \\\n",
       "0       4290  2020-01-01 00:15:49  2020-01-01 00:21:38  2020-01-01 00:41:37   \n",
       "1       4800  2020-01-01 01:12:14  2020-01-01 01:21:41  2020-01-01 01:31:44   \n",
       "2       3300  2020-01-01 00:01:14  2020-01-01 00:01:47  2020-01-01 00:18:47   \n",
       "3       4500  2020-01-01 01:01:34  2020-01-01 01:28:06  2020-01-01 01:36:48   \n",
       "4       6500  2020-01-01 01:05:06  2020-01-01 01:08:01  2020-01-01 01:29:00   \n",
       "\n",
       "  cancel_time  receive_month  \n",
       "0         NaN              1  \n",
       "1         NaN              1  \n",
       "2         NaN              1  \n",
       "3         NaN              1  \n",
       "4         NaN              1  "
      ]
     },
     "execution_count": 30,
     "metadata": {},
     "output_type": "execute_result"
    }
   ],
   "source": [
    "delivery.head()"
   ]
  },
  {
   "cell_type": "code",
   "execution_count": 35,
   "metadata": {},
   "outputs": [],
   "source": [
    "monthly_delivery = delivery[['receive_month', 'delivery_status']].groupby(by=['receive_month'], as_index=False) \\\n",
    "                .count() \\\n",
    "                .head(10)"
   ]
  },
  {
   "cell_type": "code",
   "execution_count": 38,
   "metadata": {},
   "outputs": [
    {
     "name": "stdout",
     "output_type": "stream",
     "text": [
      "   receive_month  delivery_status\n",
      "0              1           824058\n",
      "1              2           895861\n",
      "2              3           971131\n",
      "3              4           967309\n",
      "4              5          1023593\n",
      "5              6           476372\n",
      "총 배달건수 5158324\n"
     ]
    }
   ],
   "source": [
    "print(monthly_delivery)\n",
    "print('총 배달건수 {}'.format(len(delivery)))"
   ]
  },
  {
   "cell_type": "markdown",
   "metadata": {},
   "source": [
    "- 6월 데이터가 전체가 아닌 것 같으니 월별 수익을 볼 거면 6월은 제외해야 함\n",
    "- 또한 배달비가 0원인 것과 너무 현실과 동떨어지게 큰 배달비용은 노이즈로 보고 제거 "
   ]
  },
  {
   "cell_type": "code",
   "execution_count": 73,
   "metadata": {},
   "outputs": [],
   "source": [
    "d = delivery[(delivery['rider_amt_refine'] > 0) & (delivery['rider_amt_refine'] < 10000)]"
   ]
  },
  {
   "cell_type": "code",
   "execution_count": 82,
   "metadata": {},
   "outputs": [
    {
     "data": {
      "image/png": "[encoded data removed]",
      "text/plain": [
       "<Figure size 1080x720 with 1 Axes>"
      ]
     },
     "metadata": {
      "needs_background": "light"
     },
     "output_type": "display_data"
    }
   ],
   "source": [
    "plt.figure(figsize=(15, 10))\n",
    "plt.hist(d['rider_amt_refine'], bins=10)\n",
    "plt.xticks(np.arange(0, 10000, 1000), rotation=45)\n",
    "plt.show()"
   ]
  },
  {
   "cell_type": "markdown",
   "metadata": {},
   "source": [
    "- 거의 대부분의 배달비용이 3000원대이고 이 가격대가 시장에서의 표준 가격대임을 유추해볼 수 있음\n",
    "- 우리가 배달음식을 시켜먹을 때 배달비용으로 지불할 수 있는 최대 마지노선으로도 볼 수 있음"
   ]
  },
  {
   "cell_type": "code",
   "execution_count": null,
   "metadata": {},
   "outputs": [],
   "source": []
  }
 ],
 "metadata": {
  "kernelspec": {
   "display_name": "Python 3",
   "language": "python",
   "name": "python3"
  },
  "language_info": {
   "codemirror_mode": {
    "name": "ipython",
    "version": 3
   },
   "file_extension": ".py",
   "mimetype": "text/x-python",
   "name": "python",
   "nbconvert_exporter": "python",
   "pygments_lexer": "ipython3",
   "version": "3.7.7"
  }
 },
 "nbformat": 4,
 "nbformat_minor": 2
}
