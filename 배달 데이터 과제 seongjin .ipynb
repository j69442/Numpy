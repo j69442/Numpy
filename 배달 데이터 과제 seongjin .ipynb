{
 "cells": [
  {
   "cell_type": "markdown",
   "metadata": {},
   "source": [
    "# 배달 데이터 그룹화에 따른 변화 살펴보기\n",
    "\n",
    "\n",
    "* 그룹화는 비슷한 집단끼리 묶어줌에 따라 정보의 특성을 더 활용도 있게 살펴 볼 수 있다고 봄.\n",
    "\n",
    "* 예를 들면 시도로 나누는 방법, 시군구로 나누는방법이 대표적이며, \n",
    "\n",
    "* 때에 따라서는 코로나확진자수가 많이나온 지역, 1인가구 또는 아파트비율이 높고낮게 형성된 지역에 따라\n",
    "\n",
    "* 배달데이터 건수 또는 배달품목의 변화가 있을것으로 보고 분류(군집)분석을 초점에서 분석을 실시했습니다."
   ]
  },
  {
   "cell_type": "code",
   "execution_count": 3,
   "metadata": {},
   "outputs": [
    {
     "ename": "SyntaxError",
     "evalue": "invalid syntax (<ipython-input-3-036a9cfae797>, line 5)",
     "output_type": "error",
     "traceback": [
      "\u001b[1;36m  File \u001b[1;32m\"<ipython-input-3-036a9cfae797>\"\u001b[1;36m, line \u001b[1;32m5\u001b[0m\n\u001b[1;33m    delivery   : 배달 호출 데이터\u001b[0m\n\u001b[1;37m                     ^\u001b[0m\n\u001b[1;31mSyntaxError\u001b[0m\u001b[1;31m:\u001b[0m invalid syntax\n"
     ]
    }
   ],
   "source": [
    "# 배달 데이터 분석\n",
    "\n",
    "# 사용한 데이터셋\n",
    "\n",
    "delivery   : 배달 호출 데이터\n",
    "covid_conf : 코로나확진자수,사망자수 출처: 통계청\n",
    "        \n",
    "# 데이터 셋 열\n",
    "\n",
    "- Delivery 데이터 전처리\n",
    "# 사용한 배달 호출 정보 데이터 열\n",
    "PROCESS_DT : 처리일시\n",
    "DLVR_STORE_ID : 배달상점ID\n",
    "DLVR_STORE_INDUTY_NM : 배달상점 업종이름\n",
    "DLVR_DSTN_SIDO : 배달목적지 주소 법정동 시도명\n",
    "DLVR_DSTN_SIGUNGU : 배달목적지 주소 법정동 시군구명\n",
    "DLVR_DSTN_DONG : 배달목적지 주소 법정동 읍면동명\n",
    "DLVR_DSTN_ADSTRD_CODE : 배달목적지 주소 행정동 코드\n",
    "DLVR_DSTN_RDNMADR_CODE : 배달목적지주소 도로명주소 코드\n",
    "GOODS_AMOUNT : 배달상품금액\n",
    "SETLE_KND_VALUE : 결제종류번호 (1:카드, 2:선불, 3:현금)\n",
    "DLVR_RCEPT_TIME : 배달접수시간\n",
    "    \n",
    "- Covid 데이터\n",
    "conf : 확진자 수\n",
    "death : 사망자 수"
   ]
  },
  {
   "cell_type": "code",
   "execution_count": 11,
   "metadata": {},
   "outputs": [
    {
     "name": "stdout",
     "output_type": "stream",
     "text": [
      "Collecting plotly\n",
      "  Downloading plotly-4.12.0-py2.py3-none-any.whl (13.1 MB)\n",
      "Collecting retrying>=1.3.3\n",
      "  Downloading retrying-1.3.3.tar.gz (10 kB)\n",
      "Requirement already satisfied: six in c:\\programdata\\anaconda3\\lib\\site-packages (from plotly) (1.14.0)\n",
      "Building wheels for collected packages: retrying\n",
      "  Building wheel for retrying (setup.py): started\n",
      "  Building wheel for retrying (setup.py): finished with status 'done'\n",
      "  Created wheel for retrying: filename=retrying-1.3.3-py3-none-any.whl size=11435 sha256=34471d5018d6c7fe70c3bb0620f92749c98b04fb0a51ae118217f90b2fbbd327\n",
      "  Stored in directory: c:\\users\\박성진~1\\appdata\\local\\pip\\cache\\wheels\\f9\\8d\\8d\\f6af3f7f9eea3553bc2fe6d53e4b287dad18b06a861ac56ddf\n",
      "Successfully built retrying\n",
      "Installing collected packages: retrying, plotly\n",
      "Successfully installed plotly-4.12.0 retrying-1.3.3\n",
      "Note: you may need to restart the kernel to use updated packages.\n"
     ]
    }
   ],
   "source": [
    "pip install plotly"
   ]
  },
  {
   "cell_type": "code",
   "execution_count": 1,
   "metadata": {},
   "outputs": [],
   "source": [
    "import numpy as np\n",
    "import pandas as pd\n",
    "import warnings\n",
    "warnings.filterwarnings(action='ignore')\n",
    "\n",
    "import matplotlib.pyplot as plt\n",
    "\n",
    "\n",
    "from IPython.display import Image"
   ]
  },
  {
   "cell_type": "code",
   "execution_count": 2,
   "metadata": {},
   "outputs": [
    {
     "data": {
      "text/html": [
       "        <script type=\"text/javascript\">\n",
       "        window.PlotlyConfig = {MathJaxConfig: 'local'};\n",
       "        if (window.MathJax) {MathJax.Hub.Config({SVG: {font: \"STIX-Web\"}});}\n",
       "        if (typeof require !== 'undefined') {\n",
       "        require.undef(\"plotly\");\n",
       "        requirejs.config({\n",
       "            paths: {\n",
       "                'plotly': ['https://cdn.plot.ly/plotly-latest.min']\n",
       "            }\n",
       "        });\n",
       "        require(['plotly'], function(Plotly) {\n",
       "            window._Plotly = Plotly;\n",
       "        });\n",
       "        }\n",
       "        </script>\n",
       "        "
      ]
     },
     "metadata": {},
     "output_type": "display_data"
    }
   ],
   "source": [
    "# 그래프 그리기 위한 plotly\n",
    "import plotly.express as px\n",
    "\n",
    "import plotly.io as pio\n",
    "pio.renderers.default = \"notebook_connected\"\n",
    "\n",
    "import plotly.offline as pyo\n",
    "import plotly.graph_objs as go\n",
    "\n",
    "from plotly.offline import init_notebook_mode, iplot\n",
    "\n",
    "init_notebook_mode(connected=True)"
   ]
  },
  {
   "cell_type": "code",
   "execution_count": 3,
   "metadata": {},
   "outputs": [
    {
     "data": {
      "text/html": [
       "<div>\n",
       "<style scoped>\n",
       "    .dataframe tbody tr th:only-of-type {\n",
       "        vertical-align: middle;\n",
       "    }\n",
       "\n",
       "    .dataframe tbody tr th {\n",
       "        vertical-align: top;\n",
       "    }\n",
       "\n",
       "    .dataframe thead th {\n",
       "        text-align: right;\n",
       "    }\n",
       "</style>\n",
       "<table border=\"1\" class=\"dataframe\">\n",
       "  <thead>\n",
       "    <tr style=\"text-align: right;\">\n",
       "      <th></th>\n",
       "      <th>SERIAL_NUMBER</th>\n",
       "      <th>PROCESS_DT</th>\n",
       "      <th>DLVR_RQESTER_ID</th>\n",
       "      <th>DLVR_REQUST_STTUS_VALUE</th>\n",
       "      <th>DLVR_RCEPT_CMPNY_ID</th>\n",
       "      <th>DLVR_STORE_ID</th>\n",
       "      <th>DLVR_STORE_INDUTY_NM</th>\n",
       "      <th>DLVR_STORE_LEGALDONG_CODE</th>\n",
       "      <th>DLVR_STORE_SIDO</th>\n",
       "      <th>DLVR_STORE_SIGUNGU</th>\n",
       "      <th>...</th>\n",
       "      <th>DLVR_MAN_ID</th>\n",
       "      <th>DLVR_AMOUNT</th>\n",
       "      <th>CALL_RLAY_FEE_AMOUNT</th>\n",
       "      <th>GOODS_AMOUNT</th>\n",
       "      <th>SETLE_KND_VALUE</th>\n",
       "      <th>SETLE_CARD_CN</th>\n",
       "      <th>DLVR_RCEPT_TIME</th>\n",
       "      <th>DLVR_CARALC_TIME</th>\n",
       "      <th>DLVR_COMPT_TIME</th>\n",
       "      <th>DLVR_CANCL_TIME</th>\n",
       "    </tr>\n",
       "  </thead>\n",
       "  <tbody>\n",
       "    <tr>\n",
       "      <th>0</th>\n",
       "      <td>4577985</td>\n",
       "      <td>2020-01-01</td>\n",
       "      <td>C000035</td>\n",
       "      <td>1</td>\n",
       "      <td>C000035</td>\n",
       "      <td>S0032342</td>\n",
       "      <td>치킨</td>\n",
       "      <td>4812710600</td>\n",
       "      <td>경상남도</td>\n",
       "      <td>창원시 마산회원구</td>\n",
       "      <td>...</td>\n",
       "      <td>D0005271</td>\n",
       "      <td>4290</td>\n",
       "      <td>300</td>\n",
       "      <td>25000</td>\n",
       "      <td>1</td>\n",
       "      <td>승인:비씨카드사</td>\n",
       "      <td>2020-01-01 00:15:49</td>\n",
       "      <td>2020-01-01 00:21:38</td>\n",
       "      <td>2020-01-01 00:41:37</td>\n",
       "      <td>NaN</td>\n",
       "    </tr>\n",
       "    <tr>\n",
       "      <th>1</th>\n",
       "      <td>4577986</td>\n",
       "      <td>2020-01-01</td>\n",
       "      <td>C000237</td>\n",
       "      <td>1</td>\n",
       "      <td>C000237</td>\n",
       "      <td>S0021847</td>\n",
       "      <td>찜탕</td>\n",
       "      <td>4121010200</td>\n",
       "      <td>경기도</td>\n",
       "      <td>광명시</td>\n",
       "      <td>...</td>\n",
       "      <td>D0003269</td>\n",
       "      <td>4800</td>\n",
       "      <td>200</td>\n",
       "      <td>49000</td>\n",
       "      <td>2</td>\n",
       "      <td>NaN</td>\n",
       "      <td>2020-01-01 01:12:14</td>\n",
       "      <td>2020-01-01 01:21:41</td>\n",
       "      <td>2020-01-01 01:31:44</td>\n",
       "      <td>NaN</td>\n",
       "    </tr>\n",
       "    <tr>\n",
       "      <th>2</th>\n",
       "      <td>4577988</td>\n",
       "      <td>2020-01-01</td>\n",
       "      <td>C000129</td>\n",
       "      <td>1</td>\n",
       "      <td>C000129</td>\n",
       "      <td>S0025740</td>\n",
       "      <td>치킨</td>\n",
       "      <td>1138010400</td>\n",
       "      <td>서울특별시</td>\n",
       "      <td>은평구</td>\n",
       "      <td>...</td>\n",
       "      <td>D0001536</td>\n",
       "      <td>3300</td>\n",
       "      <td>300</td>\n",
       "      <td>23000</td>\n",
       "      <td>3</td>\n",
       "      <td>승인:</td>\n",
       "      <td>2020-01-01 00:01:14</td>\n",
       "      <td>2020-01-01 00:01:47</td>\n",
       "      <td>2020-01-01 00:18:47</td>\n",
       "      <td>NaN</td>\n",
       "    </tr>\n",
       "    <tr>\n",
       "      <th>3</th>\n",
       "      <td>4577989</td>\n",
       "      <td>2020-01-01</td>\n",
       "      <td>C000029</td>\n",
       "      <td>1</td>\n",
       "      <td>C000043</td>\n",
       "      <td>S0039634</td>\n",
       "      <td>한식</td>\n",
       "      <td>4115010100</td>\n",
       "      <td>경기도</td>\n",
       "      <td>의정부시</td>\n",
       "      <td>...</td>\n",
       "      <td>D0005061</td>\n",
       "      <td>4500</td>\n",
       "      <td>300</td>\n",
       "      <td>20000</td>\n",
       "      <td>2</td>\n",
       "      <td>NaN</td>\n",
       "      <td>2020-01-01 01:01:34</td>\n",
       "      <td>2020-01-01 01:28:06</td>\n",
       "      <td>2020-01-01 01:36:48</td>\n",
       "      <td>NaN</td>\n",
       "    </tr>\n",
       "    <tr>\n",
       "      <th>4</th>\n",
       "      <td>4577991</td>\n",
       "      <td>2020-01-01</td>\n",
       "      <td>C000130</td>\n",
       "      <td>1</td>\n",
       "      <td>C000130</td>\n",
       "      <td>S0002237</td>\n",
       "      <td>한식</td>\n",
       "      <td>4128112800</td>\n",
       "      <td>경기도</td>\n",
       "      <td>고양시 덕양구</td>\n",
       "      <td>...</td>\n",
       "      <td>D0005215</td>\n",
       "      <td>6500</td>\n",
       "      <td>300</td>\n",
       "      <td>32000</td>\n",
       "      <td>2</td>\n",
       "      <td>NaN</td>\n",
       "      <td>2020-01-01 01:05:06</td>\n",
       "      <td>2020-01-01 01:08:01</td>\n",
       "      <td>2020-01-01 01:29:00</td>\n",
       "      <td>NaN</td>\n",
       "    </tr>\n",
       "    <tr>\n",
       "      <th>...</th>\n",
       "      <td>...</td>\n",
       "      <td>...</td>\n",
       "      <td>...</td>\n",
       "      <td>...</td>\n",
       "      <td>...</td>\n",
       "      <td>...</td>\n",
       "      <td>...</td>\n",
       "      <td>...</td>\n",
       "      <td>...</td>\n",
       "      <td>...</td>\n",
       "      <td>...</td>\n",
       "      <td>...</td>\n",
       "      <td>...</td>\n",
       "      <td>...</td>\n",
       "      <td>...</td>\n",
       "      <td>...</td>\n",
       "      <td>...</td>\n",
       "      <td>...</td>\n",
       "      <td>...</td>\n",
       "      <td>...</td>\n",
       "      <td>...</td>\n",
       "    </tr>\n",
       "    <tr>\n",
       "      <th>5158319</th>\n",
       "      <td>10672688</td>\n",
       "      <td>2020-06-21</td>\n",
       "      <td>C000312</td>\n",
       "      <td>1</td>\n",
       "      <td>C000312</td>\n",
       "      <td>S0029529</td>\n",
       "      <td>야식</td>\n",
       "      <td>4125010200</td>\n",
       "      <td>경기도</td>\n",
       "      <td>동두천시</td>\n",
       "      <td>...</td>\n",
       "      <td>D0013004</td>\n",
       "      <td>3000</td>\n",
       "      <td>500</td>\n",
       "      <td>26000</td>\n",
       "      <td>1</td>\n",
       "      <td>승인:하나카드</td>\n",
       "      <td>2020-06-21 22:48:22</td>\n",
       "      <td>2020-06-21 22:48:37</td>\n",
       "      <td>2020-06-21 23:07:47</td>\n",
       "      <td>NaN</td>\n",
       "    </tr>\n",
       "    <tr>\n",
       "      <th>5158320</th>\n",
       "      <td>10672689</td>\n",
       "      <td>2020-06-21</td>\n",
       "      <td>C000026</td>\n",
       "      <td>1</td>\n",
       "      <td>C000026</td>\n",
       "      <td>S0026242</td>\n",
       "      <td>야식</td>\n",
       "      <td>1132010800</td>\n",
       "      <td>서울특별시</td>\n",
       "      <td>도봉구</td>\n",
       "      <td>...</td>\n",
       "      <td>D0006251</td>\n",
       "      <td>3600</td>\n",
       "      <td>55</td>\n",
       "      <td>22000</td>\n",
       "      <td>2</td>\n",
       "      <td>NaN</td>\n",
       "      <td>2020-06-21 22:57:15</td>\n",
       "      <td>2020-06-21 22:58:00</td>\n",
       "      <td>2020-06-21 23:18:20</td>\n",
       "      <td>NaN</td>\n",
       "    </tr>\n",
       "    <tr>\n",
       "      <th>5158321</th>\n",
       "      <td>10672690</td>\n",
       "      <td>2020-06-21</td>\n",
       "      <td>C000130</td>\n",
       "      <td>1</td>\n",
       "      <td>C000130</td>\n",
       "      <td>S0042234</td>\n",
       "      <td>야식</td>\n",
       "      <td>4128112300</td>\n",
       "      <td>경기도</td>\n",
       "      <td>고양시 덕양구</td>\n",
       "      <td>...</td>\n",
       "      <td>D0012754</td>\n",
       "      <td>3000</td>\n",
       "      <td>300</td>\n",
       "      <td>17000</td>\n",
       "      <td>2</td>\n",
       "      <td>NaN</td>\n",
       "      <td>2020-06-21 22:55:08</td>\n",
       "      <td>2020-06-21 22:55:22</td>\n",
       "      <td>2020-06-21 23:14:45</td>\n",
       "      <td>NaN</td>\n",
       "    </tr>\n",
       "    <tr>\n",
       "      <th>5158322</th>\n",
       "      <td>10672691</td>\n",
       "      <td>2020-06-21</td>\n",
       "      <td>C000237</td>\n",
       "      <td>1</td>\n",
       "      <td>C000237</td>\n",
       "      <td>S0021766</td>\n",
       "      <td>족발/보쌈</td>\n",
       "      <td>4121010200</td>\n",
       "      <td>경기도</td>\n",
       "      <td>광명시</td>\n",
       "      <td>...</td>\n",
       "      <td>D0004485</td>\n",
       "      <td>3630</td>\n",
       "      <td>200</td>\n",
       "      <td>53700</td>\n",
       "      <td>1</td>\n",
       "      <td>승인:비씨카드사</td>\n",
       "      <td>2020-06-21 23:10:38</td>\n",
       "      <td>2020-06-21 23:11:03</td>\n",
       "      <td>2020-06-21 23:25:10</td>\n",
       "      <td>NaN</td>\n",
       "    </tr>\n",
       "    <tr>\n",
       "      <th>5158323</th>\n",
       "      <td>10672692</td>\n",
       "      <td>2020-06-21</td>\n",
       "      <td>C000209</td>\n",
       "      <td>1</td>\n",
       "      <td>C000209</td>\n",
       "      <td>S0022227</td>\n",
       "      <td>야식</td>\n",
       "      <td>1154510300</td>\n",
       "      <td>서울특별시</td>\n",
       "      <td>금천구</td>\n",
       "      <td>...</td>\n",
       "      <td>D0006541</td>\n",
       "      <td>4730</td>\n",
       "      <td>300</td>\n",
       "      <td>46000</td>\n",
       "      <td>2</td>\n",
       "      <td>NaN</td>\n",
       "      <td>2020-06-21 23:04:50</td>\n",
       "      <td>2020-06-21 23:14:35</td>\n",
       "      <td>2020-06-21 23:28:22</td>\n",
       "      <td>NaN</td>\n",
       "    </tr>\n",
       "  </tbody>\n",
       "</table>\n",
       "<p>5158324 rows × 31 columns</p>\n",
       "</div>"
      ],
      "text/plain": [
       "         SERIAL_NUMBER  PROCESS_DT DLVR_RQESTER_ID  DLVR_REQUST_STTUS_VALUE  \\\n",
       "0              4577985  2020-01-01         C000035                        1   \n",
       "1              4577986  2020-01-01         C000237                        1   \n",
       "2              4577988  2020-01-01         C000129                        1   \n",
       "3              4577989  2020-01-01         C000029                        1   \n",
       "4              4577991  2020-01-01         C000130                        1   \n",
       "...                ...         ...             ...                      ...   \n",
       "5158319       10672688  2020-06-21         C000312                        1   \n",
       "5158320       10672689  2020-06-21         C000026                        1   \n",
       "5158321       10672690  2020-06-21         C000130                        1   \n",
       "5158322       10672691  2020-06-21         C000237                        1   \n",
       "5158323       10672692  2020-06-21         C000209                        1   \n",
       "\n",
       "        DLVR_RCEPT_CMPNY_ID DLVR_STORE_ID DLVR_STORE_INDUTY_NM  \\\n",
       "0                   C000035      S0032342                   치킨   \n",
       "1                   C000237      S0021847                   찜탕   \n",
       "2                   C000129      S0025740                   치킨   \n",
       "3                   C000043      S0039634                   한식   \n",
       "4                   C000130      S0002237                   한식   \n",
       "...                     ...           ...                  ...   \n",
       "5158319             C000312      S0029529                   야식   \n",
       "5158320             C000026      S0026242                   야식   \n",
       "5158321             C000130      S0042234                   야식   \n",
       "5158322             C000237      S0021766                족발/보쌈   \n",
       "5158323             C000209      S0022227                   야식   \n",
       "\n",
       "         DLVR_STORE_LEGALDONG_CODE DLVR_STORE_SIDO DLVR_STORE_SIGUNGU  ...  \\\n",
       "0                       4812710600            경상남도          창원시 마산회원구  ...   \n",
       "1                       4121010200             경기도                광명시  ...   \n",
       "2                       1138010400           서울특별시                은평구  ...   \n",
       "3                       4115010100             경기도               의정부시  ...   \n",
       "4                       4128112800             경기도            고양시 덕양구  ...   \n",
       "...                            ...             ...                ...  ...   \n",
       "5158319                 4125010200             경기도               동두천시  ...   \n",
       "5158320                 1132010800           서울특별시                도봉구  ...   \n",
       "5158321                 4128112300             경기도            고양시 덕양구  ...   \n",
       "5158322                 4121010200             경기도                광명시  ...   \n",
       "5158323                 1154510300           서울특별시                금천구  ...   \n",
       "\n",
       "        DLVR_MAN_ID DLVR_AMOUNT  CALL_RLAY_FEE_AMOUNT  GOODS_AMOUNT  \\\n",
       "0          D0005271        4290                   300         25000   \n",
       "1          D0003269        4800                   200         49000   \n",
       "2          D0001536        3300                   300         23000   \n",
       "3          D0005061        4500                   300         20000   \n",
       "4          D0005215        6500                   300         32000   \n",
       "...             ...         ...                   ...           ...   \n",
       "5158319    D0013004        3000                   500         26000   \n",
       "5158320    D0006251        3600                    55         22000   \n",
       "5158321    D0012754        3000                   300         17000   \n",
       "5158322    D0004485        3630                   200         53700   \n",
       "5158323    D0006541        4730                   300         46000   \n",
       "\n",
       "         SETLE_KND_VALUE SETLE_CARD_CN      DLVR_RCEPT_TIME  \\\n",
       "0                      1      승인:비씨카드사  2020-01-01 00:15:49   \n",
       "1                      2           NaN  2020-01-01 01:12:14   \n",
       "2                      3           승인:  2020-01-01 00:01:14   \n",
       "3                      2           NaN  2020-01-01 01:01:34   \n",
       "4                      2           NaN  2020-01-01 01:05:06   \n",
       "...                  ...           ...                  ...   \n",
       "5158319                1       승인:하나카드  2020-06-21 22:48:22   \n",
       "5158320                2           NaN  2020-06-21 22:57:15   \n",
       "5158321                2           NaN  2020-06-21 22:55:08   \n",
       "5158322                1      승인:비씨카드사  2020-06-21 23:10:38   \n",
       "5158323                2           NaN  2020-06-21 23:04:50   \n",
       "\n",
       "            DLVR_CARALC_TIME      DLVR_COMPT_TIME  DLVR_CANCL_TIME  \n",
       "0        2020-01-01 00:21:38  2020-01-01 00:41:37              NaN  \n",
       "1        2020-01-01 01:21:41  2020-01-01 01:31:44              NaN  \n",
       "2        2020-01-01 00:01:47  2020-01-01 00:18:47              NaN  \n",
       "3        2020-01-01 01:28:06  2020-01-01 01:36:48              NaN  \n",
       "4        2020-01-01 01:08:01  2020-01-01 01:29:00              NaN  \n",
       "...                      ...                  ...              ...  \n",
       "5158319  2020-06-21 22:48:37  2020-06-21 23:07:47              NaN  \n",
       "5158320  2020-06-21 22:58:00  2020-06-21 23:18:20              NaN  \n",
       "5158321  2020-06-21 22:55:22  2020-06-21 23:14:45              NaN  \n",
       "5158322  2020-06-21 23:11:03  2020-06-21 23:25:10              NaN  \n",
       "5158323  2020-06-21 23:14:35  2020-06-21 23:28:22              NaN  \n",
       "\n",
       "[5158324 rows x 31 columns]"
      ]
     },
     "execution_count": 3,
     "metadata": {},
     "output_type": "execute_result"
    }
   ],
   "source": [
    "# -*- coding: utf-8 -*-\n",
    "\n",
    "import pandas as pd\n",
    "\n",
    "file_path = '../data/delivery.csv'\n",
    "delivery = pd.read_csv(file_path, sep = ',', encoding='utf-8')\n",
    "delivery"
   ]
  },
  {
   "cell_type": "code",
   "execution_count": 5,
   "metadata": {},
   "outputs": [],
   "source": [
    "del_dstn = delivery.loc[:,['PROCESS_DT','DLVR_STORE_ID','DLVR_DSTN_SIDO','DLVR_DSTN_SIGUNGU','DLVR_DSTN_DONG',\n",
    "                'DLVR_DSTN_ADSTRD_CODE','DLVR_DSTN_RDNMADR_CODE','DLVR_STORE_INDUTY_NM','GOODS_AMOUNT','SETLE_KND_VALUE','DLVR_RCEPT_TIME']]"
   ]
  },
  {
   "cell_type": "code",
   "execution_count": 6,
   "metadata": {},
   "outputs": [
    {
     "data": {
      "text/html": [
       "<div>\n",
       "<style scoped>\n",
       "    .dataframe tbody tr th:only-of-type {\n",
       "        vertical-align: middle;\n",
       "    }\n",
       "\n",
       "    .dataframe tbody tr th {\n",
       "        vertical-align: top;\n",
       "    }\n",
       "\n",
       "    .dataframe thead th {\n",
       "        text-align: right;\n",
       "    }\n",
       "</style>\n",
       "<table border=\"1\" class=\"dataframe\">\n",
       "  <thead>\n",
       "    <tr style=\"text-align: right;\">\n",
       "      <th></th>\n",
       "      <th>PROCESS_DT</th>\n",
       "      <th>DLVR_STORE_ID</th>\n",
       "      <th>si_name</th>\n",
       "      <th>gu_name</th>\n",
       "      <th>dong_name</th>\n",
       "      <th>adstrd_code</th>\n",
       "      <th>DLVR_DSTN_RDNMADR_CODE</th>\n",
       "      <th>induty_nm</th>\n",
       "      <th>GOODS_AMOUNT</th>\n",
       "      <th>SETLE_KND_VALUE</th>\n",
       "      <th>DLVR_RCEPT_TIME</th>\n",
       "      <th>year</th>\n",
       "      <th>month</th>\n",
       "    </tr>\n",
       "  </thead>\n",
       "  <tbody>\n",
       "    <tr>\n",
       "      <th>0</th>\n",
       "      <td>2020-01-01</td>\n",
       "      <td>S0032342</td>\n",
       "      <td>경상남도</td>\n",
       "      <td>창원시 마산회원구</td>\n",
       "      <td>석전동</td>\n",
       "      <td>48127545</td>\n",
       "      <td>4.812748e+11</td>\n",
       "      <td>치킨</td>\n",
       "      <td>25000</td>\n",
       "      <td>1</td>\n",
       "      <td>2020-01-01 00:15:49</td>\n",
       "      <td>2020</td>\n",
       "      <td>1</td>\n",
       "    </tr>\n",
       "    <tr>\n",
       "      <th>1</th>\n",
       "      <td>2020-01-01</td>\n",
       "      <td>S0021847</td>\n",
       "      <td>서울특별시</td>\n",
       "      <td>금천구</td>\n",
       "      <td>가산동</td>\n",
       "      <td>11545510</td>\n",
       "      <td>1.154531e+11</td>\n",
       "      <td>찜탕</td>\n",
       "      <td>49000</td>\n",
       "      <td>2</td>\n",
       "      <td>2020-01-01 01:12:14</td>\n",
       "      <td>2020</td>\n",
       "      <td>1</td>\n",
       "    </tr>\n",
       "    <tr>\n",
       "      <th>2</th>\n",
       "      <td>2020-01-01</td>\n",
       "      <td>S0025740</td>\n",
       "      <td>서울특별시</td>\n",
       "      <td>은평구</td>\n",
       "      <td>갈현동</td>\n",
       "      <td>11380552</td>\n",
       "      <td>1.138041e+11</td>\n",
       "      <td>치킨</td>\n",
       "      <td>23000</td>\n",
       "      <td>3</td>\n",
       "      <td>2020-01-01 00:01:14</td>\n",
       "      <td>2020</td>\n",
       "      <td>1</td>\n",
       "    </tr>\n",
       "    <tr>\n",
       "      <th>3</th>\n",
       "      <td>2020-01-01</td>\n",
       "      <td>S0039634</td>\n",
       "      <td>경기도</td>\n",
       "      <td>의정부시</td>\n",
       "      <td>의정부동</td>\n",
       "      <td>41150510</td>\n",
       "      <td>4.115043e+11</td>\n",
       "      <td>한식</td>\n",
       "      <td>20000</td>\n",
       "      <td>2</td>\n",
       "      <td>2020-01-01 01:01:34</td>\n",
       "      <td>2020</td>\n",
       "      <td>1</td>\n",
       "    </tr>\n",
       "    <tr>\n",
       "      <th>4</th>\n",
       "      <td>2020-01-01</td>\n",
       "      <td>S0002237</td>\n",
       "      <td>경기도</td>\n",
       "      <td>고양시 덕양구</td>\n",
       "      <td>주교동</td>\n",
       "      <td>41281510</td>\n",
       "      <td>4.128144e+11</td>\n",
       "      <td>한식</td>\n",
       "      <td>32000</td>\n",
       "      <td>2</td>\n",
       "      <td>2020-01-01 01:05:06</td>\n",
       "      <td>2020</td>\n",
       "      <td>1</td>\n",
       "    </tr>\n",
       "  </tbody>\n",
       "</table>\n",
       "</div>"
      ],
      "text/plain": [
       "  PROCESS_DT DLVR_STORE_ID si_name    gu_name dong_name adstrd_code  \\\n",
       "0 2020-01-01      S0032342    경상남도  창원시 마산회원구       석전동    48127545   \n",
       "1 2020-01-01      S0021847   서울특별시        금천구       가산동    11545510   \n",
       "2 2020-01-01      S0025740   서울특별시        은평구       갈현동    11380552   \n",
       "3 2020-01-01      S0039634     경기도       의정부시      의정부동    41150510   \n",
       "4 2020-01-01      S0002237     경기도    고양시 덕양구       주교동    41281510   \n",
       "\n",
       "   DLVR_DSTN_RDNMADR_CODE induty_nm  GOODS_AMOUNT  SETLE_KND_VALUE  \\\n",
       "0            4.812748e+11        치킨         25000                1   \n",
       "1            1.154531e+11        찜탕         49000                2   \n",
       "2            1.138041e+11        치킨         23000                3   \n",
       "3            4.115043e+11        한식         20000                2   \n",
       "4            4.128144e+11        한식         32000                2   \n",
       "\n",
       "       DLVR_RCEPT_TIME  year  month  \n",
       "0  2020-01-01 00:15:49  2020      1  \n",
       "1  2020-01-01 01:12:14  2020      1  \n",
       "2  2020-01-01 00:01:14  2020      1  \n",
       "3  2020-01-01 01:01:34  2020      1  \n",
       "4  2020-01-01 01:05:06  2020      1  "
      ]
     },
     "execution_count": 6,
     "metadata": {},
     "output_type": "execute_result"
    }
   ],
   "source": [
    "# 열이름 간단하게 변경\n",
    "del_dstn = del_dstn.rename({'DLVR_DSTN_SIDO':'si_name','DLVR_DSTN_SIGUNGU':'gu_name',\n",
    "                            'DLVR_DSTN_DONG':'dong_name','DLVR_STORE_INDUTY_NM':'induty_nm','DLVR_DSTN_ADSTRD_CODE':'adstrd_code'},\n",
    "                           axis = 'columns')\n",
    "\n",
    "# 행정동코드 전처리\n",
    "del_dstn.adstrd_code = del_dstn.adstrd_code.astype(str) \n",
    "del_dstn.adstrd_code = del_dstn.adstrd_code.apply(lambda x : x[:8])\n",
    "\n",
    "# 날짜 타입 변경 및 년도, 월 열 만들기\n",
    "del_dstn['PROCESS_DT'] = pd.to_datetime(del_dstn['PROCESS_DT'], format='%Y-%m-%d')\n",
    "del_dstn['year'] = pd.DatetimeIndex(del_dstn['PROCESS_DT']).year\n",
    "del_dstn['month'] = pd.DatetimeIndex(del_dstn['PROCESS_DT']).month\n",
    "del_dstn.head()"
   ]
  },
  {
   "cell_type": "code",
   "execution_count": 7,
   "metadata": {},
   "outputs": [
    {
     "data": {
      "text/html": [
       "<div>\n",
       "<style scoped>\n",
       "    .dataframe tbody tr th:only-of-type {\n",
       "        vertical-align: middle;\n",
       "    }\n",
       "\n",
       "    .dataframe tbody tr th {\n",
       "        vertical-align: top;\n",
       "    }\n",
       "\n",
       "    .dataframe thead th {\n",
       "        text-align: right;\n",
       "    }\n",
       "</style>\n",
       "<table border=\"1\" class=\"dataframe\">\n",
       "  <thead>\n",
       "    <tr style=\"text-align: right;\">\n",
       "      <th></th>\n",
       "      <th>induty_nm</th>\n",
       "      <th>count</th>\n",
       "    </tr>\n",
       "  </thead>\n",
       "  <tbody>\n",
       "    <tr>\n",
       "      <th>0</th>\n",
       "      <td>도시락</td>\n",
       "      <td>49254</td>\n",
       "    </tr>\n",
       "    <tr>\n",
       "      <th>1</th>\n",
       "      <td>돈까스/일식</td>\n",
       "      <td>251112</td>\n",
       "    </tr>\n",
       "    <tr>\n",
       "      <th>2</th>\n",
       "      <td>배달전문업체</td>\n",
       "      <td>94837</td>\n",
       "    </tr>\n",
       "    <tr>\n",
       "      <th>3</th>\n",
       "      <td>분식</td>\n",
       "      <td>626945</td>\n",
       "    </tr>\n",
       "    <tr>\n",
       "      <th>4</th>\n",
       "      <td>심부름</td>\n",
       "      <td>5344</td>\n",
       "    </tr>\n",
       "    <tr>\n",
       "      <th>5</th>\n",
       "      <td>아시안/양식</td>\n",
       "      <td>109185</td>\n",
       "    </tr>\n",
       "    <tr>\n",
       "      <th>6</th>\n",
       "      <td>야식</td>\n",
       "      <td>226043</td>\n",
       "    </tr>\n",
       "    <tr>\n",
       "      <th>7</th>\n",
       "      <td>족발/보쌈</td>\n",
       "      <td>415060</td>\n",
       "    </tr>\n",
       "    <tr>\n",
       "      <th>8</th>\n",
       "      <td>중식</td>\n",
       "      <td>187030</td>\n",
       "    </tr>\n",
       "    <tr>\n",
       "      <th>9</th>\n",
       "      <td>찜탕</td>\n",
       "      <td>214388</td>\n",
       "    </tr>\n",
       "    <tr>\n",
       "      <th>10</th>\n",
       "      <td>치킨</td>\n",
       "      <td>1173238</td>\n",
       "    </tr>\n",
       "    <tr>\n",
       "      <th>11</th>\n",
       "      <td>카페/디저트</td>\n",
       "      <td>457830</td>\n",
       "    </tr>\n",
       "    <tr>\n",
       "      <th>12</th>\n",
       "      <td>패스트푸드</td>\n",
       "      <td>326149</td>\n",
       "    </tr>\n",
       "    <tr>\n",
       "      <th>13</th>\n",
       "      <td>피자</td>\n",
       "      <td>262246</td>\n",
       "    </tr>\n",
       "    <tr>\n",
       "      <th>14</th>\n",
       "      <td>한식</td>\n",
       "      <td>658568</td>\n",
       "    </tr>\n",
       "    <tr>\n",
       "      <th>15</th>\n",
       "      <td>회</td>\n",
       "      <td>101095</td>\n",
       "    </tr>\n",
       "  </tbody>\n",
       "</table>\n",
       "</div>"
      ],
      "text/plain": [
       "   induty_nm    count\n",
       "0        도시락    49254\n",
       "1     돈까스/일식   251112\n",
       "2     배달전문업체    94837\n",
       "3         분식   626945\n",
       "4        심부름     5344\n",
       "5     아시안/양식   109185\n",
       "6         야식   226043\n",
       "7      족발/보쌈   415060\n",
       "8         중식   187030\n",
       "9         찜탕   214388\n",
       "10        치킨  1173238\n",
       "11    카페/디저트   457830\n",
       "12     패스트푸드   326149\n",
       "13        피자   262246\n",
       "14        한식   658568\n",
       "15         회   101095"
      ]
     },
     "execution_count": 7,
     "metadata": {},
     "output_type": "execute_result"
    }
   ],
   "source": [
    "# DLVR_STORE_INDUTY_NM(업종 이름) 기준으로 묶어주기\n",
    "deliveryname = del_dstn.groupby(['induty_nm']).size().reset_index(name='count')\n",
    "\n",
    "deliveryname"
   ]
  },
  {
   "cell_type": "markdown",
   "metadata": {},
   "source": [
    "# 어떤 업종이 가장 많이 차지하는지 확인하기"
   ]
  },
  {
   "cell_type": "code",
   "execution_count": 8,
   "metadata": {},
   "outputs": [
    {
     "data": {
      "application/vnd.plotly.v1+json": {
       "config": {
        "linkText": "Export to plot.ly",
        "plotlyServerURL": "https://plot.ly",
        "showLink": false
       },
       "data": [
        {
         "type": "bar",
         "x": [
          "도시락",
          "돈까스/일식",
          "배달전문업체",
          "분식",
          "심부름",
          "아시안/양식",
          "야식",
          "족발/보쌈",
          "중식",
          "찜탕",
          "치킨",
          "카페/디저트",
          "패스트푸드",
          "피자",
          "한식",
          "회"
         ],
         "y": [
          49254,
          251112,
          94837,
          626945,
          5344,
          109185,
          226043,
          415060,
          187030,
          214388,
          1173238,
          457830,
          326149,
          262246,
          658568,
          101095
         ]
        }
       ],
       "layout": {
        "template": {
         "data": {
          "bar": [
           {
            "error_x": {
             "color": "#2a3f5f"
            },
            "error_y": {
             "color": "#2a3f5f"
            },
            "marker": {
             "line": {
              "color": "#E5ECF6",
              "width": 0.5
             }
            },
            "type": "bar"
           }
          ],
          "barpolar": [
           {
            "marker": {
             "line": {
              "color": "#E5ECF6",
              "width": 0.5
             }
            },
            "type": "barpolar"
           }
          ],
          "carpet": [
           {
            "aaxis": {
             "endlinecolor": "#2a3f5f",
             "gridcolor": "white",
             "linecolor": "white",
             "minorgridcolor": "white",
             "startlinecolor": "#2a3f5f"
            },
            "baxis": {
             "endlinecolor": "#2a3f5f",
             "gridcolor": "white",
             "linecolor": "white",
             "minorgridcolor": "white",
             "startlinecolor": "#2a3f5f"
            },
            "type": "carpet"
           }
          ],
          "choropleth": [
           {
            "colorbar": {
             "outlinewidth": 0,
             "ticks": ""
            },
            "type": "choropleth"
           }
          ],
          "contour": [
           {
            "colorbar": {
             "outlinewidth": 0,
             "ticks": ""
            },
            "colorscale": [
             [
              0,
              "#0d0887"
             ],
             [
              0.1111111111111111,
              "#46039f"
             ],
             [
              0.2222222222222222,
              "#7201a8"
             ],
             [
              0.3333333333333333,
              "#9c179e"
             ],
             [
              0.4444444444444444,
              "#bd3786"
             ],
             [
              0.5555555555555556,
              "#d8576b"
             ],
             [
              0.6666666666666666,
              "#ed7953"
             ],
             [
              0.7777777777777778,
              "#fb9f3a"
             ],
             [
              0.8888888888888888,
              "#fdca26"
             ],
             [
              1,
              "#f0f921"
             ]
            ],
            "type": "contour"
           }
          ],
          "contourcarpet": [
           {
            "colorbar": {
             "outlinewidth": 0,
             "ticks": ""
            },
            "type": "contourcarpet"
           }
          ],
          "heatmap": [
           {
            "colorbar": {
             "outlinewidth": 0,
             "ticks": ""
            },
            "colorscale": [
             [
              0,
              "#0d0887"
             ],
             [
              0.1111111111111111,
              "#46039f"
             ],
             [
              0.2222222222222222,
              "#7201a8"
             ],
             [
              0.3333333333333333,
              "#9c179e"
             ],
             [
              0.4444444444444444,
              "#bd3786"
             ],
             [
              0.5555555555555556,
              "#d8576b"
             ],
             [
              0.6666666666666666,
              "#ed7953"
             ],
             [
              0.7777777777777778,
              "#fb9f3a"
             ],
             [
              0.8888888888888888,
              "#fdca26"
             ],
             [
              1,
              "#f0f921"
             ]
            ],
            "type": "heatmap"
           }
          ],
          "heatmapgl": [
           {
            "colorbar": {
             "outlinewidth": 0,
             "ticks": ""
            },
            "colorscale": [
             [
              0,
              "#0d0887"
             ],
             [
              0.1111111111111111,
              "#46039f"
             ],
             [
              0.2222222222222222,
              "#7201a8"
             ],
             [
              0.3333333333333333,
              "#9c179e"
             ],
             [
              0.4444444444444444,
              "#bd3786"
             ],
             [
              0.5555555555555556,
              "#d8576b"
             ],
             [
              0.6666666666666666,
              "#ed7953"
             ],
             [
              0.7777777777777778,
              "#fb9f3a"
             ],
             [
              0.8888888888888888,
              "#fdca26"
             ],
             [
              1,
              "#f0f921"
             ]
            ],
            "type": "heatmapgl"
           }
          ],
          "histogram": [
           {
            "marker": {
             "colorbar": {
              "outlinewidth": 0,
              "ticks": ""
             }
            },
            "type": "histogram"
           }
          ],
          "histogram2d": [
           {
            "colorbar": {
             "outlinewidth": 0,
             "ticks": ""
            },
            "colorscale": [
             [
              0,
              "#0d0887"
             ],
             [
              0.1111111111111111,
              "#46039f"
             ],
             [
              0.2222222222222222,
              "#7201a8"
             ],
             [
              0.3333333333333333,
              "#9c179e"
             ],
             [
              0.4444444444444444,
              "#bd3786"
             ],
             [
              0.5555555555555556,
              "#d8576b"
             ],
             [
              0.6666666666666666,
              "#ed7953"
             ],
             [
              0.7777777777777778,
              "#fb9f3a"
             ],
             [
              0.8888888888888888,
              "#fdca26"
             ],
             [
              1,
              "#f0f921"
             ]
            ],
            "type": "histogram2d"
           }
          ],
          "histogram2dcontour": [
           {
            "colorbar": {
             "outlinewidth": 0,
             "ticks": ""
            },
            "colorscale": [
             [
              0,
              "#0d0887"
             ],
             [
              0.1111111111111111,
              "#46039f"
             ],
             [
              0.2222222222222222,
              "#7201a8"
             ],
             [
              0.3333333333333333,
              "#9c179e"
             ],
             [
              0.4444444444444444,
              "#bd3786"
             ],
             [
              0.5555555555555556,
              "#d8576b"
             ],
             [
              0.6666666666666666,
              "#ed7953"
             ],
             [
              0.7777777777777778,
              "#fb9f3a"
             ],
             [
              0.8888888888888888,
              "#fdca26"
             ],
             [
              1,
              "#f0f921"
             ]
            ],
            "type": "histogram2dcontour"
           }
          ],
          "mesh3d": [
           {
            "colorbar": {
             "outlinewidth": 0,
             "ticks": ""
            },
            "type": "mesh3d"
           }
          ],
          "parcoords": [
           {
            "line": {
             "colorbar": {
              "outlinewidth": 0,
              "ticks": ""
             }
            },
            "type": "parcoords"
           }
          ],
          "pie": [
           {
            "automargin": true,
            "type": "pie"
           }
          ],
          "scatter": [
           {
            "marker": {
             "colorbar": {
              "outlinewidth": 0,
              "ticks": ""
             }
            },
            "type": "scatter"
           }
          ],
          "scatter3d": [
           {
            "line": {
             "colorbar": {
              "outlinewidth": 0,
              "ticks": ""
             }
            },
            "marker": {
             "colorbar": {
              "outlinewidth": 0,
              "ticks": ""
             }
            },
            "type": "scatter3d"
           }
          ],
          "scattercarpet": [
           {
            "marker": {
             "colorbar": {
              "outlinewidth": 0,
              "ticks": ""
             }
            },
            "type": "scattercarpet"
           }
          ],
          "scattergeo": [
           {
            "marker": {
             "colorbar": {
              "outlinewidth": 0,
              "ticks": ""
             }
            },
            "type": "scattergeo"
           }
          ],
          "scattergl": [
           {
            "marker": {
             "colorbar": {
              "outlinewidth": 0,
              "ticks": ""
             }
            },
            "type": "scattergl"
           }
          ],
          "scattermapbox": [
           {
            "marker": {
             "colorbar": {
              "outlinewidth": 0,
              "ticks": ""
             }
            },
            "type": "scattermapbox"
           }
          ],
          "scatterpolar": [
           {
            "marker": {
             "colorbar": {
              "outlinewidth": 0,
              "ticks": ""
             }
            },
            "type": "scatterpolar"
           }
          ],
          "scatterpolargl": [
           {
            "marker": {
             "colorbar": {
              "outlinewidth": 0,
              "ticks": ""
             }
            },
            "type": "scatterpolargl"
           }
          ],
          "scatterternary": [
           {
            "marker": {
             "colorbar": {
              "outlinewidth": 0,
              "ticks": ""
             }
            },
            "type": "scatterternary"
           }
          ],
          "surface": [
           {
            "colorbar": {
             "outlinewidth": 0,
             "ticks": ""
            },
            "colorscale": [
             [
              0,
              "#0d0887"
             ],
             [
              0.1111111111111111,
              "#46039f"
             ],
             [
              0.2222222222222222,
              "#7201a8"
             ],
             [
              0.3333333333333333,
              "#9c179e"
             ],
             [
              0.4444444444444444,
              "#bd3786"
             ],
             [
              0.5555555555555556,
              "#d8576b"
             ],
             [
              0.6666666666666666,
              "#ed7953"
             ],
             [
              0.7777777777777778,
              "#fb9f3a"
             ],
             [
              0.8888888888888888,
              "#fdca26"
             ],
             [
              1,
              "#f0f921"
             ]
            ],
            "type": "surface"
           }
          ],
          "table": [
           {
            "cells": {
             "fill": {
              "color": "#EBF0F8"
             },
             "line": {
              "color": "white"
             }
            },
            "header": {
             "fill": {
              "color": "#C8D4E3"
             },
             "line": {
              "color": "white"
             }
            },
            "type": "table"
           }
          ]
         },
         "layout": {
          "annotationdefaults": {
           "arrowcolor": "#2a3f5f",
           "arrowhead": 0,
           "arrowwidth": 1
          },
          "coloraxis": {
           "colorbar": {
            "outlinewidth": 0,
            "ticks": ""
           }
          },
          "colorscale": {
           "diverging": [
            [
             0,
             "#8e0152"
            ],
            [
             0.1,
             "#c51b7d"
            ],
            [
             0.2,
             "#de77ae"
            ],
            [
             0.3,
             "#f1b6da"
            ],
            [
             0.4,
             "#fde0ef"
            ],
            [
             0.5,
             "#f7f7f7"
            ],
            [
             0.6,
             "#e6f5d0"
            ],
            [
             0.7,
             "#b8e186"
            ],
            [
             0.8,
             "#7fbc41"
            ],
            [
             0.9,
             "#4d9221"
            ],
            [
             1,
             "#276419"
            ]
           ],
           "sequential": [
            [
             0,
             "#0d0887"
            ],
            [
             0.1111111111111111,
             "#46039f"
            ],
            [
             0.2222222222222222,
             "#7201a8"
            ],
            [
             0.3333333333333333,
             "#9c179e"
            ],
            [
             0.4444444444444444,
             "#bd3786"
            ],
            [
             0.5555555555555556,
             "#d8576b"
            ],
            [
             0.6666666666666666,
             "#ed7953"
            ],
            [
             0.7777777777777778,
             "#fb9f3a"
            ],
            [
             0.8888888888888888,
             "#fdca26"
            ],
            [
             1,
             "#f0f921"
            ]
           ],
           "sequentialminus": [
            [
             0,
             "#0d0887"
            ],
            [
             0.1111111111111111,
             "#46039f"
            ],
            [
             0.2222222222222222,
             "#7201a8"
            ],
            [
             0.3333333333333333,
             "#9c179e"
            ],
            [
             0.4444444444444444,
             "#bd3786"
            ],
            [
             0.5555555555555556,
             "#d8576b"
            ],
            [
             0.6666666666666666,
             "#ed7953"
            ],
            [
             0.7777777777777778,
             "#fb9f3a"
            ],
            [
             0.8888888888888888,
             "#fdca26"
            ],
            [
             1,
             "#f0f921"
            ]
           ]
          },
          "colorway": [
           "#636efa",
           "#EF553B",
           "#00cc96",
           "#ab63fa",
           "#FFA15A",
           "#19d3f3",
           "#FF6692",
           "#B6E880",
           "#FF97FF",
           "#FECB52"
          ],
          "font": {
           "color": "#2a3f5f"
          },
          "geo": {
           "bgcolor": "white",
           "lakecolor": "white",
           "landcolor": "#E5ECF6",
           "showlakes": true,
           "showland": true,
           "subunitcolor": "white"
          },
          "hoverlabel": {
           "align": "left"
          },
          "hovermode": "closest",
          "mapbox": {
           "style": "light"
          },
          "paper_bgcolor": "white",
          "plot_bgcolor": "#E5ECF6",
          "polar": {
           "angularaxis": {
            "gridcolor": "white",
            "linecolor": "white",
            "ticks": ""
           },
           "bgcolor": "#E5ECF6",
           "radialaxis": {
            "gridcolor": "white",
            "linecolor": "white",
            "ticks": ""
           }
          },
          "scene": {
           "xaxis": {
            "backgroundcolor": "#E5ECF6",
            "gridcolor": "white",
            "gridwidth": 2,
            "linecolor": "white",
            "showbackground": true,
            "ticks": "",
            "zerolinecolor": "white"
           },
           "yaxis": {
            "backgroundcolor": "#E5ECF6",
            "gridcolor": "white",
            "gridwidth": 2,
            "linecolor": "white",
            "showbackground": true,
            "ticks": "",
            "zerolinecolor": "white"
           },
           "zaxis": {
            "backgroundcolor": "#E5ECF6",
            "gridcolor": "white",
            "gridwidth": 2,
            "linecolor": "white",
            "showbackground": true,
            "ticks": "",
            "zerolinecolor": "white"
           }
          },
          "shapedefaults": {
           "line": {
            "color": "#2a3f5f"
           }
          },
          "ternary": {
           "aaxis": {
            "gridcolor": "white",
            "linecolor": "white",
            "ticks": ""
           },
           "baxis": {
            "gridcolor": "white",
            "linecolor": "white",
            "ticks": ""
           },
           "bgcolor": "#E5ECF6",
           "caxis": {
            "gridcolor": "white",
            "linecolor": "white",
            "ticks": ""
           }
          },
          "title": {
           "x": 0.05
          },
          "xaxis": {
           "automargin": true,
           "gridcolor": "white",
           "linecolor": "white",
           "ticks": "",
           "title": {
            "standoff": 15
           },
           "zerolinecolor": "white",
           "zerolinewidth": 2
          },
          "yaxis": {
           "automargin": true,
           "gridcolor": "white",
           "linecolor": "white",
           "ticks": "",
           "title": {
            "standoff": 15
           },
           "zerolinecolor": "white",
           "zerolinewidth": 2
          }
         }
        },
        "title": {
         "text": "업종별 배달비율"
        }
       }
      },
      "text/html": [
       "<div>                            <div id=\"44bbf102-a41e-492a-b185-e02e796c8c51\" class=\"plotly-graph-div\" style=\"height:525px; width:100%;\"></div>            <script type=\"text/javascript\">                require([\"plotly\"], function(Plotly) {                    window.PLOTLYENV=window.PLOTLYENV || {};                                    if (document.getElementById(\"44bbf102-a41e-492a-b185-e02e796c8c51\")) {                    Plotly.newPlot(                        \"44bbf102-a41e-492a-b185-e02e796c8c51\",                        [{\"type\": \"bar\", \"x\": [\"\\ub3c4\\uc2dc\\ub77d\", \"\\ub3c8\\uae4c\\uc2a4/\\uc77c\\uc2dd\", \"\\ubc30\\ub2ec\\uc804\\ubb38\\uc5c5\\uccb4\", \"\\ubd84\\uc2dd\", \"\\uc2ec\\ubd80\\ub984\", \"\\uc544\\uc2dc\\uc548/\\uc591\\uc2dd\", \"\\uc57c\\uc2dd\", \"\\uc871\\ubc1c/\\ubcf4\\uc308\", \"\\uc911\\uc2dd\", \"\\ucc1c\\ud0d5\", \"\\uce58\\ud0a8\", \"\\uce74\\ud398/\\ub514\\uc800\\ud2b8\", \"\\ud328\\uc2a4\\ud2b8\\ud478\\ub4dc\", \"\\ud53c\\uc790\", \"\\ud55c\\uc2dd\", \"\\ud68c\"], \"y\": [49254, 251112, 94837, 626945, 5344, 109185, 226043, 415060, 187030, 214388, 1173238, 457830, 326149, 262246, 658568, 101095]}],                        {\"template\": {\"data\": {\"bar\": [{\"error_x\": {\"color\": \"#2a3f5f\"}, \"error_y\": {\"color\": \"#2a3f5f\"}, \"marker\": {\"line\": {\"color\": \"#E5ECF6\", \"width\": 0.5}}, \"type\": \"bar\"}], \"barpolar\": [{\"marker\": {\"line\": {\"color\": \"#E5ECF6\", \"width\": 0.5}}, \"type\": \"barpolar\"}], \"carpet\": [{\"aaxis\": {\"endlinecolor\": \"#2a3f5f\", \"gridcolor\": \"white\", \"linecolor\": \"white\", \"minorgridcolor\": \"white\", \"startlinecolor\": \"#2a3f5f\"}, \"baxis\": {\"endlinecolor\": \"#2a3f5f\", \"gridcolor\": \"white\", \"linecolor\": \"white\", \"minorgridcolor\": \"white\", \"startlinecolor\": \"#2a3f5f\"}, \"type\": \"carpet\"}], \"choropleth\": [{\"colorbar\": {\"outlinewidth\": 0, \"ticks\": \"\"}, \"type\": \"choropleth\"}], \"contour\": [{\"colorbar\": {\"outlinewidth\": 0, \"ticks\": \"\"}, \"colorscale\": [[0.0, \"#0d0887\"], [0.1111111111111111, \"#46039f\"], [0.2222222222222222, \"#7201a8\"], [0.3333333333333333, \"#9c179e\"], [0.4444444444444444, \"#bd3786\"], [0.5555555555555556, \"#d8576b\"], [0.6666666666666666, \"#ed7953\"], [0.7777777777777778, \"#fb9f3a\"], [0.8888888888888888, \"#fdca26\"], [1.0, \"#f0f921\"]], \"type\": \"contour\"}], \"contourcarpet\": [{\"colorbar\": {\"outlinewidth\": 0, \"ticks\": \"\"}, \"type\": \"contourcarpet\"}], \"heatmap\": [{\"colorbar\": {\"outlinewidth\": 0, \"ticks\": \"\"}, \"colorscale\": [[0.0, \"#0d0887\"], [0.1111111111111111, \"#46039f\"], [0.2222222222222222, \"#7201a8\"], [0.3333333333333333, \"#9c179e\"], [0.4444444444444444, \"#bd3786\"], [0.5555555555555556, \"#d8576b\"], [0.6666666666666666, \"#ed7953\"], [0.7777777777777778, \"#fb9f3a\"], [0.8888888888888888, \"#fdca26\"], [1.0, \"#f0f921\"]], \"type\": \"heatmap\"}], \"heatmapgl\": [{\"colorbar\": {\"outlinewidth\": 0, \"ticks\": \"\"}, \"colorscale\": [[0.0, \"#0d0887\"], [0.1111111111111111, \"#46039f\"], [0.2222222222222222, \"#7201a8\"], [0.3333333333333333, \"#9c179e\"], [0.4444444444444444, \"#bd3786\"], [0.5555555555555556, \"#d8576b\"], [0.6666666666666666, \"#ed7953\"], [0.7777777777777778, \"#fb9f3a\"], [0.8888888888888888, \"#fdca26\"], [1.0, \"#f0f921\"]], \"type\": \"heatmapgl\"}], \"histogram\": [{\"marker\": {\"colorbar\": {\"outlinewidth\": 0, \"ticks\": \"\"}}, \"type\": \"histogram\"}], \"histogram2d\": [{\"colorbar\": {\"outlinewidth\": 0, \"ticks\": \"\"}, \"colorscale\": [[0.0, \"#0d0887\"], [0.1111111111111111, \"#46039f\"], [0.2222222222222222, \"#7201a8\"], [0.3333333333333333, \"#9c179e\"], [0.4444444444444444, \"#bd3786\"], [0.5555555555555556, \"#d8576b\"], [0.6666666666666666, \"#ed7953\"], [0.7777777777777778, \"#fb9f3a\"], [0.8888888888888888, \"#fdca26\"], [1.0, \"#f0f921\"]], \"type\": \"histogram2d\"}], \"histogram2dcontour\": [{\"colorbar\": {\"outlinewidth\": 0, \"ticks\": \"\"}, \"colorscale\": [[0.0, \"#0d0887\"], [0.1111111111111111, \"#46039f\"], [0.2222222222222222, \"#7201a8\"], [0.3333333333333333, \"#9c179e\"], [0.4444444444444444, \"#bd3786\"], [0.5555555555555556, \"#d8576b\"], [0.6666666666666666, \"#ed7953\"], [0.7777777777777778, \"#fb9f3a\"], [0.8888888888888888, \"#fdca26\"], [1.0, \"#f0f921\"]], \"type\": \"histogram2dcontour\"}], \"mesh3d\": [{\"colorbar\": {\"outlinewidth\": 0, \"ticks\": \"\"}, \"type\": \"mesh3d\"}], \"parcoords\": [{\"line\": {\"colorbar\": {\"outlinewidth\": 0, \"ticks\": \"\"}}, \"type\": \"parcoords\"}], \"pie\": [{\"automargin\": true, \"type\": \"pie\"}], \"scatter\": [{\"marker\": {\"colorbar\": {\"outlinewidth\": 0, \"ticks\": \"\"}}, \"type\": \"scatter\"}], \"scatter3d\": [{\"line\": {\"colorbar\": {\"outlinewidth\": 0, \"ticks\": \"\"}}, \"marker\": {\"colorbar\": {\"outlinewidth\": 0, \"ticks\": \"\"}}, \"type\": \"scatter3d\"}], \"scattercarpet\": [{\"marker\": {\"colorbar\": {\"outlinewidth\": 0, \"ticks\": \"\"}}, \"type\": \"scattercarpet\"}], \"scattergeo\": [{\"marker\": {\"colorbar\": {\"outlinewidth\": 0, \"ticks\": \"\"}}, \"type\": \"scattergeo\"}], \"scattergl\": [{\"marker\": {\"colorbar\": {\"outlinewidth\": 0, \"ticks\": \"\"}}, \"type\": \"scattergl\"}], \"scattermapbox\": [{\"marker\": {\"colorbar\": {\"outlinewidth\": 0, \"ticks\": \"\"}}, \"type\": \"scattermapbox\"}], \"scatterpolar\": [{\"marker\": {\"colorbar\": {\"outlinewidth\": 0, \"ticks\": \"\"}}, \"type\": \"scatterpolar\"}], \"scatterpolargl\": [{\"marker\": {\"colorbar\": {\"outlinewidth\": 0, \"ticks\": \"\"}}, \"type\": \"scatterpolargl\"}], \"scatterternary\": [{\"marker\": {\"colorbar\": {\"outlinewidth\": 0, \"ticks\": \"\"}}, \"type\": \"scatterternary\"}], \"surface\": [{\"colorbar\": {\"outlinewidth\": 0, \"ticks\": \"\"}, \"colorscale\": [[0.0, \"#0d0887\"], [0.1111111111111111, \"#46039f\"], [0.2222222222222222, \"#7201a8\"], [0.3333333333333333, \"#9c179e\"], [0.4444444444444444, \"#bd3786\"], [0.5555555555555556, \"#d8576b\"], [0.6666666666666666, \"#ed7953\"], [0.7777777777777778, \"#fb9f3a\"], [0.8888888888888888, \"#fdca26\"], [1.0, \"#f0f921\"]], \"type\": \"surface\"}], \"table\": [{\"cells\": {\"fill\": {\"color\": \"#EBF0F8\"}, \"line\": {\"color\": \"white\"}}, \"header\": {\"fill\": {\"color\": \"#C8D4E3\"}, \"line\": {\"color\": \"white\"}}, \"type\": \"table\"}]}, \"layout\": {\"annotationdefaults\": {\"arrowcolor\": \"#2a3f5f\", \"arrowhead\": 0, \"arrowwidth\": 1}, \"coloraxis\": {\"colorbar\": {\"outlinewidth\": 0, \"ticks\": \"\"}}, \"colorscale\": {\"diverging\": [[0, \"#8e0152\"], [0.1, \"#c51b7d\"], [0.2, \"#de77ae\"], [0.3, \"#f1b6da\"], [0.4, \"#fde0ef\"], [0.5, \"#f7f7f7\"], [0.6, \"#e6f5d0\"], [0.7, \"#b8e186\"], [0.8, \"#7fbc41\"], [0.9, \"#4d9221\"], [1, \"#276419\"]], \"sequential\": [[0.0, \"#0d0887\"], [0.1111111111111111, \"#46039f\"], [0.2222222222222222, \"#7201a8\"], [0.3333333333333333, \"#9c179e\"], [0.4444444444444444, \"#bd3786\"], [0.5555555555555556, \"#d8576b\"], [0.6666666666666666, \"#ed7953\"], [0.7777777777777778, \"#fb9f3a\"], [0.8888888888888888, \"#fdca26\"], [1.0, \"#f0f921\"]], \"sequentialminus\": [[0.0, \"#0d0887\"], [0.1111111111111111, \"#46039f\"], [0.2222222222222222, \"#7201a8\"], [0.3333333333333333, \"#9c179e\"], [0.4444444444444444, \"#bd3786\"], [0.5555555555555556, \"#d8576b\"], [0.6666666666666666, \"#ed7953\"], [0.7777777777777778, \"#fb9f3a\"], [0.8888888888888888, \"#fdca26\"], [1.0, \"#f0f921\"]]}, \"colorway\": [\"#636efa\", \"#EF553B\", \"#00cc96\", \"#ab63fa\", \"#FFA15A\", \"#19d3f3\", \"#FF6692\", \"#B6E880\", \"#FF97FF\", \"#FECB52\"], \"font\": {\"color\": \"#2a3f5f\"}, \"geo\": {\"bgcolor\": \"white\", \"lakecolor\": \"white\", \"landcolor\": \"#E5ECF6\", \"showlakes\": true, \"showland\": true, \"subunitcolor\": \"white\"}, \"hoverlabel\": {\"align\": \"left\"}, \"hovermode\": \"closest\", \"mapbox\": {\"style\": \"light\"}, \"paper_bgcolor\": \"white\", \"plot_bgcolor\": \"#E5ECF6\", \"polar\": {\"angularaxis\": {\"gridcolor\": \"white\", \"linecolor\": \"white\", \"ticks\": \"\"}, \"bgcolor\": \"#E5ECF6\", \"radialaxis\": {\"gridcolor\": \"white\", \"linecolor\": \"white\", \"ticks\": \"\"}}, \"scene\": {\"xaxis\": {\"backgroundcolor\": \"#E5ECF6\", \"gridcolor\": \"white\", \"gridwidth\": 2, \"linecolor\": \"white\", \"showbackground\": true, \"ticks\": \"\", \"zerolinecolor\": \"white\"}, \"yaxis\": {\"backgroundcolor\": \"#E5ECF6\", \"gridcolor\": \"white\", \"gridwidth\": 2, \"linecolor\": \"white\", \"showbackground\": true, \"ticks\": \"\", \"zerolinecolor\": \"white\"}, \"zaxis\": {\"backgroundcolor\": \"#E5ECF6\", \"gridcolor\": \"white\", \"gridwidth\": 2, \"linecolor\": \"white\", \"showbackground\": true, \"ticks\": \"\", \"zerolinecolor\": \"white\"}}, \"shapedefaults\": {\"line\": {\"color\": \"#2a3f5f\"}}, \"ternary\": {\"aaxis\": {\"gridcolor\": \"white\", \"linecolor\": \"white\", \"ticks\": \"\"}, \"baxis\": {\"gridcolor\": \"white\", \"linecolor\": \"white\", \"ticks\": \"\"}, \"bgcolor\": \"#E5ECF6\", \"caxis\": {\"gridcolor\": \"white\", \"linecolor\": \"white\", \"ticks\": \"\"}}, \"title\": {\"x\": 0.05}, \"xaxis\": {\"automargin\": true, \"gridcolor\": \"white\", \"linecolor\": \"white\", \"ticks\": \"\", \"title\": {\"standoff\": 15}, \"zerolinecolor\": \"white\", \"zerolinewidth\": 2}, \"yaxis\": {\"automargin\": true, \"gridcolor\": \"white\", \"linecolor\": \"white\", \"ticks\": \"\", \"title\": {\"standoff\": 15}, \"zerolinecolor\": \"white\", \"zerolinewidth\": 2}}}, \"title\": {\"text\": \"\\uc5c5\\uc885\\ubcc4 \\ubc30\\ub2ec\\ube44\\uc728\"}},                        {\"responsive\": true}                    ).then(function(){\n",
       "                            \n",
       "var gd = document.getElementById('44bbf102-a41e-492a-b185-e02e796c8c51');\n",
       "var x = new MutationObserver(function (mutations, observer) {{\n",
       "        var display = window.getComputedStyle(gd).display;\n",
       "        if (!display || display === 'none') {{\n",
       "            console.log([gd, 'removed!']);\n",
       "            Plotly.purge(gd);\n",
       "            observer.disconnect();\n",
       "        }}\n",
       "}});\n",
       "\n",
       "// Listen for the removal of the full notebook cells\n",
       "var notebookContainer = gd.closest('#notebook-container');\n",
       "if (notebookContainer) {{\n",
       "    x.observe(notebookContainer, {childList: true});\n",
       "}}\n",
       "\n",
       "// Listen for the clearing of the current output cell\n",
       "var outputEl = gd.closest('.output');\n",
       "if (outputEl) {{\n",
       "    x.observe(outputEl, {childList: true});\n",
       "}}\n",
       "\n",
       "                        })                };                });            </script>        </div>"
      ]
     },
     "metadata": {},
     "output_type": "display_data"
    }
   ],
   "source": [
    "# 막대 그래프 그리기\n",
    "trace1 = go.Bar(x=deliveryname['induty_nm'], y=deliveryname['count'])\n",
    "data = [trace1]\n",
    "layout = go.Layout(title='업종별 배달비율')\n",
    "fig = go.Figure(data=data, layout=layout)\n",
    "pyo.iplot(fig)\n",
    "\n",
    "# 1순위 치킨 2 순위 한식 3순위 분식 4순위 카페디저트 5순위 족발 순이었다."
   ]
  },
  {
   "cell_type": "code",
   "execution_count": 9,
   "metadata": {},
   "outputs": [
    {
     "data": {
      "text/html": [
       "<div>\n",
       "<style scoped>\n",
       "    .dataframe tbody tr th:only-of-type {\n",
       "        vertical-align: middle;\n",
       "    }\n",
       "\n",
       "    .dataframe tbody tr th {\n",
       "        vertical-align: top;\n",
       "    }\n",
       "\n",
       "    .dataframe thead th {\n",
       "        text-align: right;\n",
       "    }\n",
       "</style>\n",
       "<table border=\"1\" class=\"dataframe\">\n",
       "  <thead>\n",
       "    <tr style=\"text-align: right;\">\n",
       "      <th></th>\n",
       "      <th>si_name</th>\n",
       "      <th>count</th>\n",
       "    </tr>\n",
       "  </thead>\n",
       "  <tbody>\n",
       "    <tr>\n",
       "      <th>0</th>\n",
       "      <td>강원도</td>\n",
       "      <td>12632</td>\n",
       "    </tr>\n",
       "    <tr>\n",
       "      <th>1</th>\n",
       "      <td>경기도</td>\n",
       "      <td>2736607</td>\n",
       "    </tr>\n",
       "    <tr>\n",
       "      <th>2</th>\n",
       "      <td>경상남도</td>\n",
       "      <td>266602</td>\n",
       "    </tr>\n",
       "    <tr>\n",
       "      <th>3</th>\n",
       "      <td>경상북도</td>\n",
       "      <td>174840</td>\n",
       "    </tr>\n",
       "    <tr>\n",
       "      <th>4</th>\n",
       "      <td>광주광역시</td>\n",
       "      <td>11229</td>\n",
       "    </tr>\n",
       "    <tr>\n",
       "      <th>5</th>\n",
       "      <td>대구광역시</td>\n",
       "      <td>63024</td>\n",
       "    </tr>\n",
       "    <tr>\n",
       "      <th>6</th>\n",
       "      <td>대전광역시</td>\n",
       "      <td>65301</td>\n",
       "    </tr>\n",
       "    <tr>\n",
       "      <th>7</th>\n",
       "      <td>부산광역시</td>\n",
       "      <td>29792</td>\n",
       "    </tr>\n",
       "    <tr>\n",
       "      <th>8</th>\n",
       "      <td>서울특별시</td>\n",
       "      <td>818496</td>\n",
       "    </tr>\n",
       "    <tr>\n",
       "      <th>9</th>\n",
       "      <td>울산광역시</td>\n",
       "      <td>3</td>\n",
       "    </tr>\n",
       "    <tr>\n",
       "      <th>10</th>\n",
       "      <td>인천광역시</td>\n",
       "      <td>109571</td>\n",
       "    </tr>\n",
       "    <tr>\n",
       "      <th>11</th>\n",
       "      <td>전라남도</td>\n",
       "      <td>33773</td>\n",
       "    </tr>\n",
       "    <tr>\n",
       "      <th>12</th>\n",
       "      <td>전라북도</td>\n",
       "      <td>124310</td>\n",
       "    </tr>\n",
       "    <tr>\n",
       "      <th>13</th>\n",
       "      <td>제주특별자치도</td>\n",
       "      <td>61411</td>\n",
       "    </tr>\n",
       "    <tr>\n",
       "      <th>14</th>\n",
       "      <td>충청남도</td>\n",
       "      <td>168084</td>\n",
       "    </tr>\n",
       "    <tr>\n",
       "      <th>15</th>\n",
       "      <td>충청북도</td>\n",
       "      <td>93106</td>\n",
       "    </tr>\n",
       "  </tbody>\n",
       "</table>\n",
       "</div>"
      ],
      "text/plain": [
       "    si_name    count\n",
       "0       강원도    12632\n",
       "1       경기도  2736607\n",
       "2      경상남도   266602\n",
       "3      경상북도   174840\n",
       "4     광주광역시    11229\n",
       "5     대구광역시    63024\n",
       "6     대전광역시    65301\n",
       "7     부산광역시    29792\n",
       "8     서울특별시   818496\n",
       "9     울산광역시        3\n",
       "10    인천광역시   109571\n",
       "11     전라남도    33773\n",
       "12     전라북도   124310\n",
       "13  제주특별자치도    61411\n",
       "14     충청남도   168084\n",
       "15     충청북도    93106"
      ]
     },
     "execution_count": 9,
     "metadata": {},
     "output_type": "execute_result"
    }
   ],
   "source": [
    "# DLVR_STORE_SIDO(배달 지역) 기준으로 묶어주기\n",
    "districtname = del_dstn.groupby(['si_name']).size().reset_index(name='count')\n",
    "\n",
    "districtname"
   ]
  },
  {
   "cell_type": "markdown",
   "metadata": {},
   "source": [
    "# 시도별 배달비율확인 (추후 어느지역을 중점적으로 분석할 것인가)"
   ]
  },
  {
   "cell_type": "code",
   "execution_count": 10,
   "metadata": {},
   "outputs": [
    {
     "data": {
      "application/vnd.plotly.v1+json": {
       "config": {
        "linkText": "Export to plot.ly",
        "plotlyServerURL": "https://plot.ly",
        "showLink": false
       },
       "data": [
        {
         "type": "bar",
         "x": [
          "강원도",
          "경기도",
          "경상남도",
          "경상북도",
          "광주광역시",
          "대구광역시",
          "대전광역시",
          "부산광역시",
          "서울특별시",
          "울산광역시",
          "인천광역시",
          "전라남도",
          "전라북도",
          "제주특별자치도",
          "충청남도",
          "충청북도"
         ],
         "y": [
          12632,
          2736607,
          266602,
          174840,
          11229,
          63024,
          65301,
          29792,
          818496,
          3,
          109571,
          33773,
          124310,
          61411,
          168084,
          93106
         ]
        }
       ],
       "layout": {
        "template": {
         "data": {
          "bar": [
           {
            "error_x": {
             "color": "#2a3f5f"
            },
            "error_y": {
             "color": "#2a3f5f"
            },
            "marker": {
             "line": {
              "color": "#E5ECF6",
              "width": 0.5
             }
            },
            "type": "bar"
           }
          ],
          "barpolar": [
           {
            "marker": {
             "line": {
              "color": "#E5ECF6",
              "width": 0.5
             }
            },
            "type": "barpolar"
           }
          ],
          "carpet": [
           {
            "aaxis": {
             "endlinecolor": "#2a3f5f",
             "gridcolor": "white",
             "linecolor": "white",
             "minorgridcolor": "white",
             "startlinecolor": "#2a3f5f"
            },
            "baxis": {
             "endlinecolor": "#2a3f5f",
             "gridcolor": "white",
             "linecolor": "white",
             "minorgridcolor": "white",
             "startlinecolor": "#2a3f5f"
            },
            "type": "carpet"
           }
          ],
          "choropleth": [
           {
            "colorbar": {
             "outlinewidth": 0,
             "ticks": ""
            },
            "type": "choropleth"
           }
          ],
          "contour": [
           {
            "colorbar": {
             "outlinewidth": 0,
             "ticks": ""
            },
            "colorscale": [
             [
              0,
              "#0d0887"
             ],
             [
              0.1111111111111111,
              "#46039f"
             ],
             [
              0.2222222222222222,
              "#7201a8"
             ],
             [
              0.3333333333333333,
              "#9c179e"
             ],
             [
              0.4444444444444444,
              "#bd3786"
             ],
             [
              0.5555555555555556,
              "#d8576b"
             ],
             [
              0.6666666666666666,
              "#ed7953"
             ],
             [
              0.7777777777777778,
              "#fb9f3a"
             ],
             [
              0.8888888888888888,
              "#fdca26"
             ],
             [
              1,
              "#f0f921"
             ]
            ],
            "type": "contour"
           }
          ],
          "contourcarpet": [
           {
            "colorbar": {
             "outlinewidth": 0,
             "ticks": ""
            },
            "type": "contourcarpet"
           }
          ],
          "heatmap": [
           {
            "colorbar": {
             "outlinewidth": 0,
             "ticks": ""
            },
            "colorscale": [
             [
              0,
              "#0d0887"
             ],
             [
              0.1111111111111111,
              "#46039f"
             ],
             [
              0.2222222222222222,
              "#7201a8"
             ],
             [
              0.3333333333333333,
              "#9c179e"
             ],
             [
              0.4444444444444444,
              "#bd3786"
             ],
             [
              0.5555555555555556,
              "#d8576b"
             ],
             [
              0.6666666666666666,
              "#ed7953"
             ],
             [
              0.7777777777777778,
              "#fb9f3a"
             ],
             [
              0.8888888888888888,
              "#fdca26"
             ],
             [
              1,
              "#f0f921"
             ]
            ],
            "type": "heatmap"
           }
          ],
          "heatmapgl": [
           {
            "colorbar": {
             "outlinewidth": 0,
             "ticks": ""
            },
            "colorscale": [
             [
              0,
              "#0d0887"
             ],
             [
              0.1111111111111111,
              "#46039f"
             ],
             [
              0.2222222222222222,
              "#7201a8"
             ],
             [
              0.3333333333333333,
              "#9c179e"
             ],
             [
              0.4444444444444444,
              "#bd3786"
             ],
             [
              0.5555555555555556,
              "#d8576b"
             ],
             [
              0.6666666666666666,
              "#ed7953"
             ],
             [
              0.7777777777777778,
              "#fb9f3a"
             ],
             [
              0.8888888888888888,
              "#fdca26"
             ],
             [
              1,
              "#f0f921"
             ]
            ],
            "type": "heatmapgl"
           }
          ],
          "histogram": [
           {
            "marker": {
             "colorbar": {
              "outlinewidth": 0,
              "ticks": ""
             }
            },
            "type": "histogram"
           }
          ],
          "histogram2d": [
           {
            "colorbar": {
             "outlinewidth": 0,
             "ticks": ""
            },
            "colorscale": [
             [
              0,
              "#0d0887"
             ],
             [
              0.1111111111111111,
              "#46039f"
             ],
             [
              0.2222222222222222,
              "#7201a8"
             ],
             [
              0.3333333333333333,
              "#9c179e"
             ],
             [
              0.4444444444444444,
              "#bd3786"
             ],
             [
              0.5555555555555556,
              "#d8576b"
             ],
             [
              0.6666666666666666,
              "#ed7953"
             ],
             [
              0.7777777777777778,
              "#fb9f3a"
             ],
             [
              0.8888888888888888,
              "#fdca26"
             ],
             [
              1,
              "#f0f921"
             ]
            ],
            "type": "histogram2d"
           }
          ],
          "histogram2dcontour": [
           {
            "colorbar": {
             "outlinewidth": 0,
             "ticks": ""
            },
            "colorscale": [
             [
              0,
              "#0d0887"
             ],
             [
              0.1111111111111111,
              "#46039f"
             ],
             [
              0.2222222222222222,
              "#7201a8"
             ],
             [
              0.3333333333333333,
              "#9c179e"
             ],
             [
              0.4444444444444444,
              "#bd3786"
             ],
             [
              0.5555555555555556,
              "#d8576b"
             ],
             [
              0.6666666666666666,
              "#ed7953"
             ],
             [
              0.7777777777777778,
              "#fb9f3a"
             ],
             [
              0.8888888888888888,
              "#fdca26"
             ],
             [
              1,
              "#f0f921"
             ]
            ],
            "type": "histogram2dcontour"
           }
          ],
          "mesh3d": [
           {
            "colorbar": {
             "outlinewidth": 0,
             "ticks": ""
            },
            "type": "mesh3d"
           }
          ],
          "parcoords": [
           {
            "line": {
             "colorbar": {
              "outlinewidth": 0,
              "ticks": ""
             }
            },
            "type": "parcoords"
           }
          ],
          "pie": [
           {
            "automargin": true,
            "type": "pie"
           }
          ],
          "scatter": [
           {
            "marker": {
             "colorbar": {
              "outlinewidth": 0,
              "ticks": ""
             }
            },
            "type": "scatter"
           }
          ],
          "scatter3d": [
           {
            "line": {
             "colorbar": {
              "outlinewidth": 0,
              "ticks": ""
             }
            },
            "marker": {
             "colorbar": {
              "outlinewidth": 0,
              "ticks": ""
             }
            },
            "type": "scatter3d"
           }
          ],
          "scattercarpet": [
           {
            "marker": {
             "colorbar": {
              "outlinewidth": 0,
              "ticks": ""
             }
            },
            "type": "scattercarpet"
           }
          ],
          "scattergeo": [
           {
            "marker": {
             "colorbar": {
              "outlinewidth": 0,
              "ticks": ""
             }
            },
            "type": "scattergeo"
           }
          ],
          "scattergl": [
           {
            "marker": {
             "colorbar": {
              "outlinewidth": 0,
              "ticks": ""
             }
            },
            "type": "scattergl"
           }
          ],
          "scattermapbox": [
           {
            "marker": {
             "colorbar": {
              "outlinewidth": 0,
              "ticks": ""
             }
            },
            "type": "scattermapbox"
           }
          ],
          "scatterpolar": [
           {
            "marker": {
             "colorbar": {
              "outlinewidth": 0,
              "ticks": ""
             }
            },
            "type": "scatterpolar"
           }
          ],
          "scatterpolargl": [
           {
            "marker": {
             "colorbar": {
              "outlinewidth": 0,
              "ticks": ""
             }
            },
            "type": "scatterpolargl"
           }
          ],
          "scatterternary": [
           {
            "marker": {
             "colorbar": {
              "outlinewidth": 0,
              "ticks": ""
             }
            },
            "type": "scatterternary"
           }
          ],
          "surface": [
           {
            "colorbar": {
             "outlinewidth": 0,
             "ticks": ""
            },
            "colorscale": [
             [
              0,
              "#0d0887"
             ],
             [
              0.1111111111111111,
              "#46039f"
             ],
             [
              0.2222222222222222,
              "#7201a8"
             ],
             [
              0.3333333333333333,
              "#9c179e"
             ],
             [
              0.4444444444444444,
              "#bd3786"
             ],
             [
              0.5555555555555556,
              "#d8576b"
             ],
             [
              0.6666666666666666,
              "#ed7953"
             ],
             [
              0.7777777777777778,
              "#fb9f3a"
             ],
             [
              0.8888888888888888,
              "#fdca26"
             ],
             [
              1,
              "#f0f921"
             ]
            ],
            "type": "surface"
           }
          ],
          "table": [
           {
            "cells": {
             "fill": {
              "color": "#EBF0F8"
             },
             "line": {
              "color": "white"
             }
            },
            "header": {
             "fill": {
              "color": "#C8D4E3"
             },
             "line": {
              "color": "white"
             }
            },
            "type": "table"
           }
          ]
         },
         "layout": {
          "annotationdefaults": {
           "arrowcolor": "#2a3f5f",
           "arrowhead": 0,
           "arrowwidth": 1
          },
          "coloraxis": {
           "colorbar": {
            "outlinewidth": 0,
            "ticks": ""
           }
          },
          "colorscale": {
           "diverging": [
            [
             0,
             "#8e0152"
            ],
            [
             0.1,
             "#c51b7d"
            ],
            [
             0.2,
             "#de77ae"
            ],
            [
             0.3,
             "#f1b6da"
            ],
            [
             0.4,
             "#fde0ef"
            ],
            [
             0.5,
             "#f7f7f7"
            ],
            [
             0.6,
             "#e6f5d0"
            ],
            [
             0.7,
             "#b8e186"
            ],
            [
             0.8,
             "#7fbc41"
            ],
            [
             0.9,
             "#4d9221"
            ],
            [
             1,
             "#276419"
            ]
           ],
           "sequential": [
            [
             0,
             "#0d0887"
            ],
            [
             0.1111111111111111,
             "#46039f"
            ],
            [
             0.2222222222222222,
             "#7201a8"
            ],
            [
             0.3333333333333333,
             "#9c179e"
            ],
            [
             0.4444444444444444,
             "#bd3786"
            ],
            [
             0.5555555555555556,
             "#d8576b"
            ],
            [
             0.6666666666666666,
             "#ed7953"
            ],
            [
             0.7777777777777778,
             "#fb9f3a"
            ],
            [
             0.8888888888888888,
             "#fdca26"
            ],
            [
             1,
             "#f0f921"
            ]
           ],
           "sequentialminus": [
            [
             0,
             "#0d0887"
            ],
            [
             0.1111111111111111,
             "#46039f"
            ],
            [
             0.2222222222222222,
             "#7201a8"
            ],
            [
             0.3333333333333333,
             "#9c179e"
            ],
            [
             0.4444444444444444,
             "#bd3786"
            ],
            [
             0.5555555555555556,
             "#d8576b"
            ],
            [
             0.6666666666666666,
             "#ed7953"
            ],
            [
             0.7777777777777778,
             "#fb9f3a"
            ],
            [
             0.8888888888888888,
             "#fdca26"
            ],
            [
             1,
             "#f0f921"
            ]
           ]
          },
          "colorway": [
           "#636efa",
           "#EF553B",
           "#00cc96",
           "#ab63fa",
           "#FFA15A",
           "#19d3f3",
           "#FF6692",
           "#B6E880",
           "#FF97FF",
           "#FECB52"
          ],
          "font": {
           "color": "#2a3f5f"
          },
          "geo": {
           "bgcolor": "white",
           "lakecolor": "white",
           "landcolor": "#E5ECF6",
           "showlakes": true,
           "showland": true,
           "subunitcolor": "white"
          },
          "hoverlabel": {
           "align": "left"
          },
          "hovermode": "closest",
          "mapbox": {
           "style": "light"
          },
          "paper_bgcolor": "white",
          "plot_bgcolor": "#E5ECF6",
          "polar": {
           "angularaxis": {
            "gridcolor": "white",
            "linecolor": "white",
            "ticks": ""
           },
           "bgcolor": "#E5ECF6",
           "radialaxis": {
            "gridcolor": "white",
            "linecolor": "white",
            "ticks": ""
           }
          },
          "scene": {
           "xaxis": {
            "backgroundcolor": "#E5ECF6",
            "gridcolor": "white",
            "gridwidth": 2,
            "linecolor": "white",
            "showbackground": true,
            "ticks": "",
            "zerolinecolor": "white"
           },
           "yaxis": {
            "backgroundcolor": "#E5ECF6",
            "gridcolor": "white",
            "gridwidth": 2,
            "linecolor": "white",
            "showbackground": true,
            "ticks": "",
            "zerolinecolor": "white"
           },
           "zaxis": {
            "backgroundcolor": "#E5ECF6",
            "gridcolor": "white",
            "gridwidth": 2,
            "linecolor": "white",
            "showbackground": true,
            "ticks": "",
            "zerolinecolor": "white"
           }
          },
          "shapedefaults": {
           "line": {
            "color": "#2a3f5f"
           }
          },
          "ternary": {
           "aaxis": {
            "gridcolor": "white",
            "linecolor": "white",
            "ticks": ""
           },
           "baxis": {
            "gridcolor": "white",
            "linecolor": "white",
            "ticks": ""
           },
           "bgcolor": "#E5ECF6",
           "caxis": {
            "gridcolor": "white",
            "linecolor": "white",
            "ticks": ""
           }
          },
          "title": {
           "x": 0.05
          },
          "xaxis": {
           "automargin": true,
           "gridcolor": "white",
           "linecolor": "white",
           "ticks": "",
           "title": {
            "standoff": 15
           },
           "zerolinecolor": "white",
           "zerolinewidth": 2
          },
          "yaxis": {
           "automargin": true,
           "gridcolor": "white",
           "linecolor": "white",
           "ticks": "",
           "title": {
            "standoff": 15
           },
           "zerolinecolor": "white",
           "zerolinewidth": 2
          }
         }
        },
        "title": {
         "text": "시도별 배달비율"
        }
       }
      },
      "text/html": [
       "<div>                            <div id=\"93f3d834-5b93-4ac2-9b14-75976c7b17a8\" class=\"plotly-graph-div\" style=\"height:525px; width:100%;\"></div>            <script type=\"text/javascript\">                require([\"plotly\"], function(Plotly) {                    window.PLOTLYENV=window.PLOTLYENV || {};                                    if (document.getElementById(\"93f3d834-5b93-4ac2-9b14-75976c7b17a8\")) {                    Plotly.newPlot(                        \"93f3d834-5b93-4ac2-9b14-75976c7b17a8\",                        [{\"type\": \"bar\", \"x\": [\"\\uac15\\uc6d0\\ub3c4\", \"\\uacbd\\uae30\\ub3c4\", \"\\uacbd\\uc0c1\\ub0a8\\ub3c4\", \"\\uacbd\\uc0c1\\ubd81\\ub3c4\", \"\\uad11\\uc8fc\\uad11\\uc5ed\\uc2dc\", \"\\ub300\\uad6c\\uad11\\uc5ed\\uc2dc\", \"\\ub300\\uc804\\uad11\\uc5ed\\uc2dc\", \"\\ubd80\\uc0b0\\uad11\\uc5ed\\uc2dc\", \"\\uc11c\\uc6b8\\ud2b9\\ubcc4\\uc2dc\", \"\\uc6b8\\uc0b0\\uad11\\uc5ed\\uc2dc\", \"\\uc778\\ucc9c\\uad11\\uc5ed\\uc2dc\", \"\\uc804\\ub77c\\ub0a8\\ub3c4\", \"\\uc804\\ub77c\\ubd81\\ub3c4\", \"\\uc81c\\uc8fc\\ud2b9\\ubcc4\\uc790\\uce58\\ub3c4\", \"\\ucda9\\uccad\\ub0a8\\ub3c4\", \"\\ucda9\\uccad\\ubd81\\ub3c4\"], \"y\": [12632, 2736607, 266602, 174840, 11229, 63024, 65301, 29792, 818496, 3, 109571, 33773, 124310, 61411, 168084, 93106]}],                        {\"template\": {\"data\": {\"bar\": [{\"error_x\": {\"color\": \"#2a3f5f\"}, \"error_y\": {\"color\": \"#2a3f5f\"}, \"marker\": {\"line\": {\"color\": \"#E5ECF6\", \"width\": 0.5}}, \"type\": \"bar\"}], \"barpolar\": [{\"marker\": {\"line\": {\"color\": \"#E5ECF6\", \"width\": 0.5}}, \"type\": \"barpolar\"}], \"carpet\": [{\"aaxis\": {\"endlinecolor\": \"#2a3f5f\", \"gridcolor\": \"white\", \"linecolor\": \"white\", \"minorgridcolor\": \"white\", \"startlinecolor\": \"#2a3f5f\"}, \"baxis\": {\"endlinecolor\": \"#2a3f5f\", \"gridcolor\": \"white\", \"linecolor\": \"white\", \"minorgridcolor\": \"white\", \"startlinecolor\": \"#2a3f5f\"}, \"type\": \"carpet\"}], \"choropleth\": [{\"colorbar\": {\"outlinewidth\": 0, \"ticks\": \"\"}, \"type\": \"choropleth\"}], \"contour\": [{\"colorbar\": {\"outlinewidth\": 0, \"ticks\": \"\"}, \"colorscale\": [[0.0, \"#0d0887\"], [0.1111111111111111, \"#46039f\"], [0.2222222222222222, \"#7201a8\"], [0.3333333333333333, \"#9c179e\"], [0.4444444444444444, \"#bd3786\"], [0.5555555555555556, \"#d8576b\"], [0.6666666666666666, \"#ed7953\"], [0.7777777777777778, \"#fb9f3a\"], [0.8888888888888888, \"#fdca26\"], [1.0, \"#f0f921\"]], \"type\": \"contour\"}], \"contourcarpet\": [{\"colorbar\": {\"outlinewidth\": 0, \"ticks\": \"\"}, \"type\": \"contourcarpet\"}], \"heatmap\": [{\"colorbar\": {\"outlinewidth\": 0, \"ticks\": \"\"}, \"colorscale\": [[0.0, \"#0d0887\"], [0.1111111111111111, \"#46039f\"], [0.2222222222222222, \"#7201a8\"], [0.3333333333333333, \"#9c179e\"], [0.4444444444444444, \"#bd3786\"], [0.5555555555555556, \"#d8576b\"], [0.6666666666666666, \"#ed7953\"], [0.7777777777777778, \"#fb9f3a\"], [0.8888888888888888, \"#fdca26\"], [1.0, \"#f0f921\"]], \"type\": \"heatmap\"}], \"heatmapgl\": [{\"colorbar\": {\"outlinewidth\": 0, \"ticks\": \"\"}, \"colorscale\": [[0.0, \"#0d0887\"], [0.1111111111111111, \"#46039f\"], [0.2222222222222222, \"#7201a8\"], [0.3333333333333333, \"#9c179e\"], [0.4444444444444444, \"#bd3786\"], [0.5555555555555556, \"#d8576b\"], [0.6666666666666666, \"#ed7953\"], [0.7777777777777778, \"#fb9f3a\"], [0.8888888888888888, \"#fdca26\"], [1.0, \"#f0f921\"]], \"type\": \"heatmapgl\"}], \"histogram\": [{\"marker\": {\"colorbar\": {\"outlinewidth\": 0, \"ticks\": \"\"}}, \"type\": \"histogram\"}], \"histogram2d\": [{\"colorbar\": {\"outlinewidth\": 0, \"ticks\": \"\"}, \"colorscale\": [[0.0, \"#0d0887\"], [0.1111111111111111, \"#46039f\"], [0.2222222222222222, \"#7201a8\"], [0.3333333333333333, \"#9c179e\"], [0.4444444444444444, \"#bd3786\"], [0.5555555555555556, \"#d8576b\"], [0.6666666666666666, \"#ed7953\"], [0.7777777777777778, \"#fb9f3a\"], [0.8888888888888888, \"#fdca26\"], [1.0, \"#f0f921\"]], \"type\": \"histogram2d\"}], \"histogram2dcontour\": [{\"colorbar\": {\"outlinewidth\": 0, \"ticks\": \"\"}, \"colorscale\": [[0.0, \"#0d0887\"], [0.1111111111111111, \"#46039f\"], [0.2222222222222222, \"#7201a8\"], [0.3333333333333333, \"#9c179e\"], [0.4444444444444444, \"#bd3786\"], [0.5555555555555556, \"#d8576b\"], [0.6666666666666666, \"#ed7953\"], [0.7777777777777778, \"#fb9f3a\"], [0.8888888888888888, \"#fdca26\"], [1.0, \"#f0f921\"]], \"type\": \"histogram2dcontour\"}], \"mesh3d\": [{\"colorbar\": {\"outlinewidth\": 0, \"ticks\": \"\"}, \"type\": \"mesh3d\"}], \"parcoords\": [{\"line\": {\"colorbar\": {\"outlinewidth\": 0, \"ticks\": \"\"}}, \"type\": \"parcoords\"}], \"pie\": [{\"automargin\": true, \"type\": \"pie\"}], \"scatter\": [{\"marker\": {\"colorbar\": {\"outlinewidth\": 0, \"ticks\": \"\"}}, \"type\": \"scatter\"}], \"scatter3d\": [{\"line\": {\"colorbar\": {\"outlinewidth\": 0, \"ticks\": \"\"}}, \"marker\": {\"colorbar\": {\"outlinewidth\": 0, \"ticks\": \"\"}}, \"type\": \"scatter3d\"}], \"scattercarpet\": [{\"marker\": {\"colorbar\": {\"outlinewidth\": 0, \"ticks\": \"\"}}, \"type\": \"scattercarpet\"}], \"scattergeo\": [{\"marker\": {\"colorbar\": {\"outlinewidth\": 0, \"ticks\": \"\"}}, \"type\": \"scattergeo\"}], \"scattergl\": [{\"marker\": {\"colorbar\": {\"outlinewidth\": 0, \"ticks\": \"\"}}, \"type\": \"scattergl\"}], \"scattermapbox\": [{\"marker\": {\"colorbar\": {\"outlinewidth\": 0, \"ticks\": \"\"}}, \"type\": \"scattermapbox\"}], \"scatterpolar\": [{\"marker\": {\"colorbar\": {\"outlinewidth\": 0, \"ticks\": \"\"}}, \"type\": \"scatterpolar\"}], \"scatterpolargl\": [{\"marker\": {\"colorbar\": {\"outlinewidth\": 0, \"ticks\": \"\"}}, \"type\": \"scatterpolargl\"}], \"scatterternary\": [{\"marker\": {\"colorbar\": {\"outlinewidth\": 0, \"ticks\": \"\"}}, \"type\": \"scatterternary\"}], \"surface\": [{\"colorbar\": {\"outlinewidth\": 0, \"ticks\": \"\"}, \"colorscale\": [[0.0, \"#0d0887\"], [0.1111111111111111, \"#46039f\"], [0.2222222222222222, \"#7201a8\"], [0.3333333333333333, \"#9c179e\"], [0.4444444444444444, \"#bd3786\"], [0.5555555555555556, \"#d8576b\"], [0.6666666666666666, \"#ed7953\"], [0.7777777777777778, \"#fb9f3a\"], [0.8888888888888888, \"#fdca26\"], [1.0, \"#f0f921\"]], \"type\": \"surface\"}], \"table\": [{\"cells\": {\"fill\": {\"color\": \"#EBF0F8\"}, \"line\": {\"color\": \"white\"}}, \"header\": {\"fill\": {\"color\": \"#C8D4E3\"}, \"line\": {\"color\": \"white\"}}, \"type\": \"table\"}]}, \"layout\": {\"annotationdefaults\": {\"arrowcolor\": \"#2a3f5f\", \"arrowhead\": 0, \"arrowwidth\": 1}, \"coloraxis\": {\"colorbar\": {\"outlinewidth\": 0, \"ticks\": \"\"}}, \"colorscale\": {\"diverging\": [[0, \"#8e0152\"], [0.1, \"#c51b7d\"], [0.2, \"#de77ae\"], [0.3, \"#f1b6da\"], [0.4, \"#fde0ef\"], [0.5, \"#f7f7f7\"], [0.6, \"#e6f5d0\"], [0.7, \"#b8e186\"], [0.8, \"#7fbc41\"], [0.9, \"#4d9221\"], [1, \"#276419\"]], \"sequential\": [[0.0, \"#0d0887\"], [0.1111111111111111, \"#46039f\"], [0.2222222222222222, \"#7201a8\"], [0.3333333333333333, \"#9c179e\"], [0.4444444444444444, \"#bd3786\"], [0.5555555555555556, \"#d8576b\"], [0.6666666666666666, \"#ed7953\"], [0.7777777777777778, \"#fb9f3a\"], [0.8888888888888888, \"#fdca26\"], [1.0, \"#f0f921\"]], \"sequentialminus\": [[0.0, \"#0d0887\"], [0.1111111111111111, \"#46039f\"], [0.2222222222222222, \"#7201a8\"], [0.3333333333333333, \"#9c179e\"], [0.4444444444444444, \"#bd3786\"], [0.5555555555555556, \"#d8576b\"], [0.6666666666666666, \"#ed7953\"], [0.7777777777777778, \"#fb9f3a\"], [0.8888888888888888, \"#fdca26\"], [1.0, \"#f0f921\"]]}, \"colorway\": [\"#636efa\", \"#EF553B\", \"#00cc96\", \"#ab63fa\", \"#FFA15A\", \"#19d3f3\", \"#FF6692\", \"#B6E880\", \"#FF97FF\", \"#FECB52\"], \"font\": {\"color\": \"#2a3f5f\"}, \"geo\": {\"bgcolor\": \"white\", \"lakecolor\": \"white\", \"landcolor\": \"#E5ECF6\", \"showlakes\": true, \"showland\": true, \"subunitcolor\": \"white\"}, \"hoverlabel\": {\"align\": \"left\"}, \"hovermode\": \"closest\", \"mapbox\": {\"style\": \"light\"}, \"paper_bgcolor\": \"white\", \"plot_bgcolor\": \"#E5ECF6\", \"polar\": {\"angularaxis\": {\"gridcolor\": \"white\", \"linecolor\": \"white\", \"ticks\": \"\"}, \"bgcolor\": \"#E5ECF6\", \"radialaxis\": {\"gridcolor\": \"white\", \"linecolor\": \"white\", \"ticks\": \"\"}}, \"scene\": {\"xaxis\": {\"backgroundcolor\": \"#E5ECF6\", \"gridcolor\": \"white\", \"gridwidth\": 2, \"linecolor\": \"white\", \"showbackground\": true, \"ticks\": \"\", \"zerolinecolor\": \"white\"}, \"yaxis\": {\"backgroundcolor\": \"#E5ECF6\", \"gridcolor\": \"white\", \"gridwidth\": 2, \"linecolor\": \"white\", \"showbackground\": true, \"ticks\": \"\", \"zerolinecolor\": \"white\"}, \"zaxis\": {\"backgroundcolor\": \"#E5ECF6\", \"gridcolor\": \"white\", \"gridwidth\": 2, \"linecolor\": \"white\", \"showbackground\": true, \"ticks\": \"\", \"zerolinecolor\": \"white\"}}, \"shapedefaults\": {\"line\": {\"color\": \"#2a3f5f\"}}, \"ternary\": {\"aaxis\": {\"gridcolor\": \"white\", \"linecolor\": \"white\", \"ticks\": \"\"}, \"baxis\": {\"gridcolor\": \"white\", \"linecolor\": \"white\", \"ticks\": \"\"}, \"bgcolor\": \"#E5ECF6\", \"caxis\": {\"gridcolor\": \"white\", \"linecolor\": \"white\", \"ticks\": \"\"}}, \"title\": {\"x\": 0.05}, \"xaxis\": {\"automargin\": true, \"gridcolor\": \"white\", \"linecolor\": \"white\", \"ticks\": \"\", \"title\": {\"standoff\": 15}, \"zerolinecolor\": \"white\", \"zerolinewidth\": 2}, \"yaxis\": {\"automargin\": true, \"gridcolor\": \"white\", \"linecolor\": \"white\", \"ticks\": \"\", \"title\": {\"standoff\": 15}, \"zerolinecolor\": \"white\", \"zerolinewidth\": 2}}}, \"title\": {\"text\": \"\\uc2dc\\ub3c4\\ubcc4 \\ubc30\\ub2ec\\ube44\\uc728\"}},                        {\"responsive\": true}                    ).then(function(){\n",
       "                            \n",
       "var gd = document.getElementById('93f3d834-5b93-4ac2-9b14-75976c7b17a8');\n",
       "var x = new MutationObserver(function (mutations, observer) {{\n",
       "        var display = window.getComputedStyle(gd).display;\n",
       "        if (!display || display === 'none') {{\n",
       "            console.log([gd, 'removed!']);\n",
       "            Plotly.purge(gd);\n",
       "            observer.disconnect();\n",
       "        }}\n",
       "}});\n",
       "\n",
       "// Listen for the removal of the full notebook cells\n",
       "var notebookContainer = gd.closest('#notebook-container');\n",
       "if (notebookContainer) {{\n",
       "    x.observe(notebookContainer, {childList: true});\n",
       "}}\n",
       "\n",
       "// Listen for the clearing of the current output cell\n",
       "var outputEl = gd.closest('.output');\n",
       "if (outputEl) {{\n",
       "    x.observe(outputEl, {childList: true});\n",
       "}}\n",
       "\n",
       "                        })                };                });            </script>        </div>"
      ]
     },
     "metadata": {},
     "output_type": "display_data"
    }
   ],
   "source": [
    "# 시도별 막대그래프\n",
    "\n",
    "# 막대 그래프 그리기\n",
    "trace1 = go.Bar(x=districtname['si_name'], y=districtname['count'])\n",
    "data = [trace1]\n",
    "layout = go.Layout(title='시도별 배달비율')\n",
    "fig = go.Figure(data=data, layout=layout)\n",
    "pyo.iplot(fig)"
   ]
  },
  {
   "cell_type": "code",
   "execution_count": 118,
   "metadata": {},
   "outputs": [
    {
     "data": {
      "text/html": [
       "<div>\n",
       "<style scoped>\n",
       "    .dataframe tbody tr th:only-of-type {\n",
       "        vertical-align: middle;\n",
       "    }\n",
       "\n",
       "    .dataframe tbody tr th {\n",
       "        vertical-align: top;\n",
       "    }\n",
       "\n",
       "    .dataframe thead th {\n",
       "        text-align: right;\n",
       "    }\n",
       "</style>\n",
       "<table border=\"1\" class=\"dataframe\">\n",
       "  <thead>\n",
       "    <tr style=\"text-align: right;\">\n",
       "      <th></th>\n",
       "      <th>si_name</th>\n",
       "      <th>count</th>\n",
       "    </tr>\n",
       "  </thead>\n",
       "  <tbody>\n",
       "    <tr>\n",
       "      <th>1</th>\n",
       "      <td>경기도</td>\n",
       "      <td>2736607</td>\n",
       "    </tr>\n",
       "    <tr>\n",
       "      <th>8</th>\n",
       "      <td>서울특별시</td>\n",
       "      <td>818496</td>\n",
       "    </tr>\n",
       "    <tr>\n",
       "      <th>2</th>\n",
       "      <td>경상남도</td>\n",
       "      <td>266602</td>\n",
       "    </tr>\n",
       "    <tr>\n",
       "      <th>3</th>\n",
       "      <td>경상북도</td>\n",
       "      <td>174840</td>\n",
       "    </tr>\n",
       "    <tr>\n",
       "      <th>14</th>\n",
       "      <td>충청남도</td>\n",
       "      <td>168084</td>\n",
       "    </tr>\n",
       "  </tbody>\n",
       "</table>\n",
       "</div>"
      ],
      "text/plain": [
       "   si_name    count\n",
       "1      경기도  2736607\n",
       "8    서울특별시   818496\n",
       "2     경상남도   266602\n",
       "3     경상북도   174840\n",
       "14    충청남도   168084"
      ]
     },
     "execution_count": 118,
     "metadata": {},
     "output_type": "execute_result"
    }
   ],
   "source": [
    "# 상위 5개 시도의 주문개수\n",
    "\n",
    "df_sort_group_top5 = districtname.sort_values(by=\"count\", ascending=False).groupby(\"si_name\").head(10)\n",
    "df_sort5 = df_sort_group_top5.head(5)\n",
    "df_sort5\n",
    "\n"
   ]
  },
  {
   "cell_type": "code",
   "execution_count": 119,
   "metadata": {},
   "outputs": [
    {
     "data": {
      "application/vnd.plotly.v1+json": {
       "config": {
        "linkText": "Export to plot.ly",
        "plotlyServerURL": "https://plot.ly",
        "showLink": false
       },
       "data": [
        {
         "type": "bar",
         "x": [
          "경기도",
          "서울특별시",
          "경상남도",
          "경상북도",
          "충청남도"
         ],
         "y": [
          2736607,
          818496,
          266602,
          174840,
          168084
         ]
        }
       ],
       "layout": {
        "template": {
         "data": {
          "bar": [
           {
            "error_x": {
             "color": "#2a3f5f"
            },
            "error_y": {
             "color": "#2a3f5f"
            },
            "marker": {
             "line": {
              "color": "#E5ECF6",
              "width": 0.5
             }
            },
            "type": "bar"
           }
          ],
          "barpolar": [
           {
            "marker": {
             "line": {
              "color": "#E5ECF6",
              "width": 0.5
             }
            },
            "type": "barpolar"
           }
          ],
          "carpet": [
           {
            "aaxis": {
             "endlinecolor": "#2a3f5f",
             "gridcolor": "white",
             "linecolor": "white",
             "minorgridcolor": "white",
             "startlinecolor": "#2a3f5f"
            },
            "baxis": {
             "endlinecolor": "#2a3f5f",
             "gridcolor": "white",
             "linecolor": "white",
             "minorgridcolor": "white",
             "startlinecolor": "#2a3f5f"
            },
            "type": "carpet"
           }
          ],
          "choropleth": [
           {
            "colorbar": {
             "outlinewidth": 0,
             "ticks": ""
            },
            "type": "choropleth"
           }
          ],
          "contour": [
           {
            "colorbar": {
             "outlinewidth": 0,
             "ticks": ""
            },
            "colorscale": [
             [
              0,
              "#0d0887"
             ],
             [
              0.1111111111111111,
              "#46039f"
             ],
             [
              0.2222222222222222,
              "#7201a8"
             ],
             [
              0.3333333333333333,
              "#9c179e"
             ],
             [
              0.4444444444444444,
              "#bd3786"
             ],
             [
              0.5555555555555556,
              "#d8576b"
             ],
             [
              0.6666666666666666,
              "#ed7953"
             ],
             [
              0.7777777777777778,
              "#fb9f3a"
             ],
             [
              0.8888888888888888,
              "#fdca26"
             ],
             [
              1,
              "#f0f921"
             ]
            ],
            "type": "contour"
           }
          ],
          "contourcarpet": [
           {
            "colorbar": {
             "outlinewidth": 0,
             "ticks": ""
            },
            "type": "contourcarpet"
           }
          ],
          "heatmap": [
           {
            "colorbar": {
             "outlinewidth": 0,
             "ticks": ""
            },
            "colorscale": [
             [
              0,
              "#0d0887"
             ],
             [
              0.1111111111111111,
              "#46039f"
             ],
             [
              0.2222222222222222,
              "#7201a8"
             ],
             [
              0.3333333333333333,
              "#9c179e"
             ],
             [
              0.4444444444444444,
              "#bd3786"
             ],
             [
              0.5555555555555556,
              "#d8576b"
             ],
             [
              0.6666666666666666,
              "#ed7953"
             ],
             [
              0.7777777777777778,
              "#fb9f3a"
             ],
             [
              0.8888888888888888,
              "#fdca26"
             ],
             [
              1,
              "#f0f921"
             ]
            ],
            "type": "heatmap"
           }
          ],
          "heatmapgl": [
           {
            "colorbar": {
             "outlinewidth": 0,
             "ticks": ""
            },
            "colorscale": [
             [
              0,
              "#0d0887"
             ],
             [
              0.1111111111111111,
              "#46039f"
             ],
             [
              0.2222222222222222,
              "#7201a8"
             ],
             [
              0.3333333333333333,
              "#9c179e"
             ],
             [
              0.4444444444444444,
              "#bd3786"
             ],
             [
              0.5555555555555556,
              "#d8576b"
             ],
             [
              0.6666666666666666,
              "#ed7953"
             ],
             [
              0.7777777777777778,
              "#fb9f3a"
             ],
             [
              0.8888888888888888,
              "#fdca26"
             ],
             [
              1,
              "#f0f921"
             ]
            ],
            "type": "heatmapgl"
           }
          ],
          "histogram": [
           {
            "marker": {
             "colorbar": {
              "outlinewidth": 0,
              "ticks": ""
             }
            },
            "type": "histogram"
           }
          ],
          "histogram2d": [
           {
            "colorbar": {
             "outlinewidth": 0,
             "ticks": ""
            },
            "colorscale": [
             [
              0,
              "#0d0887"
             ],
             [
              0.1111111111111111,
              "#46039f"
             ],
             [
              0.2222222222222222,
              "#7201a8"
             ],
             [
              0.3333333333333333,
              "#9c179e"
             ],
             [
              0.4444444444444444,
              "#bd3786"
             ],
             [
              0.5555555555555556,
              "#d8576b"
             ],
             [
              0.6666666666666666,
              "#ed7953"
             ],
             [
              0.7777777777777778,
              "#fb9f3a"
             ],
             [
              0.8888888888888888,
              "#fdca26"
             ],
             [
              1,
              "#f0f921"
             ]
            ],
            "type": "histogram2d"
           }
          ],
          "histogram2dcontour": [
           {
            "colorbar": {
             "outlinewidth": 0,
             "ticks": ""
            },
            "colorscale": [
             [
              0,
              "#0d0887"
             ],
             [
              0.1111111111111111,
              "#46039f"
             ],
             [
              0.2222222222222222,
              "#7201a8"
             ],
             [
              0.3333333333333333,
              "#9c179e"
             ],
             [
              0.4444444444444444,
              "#bd3786"
             ],
             [
              0.5555555555555556,
              "#d8576b"
             ],
             [
              0.6666666666666666,
              "#ed7953"
             ],
             [
              0.7777777777777778,
              "#fb9f3a"
             ],
             [
              0.8888888888888888,
              "#fdca26"
             ],
             [
              1,
              "#f0f921"
             ]
            ],
            "type": "histogram2dcontour"
           }
          ],
          "mesh3d": [
           {
            "colorbar": {
             "outlinewidth": 0,
             "ticks": ""
            },
            "type": "mesh3d"
           }
          ],
          "parcoords": [
           {
            "line": {
             "colorbar": {
              "outlinewidth": 0,
              "ticks": ""
             }
            },
            "type": "parcoords"
           }
          ],
          "pie": [
           {
            "automargin": true,
            "type": "pie"
           }
          ],
          "scatter": [
           {
            "marker": {
             "colorbar": {
              "outlinewidth": 0,
              "ticks": ""
             }
            },
            "type": "scatter"
           }
          ],
          "scatter3d": [
           {
            "line": {
             "colorbar": {
              "outlinewidth": 0,
              "ticks": ""
             }
            },
            "marker": {
             "colorbar": {
              "outlinewidth": 0,
              "ticks": ""
             }
            },
            "type": "scatter3d"
           }
          ],
          "scattercarpet": [
           {
            "marker": {
             "colorbar": {
              "outlinewidth": 0,
              "ticks": ""
             }
            },
            "type": "scattercarpet"
           }
          ],
          "scattergeo": [
           {
            "marker": {
             "colorbar": {
              "outlinewidth": 0,
              "ticks": ""
             }
            },
            "type": "scattergeo"
           }
          ],
          "scattergl": [
           {
            "marker": {
             "colorbar": {
              "outlinewidth": 0,
              "ticks": ""
             }
            },
            "type": "scattergl"
           }
          ],
          "scattermapbox": [
           {
            "marker": {
             "colorbar": {
              "outlinewidth": 0,
              "ticks": ""
             }
            },
            "type": "scattermapbox"
           }
          ],
          "scatterpolar": [
           {
            "marker": {
             "colorbar": {
              "outlinewidth": 0,
              "ticks": ""
             }
            },
            "type": "scatterpolar"
           }
          ],
          "scatterpolargl": [
           {
            "marker": {
             "colorbar": {
              "outlinewidth": 0,
              "ticks": ""
             }
            },
            "type": "scatterpolargl"
           }
          ],
          "scatterternary": [
           {
            "marker": {
             "colorbar": {
              "outlinewidth": 0,
              "ticks": ""
             }
            },
            "type": "scatterternary"
           }
          ],
          "surface": [
           {
            "colorbar": {
             "outlinewidth": 0,
             "ticks": ""
            },
            "colorscale": [
             [
              0,
              "#0d0887"
             ],
             [
              0.1111111111111111,
              "#46039f"
             ],
             [
              0.2222222222222222,
              "#7201a8"
             ],
             [
              0.3333333333333333,
              "#9c179e"
             ],
             [
              0.4444444444444444,
              "#bd3786"
             ],
             [
              0.5555555555555556,
              "#d8576b"
             ],
             [
              0.6666666666666666,
              "#ed7953"
             ],
             [
              0.7777777777777778,
              "#fb9f3a"
             ],
             [
              0.8888888888888888,
              "#fdca26"
             ],
             [
              1,
              "#f0f921"
             ]
            ],
            "type": "surface"
           }
          ],
          "table": [
           {
            "cells": {
             "fill": {
              "color": "#EBF0F8"
             },
             "line": {
              "color": "white"
             }
            },
            "header": {
             "fill": {
              "color": "#C8D4E3"
             },
             "line": {
              "color": "white"
             }
            },
            "type": "table"
           }
          ]
         },
         "layout": {
          "annotationdefaults": {
           "arrowcolor": "#2a3f5f",
           "arrowhead": 0,
           "arrowwidth": 1
          },
          "coloraxis": {
           "colorbar": {
            "outlinewidth": 0,
            "ticks": ""
           }
          },
          "colorscale": {
           "diverging": [
            [
             0,
             "#8e0152"
            ],
            [
             0.1,
             "#c51b7d"
            ],
            [
             0.2,
             "#de77ae"
            ],
            [
             0.3,
             "#f1b6da"
            ],
            [
             0.4,
             "#fde0ef"
            ],
            [
             0.5,
             "#f7f7f7"
            ],
            [
             0.6,
             "#e6f5d0"
            ],
            [
             0.7,
             "#b8e186"
            ],
            [
             0.8,
             "#7fbc41"
            ],
            [
             0.9,
             "#4d9221"
            ],
            [
             1,
             "#276419"
            ]
           ],
           "sequential": [
            [
             0,
             "#0d0887"
            ],
            [
             0.1111111111111111,
             "#46039f"
            ],
            [
             0.2222222222222222,
             "#7201a8"
            ],
            [
             0.3333333333333333,
             "#9c179e"
            ],
            [
             0.4444444444444444,
             "#bd3786"
            ],
            [
             0.5555555555555556,
             "#d8576b"
            ],
            [
             0.6666666666666666,
             "#ed7953"
            ],
            [
             0.7777777777777778,
             "#fb9f3a"
            ],
            [
             0.8888888888888888,
             "#fdca26"
            ],
            [
             1,
             "#f0f921"
            ]
           ],
           "sequentialminus": [
            [
             0,
             "#0d0887"
            ],
            [
             0.1111111111111111,
             "#46039f"
            ],
            [
             0.2222222222222222,
             "#7201a8"
            ],
            [
             0.3333333333333333,
             "#9c179e"
            ],
            [
             0.4444444444444444,
             "#bd3786"
            ],
            [
             0.5555555555555556,
             "#d8576b"
            ],
            [
             0.6666666666666666,
             "#ed7953"
            ],
            [
             0.7777777777777778,
             "#fb9f3a"
            ],
            [
             0.8888888888888888,
             "#fdca26"
            ],
            [
             1,
             "#f0f921"
            ]
           ]
          },
          "colorway": [
           "#636efa",
           "#EF553B",
           "#00cc96",
           "#ab63fa",
           "#FFA15A",
           "#19d3f3",
           "#FF6692",
           "#B6E880",
           "#FF97FF",
           "#FECB52"
          ],
          "font": {
           "color": "#2a3f5f"
          },
          "geo": {
           "bgcolor": "white",
           "lakecolor": "white",
           "landcolor": "#E5ECF6",
           "showlakes": true,
           "showland": true,
           "subunitcolor": "white"
          },
          "hoverlabel": {
           "align": "left"
          },
          "hovermode": "closest",
          "mapbox": {
           "style": "light"
          },
          "paper_bgcolor": "white",
          "plot_bgcolor": "#E5ECF6",
          "polar": {
           "angularaxis": {
            "gridcolor": "white",
            "linecolor": "white",
            "ticks": ""
           },
           "bgcolor": "#E5ECF6",
           "radialaxis": {
            "gridcolor": "white",
            "linecolor": "white",
            "ticks": ""
           }
          },
          "scene": {
           "xaxis": {
            "backgroundcolor": "#E5ECF6",
            "gridcolor": "white",
            "gridwidth": 2,
            "linecolor": "white",
            "showbackground": true,
            "ticks": "",
            "zerolinecolor": "white"
           },
           "yaxis": {
            "backgroundcolor": "#E5ECF6",
            "gridcolor": "white",
            "gridwidth": 2,
            "linecolor": "white",
            "showbackground": true,
            "ticks": "",
            "zerolinecolor": "white"
           },
           "zaxis": {
            "backgroundcolor": "#E5ECF6",
            "gridcolor": "white",
            "gridwidth": 2,
            "linecolor": "white",
            "showbackground": true,
            "ticks": "",
            "zerolinecolor": "white"
           }
          },
          "shapedefaults": {
           "line": {
            "color": "#2a3f5f"
           }
          },
          "ternary": {
           "aaxis": {
            "gridcolor": "white",
            "linecolor": "white",
            "ticks": ""
           },
           "baxis": {
            "gridcolor": "white",
            "linecolor": "white",
            "ticks": ""
           },
           "bgcolor": "#E5ECF6",
           "caxis": {
            "gridcolor": "white",
            "linecolor": "white",
            "ticks": ""
           }
          },
          "title": {
           "x": 0.05
          },
          "xaxis": {
           "automargin": true,
           "gridcolor": "white",
           "linecolor": "white",
           "ticks": "",
           "title": {
            "standoff": 15
           },
           "zerolinecolor": "white",
           "zerolinewidth": 2
          },
          "yaxis": {
           "automargin": true,
           "gridcolor": "white",
           "linecolor": "white",
           "ticks": "",
           "title": {
            "standoff": 15
           },
           "zerolinecolor": "white",
           "zerolinewidth": 2
          }
         }
        },
        "title": {
         "text": "시도별 배달비율"
        }
       }
      },
      "text/html": [
       "<div>                            <div id=\"1534b13b-4e39-4fbd-8834-31f03344d514\" class=\"plotly-graph-div\" style=\"height:525px; width:100%;\"></div>            <script type=\"text/javascript\">                require([\"plotly\"], function(Plotly) {                    window.PLOTLYENV=window.PLOTLYENV || {};                                    if (document.getElementById(\"1534b13b-4e39-4fbd-8834-31f03344d514\")) {                    Plotly.newPlot(                        \"1534b13b-4e39-4fbd-8834-31f03344d514\",                        [{\"type\": \"bar\", \"x\": [\"\\uacbd\\uae30\\ub3c4\", \"\\uc11c\\uc6b8\\ud2b9\\ubcc4\\uc2dc\", \"\\uacbd\\uc0c1\\ub0a8\\ub3c4\", \"\\uacbd\\uc0c1\\ubd81\\ub3c4\", \"\\ucda9\\uccad\\ub0a8\\ub3c4\"], \"y\": [2736607, 818496, 266602, 174840, 168084]}],                        {\"template\": {\"data\": {\"bar\": [{\"error_x\": {\"color\": \"#2a3f5f\"}, \"error_y\": {\"color\": \"#2a3f5f\"}, \"marker\": {\"line\": {\"color\": \"#E5ECF6\", \"width\": 0.5}}, \"type\": \"bar\"}], \"barpolar\": [{\"marker\": {\"line\": {\"color\": \"#E5ECF6\", \"width\": 0.5}}, \"type\": \"barpolar\"}], \"carpet\": [{\"aaxis\": {\"endlinecolor\": \"#2a3f5f\", \"gridcolor\": \"white\", \"linecolor\": \"white\", \"minorgridcolor\": \"white\", \"startlinecolor\": \"#2a3f5f\"}, \"baxis\": {\"endlinecolor\": \"#2a3f5f\", \"gridcolor\": \"white\", \"linecolor\": \"white\", \"minorgridcolor\": \"white\", \"startlinecolor\": \"#2a3f5f\"}, \"type\": \"carpet\"}], \"choropleth\": [{\"colorbar\": {\"outlinewidth\": 0, \"ticks\": \"\"}, \"type\": \"choropleth\"}], \"contour\": [{\"colorbar\": {\"outlinewidth\": 0, \"ticks\": \"\"}, \"colorscale\": [[0.0, \"#0d0887\"], [0.1111111111111111, \"#46039f\"], [0.2222222222222222, \"#7201a8\"], [0.3333333333333333, \"#9c179e\"], [0.4444444444444444, \"#bd3786\"], [0.5555555555555556, \"#d8576b\"], [0.6666666666666666, \"#ed7953\"], [0.7777777777777778, \"#fb9f3a\"], [0.8888888888888888, \"#fdca26\"], [1.0, \"#f0f921\"]], \"type\": \"contour\"}], \"contourcarpet\": [{\"colorbar\": {\"outlinewidth\": 0, \"ticks\": \"\"}, \"type\": \"contourcarpet\"}], \"heatmap\": [{\"colorbar\": {\"outlinewidth\": 0, \"ticks\": \"\"}, \"colorscale\": [[0.0, \"#0d0887\"], [0.1111111111111111, \"#46039f\"], [0.2222222222222222, \"#7201a8\"], [0.3333333333333333, \"#9c179e\"], [0.4444444444444444, \"#bd3786\"], [0.5555555555555556, \"#d8576b\"], [0.6666666666666666, \"#ed7953\"], [0.7777777777777778, \"#fb9f3a\"], [0.8888888888888888, \"#fdca26\"], [1.0, \"#f0f921\"]], \"type\": \"heatmap\"}], \"heatmapgl\": [{\"colorbar\": {\"outlinewidth\": 0, \"ticks\": \"\"}, \"colorscale\": [[0.0, \"#0d0887\"], [0.1111111111111111, \"#46039f\"], [0.2222222222222222, \"#7201a8\"], [0.3333333333333333, \"#9c179e\"], [0.4444444444444444, \"#bd3786\"], [0.5555555555555556, \"#d8576b\"], [0.6666666666666666, \"#ed7953\"], [0.7777777777777778, \"#fb9f3a\"], [0.8888888888888888, \"#fdca26\"], [1.0, \"#f0f921\"]], \"type\": \"heatmapgl\"}], \"histogram\": [{\"marker\": {\"colorbar\": {\"outlinewidth\": 0, \"ticks\": \"\"}}, \"type\": \"histogram\"}], \"histogram2d\": [{\"colorbar\": {\"outlinewidth\": 0, \"ticks\": \"\"}, \"colorscale\": [[0.0, \"#0d0887\"], [0.1111111111111111, \"#46039f\"], [0.2222222222222222, \"#7201a8\"], [0.3333333333333333, \"#9c179e\"], [0.4444444444444444, \"#bd3786\"], [0.5555555555555556, \"#d8576b\"], [0.6666666666666666, \"#ed7953\"], [0.7777777777777778, \"#fb9f3a\"], [0.8888888888888888, \"#fdca26\"], [1.0, \"#f0f921\"]], \"type\": \"histogram2d\"}], \"histogram2dcontour\": [{\"colorbar\": {\"outlinewidth\": 0, \"ticks\": \"\"}, \"colorscale\": [[0.0, \"#0d0887\"], [0.1111111111111111, \"#46039f\"], [0.2222222222222222, \"#7201a8\"], [0.3333333333333333, \"#9c179e\"], [0.4444444444444444, \"#bd3786\"], [0.5555555555555556, \"#d8576b\"], [0.6666666666666666, \"#ed7953\"], [0.7777777777777778, \"#fb9f3a\"], [0.8888888888888888, \"#fdca26\"], [1.0, \"#f0f921\"]], \"type\": \"histogram2dcontour\"}], \"mesh3d\": [{\"colorbar\": {\"outlinewidth\": 0, \"ticks\": \"\"}, \"type\": \"mesh3d\"}], \"parcoords\": [{\"line\": {\"colorbar\": {\"outlinewidth\": 0, \"ticks\": \"\"}}, \"type\": \"parcoords\"}], \"pie\": [{\"automargin\": true, \"type\": \"pie\"}], \"scatter\": [{\"marker\": {\"colorbar\": {\"outlinewidth\": 0, \"ticks\": \"\"}}, \"type\": \"scatter\"}], \"scatter3d\": [{\"line\": {\"colorbar\": {\"outlinewidth\": 0, \"ticks\": \"\"}}, \"marker\": {\"colorbar\": {\"outlinewidth\": 0, \"ticks\": \"\"}}, \"type\": \"scatter3d\"}], \"scattercarpet\": [{\"marker\": {\"colorbar\": {\"outlinewidth\": 0, \"ticks\": \"\"}}, \"type\": \"scattercarpet\"}], \"scattergeo\": [{\"marker\": {\"colorbar\": {\"outlinewidth\": 0, \"ticks\": \"\"}}, \"type\": \"scattergeo\"}], \"scattergl\": [{\"marker\": {\"colorbar\": {\"outlinewidth\": 0, \"ticks\": \"\"}}, \"type\": \"scattergl\"}], \"scattermapbox\": [{\"marker\": {\"colorbar\": {\"outlinewidth\": 0, \"ticks\": \"\"}}, \"type\": \"scattermapbox\"}], \"scatterpolar\": [{\"marker\": {\"colorbar\": {\"outlinewidth\": 0, \"ticks\": \"\"}}, \"type\": \"scatterpolar\"}], \"scatterpolargl\": [{\"marker\": {\"colorbar\": {\"outlinewidth\": 0, \"ticks\": \"\"}}, \"type\": \"scatterpolargl\"}], \"scatterternary\": [{\"marker\": {\"colorbar\": {\"outlinewidth\": 0, \"ticks\": \"\"}}, \"type\": \"scatterternary\"}], \"surface\": [{\"colorbar\": {\"outlinewidth\": 0, \"ticks\": \"\"}, \"colorscale\": [[0.0, \"#0d0887\"], [0.1111111111111111, \"#46039f\"], [0.2222222222222222, \"#7201a8\"], [0.3333333333333333, \"#9c179e\"], [0.4444444444444444, \"#bd3786\"], [0.5555555555555556, \"#d8576b\"], [0.6666666666666666, \"#ed7953\"], [0.7777777777777778, \"#fb9f3a\"], [0.8888888888888888, \"#fdca26\"], [1.0, \"#f0f921\"]], \"type\": \"surface\"}], \"table\": [{\"cells\": {\"fill\": {\"color\": \"#EBF0F8\"}, \"line\": {\"color\": \"white\"}}, \"header\": {\"fill\": {\"color\": \"#C8D4E3\"}, \"line\": {\"color\": \"white\"}}, \"type\": \"table\"}]}, \"layout\": {\"annotationdefaults\": {\"arrowcolor\": \"#2a3f5f\", \"arrowhead\": 0, \"arrowwidth\": 1}, \"coloraxis\": {\"colorbar\": {\"outlinewidth\": 0, \"ticks\": \"\"}}, \"colorscale\": {\"diverging\": [[0, \"#8e0152\"], [0.1, \"#c51b7d\"], [0.2, \"#de77ae\"], [0.3, \"#f1b6da\"], [0.4, \"#fde0ef\"], [0.5, \"#f7f7f7\"], [0.6, \"#e6f5d0\"], [0.7, \"#b8e186\"], [0.8, \"#7fbc41\"], [0.9, \"#4d9221\"], [1, \"#276419\"]], \"sequential\": [[0.0, \"#0d0887\"], [0.1111111111111111, \"#46039f\"], [0.2222222222222222, \"#7201a8\"], [0.3333333333333333, \"#9c179e\"], [0.4444444444444444, \"#bd3786\"], [0.5555555555555556, \"#d8576b\"], [0.6666666666666666, \"#ed7953\"], [0.7777777777777778, \"#fb9f3a\"], [0.8888888888888888, \"#fdca26\"], [1.0, \"#f0f921\"]], \"sequentialminus\": [[0.0, \"#0d0887\"], [0.1111111111111111, \"#46039f\"], [0.2222222222222222, \"#7201a8\"], [0.3333333333333333, \"#9c179e\"], [0.4444444444444444, \"#bd3786\"], [0.5555555555555556, \"#d8576b\"], [0.6666666666666666, \"#ed7953\"], [0.7777777777777778, \"#fb9f3a\"], [0.8888888888888888, \"#fdca26\"], [1.0, \"#f0f921\"]]}, \"colorway\": [\"#636efa\", \"#EF553B\", \"#00cc96\", \"#ab63fa\", \"#FFA15A\", \"#19d3f3\", \"#FF6692\", \"#B6E880\", \"#FF97FF\", \"#FECB52\"], \"font\": {\"color\": \"#2a3f5f\"}, \"geo\": {\"bgcolor\": \"white\", \"lakecolor\": \"white\", \"landcolor\": \"#E5ECF6\", \"showlakes\": true, \"showland\": true, \"subunitcolor\": \"white\"}, \"hoverlabel\": {\"align\": \"left\"}, \"hovermode\": \"closest\", \"mapbox\": {\"style\": \"light\"}, \"paper_bgcolor\": \"white\", \"plot_bgcolor\": \"#E5ECF6\", \"polar\": {\"angularaxis\": {\"gridcolor\": \"white\", \"linecolor\": \"white\", \"ticks\": \"\"}, \"bgcolor\": \"#E5ECF6\", \"radialaxis\": {\"gridcolor\": \"white\", \"linecolor\": \"white\", \"ticks\": \"\"}}, \"scene\": {\"xaxis\": {\"backgroundcolor\": \"#E5ECF6\", \"gridcolor\": \"white\", \"gridwidth\": 2, \"linecolor\": \"white\", \"showbackground\": true, \"ticks\": \"\", \"zerolinecolor\": \"white\"}, \"yaxis\": {\"backgroundcolor\": \"#E5ECF6\", \"gridcolor\": \"white\", \"gridwidth\": 2, \"linecolor\": \"white\", \"showbackground\": true, \"ticks\": \"\", \"zerolinecolor\": \"white\"}, \"zaxis\": {\"backgroundcolor\": \"#E5ECF6\", \"gridcolor\": \"white\", \"gridwidth\": 2, \"linecolor\": \"white\", \"showbackground\": true, \"ticks\": \"\", \"zerolinecolor\": \"white\"}}, \"shapedefaults\": {\"line\": {\"color\": \"#2a3f5f\"}}, \"ternary\": {\"aaxis\": {\"gridcolor\": \"white\", \"linecolor\": \"white\", \"ticks\": \"\"}, \"baxis\": {\"gridcolor\": \"white\", \"linecolor\": \"white\", \"ticks\": \"\"}, \"bgcolor\": \"#E5ECF6\", \"caxis\": {\"gridcolor\": \"white\", \"linecolor\": \"white\", \"ticks\": \"\"}}, \"title\": {\"x\": 0.05}, \"xaxis\": {\"automargin\": true, \"gridcolor\": \"white\", \"linecolor\": \"white\", \"ticks\": \"\", \"title\": {\"standoff\": 15}, \"zerolinecolor\": \"white\", \"zerolinewidth\": 2}, \"yaxis\": {\"automargin\": true, \"gridcolor\": \"white\", \"linecolor\": \"white\", \"ticks\": \"\", \"title\": {\"standoff\": 15}, \"zerolinecolor\": \"white\", \"zerolinewidth\": 2}}}, \"title\": {\"text\": \"\\uc2dc\\ub3c4\\ubcc4 \\ubc30\\ub2ec\\ube44\\uc728\"}},                        {\"responsive\": true}                    ).then(function(){\n",
       "                            \n",
       "var gd = document.getElementById('1534b13b-4e39-4fbd-8834-31f03344d514');\n",
       "var x = new MutationObserver(function (mutations, observer) {{\n",
       "        var display = window.getComputedStyle(gd).display;\n",
       "        if (!display || display === 'none') {{\n",
       "            console.log([gd, 'removed!']);\n",
       "            Plotly.purge(gd);\n",
       "            observer.disconnect();\n",
       "        }}\n",
       "}});\n",
       "\n",
       "// Listen for the removal of the full notebook cells\n",
       "var notebookContainer = gd.closest('#notebook-container');\n",
       "if (notebookContainer) {{\n",
       "    x.observe(notebookContainer, {childList: true});\n",
       "}}\n",
       "\n",
       "// Listen for the clearing of the current output cell\n",
       "var outputEl = gd.closest('.output');\n",
       "if (outputEl) {{\n",
       "    x.observe(outputEl, {childList: true});\n",
       "}}\n",
       "\n",
       "                        })                };                });            </script>        </div>"
      ]
     },
     "metadata": {},
     "output_type": "display_data"
    }
   ],
   "source": [
    "# 상위 5개 막대 그래프 그리기\n",
    "trace1 = go.Bar(x=df_sort5['si_name'], y=df_sort5['count'])\n",
    "data = [trace1]\n",
    "layout = go.Layout(title='시도별 배달비율')\n",
    "fig = go.Figure(data=data, layout=layout)\n",
    "pyo.iplot(fig)"
   ]
  },
  {
   "cell_type": "markdown",
   "metadata": {},
   "source": [
    "# 지역별로 컬럼을 만들고 음식업종 이름 살펴보기 (4집단으로 분류)\n",
    "  * 지역별로 선호하는 음식의 기호가 다를 수 있다고 판단하고 각 지역별 주문된 음식에 대해 알고싶어서\n",
    "  * 크게4개집단 나눔 \n",
    "  * 서울특별시/경기/인천광역시\n",
    "  * 경상남도/경상북도/대구광역시/부산광역시   \n",
    "  * 전라남도/전라북도/광주광역시 \n",
    "  * 충청남도/충청북도/대전광역시(concat 함수를 이용해서 생성)"
   ]
  },
  {
   "cell_type": "code",
   "execution_count": 120,
   "metadata": {},
   "outputs": [],
   "source": [
    "# 그룹1 수도권 (서울특별시, 경기도, 인천광역시)\n",
    "is_kgd = del_dstn['si_name'] == '경기도'\n",
    "kgd = del_dstn[is_kgd]\n",
    "\n",
    "is_seoul = del_dstn['si_name'] == '서울특별시'\n",
    "seoul = del_dstn[is_seoul]\n",
    "\n",
    "is_inch = del_dstn['si_name'] == '인천광역시'\n",
    "inch = del_dstn[is_inch]\n",
    "\n",
    "gr1 = pd.concat([kgd, seoul, inch])"
   ]
  },
  {
   "cell_type": "code",
   "execution_count": 121,
   "metadata": {},
   "outputs": [],
   "source": [
    "# 그룹2 동남권 (경상남도/경상북도/대구광역시/부산광역시)\n",
    "is_kn = del_dstn['si_name'] == '경상남도'\n",
    "kn= del_dstn[is_kn]\n",
    "\n",
    "is_kb = del_dstn['si_name'] == '경상북도'\n",
    "kb = del_dstn[is_kb]\n",
    "\n",
    "is_dk = del_dstn['si_name'] == '대구광역시'\n",
    "dk = del_dstn[is_dk]\n",
    "\n",
    "is_bs = del_dstn['si_name'] == '부산광역시'\n",
    "bs = del_dstn[is_bs]\n",
    "\n",
    "gr2 = pd.concat([kn, kb, dk, bs])"
   ]
  },
  {
   "cell_type": "code",
   "execution_count": 122,
   "metadata": {},
   "outputs": [],
   "source": [
    "# 그룹3 호남권 (전라남도/전라북도/광주광역시)\n",
    "is_jn = del_dstn['si_name'] == '전라남도'\n",
    "jn = del_dstn[is_jn]\n",
    "\n",
    "is_jb = del_dstn['si_name'] == '전라북도'\n",
    "jb = del_dstn[is_jb]\n",
    "\n",
    "is_kj = del_dstn['si_name'] == '광주광역시'\n",
    "kj = del_dstn[is_kj]\n",
    "\n",
    "\n",
    "gr3 = pd.concat([jn, jb, kj])"
   ]
  },
  {
   "cell_type": "code",
   "execution_count": 123,
   "metadata": {},
   "outputs": [],
   "source": [
    "# 그룹4 호서권 (충청남도/충청북도/대전광역시)\n",
    "is_cn = del_dstn['si_name'] == '충청남도'\n",
    "cn = del_dstn[is_cn]\n",
    "\n",
    "is_cb = del_dstn['si_name'] == '충청북도'\n",
    "cb = del_dstn[is_cb]\n",
    "\n",
    "is_djj = del_dstn['si_name'] == '대전광역시'\n",
    "djj = del_dstn[is_djj]\n",
    "\n",
    "\n",
    "gr4 = pd.concat([cn, cb, djj])"
   ]
  },
  {
   "cell_type": "code",
   "execution_count": 127,
   "metadata": {},
   "outputs": [],
   "source": [
    "# 그룹1에서 많이시키는 빈도\n",
    "gr11 = gr1.groupby(['induty_nm']).size().reset_index(name='count')\n",
    "\n",
    "gr1_5 = gr11.sort_values(by=\"count\", ascending=False).head(10)\n",
    "gr1_sort5 = gr1_5.head(5)"
   ]
  },
  {
   "cell_type": "code",
   "execution_count": 126,
   "metadata": {},
   "outputs": [
    {
     "data": {
      "application/vnd.plotly.v1+json": {
       "config": {
        "linkText": "Export to plot.ly",
        "plotlyServerURL": "https://plot.ly",
        "showLink": false
       },
       "data": [
        {
         "type": "bar",
         "x": [
          "치킨",
          "한식",
          "분식",
          "카페/디저트",
          "족발/보쌈"
         ],
         "y": [
          814691,
          464390,
          424765,
          326393,
          312868
         ]
        }
       ],
       "layout": {
        "template": {
         "data": {
          "bar": [
           {
            "error_x": {
             "color": "#2a3f5f"
            },
            "error_y": {
             "color": "#2a3f5f"
            },
            "marker": {
             "line": {
              "color": "#E5ECF6",
              "width": 0.5
             }
            },
            "type": "bar"
           }
          ],
          "barpolar": [
           {
            "marker": {
             "line": {
              "color": "#E5ECF6",
              "width": 0.5
             }
            },
            "type": "barpolar"
           }
          ],
          "carpet": [
           {
            "aaxis": {
             "endlinecolor": "#2a3f5f",
             "gridcolor": "white",
             "linecolor": "white",
             "minorgridcolor": "white",
             "startlinecolor": "#2a3f5f"
            },
            "baxis": {
             "endlinecolor": "#2a3f5f",
             "gridcolor": "white",
             "linecolor": "white",
             "minorgridcolor": "white",
             "startlinecolor": "#2a3f5f"
            },
            "type": "carpet"
           }
          ],
          "choropleth": [
           {
            "colorbar": {
             "outlinewidth": 0,
             "ticks": ""
            },
            "type": "choropleth"
           }
          ],
          "contour": [
           {
            "colorbar": {
             "outlinewidth": 0,
             "ticks": ""
            },
            "colorscale": [
             [
              0,
              "#0d0887"
             ],
             [
              0.1111111111111111,
              "#46039f"
             ],
             [
              0.2222222222222222,
              "#7201a8"
             ],
             [
              0.3333333333333333,
              "#9c179e"
             ],
             [
              0.4444444444444444,
              "#bd3786"
             ],
             [
              0.5555555555555556,
              "#d8576b"
             ],
             [
              0.6666666666666666,
              "#ed7953"
             ],
             [
              0.7777777777777778,
              "#fb9f3a"
             ],
             [
              0.8888888888888888,
              "#fdca26"
             ],
             [
              1,
              "#f0f921"
             ]
            ],
            "type": "contour"
           }
          ],
          "contourcarpet": [
           {
            "colorbar": {
             "outlinewidth": 0,
             "ticks": ""
            },
            "type": "contourcarpet"
           }
          ],
          "heatmap": [
           {
            "colorbar": {
             "outlinewidth": 0,
             "ticks": ""
            },
            "colorscale": [
             [
              0,
              "#0d0887"
             ],
             [
              0.1111111111111111,
              "#46039f"
             ],
             [
              0.2222222222222222,
              "#7201a8"
             ],
             [
              0.3333333333333333,
              "#9c179e"
             ],
             [
              0.4444444444444444,
              "#bd3786"
             ],
             [
              0.5555555555555556,
              "#d8576b"
             ],
             [
              0.6666666666666666,
              "#ed7953"
             ],
             [
              0.7777777777777778,
              "#fb9f3a"
             ],
             [
              0.8888888888888888,
              "#fdca26"
             ],
             [
              1,
              "#f0f921"
             ]
            ],
            "type": "heatmap"
           }
          ],
          "heatmapgl": [
           {
            "colorbar": {
             "outlinewidth": 0,
             "ticks": ""
            },
            "colorscale": [
             [
              0,
              "#0d0887"
             ],
             [
              0.1111111111111111,
              "#46039f"
             ],
             [
              0.2222222222222222,
              "#7201a8"
             ],
             [
              0.3333333333333333,
              "#9c179e"
             ],
             [
              0.4444444444444444,
              "#bd3786"
             ],
             [
              0.5555555555555556,
              "#d8576b"
             ],
             [
              0.6666666666666666,
              "#ed7953"
             ],
             [
              0.7777777777777778,
              "#fb9f3a"
             ],
             [
              0.8888888888888888,
              "#fdca26"
             ],
             [
              1,
              "#f0f921"
             ]
            ],
            "type": "heatmapgl"
           }
          ],
          "histogram": [
           {
            "marker": {
             "colorbar": {
              "outlinewidth": 0,
              "ticks": ""
             }
            },
            "type": "histogram"
           }
          ],
          "histogram2d": [
           {
            "colorbar": {
             "outlinewidth": 0,
             "ticks": ""
            },
            "colorscale": [
             [
              0,
              "#0d0887"
             ],
             [
              0.1111111111111111,
              "#46039f"
             ],
             [
              0.2222222222222222,
              "#7201a8"
             ],
             [
              0.3333333333333333,
              "#9c179e"
             ],
             [
              0.4444444444444444,
              "#bd3786"
             ],
             [
              0.5555555555555556,
              "#d8576b"
             ],
             [
              0.6666666666666666,
              "#ed7953"
             ],
             [
              0.7777777777777778,
              "#fb9f3a"
             ],
             [
              0.8888888888888888,
              "#fdca26"
             ],
             [
              1,
              "#f0f921"
             ]
            ],
            "type": "histogram2d"
           }
          ],
          "histogram2dcontour": [
           {
            "colorbar": {
             "outlinewidth": 0,
             "ticks": ""
            },
            "colorscale": [
             [
              0,
              "#0d0887"
             ],
             [
              0.1111111111111111,
              "#46039f"
             ],
             [
              0.2222222222222222,
              "#7201a8"
             ],
             [
              0.3333333333333333,
              "#9c179e"
             ],
             [
              0.4444444444444444,
              "#bd3786"
             ],
             [
              0.5555555555555556,
              "#d8576b"
             ],
             [
              0.6666666666666666,
              "#ed7953"
             ],
             [
              0.7777777777777778,
              "#fb9f3a"
             ],
             [
              0.8888888888888888,
              "#fdca26"
             ],
             [
              1,
              "#f0f921"
             ]
            ],
            "type": "histogram2dcontour"
           }
          ],
          "mesh3d": [
           {
            "colorbar": {
             "outlinewidth": 0,
             "ticks": ""
            },
            "type": "mesh3d"
           }
          ],
          "parcoords": [
           {
            "line": {
             "colorbar": {
              "outlinewidth": 0,
              "ticks": ""
             }
            },
            "type": "parcoords"
           }
          ],
          "pie": [
           {
            "automargin": true,
            "type": "pie"
           }
          ],
          "scatter": [
           {
            "marker": {
             "colorbar": {
              "outlinewidth": 0,
              "ticks": ""
             }
            },
            "type": "scatter"
           }
          ],
          "scatter3d": [
           {
            "line": {
             "colorbar": {
              "outlinewidth": 0,
              "ticks": ""
             }
            },
            "marker": {
             "colorbar": {
              "outlinewidth": 0,
              "ticks": ""
             }
            },
            "type": "scatter3d"
           }
          ],
          "scattercarpet": [
           {
            "marker": {
             "colorbar": {
              "outlinewidth": 0,
              "ticks": ""
             }
            },
            "type": "scattercarpet"
           }
          ],
          "scattergeo": [
           {
            "marker": {
             "colorbar": {
              "outlinewidth": 0,
              "ticks": ""
             }
            },
            "type": "scattergeo"
           }
          ],
          "scattergl": [
           {
            "marker": {
             "colorbar": {
              "outlinewidth": 0,
              "ticks": ""
             }
            },
            "type": "scattergl"
           }
          ],
          "scattermapbox": [
           {
            "marker": {
             "colorbar": {
              "outlinewidth": 0,
              "ticks": ""
             }
            },
            "type": "scattermapbox"
           }
          ],
          "scatterpolar": [
           {
            "marker": {
             "colorbar": {
              "outlinewidth": 0,
              "ticks": ""
             }
            },
            "type": "scatterpolar"
           }
          ],
          "scatterpolargl": [
           {
            "marker": {
             "colorbar": {
              "outlinewidth": 0,
              "ticks": ""
             }
            },
            "type": "scatterpolargl"
           }
          ],
          "scatterternary": [
           {
            "marker": {
             "colorbar": {
              "outlinewidth": 0,
              "ticks": ""
             }
            },
            "type": "scatterternary"
           }
          ],
          "surface": [
           {
            "colorbar": {
             "outlinewidth": 0,
             "ticks": ""
            },
            "colorscale": [
             [
              0,
              "#0d0887"
             ],
             [
              0.1111111111111111,
              "#46039f"
             ],
             [
              0.2222222222222222,
              "#7201a8"
             ],
             [
              0.3333333333333333,
              "#9c179e"
             ],
             [
              0.4444444444444444,
              "#bd3786"
             ],
             [
              0.5555555555555556,
              "#d8576b"
             ],
             [
              0.6666666666666666,
              "#ed7953"
             ],
             [
              0.7777777777777778,
              "#fb9f3a"
             ],
             [
              0.8888888888888888,
              "#fdca26"
             ],
             [
              1,
              "#f0f921"
             ]
            ],
            "type": "surface"
           }
          ],
          "table": [
           {
            "cells": {
             "fill": {
              "color": "#EBF0F8"
             },
             "line": {
              "color": "white"
             }
            },
            "header": {
             "fill": {
              "color": "#C8D4E3"
             },
             "line": {
              "color": "white"
             }
            },
            "type": "table"
           }
          ]
         },
         "layout": {
          "annotationdefaults": {
           "arrowcolor": "#2a3f5f",
           "arrowhead": 0,
           "arrowwidth": 1
          },
          "coloraxis": {
           "colorbar": {
            "outlinewidth": 0,
            "ticks": ""
           }
          },
          "colorscale": {
           "diverging": [
            [
             0,
             "#8e0152"
            ],
            [
             0.1,
             "#c51b7d"
            ],
            [
             0.2,
             "#de77ae"
            ],
            [
             0.3,
             "#f1b6da"
            ],
            [
             0.4,
             "#fde0ef"
            ],
            [
             0.5,
             "#f7f7f7"
            ],
            [
             0.6,
             "#e6f5d0"
            ],
            [
             0.7,
             "#b8e186"
            ],
            [
             0.8,
             "#7fbc41"
            ],
            [
             0.9,
             "#4d9221"
            ],
            [
             1,
             "#276419"
            ]
           ],
           "sequential": [
            [
             0,
             "#0d0887"
            ],
            [
             0.1111111111111111,
             "#46039f"
            ],
            [
             0.2222222222222222,
             "#7201a8"
            ],
            [
             0.3333333333333333,
             "#9c179e"
            ],
            [
             0.4444444444444444,
             "#bd3786"
            ],
            [
             0.5555555555555556,
             "#d8576b"
            ],
            [
             0.6666666666666666,
             "#ed7953"
            ],
            [
             0.7777777777777778,
             "#fb9f3a"
            ],
            [
             0.8888888888888888,
             "#fdca26"
            ],
            [
             1,
             "#f0f921"
            ]
           ],
           "sequentialminus": [
            [
             0,
             "#0d0887"
            ],
            [
             0.1111111111111111,
             "#46039f"
            ],
            [
             0.2222222222222222,
             "#7201a8"
            ],
            [
             0.3333333333333333,
             "#9c179e"
            ],
            [
             0.4444444444444444,
             "#bd3786"
            ],
            [
             0.5555555555555556,
             "#d8576b"
            ],
            [
             0.6666666666666666,
             "#ed7953"
            ],
            [
             0.7777777777777778,
             "#fb9f3a"
            ],
            [
             0.8888888888888888,
             "#fdca26"
            ],
            [
             1,
             "#f0f921"
            ]
           ]
          },
          "colorway": [
           "#636efa",
           "#EF553B",
           "#00cc96",
           "#ab63fa",
           "#FFA15A",
           "#19d3f3",
           "#FF6692",
           "#B6E880",
           "#FF97FF",
           "#FECB52"
          ],
          "font": {
           "color": "#2a3f5f"
          },
          "geo": {
           "bgcolor": "white",
           "lakecolor": "white",
           "landcolor": "#E5ECF6",
           "showlakes": true,
           "showland": true,
           "subunitcolor": "white"
          },
          "hoverlabel": {
           "align": "left"
          },
          "hovermode": "closest",
          "mapbox": {
           "style": "light"
          },
          "paper_bgcolor": "white",
          "plot_bgcolor": "#E5ECF6",
          "polar": {
           "angularaxis": {
            "gridcolor": "white",
            "linecolor": "white",
            "ticks": ""
           },
           "bgcolor": "#E5ECF6",
           "radialaxis": {
            "gridcolor": "white",
            "linecolor": "white",
            "ticks": ""
           }
          },
          "scene": {
           "xaxis": {
            "backgroundcolor": "#E5ECF6",
            "gridcolor": "white",
            "gridwidth": 2,
            "linecolor": "white",
            "showbackground": true,
            "ticks": "",
            "zerolinecolor": "white"
           },
           "yaxis": {
            "backgroundcolor": "#E5ECF6",
            "gridcolor": "white",
            "gridwidth": 2,
            "linecolor": "white",
            "showbackground": true,
            "ticks": "",
            "zerolinecolor": "white"
           },
           "zaxis": {
            "backgroundcolor": "#E5ECF6",
            "gridcolor": "white",
            "gridwidth": 2,
            "linecolor": "white",
            "showbackground": true,
            "ticks": "",
            "zerolinecolor": "white"
           }
          },
          "shapedefaults": {
           "line": {
            "color": "#2a3f5f"
           }
          },
          "ternary": {
           "aaxis": {
            "gridcolor": "white",
            "linecolor": "white",
            "ticks": ""
           },
           "baxis": {
            "gridcolor": "white",
            "linecolor": "white",
            "ticks": ""
           },
           "bgcolor": "#E5ECF6",
           "caxis": {
            "gridcolor": "white",
            "linecolor": "white",
            "ticks": ""
           }
          },
          "title": {
           "x": 0.05
          },
          "xaxis": {
           "automargin": true,
           "gridcolor": "white",
           "linecolor": "white",
           "ticks": "",
           "title": {
            "standoff": 15
           },
           "zerolinecolor": "white",
           "zerolinewidth": 2
          },
          "yaxis": {
           "automargin": true,
           "gridcolor": "white",
           "linecolor": "white",
           "ticks": "",
           "title": {
            "standoff": 15
           },
           "zerolinecolor": "white",
           "zerolinewidth": 2
          }
         }
        },
        "title": {
         "text": "시도별 배달비율"
        }
       }
      },
      "text/html": [
       "<div>                            <div id=\"c4946038-b676-451d-b70a-c9a1f7aa20ac\" class=\"plotly-graph-div\" style=\"height:525px; width:100%;\"></div>            <script type=\"text/javascript\">                require([\"plotly\"], function(Plotly) {                    window.PLOTLYENV=window.PLOTLYENV || {};                                    if (document.getElementById(\"c4946038-b676-451d-b70a-c9a1f7aa20ac\")) {                    Plotly.newPlot(                        \"c4946038-b676-451d-b70a-c9a1f7aa20ac\",                        [{\"type\": \"bar\", \"x\": [\"\\uce58\\ud0a8\", \"\\ud55c\\uc2dd\", \"\\ubd84\\uc2dd\", \"\\uce74\\ud398/\\ub514\\uc800\\ud2b8\", \"\\uc871\\ubc1c/\\ubcf4\\uc308\"], \"y\": [814691, 464390, 424765, 326393, 312868]}],                        {\"template\": {\"data\": {\"bar\": [{\"error_x\": {\"color\": \"#2a3f5f\"}, \"error_y\": {\"color\": \"#2a3f5f\"}, \"marker\": {\"line\": {\"color\": \"#E5ECF6\", \"width\": 0.5}}, \"type\": \"bar\"}], \"barpolar\": [{\"marker\": {\"line\": {\"color\": \"#E5ECF6\", \"width\": 0.5}}, \"type\": \"barpolar\"}], \"carpet\": [{\"aaxis\": {\"endlinecolor\": \"#2a3f5f\", \"gridcolor\": \"white\", \"linecolor\": \"white\", \"minorgridcolor\": \"white\", \"startlinecolor\": \"#2a3f5f\"}, \"baxis\": {\"endlinecolor\": \"#2a3f5f\", \"gridcolor\": \"white\", \"linecolor\": \"white\", \"minorgridcolor\": \"white\", \"startlinecolor\": \"#2a3f5f\"}, \"type\": \"carpet\"}], \"choropleth\": [{\"colorbar\": {\"outlinewidth\": 0, \"ticks\": \"\"}, \"type\": \"choropleth\"}], \"contour\": [{\"colorbar\": {\"outlinewidth\": 0, \"ticks\": \"\"}, \"colorscale\": [[0.0, \"#0d0887\"], [0.1111111111111111, \"#46039f\"], [0.2222222222222222, \"#7201a8\"], [0.3333333333333333, \"#9c179e\"], [0.4444444444444444, \"#bd3786\"], [0.5555555555555556, \"#d8576b\"], [0.6666666666666666, \"#ed7953\"], [0.7777777777777778, \"#fb9f3a\"], [0.8888888888888888, \"#fdca26\"], [1.0, \"#f0f921\"]], \"type\": \"contour\"}], \"contourcarpet\": [{\"colorbar\": {\"outlinewidth\": 0, \"ticks\": \"\"}, \"type\": \"contourcarpet\"}], \"heatmap\": [{\"colorbar\": {\"outlinewidth\": 0, \"ticks\": \"\"}, \"colorscale\": [[0.0, \"#0d0887\"], [0.1111111111111111, \"#46039f\"], [0.2222222222222222, \"#7201a8\"], [0.3333333333333333, \"#9c179e\"], [0.4444444444444444, \"#bd3786\"], [0.5555555555555556, \"#d8576b\"], [0.6666666666666666, \"#ed7953\"], [0.7777777777777778, \"#fb9f3a\"], [0.8888888888888888, \"#fdca26\"], [1.0, \"#f0f921\"]], \"type\": \"heatmap\"}], \"heatmapgl\": [{\"colorbar\": {\"outlinewidth\": 0, \"ticks\": \"\"}, \"colorscale\": [[0.0, \"#0d0887\"], [0.1111111111111111, \"#46039f\"], [0.2222222222222222, \"#7201a8\"], [0.3333333333333333, \"#9c179e\"], [0.4444444444444444, \"#bd3786\"], [0.5555555555555556, \"#d8576b\"], [0.6666666666666666, \"#ed7953\"], [0.7777777777777778, \"#fb9f3a\"], [0.8888888888888888, \"#fdca26\"], [1.0, \"#f0f921\"]], \"type\": \"heatmapgl\"}], \"histogram\": [{\"marker\": {\"colorbar\": {\"outlinewidth\": 0, \"ticks\": \"\"}}, \"type\": \"histogram\"}], \"histogram2d\": [{\"colorbar\": {\"outlinewidth\": 0, \"ticks\": \"\"}, \"colorscale\": [[0.0, \"#0d0887\"], [0.1111111111111111, \"#46039f\"], [0.2222222222222222, \"#7201a8\"], [0.3333333333333333, \"#9c179e\"], [0.4444444444444444, \"#bd3786\"], [0.5555555555555556, \"#d8576b\"], [0.6666666666666666, \"#ed7953\"], [0.7777777777777778, \"#fb9f3a\"], [0.8888888888888888, \"#fdca26\"], [1.0, \"#f0f921\"]], \"type\": \"histogram2d\"}], \"histogram2dcontour\": [{\"colorbar\": {\"outlinewidth\": 0, \"ticks\": \"\"}, \"colorscale\": [[0.0, \"#0d0887\"], [0.1111111111111111, \"#46039f\"], [0.2222222222222222, \"#7201a8\"], [0.3333333333333333, \"#9c179e\"], [0.4444444444444444, \"#bd3786\"], [0.5555555555555556, \"#d8576b\"], [0.6666666666666666, \"#ed7953\"], [0.7777777777777778, \"#fb9f3a\"], [0.8888888888888888, \"#fdca26\"], [1.0, \"#f0f921\"]], \"type\": \"histogram2dcontour\"}], \"mesh3d\": [{\"colorbar\": {\"outlinewidth\": 0, \"ticks\": \"\"}, \"type\": \"mesh3d\"}], \"parcoords\": [{\"line\": {\"colorbar\": {\"outlinewidth\": 0, \"ticks\": \"\"}}, \"type\": \"parcoords\"}], \"pie\": [{\"automargin\": true, \"type\": \"pie\"}], \"scatter\": [{\"marker\": {\"colorbar\": {\"outlinewidth\": 0, \"ticks\": \"\"}}, \"type\": \"scatter\"}], \"scatter3d\": [{\"line\": {\"colorbar\": {\"outlinewidth\": 0, \"ticks\": \"\"}}, \"marker\": {\"colorbar\": {\"outlinewidth\": 0, \"ticks\": \"\"}}, \"type\": \"scatter3d\"}], \"scattercarpet\": [{\"marker\": {\"colorbar\": {\"outlinewidth\": 0, \"ticks\": \"\"}}, \"type\": \"scattercarpet\"}], \"scattergeo\": [{\"marker\": {\"colorbar\": {\"outlinewidth\": 0, \"ticks\": \"\"}}, \"type\": \"scattergeo\"}], \"scattergl\": [{\"marker\": {\"colorbar\": {\"outlinewidth\": 0, \"ticks\": \"\"}}, \"type\": \"scattergl\"}], \"scattermapbox\": [{\"marker\": {\"colorbar\": {\"outlinewidth\": 0, \"ticks\": \"\"}}, \"type\": \"scattermapbox\"}], \"scatterpolar\": [{\"marker\": {\"colorbar\": {\"outlinewidth\": 0, \"ticks\": \"\"}}, \"type\": \"scatterpolar\"}], \"scatterpolargl\": [{\"marker\": {\"colorbar\": {\"outlinewidth\": 0, \"ticks\": \"\"}}, \"type\": \"scatterpolargl\"}], \"scatterternary\": [{\"marker\": {\"colorbar\": {\"outlinewidth\": 0, \"ticks\": \"\"}}, \"type\": \"scatterternary\"}], \"surface\": [{\"colorbar\": {\"outlinewidth\": 0, \"ticks\": \"\"}, \"colorscale\": [[0.0, \"#0d0887\"], [0.1111111111111111, \"#46039f\"], [0.2222222222222222, \"#7201a8\"], [0.3333333333333333, \"#9c179e\"], [0.4444444444444444, \"#bd3786\"], [0.5555555555555556, \"#d8576b\"], [0.6666666666666666, \"#ed7953\"], [0.7777777777777778, \"#fb9f3a\"], [0.8888888888888888, \"#fdca26\"], [1.0, \"#f0f921\"]], \"type\": \"surface\"}], \"table\": [{\"cells\": {\"fill\": {\"color\": \"#EBF0F8\"}, \"line\": {\"color\": \"white\"}}, \"header\": {\"fill\": {\"color\": \"#C8D4E3\"}, \"line\": {\"color\": \"white\"}}, \"type\": \"table\"}]}, \"layout\": {\"annotationdefaults\": {\"arrowcolor\": \"#2a3f5f\", \"arrowhead\": 0, \"arrowwidth\": 1}, \"coloraxis\": {\"colorbar\": {\"outlinewidth\": 0, \"ticks\": \"\"}}, \"colorscale\": {\"diverging\": [[0, \"#8e0152\"], [0.1, \"#c51b7d\"], [0.2, \"#de77ae\"], [0.3, \"#f1b6da\"], [0.4, \"#fde0ef\"], [0.5, \"#f7f7f7\"], [0.6, \"#e6f5d0\"], [0.7, \"#b8e186\"], [0.8, \"#7fbc41\"], [0.9, \"#4d9221\"], [1, \"#276419\"]], \"sequential\": [[0.0, \"#0d0887\"], [0.1111111111111111, \"#46039f\"], [0.2222222222222222, \"#7201a8\"], [0.3333333333333333, \"#9c179e\"], [0.4444444444444444, \"#bd3786\"], [0.5555555555555556, \"#d8576b\"], [0.6666666666666666, \"#ed7953\"], [0.7777777777777778, \"#fb9f3a\"], [0.8888888888888888, \"#fdca26\"], [1.0, \"#f0f921\"]], \"sequentialminus\": [[0.0, \"#0d0887\"], [0.1111111111111111, \"#46039f\"], [0.2222222222222222, \"#7201a8\"], [0.3333333333333333, \"#9c179e\"], [0.4444444444444444, \"#bd3786\"], [0.5555555555555556, \"#d8576b\"], [0.6666666666666666, \"#ed7953\"], [0.7777777777777778, \"#fb9f3a\"], [0.8888888888888888, \"#fdca26\"], [1.0, \"#f0f921\"]]}, \"colorway\": [\"#636efa\", \"#EF553B\", \"#00cc96\", \"#ab63fa\", \"#FFA15A\", \"#19d3f3\", \"#FF6692\", \"#B6E880\", \"#FF97FF\", \"#FECB52\"], \"font\": {\"color\": \"#2a3f5f\"}, \"geo\": {\"bgcolor\": \"white\", \"lakecolor\": \"white\", \"landcolor\": \"#E5ECF6\", \"showlakes\": true, \"showland\": true, \"subunitcolor\": \"white\"}, \"hoverlabel\": {\"align\": \"left\"}, \"hovermode\": \"closest\", \"mapbox\": {\"style\": \"light\"}, \"paper_bgcolor\": \"white\", \"plot_bgcolor\": \"#E5ECF6\", \"polar\": {\"angularaxis\": {\"gridcolor\": \"white\", \"linecolor\": \"white\", \"ticks\": \"\"}, \"bgcolor\": \"#E5ECF6\", \"radialaxis\": {\"gridcolor\": \"white\", \"linecolor\": \"white\", \"ticks\": \"\"}}, \"scene\": {\"xaxis\": {\"backgroundcolor\": \"#E5ECF6\", \"gridcolor\": \"white\", \"gridwidth\": 2, \"linecolor\": \"white\", \"showbackground\": true, \"ticks\": \"\", \"zerolinecolor\": \"white\"}, \"yaxis\": {\"backgroundcolor\": \"#E5ECF6\", \"gridcolor\": \"white\", \"gridwidth\": 2, \"linecolor\": \"white\", \"showbackground\": true, \"ticks\": \"\", \"zerolinecolor\": \"white\"}, \"zaxis\": {\"backgroundcolor\": \"#E5ECF6\", \"gridcolor\": \"white\", \"gridwidth\": 2, \"linecolor\": \"white\", \"showbackground\": true, \"ticks\": \"\", \"zerolinecolor\": \"white\"}}, \"shapedefaults\": {\"line\": {\"color\": \"#2a3f5f\"}}, \"ternary\": {\"aaxis\": {\"gridcolor\": \"white\", \"linecolor\": \"white\", \"ticks\": \"\"}, \"baxis\": {\"gridcolor\": \"white\", \"linecolor\": \"white\", \"ticks\": \"\"}, \"bgcolor\": \"#E5ECF6\", \"caxis\": {\"gridcolor\": \"white\", \"linecolor\": \"white\", \"ticks\": \"\"}}, \"title\": {\"x\": 0.05}, \"xaxis\": {\"automargin\": true, \"gridcolor\": \"white\", \"linecolor\": \"white\", \"ticks\": \"\", \"title\": {\"standoff\": 15}, \"zerolinecolor\": \"white\", \"zerolinewidth\": 2}, \"yaxis\": {\"automargin\": true, \"gridcolor\": \"white\", \"linecolor\": \"white\", \"ticks\": \"\", \"title\": {\"standoff\": 15}, \"zerolinecolor\": \"white\", \"zerolinewidth\": 2}}}, \"title\": {\"text\": \"\\uc2dc\\ub3c4\\ubcc4 \\ubc30\\ub2ec\\ube44\\uc728\"}},                        {\"responsive\": true}                    ).then(function(){\n",
       "                            \n",
       "var gd = document.getElementById('c4946038-b676-451d-b70a-c9a1f7aa20ac');\n",
       "var x = new MutationObserver(function (mutations, observer) {{\n",
       "        var display = window.getComputedStyle(gd).display;\n",
       "        if (!display || display === 'none') {{\n",
       "            console.log([gd, 'removed!']);\n",
       "            Plotly.purge(gd);\n",
       "            observer.disconnect();\n",
       "        }}\n",
       "}});\n",
       "\n",
       "// Listen for the removal of the full notebook cells\n",
       "var notebookContainer = gd.closest('#notebook-container');\n",
       "if (notebookContainer) {{\n",
       "    x.observe(notebookContainer, {childList: true});\n",
       "}}\n",
       "\n",
       "// Listen for the clearing of the current output cell\n",
       "var outputEl = gd.closest('.output');\n",
       "if (outputEl) {{\n",
       "    x.observe(outputEl, {childList: true});\n",
       "}}\n",
       "\n",
       "                        })                };                });            </script>        </div>"
      ]
     },
     "metadata": {},
     "output_type": "display_data"
    }
   ],
   "source": [
    "# 상위 5개 막대 그래프 그리기\n",
    "trace1 = go.Bar(x=gr1_sort5['induty_nm'], y=gr1_sort5['count'])\n",
    "data = [trace1]\n",
    "layout = go.Layout(title='시도별 배달비율')\n",
    "fig = go.Figure(data=data, layout=layout)\n",
    "pyo.iplot(fig)"
   ]
  },
  {
   "cell_type": "code",
   "execution_count": 128,
   "metadata": {},
   "outputs": [],
   "source": [
    "# 그룹2에서 많이시키는 빈도\n",
    "gr22 = gr2.groupby(['induty_nm']).size().reset_index(name='count')\n",
    "\n",
    "gr2_5 = gr22.sort_values(by=\"count\", ascending=False).head(10)\n",
    "gr2_sort5 = gr2_5.head(5)"
   ]
  },
  {
   "cell_type": "code",
   "execution_count": 129,
   "metadata": {},
   "outputs": [
    {
     "data": {
      "application/vnd.plotly.v1+json": {
       "config": {
        "linkText": "Export to plot.ly",
        "plotlyServerURL": "https://plot.ly",
        "showLink": false
       },
       "data": [
        {
         "type": "bar",
         "x": [
          "치킨",
          "분식",
          "한식",
          "카페/디저트",
          "패스트푸드"
         ],
         "y": [
          105196,
          83957,
          66342,
          61574,
          33492
         ]
        }
       ],
       "layout": {
        "template": {
         "data": {
          "bar": [
           {
            "error_x": {
             "color": "#2a3f5f"
            },
            "error_y": {
             "color": "#2a3f5f"
            },
            "marker": {
             "line": {
              "color": "#E5ECF6",
              "width": 0.5
             }
            },
            "type": "bar"
           }
          ],
          "barpolar": [
           {
            "marker": {
             "line": {
              "color": "#E5ECF6",
              "width": 0.5
             }
            },
            "type": "barpolar"
           }
          ],
          "carpet": [
           {
            "aaxis": {
             "endlinecolor": "#2a3f5f",
             "gridcolor": "white",
             "linecolor": "white",
             "minorgridcolor": "white",
             "startlinecolor": "#2a3f5f"
            },
            "baxis": {
             "endlinecolor": "#2a3f5f",
             "gridcolor": "white",
             "linecolor": "white",
             "minorgridcolor": "white",
             "startlinecolor": "#2a3f5f"
            },
            "type": "carpet"
           }
          ],
          "choropleth": [
           {
            "colorbar": {
             "outlinewidth": 0,
             "ticks": ""
            },
            "type": "choropleth"
           }
          ],
          "contour": [
           {
            "colorbar": {
             "outlinewidth": 0,
             "ticks": ""
            },
            "colorscale": [
             [
              0,
              "#0d0887"
             ],
             [
              0.1111111111111111,
              "#46039f"
             ],
             [
              0.2222222222222222,
              "#7201a8"
             ],
             [
              0.3333333333333333,
              "#9c179e"
             ],
             [
              0.4444444444444444,
              "#bd3786"
             ],
             [
              0.5555555555555556,
              "#d8576b"
             ],
             [
              0.6666666666666666,
              "#ed7953"
             ],
             [
              0.7777777777777778,
              "#fb9f3a"
             ],
             [
              0.8888888888888888,
              "#fdca26"
             ],
             [
              1,
              "#f0f921"
             ]
            ],
            "type": "contour"
           }
          ],
          "contourcarpet": [
           {
            "colorbar": {
             "outlinewidth": 0,
             "ticks": ""
            },
            "type": "contourcarpet"
           }
          ],
          "heatmap": [
           {
            "colorbar": {
             "outlinewidth": 0,
             "ticks": ""
            },
            "colorscale": [
             [
              0,
              "#0d0887"
             ],
             [
              0.1111111111111111,
              "#46039f"
             ],
             [
              0.2222222222222222,
              "#7201a8"
             ],
             [
              0.3333333333333333,
              "#9c179e"
             ],
             [
              0.4444444444444444,
              "#bd3786"
             ],
             [
              0.5555555555555556,
              "#d8576b"
             ],
             [
              0.6666666666666666,
              "#ed7953"
             ],
             [
              0.7777777777777778,
              "#fb9f3a"
             ],
             [
              0.8888888888888888,
              "#fdca26"
             ],
             [
              1,
              "#f0f921"
             ]
            ],
            "type": "heatmap"
           }
          ],
          "heatmapgl": [
           {
            "colorbar": {
             "outlinewidth": 0,
             "ticks": ""
            },
            "colorscale": [
             [
              0,
              "#0d0887"
             ],
             [
              0.1111111111111111,
              "#46039f"
             ],
             [
              0.2222222222222222,
              "#7201a8"
             ],
             [
              0.3333333333333333,
              "#9c179e"
             ],
             [
              0.4444444444444444,
              "#bd3786"
             ],
             [
              0.5555555555555556,
              "#d8576b"
             ],
             [
              0.6666666666666666,
              "#ed7953"
             ],
             [
              0.7777777777777778,
              "#fb9f3a"
             ],
             [
              0.8888888888888888,
              "#fdca26"
             ],
             [
              1,
              "#f0f921"
             ]
            ],
            "type": "heatmapgl"
           }
          ],
          "histogram": [
           {
            "marker": {
             "colorbar": {
              "outlinewidth": 0,
              "ticks": ""
             }
            },
            "type": "histogram"
           }
          ],
          "histogram2d": [
           {
            "colorbar": {
             "outlinewidth": 0,
             "ticks": ""
            },
            "colorscale": [
             [
              0,
              "#0d0887"
             ],
             [
              0.1111111111111111,
              "#46039f"
             ],
             [
              0.2222222222222222,
              "#7201a8"
             ],
             [
              0.3333333333333333,
              "#9c179e"
             ],
             [
              0.4444444444444444,
              "#bd3786"
             ],
             [
              0.5555555555555556,
              "#d8576b"
             ],
             [
              0.6666666666666666,
              "#ed7953"
             ],
             [
              0.7777777777777778,
              "#fb9f3a"
             ],
             [
              0.8888888888888888,
              "#fdca26"
             ],
             [
              1,
              "#f0f921"
             ]
            ],
            "type": "histogram2d"
           }
          ],
          "histogram2dcontour": [
           {
            "colorbar": {
             "outlinewidth": 0,
             "ticks": ""
            },
            "colorscale": [
             [
              0,
              "#0d0887"
             ],
             [
              0.1111111111111111,
              "#46039f"
             ],
             [
              0.2222222222222222,
              "#7201a8"
             ],
             [
              0.3333333333333333,
              "#9c179e"
             ],
             [
              0.4444444444444444,
              "#bd3786"
             ],
             [
              0.5555555555555556,
              "#d8576b"
             ],
             [
              0.6666666666666666,
              "#ed7953"
             ],
             [
              0.7777777777777778,
              "#fb9f3a"
             ],
             [
              0.8888888888888888,
              "#fdca26"
             ],
             [
              1,
              "#f0f921"
             ]
            ],
            "type": "histogram2dcontour"
           }
          ],
          "mesh3d": [
           {
            "colorbar": {
             "outlinewidth": 0,
             "ticks": ""
            },
            "type": "mesh3d"
           }
          ],
          "parcoords": [
           {
            "line": {
             "colorbar": {
              "outlinewidth": 0,
              "ticks": ""
             }
            },
            "type": "parcoords"
           }
          ],
          "pie": [
           {
            "automargin": true,
            "type": "pie"
           }
          ],
          "scatter": [
           {
            "marker": {
             "colorbar": {
              "outlinewidth": 0,
              "ticks": ""
             }
            },
            "type": "scatter"
           }
          ],
          "scatter3d": [
           {
            "line": {
             "colorbar": {
              "outlinewidth": 0,
              "ticks": ""
             }
            },
            "marker": {
             "colorbar": {
              "outlinewidth": 0,
              "ticks": ""
             }
            },
            "type": "scatter3d"
           }
          ],
          "scattercarpet": [
           {
            "marker": {
             "colorbar": {
              "outlinewidth": 0,
              "ticks": ""
             }
            },
            "type": "scattercarpet"
           }
          ],
          "scattergeo": [
           {
            "marker": {
             "colorbar": {
              "outlinewidth": 0,
              "ticks": ""
             }
            },
            "type": "scattergeo"
           }
          ],
          "scattergl": [
           {
            "marker": {
             "colorbar": {
              "outlinewidth": 0,
              "ticks": ""
             }
            },
            "type": "scattergl"
           }
          ],
          "scattermapbox": [
           {
            "marker": {
             "colorbar": {
              "outlinewidth": 0,
              "ticks": ""
             }
            },
            "type": "scattermapbox"
           }
          ],
          "scatterpolar": [
           {
            "marker": {
             "colorbar": {
              "outlinewidth": 0,
              "ticks": ""
             }
            },
            "type": "scatterpolar"
           }
          ],
          "scatterpolargl": [
           {
            "marker": {
             "colorbar": {
              "outlinewidth": 0,
              "ticks": ""
             }
            },
            "type": "scatterpolargl"
           }
          ],
          "scatterternary": [
           {
            "marker": {
             "colorbar": {
              "outlinewidth": 0,
              "ticks": ""
             }
            },
            "type": "scatterternary"
           }
          ],
          "surface": [
           {
            "colorbar": {
             "outlinewidth": 0,
             "ticks": ""
            },
            "colorscale": [
             [
              0,
              "#0d0887"
             ],
             [
              0.1111111111111111,
              "#46039f"
             ],
             [
              0.2222222222222222,
              "#7201a8"
             ],
             [
              0.3333333333333333,
              "#9c179e"
             ],
             [
              0.4444444444444444,
              "#bd3786"
             ],
             [
              0.5555555555555556,
              "#d8576b"
             ],
             [
              0.6666666666666666,
              "#ed7953"
             ],
             [
              0.7777777777777778,
              "#fb9f3a"
             ],
             [
              0.8888888888888888,
              "#fdca26"
             ],
             [
              1,
              "#f0f921"
             ]
            ],
            "type": "surface"
           }
          ],
          "table": [
           {
            "cells": {
             "fill": {
              "color": "#EBF0F8"
             },
             "line": {
              "color": "white"
             }
            },
            "header": {
             "fill": {
              "color": "#C8D4E3"
             },
             "line": {
              "color": "white"
             }
            },
            "type": "table"
           }
          ]
         },
         "layout": {
          "annotationdefaults": {
           "arrowcolor": "#2a3f5f",
           "arrowhead": 0,
           "arrowwidth": 1
          },
          "coloraxis": {
           "colorbar": {
            "outlinewidth": 0,
            "ticks": ""
           }
          },
          "colorscale": {
           "diverging": [
            [
             0,
             "#8e0152"
            ],
            [
             0.1,
             "#c51b7d"
            ],
            [
             0.2,
             "#de77ae"
            ],
            [
             0.3,
             "#f1b6da"
            ],
            [
             0.4,
             "#fde0ef"
            ],
            [
             0.5,
             "#f7f7f7"
            ],
            [
             0.6,
             "#e6f5d0"
            ],
            [
             0.7,
             "#b8e186"
            ],
            [
             0.8,
             "#7fbc41"
            ],
            [
             0.9,
             "#4d9221"
            ],
            [
             1,
             "#276419"
            ]
           ],
           "sequential": [
            [
             0,
             "#0d0887"
            ],
            [
             0.1111111111111111,
             "#46039f"
            ],
            [
             0.2222222222222222,
             "#7201a8"
            ],
            [
             0.3333333333333333,
             "#9c179e"
            ],
            [
             0.4444444444444444,
             "#bd3786"
            ],
            [
             0.5555555555555556,
             "#d8576b"
            ],
            [
             0.6666666666666666,
             "#ed7953"
            ],
            [
             0.7777777777777778,
             "#fb9f3a"
            ],
            [
             0.8888888888888888,
             "#fdca26"
            ],
            [
             1,
             "#f0f921"
            ]
           ],
           "sequentialminus": [
            [
             0,
             "#0d0887"
            ],
            [
             0.1111111111111111,
             "#46039f"
            ],
            [
             0.2222222222222222,
             "#7201a8"
            ],
            [
             0.3333333333333333,
             "#9c179e"
            ],
            [
             0.4444444444444444,
             "#bd3786"
            ],
            [
             0.5555555555555556,
             "#d8576b"
            ],
            [
             0.6666666666666666,
             "#ed7953"
            ],
            [
             0.7777777777777778,
             "#fb9f3a"
            ],
            [
             0.8888888888888888,
             "#fdca26"
            ],
            [
             1,
             "#f0f921"
            ]
           ]
          },
          "colorway": [
           "#636efa",
           "#EF553B",
           "#00cc96",
           "#ab63fa",
           "#FFA15A",
           "#19d3f3",
           "#FF6692",
           "#B6E880",
           "#FF97FF",
           "#FECB52"
          ],
          "font": {
           "color": "#2a3f5f"
          },
          "geo": {
           "bgcolor": "white",
           "lakecolor": "white",
           "landcolor": "#E5ECF6",
           "showlakes": true,
           "showland": true,
           "subunitcolor": "white"
          },
          "hoverlabel": {
           "align": "left"
          },
          "hovermode": "closest",
          "mapbox": {
           "style": "light"
          },
          "paper_bgcolor": "white",
          "plot_bgcolor": "#E5ECF6",
          "polar": {
           "angularaxis": {
            "gridcolor": "white",
            "linecolor": "white",
            "ticks": ""
           },
           "bgcolor": "#E5ECF6",
           "radialaxis": {
            "gridcolor": "white",
            "linecolor": "white",
            "ticks": ""
           }
          },
          "scene": {
           "xaxis": {
            "backgroundcolor": "#E5ECF6",
            "gridcolor": "white",
            "gridwidth": 2,
            "linecolor": "white",
            "showbackground": true,
            "ticks": "",
            "zerolinecolor": "white"
           },
           "yaxis": {
            "backgroundcolor": "#E5ECF6",
            "gridcolor": "white",
            "gridwidth": 2,
            "linecolor": "white",
            "showbackground": true,
            "ticks": "",
            "zerolinecolor": "white"
           },
           "zaxis": {
            "backgroundcolor": "#E5ECF6",
            "gridcolor": "white",
            "gridwidth": 2,
            "linecolor": "white",
            "showbackground": true,
            "ticks": "",
            "zerolinecolor": "white"
           }
          },
          "shapedefaults": {
           "line": {
            "color": "#2a3f5f"
           }
          },
          "ternary": {
           "aaxis": {
            "gridcolor": "white",
            "linecolor": "white",
            "ticks": ""
           },
           "baxis": {
            "gridcolor": "white",
            "linecolor": "white",
            "ticks": ""
           },
           "bgcolor": "#E5ECF6",
           "caxis": {
            "gridcolor": "white",
            "linecolor": "white",
            "ticks": ""
           }
          },
          "title": {
           "x": 0.05
          },
          "xaxis": {
           "automargin": true,
           "gridcolor": "white",
           "linecolor": "white",
           "ticks": "",
           "title": {
            "standoff": 15
           },
           "zerolinecolor": "white",
           "zerolinewidth": 2
          },
          "yaxis": {
           "automargin": true,
           "gridcolor": "white",
           "linecolor": "white",
           "ticks": "",
           "title": {
            "standoff": 15
           },
           "zerolinecolor": "white",
           "zerolinewidth": 2
          }
         }
        },
        "title": {
         "text": "시도별 배달비율"
        }
       }
      },
      "text/html": [
       "<div>                            <div id=\"97a8606c-fb28-48e6-a574-65d523d71c4b\" class=\"plotly-graph-div\" style=\"height:525px; width:100%;\"></div>            <script type=\"text/javascript\">                require([\"plotly\"], function(Plotly) {                    window.PLOTLYENV=window.PLOTLYENV || {};                                    if (document.getElementById(\"97a8606c-fb28-48e6-a574-65d523d71c4b\")) {                    Plotly.newPlot(                        \"97a8606c-fb28-48e6-a574-65d523d71c4b\",                        [{\"type\": \"bar\", \"x\": [\"\\uce58\\ud0a8\", \"\\ubd84\\uc2dd\", \"\\ud55c\\uc2dd\", \"\\uce74\\ud398/\\ub514\\uc800\\ud2b8\", \"\\ud328\\uc2a4\\ud2b8\\ud478\\ub4dc\"], \"y\": [105196, 83957, 66342, 61574, 33492]}],                        {\"template\": {\"data\": {\"bar\": [{\"error_x\": {\"color\": \"#2a3f5f\"}, \"error_y\": {\"color\": \"#2a3f5f\"}, \"marker\": {\"line\": {\"color\": \"#E5ECF6\", \"width\": 0.5}}, \"type\": \"bar\"}], \"barpolar\": [{\"marker\": {\"line\": {\"color\": \"#E5ECF6\", \"width\": 0.5}}, \"type\": \"barpolar\"}], \"carpet\": [{\"aaxis\": {\"endlinecolor\": \"#2a3f5f\", \"gridcolor\": \"white\", \"linecolor\": \"white\", \"minorgridcolor\": \"white\", \"startlinecolor\": \"#2a3f5f\"}, \"baxis\": {\"endlinecolor\": \"#2a3f5f\", \"gridcolor\": \"white\", \"linecolor\": \"white\", \"minorgridcolor\": \"white\", \"startlinecolor\": \"#2a3f5f\"}, \"type\": \"carpet\"}], \"choropleth\": [{\"colorbar\": {\"outlinewidth\": 0, \"ticks\": \"\"}, \"type\": \"choropleth\"}], \"contour\": [{\"colorbar\": {\"outlinewidth\": 0, \"ticks\": \"\"}, \"colorscale\": [[0.0, \"#0d0887\"], [0.1111111111111111, \"#46039f\"], [0.2222222222222222, \"#7201a8\"], [0.3333333333333333, \"#9c179e\"], [0.4444444444444444, \"#bd3786\"], [0.5555555555555556, \"#d8576b\"], [0.6666666666666666, \"#ed7953\"], [0.7777777777777778, \"#fb9f3a\"], [0.8888888888888888, \"#fdca26\"], [1.0, \"#f0f921\"]], \"type\": \"contour\"}], \"contourcarpet\": [{\"colorbar\": {\"outlinewidth\": 0, \"ticks\": \"\"}, \"type\": \"contourcarpet\"}], \"heatmap\": [{\"colorbar\": {\"outlinewidth\": 0, \"ticks\": \"\"}, \"colorscale\": [[0.0, \"#0d0887\"], [0.1111111111111111, \"#46039f\"], [0.2222222222222222, \"#7201a8\"], [0.3333333333333333, \"#9c179e\"], [0.4444444444444444, \"#bd3786\"], [0.5555555555555556, \"#d8576b\"], [0.6666666666666666, \"#ed7953\"], [0.7777777777777778, \"#fb9f3a\"], [0.8888888888888888, \"#fdca26\"], [1.0, \"#f0f921\"]], \"type\": \"heatmap\"}], \"heatmapgl\": [{\"colorbar\": {\"outlinewidth\": 0, \"ticks\": \"\"}, \"colorscale\": [[0.0, \"#0d0887\"], [0.1111111111111111, \"#46039f\"], [0.2222222222222222, \"#7201a8\"], [0.3333333333333333, \"#9c179e\"], [0.4444444444444444, \"#bd3786\"], [0.5555555555555556, \"#d8576b\"], [0.6666666666666666, \"#ed7953\"], [0.7777777777777778, \"#fb9f3a\"], [0.8888888888888888, \"#fdca26\"], [1.0, \"#f0f921\"]], \"type\": \"heatmapgl\"}], \"histogram\": [{\"marker\": {\"colorbar\": {\"outlinewidth\": 0, \"ticks\": \"\"}}, \"type\": \"histogram\"}], \"histogram2d\": [{\"colorbar\": {\"outlinewidth\": 0, \"ticks\": \"\"}, \"colorscale\": [[0.0, \"#0d0887\"], [0.1111111111111111, \"#46039f\"], [0.2222222222222222, \"#7201a8\"], [0.3333333333333333, \"#9c179e\"], [0.4444444444444444, \"#bd3786\"], [0.5555555555555556, \"#d8576b\"], [0.6666666666666666, \"#ed7953\"], [0.7777777777777778, \"#fb9f3a\"], [0.8888888888888888, \"#fdca26\"], [1.0, \"#f0f921\"]], \"type\": \"histogram2d\"}], \"histogram2dcontour\": [{\"colorbar\": {\"outlinewidth\": 0, \"ticks\": \"\"}, \"colorscale\": [[0.0, \"#0d0887\"], [0.1111111111111111, \"#46039f\"], [0.2222222222222222, \"#7201a8\"], [0.3333333333333333, \"#9c179e\"], [0.4444444444444444, \"#bd3786\"], [0.5555555555555556, \"#d8576b\"], [0.6666666666666666, \"#ed7953\"], [0.7777777777777778, \"#fb9f3a\"], [0.8888888888888888, \"#fdca26\"], [1.0, \"#f0f921\"]], \"type\": \"histogram2dcontour\"}], \"mesh3d\": [{\"colorbar\": {\"outlinewidth\": 0, \"ticks\": \"\"}, \"type\": \"mesh3d\"}], \"parcoords\": [{\"line\": {\"colorbar\": {\"outlinewidth\": 0, \"ticks\": \"\"}}, \"type\": \"parcoords\"}], \"pie\": [{\"automargin\": true, \"type\": \"pie\"}], \"scatter\": [{\"marker\": {\"colorbar\": {\"outlinewidth\": 0, \"ticks\": \"\"}}, \"type\": \"scatter\"}], \"scatter3d\": [{\"line\": {\"colorbar\": {\"outlinewidth\": 0, \"ticks\": \"\"}}, \"marker\": {\"colorbar\": {\"outlinewidth\": 0, \"ticks\": \"\"}}, \"type\": \"scatter3d\"}], \"scattercarpet\": [{\"marker\": {\"colorbar\": {\"outlinewidth\": 0, \"ticks\": \"\"}}, \"type\": \"scattercarpet\"}], \"scattergeo\": [{\"marker\": {\"colorbar\": {\"outlinewidth\": 0, \"ticks\": \"\"}}, \"type\": \"scattergeo\"}], \"scattergl\": [{\"marker\": {\"colorbar\": {\"outlinewidth\": 0, \"ticks\": \"\"}}, \"type\": \"scattergl\"}], \"scattermapbox\": [{\"marker\": {\"colorbar\": {\"outlinewidth\": 0, \"ticks\": \"\"}}, \"type\": \"scattermapbox\"}], \"scatterpolar\": [{\"marker\": {\"colorbar\": {\"outlinewidth\": 0, \"ticks\": \"\"}}, \"type\": \"scatterpolar\"}], \"scatterpolargl\": [{\"marker\": {\"colorbar\": {\"outlinewidth\": 0, \"ticks\": \"\"}}, \"type\": \"scatterpolargl\"}], \"scatterternary\": [{\"marker\": {\"colorbar\": {\"outlinewidth\": 0, \"ticks\": \"\"}}, \"type\": \"scatterternary\"}], \"surface\": [{\"colorbar\": {\"outlinewidth\": 0, \"ticks\": \"\"}, \"colorscale\": [[0.0, \"#0d0887\"], [0.1111111111111111, \"#46039f\"], [0.2222222222222222, \"#7201a8\"], [0.3333333333333333, \"#9c179e\"], [0.4444444444444444, \"#bd3786\"], [0.5555555555555556, \"#d8576b\"], [0.6666666666666666, \"#ed7953\"], [0.7777777777777778, \"#fb9f3a\"], [0.8888888888888888, \"#fdca26\"], [1.0, \"#f0f921\"]], \"type\": \"surface\"}], \"table\": [{\"cells\": {\"fill\": {\"color\": \"#EBF0F8\"}, \"line\": {\"color\": \"white\"}}, \"header\": {\"fill\": {\"color\": \"#C8D4E3\"}, \"line\": {\"color\": \"white\"}}, \"type\": \"table\"}]}, \"layout\": {\"annotationdefaults\": {\"arrowcolor\": \"#2a3f5f\", \"arrowhead\": 0, \"arrowwidth\": 1}, \"coloraxis\": {\"colorbar\": {\"outlinewidth\": 0, \"ticks\": \"\"}}, \"colorscale\": {\"diverging\": [[0, \"#8e0152\"], [0.1, \"#c51b7d\"], [0.2, \"#de77ae\"], [0.3, \"#f1b6da\"], [0.4, \"#fde0ef\"], [0.5, \"#f7f7f7\"], [0.6, \"#e6f5d0\"], [0.7, \"#b8e186\"], [0.8, \"#7fbc41\"], [0.9, \"#4d9221\"], [1, \"#276419\"]], \"sequential\": [[0.0, \"#0d0887\"], [0.1111111111111111, \"#46039f\"], [0.2222222222222222, \"#7201a8\"], [0.3333333333333333, \"#9c179e\"], [0.4444444444444444, \"#bd3786\"], [0.5555555555555556, \"#d8576b\"], [0.6666666666666666, \"#ed7953\"], [0.7777777777777778, \"#fb9f3a\"], [0.8888888888888888, \"#fdca26\"], [1.0, \"#f0f921\"]], \"sequentialminus\": [[0.0, \"#0d0887\"], [0.1111111111111111, \"#46039f\"], [0.2222222222222222, \"#7201a8\"], [0.3333333333333333, \"#9c179e\"], [0.4444444444444444, \"#bd3786\"], [0.5555555555555556, \"#d8576b\"], [0.6666666666666666, \"#ed7953\"], [0.7777777777777778, \"#fb9f3a\"], [0.8888888888888888, \"#fdca26\"], [1.0, \"#f0f921\"]]}, \"colorway\": [\"#636efa\", \"#EF553B\", \"#00cc96\", \"#ab63fa\", \"#FFA15A\", \"#19d3f3\", \"#FF6692\", \"#B6E880\", \"#FF97FF\", \"#FECB52\"], \"font\": {\"color\": \"#2a3f5f\"}, \"geo\": {\"bgcolor\": \"white\", \"lakecolor\": \"white\", \"landcolor\": \"#E5ECF6\", \"showlakes\": true, \"showland\": true, \"subunitcolor\": \"white\"}, \"hoverlabel\": {\"align\": \"left\"}, \"hovermode\": \"closest\", \"mapbox\": {\"style\": \"light\"}, \"paper_bgcolor\": \"white\", \"plot_bgcolor\": \"#E5ECF6\", \"polar\": {\"angularaxis\": {\"gridcolor\": \"white\", \"linecolor\": \"white\", \"ticks\": \"\"}, \"bgcolor\": \"#E5ECF6\", \"radialaxis\": {\"gridcolor\": \"white\", \"linecolor\": \"white\", \"ticks\": \"\"}}, \"scene\": {\"xaxis\": {\"backgroundcolor\": \"#E5ECF6\", \"gridcolor\": \"white\", \"gridwidth\": 2, \"linecolor\": \"white\", \"showbackground\": true, \"ticks\": \"\", \"zerolinecolor\": \"white\"}, \"yaxis\": {\"backgroundcolor\": \"#E5ECF6\", \"gridcolor\": \"white\", \"gridwidth\": 2, \"linecolor\": \"white\", \"showbackground\": true, \"ticks\": \"\", \"zerolinecolor\": \"white\"}, \"zaxis\": {\"backgroundcolor\": \"#E5ECF6\", \"gridcolor\": \"white\", \"gridwidth\": 2, \"linecolor\": \"white\", \"showbackground\": true, \"ticks\": \"\", \"zerolinecolor\": \"white\"}}, \"shapedefaults\": {\"line\": {\"color\": \"#2a3f5f\"}}, \"ternary\": {\"aaxis\": {\"gridcolor\": \"white\", \"linecolor\": \"white\", \"ticks\": \"\"}, \"baxis\": {\"gridcolor\": \"white\", \"linecolor\": \"white\", \"ticks\": \"\"}, \"bgcolor\": \"#E5ECF6\", \"caxis\": {\"gridcolor\": \"white\", \"linecolor\": \"white\", \"ticks\": \"\"}}, \"title\": {\"x\": 0.05}, \"xaxis\": {\"automargin\": true, \"gridcolor\": \"white\", \"linecolor\": \"white\", \"ticks\": \"\", \"title\": {\"standoff\": 15}, \"zerolinecolor\": \"white\", \"zerolinewidth\": 2}, \"yaxis\": {\"automargin\": true, \"gridcolor\": \"white\", \"linecolor\": \"white\", \"ticks\": \"\", \"title\": {\"standoff\": 15}, \"zerolinecolor\": \"white\", \"zerolinewidth\": 2}}}, \"title\": {\"text\": \"\\uc2dc\\ub3c4\\ubcc4 \\ubc30\\ub2ec\\ube44\\uc728\"}},                        {\"responsive\": true}                    ).then(function(){\n",
       "                            \n",
       "var gd = document.getElementById('97a8606c-fb28-48e6-a574-65d523d71c4b');\n",
       "var x = new MutationObserver(function (mutations, observer) {{\n",
       "        var display = window.getComputedStyle(gd).display;\n",
       "        if (!display || display === 'none') {{\n",
       "            console.log([gd, 'removed!']);\n",
       "            Plotly.purge(gd);\n",
       "            observer.disconnect();\n",
       "        }}\n",
       "}});\n",
       "\n",
       "// Listen for the removal of the full notebook cells\n",
       "var notebookContainer = gd.closest('#notebook-container');\n",
       "if (notebookContainer) {{\n",
       "    x.observe(notebookContainer, {childList: true});\n",
       "}}\n",
       "\n",
       "// Listen for the clearing of the current output cell\n",
       "var outputEl = gd.closest('.output');\n",
       "if (outputEl) {{\n",
       "    x.observe(outputEl, {childList: true});\n",
       "}}\n",
       "\n",
       "                        })                };                });            </script>        </div>"
      ]
     },
     "metadata": {},
     "output_type": "display_data"
    }
   ],
   "source": [
    "# 상위 5개 막대 그래프 그리기\n",
    "trace1 = go.Bar(x=gr2_sort5['induty_nm'], y=gr2_sort5['count'])\n",
    "data = [trace1]\n",
    "layout = go.Layout(title='시도별 배달비율')\n",
    "fig = go.Figure(data=data, layout=layout)\n",
    "pyo.iplot(fig)"
   ]
  },
  {
   "cell_type": "code",
   "execution_count": 130,
   "metadata": {},
   "outputs": [],
   "source": [
    "# 그룹3에서 많이시키는 빈도\n",
    "gr33 = gr3.groupby(['induty_nm']).size().reset_index(name='count')\n",
    "\n",
    "gr3_5 = gr33.sort_values(by=\"count\", ascending=False).head(10)\n",
    "gr3_sort5 = gr3_5.head(5)"
   ]
  },
  {
   "cell_type": "code",
   "execution_count": 131,
   "metadata": {},
   "outputs": [
    {
     "data": {
      "application/vnd.plotly.v1+json": {
       "config": {
        "linkText": "Export to plot.ly",
        "plotlyServerURL": "https://plot.ly",
        "showLink": false
       },
       "data": [
        {
         "type": "bar",
         "x": [
          "치킨",
          "분식",
          "한식",
          "야식",
          "카페/디저트"
         ],
         "y": [
          44788,
          26467,
          22061,
          20306,
          16895
         ]
        }
       ],
       "layout": {
        "template": {
         "data": {
          "bar": [
           {
            "error_x": {
             "color": "#2a3f5f"
            },
            "error_y": {
             "color": "#2a3f5f"
            },
            "marker": {
             "line": {
              "color": "#E5ECF6",
              "width": 0.5
             }
            },
            "type": "bar"
           }
          ],
          "barpolar": [
           {
            "marker": {
             "line": {
              "color": "#E5ECF6",
              "width": 0.5
             }
            },
            "type": "barpolar"
           }
          ],
          "carpet": [
           {
            "aaxis": {
             "endlinecolor": "#2a3f5f",
             "gridcolor": "white",
             "linecolor": "white",
             "minorgridcolor": "white",
             "startlinecolor": "#2a3f5f"
            },
            "baxis": {
             "endlinecolor": "#2a3f5f",
             "gridcolor": "white",
             "linecolor": "white",
             "minorgridcolor": "white",
             "startlinecolor": "#2a3f5f"
            },
            "type": "carpet"
           }
          ],
          "choropleth": [
           {
            "colorbar": {
             "outlinewidth": 0,
             "ticks": ""
            },
            "type": "choropleth"
           }
          ],
          "contour": [
           {
            "colorbar": {
             "outlinewidth": 0,
             "ticks": ""
            },
            "colorscale": [
             [
              0,
              "#0d0887"
             ],
             [
              0.1111111111111111,
              "#46039f"
             ],
             [
              0.2222222222222222,
              "#7201a8"
             ],
             [
              0.3333333333333333,
              "#9c179e"
             ],
             [
              0.4444444444444444,
              "#bd3786"
             ],
             [
              0.5555555555555556,
              "#d8576b"
             ],
             [
              0.6666666666666666,
              "#ed7953"
             ],
             [
              0.7777777777777778,
              "#fb9f3a"
             ],
             [
              0.8888888888888888,
              "#fdca26"
             ],
             [
              1,
              "#f0f921"
             ]
            ],
            "type": "contour"
           }
          ],
          "contourcarpet": [
           {
            "colorbar": {
             "outlinewidth": 0,
             "ticks": ""
            },
            "type": "contourcarpet"
           }
          ],
          "heatmap": [
           {
            "colorbar": {
             "outlinewidth": 0,
             "ticks": ""
            },
            "colorscale": [
             [
              0,
              "#0d0887"
             ],
             [
              0.1111111111111111,
              "#46039f"
             ],
             [
              0.2222222222222222,
              "#7201a8"
             ],
             [
              0.3333333333333333,
              "#9c179e"
             ],
             [
              0.4444444444444444,
              "#bd3786"
             ],
             [
              0.5555555555555556,
              "#d8576b"
             ],
             [
              0.6666666666666666,
              "#ed7953"
             ],
             [
              0.7777777777777778,
              "#fb9f3a"
             ],
             [
              0.8888888888888888,
              "#fdca26"
             ],
             [
              1,
              "#f0f921"
             ]
            ],
            "type": "heatmap"
           }
          ],
          "heatmapgl": [
           {
            "colorbar": {
             "outlinewidth": 0,
             "ticks": ""
            },
            "colorscale": [
             [
              0,
              "#0d0887"
             ],
             [
              0.1111111111111111,
              "#46039f"
             ],
             [
              0.2222222222222222,
              "#7201a8"
             ],
             [
              0.3333333333333333,
              "#9c179e"
             ],
             [
              0.4444444444444444,
              "#bd3786"
             ],
             [
              0.5555555555555556,
              "#d8576b"
             ],
             [
              0.6666666666666666,
              "#ed7953"
             ],
             [
              0.7777777777777778,
              "#fb9f3a"
             ],
             [
              0.8888888888888888,
              "#fdca26"
             ],
             [
              1,
              "#f0f921"
             ]
            ],
            "type": "heatmapgl"
           }
          ],
          "histogram": [
           {
            "marker": {
             "colorbar": {
              "outlinewidth": 0,
              "ticks": ""
             }
            },
            "type": "histogram"
           }
          ],
          "histogram2d": [
           {
            "colorbar": {
             "outlinewidth": 0,
             "ticks": ""
            },
            "colorscale": [
             [
              0,
              "#0d0887"
             ],
             [
              0.1111111111111111,
              "#46039f"
             ],
             [
              0.2222222222222222,
              "#7201a8"
             ],
             [
              0.3333333333333333,
              "#9c179e"
             ],
             [
              0.4444444444444444,
              "#bd3786"
             ],
             [
              0.5555555555555556,
              "#d8576b"
             ],
             [
              0.6666666666666666,
              "#ed7953"
             ],
             [
              0.7777777777777778,
              "#fb9f3a"
             ],
             [
              0.8888888888888888,
              "#fdca26"
             ],
             [
              1,
              "#f0f921"
             ]
            ],
            "type": "histogram2d"
           }
          ],
          "histogram2dcontour": [
           {
            "colorbar": {
             "outlinewidth": 0,
             "ticks": ""
            },
            "colorscale": [
             [
              0,
              "#0d0887"
             ],
             [
              0.1111111111111111,
              "#46039f"
             ],
             [
              0.2222222222222222,
              "#7201a8"
             ],
             [
              0.3333333333333333,
              "#9c179e"
             ],
             [
              0.4444444444444444,
              "#bd3786"
             ],
             [
              0.5555555555555556,
              "#d8576b"
             ],
             [
              0.6666666666666666,
              "#ed7953"
             ],
             [
              0.7777777777777778,
              "#fb9f3a"
             ],
             [
              0.8888888888888888,
              "#fdca26"
             ],
             [
              1,
              "#f0f921"
             ]
            ],
            "type": "histogram2dcontour"
           }
          ],
          "mesh3d": [
           {
            "colorbar": {
             "outlinewidth": 0,
             "ticks": ""
            },
            "type": "mesh3d"
           }
          ],
          "parcoords": [
           {
            "line": {
             "colorbar": {
              "outlinewidth": 0,
              "ticks": ""
             }
            },
            "type": "parcoords"
           }
          ],
          "pie": [
           {
            "automargin": true,
            "type": "pie"
           }
          ],
          "scatter": [
           {
            "marker": {
             "colorbar": {
              "outlinewidth": 0,
              "ticks": ""
             }
            },
            "type": "scatter"
           }
          ],
          "scatter3d": [
           {
            "line": {
             "colorbar": {
              "outlinewidth": 0,
              "ticks": ""
             }
            },
            "marker": {
             "colorbar": {
              "outlinewidth": 0,
              "ticks": ""
             }
            },
            "type": "scatter3d"
           }
          ],
          "scattercarpet": [
           {
            "marker": {
             "colorbar": {
              "outlinewidth": 0,
              "ticks": ""
             }
            },
            "type": "scattercarpet"
           }
          ],
          "scattergeo": [
           {
            "marker": {
             "colorbar": {
              "outlinewidth": 0,
              "ticks": ""
             }
            },
            "type": "scattergeo"
           }
          ],
          "scattergl": [
           {
            "marker": {
             "colorbar": {
              "outlinewidth": 0,
              "ticks": ""
             }
            },
            "type": "scattergl"
           }
          ],
          "scattermapbox": [
           {
            "marker": {
             "colorbar": {
              "outlinewidth": 0,
              "ticks": ""
             }
            },
            "type": "scattermapbox"
           }
          ],
          "scatterpolar": [
           {
            "marker": {
             "colorbar": {
              "outlinewidth": 0,
              "ticks": ""
             }
            },
            "type": "scatterpolar"
           }
          ],
          "scatterpolargl": [
           {
            "marker": {
             "colorbar": {
              "outlinewidth": 0,
              "ticks": ""
             }
            },
            "type": "scatterpolargl"
           }
          ],
          "scatterternary": [
           {
            "marker": {
             "colorbar": {
              "outlinewidth": 0,
              "ticks": ""
             }
            },
            "type": "scatterternary"
           }
          ],
          "surface": [
           {
            "colorbar": {
             "outlinewidth": 0,
             "ticks": ""
            },
            "colorscale": [
             [
              0,
              "#0d0887"
             ],
             [
              0.1111111111111111,
              "#46039f"
             ],
             [
              0.2222222222222222,
              "#7201a8"
             ],
             [
              0.3333333333333333,
              "#9c179e"
             ],
             [
              0.4444444444444444,
              "#bd3786"
             ],
             [
              0.5555555555555556,
              "#d8576b"
             ],
             [
              0.6666666666666666,
              "#ed7953"
             ],
             [
              0.7777777777777778,
              "#fb9f3a"
             ],
             [
              0.8888888888888888,
              "#fdca26"
             ],
             [
              1,
              "#f0f921"
             ]
            ],
            "type": "surface"
           }
          ],
          "table": [
           {
            "cells": {
             "fill": {
              "color": "#EBF0F8"
             },
             "line": {
              "color": "white"
             }
            },
            "header": {
             "fill": {
              "color": "#C8D4E3"
             },
             "line": {
              "color": "white"
             }
            },
            "type": "table"
           }
          ]
         },
         "layout": {
          "annotationdefaults": {
           "arrowcolor": "#2a3f5f",
           "arrowhead": 0,
           "arrowwidth": 1
          },
          "coloraxis": {
           "colorbar": {
            "outlinewidth": 0,
            "ticks": ""
           }
          },
          "colorscale": {
           "diverging": [
            [
             0,
             "#8e0152"
            ],
            [
             0.1,
             "#c51b7d"
            ],
            [
             0.2,
             "#de77ae"
            ],
            [
             0.3,
             "#f1b6da"
            ],
            [
             0.4,
             "#fde0ef"
            ],
            [
             0.5,
             "#f7f7f7"
            ],
            [
             0.6,
             "#e6f5d0"
            ],
            [
             0.7,
             "#b8e186"
            ],
            [
             0.8,
             "#7fbc41"
            ],
            [
             0.9,
             "#4d9221"
            ],
            [
             1,
             "#276419"
            ]
           ],
           "sequential": [
            [
             0,
             "#0d0887"
            ],
            [
             0.1111111111111111,
             "#46039f"
            ],
            [
             0.2222222222222222,
             "#7201a8"
            ],
            [
             0.3333333333333333,
             "#9c179e"
            ],
            [
             0.4444444444444444,
             "#bd3786"
            ],
            [
             0.5555555555555556,
             "#d8576b"
            ],
            [
             0.6666666666666666,
             "#ed7953"
            ],
            [
             0.7777777777777778,
             "#fb9f3a"
            ],
            [
             0.8888888888888888,
             "#fdca26"
            ],
            [
             1,
             "#f0f921"
            ]
           ],
           "sequentialminus": [
            [
             0,
             "#0d0887"
            ],
            [
             0.1111111111111111,
             "#46039f"
            ],
            [
             0.2222222222222222,
             "#7201a8"
            ],
            [
             0.3333333333333333,
             "#9c179e"
            ],
            [
             0.4444444444444444,
             "#bd3786"
            ],
            [
             0.5555555555555556,
             "#d8576b"
            ],
            [
             0.6666666666666666,
             "#ed7953"
            ],
            [
             0.7777777777777778,
             "#fb9f3a"
            ],
            [
             0.8888888888888888,
             "#fdca26"
            ],
            [
             1,
             "#f0f921"
            ]
           ]
          },
          "colorway": [
           "#636efa",
           "#EF553B",
           "#00cc96",
           "#ab63fa",
           "#FFA15A",
           "#19d3f3",
           "#FF6692",
           "#B6E880",
           "#FF97FF",
           "#FECB52"
          ],
          "font": {
           "color": "#2a3f5f"
          },
          "geo": {
           "bgcolor": "white",
           "lakecolor": "white",
           "landcolor": "#E5ECF6",
           "showlakes": true,
           "showland": true,
           "subunitcolor": "white"
          },
          "hoverlabel": {
           "align": "left"
          },
          "hovermode": "closest",
          "mapbox": {
           "style": "light"
          },
          "paper_bgcolor": "white",
          "plot_bgcolor": "#E5ECF6",
          "polar": {
           "angularaxis": {
            "gridcolor": "white",
            "linecolor": "white",
            "ticks": ""
           },
           "bgcolor": "#E5ECF6",
           "radialaxis": {
            "gridcolor": "white",
            "linecolor": "white",
            "ticks": ""
           }
          },
          "scene": {
           "xaxis": {
            "backgroundcolor": "#E5ECF6",
            "gridcolor": "white",
            "gridwidth": 2,
            "linecolor": "white",
            "showbackground": true,
            "ticks": "",
            "zerolinecolor": "white"
           },
           "yaxis": {
            "backgroundcolor": "#E5ECF6",
            "gridcolor": "white",
            "gridwidth": 2,
            "linecolor": "white",
            "showbackground": true,
            "ticks": "",
            "zerolinecolor": "white"
           },
           "zaxis": {
            "backgroundcolor": "#E5ECF6",
            "gridcolor": "white",
            "gridwidth": 2,
            "linecolor": "white",
            "showbackground": true,
            "ticks": "",
            "zerolinecolor": "white"
           }
          },
          "shapedefaults": {
           "line": {
            "color": "#2a3f5f"
           }
          },
          "ternary": {
           "aaxis": {
            "gridcolor": "white",
            "linecolor": "white",
            "ticks": ""
           },
           "baxis": {
            "gridcolor": "white",
            "linecolor": "white",
            "ticks": ""
           },
           "bgcolor": "#E5ECF6",
           "caxis": {
            "gridcolor": "white",
            "linecolor": "white",
            "ticks": ""
           }
          },
          "title": {
           "x": 0.05
          },
          "xaxis": {
           "automargin": true,
           "gridcolor": "white",
           "linecolor": "white",
           "ticks": "",
           "title": {
            "standoff": 15
           },
           "zerolinecolor": "white",
           "zerolinewidth": 2
          },
          "yaxis": {
           "automargin": true,
           "gridcolor": "white",
           "linecolor": "white",
           "ticks": "",
           "title": {
            "standoff": 15
           },
           "zerolinecolor": "white",
           "zerolinewidth": 2
          }
         }
        },
        "title": {
         "text": "시도별 배달비율"
        }
       }
      },
      "text/html": [
       "<div>                            <div id=\"dbed1161-56fb-4a96-a0ce-41898aed568c\" class=\"plotly-graph-div\" style=\"height:525px; width:100%;\"></div>            <script type=\"text/javascript\">                require([\"plotly\"], function(Plotly) {                    window.PLOTLYENV=window.PLOTLYENV || {};                                    if (document.getElementById(\"dbed1161-56fb-4a96-a0ce-41898aed568c\")) {                    Plotly.newPlot(                        \"dbed1161-56fb-4a96-a0ce-41898aed568c\",                        [{\"type\": \"bar\", \"x\": [\"\\uce58\\ud0a8\", \"\\ubd84\\uc2dd\", \"\\ud55c\\uc2dd\", \"\\uc57c\\uc2dd\", \"\\uce74\\ud398/\\ub514\\uc800\\ud2b8\"], \"y\": [44788, 26467, 22061, 20306, 16895]}],                        {\"template\": {\"data\": {\"bar\": [{\"error_x\": {\"color\": \"#2a3f5f\"}, \"error_y\": {\"color\": \"#2a3f5f\"}, \"marker\": {\"line\": {\"color\": \"#E5ECF6\", \"width\": 0.5}}, \"type\": \"bar\"}], \"barpolar\": [{\"marker\": {\"line\": {\"color\": \"#E5ECF6\", \"width\": 0.5}}, \"type\": \"barpolar\"}], \"carpet\": [{\"aaxis\": {\"endlinecolor\": \"#2a3f5f\", \"gridcolor\": \"white\", \"linecolor\": \"white\", \"minorgridcolor\": \"white\", \"startlinecolor\": \"#2a3f5f\"}, \"baxis\": {\"endlinecolor\": \"#2a3f5f\", \"gridcolor\": \"white\", \"linecolor\": \"white\", \"minorgridcolor\": \"white\", \"startlinecolor\": \"#2a3f5f\"}, \"type\": \"carpet\"}], \"choropleth\": [{\"colorbar\": {\"outlinewidth\": 0, \"ticks\": \"\"}, \"type\": \"choropleth\"}], \"contour\": [{\"colorbar\": {\"outlinewidth\": 0, \"ticks\": \"\"}, \"colorscale\": [[0.0, \"#0d0887\"], [0.1111111111111111, \"#46039f\"], [0.2222222222222222, \"#7201a8\"], [0.3333333333333333, \"#9c179e\"], [0.4444444444444444, \"#bd3786\"], [0.5555555555555556, \"#d8576b\"], [0.6666666666666666, \"#ed7953\"], [0.7777777777777778, \"#fb9f3a\"], [0.8888888888888888, \"#fdca26\"], [1.0, \"#f0f921\"]], \"type\": \"contour\"}], \"contourcarpet\": [{\"colorbar\": {\"outlinewidth\": 0, \"ticks\": \"\"}, \"type\": \"contourcarpet\"}], \"heatmap\": [{\"colorbar\": {\"outlinewidth\": 0, \"ticks\": \"\"}, \"colorscale\": [[0.0, \"#0d0887\"], [0.1111111111111111, \"#46039f\"], [0.2222222222222222, \"#7201a8\"], [0.3333333333333333, \"#9c179e\"], [0.4444444444444444, \"#bd3786\"], [0.5555555555555556, \"#d8576b\"], [0.6666666666666666, \"#ed7953\"], [0.7777777777777778, \"#fb9f3a\"], [0.8888888888888888, \"#fdca26\"], [1.0, \"#f0f921\"]], \"type\": \"heatmap\"}], \"heatmapgl\": [{\"colorbar\": {\"outlinewidth\": 0, \"ticks\": \"\"}, \"colorscale\": [[0.0, \"#0d0887\"], [0.1111111111111111, \"#46039f\"], [0.2222222222222222, \"#7201a8\"], [0.3333333333333333, \"#9c179e\"], [0.4444444444444444, \"#bd3786\"], [0.5555555555555556, \"#d8576b\"], [0.6666666666666666, \"#ed7953\"], [0.7777777777777778, \"#fb9f3a\"], [0.8888888888888888, \"#fdca26\"], [1.0, \"#f0f921\"]], \"type\": \"heatmapgl\"}], \"histogram\": [{\"marker\": {\"colorbar\": {\"outlinewidth\": 0, \"ticks\": \"\"}}, \"type\": \"histogram\"}], \"histogram2d\": [{\"colorbar\": {\"outlinewidth\": 0, \"ticks\": \"\"}, \"colorscale\": [[0.0, \"#0d0887\"], [0.1111111111111111, \"#46039f\"], [0.2222222222222222, \"#7201a8\"], [0.3333333333333333, \"#9c179e\"], [0.4444444444444444, \"#bd3786\"], [0.5555555555555556, \"#d8576b\"], [0.6666666666666666, \"#ed7953\"], [0.7777777777777778, \"#fb9f3a\"], [0.8888888888888888, \"#fdca26\"], [1.0, \"#f0f921\"]], \"type\": \"histogram2d\"}], \"histogram2dcontour\": [{\"colorbar\": {\"outlinewidth\": 0, \"ticks\": \"\"}, \"colorscale\": [[0.0, \"#0d0887\"], [0.1111111111111111, \"#46039f\"], [0.2222222222222222, \"#7201a8\"], [0.3333333333333333, \"#9c179e\"], [0.4444444444444444, \"#bd3786\"], [0.5555555555555556, \"#d8576b\"], [0.6666666666666666, \"#ed7953\"], [0.7777777777777778, \"#fb9f3a\"], [0.8888888888888888, \"#fdca26\"], [1.0, \"#f0f921\"]], \"type\": \"histogram2dcontour\"}], \"mesh3d\": [{\"colorbar\": {\"outlinewidth\": 0, \"ticks\": \"\"}, \"type\": \"mesh3d\"}], \"parcoords\": [{\"line\": {\"colorbar\": {\"outlinewidth\": 0, \"ticks\": \"\"}}, \"type\": \"parcoords\"}], \"pie\": [{\"automargin\": true, \"type\": \"pie\"}], \"scatter\": [{\"marker\": {\"colorbar\": {\"outlinewidth\": 0, \"ticks\": \"\"}}, \"type\": \"scatter\"}], \"scatter3d\": [{\"line\": {\"colorbar\": {\"outlinewidth\": 0, \"ticks\": \"\"}}, \"marker\": {\"colorbar\": {\"outlinewidth\": 0, \"ticks\": \"\"}}, \"type\": \"scatter3d\"}], \"scattercarpet\": [{\"marker\": {\"colorbar\": {\"outlinewidth\": 0, \"ticks\": \"\"}}, \"type\": \"scattercarpet\"}], \"scattergeo\": [{\"marker\": {\"colorbar\": {\"outlinewidth\": 0, \"ticks\": \"\"}}, \"type\": \"scattergeo\"}], \"scattergl\": [{\"marker\": {\"colorbar\": {\"outlinewidth\": 0, \"ticks\": \"\"}}, \"type\": \"scattergl\"}], \"scattermapbox\": [{\"marker\": {\"colorbar\": {\"outlinewidth\": 0, \"ticks\": \"\"}}, \"type\": \"scattermapbox\"}], \"scatterpolar\": [{\"marker\": {\"colorbar\": {\"outlinewidth\": 0, \"ticks\": \"\"}}, \"type\": \"scatterpolar\"}], \"scatterpolargl\": [{\"marker\": {\"colorbar\": {\"outlinewidth\": 0, \"ticks\": \"\"}}, \"type\": \"scatterpolargl\"}], \"scatterternary\": [{\"marker\": {\"colorbar\": {\"outlinewidth\": 0, \"ticks\": \"\"}}, \"type\": \"scatterternary\"}], \"surface\": [{\"colorbar\": {\"outlinewidth\": 0, \"ticks\": \"\"}, \"colorscale\": [[0.0, \"#0d0887\"], [0.1111111111111111, \"#46039f\"], [0.2222222222222222, \"#7201a8\"], [0.3333333333333333, \"#9c179e\"], [0.4444444444444444, \"#bd3786\"], [0.5555555555555556, \"#d8576b\"], [0.6666666666666666, \"#ed7953\"], [0.7777777777777778, \"#fb9f3a\"], [0.8888888888888888, \"#fdca26\"], [1.0, \"#f0f921\"]], \"type\": \"surface\"}], \"table\": [{\"cells\": {\"fill\": {\"color\": \"#EBF0F8\"}, \"line\": {\"color\": \"white\"}}, \"header\": {\"fill\": {\"color\": \"#C8D4E3\"}, \"line\": {\"color\": \"white\"}}, \"type\": \"table\"}]}, \"layout\": {\"annotationdefaults\": {\"arrowcolor\": \"#2a3f5f\", \"arrowhead\": 0, \"arrowwidth\": 1}, \"coloraxis\": {\"colorbar\": {\"outlinewidth\": 0, \"ticks\": \"\"}}, \"colorscale\": {\"diverging\": [[0, \"#8e0152\"], [0.1, \"#c51b7d\"], [0.2, \"#de77ae\"], [0.3, \"#f1b6da\"], [0.4, \"#fde0ef\"], [0.5, \"#f7f7f7\"], [0.6, \"#e6f5d0\"], [0.7, \"#b8e186\"], [0.8, \"#7fbc41\"], [0.9, \"#4d9221\"], [1, \"#276419\"]], \"sequential\": [[0.0, \"#0d0887\"], [0.1111111111111111, \"#46039f\"], [0.2222222222222222, \"#7201a8\"], [0.3333333333333333, \"#9c179e\"], [0.4444444444444444, \"#bd3786\"], [0.5555555555555556, \"#d8576b\"], [0.6666666666666666, \"#ed7953\"], [0.7777777777777778, \"#fb9f3a\"], [0.8888888888888888, \"#fdca26\"], [1.0, \"#f0f921\"]], \"sequentialminus\": [[0.0, \"#0d0887\"], [0.1111111111111111, \"#46039f\"], [0.2222222222222222, \"#7201a8\"], [0.3333333333333333, \"#9c179e\"], [0.4444444444444444, \"#bd3786\"], [0.5555555555555556, \"#d8576b\"], [0.6666666666666666, \"#ed7953\"], [0.7777777777777778, \"#fb9f3a\"], [0.8888888888888888, \"#fdca26\"], [1.0, \"#f0f921\"]]}, \"colorway\": [\"#636efa\", \"#EF553B\", \"#00cc96\", \"#ab63fa\", \"#FFA15A\", \"#19d3f3\", \"#FF6692\", \"#B6E880\", \"#FF97FF\", \"#FECB52\"], \"font\": {\"color\": \"#2a3f5f\"}, \"geo\": {\"bgcolor\": \"white\", \"lakecolor\": \"white\", \"landcolor\": \"#E5ECF6\", \"showlakes\": true, \"showland\": true, \"subunitcolor\": \"white\"}, \"hoverlabel\": {\"align\": \"left\"}, \"hovermode\": \"closest\", \"mapbox\": {\"style\": \"light\"}, \"paper_bgcolor\": \"white\", \"plot_bgcolor\": \"#E5ECF6\", \"polar\": {\"angularaxis\": {\"gridcolor\": \"white\", \"linecolor\": \"white\", \"ticks\": \"\"}, \"bgcolor\": \"#E5ECF6\", \"radialaxis\": {\"gridcolor\": \"white\", \"linecolor\": \"white\", \"ticks\": \"\"}}, \"scene\": {\"xaxis\": {\"backgroundcolor\": \"#E5ECF6\", \"gridcolor\": \"white\", \"gridwidth\": 2, \"linecolor\": \"white\", \"showbackground\": true, \"ticks\": \"\", \"zerolinecolor\": \"white\"}, \"yaxis\": {\"backgroundcolor\": \"#E5ECF6\", \"gridcolor\": \"white\", \"gridwidth\": 2, \"linecolor\": \"white\", \"showbackground\": true, \"ticks\": \"\", \"zerolinecolor\": \"white\"}, \"zaxis\": {\"backgroundcolor\": \"#E5ECF6\", \"gridcolor\": \"white\", \"gridwidth\": 2, \"linecolor\": \"white\", \"showbackground\": true, \"ticks\": \"\", \"zerolinecolor\": \"white\"}}, \"shapedefaults\": {\"line\": {\"color\": \"#2a3f5f\"}}, \"ternary\": {\"aaxis\": {\"gridcolor\": \"white\", \"linecolor\": \"white\", \"ticks\": \"\"}, \"baxis\": {\"gridcolor\": \"white\", \"linecolor\": \"white\", \"ticks\": \"\"}, \"bgcolor\": \"#E5ECF6\", \"caxis\": {\"gridcolor\": \"white\", \"linecolor\": \"white\", \"ticks\": \"\"}}, \"title\": {\"x\": 0.05}, \"xaxis\": {\"automargin\": true, \"gridcolor\": \"white\", \"linecolor\": \"white\", \"ticks\": \"\", \"title\": {\"standoff\": 15}, \"zerolinecolor\": \"white\", \"zerolinewidth\": 2}, \"yaxis\": {\"automargin\": true, \"gridcolor\": \"white\", \"linecolor\": \"white\", \"ticks\": \"\", \"title\": {\"standoff\": 15}, \"zerolinecolor\": \"white\", \"zerolinewidth\": 2}}}, \"title\": {\"text\": \"\\uc2dc\\ub3c4\\ubcc4 \\ubc30\\ub2ec\\ube44\\uc728\"}},                        {\"responsive\": true}                    ).then(function(){\n",
       "                            \n",
       "var gd = document.getElementById('dbed1161-56fb-4a96-a0ce-41898aed568c');\n",
       "var x = new MutationObserver(function (mutations, observer) {{\n",
       "        var display = window.getComputedStyle(gd).display;\n",
       "        if (!display || display === 'none') {{\n",
       "            console.log([gd, 'removed!']);\n",
       "            Plotly.purge(gd);\n",
       "            observer.disconnect();\n",
       "        }}\n",
       "}});\n",
       "\n",
       "// Listen for the removal of the full notebook cells\n",
       "var notebookContainer = gd.closest('#notebook-container');\n",
       "if (notebookContainer) {{\n",
       "    x.observe(notebookContainer, {childList: true});\n",
       "}}\n",
       "\n",
       "// Listen for the clearing of the current output cell\n",
       "var outputEl = gd.closest('.output');\n",
       "if (outputEl) {{\n",
       "    x.observe(outputEl, {childList: true});\n",
       "}}\n",
       "\n",
       "                        })                };                });            </script>        </div>"
      ]
     },
     "metadata": {},
     "output_type": "display_data"
    }
   ],
   "source": [
    "# 상위 5개 막대 그래프 그리기\n",
    "trace1 = go.Bar(x=gr3_sort5['induty_nm'], y=gr3_sort5['count'])\n",
    "data = [trace1]\n",
    "layout = go.Layout(title='시도별 배달비율')\n",
    "fig = go.Figure(data=data, layout=layout)\n",
    "pyo.iplot(fig)"
   ]
  },
  {
   "cell_type": "code",
   "execution_count": 132,
   "metadata": {},
   "outputs": [],
   "source": [
    "# 그룹4에서 많이시키는 빈도\n",
    "gr44 = gr4.groupby(['induty_nm']).size().reset_index(name='count')\n",
    "\n",
    "gr4_5 = gr44.sort_values(by=\"count\", ascending=False).head(10)\n",
    "gr4_sort5 = gr4_5.head(5)"
   ]
  },
  {
   "cell_type": "code",
   "execution_count": 133,
   "metadata": {},
   "outputs": [
    {
     "data": {
      "application/vnd.plotly.v1+json": {
       "config": {
        "linkText": "Export to plot.ly",
        "plotlyServerURL": "https://plot.ly",
        "showLink": false
       },
       "data": [
        {
         "type": "bar",
         "x": [
          "치킨",
          "한식",
          "분식",
          "카페/디저트",
          "피자"
         ],
         "y": [
          76882,
          46084,
          34854,
          30887,
          21231
         ]
        }
       ],
       "layout": {
        "template": {
         "data": {
          "bar": [
           {
            "error_x": {
             "color": "#2a3f5f"
            },
            "error_y": {
             "color": "#2a3f5f"
            },
            "marker": {
             "line": {
              "color": "#E5ECF6",
              "width": 0.5
             }
            },
            "type": "bar"
           }
          ],
          "barpolar": [
           {
            "marker": {
             "line": {
              "color": "#E5ECF6",
              "width": 0.5
             }
            },
            "type": "barpolar"
           }
          ],
          "carpet": [
           {
            "aaxis": {
             "endlinecolor": "#2a3f5f",
             "gridcolor": "white",
             "linecolor": "white",
             "minorgridcolor": "white",
             "startlinecolor": "#2a3f5f"
            },
            "baxis": {
             "endlinecolor": "#2a3f5f",
             "gridcolor": "white",
             "linecolor": "white",
             "minorgridcolor": "white",
             "startlinecolor": "#2a3f5f"
            },
            "type": "carpet"
           }
          ],
          "choropleth": [
           {
            "colorbar": {
             "outlinewidth": 0,
             "ticks": ""
            },
            "type": "choropleth"
           }
          ],
          "contour": [
           {
            "colorbar": {
             "outlinewidth": 0,
             "ticks": ""
            },
            "colorscale": [
             [
              0,
              "#0d0887"
             ],
             [
              0.1111111111111111,
              "#46039f"
             ],
             [
              0.2222222222222222,
              "#7201a8"
             ],
             [
              0.3333333333333333,
              "#9c179e"
             ],
             [
              0.4444444444444444,
              "#bd3786"
             ],
             [
              0.5555555555555556,
              "#d8576b"
             ],
             [
              0.6666666666666666,
              "#ed7953"
             ],
             [
              0.7777777777777778,
              "#fb9f3a"
             ],
             [
              0.8888888888888888,
              "#fdca26"
             ],
             [
              1,
              "#f0f921"
             ]
            ],
            "type": "contour"
           }
          ],
          "contourcarpet": [
           {
            "colorbar": {
             "outlinewidth": 0,
             "ticks": ""
            },
            "type": "contourcarpet"
           }
          ],
          "heatmap": [
           {
            "colorbar": {
             "outlinewidth": 0,
             "ticks": ""
            },
            "colorscale": [
             [
              0,
              "#0d0887"
             ],
             [
              0.1111111111111111,
              "#46039f"
             ],
             [
              0.2222222222222222,
              "#7201a8"
             ],
             [
              0.3333333333333333,
              "#9c179e"
             ],
             [
              0.4444444444444444,
              "#bd3786"
             ],
             [
              0.5555555555555556,
              "#d8576b"
             ],
             [
              0.6666666666666666,
              "#ed7953"
             ],
             [
              0.7777777777777778,
              "#fb9f3a"
             ],
             [
              0.8888888888888888,
              "#fdca26"
             ],
             [
              1,
              "#f0f921"
             ]
            ],
            "type": "heatmap"
           }
          ],
          "heatmapgl": [
           {
            "colorbar": {
             "outlinewidth": 0,
             "ticks": ""
            },
            "colorscale": [
             [
              0,
              "#0d0887"
             ],
             [
              0.1111111111111111,
              "#46039f"
             ],
             [
              0.2222222222222222,
              "#7201a8"
             ],
             [
              0.3333333333333333,
              "#9c179e"
             ],
             [
              0.4444444444444444,
              "#bd3786"
             ],
             [
              0.5555555555555556,
              "#d8576b"
             ],
             [
              0.6666666666666666,
              "#ed7953"
             ],
             [
              0.7777777777777778,
              "#fb9f3a"
             ],
             [
              0.8888888888888888,
              "#fdca26"
             ],
             [
              1,
              "#f0f921"
             ]
            ],
            "type": "heatmapgl"
           }
          ],
          "histogram": [
           {
            "marker": {
             "colorbar": {
              "outlinewidth": 0,
              "ticks": ""
             }
            },
            "type": "histogram"
           }
          ],
          "histogram2d": [
           {
            "colorbar": {
             "outlinewidth": 0,
             "ticks": ""
            },
            "colorscale": [
             [
              0,
              "#0d0887"
             ],
             [
              0.1111111111111111,
              "#46039f"
             ],
             [
              0.2222222222222222,
              "#7201a8"
             ],
             [
              0.3333333333333333,
              "#9c179e"
             ],
             [
              0.4444444444444444,
              "#bd3786"
             ],
             [
              0.5555555555555556,
              "#d8576b"
             ],
             [
              0.6666666666666666,
              "#ed7953"
             ],
             [
              0.7777777777777778,
              "#fb9f3a"
             ],
             [
              0.8888888888888888,
              "#fdca26"
             ],
             [
              1,
              "#f0f921"
             ]
            ],
            "type": "histogram2d"
           }
          ],
          "histogram2dcontour": [
           {
            "colorbar": {
             "outlinewidth": 0,
             "ticks": ""
            },
            "colorscale": [
             [
              0,
              "#0d0887"
             ],
             [
              0.1111111111111111,
              "#46039f"
             ],
             [
              0.2222222222222222,
              "#7201a8"
             ],
             [
              0.3333333333333333,
              "#9c179e"
             ],
             [
              0.4444444444444444,
              "#bd3786"
             ],
             [
              0.5555555555555556,
              "#d8576b"
             ],
             [
              0.6666666666666666,
              "#ed7953"
             ],
             [
              0.7777777777777778,
              "#fb9f3a"
             ],
             [
              0.8888888888888888,
              "#fdca26"
             ],
             [
              1,
              "#f0f921"
             ]
            ],
            "type": "histogram2dcontour"
           }
          ],
          "mesh3d": [
           {
            "colorbar": {
             "outlinewidth": 0,
             "ticks": ""
            },
            "type": "mesh3d"
           }
          ],
          "parcoords": [
           {
            "line": {
             "colorbar": {
              "outlinewidth": 0,
              "ticks": ""
             }
            },
            "type": "parcoords"
           }
          ],
          "pie": [
           {
            "automargin": true,
            "type": "pie"
           }
          ],
          "scatter": [
           {
            "marker": {
             "colorbar": {
              "outlinewidth": 0,
              "ticks": ""
             }
            },
            "type": "scatter"
           }
          ],
          "scatter3d": [
           {
            "line": {
             "colorbar": {
              "outlinewidth": 0,
              "ticks": ""
             }
            },
            "marker": {
             "colorbar": {
              "outlinewidth": 0,
              "ticks": ""
             }
            },
            "type": "scatter3d"
           }
          ],
          "scattercarpet": [
           {
            "marker": {
             "colorbar": {
              "outlinewidth": 0,
              "ticks": ""
             }
            },
            "type": "scattercarpet"
           }
          ],
          "scattergeo": [
           {
            "marker": {
             "colorbar": {
              "outlinewidth": 0,
              "ticks": ""
             }
            },
            "type": "scattergeo"
           }
          ],
          "scattergl": [
           {
            "marker": {
             "colorbar": {
              "outlinewidth": 0,
              "ticks": ""
             }
            },
            "type": "scattergl"
           }
          ],
          "scattermapbox": [
           {
            "marker": {
             "colorbar": {
              "outlinewidth": 0,
              "ticks": ""
             }
            },
            "type": "scattermapbox"
           }
          ],
          "scatterpolar": [
           {
            "marker": {
             "colorbar": {
              "outlinewidth": 0,
              "ticks": ""
             }
            },
            "type": "scatterpolar"
           }
          ],
          "scatterpolargl": [
           {
            "marker": {
             "colorbar": {
              "outlinewidth": 0,
              "ticks": ""
             }
            },
            "type": "scatterpolargl"
           }
          ],
          "scatterternary": [
           {
            "marker": {
             "colorbar": {
              "outlinewidth": 0,
              "ticks": ""
             }
            },
            "type": "scatterternary"
           }
          ],
          "surface": [
           {
            "colorbar": {
             "outlinewidth": 0,
             "ticks": ""
            },
            "colorscale": [
             [
              0,
              "#0d0887"
             ],
             [
              0.1111111111111111,
              "#46039f"
             ],
             [
              0.2222222222222222,
              "#7201a8"
             ],
             [
              0.3333333333333333,
              "#9c179e"
             ],
             [
              0.4444444444444444,
              "#bd3786"
             ],
             [
              0.5555555555555556,
              "#d8576b"
             ],
             [
              0.6666666666666666,
              "#ed7953"
             ],
             [
              0.7777777777777778,
              "#fb9f3a"
             ],
             [
              0.8888888888888888,
              "#fdca26"
             ],
             [
              1,
              "#f0f921"
             ]
            ],
            "type": "surface"
           }
          ],
          "table": [
           {
            "cells": {
             "fill": {
              "color": "#EBF0F8"
             },
             "line": {
              "color": "white"
             }
            },
            "header": {
             "fill": {
              "color": "#C8D4E3"
             },
             "line": {
              "color": "white"
             }
            },
            "type": "table"
           }
          ]
         },
         "layout": {
          "annotationdefaults": {
           "arrowcolor": "#2a3f5f",
           "arrowhead": 0,
           "arrowwidth": 1
          },
          "coloraxis": {
           "colorbar": {
            "outlinewidth": 0,
            "ticks": ""
           }
          },
          "colorscale": {
           "diverging": [
            [
             0,
             "#8e0152"
            ],
            [
             0.1,
             "#c51b7d"
            ],
            [
             0.2,
             "#de77ae"
            ],
            [
             0.3,
             "#f1b6da"
            ],
            [
             0.4,
             "#fde0ef"
            ],
            [
             0.5,
             "#f7f7f7"
            ],
            [
             0.6,
             "#e6f5d0"
            ],
            [
             0.7,
             "#b8e186"
            ],
            [
             0.8,
             "#7fbc41"
            ],
            [
             0.9,
             "#4d9221"
            ],
            [
             1,
             "#276419"
            ]
           ],
           "sequential": [
            [
             0,
             "#0d0887"
            ],
            [
             0.1111111111111111,
             "#46039f"
            ],
            [
             0.2222222222222222,
             "#7201a8"
            ],
            [
             0.3333333333333333,
             "#9c179e"
            ],
            [
             0.4444444444444444,
             "#bd3786"
            ],
            [
             0.5555555555555556,
             "#d8576b"
            ],
            [
             0.6666666666666666,
             "#ed7953"
            ],
            [
             0.7777777777777778,
             "#fb9f3a"
            ],
            [
             0.8888888888888888,
             "#fdca26"
            ],
            [
             1,
             "#f0f921"
            ]
           ],
           "sequentialminus": [
            [
             0,
             "#0d0887"
            ],
            [
             0.1111111111111111,
             "#46039f"
            ],
            [
             0.2222222222222222,
             "#7201a8"
            ],
            [
             0.3333333333333333,
             "#9c179e"
            ],
            [
             0.4444444444444444,
             "#bd3786"
            ],
            [
             0.5555555555555556,
             "#d8576b"
            ],
            [
             0.6666666666666666,
             "#ed7953"
            ],
            [
             0.7777777777777778,
             "#fb9f3a"
            ],
            [
             0.8888888888888888,
             "#fdca26"
            ],
            [
             1,
             "#f0f921"
            ]
           ]
          },
          "colorway": [
           "#636efa",
           "#EF553B",
           "#00cc96",
           "#ab63fa",
           "#FFA15A",
           "#19d3f3",
           "#FF6692",
           "#B6E880",
           "#FF97FF",
           "#FECB52"
          ],
          "font": {
           "color": "#2a3f5f"
          },
          "geo": {
           "bgcolor": "white",
           "lakecolor": "white",
           "landcolor": "#E5ECF6",
           "showlakes": true,
           "showland": true,
           "subunitcolor": "white"
          },
          "hoverlabel": {
           "align": "left"
          },
          "hovermode": "closest",
          "mapbox": {
           "style": "light"
          },
          "paper_bgcolor": "white",
          "plot_bgcolor": "#E5ECF6",
          "polar": {
           "angularaxis": {
            "gridcolor": "white",
            "linecolor": "white",
            "ticks": ""
           },
           "bgcolor": "#E5ECF6",
           "radialaxis": {
            "gridcolor": "white",
            "linecolor": "white",
            "ticks": ""
           }
          },
          "scene": {
           "xaxis": {
            "backgroundcolor": "#E5ECF6",
            "gridcolor": "white",
            "gridwidth": 2,
            "linecolor": "white",
            "showbackground": true,
            "ticks": "",
            "zerolinecolor": "white"
           },
           "yaxis": {
            "backgroundcolor": "#E5ECF6",
            "gridcolor": "white",
            "gridwidth": 2,
            "linecolor": "white",
            "showbackground": true,
            "ticks": "",
            "zerolinecolor": "white"
           },
           "zaxis": {
            "backgroundcolor": "#E5ECF6",
            "gridcolor": "white",
            "gridwidth": 2,
            "linecolor": "white",
            "showbackground": true,
            "ticks": "",
            "zerolinecolor": "white"
           }
          },
          "shapedefaults": {
           "line": {
            "color": "#2a3f5f"
           }
          },
          "ternary": {
           "aaxis": {
            "gridcolor": "white",
            "linecolor": "white",
            "ticks": ""
           },
           "baxis": {
            "gridcolor": "white",
            "linecolor": "white",
            "ticks": ""
           },
           "bgcolor": "#E5ECF6",
           "caxis": {
            "gridcolor": "white",
            "linecolor": "white",
            "ticks": ""
           }
          },
          "title": {
           "x": 0.05
          },
          "xaxis": {
           "automargin": true,
           "gridcolor": "white",
           "linecolor": "white",
           "ticks": "",
           "title": {
            "standoff": 15
           },
           "zerolinecolor": "white",
           "zerolinewidth": 2
          },
          "yaxis": {
           "automargin": true,
           "gridcolor": "white",
           "linecolor": "white",
           "ticks": "",
           "title": {
            "standoff": 15
           },
           "zerolinecolor": "white",
           "zerolinewidth": 2
          }
         }
        },
        "title": {
         "text": "시도별 배달비율"
        }
       }
      },
      "text/html": [
       "<div>                            <div id=\"fae5a114-fed5-44d0-8cdb-068dbaf147ba\" class=\"plotly-graph-div\" style=\"height:525px; width:100%;\"></div>            <script type=\"text/javascript\">                require([\"plotly\"], function(Plotly) {                    window.PLOTLYENV=window.PLOTLYENV || {};                                    if (document.getElementById(\"fae5a114-fed5-44d0-8cdb-068dbaf147ba\")) {                    Plotly.newPlot(                        \"fae5a114-fed5-44d0-8cdb-068dbaf147ba\",                        [{\"type\": \"bar\", \"x\": [\"\\uce58\\ud0a8\", \"\\ud55c\\uc2dd\", \"\\ubd84\\uc2dd\", \"\\uce74\\ud398/\\ub514\\uc800\\ud2b8\", \"\\ud53c\\uc790\"], \"y\": [76882, 46084, 34854, 30887, 21231]}],                        {\"template\": {\"data\": {\"bar\": [{\"error_x\": {\"color\": \"#2a3f5f\"}, \"error_y\": {\"color\": \"#2a3f5f\"}, \"marker\": {\"line\": {\"color\": \"#E5ECF6\", \"width\": 0.5}}, \"type\": \"bar\"}], \"barpolar\": [{\"marker\": {\"line\": {\"color\": \"#E5ECF6\", \"width\": 0.5}}, \"type\": \"barpolar\"}], \"carpet\": [{\"aaxis\": {\"endlinecolor\": \"#2a3f5f\", \"gridcolor\": \"white\", \"linecolor\": \"white\", \"minorgridcolor\": \"white\", \"startlinecolor\": \"#2a3f5f\"}, \"baxis\": {\"endlinecolor\": \"#2a3f5f\", \"gridcolor\": \"white\", \"linecolor\": \"white\", \"minorgridcolor\": \"white\", \"startlinecolor\": \"#2a3f5f\"}, \"type\": \"carpet\"}], \"choropleth\": [{\"colorbar\": {\"outlinewidth\": 0, \"ticks\": \"\"}, \"type\": \"choropleth\"}], \"contour\": [{\"colorbar\": {\"outlinewidth\": 0, \"ticks\": \"\"}, \"colorscale\": [[0.0, \"#0d0887\"], [0.1111111111111111, \"#46039f\"], [0.2222222222222222, \"#7201a8\"], [0.3333333333333333, \"#9c179e\"], [0.4444444444444444, \"#bd3786\"], [0.5555555555555556, \"#d8576b\"], [0.6666666666666666, \"#ed7953\"], [0.7777777777777778, \"#fb9f3a\"], [0.8888888888888888, \"#fdca26\"], [1.0, \"#f0f921\"]], \"type\": \"contour\"}], \"contourcarpet\": [{\"colorbar\": {\"outlinewidth\": 0, \"ticks\": \"\"}, \"type\": \"contourcarpet\"}], \"heatmap\": [{\"colorbar\": {\"outlinewidth\": 0, \"ticks\": \"\"}, \"colorscale\": [[0.0, \"#0d0887\"], [0.1111111111111111, \"#46039f\"], [0.2222222222222222, \"#7201a8\"], [0.3333333333333333, \"#9c179e\"], [0.4444444444444444, \"#bd3786\"], [0.5555555555555556, \"#d8576b\"], [0.6666666666666666, \"#ed7953\"], [0.7777777777777778, \"#fb9f3a\"], [0.8888888888888888, \"#fdca26\"], [1.0, \"#f0f921\"]], \"type\": \"heatmap\"}], \"heatmapgl\": [{\"colorbar\": {\"outlinewidth\": 0, \"ticks\": \"\"}, \"colorscale\": [[0.0, \"#0d0887\"], [0.1111111111111111, \"#46039f\"], [0.2222222222222222, \"#7201a8\"], [0.3333333333333333, \"#9c179e\"], [0.4444444444444444, \"#bd3786\"], [0.5555555555555556, \"#d8576b\"], [0.6666666666666666, \"#ed7953\"], [0.7777777777777778, \"#fb9f3a\"], [0.8888888888888888, \"#fdca26\"], [1.0, \"#f0f921\"]], \"type\": \"heatmapgl\"}], \"histogram\": [{\"marker\": {\"colorbar\": {\"outlinewidth\": 0, \"ticks\": \"\"}}, \"type\": \"histogram\"}], \"histogram2d\": [{\"colorbar\": {\"outlinewidth\": 0, \"ticks\": \"\"}, \"colorscale\": [[0.0, \"#0d0887\"], [0.1111111111111111, \"#46039f\"], [0.2222222222222222, \"#7201a8\"], [0.3333333333333333, \"#9c179e\"], [0.4444444444444444, \"#bd3786\"], [0.5555555555555556, \"#d8576b\"], [0.6666666666666666, \"#ed7953\"], [0.7777777777777778, \"#fb9f3a\"], [0.8888888888888888, \"#fdca26\"], [1.0, \"#f0f921\"]], \"type\": \"histogram2d\"}], \"histogram2dcontour\": [{\"colorbar\": {\"outlinewidth\": 0, \"ticks\": \"\"}, \"colorscale\": [[0.0, \"#0d0887\"], [0.1111111111111111, \"#46039f\"], [0.2222222222222222, \"#7201a8\"], [0.3333333333333333, \"#9c179e\"], [0.4444444444444444, \"#bd3786\"], [0.5555555555555556, \"#d8576b\"], [0.6666666666666666, \"#ed7953\"], [0.7777777777777778, \"#fb9f3a\"], [0.8888888888888888, \"#fdca26\"], [1.0, \"#f0f921\"]], \"type\": \"histogram2dcontour\"}], \"mesh3d\": [{\"colorbar\": {\"outlinewidth\": 0, \"ticks\": \"\"}, \"type\": \"mesh3d\"}], \"parcoords\": [{\"line\": {\"colorbar\": {\"outlinewidth\": 0, \"ticks\": \"\"}}, \"type\": \"parcoords\"}], \"pie\": [{\"automargin\": true, \"type\": \"pie\"}], \"scatter\": [{\"marker\": {\"colorbar\": {\"outlinewidth\": 0, \"ticks\": \"\"}}, \"type\": \"scatter\"}], \"scatter3d\": [{\"line\": {\"colorbar\": {\"outlinewidth\": 0, \"ticks\": \"\"}}, \"marker\": {\"colorbar\": {\"outlinewidth\": 0, \"ticks\": \"\"}}, \"type\": \"scatter3d\"}], \"scattercarpet\": [{\"marker\": {\"colorbar\": {\"outlinewidth\": 0, \"ticks\": \"\"}}, \"type\": \"scattercarpet\"}], \"scattergeo\": [{\"marker\": {\"colorbar\": {\"outlinewidth\": 0, \"ticks\": \"\"}}, \"type\": \"scattergeo\"}], \"scattergl\": [{\"marker\": {\"colorbar\": {\"outlinewidth\": 0, \"ticks\": \"\"}}, \"type\": \"scattergl\"}], \"scattermapbox\": [{\"marker\": {\"colorbar\": {\"outlinewidth\": 0, \"ticks\": \"\"}}, \"type\": \"scattermapbox\"}], \"scatterpolar\": [{\"marker\": {\"colorbar\": {\"outlinewidth\": 0, \"ticks\": \"\"}}, \"type\": \"scatterpolar\"}], \"scatterpolargl\": [{\"marker\": {\"colorbar\": {\"outlinewidth\": 0, \"ticks\": \"\"}}, \"type\": \"scatterpolargl\"}], \"scatterternary\": [{\"marker\": {\"colorbar\": {\"outlinewidth\": 0, \"ticks\": \"\"}}, \"type\": \"scatterternary\"}], \"surface\": [{\"colorbar\": {\"outlinewidth\": 0, \"ticks\": \"\"}, \"colorscale\": [[0.0, \"#0d0887\"], [0.1111111111111111, \"#46039f\"], [0.2222222222222222, \"#7201a8\"], [0.3333333333333333, \"#9c179e\"], [0.4444444444444444, \"#bd3786\"], [0.5555555555555556, \"#d8576b\"], [0.6666666666666666, \"#ed7953\"], [0.7777777777777778, \"#fb9f3a\"], [0.8888888888888888, \"#fdca26\"], [1.0, \"#f0f921\"]], \"type\": \"surface\"}], \"table\": [{\"cells\": {\"fill\": {\"color\": \"#EBF0F8\"}, \"line\": {\"color\": \"white\"}}, \"header\": {\"fill\": {\"color\": \"#C8D4E3\"}, \"line\": {\"color\": \"white\"}}, \"type\": \"table\"}]}, \"layout\": {\"annotationdefaults\": {\"arrowcolor\": \"#2a3f5f\", \"arrowhead\": 0, \"arrowwidth\": 1}, \"coloraxis\": {\"colorbar\": {\"outlinewidth\": 0, \"ticks\": \"\"}}, \"colorscale\": {\"diverging\": [[0, \"#8e0152\"], [0.1, \"#c51b7d\"], [0.2, \"#de77ae\"], [0.3, \"#f1b6da\"], [0.4, \"#fde0ef\"], [0.5, \"#f7f7f7\"], [0.6, \"#e6f5d0\"], [0.7, \"#b8e186\"], [0.8, \"#7fbc41\"], [0.9, \"#4d9221\"], [1, \"#276419\"]], \"sequential\": [[0.0, \"#0d0887\"], [0.1111111111111111, \"#46039f\"], [0.2222222222222222, \"#7201a8\"], [0.3333333333333333, \"#9c179e\"], [0.4444444444444444, \"#bd3786\"], [0.5555555555555556, \"#d8576b\"], [0.6666666666666666, \"#ed7953\"], [0.7777777777777778, \"#fb9f3a\"], [0.8888888888888888, \"#fdca26\"], [1.0, \"#f0f921\"]], \"sequentialminus\": [[0.0, \"#0d0887\"], [0.1111111111111111, \"#46039f\"], [0.2222222222222222, \"#7201a8\"], [0.3333333333333333, \"#9c179e\"], [0.4444444444444444, \"#bd3786\"], [0.5555555555555556, \"#d8576b\"], [0.6666666666666666, \"#ed7953\"], [0.7777777777777778, \"#fb9f3a\"], [0.8888888888888888, \"#fdca26\"], [1.0, \"#f0f921\"]]}, \"colorway\": [\"#636efa\", \"#EF553B\", \"#00cc96\", \"#ab63fa\", \"#FFA15A\", \"#19d3f3\", \"#FF6692\", \"#B6E880\", \"#FF97FF\", \"#FECB52\"], \"font\": {\"color\": \"#2a3f5f\"}, \"geo\": {\"bgcolor\": \"white\", \"lakecolor\": \"white\", \"landcolor\": \"#E5ECF6\", \"showlakes\": true, \"showland\": true, \"subunitcolor\": \"white\"}, \"hoverlabel\": {\"align\": \"left\"}, \"hovermode\": \"closest\", \"mapbox\": {\"style\": \"light\"}, \"paper_bgcolor\": \"white\", \"plot_bgcolor\": \"#E5ECF6\", \"polar\": {\"angularaxis\": {\"gridcolor\": \"white\", \"linecolor\": \"white\", \"ticks\": \"\"}, \"bgcolor\": \"#E5ECF6\", \"radialaxis\": {\"gridcolor\": \"white\", \"linecolor\": \"white\", \"ticks\": \"\"}}, \"scene\": {\"xaxis\": {\"backgroundcolor\": \"#E5ECF6\", \"gridcolor\": \"white\", \"gridwidth\": 2, \"linecolor\": \"white\", \"showbackground\": true, \"ticks\": \"\", \"zerolinecolor\": \"white\"}, \"yaxis\": {\"backgroundcolor\": \"#E5ECF6\", \"gridcolor\": \"white\", \"gridwidth\": 2, \"linecolor\": \"white\", \"showbackground\": true, \"ticks\": \"\", \"zerolinecolor\": \"white\"}, \"zaxis\": {\"backgroundcolor\": \"#E5ECF6\", \"gridcolor\": \"white\", \"gridwidth\": 2, \"linecolor\": \"white\", \"showbackground\": true, \"ticks\": \"\", \"zerolinecolor\": \"white\"}}, \"shapedefaults\": {\"line\": {\"color\": \"#2a3f5f\"}}, \"ternary\": {\"aaxis\": {\"gridcolor\": \"white\", \"linecolor\": \"white\", \"ticks\": \"\"}, \"baxis\": {\"gridcolor\": \"white\", \"linecolor\": \"white\", \"ticks\": \"\"}, \"bgcolor\": \"#E5ECF6\", \"caxis\": {\"gridcolor\": \"white\", \"linecolor\": \"white\", \"ticks\": \"\"}}, \"title\": {\"x\": 0.05}, \"xaxis\": {\"automargin\": true, \"gridcolor\": \"white\", \"linecolor\": \"white\", \"ticks\": \"\", \"title\": {\"standoff\": 15}, \"zerolinecolor\": \"white\", \"zerolinewidth\": 2}, \"yaxis\": {\"automargin\": true, \"gridcolor\": \"white\", \"linecolor\": \"white\", \"ticks\": \"\", \"title\": {\"standoff\": 15}, \"zerolinecolor\": \"white\", \"zerolinewidth\": 2}}}, \"title\": {\"text\": \"\\uc2dc\\ub3c4\\ubcc4 \\ubc30\\ub2ec\\ube44\\uc728\"}},                        {\"responsive\": true}                    ).then(function(){\n",
       "                            \n",
       "var gd = document.getElementById('fae5a114-fed5-44d0-8cdb-068dbaf147ba');\n",
       "var x = new MutationObserver(function (mutations, observer) {{\n",
       "        var display = window.getComputedStyle(gd).display;\n",
       "        if (!display || display === 'none') {{\n",
       "            console.log([gd, 'removed!']);\n",
       "            Plotly.purge(gd);\n",
       "            observer.disconnect();\n",
       "        }}\n",
       "}});\n",
       "\n",
       "// Listen for the removal of the full notebook cells\n",
       "var notebookContainer = gd.closest('#notebook-container');\n",
       "if (notebookContainer) {{\n",
       "    x.observe(notebookContainer, {childList: true});\n",
       "}}\n",
       "\n",
       "// Listen for the clearing of the current output cell\n",
       "var outputEl = gd.closest('.output');\n",
       "if (outputEl) {{\n",
       "    x.observe(outputEl, {childList: true});\n",
       "}}\n",
       "\n",
       "                        })                };                });            </script>        </div>"
      ]
     },
     "metadata": {},
     "output_type": "display_data"
    }
   ],
   "source": [
    "# 상위 5개 막대 그래프 그리기\n",
    "trace1 = go.Bar(x=gr4_sort5['induty_nm'], y=gr4_sort5['count'])\n",
    "data = [trace1]\n",
    "layout = go.Layout(title='시도별 배달비율')\n",
    "fig = go.Figure(data=data, layout=layout)\n",
    "pyo.iplot(fig)"
   ]
  },
  {
   "cell_type": "markdown",
   "metadata": {},
   "source": [
    "# 크게 4개 지역군 별로 특성을 살펴본 결과\n",
    "* 1,2,3 순위는 지역에 상관없이 치킨 한식 분식 \n",
    "* 또는 치킨 분식 한식 순으로 많이배달되나\n",
    "* 4순위 5순위의 경우 지역별에 따라서 \n",
    "* 수도권은 족발보쌈의 비중이 높았고 \n",
    "* 동남권의 경우 패스트푸드 호남권은 야식카테고리 \n",
    "* 호서권은 피자의 빈도가 나오는 차이점을 볼 수 있었다.\n",
    "* 결론적으로 치킨 한식 분식의 시장이 지역과 상관없이 많은 빈도를 나타내기에 위 세 업종을 창업을 고려할 수 도 있지만\n",
    "* 오히려 과포화된 시장에 뛰어들기 부담스러운 창업자의 경우에는 위 정보를 고려하여\n",
    "* 틈새시장을 노려 각 지역별 4순위와 5순위의 업종을 창업하는것도 괜찮아보임."
   ]
  },
  {
   "cell_type": "markdown",
   "metadata": {},
   "source": [
    "# 서울+경기의 시군구별 업종 동향파악하기 (군집분석을 하기 이전에 전체적흐름) "
   ]
  },
  {
   "cell_type": "code",
   "execution_count": 134,
   "metadata": {},
   "outputs": [],
   "source": [
    "######################################\n",
    "# 배달데이터 수도권 (서울특별시, 경기도)\n",
    "is_kgd = del_dstn['si_name'] == '경기도'\n",
    "kgd = del_dstn[is_kgd]\n",
    "is_seoul = del_dstn['si_name'] == '서울특별시'\n",
    "seoul = del_dstn[is_seoul]\n",
    "sudo = pd.concat([kgd, seoul])\n"
   ]
  },
  {
   "cell_type": "code",
   "execution_count": 16,
   "metadata": {},
   "outputs": [
    {
     "data": {
      "text/html": [
       "<div>\n",
       "<style scoped>\n",
       "    .dataframe tbody tr th:only-of-type {\n",
       "        vertical-align: middle;\n",
       "    }\n",
       "\n",
       "    .dataframe tbody tr th {\n",
       "        vertical-align: top;\n",
       "    }\n",
       "\n",
       "    .dataframe thead th {\n",
       "        text-align: right;\n",
       "    }\n",
       "</style>\n",
       "<table border=\"1\" class=\"dataframe\">\n",
       "  <thead>\n",
       "    <tr style=\"text-align: right;\">\n",
       "      <th></th>\n",
       "      <th>gu_name</th>\n",
       "      <th>induty_nm</th>\n",
       "      <th>count</th>\n",
       "    </tr>\n",
       "  </thead>\n",
       "  <tbody>\n",
       "    <tr>\n",
       "      <th>0</th>\n",
       "      <td>가평군</td>\n",
       "      <td>회</td>\n",
       "      <td>1</td>\n",
       "    </tr>\n",
       "    <tr>\n",
       "      <th>1</th>\n",
       "      <td>강동구</td>\n",
       "      <td>분식</td>\n",
       "      <td>5</td>\n",
       "    </tr>\n",
       "    <tr>\n",
       "      <th>2</th>\n",
       "      <td>강동구</td>\n",
       "      <td>치킨</td>\n",
       "      <td>1</td>\n",
       "    </tr>\n",
       "    <tr>\n",
       "      <th>3</th>\n",
       "      <td>강북구</td>\n",
       "      <td>돈까스/일식</td>\n",
       "      <td>42</td>\n",
       "    </tr>\n",
       "    <tr>\n",
       "      <th>4</th>\n",
       "      <td>강북구</td>\n",
       "      <td>분식</td>\n",
       "      <td>348</td>\n",
       "    </tr>\n",
       "    <tr>\n",
       "      <th>...</th>\n",
       "      <td>...</td>\n",
       "      <td>...</td>\n",
       "      <td>...</td>\n",
       "    </tr>\n",
       "    <tr>\n",
       "      <th>555</th>\n",
       "      <td>화성시</td>\n",
       "      <td>카페/디저트</td>\n",
       "      <td>10157</td>\n",
       "    </tr>\n",
       "    <tr>\n",
       "      <th>556</th>\n",
       "      <td>화성시</td>\n",
       "      <td>패스트푸드</td>\n",
       "      <td>144</td>\n",
       "    </tr>\n",
       "    <tr>\n",
       "      <th>557</th>\n",
       "      <td>화성시</td>\n",
       "      <td>피자</td>\n",
       "      <td>4459</td>\n",
       "    </tr>\n",
       "    <tr>\n",
       "      <th>558</th>\n",
       "      <td>화성시</td>\n",
       "      <td>한식</td>\n",
       "      <td>1398</td>\n",
       "    </tr>\n",
       "    <tr>\n",
       "      <th>559</th>\n",
       "      <td>화성시</td>\n",
       "      <td>회</td>\n",
       "      <td>7222</td>\n",
       "    </tr>\n",
       "  </tbody>\n",
       "</table>\n",
       "<p>560 rows × 3 columns</p>\n",
       "</div>"
      ],
      "text/plain": [
       "    gu_name induty_nm  count\n",
       "0       가평군         회      1\n",
       "1       강동구        분식      5\n",
       "2       강동구        치킨      1\n",
       "3       강북구    돈까스/일식     42\n",
       "4       강북구        분식    348\n",
       "..      ...       ...    ...\n",
       "555     화성시    카페/디저트  10157\n",
       "556     화성시     패스트푸드    144\n",
       "557     화성시        피자   4459\n",
       "558     화성시        한식   1398\n",
       "559     화성시         회   7222\n",
       "\n",
       "[560 rows x 3 columns]"
      ]
     },
     "execution_count": 16,
     "metadata": {},
     "output_type": "execute_result"
    }
   ],
   "source": [
    "# 경기도와 서울특별시의 시군구별 주문한 업종 카운트\n",
    "ss = sudo.groupby(['gu_name','induty_nm']).size().reset_index(name='count')\n",
    "ss"
   ]
  },
  {
   "cell_type": "code",
   "execution_count": 17,
   "metadata": {},
   "outputs": [
    {
     "data": {
      "text/html": [
       "<div>\n",
       "<style scoped>\n",
       "    .dataframe tbody tr th:only-of-type {\n",
       "        vertical-align: middle;\n",
       "    }\n",
       "\n",
       "    .dataframe tbody tr th {\n",
       "        vertical-align: top;\n",
       "    }\n",
       "\n",
       "    .dataframe thead th {\n",
       "        text-align: right;\n",
       "    }\n",
       "</style>\n",
       "<table border=\"1\" class=\"dataframe\">\n",
       "  <thead>\n",
       "    <tr style=\"text-align: right;\">\n",
       "      <th></th>\n",
       "      <th>gu_name</th>\n",
       "      <th>induty_nm</th>\n",
       "      <th>count</th>\n",
       "      <th>rate</th>\n",
       "    </tr>\n",
       "  </thead>\n",
       "  <tbody>\n",
       "    <tr>\n",
       "      <th>0</th>\n",
       "      <td>가평군</td>\n",
       "      <td>회</td>\n",
       "      <td>1</td>\n",
       "      <td>100.000000</td>\n",
       "    </tr>\n",
       "    <tr>\n",
       "      <th>1</th>\n",
       "      <td>강동구</td>\n",
       "      <td>분식</td>\n",
       "      <td>5</td>\n",
       "      <td>83.333333</td>\n",
       "    </tr>\n",
       "    <tr>\n",
       "      <th>2</th>\n",
       "      <td>강동구</td>\n",
       "      <td>치킨</td>\n",
       "      <td>1</td>\n",
       "      <td>16.666667</td>\n",
       "    </tr>\n",
       "    <tr>\n",
       "      <th>3</th>\n",
       "      <td>강북구</td>\n",
       "      <td>돈까스/일식</td>\n",
       "      <td>42</td>\n",
       "      <td>2.217529</td>\n",
       "    </tr>\n",
       "    <tr>\n",
       "      <th>4</th>\n",
       "      <td>강북구</td>\n",
       "      <td>분식</td>\n",
       "      <td>348</td>\n",
       "      <td>18.373812</td>\n",
       "    </tr>\n",
       "  </tbody>\n",
       "</table>\n",
       "</div>"
      ],
      "text/plain": [
       "  gu_name induty_nm  count        rate\n",
       "0     가평군         회      1  100.000000\n",
       "1     강동구        분식      5   83.333333\n",
       "2     강동구        치킨      1   16.666667\n",
       "3     강북구    돈까스/일식     42    2.217529\n",
       "4     강북구        분식    348   18.373812"
      ]
     },
     "execution_count": 17,
     "metadata": {},
     "output_type": "execute_result"
    }
   ],
   "source": [
    "# 경기도와 서울특별시의 배달품목의 주문 비율 구하기 \n",
    "sss = ss.gu_name.unique()\n",
    "ss['rate'] = 0\n",
    "for i in sss:\n",
    "    index = ss.loc[ss['gu_name']==i,:].index\n",
    "    ss.loc[index,'rate'] = (ss.loc[index,'count']/ss.loc[index,'count'].sum())*100\n",
    "ss.head()"
   ]
  },
  {
   "cell_type": "code",
   "execution_count": 18,
   "metadata": {
    "scrolled": false
   },
   "outputs": [
    {
     "data": {
      "application/vnd.plotly.v1+json": {
       "config": {
        "plotlyServerURL": "https://plot.ly"
       },
       "data": [
        {
         "hoverongaps": false,
         "type": "heatmap",
         "x": [
          "가평군",
          "강동구",
          "강동구",
          "강북구",
          "강북구",
          "강북구",
          "강북구",
          "강북구",
          "강북구",
          "강북구",
          "강북구",
          "강북구",
          "강서구",
          "강서구",
          "강서구",
          "강서구",
          "강서구",
          "강서구",
          "강서구",
          "강서구",
          "강서구",
          "고양시 덕양구",
          "고양시 덕양구",
          "고양시 덕양구",
          "고양시 덕양구",
          "고양시 덕양구",
          "고양시 덕양구",
          "고양시 덕양구",
          "고양시 덕양구",
          "고양시 덕양구",
          "고양시 덕양구",
          "고양시 덕양구",
          "고양시 덕양구",
          "고양시 덕양구",
          "고양시 덕양구",
          "고양시 덕양구",
          "고양시 일산동구",
          "고양시 일산동구",
          "고양시 일산동구",
          "고양시 일산동구",
          "고양시 일산동구",
          "고양시 일산동구",
          "고양시 일산동구",
          "고양시 일산동구",
          "고양시 일산동구",
          "고양시 일산동구",
          "고양시 일산동구",
          "고양시 일산동구",
          "고양시 일산동구",
          "고양시 일산동구",
          "고양시 일산동구",
          "고양시 일산서구",
          "고양시 일산서구",
          "고양시 일산서구",
          "고양시 일산서구",
          "고양시 일산서구",
          "고양시 일산서구",
          "고양시 일산서구",
          "고양시 일산서구",
          "고양시 일산서구",
          "고양시 일산서구",
          "고양시 일산서구",
          "고양시 일산서구",
          "고양시 일산서구",
          "고양시 일산서구",
          "고양시 일산서구",
          "과천시",
          "과천시",
          "과천시",
          "과천시",
          "과천시",
          "관악구",
          "관악구",
          "관악구",
          "관악구",
          "관악구",
          "관악구",
          "관악구",
          "관악구",
          "관악구",
          "관악구",
          "관악구",
          "관악구",
          "관악구",
          "관악구",
          "광명시",
          "광명시",
          "광명시",
          "광명시",
          "광명시",
          "광명시",
          "광명시",
          "광명시",
          "광명시",
          "광명시",
          "광명시",
          "광명시",
          "광명시",
          "광명시",
          "광명시",
          "광주시",
          "광주시",
          "광주시",
          "광주시",
          "광주시",
          "광주시",
          "광주시",
          "광주시",
          "광주시",
          "광주시",
          "광주시",
          "광주시",
          "광진구",
          "광진구",
          "구로구",
          "구로구",
          "구로구",
          "구로구",
          "구로구",
          "구로구",
          "구로구",
          "구로구",
          "구로구",
          "구로구",
          "구로구",
          "구로구",
          "구로구",
          "구로구",
          "구로구",
          "구리시",
          "구리시",
          "구리시",
          "군포시",
          "군포시",
          "군포시",
          "군포시",
          "군포시",
          "군포시",
          "금천구",
          "금천구",
          "금천구",
          "금천구",
          "금천구",
          "금천구",
          "금천구",
          "금천구",
          "금천구",
          "금천구",
          "금천구",
          "금천구",
          "금천구",
          "금천구",
          "금천구",
          "김포시",
          "김포시",
          "김포시",
          "남양주시",
          "남양주시",
          "남양주시",
          "남양주시",
          "남양주시",
          "남양주시",
          "남양주시",
          "남양주시",
          "남양주시",
          "남양주시",
          "남양주시",
          "남양주시",
          "남양주시",
          "남양주시",
          "남양주시",
          "노원구",
          "노원구",
          "노원구",
          "노원구",
          "노원구",
          "노원구",
          "노원구",
          "노원구",
          "노원구",
          "노원구",
          "노원구",
          "노원구",
          "노원구",
          "노원구",
          "도봉구",
          "도봉구",
          "도봉구",
          "도봉구",
          "도봉구",
          "도봉구",
          "도봉구",
          "도봉구",
          "도봉구",
          "도봉구",
          "도봉구",
          "도봉구",
          "도봉구",
          "도봉구",
          "도봉구",
          "동대문구",
          "동대문구",
          "동두천시",
          "동두천시",
          "동두천시",
          "동두천시",
          "동두천시",
          "동두천시",
          "동두천시",
          "동두천시",
          "동두천시",
          "동두천시",
          "동두천시",
          "동두천시",
          "동두천시",
          "동두천시",
          "동두천시",
          "동작구",
          "동작구",
          "동작구",
          "동작구",
          "동작구",
          "동작구",
          "동작구",
          "동작구",
          "동작구",
          "동작구",
          "동작구",
          "동작구",
          "동작구",
          "동작구",
          "마포구",
          "마포구",
          "마포구",
          "부천시",
          "부천시",
          "부천시",
          "부천시",
          "부천시",
          "부천시",
          "부천시",
          "부천시",
          "부천시",
          "부천시",
          "부천시",
          "부천시",
          "부천시",
          "부천시",
          "부천시",
          "서대문구",
          "서대문구",
          "서대문구",
          "서초구",
          "서초구",
          "서초구",
          "서초구",
          "서초구",
          "서초구",
          "서초구",
          "서초구",
          "서초구",
          "성남시 분당구",
          "성남시 분당구",
          "성남시 분당구",
          "성남시 분당구",
          "성남시 분당구",
          "성남시 분당구",
          "성남시 분당구",
          "성남시 분당구",
          "성남시 분당구",
          "성남시 수정구",
          "성남시 수정구",
          "성남시 수정구",
          "성남시 수정구",
          "성남시 수정구",
          "성남시 수정구",
          "성남시 수정구",
          "성남시 수정구",
          "성남시 수정구",
          "성남시 수정구",
          "성남시 수정구",
          "성남시 수정구",
          "성남시 수정구",
          "성남시 중원구",
          "성남시 중원구",
          "성남시 중원구",
          "성남시 중원구",
          "성남시 중원구",
          "성남시 중원구",
          "성남시 중원구",
          "성남시 중원구",
          "성남시 중원구",
          "성남시 중원구",
          "성남시 중원구",
          "성남시 중원구",
          "성남시 중원구",
          "성북구",
          "송파구",
          "송파구",
          "송파구",
          "수원시 권선구",
          "수원시 권선구",
          "수원시 장안구",
          "수원시 팔달구",
          "수원시 팔달구",
          "수원시 팔달구",
          "시흥시",
          "시흥시",
          "시흥시",
          "시흥시",
          "시흥시",
          "시흥시",
          "시흥시",
          "시흥시",
          "시흥시",
          "시흥시",
          "시흥시",
          "시흥시",
          "시흥시",
          "시흥시",
          "안산시 단원구",
          "안산시 단원구",
          "안산시 단원구",
          "안산시 단원구",
          "안산시 단원구",
          "안산시 단원구",
          "안산시 단원구",
          "안산시 단원구",
          "안산시 단원구",
          "안산시 단원구",
          "안산시 단원구",
          "안산시 단원구",
          "안산시 단원구",
          "안산시 단원구",
          "안산시 상록구",
          "안산시 상록구",
          "안산시 상록구",
          "안산시 상록구",
          "안산시 상록구",
          "안산시 상록구",
          "안산시 상록구",
          "안산시 상록구",
          "안산시 상록구",
          "안산시 상록구",
          "안산시 상록구",
          "안산시 상록구",
          "안산시 상록구",
          "안산시 상록구",
          "안산시 상록구",
          "안성시",
          "안성시",
          "안성시",
          "안양시 동안구",
          "안양시 동안구",
          "안양시 동안구",
          "안양시 동안구",
          "안양시 동안구",
          "안양시 동안구",
          "안양시 동안구",
          "안양시 동안구",
          "안양시 동안구",
          "안양시 동안구",
          "안양시 동안구",
          "안양시 동안구",
          "안양시 만안구",
          "안양시 만안구",
          "안양시 만안구",
          "안양시 만안구",
          "안양시 만안구",
          "안양시 만안구",
          "안양시 만안구",
          "안양시 만안구",
          "안양시 만안구",
          "안양시 만안구",
          "안양시 만안구",
          "안양시 만안구",
          "안양시 만안구",
          "안양시 만안구",
          "양주시",
          "양주시",
          "양주시",
          "양주시",
          "양주시",
          "양주시",
          "양주시",
          "양주시",
          "양주시",
          "양주시",
          "양주시",
          "양주시",
          "양주시",
          "양주시",
          "양주시",
          "양천구",
          "양천구",
          "양천구",
          "양천구",
          "양천구",
          "양천구",
          "양천구",
          "양천구",
          "양천구",
          "양천구",
          "양천구",
          "양천구",
          "양천구",
          "양천구",
          "양천구",
          "양평군",
          "양평군",
          "연천군",
          "연천군",
          "연천군",
          "연천군",
          "연천군",
          "연천군",
          "연천군",
          "연천군",
          "연천군",
          "연천군",
          "연천군",
          "연천군",
          "영등포구",
          "영등포구",
          "영등포구",
          "영등포구",
          "영등포구",
          "영등포구",
          "영등포구",
          "영등포구",
          "영등포구",
          "영등포구",
          "영등포구",
          "영등포구",
          "영등포구",
          "영등포구",
          "영등포구",
          "오산시",
          "오산시",
          "오산시",
          "용산구",
          "용산구",
          "용인시 처인구",
          "용인시 처인구",
          "용인시 처인구",
          "용인시 처인구",
          "용인시 처인구",
          "용인시 처인구",
          "용인시 처인구",
          "용인시 처인구",
          "용인시 처인구",
          "용인시 처인구",
          "용인시 처인구",
          "용인시 처인구",
          "은평구",
          "은평구",
          "은평구",
          "은평구",
          "은평구",
          "은평구",
          "은평구",
          "은평구",
          "은평구",
          "은평구",
          "은평구",
          "의왕시",
          "의왕시",
          "의왕시",
          "의왕시",
          "의왕시",
          "의왕시",
          "의왕시",
          "의왕시",
          "의왕시",
          "의왕시",
          "의왕시",
          "의왕시",
          "의정부시",
          "의정부시",
          "의정부시",
          "의정부시",
          "의정부시",
          "의정부시",
          "의정부시",
          "의정부시",
          "의정부시",
          "의정부시",
          "의정부시",
          "의정부시",
          "의정부시",
          "의정부시",
          "의정부시",
          "의정부시",
          "이천시",
          "이천시",
          "이천시",
          "이천시",
          "이천시",
          "종로구",
          "종로구",
          "중구",
          "중구",
          "중랑구",
          "중랑구",
          "파주시",
          "파주시",
          "파주시",
          "파주시",
          "파주시",
          "파주시",
          "파주시",
          "파주시",
          "파주시",
          "평택시",
          "평택시",
          "평택시",
          "평택시",
          "평택시",
          "평택시",
          "평택시",
          "평택시",
          "평택시",
          "평택시",
          "평택시",
          "평택시",
          "평택시",
          "평택시",
          "평택시",
          "포천시",
          "포천시",
          "포천시",
          "포천시",
          "포천시",
          "포천시",
          "포천시",
          "포천시",
          "포천시",
          "포천시",
          "포천시",
          "포천시",
          "포천시",
          "포천시",
          "포천시",
          "하남시",
          "하남시",
          "하남시",
          "화성시",
          "화성시",
          "화성시",
          "화성시",
          "화성시",
          "화성시",
          "화성시",
          "화성시",
          "화성시",
          "화성시",
          "화성시",
          "화성시",
          "화성시",
          "화성시"
         ],
         "y": [
          "회",
          "분식",
          "치킨",
          "돈까스/일식",
          "분식",
          "아시안/양식",
          "야식",
          "족발/보쌈",
          "찜탕",
          "치킨",
          "피자",
          "한식",
          "돈까스/일식",
          "야식",
          "족발/보쌈",
          "치킨",
          "카페/디저트",
          "패스트푸드",
          "피자",
          "한식",
          "회",
          "도시락",
          "돈까스/일식",
          "배달전문업체",
          "분식",
          "아시안/양식",
          "야식",
          "족발/보쌈",
          "중식",
          "찜탕",
          "치킨",
          "카페/디저트",
          "패스트푸드",
          "피자",
          "한식",
          "회",
          "도시락",
          "돈까스/일식",
          "배달전문업체",
          "분식",
          "아시안/양식",
          "야식",
          "족발/보쌈",
          "중식",
          "찜탕",
          "치킨",
          "카페/디저트",
          "패스트푸드",
          "피자",
          "한식",
          "회",
          "도시락",
          "돈까스/일식",
          "배달전문업체",
          "분식",
          "아시안/양식",
          "야식",
          "족발/보쌈",
          "중식",
          "찜탕",
          "치킨",
          "카페/디저트",
          "패스트푸드",
          "피자",
          "한식",
          "회",
          "분식",
          "족발/보쌈",
          "중식",
          "치킨",
          "카페/디저트",
          "돈까스/일식",
          "배달전문업체",
          "분식",
          "아시안/양식",
          "야식",
          "족발/보쌈",
          "중식",
          "찜탕",
          "치킨",
          "카페/디저트",
          "패스트푸드",
          "피자",
          "한식",
          "회",
          "도시락",
          "돈까스/일식",
          "배달전문업체",
          "분식",
          "아시안/양식",
          "야식",
          "족발/보쌈",
          "중식",
          "찜탕",
          "치킨",
          "카페/디저트",
          "패스트푸드",
          "피자",
          "한식",
          "회",
          "돈까스/일식",
          "배달전문업체",
          "분식",
          "심부름",
          "족발/보쌈",
          "중식",
          "찜탕",
          "치킨",
          "카페/디저트",
          "패스트푸드",
          "피자",
          "한식",
          "치킨",
          "회",
          "도시락",
          "돈까스/일식",
          "배달전문업체",
          "분식",
          "아시안/양식",
          "야식",
          "족발/보쌈",
          "중식",
          "찜탕",
          "치킨",
          "카페/디저트",
          "패스트푸드",
          "피자",
          "한식",
          "회",
          "분식",
          "치킨",
          "카페/디저트",
          "분식",
          "찜탕",
          "카페/디저트",
          "패스트푸드",
          "한식",
          "회",
          "도시락",
          "돈까스/일식",
          "배달전문업체",
          "분식",
          "아시안/양식",
          "야식",
          "족발/보쌈",
          "중식",
          "찜탕",
          "치킨",
          "카페/디저트",
          "패스트푸드",
          "피자",
          "한식",
          "회",
          "분식",
          "카페/디저트",
          "패스트푸드",
          "도시락",
          "돈까스/일식",
          "배달전문업체",
          "분식",
          "아시안/양식",
          "야식",
          "족발/보쌈",
          "중식",
          "찜탕",
          "치킨",
          "카페/디저트",
          "패스트푸드",
          "피자",
          "한식",
          "회",
          "도시락",
          "돈까스/일식",
          "분식",
          "아시안/양식",
          "야식",
          "족발/보쌈",
          "중식",
          "찜탕",
          "치킨",
          "카페/디저트",
          "패스트푸드",
          "피자",
          "한식",
          "회",
          "도시락",
          "돈까스/일식",
          "분식",
          "심부름",
          "아시안/양식",
          "야식",
          "족발/보쌈",
          "중식",
          "찜탕",
          "치킨",
          "카페/디저트",
          "패스트푸드",
          "피자",
          "한식",
          "회",
          "심부름",
          "찜탕",
          "도시락",
          "돈까스/일식",
          "배달전문업체",
          "분식",
          "아시안/양식",
          "야식",
          "족발/보쌈",
          "중식",
          "찜탕",
          "치킨",
          "카페/디저트",
          "패스트푸드",
          "피자",
          "한식",
          "회",
          "돈까스/일식",
          "배달전문업체",
          "분식",
          "아시안/양식",
          "야식",
          "족발/보쌈",
          "중식",
          "찜탕",
          "치킨",
          "카페/디저트",
          "패스트푸드",
          "피자",
          "한식",
          "회",
          "치킨",
          "카페/디저트",
          "한식",
          "도시락",
          "돈까스/일식",
          "배달전문업체",
          "분식",
          "아시안/양식",
          "야식",
          "족발/보쌈",
          "중식",
          "찜탕",
          "치킨",
          "카페/디저트",
          "패스트푸드",
          "피자",
          "한식",
          "회",
          "카페/디저트",
          "패스트푸드",
          "한식",
          "분식",
          "아시안/양식",
          "족발/보쌈",
          "중식",
          "치킨",
          "카페/디저트",
          "패스트푸드",
          "피자",
          "한식",
          "돈까스/일식",
          "분식",
          "야식",
          "족발/보쌈",
          "중식",
          "치킨",
          "피자",
          "한식",
          "회",
          "돈까스/일식",
          "배달전문업체",
          "분식",
          "야식",
          "족발/보쌈",
          "중식",
          "찜탕",
          "치킨",
          "카페/디저트",
          "패스트푸드",
          "피자",
          "한식",
          "회",
          "돈까스/일식",
          "배달전문업체",
          "분식",
          "야식",
          "족발/보쌈",
          "중식",
          "찜탕",
          "치킨",
          "카페/디저트",
          "패스트푸드",
          "피자",
          "한식",
          "회",
          "카페/디저트",
          "분식",
          "치킨",
          "한식",
          "치킨",
          "카페/디저트",
          "카페/디저트",
          "분식",
          "치킨",
          "카페/디저트",
          "도시락",
          "돈까스/일식",
          "분식",
          "아시안/양식",
          "야식",
          "족발/보쌈",
          "중식",
          "찜탕",
          "치킨",
          "카페/디저트",
          "패스트푸드",
          "피자",
          "한식",
          "회",
          "도시락",
          "돈까스/일식",
          "분식",
          "아시안/양식",
          "야식",
          "족발/보쌈",
          "중식",
          "찜탕",
          "치킨",
          "카페/디저트",
          "패스트푸드",
          "피자",
          "한식",
          "회",
          "도시락",
          "돈까스/일식",
          "배달전문업체",
          "분식",
          "아시안/양식",
          "야식",
          "족발/보쌈",
          "중식",
          "찜탕",
          "치킨",
          "카페/디저트",
          "패스트푸드",
          "피자",
          "한식",
          "회",
          "분식",
          "족발/보쌈",
          "치킨",
          "분식",
          "아시안/양식",
          "야식",
          "족발/보쌈",
          "중식",
          "찜탕",
          "치킨",
          "카페/디저트",
          "패스트푸드",
          "피자",
          "한식",
          "회",
          "도시락",
          "돈까스/일식",
          "분식",
          "아시안/양식",
          "야식",
          "족발/보쌈",
          "중식",
          "찜탕",
          "치킨",
          "카페/디저트",
          "패스트푸드",
          "피자",
          "한식",
          "회",
          "도시락",
          "돈까스/일식",
          "배달전문업체",
          "분식",
          "아시안/양식",
          "야식",
          "족발/보쌈",
          "중식",
          "찜탕",
          "치킨",
          "카페/디저트",
          "패스트푸드",
          "피자",
          "한식",
          "회",
          "도시락",
          "돈까스/일식",
          "배달전문업체",
          "분식",
          "아시안/양식",
          "야식",
          "족발/보쌈",
          "중식",
          "찜탕",
          "치킨",
          "카페/디저트",
          "패스트푸드",
          "피자",
          "한식",
          "회",
          "피자",
          "한식",
          "돈까스/일식",
          "배달전문업체",
          "분식",
          "야식",
          "족발/보쌈",
          "중식",
          "치킨",
          "카페/디저트",
          "패스트푸드",
          "피자",
          "한식",
          "회",
          "도시락",
          "돈까스/일식",
          "배달전문업체",
          "분식",
          "아시안/양식",
          "야식",
          "족발/보쌈",
          "중식",
          "찜탕",
          "치킨",
          "카페/디저트",
          "패스트푸드",
          "피자",
          "한식",
          "회",
          "심부름",
          "치킨",
          "한식",
          "분식",
          "치킨",
          "돈까스/일식",
          "분식",
          "아시안/양식",
          "야식",
          "족발/보쌈",
          "찜탕",
          "치킨",
          "카페/디저트",
          "패스트푸드",
          "피자",
          "한식",
          "회",
          "돈까스/일식",
          "분식",
          "아시안/양식",
          "족발/보쌈",
          "중식",
          "찜탕",
          "치킨",
          "카페/디저트",
          "패스트푸드",
          "한식",
          "회",
          "분식",
          "아시안/양식",
          "야식",
          "족발/보쌈",
          "중식",
          "찜탕",
          "치킨",
          "카페/디저트",
          "패스트푸드",
          "피자",
          "한식",
          "회",
          "도시락",
          "돈까스/일식",
          "배달전문업체",
          "분식",
          "심부름",
          "아시안/양식",
          "야식",
          "족발/보쌈",
          "중식",
          "찜탕",
          "치킨",
          "카페/디저트",
          "패스트푸드",
          "피자",
          "한식",
          "회",
          "돈까스/일식",
          "분식",
          "야식",
          "치킨",
          "피자",
          "치킨",
          "회",
          "돈까스/일식",
          "아시안/양식",
          "족발/보쌈",
          "카페/디저트",
          "돈까스/일식",
          "분식",
          "족발/보쌈",
          "찜탕",
          "치킨",
          "카페/디저트",
          "패스트푸드",
          "피자",
          "한식",
          "돈까스/일식",
          "배달전문업체",
          "분식",
          "심부름",
          "아시안/양식",
          "야식",
          "족발/보쌈",
          "중식",
          "찜탕",
          "치킨",
          "카페/디저트",
          "패스트푸드",
          "피자",
          "한식",
          "회",
          "도시락",
          "돈까스/일식",
          "배달전문업체",
          "분식",
          "심부름",
          "야식",
          "족발/보쌈",
          "중식",
          "찜탕",
          "치킨",
          "카페/디저트",
          "패스트푸드",
          "피자",
          "한식",
          "회",
          "분식",
          "치킨",
          "피자",
          "도시락",
          "돈까스/일식",
          "분식",
          "아시안/양식",
          "야식",
          "족발/보쌈",
          "중식",
          "찜탕",
          "치킨",
          "카페/디저트",
          "패스트푸드",
          "피자",
          "한식",
          "회"
         ],
         "z": [
          100,
          83.33333333333334,
          16.666666666666664,
          2.2175290390707496,
          18.373812038014783,
          0.26399155227032733,
          0.6335797254487857,
          7.708553326293559,
          0.36958817317845827,
          7.074973600844774,
          54.2766631467793,
          9.081309398099261,
          30.65217391304348,
          18.26086956521739,
          0.10869565217391304,
          9.130434782608695,
          24.23913043478261,
          3.369565217391304,
          5.434782608695652,
          6.630434782608696,
          2.1739130434782608,
          1.7704975732651624,
          6.325256567003816,
          0.23804231039976287,
          13.539235300655776,
          4.247712200363083,
          5.992738320180801,
          8.746433996517359,
          3.083435219147123,
          2.4248823681968066,
          23.290170797673298,
          1.5931236338038606,
          10.976807083842763,
          3.3145307695157644,
          11.73029898855174,
          2.726834870882887,
          0.6930407161420733,
          3.4218885359514872,
          0.24545192030031765,
          7.666762922321686,
          0.620848974877274,
          0.15882183078255846,
          0.8085475021657523,
          0.47646549234767543,
          5.963037828472423,
          31.995379728559055,
          2.8443546058330926,
          0.44758879584175565,
          4.966791799018192,
          18.235633843488305,
          21.455385503898356,
          0.05767567047966932,
          6.751257650036849,
          0.03524624307090903,
          16.610593098144765,
          0.012816815662148737,
          0.0032042039155371843,
          0.03524624307090903,
          0.07049248614181806,
          9.785638758050561,
          35.73969047390176,
          1.8680508827581785,
          3.6079336088948697,
          5.094684225704124,
          13.733217981992373,
          6.594251658175526,
          7.142857142857142,
          14.285714285714285,
          21.428571428571427,
          50,
          7.142857142857142,
          0.10568772512563897,
          0.010784461747514181,
          1.0460927895088756,
          1.212173500420594,
          0.7678536764230097,
          3.1404352608761297,
          0.6880486594914048,
          0.25235640489183186,
          24.840929189224166,
          44.02001596100338,
          19.912430170610186,
          1.6500226473696695,
          2.2970903522205206,
          0.05607920108707374,
          0.1145943887535304,
          8.74619634778868,
          0.9728182109876625,
          10.0726704723757,
          2.736161405315064,
          2.9389053238790024,
          11.34484448659951,
          9.152741979274284,
          4.5280650473010375,
          18.448286196841426,
          5.837967060283701,
          6.400361060474104,
          5.1891865208790975,
          12.184733206633076,
          1.3324682926141271,
          7.9908740909739056,
          1.3745900470554684,
          13.609011835163267,
          0.002851846570654499,
          10.49764722657921,
          6.741765293027235,
          9.824611435904748,
          19.292742050477685,
          4.614287751318979,
          8.789391130757165,
          1.3688863539141596,
          15.893340938257522,
          50,
          50,
          0.49843224538202846,
          5.277078290253927,
          0.5751141292869559,
          11.26573846928663,
          1.915097558201875,
          2.5009341543060453,
          7.262359267623024,
          3.7756080126070213,
          2.8755706464347797,
          29.216772537488016,
          6.933861875132,
          12.20314200770068,
          4.763374652738291,
          10.113235748054523,
          0.8236804055041995,
          0.6779661016949152,
          0.3389830508474576,
          98.98305084745763,
          15.566037735849056,
          1.4150943396226416,
          34.43396226415094,
          5.660377358490567,
          0.9433962264150944,
          41.9811320754717,
          0.005866091789671279,
          1.4203274745741583,
          1.0221664943502204,
          23.162996692990752,
          3.019570748733291,
          9.911495340123334,
          10.548699560776377,
          5.480396254500392,
          2.5172866392426876,
          21.748535310206265,
          4.041003981609802,
          10.083811786444928,
          1.9160122308013814,
          5.103499857014013,
          0.018331536842722748,
          36.067080174592235,
          63.10590397427062,
          0.8270158511371467,
          2.037452394213545,
          3.7836251147807496,
          2.763017266035435,
          16.10016408002288,
          2.2421760924869414,
          7.546928391865243,
          5.541087745179209,
          4.173503334286703,
          5.635170327106321,
          13.349942045129534,
          14.17561078412187,
          3.035480423296353,
          6.585028074242446,
          10.136833707154793,
          2.893980220077976,
          0.4109790107148099,
          1.7943637164244826,
          16.974900924702773,
          3.041978570380156,
          9.709379128137384,
          3.3575517393218846,
          0.4366651988844855,
          0.726552179656539,
          5.408777337443124,
          29.370321444297666,
          0.0036694554528108026,
          14.586085424922942,
          8.902098928519008,
          5.276676941141935,
          0.7393392056475976,
          3.386650554901898,
          11.028078990046746,
          0.0015899767863389194,
          1.564537157757497,
          5.213533882405317,
          12.543326867427734,
          1.675835532801221,
          1.658345788151493,
          11.174356854389925,
          2.725220211784908,
          2.548732788501288,
          27.535217985817408,
          16.440359970744428,
          1.7648742328362006,
          50,
          50,
          0.002923933860616073,
          6.284995833394248,
          2.48680574845397,
          10.131430827034693,
          1.1447201064311925,
          3.9560825134135467,
          13.239572520869578,
          1.3757108814198622,
          0.40496483969532604,
          19.38860542974518,
          2.907852224382684,
          10.52762386514817,
          9.0232598938612,
          18.379848247832633,
          0.7456031344570986,
          0.8873526452910981,
          0.0051590270075063845,
          1.2355869682977791,
          4.14527820053138,
          0.2863259989166043,
          3.3894807439316943,
          0.6732530244795831,
          1.743751128537158,
          25.44690071452524,
          33.11837387468724,
          23.790853045115693,
          2.4402197745505196,
          2.574354476745686,
          0.2631103773828256,
          1.095890410958904,
          98.63013698630137,
          0.273972602739726,
          0.7207891667336319,
          8.871307477457076,
          2.4144001987040404,
          10.017021338768474,
          2.5748731922437242,
          3.011729869649175,
          7.335490830636461,
          4.465240185944124,
          3.324883541412503,
          22.220030633539587,
          9.846564441230115,
          2.912621359223301,
          4.556556381053959,
          16.06337100430769,
          1.66512037909614,
          99.90770650669127,
          0.046146746654360866,
          0.046146746654360866,
          0.06340148993501347,
          0.01585037248375337,
          1.2997305436677762,
          0.07925186241876685,
          40.244095736249804,
          0.17435409732128707,
          53.827864954826445,
          2.8213663021080992,
          1.474084640989063,
          5.128205128205128,
          8.791208791208792,
          4.395604395604396,
          2.197802197802198,
          1.098901098901099,
          54.57875457875458,
          4.761904761904762,
          16.483516483516482,
          2.564102564102564,
          3.721729172630976,
          1.503006012024048,
          18.308044660750074,
          2.2330375035785854,
          3.764672201545949,
          7.014028056112225,
          0.5296306899513312,
          17.95018608645863,
          6.212424849699398,
          5.797308903521328,
          8.11623246492986,
          20.56971085027197,
          4.279988548525623,
          3.951949860724234,
          1.8105849582172702,
          18.9066852367688,
          2.5069637883008355,
          6.615598885793872,
          3.447075208913649,
          1.2012534818941505,
          23.57242339832869,
          3.081476323119777,
          4.42200557103064,
          9.958217270194986,
          15.302924791086351,
          5.222841225626741,
          100,
          28.57142857142857,
          57.14285714285714,
          14.285714285714285,
          0.016523463317911432,
          99.98347653668209,
          100,
          0.23923444976076555,
          0.23923444976076555,
          99.52153110047847,
          0.6876924596227567,
          4.748309946403081,
          15.221704507707361,
          2.7911695260667764,
          4.998788009372728,
          5.609272177184052,
          3.6943269860935297,
          5.236697280652141,
          11.099140833310889,
          17.400594324292783,
          12.512232127627101,
          4.645964071211182,
          10.182516810758885,
          1.171590939696733,
          8.22482281193341,
          6.873248722597659,
          8.620405472226802,
          18.262732816878195,
          1.8790176363936046,
          1.9449480797758365,
          0.8076479314323389,
          11.092797099060492,
          18.180319762650406,
          0.016482610845557938,
          2.9833525630459863,
          1.6482610845557937,
          16.76281522993242,
          2.7031481786715017,
          1.5820261559670628,
          5.342225865345206,
          0.25708856514773276,
          18.503670032415513,
          5.751332016841164,
          1.7146689518983567,
          5.578449271582399,
          0.6758821118521554,
          4.378702634226313,
          20.096128767837847,
          1.751182979991803,
          5.27590446737956,
          6.998025261745967,
          18.027497298707104,
          4.067215619061813,
          33.33333333333333,
          33.33333333333333,
          33.33333333333333,
          9.294535182703799,
          0.7967261796979683,
          2.5585774816209756,
          5.367037265056314,
          0.054322239524861475,
          2.7704342157679354,
          56.723282511860354,
          9.924673161192192,
          2.361206678013979,
          1.51377974142614,
          6.234382356136602,
          2.401042986998877,
          0.040412204485754694,
          0.040412204485754694,
          21.660941604364517,
          0.020206102242877347,
          0.7880379874722166,
          10.062638916952919,
          0.30309153364316027,
          7.4964639321074955,
          4.9504950495049505,
          11.780157607597493,
          16.811477066073955,
          0.22226712467165083,
          23.09557486360881,
          2.727823802788442,
          1.7884322678843225,
          0.0532724505327245,
          0.7343987823439878,
          17.47716894977169,
          0.1750380517503805,
          0.3691019786910198,
          1.5753424657534247,
          0.01141552511415525,
          3.458904109589041,
          17.14992389649924,
          31.666666666666664,
          6.834094368340944,
          7.264079147640791,
          3.1012176560121762,
          8.340943683409437,
          1.2212852573422508,
          7.06923847371652,
          0.0032309133792123037,
          12.87518981616103,
          0.3037058576459565,
          6.1548899873994385,
          0.4006332590223256,
          0.6558754159800976,
          0.9434267067299926,
          23.640593195696425,
          27.020128590352492,
          7.091854867371006,
          2.6138089237827535,
          9.511808988401022,
          0.4943297470194824,
          50,
          50,
          0.27261884477764525,
          0.03407735559720566,
          0.08519338899301414,
          1.6357130686658716,
          0.7156244675413188,
          0.6815471119441131,
          1.090475379110581,
          10.734367013119781,
          82.16050434486284,
          2.368376214005793,
          0.20446413358323395,
          0.01703867779860283,
          1.264212451299992,
          4.505247674326151,
          0.0009938777132861571,
          14.400294187803134,
          8.629840184463704,
          3.0223821261032042,
          5.957303013437227,
          3.992406774270494,
          3.0949351991730936,
          33.60797487477141,
          2.129879939572235,
          7.359664466883994,
          2.0762105430547826,
          9.280830086666136,
          0.6778246004611592,
          33.33333333333333,
          33.33333333333333,
          33.33333333333333,
          50,
          50,
          1.7662199343214695,
          14.054317919588177,
          4.88595011981894,
          16.947723440134908,
          0.7233513801366823,
          16.490636371704976,
          12.962634241590484,
          13.25996272299636,
          2.0502352001420077,
          8.680216561640188,
          6.203958462767374,
          1.9747936451584274,
          12.882048685209968,
          10.426086012948964,
          1.5987268058017146,
          13.484284009114914,
          0.6420226426013672,
          0.9892574239519659,
          32.54421817918762,
          0.83915072159728,
          8.107570441639238,
          5.910225340904981,
          12.576409737041994,
          8.600182982616651,
          1.079597438243367,
          1.2259835315645013,
          4.84903934126258,
          0.09149130832570906,
          3.110704483074108,
          51.216834400731926,
          12.296431838975296,
          5.269899359560841,
          1.445562671546203,
          6.752058554437329,
          4.062214089661482,
          1.0923129940339011,
          5.1140451011221435,
          3.953240431626785,
          8.958840379934955,
          0.1761829890801008,
          1.7083073079325422,
          6.1471278726657905,
          12.36016282926619,
          2.5691916689999785,
          5.915053091817614,
          20.0571840875315,
          6.3298800318766295,
          5.118029679726034,
          3.3249693079756186,
          15.485364750479228,
          1.6901074759309915,
          6.927297668038408,
          0.06858710562414265,
          2.880658436213992,
          84.70507544581619,
          5.41838134430727,
          75,
          25,
          50,
          50,
          0.19230769230769232,
          99.8076923076923,
          0.8640552995391706,
          0.6240399385560677,
          0.019201228878648235,
          0.0576036866359447,
          2.6977726574500767,
          94.98847926267281,
          0.03840245775729647,
          0.36482334869431643,
          0.3456221198156682,
          7.514848684830771,
          3.2110870180069764,
          16.385405864052043,
          0.018855472800980485,
          1.1812953709814273,
          2.100499670029226,
          6.91807297067974,
          2.7726972753841803,
          3.9587065145658524,
          16.694635617988123,
          7.63363816347695,
          3.813519373998303,
          4.185914961817668,
          18.35863109267465,
          5.252191948713114,
          3.520668997382337,
          6.245498146553996,
          0.0035136417139544278,
          5.4320900897735465,
          0.0017568208569772139,
          4.550166019570985,
          8.889513536304703,
          0.005270462570931642,
          3.485532580242793,
          24.375889390558843,
          12.136118479998595,
          6.501993991672669,
          7.477029567295022,
          16.688041320426557,
          0.6869169550780907,
          54.54545454545454,
          36.36363636363637,
          9.090909090909092,
          0.11664301405548319,
          0.15941211920916037,
          7.99782266373763,
          1.2500243006279281,
          0.20023717412857947,
          3.08520772176753,
          2.3970139388401797,
          6.057660529948094,
          33.28408406073213,
          19.745718229359046,
          0.27994323373315966,
          8.66851999455666,
          2.7177822274927586,
          14.039930791811662
         ]
        }
       ],
       "layout": {
        "template": {
         "data": {
          "bar": [
           {
            "error_x": {
             "color": "#2a3f5f"
            },
            "error_y": {
             "color": "#2a3f5f"
            },
            "marker": {
             "line": {
              "color": "#E5ECF6",
              "width": 0.5
             }
            },
            "type": "bar"
           }
          ],
          "barpolar": [
           {
            "marker": {
             "line": {
              "color": "#E5ECF6",
              "width": 0.5
             }
            },
            "type": "barpolar"
           }
          ],
          "carpet": [
           {
            "aaxis": {
             "endlinecolor": "#2a3f5f",
             "gridcolor": "white",
             "linecolor": "white",
             "minorgridcolor": "white",
             "startlinecolor": "#2a3f5f"
            },
            "baxis": {
             "endlinecolor": "#2a3f5f",
             "gridcolor": "white",
             "linecolor": "white",
             "minorgridcolor": "white",
             "startlinecolor": "#2a3f5f"
            },
            "type": "carpet"
           }
          ],
          "choropleth": [
           {
            "colorbar": {
             "outlinewidth": 0,
             "ticks": ""
            },
            "type": "choropleth"
           }
          ],
          "contour": [
           {
            "colorbar": {
             "outlinewidth": 0,
             "ticks": ""
            },
            "colorscale": [
             [
              0,
              "#0d0887"
             ],
             [
              0.1111111111111111,
              "#46039f"
             ],
             [
              0.2222222222222222,
              "#7201a8"
             ],
             [
              0.3333333333333333,
              "#9c179e"
             ],
             [
              0.4444444444444444,
              "#bd3786"
             ],
             [
              0.5555555555555556,
              "#d8576b"
             ],
             [
              0.6666666666666666,
              "#ed7953"
             ],
             [
              0.7777777777777778,
              "#fb9f3a"
             ],
             [
              0.8888888888888888,
              "#fdca26"
             ],
             [
              1,
              "#f0f921"
             ]
            ],
            "type": "contour"
           }
          ],
          "contourcarpet": [
           {
            "colorbar": {
             "outlinewidth": 0,
             "ticks": ""
            },
            "type": "contourcarpet"
           }
          ],
          "heatmap": [
           {
            "colorbar": {
             "outlinewidth": 0,
             "ticks": ""
            },
            "colorscale": [
             [
              0,
              "#0d0887"
             ],
             [
              0.1111111111111111,
              "#46039f"
             ],
             [
              0.2222222222222222,
              "#7201a8"
             ],
             [
              0.3333333333333333,
              "#9c179e"
             ],
             [
              0.4444444444444444,
              "#bd3786"
             ],
             [
              0.5555555555555556,
              "#d8576b"
             ],
             [
              0.6666666666666666,
              "#ed7953"
             ],
             [
              0.7777777777777778,
              "#fb9f3a"
             ],
             [
              0.8888888888888888,
              "#fdca26"
             ],
             [
              1,
              "#f0f921"
             ]
            ],
            "type": "heatmap"
           }
          ],
          "heatmapgl": [
           {
            "colorbar": {
             "outlinewidth": 0,
             "ticks": ""
            },
            "colorscale": [
             [
              0,
              "#0d0887"
             ],
             [
              0.1111111111111111,
              "#46039f"
             ],
             [
              0.2222222222222222,
              "#7201a8"
             ],
             [
              0.3333333333333333,
              "#9c179e"
             ],
             [
              0.4444444444444444,
              "#bd3786"
             ],
             [
              0.5555555555555556,
              "#d8576b"
             ],
             [
              0.6666666666666666,
              "#ed7953"
             ],
             [
              0.7777777777777778,
              "#fb9f3a"
             ],
             [
              0.8888888888888888,
              "#fdca26"
             ],
             [
              1,
              "#f0f921"
             ]
            ],
            "type": "heatmapgl"
           }
          ],
          "histogram": [
           {
            "marker": {
             "colorbar": {
              "outlinewidth": 0,
              "ticks": ""
             }
            },
            "type": "histogram"
           }
          ],
          "histogram2d": [
           {
            "colorbar": {
             "outlinewidth": 0,
             "ticks": ""
            },
            "colorscale": [
             [
              0,
              "#0d0887"
             ],
             [
              0.1111111111111111,
              "#46039f"
             ],
             [
              0.2222222222222222,
              "#7201a8"
             ],
             [
              0.3333333333333333,
              "#9c179e"
             ],
             [
              0.4444444444444444,
              "#bd3786"
             ],
             [
              0.5555555555555556,
              "#d8576b"
             ],
             [
              0.6666666666666666,
              "#ed7953"
             ],
             [
              0.7777777777777778,
              "#fb9f3a"
             ],
             [
              0.8888888888888888,
              "#fdca26"
             ],
             [
              1,
              "#f0f921"
             ]
            ],
            "type": "histogram2d"
           }
          ],
          "histogram2dcontour": [
           {
            "colorbar": {
             "outlinewidth": 0,
             "ticks": ""
            },
            "colorscale": [
             [
              0,
              "#0d0887"
             ],
             [
              0.1111111111111111,
              "#46039f"
             ],
             [
              0.2222222222222222,
              "#7201a8"
             ],
             [
              0.3333333333333333,
              "#9c179e"
             ],
             [
              0.4444444444444444,
              "#bd3786"
             ],
             [
              0.5555555555555556,
              "#d8576b"
             ],
             [
              0.6666666666666666,
              "#ed7953"
             ],
             [
              0.7777777777777778,
              "#fb9f3a"
             ],
             [
              0.8888888888888888,
              "#fdca26"
             ],
             [
              1,
              "#f0f921"
             ]
            ],
            "type": "histogram2dcontour"
           }
          ],
          "mesh3d": [
           {
            "colorbar": {
             "outlinewidth": 0,
             "ticks": ""
            },
            "type": "mesh3d"
           }
          ],
          "parcoords": [
           {
            "line": {
             "colorbar": {
              "outlinewidth": 0,
              "ticks": ""
             }
            },
            "type": "parcoords"
           }
          ],
          "pie": [
           {
            "automargin": true,
            "type": "pie"
           }
          ],
          "scatter": [
           {
            "marker": {
             "colorbar": {
              "outlinewidth": 0,
              "ticks": ""
             }
            },
            "type": "scatter"
           }
          ],
          "scatter3d": [
           {
            "line": {
             "colorbar": {
              "outlinewidth": 0,
              "ticks": ""
             }
            },
            "marker": {
             "colorbar": {
              "outlinewidth": 0,
              "ticks": ""
             }
            },
            "type": "scatter3d"
           }
          ],
          "scattercarpet": [
           {
            "marker": {
             "colorbar": {
              "outlinewidth": 0,
              "ticks": ""
             }
            },
            "type": "scattercarpet"
           }
          ],
          "scattergeo": [
           {
            "marker": {
             "colorbar": {
              "outlinewidth": 0,
              "ticks": ""
             }
            },
            "type": "scattergeo"
           }
          ],
          "scattergl": [
           {
            "marker": {
             "colorbar": {
              "outlinewidth": 0,
              "ticks": ""
             }
            },
            "type": "scattergl"
           }
          ],
          "scattermapbox": [
           {
            "marker": {
             "colorbar": {
              "outlinewidth": 0,
              "ticks": ""
             }
            },
            "type": "scattermapbox"
           }
          ],
          "scatterpolar": [
           {
            "marker": {
             "colorbar": {
              "outlinewidth": 0,
              "ticks": ""
             }
            },
            "type": "scatterpolar"
           }
          ],
          "scatterpolargl": [
           {
            "marker": {
             "colorbar": {
              "outlinewidth": 0,
              "ticks": ""
             }
            },
            "type": "scatterpolargl"
           }
          ],
          "scatterternary": [
           {
            "marker": {
             "colorbar": {
              "outlinewidth": 0,
              "ticks": ""
             }
            },
            "type": "scatterternary"
           }
          ],
          "surface": [
           {
            "colorbar": {
             "outlinewidth": 0,
             "ticks": ""
            },
            "colorscale": [
             [
              0,
              "#0d0887"
             ],
             [
              0.1111111111111111,
              "#46039f"
             ],
             [
              0.2222222222222222,
              "#7201a8"
             ],
             [
              0.3333333333333333,
              "#9c179e"
             ],
             [
              0.4444444444444444,
              "#bd3786"
             ],
             [
              0.5555555555555556,
              "#d8576b"
             ],
             [
              0.6666666666666666,
              "#ed7953"
             ],
             [
              0.7777777777777778,
              "#fb9f3a"
             ],
             [
              0.8888888888888888,
              "#fdca26"
             ],
             [
              1,
              "#f0f921"
             ]
            ],
            "type": "surface"
           }
          ],
          "table": [
           {
            "cells": {
             "fill": {
              "color": "#EBF0F8"
             },
             "line": {
              "color": "white"
             }
            },
            "header": {
             "fill": {
              "color": "#C8D4E3"
             },
             "line": {
              "color": "white"
             }
            },
            "type": "table"
           }
          ]
         },
         "layout": {
          "annotationdefaults": {
           "arrowcolor": "#2a3f5f",
           "arrowhead": 0,
           "arrowwidth": 1
          },
          "coloraxis": {
           "colorbar": {
            "outlinewidth": 0,
            "ticks": ""
           }
          },
          "colorscale": {
           "diverging": [
            [
             0,
             "#8e0152"
            ],
            [
             0.1,
             "#c51b7d"
            ],
            [
             0.2,
             "#de77ae"
            ],
            [
             0.3,
             "#f1b6da"
            ],
            [
             0.4,
             "#fde0ef"
            ],
            [
             0.5,
             "#f7f7f7"
            ],
            [
             0.6,
             "#e6f5d0"
            ],
            [
             0.7,
             "#b8e186"
            ],
            [
             0.8,
             "#7fbc41"
            ],
            [
             0.9,
             "#4d9221"
            ],
            [
             1,
             "#276419"
            ]
           ],
           "sequential": [
            [
             0,
             "#0d0887"
            ],
            [
             0.1111111111111111,
             "#46039f"
            ],
            [
             0.2222222222222222,
             "#7201a8"
            ],
            [
             0.3333333333333333,
             "#9c179e"
            ],
            [
             0.4444444444444444,
             "#bd3786"
            ],
            [
             0.5555555555555556,
             "#d8576b"
            ],
            [
             0.6666666666666666,
             "#ed7953"
            ],
            [
             0.7777777777777778,
             "#fb9f3a"
            ],
            [
             0.8888888888888888,
             "#fdca26"
            ],
            [
             1,
             "#f0f921"
            ]
           ],
           "sequentialminus": [
            [
             0,
             "#0d0887"
            ],
            [
             0.1111111111111111,
             "#46039f"
            ],
            [
             0.2222222222222222,
             "#7201a8"
            ],
            [
             0.3333333333333333,
             "#9c179e"
            ],
            [
             0.4444444444444444,
             "#bd3786"
            ],
            [
             0.5555555555555556,
             "#d8576b"
            ],
            [
             0.6666666666666666,
             "#ed7953"
            ],
            [
             0.7777777777777778,
             "#fb9f3a"
            ],
            [
             0.8888888888888888,
             "#fdca26"
            ],
            [
             1,
             "#f0f921"
            ]
           ]
          },
          "colorway": [
           "#636efa",
           "#EF553B",
           "#00cc96",
           "#ab63fa",
           "#FFA15A",
           "#19d3f3",
           "#FF6692",
           "#B6E880",
           "#FF97FF",
           "#FECB52"
          ],
          "font": {
           "color": "#2a3f5f"
          },
          "geo": {
           "bgcolor": "white",
           "lakecolor": "white",
           "landcolor": "#E5ECF6",
           "showlakes": true,
           "showland": true,
           "subunitcolor": "white"
          },
          "hoverlabel": {
           "align": "left"
          },
          "hovermode": "closest",
          "mapbox": {
           "style": "light"
          },
          "paper_bgcolor": "white",
          "plot_bgcolor": "#E5ECF6",
          "polar": {
           "angularaxis": {
            "gridcolor": "white",
            "linecolor": "white",
            "ticks": ""
           },
           "bgcolor": "#E5ECF6",
           "radialaxis": {
            "gridcolor": "white",
            "linecolor": "white",
            "ticks": ""
           }
          },
          "scene": {
           "xaxis": {
            "backgroundcolor": "#E5ECF6",
            "gridcolor": "white",
            "gridwidth": 2,
            "linecolor": "white",
            "showbackground": true,
            "ticks": "",
            "zerolinecolor": "white"
           },
           "yaxis": {
            "backgroundcolor": "#E5ECF6",
            "gridcolor": "white",
            "gridwidth": 2,
            "linecolor": "white",
            "showbackground": true,
            "ticks": "",
            "zerolinecolor": "white"
           },
           "zaxis": {
            "backgroundcolor": "#E5ECF6",
            "gridcolor": "white",
            "gridwidth": 2,
            "linecolor": "white",
            "showbackground": true,
            "ticks": "",
            "zerolinecolor": "white"
           }
          },
          "shapedefaults": {
           "line": {
            "color": "#2a3f5f"
           }
          },
          "ternary": {
           "aaxis": {
            "gridcolor": "white",
            "linecolor": "white",
            "ticks": ""
           },
           "baxis": {
            "gridcolor": "white",
            "linecolor": "white",
            "ticks": ""
           },
           "bgcolor": "#E5ECF6",
           "caxis": {
            "gridcolor": "white",
            "linecolor": "white",
            "ticks": ""
           }
          },
          "title": {
           "x": 0.05
          },
          "xaxis": {
           "automargin": true,
           "gridcolor": "white",
           "linecolor": "white",
           "ticks": "",
           "title": {
            "standoff": 15
           },
           "zerolinecolor": "white",
           "zerolinewidth": 2
          },
          "yaxis": {
           "automargin": true,
           "gridcolor": "white",
           "linecolor": "white",
           "ticks": "",
           "title": {
            "standoff": 15
           },
           "zerolinecolor": "white",
           "zerolinewidth": 2
          }
         }
        }
       }
      },
      "text/html": [
       "<div>                            <div id=\"02d498d0-ef57-4d1f-a389-187875a5b95a\" class=\"plotly-graph-div\" style=\"height:525px; width:100%;\"></div>            <script type=\"text/javascript\">                require([\"plotly\"], function(Plotly) {                    window.PLOTLYENV=window.PLOTLYENV || {};                                    if (document.getElementById(\"02d498d0-ef57-4d1f-a389-187875a5b95a\")) {                    Plotly.newPlot(                        \"02d498d0-ef57-4d1f-a389-187875a5b95a\",                        [{\"hoverongaps\": false, \"type\": \"heatmap\", \"x\": [\"\\uac00\\ud3c9\\uad70\", \"\\uac15\\ub3d9\\uad6c\", \"\\uac15\\ub3d9\\uad6c\", \"\\uac15\\ubd81\\uad6c\", \"\\uac15\\ubd81\\uad6c\", \"\\uac15\\ubd81\\uad6c\", \"\\uac15\\ubd81\\uad6c\", \"\\uac15\\ubd81\\uad6c\", \"\\uac15\\ubd81\\uad6c\", \"\\uac15\\ubd81\\uad6c\", \"\\uac15\\ubd81\\uad6c\", \"\\uac15\\ubd81\\uad6c\", \"\\uac15\\uc11c\\uad6c\", \"\\uac15\\uc11c\\uad6c\", \"\\uac15\\uc11c\\uad6c\", \"\\uac15\\uc11c\\uad6c\", \"\\uac15\\uc11c\\uad6c\", \"\\uac15\\uc11c\\uad6c\", \"\\uac15\\uc11c\\uad6c\", \"\\uac15\\uc11c\\uad6c\", \"\\uac15\\uc11c\\uad6c\", \"\\uace0\\uc591\\uc2dc \\ub355\\uc591\\uad6c\", \"\\uace0\\uc591\\uc2dc \\ub355\\uc591\\uad6c\", \"\\uace0\\uc591\\uc2dc \\ub355\\uc591\\uad6c\", \"\\uace0\\uc591\\uc2dc \\ub355\\uc591\\uad6c\", \"\\uace0\\uc591\\uc2dc \\ub355\\uc591\\uad6c\", \"\\uace0\\uc591\\uc2dc \\ub355\\uc591\\uad6c\", \"\\uace0\\uc591\\uc2dc \\ub355\\uc591\\uad6c\", \"\\uace0\\uc591\\uc2dc \\ub355\\uc591\\uad6c\", \"\\uace0\\uc591\\uc2dc \\ub355\\uc591\\uad6c\", \"\\uace0\\uc591\\uc2dc \\ub355\\uc591\\uad6c\", \"\\uace0\\uc591\\uc2dc \\ub355\\uc591\\uad6c\", \"\\uace0\\uc591\\uc2dc \\ub355\\uc591\\uad6c\", \"\\uace0\\uc591\\uc2dc \\ub355\\uc591\\uad6c\", \"\\uace0\\uc591\\uc2dc \\ub355\\uc591\\uad6c\", \"\\uace0\\uc591\\uc2dc \\ub355\\uc591\\uad6c\", \"\\uace0\\uc591\\uc2dc \\uc77c\\uc0b0\\ub3d9\\uad6c\", \"\\uace0\\uc591\\uc2dc \\uc77c\\uc0b0\\ub3d9\\uad6c\", \"\\uace0\\uc591\\uc2dc \\uc77c\\uc0b0\\ub3d9\\uad6c\", \"\\uace0\\uc591\\uc2dc \\uc77c\\uc0b0\\ub3d9\\uad6c\", \"\\uace0\\uc591\\uc2dc \\uc77c\\uc0b0\\ub3d9\\uad6c\", \"\\uace0\\uc591\\uc2dc \\uc77c\\uc0b0\\ub3d9\\uad6c\", \"\\uace0\\uc591\\uc2dc \\uc77c\\uc0b0\\ub3d9\\uad6c\", \"\\uace0\\uc591\\uc2dc \\uc77c\\uc0b0\\ub3d9\\uad6c\", \"\\uace0\\uc591\\uc2dc \\uc77c\\uc0b0\\ub3d9\\uad6c\", \"\\uace0\\uc591\\uc2dc \\uc77c\\uc0b0\\ub3d9\\uad6c\", \"\\uace0\\uc591\\uc2dc \\uc77c\\uc0b0\\ub3d9\\uad6c\", \"\\uace0\\uc591\\uc2dc \\uc77c\\uc0b0\\ub3d9\\uad6c\", \"\\uace0\\uc591\\uc2dc \\uc77c\\uc0b0\\ub3d9\\uad6c\", \"\\uace0\\uc591\\uc2dc \\uc77c\\uc0b0\\ub3d9\\uad6c\", \"\\uace0\\uc591\\uc2dc \\uc77c\\uc0b0\\ub3d9\\uad6c\", \"\\uace0\\uc591\\uc2dc \\uc77c\\uc0b0\\uc11c\\uad6c\", \"\\uace0\\uc591\\uc2dc \\uc77c\\uc0b0\\uc11c\\uad6c\", \"\\uace0\\uc591\\uc2dc \\uc77c\\uc0b0\\uc11c\\uad6c\", \"\\uace0\\uc591\\uc2dc \\uc77c\\uc0b0\\uc11c\\uad6c\", \"\\uace0\\uc591\\uc2dc \\uc77c\\uc0b0\\uc11c\\uad6c\", \"\\uace0\\uc591\\uc2dc \\uc77c\\uc0b0\\uc11c\\uad6c\", \"\\uace0\\uc591\\uc2dc \\uc77c\\uc0b0\\uc11c\\uad6c\", \"\\uace0\\uc591\\uc2dc \\uc77c\\uc0b0\\uc11c\\uad6c\", \"\\uace0\\uc591\\uc2dc \\uc77c\\uc0b0\\uc11c\\uad6c\", \"\\uace0\\uc591\\uc2dc \\uc77c\\uc0b0\\uc11c\\uad6c\", \"\\uace0\\uc591\\uc2dc \\uc77c\\uc0b0\\uc11c\\uad6c\", \"\\uace0\\uc591\\uc2dc \\uc77c\\uc0b0\\uc11c\\uad6c\", \"\\uace0\\uc591\\uc2dc \\uc77c\\uc0b0\\uc11c\\uad6c\", \"\\uace0\\uc591\\uc2dc \\uc77c\\uc0b0\\uc11c\\uad6c\", \"\\uace0\\uc591\\uc2dc \\uc77c\\uc0b0\\uc11c\\uad6c\", \"\\uacfc\\ucc9c\\uc2dc\", \"\\uacfc\\ucc9c\\uc2dc\", \"\\uacfc\\ucc9c\\uc2dc\", \"\\uacfc\\ucc9c\\uc2dc\", \"\\uacfc\\ucc9c\\uc2dc\", \"\\uad00\\uc545\\uad6c\", \"\\uad00\\uc545\\uad6c\", \"\\uad00\\uc545\\uad6c\", \"\\uad00\\uc545\\uad6c\", \"\\uad00\\uc545\\uad6c\", \"\\uad00\\uc545\\uad6c\", \"\\uad00\\uc545\\uad6c\", \"\\uad00\\uc545\\uad6c\", \"\\uad00\\uc545\\uad6c\", \"\\uad00\\uc545\\uad6c\", \"\\uad00\\uc545\\uad6c\", \"\\uad00\\uc545\\uad6c\", \"\\uad00\\uc545\\uad6c\", \"\\uad00\\uc545\\uad6c\", \"\\uad11\\uba85\\uc2dc\", \"\\uad11\\uba85\\uc2dc\", \"\\uad11\\uba85\\uc2dc\", \"\\uad11\\uba85\\uc2dc\", \"\\uad11\\uba85\\uc2dc\", \"\\uad11\\uba85\\uc2dc\", \"\\uad11\\uba85\\uc2dc\", \"\\uad11\\uba85\\uc2dc\", \"\\uad11\\uba85\\uc2dc\", \"\\uad11\\uba85\\uc2dc\", \"\\uad11\\uba85\\uc2dc\", \"\\uad11\\uba85\\uc2dc\", \"\\uad11\\uba85\\uc2dc\", \"\\uad11\\uba85\\uc2dc\", \"\\uad11\\uba85\\uc2dc\", \"\\uad11\\uc8fc\\uc2dc\", \"\\uad11\\uc8fc\\uc2dc\", \"\\uad11\\uc8fc\\uc2dc\", \"\\uad11\\uc8fc\\uc2dc\", \"\\uad11\\uc8fc\\uc2dc\", \"\\uad11\\uc8fc\\uc2dc\", \"\\uad11\\uc8fc\\uc2dc\", \"\\uad11\\uc8fc\\uc2dc\", \"\\uad11\\uc8fc\\uc2dc\", \"\\uad11\\uc8fc\\uc2dc\", \"\\uad11\\uc8fc\\uc2dc\", \"\\uad11\\uc8fc\\uc2dc\", \"\\uad11\\uc9c4\\uad6c\", \"\\uad11\\uc9c4\\uad6c\", \"\\uad6c\\ub85c\\uad6c\", \"\\uad6c\\ub85c\\uad6c\", \"\\uad6c\\ub85c\\uad6c\", \"\\uad6c\\ub85c\\uad6c\", \"\\uad6c\\ub85c\\uad6c\", \"\\uad6c\\ub85c\\uad6c\", \"\\uad6c\\ub85c\\uad6c\", \"\\uad6c\\ub85c\\uad6c\", \"\\uad6c\\ub85c\\uad6c\", \"\\uad6c\\ub85c\\uad6c\", \"\\uad6c\\ub85c\\uad6c\", \"\\uad6c\\ub85c\\uad6c\", \"\\uad6c\\ub85c\\uad6c\", \"\\uad6c\\ub85c\\uad6c\", \"\\uad6c\\ub85c\\uad6c\", \"\\uad6c\\ub9ac\\uc2dc\", \"\\uad6c\\ub9ac\\uc2dc\", \"\\uad6c\\ub9ac\\uc2dc\", \"\\uad70\\ud3ec\\uc2dc\", \"\\uad70\\ud3ec\\uc2dc\", \"\\uad70\\ud3ec\\uc2dc\", \"\\uad70\\ud3ec\\uc2dc\", \"\\uad70\\ud3ec\\uc2dc\", \"\\uad70\\ud3ec\\uc2dc\", \"\\uae08\\ucc9c\\uad6c\", \"\\uae08\\ucc9c\\uad6c\", \"\\uae08\\ucc9c\\uad6c\", \"\\uae08\\ucc9c\\uad6c\", \"\\uae08\\ucc9c\\uad6c\", \"\\uae08\\ucc9c\\uad6c\", \"\\uae08\\ucc9c\\uad6c\", \"\\uae08\\ucc9c\\uad6c\", \"\\uae08\\ucc9c\\uad6c\", \"\\uae08\\ucc9c\\uad6c\", \"\\uae08\\ucc9c\\uad6c\", \"\\uae08\\ucc9c\\uad6c\", \"\\uae08\\ucc9c\\uad6c\", \"\\uae08\\ucc9c\\uad6c\", \"\\uae08\\ucc9c\\uad6c\", \"\\uae40\\ud3ec\\uc2dc\", \"\\uae40\\ud3ec\\uc2dc\", \"\\uae40\\ud3ec\\uc2dc\", \"\\ub0a8\\uc591\\uc8fc\\uc2dc\", \"\\ub0a8\\uc591\\uc8fc\\uc2dc\", \"\\ub0a8\\uc591\\uc8fc\\uc2dc\", \"\\ub0a8\\uc591\\uc8fc\\uc2dc\", \"\\ub0a8\\uc591\\uc8fc\\uc2dc\", \"\\ub0a8\\uc591\\uc8fc\\uc2dc\", \"\\ub0a8\\uc591\\uc8fc\\uc2dc\", \"\\ub0a8\\uc591\\uc8fc\\uc2dc\", \"\\ub0a8\\uc591\\uc8fc\\uc2dc\", \"\\ub0a8\\uc591\\uc8fc\\uc2dc\", \"\\ub0a8\\uc591\\uc8fc\\uc2dc\", \"\\ub0a8\\uc591\\uc8fc\\uc2dc\", \"\\ub0a8\\uc591\\uc8fc\\uc2dc\", \"\\ub0a8\\uc591\\uc8fc\\uc2dc\", \"\\ub0a8\\uc591\\uc8fc\\uc2dc\", \"\\ub178\\uc6d0\\uad6c\", \"\\ub178\\uc6d0\\uad6c\", \"\\ub178\\uc6d0\\uad6c\", \"\\ub178\\uc6d0\\uad6c\", \"\\ub178\\uc6d0\\uad6c\", \"\\ub178\\uc6d0\\uad6c\", \"\\ub178\\uc6d0\\uad6c\", \"\\ub178\\uc6d0\\uad6c\", \"\\ub178\\uc6d0\\uad6c\", \"\\ub178\\uc6d0\\uad6c\", \"\\ub178\\uc6d0\\uad6c\", \"\\ub178\\uc6d0\\uad6c\", \"\\ub178\\uc6d0\\uad6c\", \"\\ub178\\uc6d0\\uad6c\", \"\\ub3c4\\ubd09\\uad6c\", \"\\ub3c4\\ubd09\\uad6c\", \"\\ub3c4\\ubd09\\uad6c\", \"\\ub3c4\\ubd09\\uad6c\", \"\\ub3c4\\ubd09\\uad6c\", \"\\ub3c4\\ubd09\\uad6c\", \"\\ub3c4\\ubd09\\uad6c\", \"\\ub3c4\\ubd09\\uad6c\", \"\\ub3c4\\ubd09\\uad6c\", \"\\ub3c4\\ubd09\\uad6c\", \"\\ub3c4\\ubd09\\uad6c\", \"\\ub3c4\\ubd09\\uad6c\", \"\\ub3c4\\ubd09\\uad6c\", \"\\ub3c4\\ubd09\\uad6c\", \"\\ub3c4\\ubd09\\uad6c\", \"\\ub3d9\\ub300\\ubb38\\uad6c\", \"\\ub3d9\\ub300\\ubb38\\uad6c\", \"\\ub3d9\\ub450\\ucc9c\\uc2dc\", \"\\ub3d9\\ub450\\ucc9c\\uc2dc\", \"\\ub3d9\\ub450\\ucc9c\\uc2dc\", \"\\ub3d9\\ub450\\ucc9c\\uc2dc\", \"\\ub3d9\\ub450\\ucc9c\\uc2dc\", \"\\ub3d9\\ub450\\ucc9c\\uc2dc\", \"\\ub3d9\\ub450\\ucc9c\\uc2dc\", \"\\ub3d9\\ub450\\ucc9c\\uc2dc\", \"\\ub3d9\\ub450\\ucc9c\\uc2dc\", \"\\ub3d9\\ub450\\ucc9c\\uc2dc\", \"\\ub3d9\\ub450\\ucc9c\\uc2dc\", \"\\ub3d9\\ub450\\ucc9c\\uc2dc\", \"\\ub3d9\\ub450\\ucc9c\\uc2dc\", \"\\ub3d9\\ub450\\ucc9c\\uc2dc\", \"\\ub3d9\\ub450\\ucc9c\\uc2dc\", \"\\ub3d9\\uc791\\uad6c\", \"\\ub3d9\\uc791\\uad6c\", \"\\ub3d9\\uc791\\uad6c\", \"\\ub3d9\\uc791\\uad6c\", \"\\ub3d9\\uc791\\uad6c\", \"\\ub3d9\\uc791\\uad6c\", \"\\ub3d9\\uc791\\uad6c\", \"\\ub3d9\\uc791\\uad6c\", \"\\ub3d9\\uc791\\uad6c\", \"\\ub3d9\\uc791\\uad6c\", \"\\ub3d9\\uc791\\uad6c\", \"\\ub3d9\\uc791\\uad6c\", \"\\ub3d9\\uc791\\uad6c\", \"\\ub3d9\\uc791\\uad6c\", \"\\ub9c8\\ud3ec\\uad6c\", \"\\ub9c8\\ud3ec\\uad6c\", \"\\ub9c8\\ud3ec\\uad6c\", \"\\ubd80\\ucc9c\\uc2dc\", \"\\ubd80\\ucc9c\\uc2dc\", \"\\ubd80\\ucc9c\\uc2dc\", \"\\ubd80\\ucc9c\\uc2dc\", \"\\ubd80\\ucc9c\\uc2dc\", \"\\ubd80\\ucc9c\\uc2dc\", \"\\ubd80\\ucc9c\\uc2dc\", \"\\ubd80\\ucc9c\\uc2dc\", \"\\ubd80\\ucc9c\\uc2dc\", \"\\ubd80\\ucc9c\\uc2dc\", \"\\ubd80\\ucc9c\\uc2dc\", \"\\ubd80\\ucc9c\\uc2dc\", \"\\ubd80\\ucc9c\\uc2dc\", \"\\ubd80\\ucc9c\\uc2dc\", \"\\ubd80\\ucc9c\\uc2dc\", \"\\uc11c\\ub300\\ubb38\\uad6c\", \"\\uc11c\\ub300\\ubb38\\uad6c\", \"\\uc11c\\ub300\\ubb38\\uad6c\", \"\\uc11c\\ucd08\\uad6c\", \"\\uc11c\\ucd08\\uad6c\", \"\\uc11c\\ucd08\\uad6c\", \"\\uc11c\\ucd08\\uad6c\", \"\\uc11c\\ucd08\\uad6c\", \"\\uc11c\\ucd08\\uad6c\", \"\\uc11c\\ucd08\\uad6c\", \"\\uc11c\\ucd08\\uad6c\", \"\\uc11c\\ucd08\\uad6c\", \"\\uc131\\ub0a8\\uc2dc \\ubd84\\ub2f9\\uad6c\", \"\\uc131\\ub0a8\\uc2dc \\ubd84\\ub2f9\\uad6c\", \"\\uc131\\ub0a8\\uc2dc \\ubd84\\ub2f9\\uad6c\", \"\\uc131\\ub0a8\\uc2dc \\ubd84\\ub2f9\\uad6c\", \"\\uc131\\ub0a8\\uc2dc \\ubd84\\ub2f9\\uad6c\", \"\\uc131\\ub0a8\\uc2dc \\ubd84\\ub2f9\\uad6c\", \"\\uc131\\ub0a8\\uc2dc \\ubd84\\ub2f9\\uad6c\", \"\\uc131\\ub0a8\\uc2dc \\ubd84\\ub2f9\\uad6c\", \"\\uc131\\ub0a8\\uc2dc \\ubd84\\ub2f9\\uad6c\", \"\\uc131\\ub0a8\\uc2dc \\uc218\\uc815\\uad6c\", \"\\uc131\\ub0a8\\uc2dc \\uc218\\uc815\\uad6c\", \"\\uc131\\ub0a8\\uc2dc \\uc218\\uc815\\uad6c\", \"\\uc131\\ub0a8\\uc2dc \\uc218\\uc815\\uad6c\", \"\\uc131\\ub0a8\\uc2dc \\uc218\\uc815\\uad6c\", \"\\uc131\\ub0a8\\uc2dc \\uc218\\uc815\\uad6c\", \"\\uc131\\ub0a8\\uc2dc \\uc218\\uc815\\uad6c\", \"\\uc131\\ub0a8\\uc2dc \\uc218\\uc815\\uad6c\", \"\\uc131\\ub0a8\\uc2dc \\uc218\\uc815\\uad6c\", \"\\uc131\\ub0a8\\uc2dc \\uc218\\uc815\\uad6c\", \"\\uc131\\ub0a8\\uc2dc \\uc218\\uc815\\uad6c\", \"\\uc131\\ub0a8\\uc2dc \\uc218\\uc815\\uad6c\", \"\\uc131\\ub0a8\\uc2dc \\uc218\\uc815\\uad6c\", \"\\uc131\\ub0a8\\uc2dc \\uc911\\uc6d0\\uad6c\", \"\\uc131\\ub0a8\\uc2dc \\uc911\\uc6d0\\uad6c\", \"\\uc131\\ub0a8\\uc2dc \\uc911\\uc6d0\\uad6c\", \"\\uc131\\ub0a8\\uc2dc \\uc911\\uc6d0\\uad6c\", \"\\uc131\\ub0a8\\uc2dc \\uc911\\uc6d0\\uad6c\", \"\\uc131\\ub0a8\\uc2dc \\uc911\\uc6d0\\uad6c\", \"\\uc131\\ub0a8\\uc2dc \\uc911\\uc6d0\\uad6c\", \"\\uc131\\ub0a8\\uc2dc \\uc911\\uc6d0\\uad6c\", \"\\uc131\\ub0a8\\uc2dc \\uc911\\uc6d0\\uad6c\", \"\\uc131\\ub0a8\\uc2dc \\uc911\\uc6d0\\uad6c\", \"\\uc131\\ub0a8\\uc2dc \\uc911\\uc6d0\\uad6c\", \"\\uc131\\ub0a8\\uc2dc \\uc911\\uc6d0\\uad6c\", \"\\uc131\\ub0a8\\uc2dc \\uc911\\uc6d0\\uad6c\", \"\\uc131\\ubd81\\uad6c\", \"\\uc1a1\\ud30c\\uad6c\", \"\\uc1a1\\ud30c\\uad6c\", \"\\uc1a1\\ud30c\\uad6c\", \"\\uc218\\uc6d0\\uc2dc \\uad8c\\uc120\\uad6c\", \"\\uc218\\uc6d0\\uc2dc \\uad8c\\uc120\\uad6c\", \"\\uc218\\uc6d0\\uc2dc \\uc7a5\\uc548\\uad6c\", \"\\uc218\\uc6d0\\uc2dc \\ud314\\ub2ec\\uad6c\", \"\\uc218\\uc6d0\\uc2dc \\ud314\\ub2ec\\uad6c\", \"\\uc218\\uc6d0\\uc2dc \\ud314\\ub2ec\\uad6c\", \"\\uc2dc\\ud765\\uc2dc\", \"\\uc2dc\\ud765\\uc2dc\", \"\\uc2dc\\ud765\\uc2dc\", \"\\uc2dc\\ud765\\uc2dc\", \"\\uc2dc\\ud765\\uc2dc\", \"\\uc2dc\\ud765\\uc2dc\", \"\\uc2dc\\ud765\\uc2dc\", \"\\uc2dc\\ud765\\uc2dc\", \"\\uc2dc\\ud765\\uc2dc\", \"\\uc2dc\\ud765\\uc2dc\", \"\\uc2dc\\ud765\\uc2dc\", \"\\uc2dc\\ud765\\uc2dc\", \"\\uc2dc\\ud765\\uc2dc\", \"\\uc2dc\\ud765\\uc2dc\", \"\\uc548\\uc0b0\\uc2dc \\ub2e8\\uc6d0\\uad6c\", \"\\uc548\\uc0b0\\uc2dc \\ub2e8\\uc6d0\\uad6c\", \"\\uc548\\uc0b0\\uc2dc \\ub2e8\\uc6d0\\uad6c\", \"\\uc548\\uc0b0\\uc2dc \\ub2e8\\uc6d0\\uad6c\", \"\\uc548\\uc0b0\\uc2dc \\ub2e8\\uc6d0\\uad6c\", \"\\uc548\\uc0b0\\uc2dc \\ub2e8\\uc6d0\\uad6c\", \"\\uc548\\uc0b0\\uc2dc \\ub2e8\\uc6d0\\uad6c\", \"\\uc548\\uc0b0\\uc2dc \\ub2e8\\uc6d0\\uad6c\", \"\\uc548\\uc0b0\\uc2dc \\ub2e8\\uc6d0\\uad6c\", \"\\uc548\\uc0b0\\uc2dc \\ub2e8\\uc6d0\\uad6c\", \"\\uc548\\uc0b0\\uc2dc \\ub2e8\\uc6d0\\uad6c\", \"\\uc548\\uc0b0\\uc2dc \\ub2e8\\uc6d0\\uad6c\", \"\\uc548\\uc0b0\\uc2dc \\ub2e8\\uc6d0\\uad6c\", \"\\uc548\\uc0b0\\uc2dc \\ub2e8\\uc6d0\\uad6c\", \"\\uc548\\uc0b0\\uc2dc \\uc0c1\\ub85d\\uad6c\", \"\\uc548\\uc0b0\\uc2dc \\uc0c1\\ub85d\\uad6c\", \"\\uc548\\uc0b0\\uc2dc \\uc0c1\\ub85d\\uad6c\", \"\\uc548\\uc0b0\\uc2dc \\uc0c1\\ub85d\\uad6c\", \"\\uc548\\uc0b0\\uc2dc \\uc0c1\\ub85d\\uad6c\", \"\\uc548\\uc0b0\\uc2dc \\uc0c1\\ub85d\\uad6c\", \"\\uc548\\uc0b0\\uc2dc \\uc0c1\\ub85d\\uad6c\", \"\\uc548\\uc0b0\\uc2dc \\uc0c1\\ub85d\\uad6c\", \"\\uc548\\uc0b0\\uc2dc \\uc0c1\\ub85d\\uad6c\", \"\\uc548\\uc0b0\\uc2dc \\uc0c1\\ub85d\\uad6c\", \"\\uc548\\uc0b0\\uc2dc \\uc0c1\\ub85d\\uad6c\", \"\\uc548\\uc0b0\\uc2dc \\uc0c1\\ub85d\\uad6c\", \"\\uc548\\uc0b0\\uc2dc \\uc0c1\\ub85d\\uad6c\", \"\\uc548\\uc0b0\\uc2dc \\uc0c1\\ub85d\\uad6c\", \"\\uc548\\uc0b0\\uc2dc \\uc0c1\\ub85d\\uad6c\", \"\\uc548\\uc131\\uc2dc\", \"\\uc548\\uc131\\uc2dc\", \"\\uc548\\uc131\\uc2dc\", \"\\uc548\\uc591\\uc2dc \\ub3d9\\uc548\\uad6c\", \"\\uc548\\uc591\\uc2dc \\ub3d9\\uc548\\uad6c\", \"\\uc548\\uc591\\uc2dc \\ub3d9\\uc548\\uad6c\", \"\\uc548\\uc591\\uc2dc \\ub3d9\\uc548\\uad6c\", \"\\uc548\\uc591\\uc2dc \\ub3d9\\uc548\\uad6c\", \"\\uc548\\uc591\\uc2dc \\ub3d9\\uc548\\uad6c\", \"\\uc548\\uc591\\uc2dc \\ub3d9\\uc548\\uad6c\", \"\\uc548\\uc591\\uc2dc \\ub3d9\\uc548\\uad6c\", \"\\uc548\\uc591\\uc2dc \\ub3d9\\uc548\\uad6c\", \"\\uc548\\uc591\\uc2dc \\ub3d9\\uc548\\uad6c\", \"\\uc548\\uc591\\uc2dc \\ub3d9\\uc548\\uad6c\", \"\\uc548\\uc591\\uc2dc \\ub3d9\\uc548\\uad6c\", \"\\uc548\\uc591\\uc2dc \\ub9cc\\uc548\\uad6c\", \"\\uc548\\uc591\\uc2dc \\ub9cc\\uc548\\uad6c\", \"\\uc548\\uc591\\uc2dc \\ub9cc\\uc548\\uad6c\", \"\\uc548\\uc591\\uc2dc \\ub9cc\\uc548\\uad6c\", \"\\uc548\\uc591\\uc2dc \\ub9cc\\uc548\\uad6c\", \"\\uc548\\uc591\\uc2dc \\ub9cc\\uc548\\uad6c\", \"\\uc548\\uc591\\uc2dc \\ub9cc\\uc548\\uad6c\", \"\\uc548\\uc591\\uc2dc \\ub9cc\\uc548\\uad6c\", \"\\uc548\\uc591\\uc2dc \\ub9cc\\uc548\\uad6c\", \"\\uc548\\uc591\\uc2dc \\ub9cc\\uc548\\uad6c\", \"\\uc548\\uc591\\uc2dc \\ub9cc\\uc548\\uad6c\", \"\\uc548\\uc591\\uc2dc \\ub9cc\\uc548\\uad6c\", \"\\uc548\\uc591\\uc2dc \\ub9cc\\uc548\\uad6c\", \"\\uc548\\uc591\\uc2dc \\ub9cc\\uc548\\uad6c\", \"\\uc591\\uc8fc\\uc2dc\", \"\\uc591\\uc8fc\\uc2dc\", \"\\uc591\\uc8fc\\uc2dc\", \"\\uc591\\uc8fc\\uc2dc\", \"\\uc591\\uc8fc\\uc2dc\", \"\\uc591\\uc8fc\\uc2dc\", \"\\uc591\\uc8fc\\uc2dc\", \"\\uc591\\uc8fc\\uc2dc\", \"\\uc591\\uc8fc\\uc2dc\", \"\\uc591\\uc8fc\\uc2dc\", \"\\uc591\\uc8fc\\uc2dc\", \"\\uc591\\uc8fc\\uc2dc\", \"\\uc591\\uc8fc\\uc2dc\", \"\\uc591\\uc8fc\\uc2dc\", \"\\uc591\\uc8fc\\uc2dc\", \"\\uc591\\ucc9c\\uad6c\", \"\\uc591\\ucc9c\\uad6c\", \"\\uc591\\ucc9c\\uad6c\", \"\\uc591\\ucc9c\\uad6c\", \"\\uc591\\ucc9c\\uad6c\", \"\\uc591\\ucc9c\\uad6c\", \"\\uc591\\ucc9c\\uad6c\", \"\\uc591\\ucc9c\\uad6c\", \"\\uc591\\ucc9c\\uad6c\", \"\\uc591\\ucc9c\\uad6c\", \"\\uc591\\ucc9c\\uad6c\", \"\\uc591\\ucc9c\\uad6c\", \"\\uc591\\ucc9c\\uad6c\", \"\\uc591\\ucc9c\\uad6c\", \"\\uc591\\ucc9c\\uad6c\", \"\\uc591\\ud3c9\\uad70\", \"\\uc591\\ud3c9\\uad70\", \"\\uc5f0\\ucc9c\\uad70\", \"\\uc5f0\\ucc9c\\uad70\", \"\\uc5f0\\ucc9c\\uad70\", \"\\uc5f0\\ucc9c\\uad70\", \"\\uc5f0\\ucc9c\\uad70\", \"\\uc5f0\\ucc9c\\uad70\", \"\\uc5f0\\ucc9c\\uad70\", \"\\uc5f0\\ucc9c\\uad70\", \"\\uc5f0\\ucc9c\\uad70\", \"\\uc5f0\\ucc9c\\uad70\", \"\\uc5f0\\ucc9c\\uad70\", \"\\uc5f0\\ucc9c\\uad70\", \"\\uc601\\ub4f1\\ud3ec\\uad6c\", \"\\uc601\\ub4f1\\ud3ec\\uad6c\", \"\\uc601\\ub4f1\\ud3ec\\uad6c\", \"\\uc601\\ub4f1\\ud3ec\\uad6c\", \"\\uc601\\ub4f1\\ud3ec\\uad6c\", \"\\uc601\\ub4f1\\ud3ec\\uad6c\", \"\\uc601\\ub4f1\\ud3ec\\uad6c\", \"\\uc601\\ub4f1\\ud3ec\\uad6c\", \"\\uc601\\ub4f1\\ud3ec\\uad6c\", \"\\uc601\\ub4f1\\ud3ec\\uad6c\", \"\\uc601\\ub4f1\\ud3ec\\uad6c\", \"\\uc601\\ub4f1\\ud3ec\\uad6c\", \"\\uc601\\ub4f1\\ud3ec\\uad6c\", \"\\uc601\\ub4f1\\ud3ec\\uad6c\", \"\\uc601\\ub4f1\\ud3ec\\uad6c\", \"\\uc624\\uc0b0\\uc2dc\", \"\\uc624\\uc0b0\\uc2dc\", \"\\uc624\\uc0b0\\uc2dc\", \"\\uc6a9\\uc0b0\\uad6c\", \"\\uc6a9\\uc0b0\\uad6c\", \"\\uc6a9\\uc778\\uc2dc \\ucc98\\uc778\\uad6c\", \"\\uc6a9\\uc778\\uc2dc \\ucc98\\uc778\\uad6c\", \"\\uc6a9\\uc778\\uc2dc \\ucc98\\uc778\\uad6c\", \"\\uc6a9\\uc778\\uc2dc \\ucc98\\uc778\\uad6c\", \"\\uc6a9\\uc778\\uc2dc \\ucc98\\uc778\\uad6c\", \"\\uc6a9\\uc778\\uc2dc \\ucc98\\uc778\\uad6c\", \"\\uc6a9\\uc778\\uc2dc \\ucc98\\uc778\\uad6c\", \"\\uc6a9\\uc778\\uc2dc \\ucc98\\uc778\\uad6c\", \"\\uc6a9\\uc778\\uc2dc \\ucc98\\uc778\\uad6c\", \"\\uc6a9\\uc778\\uc2dc \\ucc98\\uc778\\uad6c\", \"\\uc6a9\\uc778\\uc2dc \\ucc98\\uc778\\uad6c\", \"\\uc6a9\\uc778\\uc2dc \\ucc98\\uc778\\uad6c\", \"\\uc740\\ud3c9\\uad6c\", \"\\uc740\\ud3c9\\uad6c\", \"\\uc740\\ud3c9\\uad6c\", \"\\uc740\\ud3c9\\uad6c\", \"\\uc740\\ud3c9\\uad6c\", \"\\uc740\\ud3c9\\uad6c\", \"\\uc740\\ud3c9\\uad6c\", \"\\uc740\\ud3c9\\uad6c\", \"\\uc740\\ud3c9\\uad6c\", \"\\uc740\\ud3c9\\uad6c\", \"\\uc740\\ud3c9\\uad6c\", \"\\uc758\\uc655\\uc2dc\", \"\\uc758\\uc655\\uc2dc\", \"\\uc758\\uc655\\uc2dc\", \"\\uc758\\uc655\\uc2dc\", \"\\uc758\\uc655\\uc2dc\", \"\\uc758\\uc655\\uc2dc\", \"\\uc758\\uc655\\uc2dc\", \"\\uc758\\uc655\\uc2dc\", \"\\uc758\\uc655\\uc2dc\", \"\\uc758\\uc655\\uc2dc\", \"\\uc758\\uc655\\uc2dc\", \"\\uc758\\uc655\\uc2dc\", \"\\uc758\\uc815\\ubd80\\uc2dc\", \"\\uc758\\uc815\\ubd80\\uc2dc\", \"\\uc758\\uc815\\ubd80\\uc2dc\", \"\\uc758\\uc815\\ubd80\\uc2dc\", \"\\uc758\\uc815\\ubd80\\uc2dc\", \"\\uc758\\uc815\\ubd80\\uc2dc\", \"\\uc758\\uc815\\ubd80\\uc2dc\", \"\\uc758\\uc815\\ubd80\\uc2dc\", \"\\uc758\\uc815\\ubd80\\uc2dc\", \"\\uc758\\uc815\\ubd80\\uc2dc\", \"\\uc758\\uc815\\ubd80\\uc2dc\", \"\\uc758\\uc815\\ubd80\\uc2dc\", \"\\uc758\\uc815\\ubd80\\uc2dc\", \"\\uc758\\uc815\\ubd80\\uc2dc\", \"\\uc758\\uc815\\ubd80\\uc2dc\", \"\\uc758\\uc815\\ubd80\\uc2dc\", \"\\uc774\\ucc9c\\uc2dc\", \"\\uc774\\ucc9c\\uc2dc\", \"\\uc774\\ucc9c\\uc2dc\", \"\\uc774\\ucc9c\\uc2dc\", \"\\uc774\\ucc9c\\uc2dc\", \"\\uc885\\ub85c\\uad6c\", \"\\uc885\\ub85c\\uad6c\", \"\\uc911\\uad6c\", \"\\uc911\\uad6c\", \"\\uc911\\ub791\\uad6c\", \"\\uc911\\ub791\\uad6c\", \"\\ud30c\\uc8fc\\uc2dc\", \"\\ud30c\\uc8fc\\uc2dc\", \"\\ud30c\\uc8fc\\uc2dc\", \"\\ud30c\\uc8fc\\uc2dc\", \"\\ud30c\\uc8fc\\uc2dc\", \"\\ud30c\\uc8fc\\uc2dc\", \"\\ud30c\\uc8fc\\uc2dc\", \"\\ud30c\\uc8fc\\uc2dc\", \"\\ud30c\\uc8fc\\uc2dc\", \"\\ud3c9\\ud0dd\\uc2dc\", \"\\ud3c9\\ud0dd\\uc2dc\", \"\\ud3c9\\ud0dd\\uc2dc\", \"\\ud3c9\\ud0dd\\uc2dc\", \"\\ud3c9\\ud0dd\\uc2dc\", \"\\ud3c9\\ud0dd\\uc2dc\", \"\\ud3c9\\ud0dd\\uc2dc\", \"\\ud3c9\\ud0dd\\uc2dc\", \"\\ud3c9\\ud0dd\\uc2dc\", \"\\ud3c9\\ud0dd\\uc2dc\", \"\\ud3c9\\ud0dd\\uc2dc\", \"\\ud3c9\\ud0dd\\uc2dc\", \"\\ud3c9\\ud0dd\\uc2dc\", \"\\ud3c9\\ud0dd\\uc2dc\", \"\\ud3c9\\ud0dd\\uc2dc\", \"\\ud3ec\\ucc9c\\uc2dc\", \"\\ud3ec\\ucc9c\\uc2dc\", \"\\ud3ec\\ucc9c\\uc2dc\", \"\\ud3ec\\ucc9c\\uc2dc\", \"\\ud3ec\\ucc9c\\uc2dc\", \"\\ud3ec\\ucc9c\\uc2dc\", \"\\ud3ec\\ucc9c\\uc2dc\", \"\\ud3ec\\ucc9c\\uc2dc\", \"\\ud3ec\\ucc9c\\uc2dc\", \"\\ud3ec\\ucc9c\\uc2dc\", \"\\ud3ec\\ucc9c\\uc2dc\", \"\\ud3ec\\ucc9c\\uc2dc\", \"\\ud3ec\\ucc9c\\uc2dc\", \"\\ud3ec\\ucc9c\\uc2dc\", \"\\ud3ec\\ucc9c\\uc2dc\", \"\\ud558\\ub0a8\\uc2dc\", \"\\ud558\\ub0a8\\uc2dc\", \"\\ud558\\ub0a8\\uc2dc\", \"\\ud654\\uc131\\uc2dc\", \"\\ud654\\uc131\\uc2dc\", \"\\ud654\\uc131\\uc2dc\", \"\\ud654\\uc131\\uc2dc\", \"\\ud654\\uc131\\uc2dc\", \"\\ud654\\uc131\\uc2dc\", \"\\ud654\\uc131\\uc2dc\", \"\\ud654\\uc131\\uc2dc\", \"\\ud654\\uc131\\uc2dc\", \"\\ud654\\uc131\\uc2dc\", \"\\ud654\\uc131\\uc2dc\", \"\\ud654\\uc131\\uc2dc\", \"\\ud654\\uc131\\uc2dc\", \"\\ud654\\uc131\\uc2dc\"], \"y\": [\"\\ud68c\", \"\\ubd84\\uc2dd\", \"\\uce58\\ud0a8\", \"\\ub3c8\\uae4c\\uc2a4/\\uc77c\\uc2dd\", \"\\ubd84\\uc2dd\", \"\\uc544\\uc2dc\\uc548/\\uc591\\uc2dd\", \"\\uc57c\\uc2dd\", \"\\uc871\\ubc1c/\\ubcf4\\uc308\", \"\\ucc1c\\ud0d5\", \"\\uce58\\ud0a8\", \"\\ud53c\\uc790\", \"\\ud55c\\uc2dd\", \"\\ub3c8\\uae4c\\uc2a4/\\uc77c\\uc2dd\", \"\\uc57c\\uc2dd\", \"\\uc871\\ubc1c/\\ubcf4\\uc308\", \"\\uce58\\ud0a8\", \"\\uce74\\ud398/\\ub514\\uc800\\ud2b8\", \"\\ud328\\uc2a4\\ud2b8\\ud478\\ub4dc\", \"\\ud53c\\uc790\", \"\\ud55c\\uc2dd\", \"\\ud68c\", \"\\ub3c4\\uc2dc\\ub77d\", \"\\ub3c8\\uae4c\\uc2a4/\\uc77c\\uc2dd\", \"\\ubc30\\ub2ec\\uc804\\ubb38\\uc5c5\\uccb4\", \"\\ubd84\\uc2dd\", \"\\uc544\\uc2dc\\uc548/\\uc591\\uc2dd\", \"\\uc57c\\uc2dd\", \"\\uc871\\ubc1c/\\ubcf4\\uc308\", \"\\uc911\\uc2dd\", \"\\ucc1c\\ud0d5\", \"\\uce58\\ud0a8\", \"\\uce74\\ud398/\\ub514\\uc800\\ud2b8\", \"\\ud328\\uc2a4\\ud2b8\\ud478\\ub4dc\", \"\\ud53c\\uc790\", \"\\ud55c\\uc2dd\", \"\\ud68c\", \"\\ub3c4\\uc2dc\\ub77d\", \"\\ub3c8\\uae4c\\uc2a4/\\uc77c\\uc2dd\", \"\\ubc30\\ub2ec\\uc804\\ubb38\\uc5c5\\uccb4\", \"\\ubd84\\uc2dd\", \"\\uc544\\uc2dc\\uc548/\\uc591\\uc2dd\", \"\\uc57c\\uc2dd\", \"\\uc871\\ubc1c/\\ubcf4\\uc308\", \"\\uc911\\uc2dd\", \"\\ucc1c\\ud0d5\", \"\\uce58\\ud0a8\", \"\\uce74\\ud398/\\ub514\\uc800\\ud2b8\", \"\\ud328\\uc2a4\\ud2b8\\ud478\\ub4dc\", \"\\ud53c\\uc790\", \"\\ud55c\\uc2dd\", \"\\ud68c\", \"\\ub3c4\\uc2dc\\ub77d\", \"\\ub3c8\\uae4c\\uc2a4/\\uc77c\\uc2dd\", \"\\ubc30\\ub2ec\\uc804\\ubb38\\uc5c5\\uccb4\", \"\\ubd84\\uc2dd\", \"\\uc544\\uc2dc\\uc548/\\uc591\\uc2dd\", \"\\uc57c\\uc2dd\", \"\\uc871\\ubc1c/\\ubcf4\\uc308\", \"\\uc911\\uc2dd\", \"\\ucc1c\\ud0d5\", \"\\uce58\\ud0a8\", \"\\uce74\\ud398/\\ub514\\uc800\\ud2b8\", \"\\ud328\\uc2a4\\ud2b8\\ud478\\ub4dc\", \"\\ud53c\\uc790\", \"\\ud55c\\uc2dd\", \"\\ud68c\", \"\\ubd84\\uc2dd\", \"\\uc871\\ubc1c/\\ubcf4\\uc308\", \"\\uc911\\uc2dd\", \"\\uce58\\ud0a8\", \"\\uce74\\ud398/\\ub514\\uc800\\ud2b8\", \"\\ub3c8\\uae4c\\uc2a4/\\uc77c\\uc2dd\", \"\\ubc30\\ub2ec\\uc804\\ubb38\\uc5c5\\uccb4\", \"\\ubd84\\uc2dd\", \"\\uc544\\uc2dc\\uc548/\\uc591\\uc2dd\", \"\\uc57c\\uc2dd\", \"\\uc871\\ubc1c/\\ubcf4\\uc308\", \"\\uc911\\uc2dd\", \"\\ucc1c\\ud0d5\", \"\\uce58\\ud0a8\", \"\\uce74\\ud398/\\ub514\\uc800\\ud2b8\", \"\\ud328\\uc2a4\\ud2b8\\ud478\\ub4dc\", \"\\ud53c\\uc790\", \"\\ud55c\\uc2dd\", \"\\ud68c\", \"\\ub3c4\\uc2dc\\ub77d\", \"\\ub3c8\\uae4c\\uc2a4/\\uc77c\\uc2dd\", \"\\ubc30\\ub2ec\\uc804\\ubb38\\uc5c5\\uccb4\", \"\\ubd84\\uc2dd\", \"\\uc544\\uc2dc\\uc548/\\uc591\\uc2dd\", \"\\uc57c\\uc2dd\", \"\\uc871\\ubc1c/\\ubcf4\\uc308\", \"\\uc911\\uc2dd\", \"\\ucc1c\\ud0d5\", \"\\uce58\\ud0a8\", \"\\uce74\\ud398/\\ub514\\uc800\\ud2b8\", \"\\ud328\\uc2a4\\ud2b8\\ud478\\ub4dc\", \"\\ud53c\\uc790\", \"\\ud55c\\uc2dd\", \"\\ud68c\", \"\\ub3c8\\uae4c\\uc2a4/\\uc77c\\uc2dd\", \"\\ubc30\\ub2ec\\uc804\\ubb38\\uc5c5\\uccb4\", \"\\ubd84\\uc2dd\", \"\\uc2ec\\ubd80\\ub984\", \"\\uc871\\ubc1c/\\ubcf4\\uc308\", \"\\uc911\\uc2dd\", \"\\ucc1c\\ud0d5\", \"\\uce58\\ud0a8\", \"\\uce74\\ud398/\\ub514\\uc800\\ud2b8\", \"\\ud328\\uc2a4\\ud2b8\\ud478\\ub4dc\", \"\\ud53c\\uc790\", \"\\ud55c\\uc2dd\", \"\\uce58\\ud0a8\", \"\\ud68c\", \"\\ub3c4\\uc2dc\\ub77d\", \"\\ub3c8\\uae4c\\uc2a4/\\uc77c\\uc2dd\", \"\\ubc30\\ub2ec\\uc804\\ubb38\\uc5c5\\uccb4\", \"\\ubd84\\uc2dd\", \"\\uc544\\uc2dc\\uc548/\\uc591\\uc2dd\", \"\\uc57c\\uc2dd\", \"\\uc871\\ubc1c/\\ubcf4\\uc308\", \"\\uc911\\uc2dd\", \"\\ucc1c\\ud0d5\", \"\\uce58\\ud0a8\", \"\\uce74\\ud398/\\ub514\\uc800\\ud2b8\", \"\\ud328\\uc2a4\\ud2b8\\ud478\\ub4dc\", \"\\ud53c\\uc790\", \"\\ud55c\\uc2dd\", \"\\ud68c\", \"\\ubd84\\uc2dd\", \"\\uce58\\ud0a8\", \"\\uce74\\ud398/\\ub514\\uc800\\ud2b8\", \"\\ubd84\\uc2dd\", \"\\ucc1c\\ud0d5\", \"\\uce74\\ud398/\\ub514\\uc800\\ud2b8\", \"\\ud328\\uc2a4\\ud2b8\\ud478\\ub4dc\", \"\\ud55c\\uc2dd\", \"\\ud68c\", \"\\ub3c4\\uc2dc\\ub77d\", \"\\ub3c8\\uae4c\\uc2a4/\\uc77c\\uc2dd\", \"\\ubc30\\ub2ec\\uc804\\ubb38\\uc5c5\\uccb4\", \"\\ubd84\\uc2dd\", \"\\uc544\\uc2dc\\uc548/\\uc591\\uc2dd\", \"\\uc57c\\uc2dd\", \"\\uc871\\ubc1c/\\ubcf4\\uc308\", \"\\uc911\\uc2dd\", \"\\ucc1c\\ud0d5\", \"\\uce58\\ud0a8\", \"\\uce74\\ud398/\\ub514\\uc800\\ud2b8\", \"\\ud328\\uc2a4\\ud2b8\\ud478\\ub4dc\", \"\\ud53c\\uc790\", \"\\ud55c\\uc2dd\", \"\\ud68c\", \"\\ubd84\\uc2dd\", \"\\uce74\\ud398/\\ub514\\uc800\\ud2b8\", \"\\ud328\\uc2a4\\ud2b8\\ud478\\ub4dc\", \"\\ub3c4\\uc2dc\\ub77d\", \"\\ub3c8\\uae4c\\uc2a4/\\uc77c\\uc2dd\", \"\\ubc30\\ub2ec\\uc804\\ubb38\\uc5c5\\uccb4\", \"\\ubd84\\uc2dd\", \"\\uc544\\uc2dc\\uc548/\\uc591\\uc2dd\", \"\\uc57c\\uc2dd\", \"\\uc871\\ubc1c/\\ubcf4\\uc308\", \"\\uc911\\uc2dd\", \"\\ucc1c\\ud0d5\", \"\\uce58\\ud0a8\", \"\\uce74\\ud398/\\ub514\\uc800\\ud2b8\", \"\\ud328\\uc2a4\\ud2b8\\ud478\\ub4dc\", \"\\ud53c\\uc790\", \"\\ud55c\\uc2dd\", \"\\ud68c\", \"\\ub3c4\\uc2dc\\ub77d\", \"\\ub3c8\\uae4c\\uc2a4/\\uc77c\\uc2dd\", \"\\ubd84\\uc2dd\", \"\\uc544\\uc2dc\\uc548/\\uc591\\uc2dd\", \"\\uc57c\\uc2dd\", \"\\uc871\\ubc1c/\\ubcf4\\uc308\", \"\\uc911\\uc2dd\", \"\\ucc1c\\ud0d5\", \"\\uce58\\ud0a8\", \"\\uce74\\ud398/\\ub514\\uc800\\ud2b8\", \"\\ud328\\uc2a4\\ud2b8\\ud478\\ub4dc\", \"\\ud53c\\uc790\", \"\\ud55c\\uc2dd\", \"\\ud68c\", \"\\ub3c4\\uc2dc\\ub77d\", \"\\ub3c8\\uae4c\\uc2a4/\\uc77c\\uc2dd\", \"\\ubd84\\uc2dd\", \"\\uc2ec\\ubd80\\ub984\", \"\\uc544\\uc2dc\\uc548/\\uc591\\uc2dd\", \"\\uc57c\\uc2dd\", \"\\uc871\\ubc1c/\\ubcf4\\uc308\", \"\\uc911\\uc2dd\", \"\\ucc1c\\ud0d5\", \"\\uce58\\ud0a8\", \"\\uce74\\ud398/\\ub514\\uc800\\ud2b8\", \"\\ud328\\uc2a4\\ud2b8\\ud478\\ub4dc\", \"\\ud53c\\uc790\", \"\\ud55c\\uc2dd\", \"\\ud68c\", \"\\uc2ec\\ubd80\\ub984\", \"\\ucc1c\\ud0d5\", \"\\ub3c4\\uc2dc\\ub77d\", \"\\ub3c8\\uae4c\\uc2a4/\\uc77c\\uc2dd\", \"\\ubc30\\ub2ec\\uc804\\ubb38\\uc5c5\\uccb4\", \"\\ubd84\\uc2dd\", \"\\uc544\\uc2dc\\uc548/\\uc591\\uc2dd\", \"\\uc57c\\uc2dd\", \"\\uc871\\ubc1c/\\ubcf4\\uc308\", \"\\uc911\\uc2dd\", \"\\ucc1c\\ud0d5\", \"\\uce58\\ud0a8\", \"\\uce74\\ud398/\\ub514\\uc800\\ud2b8\", \"\\ud328\\uc2a4\\ud2b8\\ud478\\ub4dc\", \"\\ud53c\\uc790\", \"\\ud55c\\uc2dd\", \"\\ud68c\", \"\\ub3c8\\uae4c\\uc2a4/\\uc77c\\uc2dd\", \"\\ubc30\\ub2ec\\uc804\\ubb38\\uc5c5\\uccb4\", \"\\ubd84\\uc2dd\", \"\\uc544\\uc2dc\\uc548/\\uc591\\uc2dd\", \"\\uc57c\\uc2dd\", \"\\uc871\\ubc1c/\\ubcf4\\uc308\", \"\\uc911\\uc2dd\", \"\\ucc1c\\ud0d5\", \"\\uce58\\ud0a8\", \"\\uce74\\ud398/\\ub514\\uc800\\ud2b8\", \"\\ud328\\uc2a4\\ud2b8\\ud478\\ub4dc\", \"\\ud53c\\uc790\", \"\\ud55c\\uc2dd\", \"\\ud68c\", \"\\uce58\\ud0a8\", \"\\uce74\\ud398/\\ub514\\uc800\\ud2b8\", \"\\ud55c\\uc2dd\", \"\\ub3c4\\uc2dc\\ub77d\", \"\\ub3c8\\uae4c\\uc2a4/\\uc77c\\uc2dd\", \"\\ubc30\\ub2ec\\uc804\\ubb38\\uc5c5\\uccb4\", \"\\ubd84\\uc2dd\", \"\\uc544\\uc2dc\\uc548/\\uc591\\uc2dd\", \"\\uc57c\\uc2dd\", \"\\uc871\\ubc1c/\\ubcf4\\uc308\", \"\\uc911\\uc2dd\", \"\\ucc1c\\ud0d5\", \"\\uce58\\ud0a8\", \"\\uce74\\ud398/\\ub514\\uc800\\ud2b8\", \"\\ud328\\uc2a4\\ud2b8\\ud478\\ub4dc\", \"\\ud53c\\uc790\", \"\\ud55c\\uc2dd\", \"\\ud68c\", \"\\uce74\\ud398/\\ub514\\uc800\\ud2b8\", \"\\ud328\\uc2a4\\ud2b8\\ud478\\ub4dc\", \"\\ud55c\\uc2dd\", \"\\ubd84\\uc2dd\", \"\\uc544\\uc2dc\\uc548/\\uc591\\uc2dd\", \"\\uc871\\ubc1c/\\ubcf4\\uc308\", \"\\uc911\\uc2dd\", \"\\uce58\\ud0a8\", \"\\uce74\\ud398/\\ub514\\uc800\\ud2b8\", \"\\ud328\\uc2a4\\ud2b8\\ud478\\ub4dc\", \"\\ud53c\\uc790\", \"\\ud55c\\uc2dd\", \"\\ub3c8\\uae4c\\uc2a4/\\uc77c\\uc2dd\", \"\\ubd84\\uc2dd\", \"\\uc57c\\uc2dd\", \"\\uc871\\ubc1c/\\ubcf4\\uc308\", \"\\uc911\\uc2dd\", \"\\uce58\\ud0a8\", \"\\ud53c\\uc790\", \"\\ud55c\\uc2dd\", \"\\ud68c\", \"\\ub3c8\\uae4c\\uc2a4/\\uc77c\\uc2dd\", \"\\ubc30\\ub2ec\\uc804\\ubb38\\uc5c5\\uccb4\", \"\\ubd84\\uc2dd\", \"\\uc57c\\uc2dd\", \"\\uc871\\ubc1c/\\ubcf4\\uc308\", \"\\uc911\\uc2dd\", \"\\ucc1c\\ud0d5\", \"\\uce58\\ud0a8\", \"\\uce74\\ud398/\\ub514\\uc800\\ud2b8\", \"\\ud328\\uc2a4\\ud2b8\\ud478\\ub4dc\", \"\\ud53c\\uc790\", \"\\ud55c\\uc2dd\", \"\\ud68c\", \"\\ub3c8\\uae4c\\uc2a4/\\uc77c\\uc2dd\", \"\\ubc30\\ub2ec\\uc804\\ubb38\\uc5c5\\uccb4\", \"\\ubd84\\uc2dd\", \"\\uc57c\\uc2dd\", \"\\uc871\\ubc1c/\\ubcf4\\uc308\", \"\\uc911\\uc2dd\", \"\\ucc1c\\ud0d5\", \"\\uce58\\ud0a8\", \"\\uce74\\ud398/\\ub514\\uc800\\ud2b8\", \"\\ud328\\uc2a4\\ud2b8\\ud478\\ub4dc\", \"\\ud53c\\uc790\", \"\\ud55c\\uc2dd\", \"\\ud68c\", \"\\uce74\\ud398/\\ub514\\uc800\\ud2b8\", \"\\ubd84\\uc2dd\", \"\\uce58\\ud0a8\", \"\\ud55c\\uc2dd\", \"\\uce58\\ud0a8\", \"\\uce74\\ud398/\\ub514\\uc800\\ud2b8\", \"\\uce74\\ud398/\\ub514\\uc800\\ud2b8\", \"\\ubd84\\uc2dd\", \"\\uce58\\ud0a8\", \"\\uce74\\ud398/\\ub514\\uc800\\ud2b8\", \"\\ub3c4\\uc2dc\\ub77d\", \"\\ub3c8\\uae4c\\uc2a4/\\uc77c\\uc2dd\", \"\\ubd84\\uc2dd\", \"\\uc544\\uc2dc\\uc548/\\uc591\\uc2dd\", \"\\uc57c\\uc2dd\", \"\\uc871\\ubc1c/\\ubcf4\\uc308\", \"\\uc911\\uc2dd\", \"\\ucc1c\\ud0d5\", \"\\uce58\\ud0a8\", \"\\uce74\\ud398/\\ub514\\uc800\\ud2b8\", \"\\ud328\\uc2a4\\ud2b8\\ud478\\ub4dc\", \"\\ud53c\\uc790\", \"\\ud55c\\uc2dd\", \"\\ud68c\", \"\\ub3c4\\uc2dc\\ub77d\", \"\\ub3c8\\uae4c\\uc2a4/\\uc77c\\uc2dd\", \"\\ubd84\\uc2dd\", \"\\uc544\\uc2dc\\uc548/\\uc591\\uc2dd\", \"\\uc57c\\uc2dd\", \"\\uc871\\ubc1c/\\ubcf4\\uc308\", \"\\uc911\\uc2dd\", \"\\ucc1c\\ud0d5\", \"\\uce58\\ud0a8\", \"\\uce74\\ud398/\\ub514\\uc800\\ud2b8\", \"\\ud328\\uc2a4\\ud2b8\\ud478\\ub4dc\", \"\\ud53c\\uc790\", \"\\ud55c\\uc2dd\", \"\\ud68c\", \"\\ub3c4\\uc2dc\\ub77d\", \"\\ub3c8\\uae4c\\uc2a4/\\uc77c\\uc2dd\", \"\\ubc30\\ub2ec\\uc804\\ubb38\\uc5c5\\uccb4\", \"\\ubd84\\uc2dd\", \"\\uc544\\uc2dc\\uc548/\\uc591\\uc2dd\", \"\\uc57c\\uc2dd\", \"\\uc871\\ubc1c/\\ubcf4\\uc308\", \"\\uc911\\uc2dd\", \"\\ucc1c\\ud0d5\", \"\\uce58\\ud0a8\", \"\\uce74\\ud398/\\ub514\\uc800\\ud2b8\", \"\\ud328\\uc2a4\\ud2b8\\ud478\\ub4dc\", \"\\ud53c\\uc790\", \"\\ud55c\\uc2dd\", \"\\ud68c\", \"\\ubd84\\uc2dd\", \"\\uc871\\ubc1c/\\ubcf4\\uc308\", \"\\uce58\\ud0a8\", \"\\ubd84\\uc2dd\", \"\\uc544\\uc2dc\\uc548/\\uc591\\uc2dd\", \"\\uc57c\\uc2dd\", \"\\uc871\\ubc1c/\\ubcf4\\uc308\", \"\\uc911\\uc2dd\", \"\\ucc1c\\ud0d5\", \"\\uce58\\ud0a8\", \"\\uce74\\ud398/\\ub514\\uc800\\ud2b8\", \"\\ud328\\uc2a4\\ud2b8\\ud478\\ub4dc\", \"\\ud53c\\uc790\", \"\\ud55c\\uc2dd\", \"\\ud68c\", \"\\ub3c4\\uc2dc\\ub77d\", \"\\ub3c8\\uae4c\\uc2a4/\\uc77c\\uc2dd\", \"\\ubd84\\uc2dd\", \"\\uc544\\uc2dc\\uc548/\\uc591\\uc2dd\", \"\\uc57c\\uc2dd\", \"\\uc871\\ubc1c/\\ubcf4\\uc308\", \"\\uc911\\uc2dd\", \"\\ucc1c\\ud0d5\", \"\\uce58\\ud0a8\", \"\\uce74\\ud398/\\ub514\\uc800\\ud2b8\", \"\\ud328\\uc2a4\\ud2b8\\ud478\\ub4dc\", \"\\ud53c\\uc790\", \"\\ud55c\\uc2dd\", \"\\ud68c\", \"\\ub3c4\\uc2dc\\ub77d\", \"\\ub3c8\\uae4c\\uc2a4/\\uc77c\\uc2dd\", \"\\ubc30\\ub2ec\\uc804\\ubb38\\uc5c5\\uccb4\", \"\\ubd84\\uc2dd\", \"\\uc544\\uc2dc\\uc548/\\uc591\\uc2dd\", \"\\uc57c\\uc2dd\", \"\\uc871\\ubc1c/\\ubcf4\\uc308\", \"\\uc911\\uc2dd\", \"\\ucc1c\\ud0d5\", \"\\uce58\\ud0a8\", \"\\uce74\\ud398/\\ub514\\uc800\\ud2b8\", \"\\ud328\\uc2a4\\ud2b8\\ud478\\ub4dc\", \"\\ud53c\\uc790\", \"\\ud55c\\uc2dd\", \"\\ud68c\", \"\\ub3c4\\uc2dc\\ub77d\", \"\\ub3c8\\uae4c\\uc2a4/\\uc77c\\uc2dd\", \"\\ubc30\\ub2ec\\uc804\\ubb38\\uc5c5\\uccb4\", \"\\ubd84\\uc2dd\", \"\\uc544\\uc2dc\\uc548/\\uc591\\uc2dd\", \"\\uc57c\\uc2dd\", \"\\uc871\\ubc1c/\\ubcf4\\uc308\", \"\\uc911\\uc2dd\", \"\\ucc1c\\ud0d5\", \"\\uce58\\ud0a8\", \"\\uce74\\ud398/\\ub514\\uc800\\ud2b8\", \"\\ud328\\uc2a4\\ud2b8\\ud478\\ub4dc\", \"\\ud53c\\uc790\", \"\\ud55c\\uc2dd\", \"\\ud68c\", \"\\ud53c\\uc790\", \"\\ud55c\\uc2dd\", \"\\ub3c8\\uae4c\\uc2a4/\\uc77c\\uc2dd\", \"\\ubc30\\ub2ec\\uc804\\ubb38\\uc5c5\\uccb4\", \"\\ubd84\\uc2dd\", \"\\uc57c\\uc2dd\", \"\\uc871\\ubc1c/\\ubcf4\\uc308\", \"\\uc911\\uc2dd\", \"\\uce58\\ud0a8\", \"\\uce74\\ud398/\\ub514\\uc800\\ud2b8\", \"\\ud328\\uc2a4\\ud2b8\\ud478\\ub4dc\", \"\\ud53c\\uc790\", \"\\ud55c\\uc2dd\", \"\\ud68c\", \"\\ub3c4\\uc2dc\\ub77d\", \"\\ub3c8\\uae4c\\uc2a4/\\uc77c\\uc2dd\", \"\\ubc30\\ub2ec\\uc804\\ubb38\\uc5c5\\uccb4\", \"\\ubd84\\uc2dd\", \"\\uc544\\uc2dc\\uc548/\\uc591\\uc2dd\", \"\\uc57c\\uc2dd\", \"\\uc871\\ubc1c/\\ubcf4\\uc308\", \"\\uc911\\uc2dd\", \"\\ucc1c\\ud0d5\", \"\\uce58\\ud0a8\", \"\\uce74\\ud398/\\ub514\\uc800\\ud2b8\", \"\\ud328\\uc2a4\\ud2b8\\ud478\\ub4dc\", \"\\ud53c\\uc790\", \"\\ud55c\\uc2dd\", \"\\ud68c\", \"\\uc2ec\\ubd80\\ub984\", \"\\uce58\\ud0a8\", \"\\ud55c\\uc2dd\", \"\\ubd84\\uc2dd\", \"\\uce58\\ud0a8\", \"\\ub3c8\\uae4c\\uc2a4/\\uc77c\\uc2dd\", \"\\ubd84\\uc2dd\", \"\\uc544\\uc2dc\\uc548/\\uc591\\uc2dd\", \"\\uc57c\\uc2dd\", \"\\uc871\\ubc1c/\\ubcf4\\uc308\", \"\\ucc1c\\ud0d5\", \"\\uce58\\ud0a8\", \"\\uce74\\ud398/\\ub514\\uc800\\ud2b8\", \"\\ud328\\uc2a4\\ud2b8\\ud478\\ub4dc\", \"\\ud53c\\uc790\", \"\\ud55c\\uc2dd\", \"\\ud68c\", \"\\ub3c8\\uae4c\\uc2a4/\\uc77c\\uc2dd\", \"\\ubd84\\uc2dd\", \"\\uc544\\uc2dc\\uc548/\\uc591\\uc2dd\", \"\\uc871\\ubc1c/\\ubcf4\\uc308\", \"\\uc911\\uc2dd\", \"\\ucc1c\\ud0d5\", \"\\uce58\\ud0a8\", \"\\uce74\\ud398/\\ub514\\uc800\\ud2b8\", \"\\ud328\\uc2a4\\ud2b8\\ud478\\ub4dc\", \"\\ud55c\\uc2dd\", \"\\ud68c\", \"\\ubd84\\uc2dd\", \"\\uc544\\uc2dc\\uc548/\\uc591\\uc2dd\", \"\\uc57c\\uc2dd\", \"\\uc871\\ubc1c/\\ubcf4\\uc308\", \"\\uc911\\uc2dd\", \"\\ucc1c\\ud0d5\", \"\\uce58\\ud0a8\", \"\\uce74\\ud398/\\ub514\\uc800\\ud2b8\", \"\\ud328\\uc2a4\\ud2b8\\ud478\\ub4dc\", \"\\ud53c\\uc790\", \"\\ud55c\\uc2dd\", \"\\ud68c\", \"\\ub3c4\\uc2dc\\ub77d\", \"\\ub3c8\\uae4c\\uc2a4/\\uc77c\\uc2dd\", \"\\ubc30\\ub2ec\\uc804\\ubb38\\uc5c5\\uccb4\", \"\\ubd84\\uc2dd\", \"\\uc2ec\\ubd80\\ub984\", \"\\uc544\\uc2dc\\uc548/\\uc591\\uc2dd\", \"\\uc57c\\uc2dd\", \"\\uc871\\ubc1c/\\ubcf4\\uc308\", \"\\uc911\\uc2dd\", \"\\ucc1c\\ud0d5\", \"\\uce58\\ud0a8\", \"\\uce74\\ud398/\\ub514\\uc800\\ud2b8\", \"\\ud328\\uc2a4\\ud2b8\\ud478\\ub4dc\", \"\\ud53c\\uc790\", \"\\ud55c\\uc2dd\", \"\\ud68c\", \"\\ub3c8\\uae4c\\uc2a4/\\uc77c\\uc2dd\", \"\\ubd84\\uc2dd\", \"\\uc57c\\uc2dd\", \"\\uce58\\ud0a8\", \"\\ud53c\\uc790\", \"\\uce58\\ud0a8\", \"\\ud68c\", \"\\ub3c8\\uae4c\\uc2a4/\\uc77c\\uc2dd\", \"\\uc544\\uc2dc\\uc548/\\uc591\\uc2dd\", \"\\uc871\\ubc1c/\\ubcf4\\uc308\", \"\\uce74\\ud398/\\ub514\\uc800\\ud2b8\", \"\\ub3c8\\uae4c\\uc2a4/\\uc77c\\uc2dd\", \"\\ubd84\\uc2dd\", \"\\uc871\\ubc1c/\\ubcf4\\uc308\", \"\\ucc1c\\ud0d5\", \"\\uce58\\ud0a8\", \"\\uce74\\ud398/\\ub514\\uc800\\ud2b8\", \"\\ud328\\uc2a4\\ud2b8\\ud478\\ub4dc\", \"\\ud53c\\uc790\", \"\\ud55c\\uc2dd\", \"\\ub3c8\\uae4c\\uc2a4/\\uc77c\\uc2dd\", \"\\ubc30\\ub2ec\\uc804\\ubb38\\uc5c5\\uccb4\", \"\\ubd84\\uc2dd\", \"\\uc2ec\\ubd80\\ub984\", \"\\uc544\\uc2dc\\uc548/\\uc591\\uc2dd\", \"\\uc57c\\uc2dd\", \"\\uc871\\ubc1c/\\ubcf4\\uc308\", \"\\uc911\\uc2dd\", \"\\ucc1c\\ud0d5\", \"\\uce58\\ud0a8\", \"\\uce74\\ud398/\\ub514\\uc800\\ud2b8\", \"\\ud328\\uc2a4\\ud2b8\\ud478\\ub4dc\", \"\\ud53c\\uc790\", \"\\ud55c\\uc2dd\", \"\\ud68c\", \"\\ub3c4\\uc2dc\\ub77d\", \"\\ub3c8\\uae4c\\uc2a4/\\uc77c\\uc2dd\", \"\\ubc30\\ub2ec\\uc804\\ubb38\\uc5c5\\uccb4\", \"\\ubd84\\uc2dd\", \"\\uc2ec\\ubd80\\ub984\", \"\\uc57c\\uc2dd\", \"\\uc871\\ubc1c/\\ubcf4\\uc308\", \"\\uc911\\uc2dd\", \"\\ucc1c\\ud0d5\", \"\\uce58\\ud0a8\", \"\\uce74\\ud398/\\ub514\\uc800\\ud2b8\", \"\\ud328\\uc2a4\\ud2b8\\ud478\\ub4dc\", \"\\ud53c\\uc790\", \"\\ud55c\\uc2dd\", \"\\ud68c\", \"\\ubd84\\uc2dd\", \"\\uce58\\ud0a8\", \"\\ud53c\\uc790\", \"\\ub3c4\\uc2dc\\ub77d\", \"\\ub3c8\\uae4c\\uc2a4/\\uc77c\\uc2dd\", \"\\ubd84\\uc2dd\", \"\\uc544\\uc2dc\\uc548/\\uc591\\uc2dd\", \"\\uc57c\\uc2dd\", \"\\uc871\\ubc1c/\\ubcf4\\uc308\", \"\\uc911\\uc2dd\", \"\\ucc1c\\ud0d5\", \"\\uce58\\ud0a8\", \"\\uce74\\ud398/\\ub514\\uc800\\ud2b8\", \"\\ud328\\uc2a4\\ud2b8\\ud478\\ub4dc\", \"\\ud53c\\uc790\", \"\\ud55c\\uc2dd\", \"\\ud68c\"], \"z\": [100.0, 83.33333333333334, 16.666666666666664, 2.2175290390707496, 18.373812038014783, 0.26399155227032733, 0.6335797254487857, 7.708553326293559, 0.36958817317845827, 7.074973600844774, 54.2766631467793, 9.081309398099261, 30.65217391304348, 18.26086956521739, 0.10869565217391304, 9.130434782608695, 24.23913043478261, 3.369565217391304, 5.434782608695652, 6.630434782608696, 2.1739130434782608, 1.7704975732651624, 6.325256567003816, 0.23804231039976287, 13.539235300655776, 4.247712200363083, 5.992738320180801, 8.746433996517359, 3.083435219147123, 2.4248823681968066, 23.290170797673298, 1.5931236338038606, 10.976807083842763, 3.3145307695157644, 11.73029898855174, 2.726834870882887, 0.6930407161420733, 3.4218885359514872, 0.24545192030031765, 7.666762922321686, 0.620848974877274, 0.15882183078255846, 0.8085475021657523, 0.47646549234767543, 5.963037828472423, 31.995379728559055, 2.8443546058330926, 0.44758879584175565, 4.966791799018192, 18.235633843488305, 21.455385503898356, 0.05767567047966932, 6.751257650036849, 0.03524624307090903, 16.610593098144765, 0.012816815662148737, 0.0032042039155371843, 0.03524624307090903, 0.07049248614181806, 9.785638758050561, 35.73969047390176, 1.8680508827581785, 3.6079336088948697, 5.094684225704124, 13.733217981992373, 6.594251658175526, 7.142857142857142, 14.285714285714285, 21.428571428571427, 50.0, 7.142857142857142, 0.10568772512563897, 0.010784461747514181, 1.0460927895088756, 1.212173500420594, 0.7678536764230097, 3.1404352608761297, 0.6880486594914048, 0.25235640489183186, 24.840929189224166, 44.02001596100338, 19.912430170610186, 1.6500226473696695, 2.2970903522205206, 0.05607920108707374, 0.1145943887535304, 8.74619634778868, 0.9728182109876625, 10.0726704723757, 2.736161405315064, 2.9389053238790024, 11.34484448659951, 9.152741979274284, 4.5280650473010375, 18.448286196841426, 5.837967060283701, 6.400361060474104, 5.1891865208790975, 12.184733206633076, 1.3324682926141271, 7.9908740909739056, 1.3745900470554684, 13.609011835163267, 0.002851846570654499, 10.49764722657921, 6.741765293027235, 9.824611435904748, 19.292742050477685, 4.614287751318979, 8.789391130757165, 1.3688863539141596, 15.893340938257522, 50.0, 50.0, 0.49843224538202846, 5.277078290253927, 0.5751141292869559, 11.26573846928663, 1.915097558201875, 2.5009341543060453, 7.262359267623024, 3.7756080126070213, 2.8755706464347797, 29.216772537488016, 6.933861875132, 12.20314200770068, 4.763374652738291, 10.113235748054523, 0.8236804055041995, 0.6779661016949152, 0.3389830508474576, 98.98305084745763, 15.566037735849056, 1.4150943396226416, 34.43396226415094, 5.660377358490567, 0.9433962264150944, 41.9811320754717, 0.005866091789671279, 1.4203274745741583, 1.0221664943502204, 23.162996692990752, 3.019570748733291, 9.911495340123334, 10.548699560776377, 5.480396254500392, 2.5172866392426876, 21.748535310206265, 4.041003981609802, 10.083811786444928, 1.9160122308013814, 5.103499857014013, 0.018331536842722748, 36.067080174592235, 63.10590397427062, 0.8270158511371467, 2.037452394213545, 3.7836251147807496, 2.763017266035435, 16.10016408002288, 2.2421760924869414, 7.546928391865243, 5.541087745179209, 4.173503334286703, 5.635170327106321, 13.349942045129534, 14.17561078412187, 3.035480423296353, 6.585028074242446, 10.136833707154793, 2.893980220077976, 0.4109790107148099, 1.7943637164244826, 16.974900924702773, 3.041978570380156, 9.709379128137384, 3.3575517393218846, 0.4366651988844855, 0.726552179656539, 5.408777337443124, 29.370321444297666, 0.0036694554528108026, 14.586085424922942, 8.902098928519008, 5.276676941141935, 0.7393392056475976, 3.386650554901898, 11.028078990046746, 0.0015899767863389194, 1.564537157757497, 5.213533882405317, 12.543326867427734, 1.675835532801221, 1.658345788151493, 11.174356854389925, 2.725220211784908, 2.548732788501288, 27.535217985817408, 16.440359970744428, 1.7648742328362006, 50.0, 50.0, 0.002923933860616073, 6.284995833394248, 2.48680574845397, 10.131430827034693, 1.1447201064311925, 3.9560825134135467, 13.239572520869578, 1.3757108814198622, 0.40496483969532604, 19.38860542974518, 2.907852224382684, 10.52762386514817, 9.0232598938612, 18.379848247832633, 0.7456031344570986, 0.8873526452910981, 0.0051590270075063845, 1.2355869682977791, 4.14527820053138, 0.2863259989166043, 3.3894807439316943, 0.6732530244795831, 1.743751128537158, 25.44690071452524, 33.11837387468724, 23.790853045115693, 2.4402197745505196, 2.574354476745686, 0.2631103773828256, 1.095890410958904, 98.63013698630137, 0.273972602739726, 0.7207891667336319, 8.871307477457076, 2.4144001987040404, 10.017021338768474, 2.5748731922437242, 3.011729869649175, 7.335490830636461, 4.465240185944124, 3.324883541412503, 22.220030633539587, 9.846564441230115, 2.912621359223301, 4.556556381053959, 16.06337100430769, 1.66512037909614, 99.90770650669127, 0.046146746654360866, 0.046146746654360866, 0.06340148993501347, 0.01585037248375337, 1.2997305436677762, 0.07925186241876685, 40.244095736249804, 0.17435409732128707, 53.827864954826445, 2.8213663021080992, 1.474084640989063, 5.128205128205128, 8.791208791208792, 4.395604395604396, 2.197802197802198, 1.098901098901099, 54.57875457875458, 4.761904761904762, 16.483516483516482, 2.564102564102564, 3.721729172630976, 1.503006012024048, 18.308044660750074, 2.2330375035785854, 3.764672201545949, 7.014028056112225, 0.5296306899513312, 17.95018608645863, 6.212424849699398, 5.797308903521328, 8.11623246492986, 20.56971085027197, 4.279988548525623, 3.951949860724234, 1.8105849582172702, 18.9066852367688, 2.5069637883008355, 6.615598885793872, 3.447075208913649, 1.2012534818941505, 23.57242339832869, 3.081476323119777, 4.42200557103064, 9.958217270194986, 15.302924791086351, 5.222841225626741, 100.0, 28.57142857142857, 57.14285714285714, 14.285714285714285, 0.016523463317911432, 99.98347653668209, 100.0, 0.23923444976076555, 0.23923444976076555, 99.52153110047847, 0.6876924596227567, 4.748309946403081, 15.221704507707361, 2.7911695260667764, 4.998788009372728, 5.609272177184052, 3.6943269860935297, 5.236697280652141, 11.099140833310889, 17.400594324292783, 12.512232127627101, 4.645964071211182, 10.182516810758885, 1.171590939696733, 8.22482281193341, 6.873248722597659, 8.620405472226802, 18.262732816878195, 1.8790176363936046, 1.9449480797758365, 0.8076479314323389, 11.092797099060492, 18.180319762650406, 0.016482610845557938, 2.9833525630459863, 1.6482610845557937, 16.76281522993242, 2.7031481786715017, 1.5820261559670628, 5.342225865345206, 0.25708856514773276, 18.503670032415513, 5.751332016841164, 1.7146689518983567, 5.578449271582399, 0.6758821118521554, 4.378702634226313, 20.096128767837847, 1.751182979991803, 5.27590446737956, 6.998025261745967, 18.027497298707104, 4.067215619061813, 33.33333333333333, 33.33333333333333, 33.33333333333333, 9.294535182703799, 0.7967261796979683, 2.5585774816209756, 5.367037265056314, 0.054322239524861475, 2.7704342157679354, 56.723282511860354, 9.924673161192192, 2.361206678013979, 1.51377974142614, 6.234382356136602, 2.401042986998877, 0.040412204485754694, 0.040412204485754694, 21.660941604364517, 0.020206102242877347, 0.7880379874722166, 10.062638916952919, 0.30309153364316027, 7.4964639321074955, 4.9504950495049505, 11.780157607597493, 16.811477066073955, 0.22226712467165083, 23.09557486360881, 2.727823802788442, 1.7884322678843225, 0.0532724505327245, 0.7343987823439878, 17.47716894977169, 0.1750380517503805, 0.3691019786910198, 1.5753424657534247, 0.01141552511415525, 3.458904109589041, 17.14992389649924, 31.666666666666664, 6.834094368340944, 7.264079147640791, 3.1012176560121762, 8.340943683409437, 1.2212852573422508, 7.06923847371652, 0.0032309133792123037, 12.87518981616103, 0.3037058576459565, 6.1548899873994385, 0.4006332590223256, 0.6558754159800976, 0.9434267067299926, 23.640593195696425, 27.020128590352492, 7.091854867371006, 2.6138089237827535, 9.511808988401022, 0.4943297470194824, 50.0, 50.0, 0.27261884477764525, 0.03407735559720566, 0.08519338899301414, 1.6357130686658716, 0.7156244675413188, 0.6815471119441131, 1.090475379110581, 10.734367013119781, 82.16050434486284, 2.368376214005793, 0.20446413358323395, 0.01703867779860283, 1.264212451299992, 4.505247674326151, 0.0009938777132861571, 14.400294187803134, 8.629840184463704, 3.0223821261032042, 5.957303013437227, 3.992406774270494, 3.0949351991730936, 33.60797487477141, 2.129879939572235, 7.359664466883994, 2.0762105430547826, 9.280830086666136, 0.6778246004611592, 33.33333333333333, 33.33333333333333, 33.33333333333333, 50.0, 50.0, 1.7662199343214695, 14.054317919588177, 4.88595011981894, 16.947723440134908, 0.7233513801366823, 16.490636371704976, 12.962634241590484, 13.25996272299636, 2.0502352001420077, 8.680216561640188, 6.203958462767374, 1.9747936451584274, 12.882048685209968, 10.426086012948964, 1.5987268058017146, 13.484284009114914, 0.6420226426013672, 0.9892574239519659, 32.54421817918762, 0.83915072159728, 8.107570441639238, 5.910225340904981, 12.576409737041994, 8.600182982616651, 1.079597438243367, 1.2259835315645013, 4.84903934126258, 0.09149130832570906, 3.110704483074108, 51.216834400731926, 12.296431838975296, 5.269899359560841, 1.445562671546203, 6.752058554437329, 4.062214089661482, 1.0923129940339011, 5.1140451011221435, 3.953240431626785, 8.958840379934955, 0.1761829890801008, 1.7083073079325422, 6.1471278726657905, 12.36016282926619, 2.5691916689999785, 5.915053091817614, 20.0571840875315, 6.3298800318766295, 5.118029679726034, 3.3249693079756186, 15.485364750479228, 1.6901074759309915, 6.927297668038408, 0.06858710562414265, 2.880658436213992, 84.70507544581619, 5.41838134430727, 75.0, 25.0, 50.0, 50.0, 0.19230769230769232, 99.8076923076923, 0.8640552995391706, 0.6240399385560677, 0.019201228878648235, 0.0576036866359447, 2.6977726574500767, 94.98847926267281, 0.03840245775729647, 0.36482334869431643, 0.3456221198156682, 7.514848684830771, 3.2110870180069764, 16.385405864052043, 0.018855472800980485, 1.1812953709814273, 2.100499670029226, 6.91807297067974, 2.7726972753841803, 3.9587065145658524, 16.694635617988123, 7.63363816347695, 3.813519373998303, 4.185914961817668, 18.35863109267465, 5.252191948713114, 3.520668997382337, 6.245498146553996, 0.0035136417139544278, 5.4320900897735465, 0.0017568208569772139, 4.550166019570985, 8.889513536304703, 0.005270462570931642, 3.485532580242793, 24.375889390558843, 12.136118479998595, 6.501993991672669, 7.477029567295022, 16.688041320426557, 0.6869169550780907, 54.54545454545454, 36.36363636363637, 9.090909090909092, 0.11664301405548319, 0.15941211920916037, 7.99782266373763, 1.2500243006279281, 0.20023717412857947, 3.08520772176753, 2.3970139388401797, 6.057660529948094, 33.28408406073213, 19.745718229359046, 0.27994323373315966, 8.66851999455666, 2.7177822274927586, 14.039930791811662]}],                        {\"template\": {\"data\": {\"bar\": [{\"error_x\": {\"color\": \"#2a3f5f\"}, \"error_y\": {\"color\": \"#2a3f5f\"}, \"marker\": {\"line\": {\"color\": \"#E5ECF6\", \"width\": 0.5}}, \"type\": \"bar\"}], \"barpolar\": [{\"marker\": {\"line\": {\"color\": \"#E5ECF6\", \"width\": 0.5}}, \"type\": \"barpolar\"}], \"carpet\": [{\"aaxis\": {\"endlinecolor\": \"#2a3f5f\", \"gridcolor\": \"white\", \"linecolor\": \"white\", \"minorgridcolor\": \"white\", \"startlinecolor\": \"#2a3f5f\"}, \"baxis\": {\"endlinecolor\": \"#2a3f5f\", \"gridcolor\": \"white\", \"linecolor\": \"white\", \"minorgridcolor\": \"white\", \"startlinecolor\": \"#2a3f5f\"}, \"type\": \"carpet\"}], \"choropleth\": [{\"colorbar\": {\"outlinewidth\": 0, \"ticks\": \"\"}, \"type\": \"choropleth\"}], \"contour\": [{\"colorbar\": {\"outlinewidth\": 0, \"ticks\": \"\"}, \"colorscale\": [[0.0, \"#0d0887\"], [0.1111111111111111, \"#46039f\"], [0.2222222222222222, \"#7201a8\"], [0.3333333333333333, \"#9c179e\"], [0.4444444444444444, \"#bd3786\"], [0.5555555555555556, \"#d8576b\"], [0.6666666666666666, \"#ed7953\"], [0.7777777777777778, \"#fb9f3a\"], [0.8888888888888888, \"#fdca26\"], [1.0, \"#f0f921\"]], \"type\": \"contour\"}], \"contourcarpet\": [{\"colorbar\": {\"outlinewidth\": 0, \"ticks\": \"\"}, \"type\": \"contourcarpet\"}], \"heatmap\": [{\"colorbar\": {\"outlinewidth\": 0, \"ticks\": \"\"}, \"colorscale\": [[0.0, \"#0d0887\"], [0.1111111111111111, \"#46039f\"], [0.2222222222222222, \"#7201a8\"], [0.3333333333333333, \"#9c179e\"], [0.4444444444444444, \"#bd3786\"], [0.5555555555555556, \"#d8576b\"], [0.6666666666666666, \"#ed7953\"], [0.7777777777777778, \"#fb9f3a\"], [0.8888888888888888, \"#fdca26\"], [1.0, \"#f0f921\"]], \"type\": \"heatmap\"}], \"heatmapgl\": [{\"colorbar\": {\"outlinewidth\": 0, \"ticks\": \"\"}, \"colorscale\": [[0.0, \"#0d0887\"], [0.1111111111111111, \"#46039f\"], [0.2222222222222222, \"#7201a8\"], [0.3333333333333333, \"#9c179e\"], [0.4444444444444444, \"#bd3786\"], [0.5555555555555556, \"#d8576b\"], [0.6666666666666666, \"#ed7953\"], [0.7777777777777778, \"#fb9f3a\"], [0.8888888888888888, \"#fdca26\"], [1.0, \"#f0f921\"]], \"type\": \"heatmapgl\"}], \"histogram\": [{\"marker\": {\"colorbar\": {\"outlinewidth\": 0, \"ticks\": \"\"}}, \"type\": \"histogram\"}], \"histogram2d\": [{\"colorbar\": {\"outlinewidth\": 0, \"ticks\": \"\"}, \"colorscale\": [[0.0, \"#0d0887\"], [0.1111111111111111, \"#46039f\"], [0.2222222222222222, \"#7201a8\"], [0.3333333333333333, \"#9c179e\"], [0.4444444444444444, \"#bd3786\"], [0.5555555555555556, \"#d8576b\"], [0.6666666666666666, \"#ed7953\"], [0.7777777777777778, \"#fb9f3a\"], [0.8888888888888888, \"#fdca26\"], [1.0, \"#f0f921\"]], \"type\": \"histogram2d\"}], \"histogram2dcontour\": [{\"colorbar\": {\"outlinewidth\": 0, \"ticks\": \"\"}, \"colorscale\": [[0.0, \"#0d0887\"], [0.1111111111111111, \"#46039f\"], [0.2222222222222222, \"#7201a8\"], [0.3333333333333333, \"#9c179e\"], [0.4444444444444444, \"#bd3786\"], [0.5555555555555556, \"#d8576b\"], [0.6666666666666666, \"#ed7953\"], [0.7777777777777778, \"#fb9f3a\"], [0.8888888888888888, \"#fdca26\"], [1.0, \"#f0f921\"]], \"type\": \"histogram2dcontour\"}], \"mesh3d\": [{\"colorbar\": {\"outlinewidth\": 0, \"ticks\": \"\"}, \"type\": \"mesh3d\"}], \"parcoords\": [{\"line\": {\"colorbar\": {\"outlinewidth\": 0, \"ticks\": \"\"}}, \"type\": \"parcoords\"}], \"pie\": [{\"automargin\": true, \"type\": \"pie\"}], \"scatter\": [{\"marker\": {\"colorbar\": {\"outlinewidth\": 0, \"ticks\": \"\"}}, \"type\": \"scatter\"}], \"scatter3d\": [{\"line\": {\"colorbar\": {\"outlinewidth\": 0, \"ticks\": \"\"}}, \"marker\": {\"colorbar\": {\"outlinewidth\": 0, \"ticks\": \"\"}}, \"type\": \"scatter3d\"}], \"scattercarpet\": [{\"marker\": {\"colorbar\": {\"outlinewidth\": 0, \"ticks\": \"\"}}, \"type\": \"scattercarpet\"}], \"scattergeo\": [{\"marker\": {\"colorbar\": {\"outlinewidth\": 0, \"ticks\": \"\"}}, \"type\": \"scattergeo\"}], \"scattergl\": [{\"marker\": {\"colorbar\": {\"outlinewidth\": 0, \"ticks\": \"\"}}, \"type\": \"scattergl\"}], \"scattermapbox\": [{\"marker\": {\"colorbar\": {\"outlinewidth\": 0, \"ticks\": \"\"}}, \"type\": \"scattermapbox\"}], \"scatterpolar\": [{\"marker\": {\"colorbar\": {\"outlinewidth\": 0, \"ticks\": \"\"}}, \"type\": \"scatterpolar\"}], \"scatterpolargl\": [{\"marker\": {\"colorbar\": {\"outlinewidth\": 0, \"ticks\": \"\"}}, \"type\": \"scatterpolargl\"}], \"scatterternary\": [{\"marker\": {\"colorbar\": {\"outlinewidth\": 0, \"ticks\": \"\"}}, \"type\": \"scatterternary\"}], \"surface\": [{\"colorbar\": {\"outlinewidth\": 0, \"ticks\": \"\"}, \"colorscale\": [[0.0, \"#0d0887\"], [0.1111111111111111, \"#46039f\"], [0.2222222222222222, \"#7201a8\"], [0.3333333333333333, \"#9c179e\"], [0.4444444444444444, \"#bd3786\"], [0.5555555555555556, \"#d8576b\"], [0.6666666666666666, \"#ed7953\"], [0.7777777777777778, \"#fb9f3a\"], [0.8888888888888888, \"#fdca26\"], [1.0, \"#f0f921\"]], \"type\": \"surface\"}], \"table\": [{\"cells\": {\"fill\": {\"color\": \"#EBF0F8\"}, \"line\": {\"color\": \"white\"}}, \"header\": {\"fill\": {\"color\": \"#C8D4E3\"}, \"line\": {\"color\": \"white\"}}, \"type\": \"table\"}]}, \"layout\": {\"annotationdefaults\": {\"arrowcolor\": \"#2a3f5f\", \"arrowhead\": 0, \"arrowwidth\": 1}, \"coloraxis\": {\"colorbar\": {\"outlinewidth\": 0, \"ticks\": \"\"}}, \"colorscale\": {\"diverging\": [[0, \"#8e0152\"], [0.1, \"#c51b7d\"], [0.2, \"#de77ae\"], [0.3, \"#f1b6da\"], [0.4, \"#fde0ef\"], [0.5, \"#f7f7f7\"], [0.6, \"#e6f5d0\"], [0.7, \"#b8e186\"], [0.8, \"#7fbc41\"], [0.9, \"#4d9221\"], [1, \"#276419\"]], \"sequential\": [[0.0, \"#0d0887\"], [0.1111111111111111, \"#46039f\"], [0.2222222222222222, \"#7201a8\"], [0.3333333333333333, \"#9c179e\"], [0.4444444444444444, \"#bd3786\"], [0.5555555555555556, \"#d8576b\"], [0.6666666666666666, \"#ed7953\"], [0.7777777777777778, \"#fb9f3a\"], [0.8888888888888888, \"#fdca26\"], [1.0, \"#f0f921\"]], \"sequentialminus\": [[0.0, \"#0d0887\"], [0.1111111111111111, \"#46039f\"], [0.2222222222222222, \"#7201a8\"], [0.3333333333333333, \"#9c179e\"], [0.4444444444444444, \"#bd3786\"], [0.5555555555555556, \"#d8576b\"], [0.6666666666666666, \"#ed7953\"], [0.7777777777777778, \"#fb9f3a\"], [0.8888888888888888, \"#fdca26\"], [1.0, \"#f0f921\"]]}, \"colorway\": [\"#636efa\", \"#EF553B\", \"#00cc96\", \"#ab63fa\", \"#FFA15A\", \"#19d3f3\", \"#FF6692\", \"#B6E880\", \"#FF97FF\", \"#FECB52\"], \"font\": {\"color\": \"#2a3f5f\"}, \"geo\": {\"bgcolor\": \"white\", \"lakecolor\": \"white\", \"landcolor\": \"#E5ECF6\", \"showlakes\": true, \"showland\": true, \"subunitcolor\": \"white\"}, \"hoverlabel\": {\"align\": \"left\"}, \"hovermode\": \"closest\", \"mapbox\": {\"style\": \"light\"}, \"paper_bgcolor\": \"white\", \"plot_bgcolor\": \"#E5ECF6\", \"polar\": {\"angularaxis\": {\"gridcolor\": \"white\", \"linecolor\": \"white\", \"ticks\": \"\"}, \"bgcolor\": \"#E5ECF6\", \"radialaxis\": {\"gridcolor\": \"white\", \"linecolor\": \"white\", \"ticks\": \"\"}}, \"scene\": {\"xaxis\": {\"backgroundcolor\": \"#E5ECF6\", \"gridcolor\": \"white\", \"gridwidth\": 2, \"linecolor\": \"white\", \"showbackground\": true, \"ticks\": \"\", \"zerolinecolor\": \"white\"}, \"yaxis\": {\"backgroundcolor\": \"#E5ECF6\", \"gridcolor\": \"white\", \"gridwidth\": 2, \"linecolor\": \"white\", \"showbackground\": true, \"ticks\": \"\", \"zerolinecolor\": \"white\"}, \"zaxis\": {\"backgroundcolor\": \"#E5ECF6\", \"gridcolor\": \"white\", \"gridwidth\": 2, \"linecolor\": \"white\", \"showbackground\": true, \"ticks\": \"\", \"zerolinecolor\": \"white\"}}, \"shapedefaults\": {\"line\": {\"color\": \"#2a3f5f\"}}, \"ternary\": {\"aaxis\": {\"gridcolor\": \"white\", \"linecolor\": \"white\", \"ticks\": \"\"}, \"baxis\": {\"gridcolor\": \"white\", \"linecolor\": \"white\", \"ticks\": \"\"}, \"bgcolor\": \"#E5ECF6\", \"caxis\": {\"gridcolor\": \"white\", \"linecolor\": \"white\", \"ticks\": \"\"}}, \"title\": {\"x\": 0.05}, \"xaxis\": {\"automargin\": true, \"gridcolor\": \"white\", \"linecolor\": \"white\", \"ticks\": \"\", \"title\": {\"standoff\": 15}, \"zerolinecolor\": \"white\", \"zerolinewidth\": 2}, \"yaxis\": {\"automargin\": true, \"gridcolor\": \"white\", \"linecolor\": \"white\", \"ticks\": \"\", \"title\": {\"standoff\": 15}, \"zerolinecolor\": \"white\", \"zerolinewidth\": 2}}}},                        {\"responsive\": true}                    ).then(function(){\n",
       "                            \n",
       "var gd = document.getElementById('02d498d0-ef57-4d1f-a389-187875a5b95a');\n",
       "var x = new MutationObserver(function (mutations, observer) {{\n",
       "        var display = window.getComputedStyle(gd).display;\n",
       "        if (!display || display === 'none') {{\n",
       "            console.log([gd, 'removed!']);\n",
       "            Plotly.purge(gd);\n",
       "            observer.disconnect();\n",
       "        }}\n",
       "}});\n",
       "\n",
       "// Listen for the removal of the full notebook cells\n",
       "var notebookContainer = gd.closest('#notebook-container');\n",
       "if (notebookContainer) {{\n",
       "    x.observe(notebookContainer, {childList: true});\n",
       "}}\n",
       "\n",
       "// Listen for the clearing of the current output cell\n",
       "var outputEl = gd.closest('.output');\n",
       "if (outputEl) {{\n",
       "    x.observe(outputEl, {childList: true});\n",
       "}}\n",
       "\n",
       "                        })                };                });            </script>        </div>"
      ]
     },
     "metadata": {},
     "output_type": "display_data"
    }
   ],
   "source": [
    "# 히트맵 이미지를 통해 주로시켜먹는 음식을 지역별로 한눈에 확인\n",
    "fig = go.Figure(data=go.Heatmap(\n",
    "                   z=ss[\"rate\"],\n",
    "                   x=ss[\"gu_name\"],\n",
    "                   y=ss[\"induty_nm\"],\n",
    "                   hoverongaps = False))\n",
    "fig.show()\n",
    "\n",
    "\n",
    "## 높은 비율만 따졌을때 구리, 마포, 서초, 성북구, 권선구, 장안구, 팔달구, 중랑구, 파주시의 경우\n",
    "## 카페 디저트의 비율이 높게 나타났으며\n",
    "## 경기도 가평과 같이 배달건수가 1건으로 나타난 경우 일반화의 오류를 범할 수 도 있다.\n",
    "\n",
    "## 군집을 나누어 주기전 분석"
   ]
  },
  {
   "cell_type": "markdown",
   "metadata": {},
   "source": [
    "# kmeans 군집분석\n",
    "* 단순히 시군구의 지역특성만으로 분류를 할수도 있지만\n",
    "* 1인가구와 아파트비율의 특성에 따라서 주문 빈도 등 특성이 다를 수 있다고 생각되어\n",
    "* 시도, 서울시와 경기도의 시군구 를 이용하여 \n",
    "* 군집을 형성하고 그 군집 집단간의 유의미한 차이를 가지는지 확인하기 위해 실시해본다\n",
    "* 2019년 기준 아파트비율과 1인가구 비율에 대해서는 통계청 데이터\n",
    "* 출처 https://kosis.kr/statHtml/statHtml.do?orgId=101&tblId=DT_1PL1501&conn_path=I3"
   ]
  },
  {
   "cell_type": "code",
   "execution_count": 28,
   "metadata": {},
   "outputs": [
    {
     "data": {
      "text/html": [
       "<div>\n",
       "<style scoped>\n",
       "    .dataframe tbody tr th:only-of-type {\n",
       "        vertical-align: middle;\n",
       "    }\n",
       "\n",
       "    .dataframe tbody tr th {\n",
       "        vertical-align: top;\n",
       "    }\n",
       "\n",
       "    .dataframe thead th {\n",
       "        text-align: right;\n",
       "    }\n",
       "</style>\n",
       "<table border=\"1\" class=\"dataframe\">\n",
       "  <thead>\n",
       "    <tr style=\"text-align: right;\">\n",
       "      <th></th>\n",
       "      <th>sido</th>\n",
       "      <th>all_aptra</th>\n",
       "      <th>men_aptra</th>\n",
       "      <th>wo_aptra</th>\n",
       "      <th>all_onera</th>\n",
       "      <th>men_onera</th>\n",
       "      <th>wo_onera</th>\n",
       "    </tr>\n",
       "  </thead>\n",
       "  <tbody>\n",
       "    <tr>\n",
       "      <th>0</th>\n",
       "      <td>전국</td>\n",
       "      <td>0.3490</td>\n",
       "      <td>0.3097</td>\n",
       "      <td>0.3863</td>\n",
       "      <td>0.3022</td>\n",
       "      <td>0.2202</td>\n",
       "      <td>0.4777</td>\n",
       "    </tr>\n",
       "    <tr>\n",
       "      <th>1</th>\n",
       "      <td>서울특별시</td>\n",
       "      <td>0.2605</td>\n",
       "      <td>0.2141</td>\n",
       "      <td>0.3005</td>\n",
       "      <td>0.3336</td>\n",
       "      <td>0.2417</td>\n",
       "      <td>0.5038</td>\n",
       "    </tr>\n",
       "    <tr>\n",
       "      <th>2</th>\n",
       "      <td>부산광역시</td>\n",
       "      <td>0.4026</td>\n",
       "      <td>0.3423</td>\n",
       "      <td>0.4512</td>\n",
       "      <td>0.3073</td>\n",
       "      <td>0.2108</td>\n",
       "      <td>0.4953</td>\n",
       "    </tr>\n",
       "    <tr>\n",
       "      <th>3</th>\n",
       "      <td>대구광역시</td>\n",
       "      <td>0.3810</td>\n",
       "      <td>0.3206</td>\n",
       "      <td>0.4315</td>\n",
       "      <td>0.2936</td>\n",
       "      <td>0.2014</td>\n",
       "      <td>0.4843</td>\n",
       "    </tr>\n",
       "    <tr>\n",
       "      <th>4</th>\n",
       "      <td>인천광역시</td>\n",
       "      <td>0.4006</td>\n",
       "      <td>0.3501</td>\n",
       "      <td>0.4523</td>\n",
       "      <td>0.2658</td>\n",
       "      <td>0.1999</td>\n",
       "      <td>0.4143</td>\n",
       "    </tr>\n",
       "  </tbody>\n",
       "</table>\n",
       "</div>"
      ],
      "text/plain": [
       "    sido  all_aptra  men_aptra  wo_aptra  all_onera  men_onera  wo_onera\n",
       "0     전국     0.3490     0.3097    0.3863     0.3022     0.2202    0.4777\n",
       "1  서울특별시     0.2605     0.2141    0.3005     0.3336     0.2417    0.5038\n",
       "2  부산광역시     0.4026     0.3423    0.4512     0.3073     0.2108    0.4953\n",
       "3  대구광역시     0.3810     0.3206    0.4315     0.2936     0.2014    0.4843\n",
       "4  인천광역시     0.4006     0.3501    0.4523     0.2658     0.1999    0.4143"
      ]
     },
     "execution_count": 28,
     "metadata": {},
     "output_type": "execute_result"
    }
   ],
   "source": [
    "# 시도별 1인가구 아파트비율, 데이터 불러오기\n",
    "\n",
    "f = '../data/aptsido.csv'\n",
    "sidoone = pd.read_csv(f, sep = ',', encoding='utf-8')\n",
    "sidoone.head()"
   ]
  },
  {
   "cell_type": "code",
   "execution_count": 19,
   "metadata": {},
   "outputs": [
    {
     "data": {
      "text/html": [
       "<div>\n",
       "<style scoped>\n",
       "    .dataframe tbody tr th:only-of-type {\n",
       "        vertical-align: middle;\n",
       "    }\n",
       "\n",
       "    .dataframe tbody tr th {\n",
       "        vertical-align: top;\n",
       "    }\n",
       "\n",
       "    .dataframe thead th {\n",
       "        text-align: right;\n",
       "    }\n",
       "</style>\n",
       "<table border=\"1\" class=\"dataframe\">\n",
       "  <thead>\n",
       "    <tr style=\"text-align: right;\">\n",
       "      <th></th>\n",
       "      <th>sigun</th>\n",
       "      <th>all_aptra</th>\n",
       "      <th>men_aptra</th>\n",
       "      <th>wo_aptra</th>\n",
       "      <th>all_onera</th>\n",
       "      <th>men_onera</th>\n",
       "      <th>wo_onera</th>\n",
       "    </tr>\n",
       "  </thead>\n",
       "  <tbody>\n",
       "    <tr>\n",
       "      <th>0</th>\n",
       "      <td>서울특별시</td>\n",
       "      <td>0.2605</td>\n",
       "      <td>0.2141</td>\n",
       "      <td>0.3005</td>\n",
       "      <td>0.3336</td>\n",
       "      <td>0.2417</td>\n",
       "      <td>0.5038</td>\n",
       "    </tr>\n",
       "    <tr>\n",
       "      <th>1</th>\n",
       "      <td>종로구</td>\n",
       "      <td>0.1667</td>\n",
       "      <td>0.1514</td>\n",
       "      <td>0.1799</td>\n",
       "      <td>0.3938</td>\n",
       "      <td>0.3036</td>\n",
       "      <td>0.5460</td>\n",
       "    </tr>\n",
       "    <tr>\n",
       "      <th>2</th>\n",
       "      <td>중구</td>\n",
       "      <td>0.3792</td>\n",
       "      <td>0.3412</td>\n",
       "      <td>0.4117</td>\n",
       "      <td>0.4051</td>\n",
       "      <td>0.3170</td>\n",
       "      <td>0.5477</td>\n",
       "    </tr>\n",
       "    <tr>\n",
       "      <th>3</th>\n",
       "      <td>용산구</td>\n",
       "      <td>0.2036</td>\n",
       "      <td>0.1706</td>\n",
       "      <td>0.2304</td>\n",
       "      <td>0.3772</td>\n",
       "      <td>0.2804</td>\n",
       "      <td>0.5354</td>\n",
       "    </tr>\n",
       "    <tr>\n",
       "      <th>4</th>\n",
       "      <td>성동구</td>\n",
       "      <td>0.3335</td>\n",
       "      <td>0.2594</td>\n",
       "      <td>0.4045</td>\n",
       "      <td>0.3379</td>\n",
       "      <td>0.2549</td>\n",
       "      <td>0.4963</td>\n",
       "    </tr>\n",
       "  </tbody>\n",
       "</table>\n",
       "</div>"
      ],
      "text/plain": [
       "    sigun  all_aptra  men_aptra  wo_aptra  all_onera  men_onera  wo_onera\n",
       "0   서울특별시     0.2605     0.2141    0.3005     0.3336     0.2417    0.5038\n",
       "1  　　　종로구     0.1667     0.1514    0.1799     0.3938     0.3036    0.5460\n",
       "2   　　　중구     0.3792     0.3412    0.4117     0.4051     0.3170    0.5477\n",
       "3  　　　용산구     0.2036     0.1706    0.2304     0.3772     0.2804    0.5354\n",
       "4  　　　성동구     0.3335     0.2594    0.4045     0.3379     0.2549    0.4963"
      ]
     },
     "execution_count": 19,
     "metadata": {},
     "output_type": "execute_result"
    }
   ],
   "source": [
    "# 서울경기 시군구 1인가구 아파트비율, 데이터 불러오기\n",
    "\n",
    "d = '../data/aptsigun.csv'\n",
    "sigunone = pd.read_csv(d, sep = ',', encoding='utf-8')\n",
    "sigunone.head()"
   ]
  },
  {
   "cell_type": "code",
   "execution_count": 20,
   "metadata": {},
   "outputs": [],
   "source": [
    "from sklearn.cluster import KMeans\n",
    "import seaborn as sns\n",
    "plt.rc('font', family='Malgun Gothic')"
   ]
  },
  {
   "cell_type": "code",
   "execution_count": 21,
   "metadata": {},
   "outputs": [
    {
     "data": {
      "text/plain": [
       "Text(0.5, 1, '아파트비율과 1인가구비율 분포')"
      ]
     },
     "execution_count": 21,
     "metadata": {},
     "output_type": "execute_result"
    },
    {
     "data": {
      "image/png": "[encoded data removed]",
      "text/plain": [
       "<Figure size 360x360 with 1 Axes>"
      ]
     },
     "metadata": {
      "needs_background": "light"
     },
     "output_type": "display_data"
    }
   ],
   "source": [
    "# 아파트 비율과 1인가구 비율에 따른 서울,경기 시군구의 분포\n",
    "sns.lmplot('all_aptra','all_onera',data=sigunone, fit_reg = False, scatter_kws={\"s\":200})\n",
    "plt.title('아파트비율과 1인가구비율 분포')"
   ]
  },
  {
   "cell_type": "code",
   "execution_count": 22,
   "metadata": {},
   "outputs": [],
   "source": [
    "# 원래는 적정 군집 개수 찾아주는 기법으로 엘보우, 실루엣 , CCC 등을 활용해야함.\n",
    "# 보통 적정 군집개수가 3~4개로 나오기 때문에  4개로 임의로 정하고 시작함"
   ]
  },
  {
   "cell_type": "code",
   "execution_count": 23,
   "metadata": {},
   "outputs": [],
   "source": [
    "sigunone2 = sigunone"
   ]
  },
  {
   "cell_type": "code",
   "execution_count": 24,
   "metadata": {},
   "outputs": [
    {
     "data": {
      "text/html": [
       "<div>\n",
       "<style scoped>\n",
       "    .dataframe tbody tr th:only-of-type {\n",
       "        vertical-align: middle;\n",
       "    }\n",
       "\n",
       "    .dataframe tbody tr th {\n",
       "        vertical-align: top;\n",
       "    }\n",
       "\n",
       "    .dataframe thead th {\n",
       "        text-align: right;\n",
       "    }\n",
       "</style>\n",
       "<table border=\"1\" class=\"dataframe\">\n",
       "  <thead>\n",
       "    <tr style=\"text-align: right;\">\n",
       "      <th></th>\n",
       "      <th>all_aptra</th>\n",
       "      <th>all_onera</th>\n",
       "    </tr>\n",
       "  </thead>\n",
       "  <tbody>\n",
       "    <tr>\n",
       "      <th>0</th>\n",
       "      <td>0.2605</td>\n",
       "      <td>0.3336</td>\n",
       "    </tr>\n",
       "    <tr>\n",
       "      <th>1</th>\n",
       "      <td>0.1667</td>\n",
       "      <td>0.3938</td>\n",
       "    </tr>\n",
       "    <tr>\n",
       "      <th>2</th>\n",
       "      <td>0.3792</td>\n",
       "      <td>0.4051</td>\n",
       "    </tr>\n",
       "    <tr>\n",
       "      <th>3</th>\n",
       "      <td>0.2036</td>\n",
       "      <td>0.3772</td>\n",
       "    </tr>\n",
       "    <tr>\n",
       "      <th>4</th>\n",
       "      <td>0.3335</td>\n",
       "      <td>0.3379</td>\n",
       "    </tr>\n",
       "    <tr>\n",
       "      <th>...</th>\n",
       "      <td>...</td>\n",
       "      <td>...</td>\n",
       "    </tr>\n",
       "    <tr>\n",
       "      <th>70</th>\n",
       "      <td>0.2412</td>\n",
       "      <td>0.3087</td>\n",
       "    </tr>\n",
       "    <tr>\n",
       "      <th>71</th>\n",
       "      <td>0.2276</td>\n",
       "      <td>0.2905</td>\n",
       "    </tr>\n",
       "    <tr>\n",
       "      <th>72</th>\n",
       "      <td>0.2413</td>\n",
       "      <td>0.3294</td>\n",
       "    </tr>\n",
       "    <tr>\n",
       "      <th>73</th>\n",
       "      <td>0.1510</td>\n",
       "      <td>0.3380</td>\n",
       "    </tr>\n",
       "    <tr>\n",
       "      <th>74</th>\n",
       "      <td>0.0841</td>\n",
       "      <td>0.3084</td>\n",
       "    </tr>\n",
       "  </tbody>\n",
       "</table>\n",
       "<p>75 rows × 2 columns</p>\n",
       "</div>"
      ],
      "text/plain": [
       "    all_aptra  all_onera\n",
       "0      0.2605     0.3336\n",
       "1      0.1667     0.3938\n",
       "2      0.3792     0.4051\n",
       "3      0.2036     0.3772\n",
       "4      0.3335     0.3379\n",
       "..        ...        ...\n",
       "70     0.2412     0.3087\n",
       "71     0.2276     0.2905\n",
       "72     0.2413     0.3294\n",
       "73     0.1510     0.3380\n",
       "74     0.0841     0.3084\n",
       "\n",
       "[75 rows x 2 columns]"
      ]
     },
     "execution_count": 24,
     "metadata": {},
     "output_type": "execute_result"
    }
   ],
   "source": [
    "#필요한 열만\n",
    "sigunone3 = sigunone2.loc[:,['all_aptra','all_onera']]\n",
    "sigunone3"
   ]
  },
  {
   "cell_type": "code",
   "execution_count": 25,
   "metadata": {},
   "outputs": [
    {
     "data": {
      "text/html": [
       "<div>\n",
       "<style scoped>\n",
       "    .dataframe tbody tr th:only-of-type {\n",
       "        vertical-align: middle;\n",
       "    }\n",
       "\n",
       "    .dataframe tbody tr th {\n",
       "        vertical-align: top;\n",
       "    }\n",
       "\n",
       "    .dataframe thead th {\n",
       "        text-align: right;\n",
       "    }\n",
       "</style>\n",
       "<table border=\"1\" class=\"dataframe\">\n",
       "  <thead>\n",
       "    <tr style=\"text-align: right;\">\n",
       "      <th></th>\n",
       "      <th>all_aptra</th>\n",
       "      <th>all_onera</th>\n",
       "      <th>cluster</th>\n",
       "    </tr>\n",
       "  </thead>\n",
       "  <tbody>\n",
       "    <tr>\n",
       "      <th>0</th>\n",
       "      <td>0.2605</td>\n",
       "      <td>0.3336</td>\n",
       "      <td>0</td>\n",
       "    </tr>\n",
       "    <tr>\n",
       "      <th>1</th>\n",
       "      <td>0.1667</td>\n",
       "      <td>0.3938</td>\n",
       "      <td>0</td>\n",
       "    </tr>\n",
       "    <tr>\n",
       "      <th>2</th>\n",
       "      <td>0.3792</td>\n",
       "      <td>0.4051</td>\n",
       "      <td>2</td>\n",
       "    </tr>\n",
       "    <tr>\n",
       "      <th>3</th>\n",
       "      <td>0.2036</td>\n",
       "      <td>0.3772</td>\n",
       "      <td>0</td>\n",
       "    </tr>\n",
       "    <tr>\n",
       "      <th>4</th>\n",
       "      <td>0.3335</td>\n",
       "      <td>0.3379</td>\n",
       "      <td>2</td>\n",
       "    </tr>\n",
       "  </tbody>\n",
       "</table>\n",
       "</div>"
      ],
      "text/plain": [
       "   all_aptra  all_onera  cluster\n",
       "0     0.2605     0.3336        0\n",
       "1     0.1667     0.3938        0\n",
       "2     0.3792     0.4051        2\n",
       "3     0.2036     0.3772        0\n",
       "4     0.3335     0.3379        2"
      ]
     },
     "execution_count": 25,
     "metadata": {},
     "output_type": "execute_result"
    }
   ],
   "source": [
    "kmeans = KMeans(n_clusters=3,algorithm='auto')\n",
    "kmeans.fit(sigunone3)\n",
    "sigunone3['cluster']= kmeans.labels_\n",
    "sigunone3.head()"
   ]
  },
  {
   "cell_type": "code",
   "execution_count": 26,
   "metadata": {},
   "outputs": [
    {
     "data": {
      "text/html": [
       "<div>\n",
       "<style scoped>\n",
       "    .dataframe tbody tr th:only-of-type {\n",
       "        vertical-align: middle;\n",
       "    }\n",
       "\n",
       "    .dataframe tbody tr th {\n",
       "        vertical-align: top;\n",
       "    }\n",
       "\n",
       "    .dataframe thead th {\n",
       "        text-align: right;\n",
       "    }\n",
       "</style>\n",
       "<table border=\"1\" class=\"dataframe\">\n",
       "  <thead>\n",
       "    <tr style=\"text-align: right;\">\n",
       "      <th></th>\n",
       "      <th>sigun</th>\n",
       "      <th>all_onera</th>\n",
       "    </tr>\n",
       "  </thead>\n",
       "  <tbody>\n",
       "    <tr>\n",
       "      <th>0</th>\n",
       "      <td>서울특별시</td>\n",
       "      <td>0.3336</td>\n",
       "    </tr>\n",
       "    <tr>\n",
       "      <th>1</th>\n",
       "      <td>종로구</td>\n",
       "      <td>0.3938</td>\n",
       "    </tr>\n",
       "    <tr>\n",
       "      <th>2</th>\n",
       "      <td>중구</td>\n",
       "      <td>0.4051</td>\n",
       "    </tr>\n",
       "    <tr>\n",
       "      <th>3</th>\n",
       "      <td>용산구</td>\n",
       "      <td>0.3772</td>\n",
       "    </tr>\n",
       "    <tr>\n",
       "      <th>4</th>\n",
       "      <td>성동구</td>\n",
       "      <td>0.3379</td>\n",
       "    </tr>\n",
       "  </tbody>\n",
       "</table>\n",
       "</div>"
      ],
      "text/plain": [
       "    sigun  all_onera\n",
       "0   서울특별시     0.3336\n",
       "1  　　　종로구     0.3938\n",
       "2   　　　중구     0.4051\n",
       "3  　　　용산구     0.3772\n",
       "4  　　　성동구     0.3379"
      ]
     },
     "execution_count": 26,
     "metadata": {},
     "output_type": "execute_result"
    }
   ],
   "source": [
    "#다시 시군구 옆에 붙여주기 위해서 \n",
    "sigunone4 = sigunone2.loc[:,['sigun','all_onera']]\n",
    "sigunone4.head()"
   ]
  },
  {
   "cell_type": "code",
   "execution_count": 27,
   "metadata": {},
   "outputs": [
    {
     "data": {
      "text/html": [
       "<div>\n",
       "<style scoped>\n",
       "    .dataframe tbody tr th:only-of-type {\n",
       "        vertical-align: middle;\n",
       "    }\n",
       "\n",
       "    .dataframe tbody tr th {\n",
       "        vertical-align: top;\n",
       "    }\n",
       "\n",
       "    .dataframe thead th {\n",
       "        text-align: right;\n",
       "    }\n",
       "</style>\n",
       "<table border=\"1\" class=\"dataframe\">\n",
       "  <thead>\n",
       "    <tr style=\"text-align: right;\">\n",
       "      <th></th>\n",
       "      <th>all_aptra</th>\n",
       "      <th>all_onera</th>\n",
       "      <th>cluster</th>\n",
       "      <th>sigun</th>\n",
       "    </tr>\n",
       "  </thead>\n",
       "  <tbody>\n",
       "    <tr>\n",
       "      <th>0</th>\n",
       "      <td>0.2605</td>\n",
       "      <td>0.3336</td>\n",
       "      <td>0</td>\n",
       "      <td>서울특별시</td>\n",
       "    </tr>\n",
       "    <tr>\n",
       "      <th>1</th>\n",
       "      <td>0.1667</td>\n",
       "      <td>0.3938</td>\n",
       "      <td>0</td>\n",
       "      <td>종로구</td>\n",
       "    </tr>\n",
       "    <tr>\n",
       "      <th>2</th>\n",
       "      <td>0.3792</td>\n",
       "      <td>0.4051</td>\n",
       "      <td>2</td>\n",
       "      <td>중구</td>\n",
       "    </tr>\n",
       "    <tr>\n",
       "      <th>3</th>\n",
       "      <td>0.2036</td>\n",
       "      <td>0.3772</td>\n",
       "      <td>0</td>\n",
       "      <td>용산구</td>\n",
       "    </tr>\n",
       "    <tr>\n",
       "      <th>4</th>\n",
       "      <td>0.3335</td>\n",
       "      <td>0.3379</td>\n",
       "      <td>2</td>\n",
       "      <td>성동구</td>\n",
       "    </tr>\n",
       "    <tr>\n",
       "      <th>...</th>\n",
       "      <td>...</td>\n",
       "      <td>...</td>\n",
       "      <td>...</td>\n",
       "      <td>...</td>\n",
       "    </tr>\n",
       "    <tr>\n",
       "      <th>70</th>\n",
       "      <td>0.2412</td>\n",
       "      <td>0.3087</td>\n",
       "      <td>0</td>\n",
       "      <td>포천시</td>\n",
       "    </tr>\n",
       "    <tr>\n",
       "      <th>71</th>\n",
       "      <td>0.2276</td>\n",
       "      <td>0.2905</td>\n",
       "      <td>0</td>\n",
       "      <td>여주시</td>\n",
       "    </tr>\n",
       "    <tr>\n",
       "      <th>72</th>\n",
       "      <td>0.2413</td>\n",
       "      <td>0.3294</td>\n",
       "      <td>0</td>\n",
       "      <td>연천군</td>\n",
       "    </tr>\n",
       "    <tr>\n",
       "      <th>73</th>\n",
       "      <td>0.1510</td>\n",
       "      <td>0.3380</td>\n",
       "      <td>0</td>\n",
       "      <td>가평군</td>\n",
       "    </tr>\n",
       "    <tr>\n",
       "      <th>74</th>\n",
       "      <td>0.0841</td>\n",
       "      <td>0.3084</td>\n",
       "      <td>0</td>\n",
       "      <td>양평군</td>\n",
       "    </tr>\n",
       "  </tbody>\n",
       "</table>\n",
       "<p>75 rows × 4 columns</p>\n",
       "</div>"
      ],
      "text/plain": [
       "    all_aptra  all_onera  cluster   sigun\n",
       "0      0.2605     0.3336        0   서울특별시\n",
       "1      0.1667     0.3938        0  　　　종로구\n",
       "2      0.3792     0.4051        2   　　　중구\n",
       "3      0.2036     0.3772        0  　　　용산구\n",
       "4      0.3335     0.3379        2  　　　성동구\n",
       "..        ...        ...      ...     ...\n",
       "70     0.2412     0.3087        0  　　　포천시\n",
       "71     0.2276     0.2905        0  　　　여주시\n",
       "72     0.2413     0.3294        0  　　　연천군\n",
       "73     0.1510     0.3380        0  　　　가평군\n",
       "74     0.0841     0.3084        0  　　　양평군\n",
       "\n",
       "[75 rows x 4 columns]"
      ]
     },
     "execution_count": 27,
     "metadata": {},
     "output_type": "execute_result"
    }
   ],
   "source": [
    "#  시군구별 클러스터 생성완료 \n",
    "sigun5 = pd.merge(sigunone3, sigunone4)\n",
    "sigun5"
   ]
  },
  {
   "cell_type": "code",
   "execution_count": 28,
   "metadata": {},
   "outputs": [
    {
     "data": {
      "text/html": [
       "<div>\n",
       "<style scoped>\n",
       "    .dataframe tbody tr th:only-of-type {\n",
       "        vertical-align: middle;\n",
       "    }\n",
       "\n",
       "    .dataframe tbody tr th {\n",
       "        vertical-align: top;\n",
       "    }\n",
       "\n",
       "    .dataframe thead th {\n",
       "        text-align: right;\n",
       "    }\n",
       "</style>\n",
       "<table border=\"1\" class=\"dataframe\">\n",
       "  <thead>\n",
       "    <tr style=\"text-align: right;\">\n",
       "      <th></th>\n",
       "      <th>all_aptra</th>\n",
       "      <th>all_onera</th>\n",
       "      <th>cluster</th>\n",
       "      <th>sigun</th>\n",
       "    </tr>\n",
       "  </thead>\n",
       "  <tbody>\n",
       "    <tr>\n",
       "      <th>0</th>\n",
       "      <td>0.2605</td>\n",
       "      <td>0.3336</td>\n",
       "      <td>0</td>\n",
       "      <td>서울특별시</td>\n",
       "    </tr>\n",
       "    <tr>\n",
       "      <th>72</th>\n",
       "      <td>0.2413</td>\n",
       "      <td>0.3294</td>\n",
       "      <td>0</td>\n",
       "      <td>연천군</td>\n",
       "    </tr>\n",
       "    <tr>\n",
       "      <th>71</th>\n",
       "      <td>0.2276</td>\n",
       "      <td>0.2905</td>\n",
       "      <td>0</td>\n",
       "      <td>여주시</td>\n",
       "    </tr>\n",
       "    <tr>\n",
       "      <th>70</th>\n",
       "      <td>0.2412</td>\n",
       "      <td>0.3087</td>\n",
       "      <td>0</td>\n",
       "      <td>포천시</td>\n",
       "    </tr>\n",
       "    <tr>\n",
       "      <th>68</th>\n",
       "      <td>0.1811</td>\n",
       "      <td>0.2340</td>\n",
       "      <td>0</td>\n",
       "      <td>광주시</td>\n",
       "    </tr>\n",
       "    <tr>\n",
       "      <th>...</th>\n",
       "      <td>...</td>\n",
       "      <td>...</td>\n",
       "      <td>...</td>\n",
       "      <td>...</td>\n",
       "    </tr>\n",
       "    <tr>\n",
       "      <th>40</th>\n",
       "      <td>0.3400</td>\n",
       "      <td>0.2572</td>\n",
       "      <td>2</td>\n",
       "      <td>부천시</td>\n",
       "    </tr>\n",
       "    <tr>\n",
       "      <th>42</th>\n",
       "      <td>0.4224</td>\n",
       "      <td>0.3102</td>\n",
       "      <td>2</td>\n",
       "      <td>평택시</td>\n",
       "    </tr>\n",
       "    <tr>\n",
       "      <th>46</th>\n",
       "      <td>0.3210</td>\n",
       "      <td>0.2952</td>\n",
       "      <td>2</td>\n",
       "      <td>단원구</td>\n",
       "    </tr>\n",
       "    <tr>\n",
       "      <th>27</th>\n",
       "      <td>0.3280</td>\n",
       "      <td>0.3003</td>\n",
       "      <td>2</td>\n",
       "      <td>수원시</td>\n",
       "    </tr>\n",
       "    <tr>\n",
       "      <th>17</th>\n",
       "      <td>0.3582</td>\n",
       "      <td>0.2977</td>\n",
       "      <td>2</td>\n",
       "      <td>구로구</td>\n",
       "    </tr>\n",
       "  </tbody>\n",
       "</table>\n",
       "<p>75 rows × 4 columns</p>\n",
       "</div>"
      ],
      "text/plain": [
       "    all_aptra  all_onera  cluster   sigun\n",
       "0      0.2605     0.3336        0   서울특별시\n",
       "72     0.2413     0.3294        0  　　　연천군\n",
       "71     0.2276     0.2905        0  　　　여주시\n",
       "70     0.2412     0.3087        0  　　　포천시\n",
       "68     0.1811     0.2340        0  　　　광주시\n",
       "..        ...        ...      ...     ...\n",
       "40     0.3400     0.2572        2  　　　부천시\n",
       "42     0.4224     0.3102        2  　　　평택시\n",
       "46     0.3210     0.2952        2  　　　단원구\n",
       "27     0.3280     0.3003        2  　　　수원시\n",
       "17     0.3582     0.2977        2  　　　구로구\n",
       "\n",
       "[75 rows x 4 columns]"
      ]
     },
     "execution_count": 28,
     "metadata": {},
     "output_type": "execute_result"
    }
   ],
   "source": [
    "sigun5.sort_values(by=\"cluster\", ascending=True)"
   ]
  },
  {
   "cell_type": "code",
   "execution_count": 42,
   "metadata": {},
   "outputs": [
    {
     "data": {
      "text/plain": [
       "Text(0.5113, 0.2414, '고양시')"
      ]
     },
     "execution_count": 42,
     "metadata": {},
     "output_type": "execute_result"
    },
    {
     "data": {
      "image/png": "[encoded data removed]",
      "text/plain": [
       "<Figure size 401.5x360 with 1 Axes>"
      ]
     },
     "metadata": {
      "needs_background": "light"
     },
     "output_type": "display_data"
    }
   ],
   "source": [
    "# 아파트 비율과 1인가구 비율에 따른 서울,경기 시군구의 분포\n",
    "sns.lmplot('all_aptra','all_onera',data=sigun5, fit_reg = False, scatter_kws={\"s\":200},hue=\"cluster\")\n",
    "plt.title('군집으로 나눈 아파트비율과 1인가구비율 분포')\n",
    "plt.text(0.4988,0.2780,'시흥시')\n",
    "plt.text(0.3577,0.3199,'강남구')\n",
    "plt.text(0.328,0.3003,'수원시')\n",
    "plt.text(0.3093,0.2992,'성남시')\n",
    "plt.text(0.4736,0.2631,'의정부시')\n",
    "plt.text(0.4256,0.2289,'안양시')\n",
    "plt.text(0.34,0.2572,'부천시')\n",
    "plt.text(0.4756,0.2316,'광명시')\n",
    "plt.text(0.3792,0.4051,'중구')\n",
    "plt.text(0.2391,0.392,'동대문구')\n",
    "plt.text(0.4224,0.3102,'평택시')\n",
    "plt.text(0.2467,0.3777,'마포구')\n",
    "plt.text(0.5113,0.2414,'고양시')\n",
    "# 군집1. 아파트비율이 10~20% 사이면서 1인가구 비율이 25%~ 40% 사이 집단\n",
    "# 군집2. 아파트비율이 20~40% 사이면서 1인가구 비율이 20%~ 35% 사이 집단\n",
    "# 군집3. 아파트비율이 40~60% 사이면서 1인가구 비율이 20%~ 30% 사이 집단 으로 나누어짐"
   ]
  },
  {
   "cell_type": "markdown",
   "metadata": {},
   "source": [
    "# 나름 의미있는 세 집단으로 분류되었으며, 분류된 특성에 따라 배달을 시켜먹는 음식의 차이등이 있을것으로 판단되어"
   ]
  },
  {
   "cell_type": "markdown",
   "metadata": {},
   "source": [
    "# 1인가구 아파트 비율로 구한 군집 데이터 + 배달 데이터 MERGE"
   ]
  },
  {
   "cell_type": "code",
   "execution_count": 65,
   "metadata": {},
   "outputs": [
    {
     "data": {
      "text/html": [
       "<div>\n",
       "<style scoped>\n",
       "    .dataframe tbody tr th:only-of-type {\n",
       "        vertical-align: middle;\n",
       "    }\n",
       "\n",
       "    .dataframe tbody tr th {\n",
       "        vertical-align: top;\n",
       "    }\n",
       "\n",
       "    .dataframe thead th {\n",
       "        text-align: right;\n",
       "    }\n",
       "</style>\n",
       "<table border=\"1\" class=\"dataframe\">\n",
       "  <thead>\n",
       "    <tr style=\"text-align: right;\">\n",
       "      <th></th>\n",
       "      <th>all_aptra</th>\n",
       "      <th>all_onera</th>\n",
       "      <th>cluster</th>\n",
       "      <th>gu_name</th>\n",
       "    </tr>\n",
       "  </thead>\n",
       "  <tbody>\n",
       "    <tr>\n",
       "      <th>0</th>\n",
       "      <td>0.2605</td>\n",
       "      <td>0.3336</td>\n",
       "      <td>2</td>\n",
       "      <td>서울특별시</td>\n",
       "    </tr>\n",
       "    <tr>\n",
       "      <th>1</th>\n",
       "      <td>0.1667</td>\n",
       "      <td>0.3938</td>\n",
       "      <td>2</td>\n",
       "      <td>종로구</td>\n",
       "    </tr>\n",
       "    <tr>\n",
       "      <th>2</th>\n",
       "      <td>0.3792</td>\n",
       "      <td>0.4051</td>\n",
       "      <td>0</td>\n",
       "      <td>중구</td>\n",
       "    </tr>\n",
       "    <tr>\n",
       "      <th>3</th>\n",
       "      <td>0.2036</td>\n",
       "      <td>0.3772</td>\n",
       "      <td>2</td>\n",
       "      <td>용산구</td>\n",
       "    </tr>\n",
       "    <tr>\n",
       "      <th>4</th>\n",
       "      <td>0.3335</td>\n",
       "      <td>0.3379</td>\n",
       "      <td>0</td>\n",
       "      <td>성동구</td>\n",
       "    </tr>\n",
       "    <tr>\n",
       "      <th>...</th>\n",
       "      <td>...</td>\n",
       "      <td>...</td>\n",
       "      <td>...</td>\n",
       "      <td>...</td>\n",
       "    </tr>\n",
       "    <tr>\n",
       "      <th>70</th>\n",
       "      <td>0.2412</td>\n",
       "      <td>0.3087</td>\n",
       "      <td>2</td>\n",
       "      <td>포천시</td>\n",
       "    </tr>\n",
       "    <tr>\n",
       "      <th>71</th>\n",
       "      <td>0.2276</td>\n",
       "      <td>0.2905</td>\n",
       "      <td>2</td>\n",
       "      <td>여주시</td>\n",
       "    </tr>\n",
       "    <tr>\n",
       "      <th>72</th>\n",
       "      <td>0.2413</td>\n",
       "      <td>0.3294</td>\n",
       "      <td>2</td>\n",
       "      <td>연천군</td>\n",
       "    </tr>\n",
       "    <tr>\n",
       "      <th>73</th>\n",
       "      <td>0.1510</td>\n",
       "      <td>0.3380</td>\n",
       "      <td>2</td>\n",
       "      <td>가평군</td>\n",
       "    </tr>\n",
       "    <tr>\n",
       "      <th>74</th>\n",
       "      <td>0.0841</td>\n",
       "      <td>0.3084</td>\n",
       "      <td>2</td>\n",
       "      <td>양평군</td>\n",
       "    </tr>\n",
       "  </tbody>\n",
       "</table>\n",
       "<p>75 rows × 4 columns</p>\n",
       "</div>"
      ],
      "text/plain": [
       "    all_aptra  all_onera  cluster gu_name\n",
       "0      0.2605     0.3336        2   서울특별시\n",
       "1      0.1667     0.3938        2  　　　종로구\n",
       "2      0.3792     0.4051        0   　　　중구\n",
       "3      0.2036     0.3772        2  　　　용산구\n",
       "4      0.3335     0.3379        0  　　　성동구\n",
       "..        ...        ...      ...     ...\n",
       "70     0.2412     0.3087        2  　　　포천시\n",
       "71     0.2276     0.2905        2  　　　여주시\n",
       "72     0.2413     0.3294        2  　　　연천군\n",
       "73     0.1510     0.3380        2  　　　가평군\n",
       "74     0.0841     0.3084        2  　　　양평군\n",
       "\n",
       "[75 rows x 4 columns]"
      ]
     },
     "execution_count": 65,
     "metadata": {},
     "output_type": "execute_result"
    }
   ],
   "source": [
    "# 우선 merge를 위해 변수명 변경\n",
    "sigun5 = sigun5.rename({'sigun':'gu_name'}, axis='columns')\n",
    "sigun5['gu_name'] = sigun5['gu_name'].astype(str)\n",
    "sigun5"
   ]
  },
  {
   "cell_type": "code",
   "execution_count": 66,
   "metadata": {},
   "outputs": [
    {
     "data": {
      "text/html": [
       "<div>\n",
       "<style scoped>\n",
       "    .dataframe tbody tr th:only-of-type {\n",
       "        vertical-align: middle;\n",
       "    }\n",
       "\n",
       "    .dataframe tbody tr th {\n",
       "        vertical-align: top;\n",
       "    }\n",
       "\n",
       "    .dataframe thead th {\n",
       "        text-align: right;\n",
       "    }\n",
       "</style>\n",
       "<table border=\"1\" class=\"dataframe\">\n",
       "  <thead>\n",
       "    <tr style=\"text-align: right;\">\n",
       "      <th></th>\n",
       "      <th>gu_name</th>\n",
       "      <th>count</th>\n",
       "    </tr>\n",
       "  </thead>\n",
       "  <tbody>\n",
       "    <tr>\n",
       "      <th>0</th>\n",
       "      <td>가평군</td>\n",
       "      <td>1</td>\n",
       "    </tr>\n",
       "    <tr>\n",
       "      <th>1</th>\n",
       "      <td>강동구</td>\n",
       "      <td>6</td>\n",
       "    </tr>\n",
       "    <tr>\n",
       "      <th>2</th>\n",
       "      <td>강북구</td>\n",
       "      <td>1894</td>\n",
       "    </tr>\n",
       "    <tr>\n",
       "      <th>3</th>\n",
       "      <td>강서구</td>\n",
       "      <td>920</td>\n",
       "    </tr>\n",
       "    <tr>\n",
       "      <th>4</th>\n",
       "      <td>고양시 덕양구</td>\n",
       "      <td>215928</td>\n",
       "    </tr>\n",
       "  </tbody>\n",
       "</table>\n",
       "</div>"
      ],
      "text/plain": [
       "   gu_name   count\n",
       "0      가평군       1\n",
       "1      강동구       6\n",
       "2      강북구    1894\n",
       "3      강서구     920\n",
       "4  고양시 덕양구  215928"
      ]
     },
     "execution_count": 66,
     "metadata": {},
     "output_type": "execute_result"
    }
   ],
   "source": [
    "# 경기도와 서울특별시의 시군구별 주문한 업종 카운트\n",
    "ss = sudo.groupby(['gu_name']).size().reset_index(name='count')\n",
    "ss['gu_name'] = ss['gu_name'].astype(str)\n",
    "ss.head()"
   ]
  },
  {
   "cell_type": "code",
   "execution_count": 68,
   "metadata": {},
   "outputs": [
    {
     "data": {
      "text/html": [
       "<div>\n",
       "<style scoped>\n",
       "    .dataframe tbody tr th:only-of-type {\n",
       "        vertical-align: middle;\n",
       "    }\n",
       "\n",
       "    .dataframe tbody tr th {\n",
       "        vertical-align: top;\n",
       "    }\n",
       "\n",
       "    .dataframe thead th {\n",
       "        text-align: right;\n",
       "    }\n",
       "</style>\n",
       "<table border=\"1\" class=\"dataframe\">\n",
       "  <thead>\n",
       "    <tr style=\"text-align: right;\">\n",
       "      <th>index</th>\n",
       "      <th>gu_name</th>\n",
       "      <th>count</th>\n",
       "    </tr>\n",
       "  </thead>\n",
       "  <tbody>\n",
       "    <tr>\n",
       "      <th>0</th>\n",
       "      <td>가평군</td>\n",
       "      <td>1</td>\n",
       "    </tr>\n",
       "    <tr>\n",
       "      <th>1</th>\n",
       "      <td>강동구</td>\n",
       "      <td>6</td>\n",
       "    </tr>\n",
       "    <tr>\n",
       "      <th>2</th>\n",
       "      <td>강북구</td>\n",
       "      <td>1894</td>\n",
       "    </tr>\n",
       "    <tr>\n",
       "      <th>3</th>\n",
       "      <td>강서구</td>\n",
       "      <td>920</td>\n",
       "    </tr>\n",
       "    <tr>\n",
       "      <th>4</th>\n",
       "      <td>고양시 덕양구</td>\n",
       "      <td>215928</td>\n",
       "    </tr>\n",
       "    <tr>\n",
       "      <th>...</th>\n",
       "      <td>...</td>\n",
       "      <td>...</td>\n",
       "    </tr>\n",
       "    <tr>\n",
       "      <th>56</th>\n",
       "      <td>파주시</td>\n",
       "      <td>10416</td>\n",
       "    </tr>\n",
       "    <tr>\n",
       "      <th>57</th>\n",
       "      <td>평택시</td>\n",
       "      <td>106070</td>\n",
       "    </tr>\n",
       "    <tr>\n",
       "      <th>58</th>\n",
       "      <td>포천시</td>\n",
       "      <td>56921</td>\n",
       "    </tr>\n",
       "    <tr>\n",
       "      <th>59</th>\n",
       "      <td>하남시</td>\n",
       "      <td>11</td>\n",
       "    </tr>\n",
       "    <tr>\n",
       "      <th>60</th>\n",
       "      <td>화성시</td>\n",
       "      <td>51439</td>\n",
       "    </tr>\n",
       "  </tbody>\n",
       "</table>\n",
       "<p>61 rows × 2 columns</p>\n",
       "</div>"
      ],
      "text/plain": [
       "index  gu_name   count\n",
       "0          가평군       1\n",
       "1          강동구       6\n",
       "2          강북구    1894\n",
       "3          강서구     920\n",
       "4      고양시 덕양구  215928\n",
       "..         ...     ...\n",
       "56         파주시   10416\n",
       "57         평택시  106070\n",
       "58         포천시   56921\n",
       "59         하남시      11\n",
       "60         화성시   51439\n",
       "\n",
       "[61 rows x 2 columns]"
      ]
     },
     "execution_count": 68,
     "metadata": {},
     "output_type": "execute_result"
    }
   ],
   "source": [
    "ss.columns.names = [\"index\"]\n",
    "ss"
   ]
  },
  {
   "cell_type": "code",
   "execution_count": 40,
   "metadata": {},
   "outputs": [
    {
     "data": {
      "text/html": [
       "<div>\n",
       "<style scoped>\n",
       "    .dataframe tbody tr th:only-of-type {\n",
       "        vertical-align: middle;\n",
       "    }\n",
       "\n",
       "    .dataframe tbody tr th {\n",
       "        vertical-align: top;\n",
       "    }\n",
       "\n",
       "    .dataframe thead th {\n",
       "        text-align: right;\n",
       "    }\n",
       "</style>\n",
       "<table border=\"1\" class=\"dataframe\">\n",
       "  <thead>\n",
       "    <tr style=\"text-align: right;\">\n",
       "      <th>index</th>\n",
       "      <th>all_aptra</th>\n",
       "      <th>all_onera</th>\n",
       "      <th>cluster</th>\n",
       "      <th>sigun</th>\n",
       "    </tr>\n",
       "  </thead>\n",
       "  <tbody>\n",
       "    <tr>\n",
       "      <th>0</th>\n",
       "      <td>0.2605</td>\n",
       "      <td>0.3336</td>\n",
       "      <td>0</td>\n",
       "      <td>서울특별시</td>\n",
       "    </tr>\n",
       "    <tr>\n",
       "      <th>1</th>\n",
       "      <td>0.1667</td>\n",
       "      <td>0.3938</td>\n",
       "      <td>0</td>\n",
       "      <td>종로구</td>\n",
       "    </tr>\n",
       "    <tr>\n",
       "      <th>2</th>\n",
       "      <td>0.3792</td>\n",
       "      <td>0.4051</td>\n",
       "      <td>2</td>\n",
       "      <td>중구</td>\n",
       "    </tr>\n",
       "    <tr>\n",
       "      <th>3</th>\n",
       "      <td>0.2036</td>\n",
       "      <td>0.3772</td>\n",
       "      <td>0</td>\n",
       "      <td>용산구</td>\n",
       "    </tr>\n",
       "    <tr>\n",
       "      <th>4</th>\n",
       "      <td>0.3335</td>\n",
       "      <td>0.3379</td>\n",
       "      <td>2</td>\n",
       "      <td>성동구</td>\n",
       "    </tr>\n",
       "    <tr>\n",
       "      <th>...</th>\n",
       "      <td>...</td>\n",
       "      <td>...</td>\n",
       "      <td>...</td>\n",
       "      <td>...</td>\n",
       "    </tr>\n",
       "    <tr>\n",
       "      <th>70</th>\n",
       "      <td>0.2412</td>\n",
       "      <td>0.3087</td>\n",
       "      <td>0</td>\n",
       "      <td>포천시</td>\n",
       "    </tr>\n",
       "    <tr>\n",
       "      <th>71</th>\n",
       "      <td>0.2276</td>\n",
       "      <td>0.2905</td>\n",
       "      <td>0</td>\n",
       "      <td>여주시</td>\n",
       "    </tr>\n",
       "    <tr>\n",
       "      <th>72</th>\n",
       "      <td>0.2413</td>\n",
       "      <td>0.3294</td>\n",
       "      <td>0</td>\n",
       "      <td>연천군</td>\n",
       "    </tr>\n",
       "    <tr>\n",
       "      <th>73</th>\n",
       "      <td>0.1510</td>\n",
       "      <td>0.3380</td>\n",
       "      <td>0</td>\n",
       "      <td>가평군</td>\n",
       "    </tr>\n",
       "    <tr>\n",
       "      <th>74</th>\n",
       "      <td>0.0841</td>\n",
       "      <td>0.3084</td>\n",
       "      <td>0</td>\n",
       "      <td>양평군</td>\n",
       "    </tr>\n",
       "  </tbody>\n",
       "</table>\n",
       "<p>75 rows × 4 columns</p>\n",
       "</div>"
      ],
      "text/plain": [
       "index  all_aptra  all_onera  cluster   sigun\n",
       "0         0.2605     0.3336        0   서울특별시\n",
       "1         0.1667     0.3938        0  　　　종로구\n",
       "2         0.3792     0.4051        2   　　　중구\n",
       "3         0.2036     0.3772        0  　　　용산구\n",
       "4         0.3335     0.3379        2  　　　성동구\n",
       "..           ...        ...      ...     ...\n",
       "70        0.2412     0.3087        0  　　　포천시\n",
       "71        0.2276     0.2905        0  　　　여주시\n",
       "72        0.2413     0.3294        0  　　　연천군\n",
       "73        0.1510     0.3380        0  　　　가평군\n",
       "74        0.0841     0.3084        0  　　　양평군\n",
       "\n",
       "[75 rows x 4 columns]"
      ]
     },
     "execution_count": 40,
     "metadata": {},
     "output_type": "execute_result"
    }
   ],
   "source": [
    "sigun5.columns.names = [\"index\"]\n",
    "sigun5"
   ]
  },
  {
   "cell_type": "code",
   "execution_count": 44,
   "metadata": {},
   "outputs": [
    {
     "data": {
      "text/html": [
       "<div>\n",
       "<style scoped>\n",
       "    .dataframe tbody tr th:only-of-type {\n",
       "        vertical-align: middle;\n",
       "    }\n",
       "\n",
       "    .dataframe tbody tr th {\n",
       "        vertical-align: top;\n",
       "    }\n",
       "\n",
       "    .dataframe thead th {\n",
       "        text-align: right;\n",
       "    }\n",
       "</style>\n",
       "<table border=\"1\" class=\"dataframe\">\n",
       "  <thead>\n",
       "    <tr style=\"text-align: right;\">\n",
       "      <th></th>\n",
       "      <th>PROCESS_DT</th>\n",
       "      <th>DLVR_STORE_ID</th>\n",
       "      <th>si_name</th>\n",
       "      <th>gu_name</th>\n",
       "      <th>dong_name</th>\n",
       "      <th>adstrd_code</th>\n",
       "      <th>DLVR_DSTN_RDNMADR_CODE</th>\n",
       "      <th>induty_nm</th>\n",
       "      <th>GOODS_AMOUNT</th>\n",
       "      <th>SETLE_KND_VALUE</th>\n",
       "      <th>DLVR_RCEPT_TIME</th>\n",
       "      <th>year</th>\n",
       "      <th>month</th>\n",
       "      <th>all_aptra</th>\n",
       "      <th>all_onera</th>\n",
       "      <th>cluster</th>\n",
       "      <th>sigun</th>\n",
       "    </tr>\n",
       "  </thead>\n",
       "  <tbody>\n",
       "  </tbody>\n",
       "</table>\n",
       "</div>"
      ],
      "text/plain": [
       "Empty DataFrame\n",
       "Columns: [PROCESS_DT, DLVR_STORE_ID, si_name, gu_name, dong_name, adstrd_code, DLVR_DSTN_RDNMADR_CODE, induty_nm, GOODS_AMOUNT, SETLE_KND_VALUE, DLVR_RCEPT_TIME, year, month, all_aptra, all_onera, cluster, sigun]\n",
       "Index: []"
      ]
     },
     "execution_count": 44,
     "metadata": {},
     "output_type": "execute_result"
    }
   ],
   "source": [
    "sigun6 = pd.merge(sudo, sigun5, how='inner', left_on='gu_name', right_on='sigun')\n",
    "sigun6"
   ]
  },
  {
   "cell_type": "markdown",
   "metadata": {},
   "source": [
    "* 위 분석은 merge 가 제대로 이루어지지 않아 데이터 연계 분석을 하지못했다."
   ]
  },
  {
   "cell_type": "markdown",
   "metadata": {},
   "source": [
    "# COVID 확진자수 사망자수 날짜별\n",
    "\n",
    "# 코로나 확진자수와 배달 업종간의 상관관계 찾기"
   ]
  },
  {
   "cell_type": "code",
   "execution_count": null,
   "metadata": {},
   "outputs": [],
   "source": [
    "# 지역별 코로나 확진자료를 구하지 못하여 전체 코로나 일별 확진자 데이터\n",
    "# 통계청에서 가져와 날짜 별로 연계하였음.\n",
    "# 확진자 증가에 따른 배달건수 증가가 어느정도 연관성이 있는지 확인하기위해"
   ]
  },
  {
   "cell_type": "code",
   "execution_count": 93,
   "metadata": {},
   "outputs": [
    {
     "data": {
      "text/html": [
       "<div>\n",
       "<style scoped>\n",
       "    .dataframe tbody tr th:only-of-type {\n",
       "        vertical-align: middle;\n",
       "    }\n",
       "\n",
       "    .dataframe tbody tr th {\n",
       "        vertical-align: top;\n",
       "    }\n",
       "\n",
       "    .dataframe thead th {\n",
       "        text-align: right;\n",
       "    }\n",
       "</style>\n",
       "<table border=\"1\" class=\"dataframe\">\n",
       "  <thead>\n",
       "    <tr style=\"text-align: right;\">\n",
       "      <th></th>\n",
       "      <th>datetime</th>\n",
       "      <th>conf</th>\n",
       "      <th>death</th>\n",
       "    </tr>\n",
       "  </thead>\n",
       "  <tbody>\n",
       "    <tr>\n",
       "      <th>0</th>\n",
       "      <td>2020. 02. 04</td>\n",
       "      <td>18</td>\n",
       "      <td>0</td>\n",
       "    </tr>\n",
       "    <tr>\n",
       "      <th>1</th>\n",
       "      <td>2020. 02. 05</td>\n",
       "      <td>1</td>\n",
       "      <td>0</td>\n",
       "    </tr>\n",
       "    <tr>\n",
       "      <th>2</th>\n",
       "      <td>2020. 02. 06</td>\n",
       "      <td>4</td>\n",
       "      <td>0</td>\n",
       "    </tr>\n",
       "    <tr>\n",
       "      <th>3</th>\n",
       "      <td>2020. 02. 07</td>\n",
       "      <td>1</td>\n",
       "      <td>0</td>\n",
       "    </tr>\n",
       "    <tr>\n",
       "      <th>4</th>\n",
       "      <td>2020. 02. 08</td>\n",
       "      <td>0</td>\n",
       "      <td>0</td>\n",
       "    </tr>\n",
       "  </tbody>\n",
       "</table>\n",
       "</div>"
      ],
      "text/plain": [
       "       datetime  conf  death\n",
       "0  2020. 02. 04    18      0\n",
       "1  2020. 02. 05     1      0\n",
       "2  2020. 02. 06     4      0\n",
       "3  2020. 02. 07     1      0\n",
       "4  2020. 02. 08     0      0"
      ]
     },
     "execution_count": 93,
     "metadata": {},
     "output_type": "execute_result"
    }
   ],
   "source": [
    "covid_conf=pd.read_excel('../data/covid_conf.xlsx',sheet_name=0)\n",
    "\n",
    "covid_conf.head()"
   ]
  },
  {
   "cell_type": "code",
   "execution_count": 94,
   "metadata": {},
   "outputs": [
    {
     "data": {
      "text/html": [
       "<div>\n",
       "<style scoped>\n",
       "    .dataframe tbody tr th:only-of-type {\n",
       "        vertical-align: middle;\n",
       "    }\n",
       "\n",
       "    .dataframe tbody tr th {\n",
       "        vertical-align: top;\n",
       "    }\n",
       "\n",
       "    .dataframe thead th {\n",
       "        text-align: right;\n",
       "    }\n",
       "</style>\n",
       "<table border=\"1\" class=\"dataframe\">\n",
       "  <thead>\n",
       "    <tr style=\"text-align: right;\">\n",
       "      <th></th>\n",
       "      <th>datetime</th>\n",
       "      <th>conf</th>\n",
       "      <th>death</th>\n",
       "      <th>PROCESS_DT</th>\n",
       "    </tr>\n",
       "  </thead>\n",
       "  <tbody>\n",
       "    <tr>\n",
       "      <th>0</th>\n",
       "      <td>2020. 02. 04</td>\n",
       "      <td>18</td>\n",
       "      <td>0</td>\n",
       "      <td>2020-02-04</td>\n",
       "    </tr>\n",
       "    <tr>\n",
       "      <th>1</th>\n",
       "      <td>2020. 02. 05</td>\n",
       "      <td>1</td>\n",
       "      <td>0</td>\n",
       "      <td>2020-02-05</td>\n",
       "    </tr>\n",
       "    <tr>\n",
       "      <th>2</th>\n",
       "      <td>2020. 02. 06</td>\n",
       "      <td>4</td>\n",
       "      <td>0</td>\n",
       "      <td>2020-02-06</td>\n",
       "    </tr>\n",
       "    <tr>\n",
       "      <th>3</th>\n",
       "      <td>2020. 02. 07</td>\n",
       "      <td>1</td>\n",
       "      <td>0</td>\n",
       "      <td>2020-02-07</td>\n",
       "    </tr>\n",
       "    <tr>\n",
       "      <th>4</th>\n",
       "      <td>2020. 02. 08</td>\n",
       "      <td>0</td>\n",
       "      <td>0</td>\n",
       "      <td>2020-02-08</td>\n",
       "    </tr>\n",
       "  </tbody>\n",
       "</table>\n",
       "</div>"
      ],
      "text/plain": [
       "       datetime  conf  death PROCESS_DT\n",
       "0  2020. 02. 04    18      0 2020-02-04\n",
       "1  2020. 02. 05     1      0 2020-02-05\n",
       "2  2020. 02. 06     4      0 2020-02-06\n",
       "3  2020. 02. 07     1      0 2020-02-07\n",
       "4  2020. 02. 08     0      0 2020-02-08"
      ]
     },
     "execution_count": 94,
     "metadata": {},
     "output_type": "execute_result"
    }
   ],
   "source": [
    "# 만들어준 deliverycount 열의 PROCESS_DT 열의 형식이 문자열로 되어있어 datetime으로 변경해줌\n",
    "covid_conf['PROCESS_DT'] = pd.to_datetime(covid_conf['datetime'], format='%Y. %m. %d')\n",
    "\n",
    "covid_conf.head()"
   ]
  },
  {
   "cell_type": "code",
   "execution_count": 95,
   "metadata": {},
   "outputs": [
    {
     "data": {
      "text/html": [
       "<div>\n",
       "<style scoped>\n",
       "    .dataframe tbody tr th:only-of-type {\n",
       "        vertical-align: middle;\n",
       "    }\n",
       "\n",
       "    .dataframe tbody tr th {\n",
       "        vertical-align: top;\n",
       "    }\n",
       "\n",
       "    .dataframe thead th {\n",
       "        text-align: right;\n",
       "    }\n",
       "</style>\n",
       "<table border=\"1\" class=\"dataframe\">\n",
       "  <thead>\n",
       "    <tr style=\"text-align: right;\">\n",
       "      <th></th>\n",
       "      <th>conf</th>\n",
       "      <th>death</th>\n",
       "      <th>PROCESS_DT</th>\n",
       "    </tr>\n",
       "  </thead>\n",
       "  <tbody>\n",
       "    <tr>\n",
       "      <th>0</th>\n",
       "      <td>18</td>\n",
       "      <td>0</td>\n",
       "      <td>2020-02-04</td>\n",
       "    </tr>\n",
       "    <tr>\n",
       "      <th>1</th>\n",
       "      <td>1</td>\n",
       "      <td>0</td>\n",
       "      <td>2020-02-05</td>\n",
       "    </tr>\n",
       "    <tr>\n",
       "      <th>2</th>\n",
       "      <td>4</td>\n",
       "      <td>0</td>\n",
       "      <td>2020-02-06</td>\n",
       "    </tr>\n",
       "    <tr>\n",
       "      <th>3</th>\n",
       "      <td>1</td>\n",
       "      <td>0</td>\n",
       "      <td>2020-02-07</td>\n",
       "    </tr>\n",
       "    <tr>\n",
       "      <th>4</th>\n",
       "      <td>0</td>\n",
       "      <td>0</td>\n",
       "      <td>2020-02-08</td>\n",
       "    </tr>\n",
       "  </tbody>\n",
       "</table>\n",
       "</div>"
      ],
      "text/plain": [
       "   conf  death PROCESS_DT\n",
       "0    18      0 2020-02-04\n",
       "1     1      0 2020-02-05\n",
       "2     4      0 2020-02-06\n",
       "3     1      0 2020-02-07\n",
       "4     0      0 2020-02-08"
      ]
     },
     "execution_count": 95,
     "metadata": {},
     "output_type": "execute_result"
    }
   ],
   "source": [
    "# 기존 날짜 삭제\n",
    "covid_conf.drop(['datetime'], axis='columns', inplace=True)        \n",
    "covid_conf.head()"
   ]
  },
  {
   "cell_type": "markdown",
   "metadata": {},
   "source": [
    "# 날짜 별로 업종별 그래프를 그려보고 증가하는 추세인지 확인"
   ]
  },
  {
   "cell_type": "code",
   "execution_count": 55,
   "metadata": {},
   "outputs": [],
   "source": [
    "# 한식만 뽑아냄\n",
    "kkk = del_dstn['induty_nm'] == '한식'\n",
    "kkk1 = del_dstn[kkk]"
   ]
  },
  {
   "cell_type": "code",
   "execution_count": 72,
   "metadata": {},
   "outputs": [],
   "source": [
    "# 그룹1에서 많이시키는 빈도\n",
    "kkk11 = kkk1.groupby(['PROCESS_DT']).size().reset_index(name='count')"
   ]
  },
  {
   "cell_type": "code",
   "execution_count": 74,
   "metadata": {},
   "outputs": [],
   "source": [
    "# 열이름 간단하게 변경\n",
    "kkk11 = kkk11.rename({'count':'koreaf'}, axis = 'columns')"
   ]
  },
  {
   "cell_type": "code",
   "execution_count": 75,
   "metadata": {},
   "outputs": [
    {
     "data": {
      "application/vnd.plotly.v1+json": {
       "config": {
        "linkText": "Export to plot.ly",
        "plotlyServerURL": "https://plot.ly",
        "showLink": false
       },
       "data": [
        {
         "type": "bar",
         "x": [
          "2020-01-01T00:00:00",
          "2020-01-02T00:00:00",
          "2020-01-03T00:00:00",
          "2020-01-04T00:00:00",
          "2020-01-05T00:00:00",
          "2020-01-06T00:00:00",
          "2020-01-07T00:00:00",
          "2020-01-08T00:00:00",
          "2020-01-09T00:00:00",
          "2020-01-10T00:00:00",
          "2020-01-11T00:00:00",
          "2020-01-12T00:00:00",
          "2020-01-13T00:00:00",
          "2020-01-14T00:00:00",
          "2020-01-15T00:00:00",
          "2020-01-16T00:00:00",
          "2020-01-17T00:00:00",
          "2020-01-18T00:00:00",
          "2020-01-19T00:00:00",
          "2020-01-20T00:00:00",
          "2020-01-21T00:00:00",
          "2020-01-22T00:00:00",
          "2020-01-23T00:00:00",
          "2020-01-24T00:00:00",
          "2020-01-25T00:00:00",
          "2020-01-26T00:00:00",
          "2020-01-27T00:00:00",
          "2020-01-28T00:00:00",
          "2020-01-29T00:00:00",
          "2020-01-30T00:00:00",
          "2020-01-31T00:00:00",
          "2020-02-01T00:00:00",
          "2020-02-02T00:00:00",
          "2020-02-03T00:00:00",
          "2020-02-04T00:00:00",
          "2020-02-05T00:00:00",
          "2020-02-06T00:00:00",
          "2020-02-07T00:00:00",
          "2020-02-08T00:00:00",
          "2020-02-09T00:00:00",
          "2020-02-10T00:00:00",
          "2020-02-11T00:00:00",
          "2020-02-12T00:00:00",
          "2020-02-13T00:00:00",
          "2020-02-14T00:00:00",
          "2020-02-15T00:00:00",
          "2020-02-16T00:00:00",
          "2020-02-17T00:00:00",
          "2020-02-18T00:00:00",
          "2020-02-19T00:00:00",
          "2020-02-20T00:00:00",
          "2020-02-21T00:00:00",
          "2020-02-22T00:00:00",
          "2020-02-23T00:00:00",
          "2020-02-24T00:00:00",
          "2020-02-25T00:00:00",
          "2020-02-26T00:00:00",
          "2020-02-27T00:00:00",
          "2020-02-28T00:00:00",
          "2020-02-29T00:00:00",
          "2020-03-01T00:00:00",
          "2020-03-02T00:00:00",
          "2020-03-03T00:00:00",
          "2020-03-04T00:00:00",
          "2020-03-05T00:00:00",
          "2020-03-06T00:00:00",
          "2020-03-07T00:00:00",
          "2020-03-08T00:00:00",
          "2020-03-09T00:00:00",
          "2020-03-10T00:00:00",
          "2020-03-11T00:00:00",
          "2020-03-12T00:00:00",
          "2020-03-13T00:00:00",
          "2020-03-14T00:00:00",
          "2020-03-15T00:00:00",
          "2020-03-16T00:00:00",
          "2020-03-17T00:00:00",
          "2020-03-18T00:00:00",
          "2020-03-19T00:00:00",
          "2020-03-20T00:00:00",
          "2020-03-21T00:00:00",
          "2020-03-22T00:00:00",
          "2020-03-23T00:00:00",
          "2020-03-24T00:00:00",
          "2020-03-25T00:00:00",
          "2020-03-26T00:00:00",
          "2020-03-27T00:00:00",
          "2020-03-28T00:00:00",
          "2020-03-29T00:00:00",
          "2020-03-30T00:00:00",
          "2020-03-31T00:00:00",
          "2020-04-01T00:00:00",
          "2020-04-02T00:00:00",
          "2020-04-03T00:00:00",
          "2020-04-04T00:00:00",
          "2020-04-05T00:00:00",
          "2020-04-06T00:00:00",
          "2020-04-07T00:00:00",
          "2020-04-08T00:00:00",
          "2020-04-09T00:00:00",
          "2020-04-10T00:00:00",
          "2020-04-11T00:00:00",
          "2020-04-12T00:00:00",
          "2020-04-13T00:00:00",
          "2020-04-14T00:00:00",
          "2020-04-15T00:00:00",
          "2020-04-16T00:00:00",
          "2020-04-17T00:00:00",
          "2020-04-18T00:00:00",
          "2020-04-19T00:00:00",
          "2020-04-20T00:00:00",
          "2020-04-21T00:00:00",
          "2020-04-22T00:00:00",
          "2020-04-23T00:00:00",
          "2020-04-24T00:00:00",
          "2020-04-25T00:00:00",
          "2020-04-26T00:00:00",
          "2020-04-27T00:00:00",
          "2020-04-28T00:00:00",
          "2020-04-29T00:00:00",
          "2020-04-30T00:00:00",
          "2020-05-01T00:00:00",
          "2020-05-02T00:00:00",
          "2020-05-03T00:00:00",
          "2020-05-04T00:00:00",
          "2020-05-05T00:00:00",
          "2020-05-06T00:00:00",
          "2020-05-07T00:00:00",
          "2020-05-08T00:00:00",
          "2020-05-09T00:00:00",
          "2020-05-10T00:00:00",
          "2020-05-11T00:00:00",
          "2020-05-12T00:00:00",
          "2020-05-13T00:00:00",
          "2020-05-14T00:00:00",
          "2020-05-15T00:00:00",
          "2020-05-16T00:00:00",
          "2020-05-17T00:00:00",
          "2020-05-19T00:00:00",
          "2020-05-20T00:00:00",
          "2020-05-21T00:00:00",
          "2020-05-22T00:00:00",
          "2020-05-23T00:00:00",
          "2020-05-24T00:00:00",
          "2020-05-25T00:00:00",
          "2020-05-26T00:00:00",
          "2020-05-27T00:00:00",
          "2020-05-28T00:00:00",
          "2020-05-29T00:00:00",
          "2020-05-30T00:00:00",
          "2020-05-31T00:00:00",
          "2020-06-01T00:00:00",
          "2020-06-02T00:00:00",
          "2020-06-03T00:00:00",
          "2020-06-04T00:00:00",
          "2020-06-05T00:00:00",
          "2020-06-06T00:00:00",
          "2020-06-07T00:00:00",
          "2020-06-08T00:00:00",
          "2020-06-09T00:00:00",
          "2020-06-10T00:00:00",
          "2020-06-11T00:00:00",
          "2020-06-12T00:00:00",
          "2020-06-20T00:00:00",
          "2020-06-21T00:00:00"
         ],
         "y": [
          4002,
          3001,
          3228,
          3705,
          4008,
          6604,
          3540,
          3090,
          3033,
          3347,
          4058,
          4446,
          3148,
          3284,
          3196,
          3111,
          3211,
          3669,
          4299,
          3037,
          3150,
          3078,
          3367,
          2634,
          1542,
          2803,
          3667,
          3095,
          2952,
          3165,
          3254,
          4136,
          4462,
          3310,
          3340,
          3645,
          3778,
          3560,
          4038,
          4418,
          3329,
          3291,
          3682,
          3368,
          3442,
          4058,
          4669,
          3345,
          3398,
          3435,
          3459,
          3883,
          4542,
          4588,
          3211,
          3808,
          3360,
          3414,
          3929,
          4191,
          4481,
          3193,
          3668,
          3386,
          3282,
          3613,
          3985,
          4335,
          3090,
          3788,
          3510,
          3524,
          3761,
          4304,
          4455,
          3196,
          3365,
          3257,
          3558,
          3494,
          4049,
          4474,
          3013,
          3251,
          3253,
          3415,
          3351,
          4003,
          4259,
          3024,
          3149,
          3456,
          3375,
          3690,
          4411,
          4466,
          3388,
          3443,
          3355,
          3269,
          3549,
          4138,
          4511,
          3432,
          3567,
          4235,
          3395,
          4259,
          4232,
          5231,
          3690,
          3788,
          3893,
          3563,
          3982,
          4634,
          5088,
          3520,
          3640,
          4014,
          4626,
          3862,
          4661,
          5045,
          4313,
          5105,
          3815,
          3965,
          4624,
          5323,
          5237,
          3816,
          3839,
          4225,
          4073,
          5170,
          5226,
          5637,
          4353,
          4099,
          4300,
          4739,
          5317,
          5855,
          4201,
          4610,
          4220,
          4323,
          4782,
          5837,
          6143,
          4190,
          4418,
          4299,
          4549,
          4981,
          6164,
          6270,
          4727,
          5119,
          5188,
          4886,
          5052,
          5999,
          6872
         ]
        }
       ],
       "layout": {
        "template": {
         "data": {
          "bar": [
           {
            "error_x": {
             "color": "#2a3f5f"
            },
            "error_y": {
             "color": "#2a3f5f"
            },
            "marker": {
             "line": {
              "color": "#E5ECF6",
              "width": 0.5
             }
            },
            "type": "bar"
           }
          ],
          "barpolar": [
           {
            "marker": {
             "line": {
              "color": "#E5ECF6",
              "width": 0.5
             }
            },
            "type": "barpolar"
           }
          ],
          "carpet": [
           {
            "aaxis": {
             "endlinecolor": "#2a3f5f",
             "gridcolor": "white",
             "linecolor": "white",
             "minorgridcolor": "white",
             "startlinecolor": "#2a3f5f"
            },
            "baxis": {
             "endlinecolor": "#2a3f5f",
             "gridcolor": "white",
             "linecolor": "white",
             "minorgridcolor": "white",
             "startlinecolor": "#2a3f5f"
            },
            "type": "carpet"
           }
          ],
          "choropleth": [
           {
            "colorbar": {
             "outlinewidth": 0,
             "ticks": ""
            },
            "type": "choropleth"
           }
          ],
          "contour": [
           {
            "colorbar": {
             "outlinewidth": 0,
             "ticks": ""
            },
            "colorscale": [
             [
              0,
              "#0d0887"
             ],
             [
              0.1111111111111111,
              "#46039f"
             ],
             [
              0.2222222222222222,
              "#7201a8"
             ],
             [
              0.3333333333333333,
              "#9c179e"
             ],
             [
              0.4444444444444444,
              "#bd3786"
             ],
             [
              0.5555555555555556,
              "#d8576b"
             ],
             [
              0.6666666666666666,
              "#ed7953"
             ],
             [
              0.7777777777777778,
              "#fb9f3a"
             ],
             [
              0.8888888888888888,
              "#fdca26"
             ],
             [
              1,
              "#f0f921"
             ]
            ],
            "type": "contour"
           }
          ],
          "contourcarpet": [
           {
            "colorbar": {
             "outlinewidth": 0,
             "ticks": ""
            },
            "type": "contourcarpet"
           }
          ],
          "heatmap": [
           {
            "colorbar": {
             "outlinewidth": 0,
             "ticks": ""
            },
            "colorscale": [
             [
              0,
              "#0d0887"
             ],
             [
              0.1111111111111111,
              "#46039f"
             ],
             [
              0.2222222222222222,
              "#7201a8"
             ],
             [
              0.3333333333333333,
              "#9c179e"
             ],
             [
              0.4444444444444444,
              "#bd3786"
             ],
             [
              0.5555555555555556,
              "#d8576b"
             ],
             [
              0.6666666666666666,
              "#ed7953"
             ],
             [
              0.7777777777777778,
              "#fb9f3a"
             ],
             [
              0.8888888888888888,
              "#fdca26"
             ],
             [
              1,
              "#f0f921"
             ]
            ],
            "type": "heatmap"
           }
          ],
          "heatmapgl": [
           {
            "colorbar": {
             "outlinewidth": 0,
             "ticks": ""
            },
            "colorscale": [
             [
              0,
              "#0d0887"
             ],
             [
              0.1111111111111111,
              "#46039f"
             ],
             [
              0.2222222222222222,
              "#7201a8"
             ],
             [
              0.3333333333333333,
              "#9c179e"
             ],
             [
              0.4444444444444444,
              "#bd3786"
             ],
             [
              0.5555555555555556,
              "#d8576b"
             ],
             [
              0.6666666666666666,
              "#ed7953"
             ],
             [
              0.7777777777777778,
              "#fb9f3a"
             ],
             [
              0.8888888888888888,
              "#fdca26"
             ],
             [
              1,
              "#f0f921"
             ]
            ],
            "type": "heatmapgl"
           }
          ],
          "histogram": [
           {
            "marker": {
             "colorbar": {
              "outlinewidth": 0,
              "ticks": ""
             }
            },
            "type": "histogram"
           }
          ],
          "histogram2d": [
           {
            "colorbar": {
             "outlinewidth": 0,
             "ticks": ""
            },
            "colorscale": [
             [
              0,
              "#0d0887"
             ],
             [
              0.1111111111111111,
              "#46039f"
             ],
             [
              0.2222222222222222,
              "#7201a8"
             ],
             [
              0.3333333333333333,
              "#9c179e"
             ],
             [
              0.4444444444444444,
              "#bd3786"
             ],
             [
              0.5555555555555556,
              "#d8576b"
             ],
             [
              0.6666666666666666,
              "#ed7953"
             ],
             [
              0.7777777777777778,
              "#fb9f3a"
             ],
             [
              0.8888888888888888,
              "#fdca26"
             ],
             [
              1,
              "#f0f921"
             ]
            ],
            "type": "histogram2d"
           }
          ],
          "histogram2dcontour": [
           {
            "colorbar": {
             "outlinewidth": 0,
             "ticks": ""
            },
            "colorscale": [
             [
              0,
              "#0d0887"
             ],
             [
              0.1111111111111111,
              "#46039f"
             ],
             [
              0.2222222222222222,
              "#7201a8"
             ],
             [
              0.3333333333333333,
              "#9c179e"
             ],
             [
              0.4444444444444444,
              "#bd3786"
             ],
             [
              0.5555555555555556,
              "#d8576b"
             ],
             [
              0.6666666666666666,
              "#ed7953"
             ],
             [
              0.7777777777777778,
              "#fb9f3a"
             ],
             [
              0.8888888888888888,
              "#fdca26"
             ],
             [
              1,
              "#f0f921"
             ]
            ],
            "type": "histogram2dcontour"
           }
          ],
          "mesh3d": [
           {
            "colorbar": {
             "outlinewidth": 0,
             "ticks": ""
            },
            "type": "mesh3d"
           }
          ],
          "parcoords": [
           {
            "line": {
             "colorbar": {
              "outlinewidth": 0,
              "ticks": ""
             }
            },
            "type": "parcoords"
           }
          ],
          "pie": [
           {
            "automargin": true,
            "type": "pie"
           }
          ],
          "scatter": [
           {
            "marker": {
             "colorbar": {
              "outlinewidth": 0,
              "ticks": ""
             }
            },
            "type": "scatter"
           }
          ],
          "scatter3d": [
           {
            "line": {
             "colorbar": {
              "outlinewidth": 0,
              "ticks": ""
             }
            },
            "marker": {
             "colorbar": {
              "outlinewidth": 0,
              "ticks": ""
             }
            },
            "type": "scatter3d"
           }
          ],
          "scattercarpet": [
           {
            "marker": {
             "colorbar": {
              "outlinewidth": 0,
              "ticks": ""
             }
            },
            "type": "scattercarpet"
           }
          ],
          "scattergeo": [
           {
            "marker": {
             "colorbar": {
              "outlinewidth": 0,
              "ticks": ""
             }
            },
            "type": "scattergeo"
           }
          ],
          "scattergl": [
           {
            "marker": {
             "colorbar": {
              "outlinewidth": 0,
              "ticks": ""
             }
            },
            "type": "scattergl"
           }
          ],
          "scattermapbox": [
           {
            "marker": {
             "colorbar": {
              "outlinewidth": 0,
              "ticks": ""
             }
            },
            "type": "scattermapbox"
           }
          ],
          "scatterpolar": [
           {
            "marker": {
             "colorbar": {
              "outlinewidth": 0,
              "ticks": ""
             }
            },
            "type": "scatterpolar"
           }
          ],
          "scatterpolargl": [
           {
            "marker": {
             "colorbar": {
              "outlinewidth": 0,
              "ticks": ""
             }
            },
            "type": "scatterpolargl"
           }
          ],
          "scatterternary": [
           {
            "marker": {
             "colorbar": {
              "outlinewidth": 0,
              "ticks": ""
             }
            },
            "type": "scatterternary"
           }
          ],
          "surface": [
           {
            "colorbar": {
             "outlinewidth": 0,
             "ticks": ""
            },
            "colorscale": [
             [
              0,
              "#0d0887"
             ],
             [
              0.1111111111111111,
              "#46039f"
             ],
             [
              0.2222222222222222,
              "#7201a8"
             ],
             [
              0.3333333333333333,
              "#9c179e"
             ],
             [
              0.4444444444444444,
              "#bd3786"
             ],
             [
              0.5555555555555556,
              "#d8576b"
             ],
             [
              0.6666666666666666,
              "#ed7953"
             ],
             [
              0.7777777777777778,
              "#fb9f3a"
             ],
             [
              0.8888888888888888,
              "#fdca26"
             ],
             [
              1,
              "#f0f921"
             ]
            ],
            "type": "surface"
           }
          ],
          "table": [
           {
            "cells": {
             "fill": {
              "color": "#EBF0F8"
             },
             "line": {
              "color": "white"
             }
            },
            "header": {
             "fill": {
              "color": "#C8D4E3"
             },
             "line": {
              "color": "white"
             }
            },
            "type": "table"
           }
          ]
         },
         "layout": {
          "annotationdefaults": {
           "arrowcolor": "#2a3f5f",
           "arrowhead": 0,
           "arrowwidth": 1
          },
          "coloraxis": {
           "colorbar": {
            "outlinewidth": 0,
            "ticks": ""
           }
          },
          "colorscale": {
           "diverging": [
            [
             0,
             "#8e0152"
            ],
            [
             0.1,
             "#c51b7d"
            ],
            [
             0.2,
             "#de77ae"
            ],
            [
             0.3,
             "#f1b6da"
            ],
            [
             0.4,
             "#fde0ef"
            ],
            [
             0.5,
             "#f7f7f7"
            ],
            [
             0.6,
             "#e6f5d0"
            ],
            [
             0.7,
             "#b8e186"
            ],
            [
             0.8,
             "#7fbc41"
            ],
            [
             0.9,
             "#4d9221"
            ],
            [
             1,
             "#276419"
            ]
           ],
           "sequential": [
            [
             0,
             "#0d0887"
            ],
            [
             0.1111111111111111,
             "#46039f"
            ],
            [
             0.2222222222222222,
             "#7201a8"
            ],
            [
             0.3333333333333333,
             "#9c179e"
            ],
            [
             0.4444444444444444,
             "#bd3786"
            ],
            [
             0.5555555555555556,
             "#d8576b"
            ],
            [
             0.6666666666666666,
             "#ed7953"
            ],
            [
             0.7777777777777778,
             "#fb9f3a"
            ],
            [
             0.8888888888888888,
             "#fdca26"
            ],
            [
             1,
             "#f0f921"
            ]
           ],
           "sequentialminus": [
            [
             0,
             "#0d0887"
            ],
            [
             0.1111111111111111,
             "#46039f"
            ],
            [
             0.2222222222222222,
             "#7201a8"
            ],
            [
             0.3333333333333333,
             "#9c179e"
            ],
            [
             0.4444444444444444,
             "#bd3786"
            ],
            [
             0.5555555555555556,
             "#d8576b"
            ],
            [
             0.6666666666666666,
             "#ed7953"
            ],
            [
             0.7777777777777778,
             "#fb9f3a"
            ],
            [
             0.8888888888888888,
             "#fdca26"
            ],
            [
             1,
             "#f0f921"
            ]
           ]
          },
          "colorway": [
           "#636efa",
           "#EF553B",
           "#00cc96",
           "#ab63fa",
           "#FFA15A",
           "#19d3f3",
           "#FF6692",
           "#B6E880",
           "#FF97FF",
           "#FECB52"
          ],
          "font": {
           "color": "#2a3f5f"
          },
          "geo": {
           "bgcolor": "white",
           "lakecolor": "white",
           "landcolor": "#E5ECF6",
           "showlakes": true,
           "showland": true,
           "subunitcolor": "white"
          },
          "hoverlabel": {
           "align": "left"
          },
          "hovermode": "closest",
          "mapbox": {
           "style": "light"
          },
          "paper_bgcolor": "white",
          "plot_bgcolor": "#E5ECF6",
          "polar": {
           "angularaxis": {
            "gridcolor": "white",
            "linecolor": "white",
            "ticks": ""
           },
           "bgcolor": "#E5ECF6",
           "radialaxis": {
            "gridcolor": "white",
            "linecolor": "white",
            "ticks": ""
           }
          },
          "scene": {
           "xaxis": {
            "backgroundcolor": "#E5ECF6",
            "gridcolor": "white",
            "gridwidth": 2,
            "linecolor": "white",
            "showbackground": true,
            "ticks": "",
            "zerolinecolor": "white"
           },
           "yaxis": {
            "backgroundcolor": "#E5ECF6",
            "gridcolor": "white",
            "gridwidth": 2,
            "linecolor": "white",
            "showbackground": true,
            "ticks": "",
            "zerolinecolor": "white"
           },
           "zaxis": {
            "backgroundcolor": "#E5ECF6",
            "gridcolor": "white",
            "gridwidth": 2,
            "linecolor": "white",
            "showbackground": true,
            "ticks": "",
            "zerolinecolor": "white"
           }
          },
          "shapedefaults": {
           "line": {
            "color": "#2a3f5f"
           }
          },
          "ternary": {
           "aaxis": {
            "gridcolor": "white",
            "linecolor": "white",
            "ticks": ""
           },
           "baxis": {
            "gridcolor": "white",
            "linecolor": "white",
            "ticks": ""
           },
           "bgcolor": "#E5ECF6",
           "caxis": {
            "gridcolor": "white",
            "linecolor": "white",
            "ticks": ""
           }
          },
          "title": {
           "x": 0.05
          },
          "xaxis": {
           "automargin": true,
           "gridcolor": "white",
           "linecolor": "white",
           "ticks": "",
           "title": {
            "standoff": 15
           },
           "zerolinecolor": "white",
           "zerolinewidth": 2
          },
          "yaxis": {
           "automargin": true,
           "gridcolor": "white",
           "linecolor": "white",
           "ticks": "",
           "title": {
            "standoff": 15
           },
           "zerolinecolor": "white",
           "zerolinewidth": 2
          }
         }
        },
        "title": {
         "text": "날짜별 한식"
        }
       }
      },
      "text/html": [
       "<div>                            <div id=\"e2c1e7bb-1a9b-4f0c-8434-7d0db8d9461b\" class=\"plotly-graph-div\" style=\"height:525px; width:100%;\"></div>            <script type=\"text/javascript\">                require([\"plotly\"], function(Plotly) {                    window.PLOTLYENV=window.PLOTLYENV || {};                                    if (document.getElementById(\"e2c1e7bb-1a9b-4f0c-8434-7d0db8d9461b\")) {                    Plotly.newPlot(                        \"e2c1e7bb-1a9b-4f0c-8434-7d0db8d9461b\",                        [{\"type\": \"bar\", \"x\": [\"2020-01-01T00:00:00\", \"2020-01-02T00:00:00\", \"2020-01-03T00:00:00\", \"2020-01-04T00:00:00\", \"2020-01-05T00:00:00\", \"2020-01-06T00:00:00\", \"2020-01-07T00:00:00\", \"2020-01-08T00:00:00\", \"2020-01-09T00:00:00\", \"2020-01-10T00:00:00\", \"2020-01-11T00:00:00\", \"2020-01-12T00:00:00\", \"2020-01-13T00:00:00\", \"2020-01-14T00:00:00\", \"2020-01-15T00:00:00\", \"2020-01-16T00:00:00\", \"2020-01-17T00:00:00\", \"2020-01-18T00:00:00\", \"2020-01-19T00:00:00\", \"2020-01-20T00:00:00\", \"2020-01-21T00:00:00\", \"2020-01-22T00:00:00\", \"2020-01-23T00:00:00\", \"2020-01-24T00:00:00\", \"2020-01-25T00:00:00\", \"2020-01-26T00:00:00\", \"2020-01-27T00:00:00\", \"2020-01-28T00:00:00\", \"2020-01-29T00:00:00\", \"2020-01-30T00:00:00\", \"2020-01-31T00:00:00\", \"2020-02-01T00:00:00\", \"2020-02-02T00:00:00\", \"2020-02-03T00:00:00\", \"2020-02-04T00:00:00\", \"2020-02-05T00:00:00\", \"2020-02-06T00:00:00\", \"2020-02-07T00:00:00\", \"2020-02-08T00:00:00\", \"2020-02-09T00:00:00\", \"2020-02-10T00:00:00\", \"2020-02-11T00:00:00\", \"2020-02-12T00:00:00\", \"2020-02-13T00:00:00\", \"2020-02-14T00:00:00\", \"2020-02-15T00:00:00\", \"2020-02-16T00:00:00\", \"2020-02-17T00:00:00\", \"2020-02-18T00:00:00\", \"2020-02-19T00:00:00\", \"2020-02-20T00:00:00\", \"2020-02-21T00:00:00\", \"2020-02-22T00:00:00\", \"2020-02-23T00:00:00\", \"2020-02-24T00:00:00\", \"2020-02-25T00:00:00\", \"2020-02-26T00:00:00\", \"2020-02-27T00:00:00\", \"2020-02-28T00:00:00\", \"2020-02-29T00:00:00\", \"2020-03-01T00:00:00\", \"2020-03-02T00:00:00\", \"2020-03-03T00:00:00\", \"2020-03-04T00:00:00\", \"2020-03-05T00:00:00\", \"2020-03-06T00:00:00\", \"2020-03-07T00:00:00\", \"2020-03-08T00:00:00\", \"2020-03-09T00:00:00\", \"2020-03-10T00:00:00\", \"2020-03-11T00:00:00\", \"2020-03-12T00:00:00\", \"2020-03-13T00:00:00\", \"2020-03-14T00:00:00\", \"2020-03-15T00:00:00\", \"2020-03-16T00:00:00\", \"2020-03-17T00:00:00\", \"2020-03-18T00:00:00\", \"2020-03-19T00:00:00\", \"2020-03-20T00:00:00\", \"2020-03-21T00:00:00\", \"2020-03-22T00:00:00\", \"2020-03-23T00:00:00\", \"2020-03-24T00:00:00\", \"2020-03-25T00:00:00\", \"2020-03-26T00:00:00\", \"2020-03-27T00:00:00\", \"2020-03-28T00:00:00\", \"2020-03-29T00:00:00\", \"2020-03-30T00:00:00\", \"2020-03-31T00:00:00\", \"2020-04-01T00:00:00\", \"2020-04-02T00:00:00\", \"2020-04-03T00:00:00\", \"2020-04-04T00:00:00\", \"2020-04-05T00:00:00\", \"2020-04-06T00:00:00\", \"2020-04-07T00:00:00\", \"2020-04-08T00:00:00\", \"2020-04-09T00:00:00\", \"2020-04-10T00:00:00\", \"2020-04-11T00:00:00\", \"2020-04-12T00:00:00\", \"2020-04-13T00:00:00\", \"2020-04-14T00:00:00\", \"2020-04-15T00:00:00\", \"2020-04-16T00:00:00\", \"2020-04-17T00:00:00\", \"2020-04-18T00:00:00\", \"2020-04-19T00:00:00\", \"2020-04-20T00:00:00\", \"2020-04-21T00:00:00\", \"2020-04-22T00:00:00\", \"2020-04-23T00:00:00\", \"2020-04-24T00:00:00\", \"2020-04-25T00:00:00\", \"2020-04-26T00:00:00\", \"2020-04-27T00:00:00\", \"2020-04-28T00:00:00\", \"2020-04-29T00:00:00\", \"2020-04-30T00:00:00\", \"2020-05-01T00:00:00\", \"2020-05-02T00:00:00\", \"2020-05-03T00:00:00\", \"2020-05-04T00:00:00\", \"2020-05-05T00:00:00\", \"2020-05-06T00:00:00\", \"2020-05-07T00:00:00\", \"2020-05-08T00:00:00\", \"2020-05-09T00:00:00\", \"2020-05-10T00:00:00\", \"2020-05-11T00:00:00\", \"2020-05-12T00:00:00\", \"2020-05-13T00:00:00\", \"2020-05-14T00:00:00\", \"2020-05-15T00:00:00\", \"2020-05-16T00:00:00\", \"2020-05-17T00:00:00\", \"2020-05-19T00:00:00\", \"2020-05-20T00:00:00\", \"2020-05-21T00:00:00\", \"2020-05-22T00:00:00\", \"2020-05-23T00:00:00\", \"2020-05-24T00:00:00\", \"2020-05-25T00:00:00\", \"2020-05-26T00:00:00\", \"2020-05-27T00:00:00\", \"2020-05-28T00:00:00\", \"2020-05-29T00:00:00\", \"2020-05-30T00:00:00\", \"2020-05-31T00:00:00\", \"2020-06-01T00:00:00\", \"2020-06-02T00:00:00\", \"2020-06-03T00:00:00\", \"2020-06-04T00:00:00\", \"2020-06-05T00:00:00\", \"2020-06-06T00:00:00\", \"2020-06-07T00:00:00\", \"2020-06-08T00:00:00\", \"2020-06-09T00:00:00\", \"2020-06-10T00:00:00\", \"2020-06-11T00:00:00\", \"2020-06-12T00:00:00\", \"2020-06-20T00:00:00\", \"2020-06-21T00:00:00\"], \"y\": [4002, 3001, 3228, 3705, 4008, 6604, 3540, 3090, 3033, 3347, 4058, 4446, 3148, 3284, 3196, 3111, 3211, 3669, 4299, 3037, 3150, 3078, 3367, 2634, 1542, 2803, 3667, 3095, 2952, 3165, 3254, 4136, 4462, 3310, 3340, 3645, 3778, 3560, 4038, 4418, 3329, 3291, 3682, 3368, 3442, 4058, 4669, 3345, 3398, 3435, 3459, 3883, 4542, 4588, 3211, 3808, 3360, 3414, 3929, 4191, 4481, 3193, 3668, 3386, 3282, 3613, 3985, 4335, 3090, 3788, 3510, 3524, 3761, 4304, 4455, 3196, 3365, 3257, 3558, 3494, 4049, 4474, 3013, 3251, 3253, 3415, 3351, 4003, 4259, 3024, 3149, 3456, 3375, 3690, 4411, 4466, 3388, 3443, 3355, 3269, 3549, 4138, 4511, 3432, 3567, 4235, 3395, 4259, 4232, 5231, 3690, 3788, 3893, 3563, 3982, 4634, 5088, 3520, 3640, 4014, 4626, 3862, 4661, 5045, 4313, 5105, 3815, 3965, 4624, 5323, 5237, 3816, 3839, 4225, 4073, 5170, 5226, 5637, 4353, 4099, 4300, 4739, 5317, 5855, 4201, 4610, 4220, 4323, 4782, 5837, 6143, 4190, 4418, 4299, 4549, 4981, 6164, 6270, 4727, 5119, 5188, 4886, 5052, 5999, 6872]}],                        {\"template\": {\"data\": {\"bar\": [{\"error_x\": {\"color\": \"#2a3f5f\"}, \"error_y\": {\"color\": \"#2a3f5f\"}, \"marker\": {\"line\": {\"color\": \"#E5ECF6\", \"width\": 0.5}}, \"type\": \"bar\"}], \"barpolar\": [{\"marker\": {\"line\": {\"color\": \"#E5ECF6\", \"width\": 0.5}}, \"type\": \"barpolar\"}], \"carpet\": [{\"aaxis\": {\"endlinecolor\": \"#2a3f5f\", \"gridcolor\": \"white\", \"linecolor\": \"white\", \"minorgridcolor\": \"white\", \"startlinecolor\": \"#2a3f5f\"}, \"baxis\": {\"endlinecolor\": \"#2a3f5f\", \"gridcolor\": \"white\", \"linecolor\": \"white\", \"minorgridcolor\": \"white\", \"startlinecolor\": \"#2a3f5f\"}, \"type\": \"carpet\"}], \"choropleth\": [{\"colorbar\": {\"outlinewidth\": 0, \"ticks\": \"\"}, \"type\": \"choropleth\"}], \"contour\": [{\"colorbar\": {\"outlinewidth\": 0, \"ticks\": \"\"}, \"colorscale\": [[0.0, \"#0d0887\"], [0.1111111111111111, \"#46039f\"], [0.2222222222222222, \"#7201a8\"], [0.3333333333333333, \"#9c179e\"], [0.4444444444444444, \"#bd3786\"], [0.5555555555555556, \"#d8576b\"], [0.6666666666666666, \"#ed7953\"], [0.7777777777777778, \"#fb9f3a\"], [0.8888888888888888, \"#fdca26\"], [1.0, \"#f0f921\"]], \"type\": \"contour\"}], \"contourcarpet\": [{\"colorbar\": {\"outlinewidth\": 0, \"ticks\": \"\"}, \"type\": \"contourcarpet\"}], \"heatmap\": [{\"colorbar\": {\"outlinewidth\": 0, \"ticks\": \"\"}, \"colorscale\": [[0.0, \"#0d0887\"], [0.1111111111111111, \"#46039f\"], [0.2222222222222222, \"#7201a8\"], [0.3333333333333333, \"#9c179e\"], [0.4444444444444444, \"#bd3786\"], [0.5555555555555556, \"#d8576b\"], [0.6666666666666666, \"#ed7953\"], [0.7777777777777778, \"#fb9f3a\"], [0.8888888888888888, \"#fdca26\"], [1.0, \"#f0f921\"]], \"type\": \"heatmap\"}], \"heatmapgl\": [{\"colorbar\": {\"outlinewidth\": 0, \"ticks\": \"\"}, \"colorscale\": [[0.0, \"#0d0887\"], [0.1111111111111111, \"#46039f\"], [0.2222222222222222, \"#7201a8\"], [0.3333333333333333, \"#9c179e\"], [0.4444444444444444, \"#bd3786\"], [0.5555555555555556, \"#d8576b\"], [0.6666666666666666, \"#ed7953\"], [0.7777777777777778, \"#fb9f3a\"], [0.8888888888888888, \"#fdca26\"], [1.0, \"#f0f921\"]], \"type\": \"heatmapgl\"}], \"histogram\": [{\"marker\": {\"colorbar\": {\"outlinewidth\": 0, \"ticks\": \"\"}}, \"type\": \"histogram\"}], \"histogram2d\": [{\"colorbar\": {\"outlinewidth\": 0, \"ticks\": \"\"}, \"colorscale\": [[0.0, \"#0d0887\"], [0.1111111111111111, \"#46039f\"], [0.2222222222222222, \"#7201a8\"], [0.3333333333333333, \"#9c179e\"], [0.4444444444444444, \"#bd3786\"], [0.5555555555555556, \"#d8576b\"], [0.6666666666666666, \"#ed7953\"], [0.7777777777777778, \"#fb9f3a\"], [0.8888888888888888, \"#fdca26\"], [1.0, \"#f0f921\"]], \"type\": \"histogram2d\"}], \"histogram2dcontour\": [{\"colorbar\": {\"outlinewidth\": 0, \"ticks\": \"\"}, \"colorscale\": [[0.0, \"#0d0887\"], [0.1111111111111111, \"#46039f\"], [0.2222222222222222, \"#7201a8\"], [0.3333333333333333, \"#9c179e\"], [0.4444444444444444, \"#bd3786\"], [0.5555555555555556, \"#d8576b\"], [0.6666666666666666, \"#ed7953\"], [0.7777777777777778, \"#fb9f3a\"], [0.8888888888888888, \"#fdca26\"], [1.0, \"#f0f921\"]], \"type\": \"histogram2dcontour\"}], \"mesh3d\": [{\"colorbar\": {\"outlinewidth\": 0, \"ticks\": \"\"}, \"type\": \"mesh3d\"}], \"parcoords\": [{\"line\": {\"colorbar\": {\"outlinewidth\": 0, \"ticks\": \"\"}}, \"type\": \"parcoords\"}], \"pie\": [{\"automargin\": true, \"type\": \"pie\"}], \"scatter\": [{\"marker\": {\"colorbar\": {\"outlinewidth\": 0, \"ticks\": \"\"}}, \"type\": \"scatter\"}], \"scatter3d\": [{\"line\": {\"colorbar\": {\"outlinewidth\": 0, \"ticks\": \"\"}}, \"marker\": {\"colorbar\": {\"outlinewidth\": 0, \"ticks\": \"\"}}, \"type\": \"scatter3d\"}], \"scattercarpet\": [{\"marker\": {\"colorbar\": {\"outlinewidth\": 0, \"ticks\": \"\"}}, \"type\": \"scattercarpet\"}], \"scattergeo\": [{\"marker\": {\"colorbar\": {\"outlinewidth\": 0, \"ticks\": \"\"}}, \"type\": \"scattergeo\"}], \"scattergl\": [{\"marker\": {\"colorbar\": {\"outlinewidth\": 0, \"ticks\": \"\"}}, \"type\": \"scattergl\"}], \"scattermapbox\": [{\"marker\": {\"colorbar\": {\"outlinewidth\": 0, \"ticks\": \"\"}}, \"type\": \"scattermapbox\"}], \"scatterpolar\": [{\"marker\": {\"colorbar\": {\"outlinewidth\": 0, \"ticks\": \"\"}}, \"type\": \"scatterpolar\"}], \"scatterpolargl\": [{\"marker\": {\"colorbar\": {\"outlinewidth\": 0, \"ticks\": \"\"}}, \"type\": \"scatterpolargl\"}], \"scatterternary\": [{\"marker\": {\"colorbar\": {\"outlinewidth\": 0, \"ticks\": \"\"}}, \"type\": \"scatterternary\"}], \"surface\": [{\"colorbar\": {\"outlinewidth\": 0, \"ticks\": \"\"}, \"colorscale\": [[0.0, \"#0d0887\"], [0.1111111111111111, \"#46039f\"], [0.2222222222222222, \"#7201a8\"], [0.3333333333333333, \"#9c179e\"], [0.4444444444444444, \"#bd3786\"], [0.5555555555555556, \"#d8576b\"], [0.6666666666666666, \"#ed7953\"], [0.7777777777777778, \"#fb9f3a\"], [0.8888888888888888, \"#fdca26\"], [1.0, \"#f0f921\"]], \"type\": \"surface\"}], \"table\": [{\"cells\": {\"fill\": {\"color\": \"#EBF0F8\"}, \"line\": {\"color\": \"white\"}}, \"header\": {\"fill\": {\"color\": \"#C8D4E3\"}, \"line\": {\"color\": \"white\"}}, \"type\": \"table\"}]}, \"layout\": {\"annotationdefaults\": {\"arrowcolor\": \"#2a3f5f\", \"arrowhead\": 0, \"arrowwidth\": 1}, \"coloraxis\": {\"colorbar\": {\"outlinewidth\": 0, \"ticks\": \"\"}}, \"colorscale\": {\"diverging\": [[0, \"#8e0152\"], [0.1, \"#c51b7d\"], [0.2, \"#de77ae\"], [0.3, \"#f1b6da\"], [0.4, \"#fde0ef\"], [0.5, \"#f7f7f7\"], [0.6, \"#e6f5d0\"], [0.7, \"#b8e186\"], [0.8, \"#7fbc41\"], [0.9, \"#4d9221\"], [1, \"#276419\"]], \"sequential\": [[0.0, \"#0d0887\"], [0.1111111111111111, \"#46039f\"], [0.2222222222222222, \"#7201a8\"], [0.3333333333333333, \"#9c179e\"], [0.4444444444444444, \"#bd3786\"], [0.5555555555555556, \"#d8576b\"], [0.6666666666666666, \"#ed7953\"], [0.7777777777777778, \"#fb9f3a\"], [0.8888888888888888, \"#fdca26\"], [1.0, \"#f0f921\"]], \"sequentialminus\": [[0.0, \"#0d0887\"], [0.1111111111111111, \"#46039f\"], [0.2222222222222222, \"#7201a8\"], [0.3333333333333333, \"#9c179e\"], [0.4444444444444444, \"#bd3786\"], [0.5555555555555556, \"#d8576b\"], [0.6666666666666666, \"#ed7953\"], [0.7777777777777778, \"#fb9f3a\"], [0.8888888888888888, \"#fdca26\"], [1.0, \"#f0f921\"]]}, \"colorway\": [\"#636efa\", \"#EF553B\", \"#00cc96\", \"#ab63fa\", \"#FFA15A\", \"#19d3f3\", \"#FF6692\", \"#B6E880\", \"#FF97FF\", \"#FECB52\"], \"font\": {\"color\": \"#2a3f5f\"}, \"geo\": {\"bgcolor\": \"white\", \"lakecolor\": \"white\", \"landcolor\": \"#E5ECF6\", \"showlakes\": true, \"showland\": true, \"subunitcolor\": \"white\"}, \"hoverlabel\": {\"align\": \"left\"}, \"hovermode\": \"closest\", \"mapbox\": {\"style\": \"light\"}, \"paper_bgcolor\": \"white\", \"plot_bgcolor\": \"#E5ECF6\", \"polar\": {\"angularaxis\": {\"gridcolor\": \"white\", \"linecolor\": \"white\", \"ticks\": \"\"}, \"bgcolor\": \"#E5ECF6\", \"radialaxis\": {\"gridcolor\": \"white\", \"linecolor\": \"white\", \"ticks\": \"\"}}, \"scene\": {\"xaxis\": {\"backgroundcolor\": \"#E5ECF6\", \"gridcolor\": \"white\", \"gridwidth\": 2, \"linecolor\": \"white\", \"showbackground\": true, \"ticks\": \"\", \"zerolinecolor\": \"white\"}, \"yaxis\": {\"backgroundcolor\": \"#E5ECF6\", \"gridcolor\": \"white\", \"gridwidth\": 2, \"linecolor\": \"white\", \"showbackground\": true, \"ticks\": \"\", \"zerolinecolor\": \"white\"}, \"zaxis\": {\"backgroundcolor\": \"#E5ECF6\", \"gridcolor\": \"white\", \"gridwidth\": 2, \"linecolor\": \"white\", \"showbackground\": true, \"ticks\": \"\", \"zerolinecolor\": \"white\"}}, \"shapedefaults\": {\"line\": {\"color\": \"#2a3f5f\"}}, \"ternary\": {\"aaxis\": {\"gridcolor\": \"white\", \"linecolor\": \"white\", \"ticks\": \"\"}, \"baxis\": {\"gridcolor\": \"white\", \"linecolor\": \"white\", \"ticks\": \"\"}, \"bgcolor\": \"#E5ECF6\", \"caxis\": {\"gridcolor\": \"white\", \"linecolor\": \"white\", \"ticks\": \"\"}}, \"title\": {\"x\": 0.05}, \"xaxis\": {\"automargin\": true, \"gridcolor\": \"white\", \"linecolor\": \"white\", \"ticks\": \"\", \"title\": {\"standoff\": 15}, \"zerolinecolor\": \"white\", \"zerolinewidth\": 2}, \"yaxis\": {\"automargin\": true, \"gridcolor\": \"white\", \"linecolor\": \"white\", \"ticks\": \"\", \"title\": {\"standoff\": 15}, \"zerolinecolor\": \"white\", \"zerolinewidth\": 2}}}, \"title\": {\"text\": \"\\ub0a0\\uc9dc\\ubcc4 \\ud55c\\uc2dd\"}},                        {\"responsive\": true}                    ).then(function(){\n",
       "                            \n",
       "var gd = document.getElementById('e2c1e7bb-1a9b-4f0c-8434-7d0db8d9461b');\n",
       "var x = new MutationObserver(function (mutations, observer) {{\n",
       "        var display = window.getComputedStyle(gd).display;\n",
       "        if (!display || display === 'none') {{\n",
       "            console.log([gd, 'removed!']);\n",
       "            Plotly.purge(gd);\n",
       "            observer.disconnect();\n",
       "        }}\n",
       "}});\n",
       "\n",
       "// Listen for the removal of the full notebook cells\n",
       "var notebookContainer = gd.closest('#notebook-container');\n",
       "if (notebookContainer) {{\n",
       "    x.observe(notebookContainer, {childList: true});\n",
       "}}\n",
       "\n",
       "// Listen for the clearing of the current output cell\n",
       "var outputEl = gd.closest('.output');\n",
       "if (outputEl) {{\n",
       "    x.observe(outputEl, {childList: true});\n",
       "}}\n",
       "\n",
       "                        })                };                });            </script>        </div>"
      ]
     },
     "metadata": {},
     "output_type": "display_data"
    }
   ],
   "source": [
    "# 막대 그래프 그리기\n",
    "trace1 = go.Bar(x=kkk11['PROCESS_DT'], y=kkk11['koreaf'])\n",
    "data = [trace1]\n",
    "layout = go.Layout(title='날짜별 한식빈도')\n",
    "fig = go.Figure(data=data, layout=layout)\n",
    "pyo.iplot(fig)"
   ]
  },
  {
   "cell_type": "code",
   "execution_count": 79,
   "metadata": {},
   "outputs": [],
   "source": [
    "# 치킨만 뽑아냄\n",
    "kkkk = del_dstn['induty_nm'] == '치킨'\n",
    "kkk2 = del_dstn[kkkk]"
   ]
  },
  {
   "cell_type": "code",
   "execution_count": 80,
   "metadata": {},
   "outputs": [],
   "source": [
    "# 그룹1에서 많이시키는 빈도\n",
    "kkk2 = kkk2.groupby(['PROCESS_DT']).size().reset_index(name='count')"
   ]
  },
  {
   "cell_type": "code",
   "execution_count": 81,
   "metadata": {},
   "outputs": [],
   "source": [
    "# 열이름 간단하게 변경\n",
    "kkk2 = kkk2.rename({'count':'chik'}, axis = 'columns')"
   ]
  },
  {
   "cell_type": "code",
   "execution_count": 82,
   "metadata": {},
   "outputs": [
    {
     "data": {
      "application/vnd.plotly.v1+json": {
       "config": {
        "linkText": "Export to plot.ly",
        "plotlyServerURL": "https://plot.ly",
        "showLink": false
       },
       "data": [
        {
         "type": "bar",
         "x": [
          "2020-01-01T00:00:00",
          "2020-01-02T00:00:00",
          "2020-01-03T00:00:00",
          "2020-01-04T00:00:00",
          "2020-01-05T00:00:00",
          "2020-01-06T00:00:00",
          "2020-01-07T00:00:00",
          "2020-01-08T00:00:00",
          "2020-01-09T00:00:00",
          "2020-01-10T00:00:00",
          "2020-01-11T00:00:00",
          "2020-01-12T00:00:00",
          "2020-01-13T00:00:00",
          "2020-01-14T00:00:00",
          "2020-01-15T00:00:00",
          "2020-01-16T00:00:00",
          "2020-01-17T00:00:00",
          "2020-01-18T00:00:00",
          "2020-01-19T00:00:00",
          "2020-01-20T00:00:00",
          "2020-01-21T00:00:00",
          "2020-01-22T00:00:00",
          "2020-01-23T00:00:00",
          "2020-01-24T00:00:00",
          "2020-01-25T00:00:00",
          "2020-01-26T00:00:00",
          "2020-01-27T00:00:00",
          "2020-01-28T00:00:00",
          "2020-01-29T00:00:00",
          "2020-01-30T00:00:00",
          "2020-01-31T00:00:00",
          "2020-02-01T00:00:00",
          "2020-02-02T00:00:00",
          "2020-02-03T00:00:00",
          "2020-02-04T00:00:00",
          "2020-02-05T00:00:00",
          "2020-02-06T00:00:00",
          "2020-02-07T00:00:00",
          "2020-02-08T00:00:00",
          "2020-02-09T00:00:00",
          "2020-02-10T00:00:00",
          "2020-02-11T00:00:00",
          "2020-02-12T00:00:00",
          "2020-02-13T00:00:00",
          "2020-02-14T00:00:00",
          "2020-02-15T00:00:00",
          "2020-02-16T00:00:00",
          "2020-02-17T00:00:00",
          "2020-02-18T00:00:00",
          "2020-02-19T00:00:00",
          "2020-02-20T00:00:00",
          "2020-02-21T00:00:00",
          "2020-02-22T00:00:00",
          "2020-02-23T00:00:00",
          "2020-02-24T00:00:00",
          "2020-02-25T00:00:00",
          "2020-02-26T00:00:00",
          "2020-02-27T00:00:00",
          "2020-02-28T00:00:00",
          "2020-02-29T00:00:00",
          "2020-03-01T00:00:00",
          "2020-03-02T00:00:00",
          "2020-03-03T00:00:00",
          "2020-03-04T00:00:00",
          "2020-03-05T00:00:00",
          "2020-03-06T00:00:00",
          "2020-03-07T00:00:00",
          "2020-03-08T00:00:00",
          "2020-03-09T00:00:00",
          "2020-03-10T00:00:00",
          "2020-03-11T00:00:00",
          "2020-03-12T00:00:00",
          "2020-03-13T00:00:00",
          "2020-03-14T00:00:00",
          "2020-03-15T00:00:00",
          "2020-03-16T00:00:00",
          "2020-03-17T00:00:00",
          "2020-03-18T00:00:00",
          "2020-03-19T00:00:00",
          "2020-03-20T00:00:00",
          "2020-03-21T00:00:00",
          "2020-03-22T00:00:00",
          "2020-03-23T00:00:00",
          "2020-03-24T00:00:00",
          "2020-03-25T00:00:00",
          "2020-03-26T00:00:00",
          "2020-03-27T00:00:00",
          "2020-03-28T00:00:00",
          "2020-03-29T00:00:00",
          "2020-03-30T00:00:00",
          "2020-03-31T00:00:00",
          "2020-04-01T00:00:00",
          "2020-04-02T00:00:00",
          "2020-04-03T00:00:00",
          "2020-04-04T00:00:00",
          "2020-04-05T00:00:00",
          "2020-04-06T00:00:00",
          "2020-04-07T00:00:00",
          "2020-04-08T00:00:00",
          "2020-04-09T00:00:00",
          "2020-04-10T00:00:00",
          "2020-04-11T00:00:00",
          "2020-04-12T00:00:00",
          "2020-04-13T00:00:00",
          "2020-04-14T00:00:00",
          "2020-04-15T00:00:00",
          "2020-04-16T00:00:00",
          "2020-04-17T00:00:00",
          "2020-04-18T00:00:00",
          "2020-04-19T00:00:00",
          "2020-04-20T00:00:00",
          "2020-04-21T00:00:00",
          "2020-04-22T00:00:00",
          "2020-04-23T00:00:00",
          "2020-04-24T00:00:00",
          "2020-04-25T00:00:00",
          "2020-04-26T00:00:00",
          "2020-04-27T00:00:00",
          "2020-04-28T00:00:00",
          "2020-04-29T00:00:00",
          "2020-04-30T00:00:00",
          "2020-05-01T00:00:00",
          "2020-05-02T00:00:00",
          "2020-05-03T00:00:00",
          "2020-05-04T00:00:00",
          "2020-05-05T00:00:00",
          "2020-05-06T00:00:00",
          "2020-05-07T00:00:00",
          "2020-05-08T00:00:00",
          "2020-05-09T00:00:00",
          "2020-05-10T00:00:00",
          "2020-05-11T00:00:00",
          "2020-05-12T00:00:00",
          "2020-05-13T00:00:00",
          "2020-05-14T00:00:00",
          "2020-05-15T00:00:00",
          "2020-05-16T00:00:00",
          "2020-05-17T00:00:00",
          "2020-05-19T00:00:00",
          "2020-05-20T00:00:00",
          "2020-05-21T00:00:00",
          "2020-05-22T00:00:00",
          "2020-05-23T00:00:00",
          "2020-05-24T00:00:00",
          "2020-05-25T00:00:00",
          "2020-05-26T00:00:00",
          "2020-05-27T00:00:00",
          "2020-05-28T00:00:00",
          "2020-05-29T00:00:00",
          "2020-05-30T00:00:00",
          "2020-05-31T00:00:00",
          "2020-06-01T00:00:00",
          "2020-06-02T00:00:00",
          "2020-06-03T00:00:00",
          "2020-06-04T00:00:00",
          "2020-06-05T00:00:00",
          "2020-06-06T00:00:00",
          "2020-06-07T00:00:00",
          "2020-06-08T00:00:00",
          "2020-06-09T00:00:00",
          "2020-06-10T00:00:00",
          "2020-06-11T00:00:00",
          "2020-06-12T00:00:00",
          "2020-06-20T00:00:00",
          "2020-06-21T00:00:00"
         ],
         "y": [
          7061,
          4776,
          6350,
          6954,
          6820,
          10066,
          6387,
          5324,
          5541,
          7076,
          7511,
          7393,
          4783,
          5024,
          5630,
          5692,
          6836,
          7161,
          6802,
          4669,
          4846,
          5929,
          6572,
          5021,
          4323,
          6598,
          7352,
          4592,
          5196,
          5292,
          8233,
          8452,
          7950,
          5681,
          6339,
          7062,
          7132,
          7493,
          8487,
          8225,
          5711,
          5047,
          6458,
          5598,
          6732,
          7859,
          7628,
          4965,
          5256,
          5460,
          5861,
          7989,
          8641,
          7699,
          5802,
          6615,
          6300,
          6694,
          8929,
          8816,
          9113,
          5826,
          5936,
          6712,
          6721,
          8190,
          8602,
          7775,
          5711,
          6669,
          6378,
          6677,
          8242,
          8745,
          7935,
          5566,
          6014,
          6031,
          6641,
          7754,
          8064,
          7741,
          5591,
          5747,
          6345,
          6617,
          7751,
          8005,
          7744,
          5560,
          5940,
          7039,
          6526,
          8267,
          9375,
          8424,
          5980,
          5904,
          6466,
          6338,
          8370,
          9396,
          9182,
          5638,
          7280,
          8540,
          5912,
          8516,
          8650,
          9784,
          6623,
          6626,
          6837,
          6278,
          8199,
          9355,
          8689,
          5931,
          5937,
          7415,
          8009,
          5533,
          8357,
          8111,
          7079,
          9483,
          5293,
          5829,
          9603,
          9978,
          8402,
          6125,
          6464,
          6614,
          6622,
          10153,
          9216,
          8535,
          6506,
          6361,
          6707,
          8186,
          9424,
          9262,
          6259,
          6930,
          6336,
          6645,
          8556,
          9309,
          8923,
          5870,
          6350,
          6074,
          6281,
          9034,
          9942,
          8868,
          6024,
          6211,
          8201,
          6835,
          9019,
          9803,
          9405
         ]
        }
       ],
       "layout": {
        "template": {
         "data": {
          "bar": [
           {
            "error_x": {
             "color": "#2a3f5f"
            },
            "error_y": {
             "color": "#2a3f5f"
            },
            "marker": {
             "line": {
              "color": "#E5ECF6",
              "width": 0.5
             }
            },
            "type": "bar"
           }
          ],
          "barpolar": [
           {
            "marker": {
             "line": {
              "color": "#E5ECF6",
              "width": 0.5
             }
            },
            "type": "barpolar"
           }
          ],
          "carpet": [
           {
            "aaxis": {
             "endlinecolor": "#2a3f5f",
             "gridcolor": "white",
             "linecolor": "white",
             "minorgridcolor": "white",
             "startlinecolor": "#2a3f5f"
            },
            "baxis": {
             "endlinecolor": "#2a3f5f",
             "gridcolor": "white",
             "linecolor": "white",
             "minorgridcolor": "white",
             "startlinecolor": "#2a3f5f"
            },
            "type": "carpet"
           }
          ],
          "choropleth": [
           {
            "colorbar": {
             "outlinewidth": 0,
             "ticks": ""
            },
            "type": "choropleth"
           }
          ],
          "contour": [
           {
            "colorbar": {
             "outlinewidth": 0,
             "ticks": ""
            },
            "colorscale": [
             [
              0,
              "#0d0887"
             ],
             [
              0.1111111111111111,
              "#46039f"
             ],
             [
              0.2222222222222222,
              "#7201a8"
             ],
             [
              0.3333333333333333,
              "#9c179e"
             ],
             [
              0.4444444444444444,
              "#bd3786"
             ],
             [
              0.5555555555555556,
              "#d8576b"
             ],
             [
              0.6666666666666666,
              "#ed7953"
             ],
             [
              0.7777777777777778,
              "#fb9f3a"
             ],
             [
              0.8888888888888888,
              "#fdca26"
             ],
             [
              1,
              "#f0f921"
             ]
            ],
            "type": "contour"
           }
          ],
          "contourcarpet": [
           {
            "colorbar": {
             "outlinewidth": 0,
             "ticks": ""
            },
            "type": "contourcarpet"
           }
          ],
          "heatmap": [
           {
            "colorbar": {
             "outlinewidth": 0,
             "ticks": ""
            },
            "colorscale": [
             [
              0,
              "#0d0887"
             ],
             [
              0.1111111111111111,
              "#46039f"
             ],
             [
              0.2222222222222222,
              "#7201a8"
             ],
             [
              0.3333333333333333,
              "#9c179e"
             ],
             [
              0.4444444444444444,
              "#bd3786"
             ],
             [
              0.5555555555555556,
              "#d8576b"
             ],
             [
              0.6666666666666666,
              "#ed7953"
             ],
             [
              0.7777777777777778,
              "#fb9f3a"
             ],
             [
              0.8888888888888888,
              "#fdca26"
             ],
             [
              1,
              "#f0f921"
             ]
            ],
            "type": "heatmap"
           }
          ],
          "heatmapgl": [
           {
            "colorbar": {
             "outlinewidth": 0,
             "ticks": ""
            },
            "colorscale": [
             [
              0,
              "#0d0887"
             ],
             [
              0.1111111111111111,
              "#46039f"
             ],
             [
              0.2222222222222222,
              "#7201a8"
             ],
             [
              0.3333333333333333,
              "#9c179e"
             ],
             [
              0.4444444444444444,
              "#bd3786"
             ],
             [
              0.5555555555555556,
              "#d8576b"
             ],
             [
              0.6666666666666666,
              "#ed7953"
             ],
             [
              0.7777777777777778,
              "#fb9f3a"
             ],
             [
              0.8888888888888888,
              "#fdca26"
             ],
             [
              1,
              "#f0f921"
             ]
            ],
            "type": "heatmapgl"
           }
          ],
          "histogram": [
           {
            "marker": {
             "colorbar": {
              "outlinewidth": 0,
              "ticks": ""
             }
            },
            "type": "histogram"
           }
          ],
          "histogram2d": [
           {
            "colorbar": {
             "outlinewidth": 0,
             "ticks": ""
            },
            "colorscale": [
             [
              0,
              "#0d0887"
             ],
             [
              0.1111111111111111,
              "#46039f"
             ],
             [
              0.2222222222222222,
              "#7201a8"
             ],
             [
              0.3333333333333333,
              "#9c179e"
             ],
             [
              0.4444444444444444,
              "#bd3786"
             ],
             [
              0.5555555555555556,
              "#d8576b"
             ],
             [
              0.6666666666666666,
              "#ed7953"
             ],
             [
              0.7777777777777778,
              "#fb9f3a"
             ],
             [
              0.8888888888888888,
              "#fdca26"
             ],
             [
              1,
              "#f0f921"
             ]
            ],
            "type": "histogram2d"
           }
          ],
          "histogram2dcontour": [
           {
            "colorbar": {
             "outlinewidth": 0,
             "ticks": ""
            },
            "colorscale": [
             [
              0,
              "#0d0887"
             ],
             [
              0.1111111111111111,
              "#46039f"
             ],
             [
              0.2222222222222222,
              "#7201a8"
             ],
             [
              0.3333333333333333,
              "#9c179e"
             ],
             [
              0.4444444444444444,
              "#bd3786"
             ],
             [
              0.5555555555555556,
              "#d8576b"
             ],
             [
              0.6666666666666666,
              "#ed7953"
             ],
             [
              0.7777777777777778,
              "#fb9f3a"
             ],
             [
              0.8888888888888888,
              "#fdca26"
             ],
             [
              1,
              "#f0f921"
             ]
            ],
            "type": "histogram2dcontour"
           }
          ],
          "mesh3d": [
           {
            "colorbar": {
             "outlinewidth": 0,
             "ticks": ""
            },
            "type": "mesh3d"
           }
          ],
          "parcoords": [
           {
            "line": {
             "colorbar": {
              "outlinewidth": 0,
              "ticks": ""
             }
            },
            "type": "parcoords"
           }
          ],
          "pie": [
           {
            "automargin": true,
            "type": "pie"
           }
          ],
          "scatter": [
           {
            "marker": {
             "colorbar": {
              "outlinewidth": 0,
              "ticks": ""
             }
            },
            "type": "scatter"
           }
          ],
          "scatter3d": [
           {
            "line": {
             "colorbar": {
              "outlinewidth": 0,
              "ticks": ""
             }
            },
            "marker": {
             "colorbar": {
              "outlinewidth": 0,
              "ticks": ""
             }
            },
            "type": "scatter3d"
           }
          ],
          "scattercarpet": [
           {
            "marker": {
             "colorbar": {
              "outlinewidth": 0,
              "ticks": ""
             }
            },
            "type": "scattercarpet"
           }
          ],
          "scattergeo": [
           {
            "marker": {
             "colorbar": {
              "outlinewidth": 0,
              "ticks": ""
             }
            },
            "type": "scattergeo"
           }
          ],
          "scattergl": [
           {
            "marker": {
             "colorbar": {
              "outlinewidth": 0,
              "ticks": ""
             }
            },
            "type": "scattergl"
           }
          ],
          "scattermapbox": [
           {
            "marker": {
             "colorbar": {
              "outlinewidth": 0,
              "ticks": ""
             }
            },
            "type": "scattermapbox"
           }
          ],
          "scatterpolar": [
           {
            "marker": {
             "colorbar": {
              "outlinewidth": 0,
              "ticks": ""
             }
            },
            "type": "scatterpolar"
           }
          ],
          "scatterpolargl": [
           {
            "marker": {
             "colorbar": {
              "outlinewidth": 0,
              "ticks": ""
             }
            },
            "type": "scatterpolargl"
           }
          ],
          "scatterternary": [
           {
            "marker": {
             "colorbar": {
              "outlinewidth": 0,
              "ticks": ""
             }
            },
            "type": "scatterternary"
           }
          ],
          "surface": [
           {
            "colorbar": {
             "outlinewidth": 0,
             "ticks": ""
            },
            "colorscale": [
             [
              0,
              "#0d0887"
             ],
             [
              0.1111111111111111,
              "#46039f"
             ],
             [
              0.2222222222222222,
              "#7201a8"
             ],
             [
              0.3333333333333333,
              "#9c179e"
             ],
             [
              0.4444444444444444,
              "#bd3786"
             ],
             [
              0.5555555555555556,
              "#d8576b"
             ],
             [
              0.6666666666666666,
              "#ed7953"
             ],
             [
              0.7777777777777778,
              "#fb9f3a"
             ],
             [
              0.8888888888888888,
              "#fdca26"
             ],
             [
              1,
              "#f0f921"
             ]
            ],
            "type": "surface"
           }
          ],
          "table": [
           {
            "cells": {
             "fill": {
              "color": "#EBF0F8"
             },
             "line": {
              "color": "white"
             }
            },
            "header": {
             "fill": {
              "color": "#C8D4E3"
             },
             "line": {
              "color": "white"
             }
            },
            "type": "table"
           }
          ]
         },
         "layout": {
          "annotationdefaults": {
           "arrowcolor": "#2a3f5f",
           "arrowhead": 0,
           "arrowwidth": 1
          },
          "coloraxis": {
           "colorbar": {
            "outlinewidth": 0,
            "ticks": ""
           }
          },
          "colorscale": {
           "diverging": [
            [
             0,
             "#8e0152"
            ],
            [
             0.1,
             "#c51b7d"
            ],
            [
             0.2,
             "#de77ae"
            ],
            [
             0.3,
             "#f1b6da"
            ],
            [
             0.4,
             "#fde0ef"
            ],
            [
             0.5,
             "#f7f7f7"
            ],
            [
             0.6,
             "#e6f5d0"
            ],
            [
             0.7,
             "#b8e186"
            ],
            [
             0.8,
             "#7fbc41"
            ],
            [
             0.9,
             "#4d9221"
            ],
            [
             1,
             "#276419"
            ]
           ],
           "sequential": [
            [
             0,
             "#0d0887"
            ],
            [
             0.1111111111111111,
             "#46039f"
            ],
            [
             0.2222222222222222,
             "#7201a8"
            ],
            [
             0.3333333333333333,
             "#9c179e"
            ],
            [
             0.4444444444444444,
             "#bd3786"
            ],
            [
             0.5555555555555556,
             "#d8576b"
            ],
            [
             0.6666666666666666,
             "#ed7953"
            ],
            [
             0.7777777777777778,
             "#fb9f3a"
            ],
            [
             0.8888888888888888,
             "#fdca26"
            ],
            [
             1,
             "#f0f921"
            ]
           ],
           "sequentialminus": [
            [
             0,
             "#0d0887"
            ],
            [
             0.1111111111111111,
             "#46039f"
            ],
            [
             0.2222222222222222,
             "#7201a8"
            ],
            [
             0.3333333333333333,
             "#9c179e"
            ],
            [
             0.4444444444444444,
             "#bd3786"
            ],
            [
             0.5555555555555556,
             "#d8576b"
            ],
            [
             0.6666666666666666,
             "#ed7953"
            ],
            [
             0.7777777777777778,
             "#fb9f3a"
            ],
            [
             0.8888888888888888,
             "#fdca26"
            ],
            [
             1,
             "#f0f921"
            ]
           ]
          },
          "colorway": [
           "#636efa",
           "#EF553B",
           "#00cc96",
           "#ab63fa",
           "#FFA15A",
           "#19d3f3",
           "#FF6692",
           "#B6E880",
           "#FF97FF",
           "#FECB52"
          ],
          "font": {
           "color": "#2a3f5f"
          },
          "geo": {
           "bgcolor": "white",
           "lakecolor": "white",
           "landcolor": "#E5ECF6",
           "showlakes": true,
           "showland": true,
           "subunitcolor": "white"
          },
          "hoverlabel": {
           "align": "left"
          },
          "hovermode": "closest",
          "mapbox": {
           "style": "light"
          },
          "paper_bgcolor": "white",
          "plot_bgcolor": "#E5ECF6",
          "polar": {
           "angularaxis": {
            "gridcolor": "white",
            "linecolor": "white",
            "ticks": ""
           },
           "bgcolor": "#E5ECF6",
           "radialaxis": {
            "gridcolor": "white",
            "linecolor": "white",
            "ticks": ""
           }
          },
          "scene": {
           "xaxis": {
            "backgroundcolor": "#E5ECF6",
            "gridcolor": "white",
            "gridwidth": 2,
            "linecolor": "white",
            "showbackground": true,
            "ticks": "",
            "zerolinecolor": "white"
           },
           "yaxis": {
            "backgroundcolor": "#E5ECF6",
            "gridcolor": "white",
            "gridwidth": 2,
            "linecolor": "white",
            "showbackground": true,
            "ticks": "",
            "zerolinecolor": "white"
           },
           "zaxis": {
            "backgroundcolor": "#E5ECF6",
            "gridcolor": "white",
            "gridwidth": 2,
            "linecolor": "white",
            "showbackground": true,
            "ticks": "",
            "zerolinecolor": "white"
           }
          },
          "shapedefaults": {
           "line": {
            "color": "#2a3f5f"
           }
          },
          "ternary": {
           "aaxis": {
            "gridcolor": "white",
            "linecolor": "white",
            "ticks": ""
           },
           "baxis": {
            "gridcolor": "white",
            "linecolor": "white",
            "ticks": ""
           },
           "bgcolor": "#E5ECF6",
           "caxis": {
            "gridcolor": "white",
            "linecolor": "white",
            "ticks": ""
           }
          },
          "title": {
           "x": 0.05
          },
          "xaxis": {
           "automargin": true,
           "gridcolor": "white",
           "linecolor": "white",
           "ticks": "",
           "title": {
            "standoff": 15
           },
           "zerolinecolor": "white",
           "zerolinewidth": 2
          },
          "yaxis": {
           "automargin": true,
           "gridcolor": "white",
           "linecolor": "white",
           "ticks": "",
           "title": {
            "standoff": 15
           },
           "zerolinecolor": "white",
           "zerolinewidth": 2
          }
         }
        },
        "title": {
         "text": "날짜별 치킨빈도"
        }
       }
      },
      "text/html": [
       "<div>                            <div id=\"a5ede963-271d-4887-a9b5-6cc464be62b7\" class=\"plotly-graph-div\" style=\"height:525px; width:100%;\"></div>            <script type=\"text/javascript\">                require([\"plotly\"], function(Plotly) {                    window.PLOTLYENV=window.PLOTLYENV || {};                                    if (document.getElementById(\"a5ede963-271d-4887-a9b5-6cc464be62b7\")) {                    Plotly.newPlot(                        \"a5ede963-271d-4887-a9b5-6cc464be62b7\",                        [{\"type\": \"bar\", \"x\": [\"2020-01-01T00:00:00\", \"2020-01-02T00:00:00\", \"2020-01-03T00:00:00\", \"2020-01-04T00:00:00\", \"2020-01-05T00:00:00\", \"2020-01-06T00:00:00\", \"2020-01-07T00:00:00\", \"2020-01-08T00:00:00\", \"2020-01-09T00:00:00\", \"2020-01-10T00:00:00\", \"2020-01-11T00:00:00\", \"2020-01-12T00:00:00\", \"2020-01-13T00:00:00\", \"2020-01-14T00:00:00\", \"2020-01-15T00:00:00\", \"2020-01-16T00:00:00\", \"2020-01-17T00:00:00\", \"2020-01-18T00:00:00\", \"2020-01-19T00:00:00\", \"2020-01-20T00:00:00\", \"2020-01-21T00:00:00\", \"2020-01-22T00:00:00\", \"2020-01-23T00:00:00\", \"2020-01-24T00:00:00\", \"2020-01-25T00:00:00\", \"2020-01-26T00:00:00\", \"2020-01-27T00:00:00\", \"2020-01-28T00:00:00\", \"2020-01-29T00:00:00\", \"2020-01-30T00:00:00\", \"2020-01-31T00:00:00\", \"2020-02-01T00:00:00\", \"2020-02-02T00:00:00\", \"2020-02-03T00:00:00\", \"2020-02-04T00:00:00\", \"2020-02-05T00:00:00\", \"2020-02-06T00:00:00\", \"2020-02-07T00:00:00\", \"2020-02-08T00:00:00\", \"2020-02-09T00:00:00\", \"2020-02-10T00:00:00\", \"2020-02-11T00:00:00\", \"2020-02-12T00:00:00\", \"2020-02-13T00:00:00\", \"2020-02-14T00:00:00\", \"2020-02-15T00:00:00\", \"2020-02-16T00:00:00\", \"2020-02-17T00:00:00\", \"2020-02-18T00:00:00\", \"2020-02-19T00:00:00\", \"2020-02-20T00:00:00\", \"2020-02-21T00:00:00\", \"2020-02-22T00:00:00\", \"2020-02-23T00:00:00\", \"2020-02-24T00:00:00\", \"2020-02-25T00:00:00\", \"2020-02-26T00:00:00\", \"2020-02-27T00:00:00\", \"2020-02-28T00:00:00\", \"2020-02-29T00:00:00\", \"2020-03-01T00:00:00\", \"2020-03-02T00:00:00\", \"2020-03-03T00:00:00\", \"2020-03-04T00:00:00\", \"2020-03-05T00:00:00\", \"2020-03-06T00:00:00\", \"2020-03-07T00:00:00\", \"2020-03-08T00:00:00\", \"2020-03-09T00:00:00\", \"2020-03-10T00:00:00\", \"2020-03-11T00:00:00\", \"2020-03-12T00:00:00\", \"2020-03-13T00:00:00\", \"2020-03-14T00:00:00\", \"2020-03-15T00:00:00\", \"2020-03-16T00:00:00\", \"2020-03-17T00:00:00\", \"2020-03-18T00:00:00\", \"2020-03-19T00:00:00\", \"2020-03-20T00:00:00\", \"2020-03-21T00:00:00\", \"2020-03-22T00:00:00\", \"2020-03-23T00:00:00\", \"2020-03-24T00:00:00\", \"2020-03-25T00:00:00\", \"2020-03-26T00:00:00\", \"2020-03-27T00:00:00\", \"2020-03-28T00:00:00\", \"2020-03-29T00:00:00\", \"2020-03-30T00:00:00\", \"2020-03-31T00:00:00\", \"2020-04-01T00:00:00\", \"2020-04-02T00:00:00\", \"2020-04-03T00:00:00\", \"2020-04-04T00:00:00\", \"2020-04-05T00:00:00\", \"2020-04-06T00:00:00\", \"2020-04-07T00:00:00\", \"2020-04-08T00:00:00\", \"2020-04-09T00:00:00\", \"2020-04-10T00:00:00\", \"2020-04-11T00:00:00\", \"2020-04-12T00:00:00\", \"2020-04-13T00:00:00\", \"2020-04-14T00:00:00\", \"2020-04-15T00:00:00\", \"2020-04-16T00:00:00\", \"2020-04-17T00:00:00\", \"2020-04-18T00:00:00\", \"2020-04-19T00:00:00\", \"2020-04-20T00:00:00\", \"2020-04-21T00:00:00\", \"2020-04-22T00:00:00\", \"2020-04-23T00:00:00\", \"2020-04-24T00:00:00\", \"2020-04-25T00:00:00\", \"2020-04-26T00:00:00\", \"2020-04-27T00:00:00\", \"2020-04-28T00:00:00\", \"2020-04-29T00:00:00\", \"2020-04-30T00:00:00\", \"2020-05-01T00:00:00\", \"2020-05-02T00:00:00\", \"2020-05-03T00:00:00\", \"2020-05-04T00:00:00\", \"2020-05-05T00:00:00\", \"2020-05-06T00:00:00\", \"2020-05-07T00:00:00\", \"2020-05-08T00:00:00\", \"2020-05-09T00:00:00\", \"2020-05-10T00:00:00\", \"2020-05-11T00:00:00\", \"2020-05-12T00:00:00\", \"2020-05-13T00:00:00\", \"2020-05-14T00:00:00\", \"2020-05-15T00:00:00\", \"2020-05-16T00:00:00\", \"2020-05-17T00:00:00\", \"2020-05-19T00:00:00\", \"2020-05-20T00:00:00\", \"2020-05-21T00:00:00\", \"2020-05-22T00:00:00\", \"2020-05-23T00:00:00\", \"2020-05-24T00:00:00\", \"2020-05-25T00:00:00\", \"2020-05-26T00:00:00\", \"2020-05-27T00:00:00\", \"2020-05-28T00:00:00\", \"2020-05-29T00:00:00\", \"2020-05-30T00:00:00\", \"2020-05-31T00:00:00\", \"2020-06-01T00:00:00\", \"2020-06-02T00:00:00\", \"2020-06-03T00:00:00\", \"2020-06-04T00:00:00\", \"2020-06-05T00:00:00\", \"2020-06-06T00:00:00\", \"2020-06-07T00:00:00\", \"2020-06-08T00:00:00\", \"2020-06-09T00:00:00\", \"2020-06-10T00:00:00\", \"2020-06-11T00:00:00\", \"2020-06-12T00:00:00\", \"2020-06-20T00:00:00\", \"2020-06-21T00:00:00\"], \"y\": [7061, 4776, 6350, 6954, 6820, 10066, 6387, 5324, 5541, 7076, 7511, 7393, 4783, 5024, 5630, 5692, 6836, 7161, 6802, 4669, 4846, 5929, 6572, 5021, 4323, 6598, 7352, 4592, 5196, 5292, 8233, 8452, 7950, 5681, 6339, 7062, 7132, 7493, 8487, 8225, 5711, 5047, 6458, 5598, 6732, 7859, 7628, 4965, 5256, 5460, 5861, 7989, 8641, 7699, 5802, 6615, 6300, 6694, 8929, 8816, 9113, 5826, 5936, 6712, 6721, 8190, 8602, 7775, 5711, 6669, 6378, 6677, 8242, 8745, 7935, 5566, 6014, 6031, 6641, 7754, 8064, 7741, 5591, 5747, 6345, 6617, 7751, 8005, 7744, 5560, 5940, 7039, 6526, 8267, 9375, 8424, 5980, 5904, 6466, 6338, 8370, 9396, 9182, 5638, 7280, 8540, 5912, 8516, 8650, 9784, 6623, 6626, 6837, 6278, 8199, 9355, 8689, 5931, 5937, 7415, 8009, 5533, 8357, 8111, 7079, 9483, 5293, 5829, 9603, 9978, 8402, 6125, 6464, 6614, 6622, 10153, 9216, 8535, 6506, 6361, 6707, 8186, 9424, 9262, 6259, 6930, 6336, 6645, 8556, 9309, 8923, 5870, 6350, 6074, 6281, 9034, 9942, 8868, 6024, 6211, 8201, 6835, 9019, 9803, 9405]}],                        {\"template\": {\"data\": {\"bar\": [{\"error_x\": {\"color\": \"#2a3f5f\"}, \"error_y\": {\"color\": \"#2a3f5f\"}, \"marker\": {\"line\": {\"color\": \"#E5ECF6\", \"width\": 0.5}}, \"type\": \"bar\"}], \"barpolar\": [{\"marker\": {\"line\": {\"color\": \"#E5ECF6\", \"width\": 0.5}}, \"type\": \"barpolar\"}], \"carpet\": [{\"aaxis\": {\"endlinecolor\": \"#2a3f5f\", \"gridcolor\": \"white\", \"linecolor\": \"white\", \"minorgridcolor\": \"white\", \"startlinecolor\": \"#2a3f5f\"}, \"baxis\": {\"endlinecolor\": \"#2a3f5f\", \"gridcolor\": \"white\", \"linecolor\": \"white\", \"minorgridcolor\": \"white\", \"startlinecolor\": \"#2a3f5f\"}, \"type\": \"carpet\"}], \"choropleth\": [{\"colorbar\": {\"outlinewidth\": 0, \"ticks\": \"\"}, \"type\": \"choropleth\"}], \"contour\": [{\"colorbar\": {\"outlinewidth\": 0, \"ticks\": \"\"}, \"colorscale\": [[0.0, \"#0d0887\"], [0.1111111111111111, \"#46039f\"], [0.2222222222222222, \"#7201a8\"], [0.3333333333333333, \"#9c179e\"], [0.4444444444444444, \"#bd3786\"], [0.5555555555555556, \"#d8576b\"], [0.6666666666666666, \"#ed7953\"], [0.7777777777777778, \"#fb9f3a\"], [0.8888888888888888, \"#fdca26\"], [1.0, \"#f0f921\"]], \"type\": \"contour\"}], \"contourcarpet\": [{\"colorbar\": {\"outlinewidth\": 0, \"ticks\": \"\"}, \"type\": \"contourcarpet\"}], \"heatmap\": [{\"colorbar\": {\"outlinewidth\": 0, \"ticks\": \"\"}, \"colorscale\": [[0.0, \"#0d0887\"], [0.1111111111111111, \"#46039f\"], [0.2222222222222222, \"#7201a8\"], [0.3333333333333333, \"#9c179e\"], [0.4444444444444444, \"#bd3786\"], [0.5555555555555556, \"#d8576b\"], [0.6666666666666666, \"#ed7953\"], [0.7777777777777778, \"#fb9f3a\"], [0.8888888888888888, \"#fdca26\"], [1.0, \"#f0f921\"]], \"type\": \"heatmap\"}], \"heatmapgl\": [{\"colorbar\": {\"outlinewidth\": 0, \"ticks\": \"\"}, \"colorscale\": [[0.0, \"#0d0887\"], [0.1111111111111111, \"#46039f\"], [0.2222222222222222, \"#7201a8\"], [0.3333333333333333, \"#9c179e\"], [0.4444444444444444, \"#bd3786\"], [0.5555555555555556, \"#d8576b\"], [0.6666666666666666, \"#ed7953\"], [0.7777777777777778, \"#fb9f3a\"], [0.8888888888888888, \"#fdca26\"], [1.0, \"#f0f921\"]], \"type\": \"heatmapgl\"}], \"histogram\": [{\"marker\": {\"colorbar\": {\"outlinewidth\": 0, \"ticks\": \"\"}}, \"type\": \"histogram\"}], \"histogram2d\": [{\"colorbar\": {\"outlinewidth\": 0, \"ticks\": \"\"}, \"colorscale\": [[0.0, \"#0d0887\"], [0.1111111111111111, \"#46039f\"], [0.2222222222222222, \"#7201a8\"], [0.3333333333333333, \"#9c179e\"], [0.4444444444444444, \"#bd3786\"], [0.5555555555555556, \"#d8576b\"], [0.6666666666666666, \"#ed7953\"], [0.7777777777777778, \"#fb9f3a\"], [0.8888888888888888, \"#fdca26\"], [1.0, \"#f0f921\"]], \"type\": \"histogram2d\"}], \"histogram2dcontour\": [{\"colorbar\": {\"outlinewidth\": 0, \"ticks\": \"\"}, \"colorscale\": [[0.0, \"#0d0887\"], [0.1111111111111111, \"#46039f\"], [0.2222222222222222, \"#7201a8\"], [0.3333333333333333, \"#9c179e\"], [0.4444444444444444, \"#bd3786\"], [0.5555555555555556, \"#d8576b\"], [0.6666666666666666, \"#ed7953\"], [0.7777777777777778, \"#fb9f3a\"], [0.8888888888888888, \"#fdca26\"], [1.0, \"#f0f921\"]], \"type\": \"histogram2dcontour\"}], \"mesh3d\": [{\"colorbar\": {\"outlinewidth\": 0, \"ticks\": \"\"}, \"type\": \"mesh3d\"}], \"parcoords\": [{\"line\": {\"colorbar\": {\"outlinewidth\": 0, \"ticks\": \"\"}}, \"type\": \"parcoords\"}], \"pie\": [{\"automargin\": true, \"type\": \"pie\"}], \"scatter\": [{\"marker\": {\"colorbar\": {\"outlinewidth\": 0, \"ticks\": \"\"}}, \"type\": \"scatter\"}], \"scatter3d\": [{\"line\": {\"colorbar\": {\"outlinewidth\": 0, \"ticks\": \"\"}}, \"marker\": {\"colorbar\": {\"outlinewidth\": 0, \"ticks\": \"\"}}, \"type\": \"scatter3d\"}], \"scattercarpet\": [{\"marker\": {\"colorbar\": {\"outlinewidth\": 0, \"ticks\": \"\"}}, \"type\": \"scattercarpet\"}], \"scattergeo\": [{\"marker\": {\"colorbar\": {\"outlinewidth\": 0, \"ticks\": \"\"}}, \"type\": \"scattergeo\"}], \"scattergl\": [{\"marker\": {\"colorbar\": {\"outlinewidth\": 0, \"ticks\": \"\"}}, \"type\": \"scattergl\"}], \"scattermapbox\": [{\"marker\": {\"colorbar\": {\"outlinewidth\": 0, \"ticks\": \"\"}}, \"type\": \"scattermapbox\"}], \"scatterpolar\": [{\"marker\": {\"colorbar\": {\"outlinewidth\": 0, \"ticks\": \"\"}}, \"type\": \"scatterpolar\"}], \"scatterpolargl\": [{\"marker\": {\"colorbar\": {\"outlinewidth\": 0, \"ticks\": \"\"}}, \"type\": \"scatterpolargl\"}], \"scatterternary\": [{\"marker\": {\"colorbar\": {\"outlinewidth\": 0, \"ticks\": \"\"}}, \"type\": \"scatterternary\"}], \"surface\": [{\"colorbar\": {\"outlinewidth\": 0, \"ticks\": \"\"}, \"colorscale\": [[0.0, \"#0d0887\"], [0.1111111111111111, \"#46039f\"], [0.2222222222222222, \"#7201a8\"], [0.3333333333333333, \"#9c179e\"], [0.4444444444444444, \"#bd3786\"], [0.5555555555555556, \"#d8576b\"], [0.6666666666666666, \"#ed7953\"], [0.7777777777777778, \"#fb9f3a\"], [0.8888888888888888, \"#fdca26\"], [1.0, \"#f0f921\"]], \"type\": \"surface\"}], \"table\": [{\"cells\": {\"fill\": {\"color\": \"#EBF0F8\"}, \"line\": {\"color\": \"white\"}}, \"header\": {\"fill\": {\"color\": \"#C8D4E3\"}, \"line\": {\"color\": \"white\"}}, \"type\": \"table\"}]}, \"layout\": {\"annotationdefaults\": {\"arrowcolor\": \"#2a3f5f\", \"arrowhead\": 0, \"arrowwidth\": 1}, \"coloraxis\": {\"colorbar\": {\"outlinewidth\": 0, \"ticks\": \"\"}}, \"colorscale\": {\"diverging\": [[0, \"#8e0152\"], [0.1, \"#c51b7d\"], [0.2, \"#de77ae\"], [0.3, \"#f1b6da\"], [0.4, \"#fde0ef\"], [0.5, \"#f7f7f7\"], [0.6, \"#e6f5d0\"], [0.7, \"#b8e186\"], [0.8, \"#7fbc41\"], [0.9, \"#4d9221\"], [1, \"#276419\"]], \"sequential\": [[0.0, \"#0d0887\"], [0.1111111111111111, \"#46039f\"], [0.2222222222222222, \"#7201a8\"], [0.3333333333333333, \"#9c179e\"], [0.4444444444444444, \"#bd3786\"], [0.5555555555555556, \"#d8576b\"], [0.6666666666666666, \"#ed7953\"], [0.7777777777777778, \"#fb9f3a\"], [0.8888888888888888, \"#fdca26\"], [1.0, \"#f0f921\"]], \"sequentialminus\": [[0.0, \"#0d0887\"], [0.1111111111111111, \"#46039f\"], [0.2222222222222222, \"#7201a8\"], [0.3333333333333333, \"#9c179e\"], [0.4444444444444444, \"#bd3786\"], [0.5555555555555556, \"#d8576b\"], [0.6666666666666666, \"#ed7953\"], [0.7777777777777778, \"#fb9f3a\"], [0.8888888888888888, \"#fdca26\"], [1.0, \"#f0f921\"]]}, \"colorway\": [\"#636efa\", \"#EF553B\", \"#00cc96\", \"#ab63fa\", \"#FFA15A\", \"#19d3f3\", \"#FF6692\", \"#B6E880\", \"#FF97FF\", \"#FECB52\"], \"font\": {\"color\": \"#2a3f5f\"}, \"geo\": {\"bgcolor\": \"white\", \"lakecolor\": \"white\", \"landcolor\": \"#E5ECF6\", \"showlakes\": true, \"showland\": true, \"subunitcolor\": \"white\"}, \"hoverlabel\": {\"align\": \"left\"}, \"hovermode\": \"closest\", \"mapbox\": {\"style\": \"light\"}, \"paper_bgcolor\": \"white\", \"plot_bgcolor\": \"#E5ECF6\", \"polar\": {\"angularaxis\": {\"gridcolor\": \"white\", \"linecolor\": \"white\", \"ticks\": \"\"}, \"bgcolor\": \"#E5ECF6\", \"radialaxis\": {\"gridcolor\": \"white\", \"linecolor\": \"white\", \"ticks\": \"\"}}, \"scene\": {\"xaxis\": {\"backgroundcolor\": \"#E5ECF6\", \"gridcolor\": \"white\", \"gridwidth\": 2, \"linecolor\": \"white\", \"showbackground\": true, \"ticks\": \"\", \"zerolinecolor\": \"white\"}, \"yaxis\": {\"backgroundcolor\": \"#E5ECF6\", \"gridcolor\": \"white\", \"gridwidth\": 2, \"linecolor\": \"white\", \"showbackground\": true, \"ticks\": \"\", \"zerolinecolor\": \"white\"}, \"zaxis\": {\"backgroundcolor\": \"#E5ECF6\", \"gridcolor\": \"white\", \"gridwidth\": 2, \"linecolor\": \"white\", \"showbackground\": true, \"ticks\": \"\", \"zerolinecolor\": \"white\"}}, \"shapedefaults\": {\"line\": {\"color\": \"#2a3f5f\"}}, \"ternary\": {\"aaxis\": {\"gridcolor\": \"white\", \"linecolor\": \"white\", \"ticks\": \"\"}, \"baxis\": {\"gridcolor\": \"white\", \"linecolor\": \"white\", \"ticks\": \"\"}, \"bgcolor\": \"#E5ECF6\", \"caxis\": {\"gridcolor\": \"white\", \"linecolor\": \"white\", \"ticks\": \"\"}}, \"title\": {\"x\": 0.05}, \"xaxis\": {\"automargin\": true, \"gridcolor\": \"white\", \"linecolor\": \"white\", \"ticks\": \"\", \"title\": {\"standoff\": 15}, \"zerolinecolor\": \"white\", \"zerolinewidth\": 2}, \"yaxis\": {\"automargin\": true, \"gridcolor\": \"white\", \"linecolor\": \"white\", \"ticks\": \"\", \"title\": {\"standoff\": 15}, \"zerolinecolor\": \"white\", \"zerolinewidth\": 2}}}, \"title\": {\"text\": \"\\ub0a0\\uc9dc\\ubcc4 \\uce58\\ud0a8\\ube48\\ub3c4\"}},                        {\"responsive\": true}                    ).then(function(){\n",
       "                            \n",
       "var gd = document.getElementById('a5ede963-271d-4887-a9b5-6cc464be62b7');\n",
       "var x = new MutationObserver(function (mutations, observer) {{\n",
       "        var display = window.getComputedStyle(gd).display;\n",
       "        if (!display || display === 'none') {{\n",
       "            console.log([gd, 'removed!']);\n",
       "            Plotly.purge(gd);\n",
       "            observer.disconnect();\n",
       "        }}\n",
       "}});\n",
       "\n",
       "// Listen for the removal of the full notebook cells\n",
       "var notebookContainer = gd.closest('#notebook-container');\n",
       "if (notebookContainer) {{\n",
       "    x.observe(notebookContainer, {childList: true});\n",
       "}}\n",
       "\n",
       "// Listen for the clearing of the current output cell\n",
       "var outputEl = gd.closest('.output');\n",
       "if (outputEl) {{\n",
       "    x.observe(outputEl, {childList: true});\n",
       "}}\n",
       "\n",
       "                        })                };                });            </script>        </div>"
      ]
     },
     "metadata": {},
     "output_type": "display_data"
    }
   ],
   "source": [
    "# 막대 그래프 그리기\n",
    "trace1 = go.Bar(x=kkk2['PROCESS_DT'], y=kkk2['chik'])\n",
    "data = [trace1]\n",
    "layout = go.Layout(title='날짜별 치킨빈도')\n",
    "fig = go.Figure(data=data, layout=layout)\n",
    "pyo.iplot(fig)"
   ]
  },
  {
   "cell_type": "code",
   "execution_count": 83,
   "metadata": {},
   "outputs": [],
   "source": [
    "# 도시락만 뽑아냄\n",
    "kkkkk = del_dstn['induty_nm'] == '도시락'\n",
    "kkk3 = del_dstn[kkkkk]"
   ]
  },
  {
   "cell_type": "code",
   "execution_count": 84,
   "metadata": {},
   "outputs": [],
   "source": [
    "# 그룹1에서 많이시키는 빈도\n",
    "kkk3 = kkk3.groupby(['PROCESS_DT']).size().reset_index(name='count')"
   ]
  },
  {
   "cell_type": "code",
   "execution_count": 85,
   "metadata": {},
   "outputs": [],
   "source": [
    "# 열이름 간단하게 변경\n",
    "kkk3 = kkk3.rename({'count':'dosi'}, axis = 'columns')"
   ]
  },
  {
   "cell_type": "code",
   "execution_count": 87,
   "metadata": {},
   "outputs": [
    {
     "data": {
      "application/vnd.plotly.v1+json": {
       "config": {
        "linkText": "Export to plot.ly",
        "plotlyServerURL": "https://plot.ly",
        "showLink": false
       },
       "data": [
        {
         "type": "bar",
         "x": [
          "2020-01-01T00:00:00",
          "2020-01-02T00:00:00",
          "2020-01-03T00:00:00",
          "2020-01-04T00:00:00",
          "2020-01-05T00:00:00",
          "2020-01-06T00:00:00",
          "2020-01-07T00:00:00",
          "2020-01-08T00:00:00",
          "2020-01-09T00:00:00",
          "2020-01-10T00:00:00",
          "2020-01-11T00:00:00",
          "2020-01-12T00:00:00",
          "2020-01-13T00:00:00",
          "2020-01-14T00:00:00",
          "2020-01-15T00:00:00",
          "2020-01-16T00:00:00",
          "2020-01-17T00:00:00",
          "2020-01-18T00:00:00",
          "2020-01-19T00:00:00",
          "2020-01-20T00:00:00",
          "2020-01-21T00:00:00",
          "2020-01-22T00:00:00",
          "2020-01-23T00:00:00",
          "2020-01-24T00:00:00",
          "2020-01-25T00:00:00",
          "2020-01-26T00:00:00",
          "2020-01-27T00:00:00",
          "2020-01-28T00:00:00",
          "2020-01-29T00:00:00",
          "2020-01-30T00:00:00",
          "2020-01-31T00:00:00",
          "2020-02-01T00:00:00",
          "2020-02-02T00:00:00",
          "2020-02-03T00:00:00",
          "2020-02-04T00:00:00",
          "2020-02-05T00:00:00",
          "2020-02-06T00:00:00",
          "2020-02-07T00:00:00",
          "2020-02-08T00:00:00",
          "2020-02-09T00:00:00",
          "2020-02-10T00:00:00",
          "2020-02-11T00:00:00",
          "2020-02-12T00:00:00",
          "2020-02-13T00:00:00",
          "2020-02-14T00:00:00",
          "2020-02-15T00:00:00",
          "2020-02-16T00:00:00",
          "2020-02-17T00:00:00",
          "2020-02-18T00:00:00",
          "2020-02-19T00:00:00",
          "2020-02-20T00:00:00",
          "2020-02-21T00:00:00",
          "2020-02-22T00:00:00",
          "2020-02-23T00:00:00",
          "2020-02-24T00:00:00",
          "2020-02-25T00:00:00",
          "2020-02-26T00:00:00",
          "2020-02-27T00:00:00",
          "2020-02-28T00:00:00",
          "2020-02-29T00:00:00",
          "2020-03-01T00:00:00",
          "2020-03-02T00:00:00",
          "2020-03-03T00:00:00",
          "2020-03-04T00:00:00",
          "2020-03-05T00:00:00",
          "2020-03-06T00:00:00",
          "2020-03-07T00:00:00",
          "2020-03-08T00:00:00",
          "2020-03-09T00:00:00",
          "2020-03-10T00:00:00",
          "2020-03-11T00:00:00",
          "2020-03-12T00:00:00",
          "2020-03-13T00:00:00",
          "2020-03-14T00:00:00",
          "2020-03-15T00:00:00",
          "2020-03-16T00:00:00",
          "2020-03-17T00:00:00",
          "2020-03-18T00:00:00",
          "2020-03-19T00:00:00",
          "2020-03-20T00:00:00",
          "2020-03-21T00:00:00",
          "2020-03-22T00:00:00",
          "2020-03-23T00:00:00",
          "2020-03-24T00:00:00",
          "2020-03-25T00:00:00",
          "2020-03-26T00:00:00",
          "2020-03-27T00:00:00",
          "2020-03-28T00:00:00",
          "2020-03-29T00:00:00",
          "2020-03-30T00:00:00",
          "2020-03-31T00:00:00",
          "2020-04-01T00:00:00",
          "2020-04-02T00:00:00",
          "2020-04-03T00:00:00",
          "2020-04-04T00:00:00",
          "2020-04-05T00:00:00",
          "2020-04-06T00:00:00",
          "2020-04-07T00:00:00",
          "2020-04-08T00:00:00",
          "2020-04-09T00:00:00",
          "2020-04-10T00:00:00",
          "2020-04-11T00:00:00",
          "2020-04-12T00:00:00",
          "2020-04-13T00:00:00",
          "2020-04-14T00:00:00",
          "2020-04-15T00:00:00",
          "2020-04-16T00:00:00",
          "2020-04-17T00:00:00",
          "2020-04-18T00:00:00",
          "2020-04-19T00:00:00",
          "2020-04-20T00:00:00",
          "2020-04-21T00:00:00",
          "2020-04-22T00:00:00",
          "2020-04-23T00:00:00",
          "2020-04-24T00:00:00",
          "2020-04-25T00:00:00",
          "2020-04-26T00:00:00",
          "2020-04-27T00:00:00",
          "2020-04-28T00:00:00",
          "2020-04-29T00:00:00",
          "2020-04-30T00:00:00",
          "2020-05-01T00:00:00",
          "2020-05-02T00:00:00",
          "2020-05-03T00:00:00",
          "2020-05-04T00:00:00",
          "2020-05-05T00:00:00",
          "2020-05-06T00:00:00",
          "2020-05-07T00:00:00",
          "2020-05-08T00:00:00",
          "2020-05-09T00:00:00",
          "2020-05-10T00:00:00",
          "2020-05-11T00:00:00",
          "2020-05-12T00:00:00",
          "2020-05-13T00:00:00",
          "2020-05-14T00:00:00",
          "2020-05-15T00:00:00",
          "2020-05-16T00:00:00",
          "2020-05-17T00:00:00",
          "2020-05-19T00:00:00",
          "2020-05-20T00:00:00",
          "2020-05-21T00:00:00",
          "2020-05-22T00:00:00",
          "2020-05-23T00:00:00",
          "2020-05-24T00:00:00",
          "2020-05-25T00:00:00",
          "2020-05-26T00:00:00",
          "2020-05-27T00:00:00",
          "2020-05-28T00:00:00",
          "2020-05-29T00:00:00",
          "2020-05-30T00:00:00",
          "2020-05-31T00:00:00",
          "2020-06-01T00:00:00",
          "2020-06-02T00:00:00",
          "2020-06-03T00:00:00",
          "2020-06-04T00:00:00",
          "2020-06-05T00:00:00",
          "2020-06-06T00:00:00",
          "2020-06-07T00:00:00",
          "2020-06-08T00:00:00",
          "2020-06-09T00:00:00",
          "2020-06-10T00:00:00",
          "2020-06-11T00:00:00",
          "2020-06-12T00:00:00",
          "2020-06-20T00:00:00",
          "2020-06-21T00:00:00"
         ],
         "y": [
          161,
          357,
          340,
          262,
          204,
          620,
          297,
          309,
          286,
          307,
          292,
          264,
          318,
          319,
          263,
          300,
          263,
          243,
          207,
          348,
          311,
          281,
          274,
          156,
          47,
          111,
          175,
          261,
          287,
          284,
          277,
          287,
          224,
          397,
          300,
          321,
          345,
          406,
          327,
          251,
          390,
          285,
          295,
          285,
          307,
          297,
          232,
          403,
          348,
          296,
          345,
          367,
          296,
          252,
          410,
          379,
          335,
          393,
          392,
          291,
          221,
          382,
          351,
          357,
          296,
          334,
          262,
          197,
          355,
          388,
          318,
          357,
          362,
          270,
          209,
          348,
          349,
          360,
          356,
          375,
          266,
          210,
          372,
          339,
          303,
          313,
          374,
          254,
          155,
          354,
          332,
          338,
          299,
          302,
          272,
          162,
          359,
          312,
          300,
          309,
          285,
          234,
          160,
          342,
          275,
          215,
          300,
          333,
          241,
          199,
          364,
          341,
          308,
          299,
          328,
          281,
          152,
          377,
          356,
          347,
          237,
          257,
          197,
          131,
          343,
          259,
          341,
          315,
          286,
          301,
          185,
          367,
          306,
          328,
          307,
          344,
          276,
          138,
          357,
          386,
          334,
          316,
          283,
          176,
          359,
          349,
          306,
          322,
          303,
          256,
          172,
          369,
          343,
          330,
          328,
          349,
          262,
          185,
          405,
          325,
          352,
          358,
          304,
          314,
          204
         ]
        }
       ],
       "layout": {
        "template": {
         "data": {
          "bar": [
           {
            "error_x": {
             "color": "#2a3f5f"
            },
            "error_y": {
             "color": "#2a3f5f"
            },
            "marker": {
             "line": {
              "color": "#E5ECF6",
              "width": 0.5
             }
            },
            "type": "bar"
           }
          ],
          "barpolar": [
           {
            "marker": {
             "line": {
              "color": "#E5ECF6",
              "width": 0.5
             }
            },
            "type": "barpolar"
           }
          ],
          "carpet": [
           {
            "aaxis": {
             "endlinecolor": "#2a3f5f",
             "gridcolor": "white",
             "linecolor": "white",
             "minorgridcolor": "white",
             "startlinecolor": "#2a3f5f"
            },
            "baxis": {
             "endlinecolor": "#2a3f5f",
             "gridcolor": "white",
             "linecolor": "white",
             "minorgridcolor": "white",
             "startlinecolor": "#2a3f5f"
            },
            "type": "carpet"
           }
          ],
          "choropleth": [
           {
            "colorbar": {
             "outlinewidth": 0,
             "ticks": ""
            },
            "type": "choropleth"
           }
          ],
          "contour": [
           {
            "colorbar": {
             "outlinewidth": 0,
             "ticks": ""
            },
            "colorscale": [
             [
              0,
              "#0d0887"
             ],
             [
              0.1111111111111111,
              "#46039f"
             ],
             [
              0.2222222222222222,
              "#7201a8"
             ],
             [
              0.3333333333333333,
              "#9c179e"
             ],
             [
              0.4444444444444444,
              "#bd3786"
             ],
             [
              0.5555555555555556,
              "#d8576b"
             ],
             [
              0.6666666666666666,
              "#ed7953"
             ],
             [
              0.7777777777777778,
              "#fb9f3a"
             ],
             [
              0.8888888888888888,
              "#fdca26"
             ],
             [
              1,
              "#f0f921"
             ]
            ],
            "type": "contour"
           }
          ],
          "contourcarpet": [
           {
            "colorbar": {
             "outlinewidth": 0,
             "ticks": ""
            },
            "type": "contourcarpet"
           }
          ],
          "heatmap": [
           {
            "colorbar": {
             "outlinewidth": 0,
             "ticks": ""
            },
            "colorscale": [
             [
              0,
              "#0d0887"
             ],
             [
              0.1111111111111111,
              "#46039f"
             ],
             [
              0.2222222222222222,
              "#7201a8"
             ],
             [
              0.3333333333333333,
              "#9c179e"
             ],
             [
              0.4444444444444444,
              "#bd3786"
             ],
             [
              0.5555555555555556,
              "#d8576b"
             ],
             [
              0.6666666666666666,
              "#ed7953"
             ],
             [
              0.7777777777777778,
              "#fb9f3a"
             ],
             [
              0.8888888888888888,
              "#fdca26"
             ],
             [
              1,
              "#f0f921"
             ]
            ],
            "type": "heatmap"
           }
          ],
          "heatmapgl": [
           {
            "colorbar": {
             "outlinewidth": 0,
             "ticks": ""
            },
            "colorscale": [
             [
              0,
              "#0d0887"
             ],
             [
              0.1111111111111111,
              "#46039f"
             ],
             [
              0.2222222222222222,
              "#7201a8"
             ],
             [
              0.3333333333333333,
              "#9c179e"
             ],
             [
              0.4444444444444444,
              "#bd3786"
             ],
             [
              0.5555555555555556,
              "#d8576b"
             ],
             [
              0.6666666666666666,
              "#ed7953"
             ],
             [
              0.7777777777777778,
              "#fb9f3a"
             ],
             [
              0.8888888888888888,
              "#fdca26"
             ],
             [
              1,
              "#f0f921"
             ]
            ],
            "type": "heatmapgl"
           }
          ],
          "histogram": [
           {
            "marker": {
             "colorbar": {
              "outlinewidth": 0,
              "ticks": ""
             }
            },
            "type": "histogram"
           }
          ],
          "histogram2d": [
           {
            "colorbar": {
             "outlinewidth": 0,
             "ticks": ""
            },
            "colorscale": [
             [
              0,
              "#0d0887"
             ],
             [
              0.1111111111111111,
              "#46039f"
             ],
             [
              0.2222222222222222,
              "#7201a8"
             ],
             [
              0.3333333333333333,
              "#9c179e"
             ],
             [
              0.4444444444444444,
              "#bd3786"
             ],
             [
              0.5555555555555556,
              "#d8576b"
             ],
             [
              0.6666666666666666,
              "#ed7953"
             ],
             [
              0.7777777777777778,
              "#fb9f3a"
             ],
             [
              0.8888888888888888,
              "#fdca26"
             ],
             [
              1,
              "#f0f921"
             ]
            ],
            "type": "histogram2d"
           }
          ],
          "histogram2dcontour": [
           {
            "colorbar": {
             "outlinewidth": 0,
             "ticks": ""
            },
            "colorscale": [
             [
              0,
              "#0d0887"
             ],
             [
              0.1111111111111111,
              "#46039f"
             ],
             [
              0.2222222222222222,
              "#7201a8"
             ],
             [
              0.3333333333333333,
              "#9c179e"
             ],
             [
              0.4444444444444444,
              "#bd3786"
             ],
             [
              0.5555555555555556,
              "#d8576b"
             ],
             [
              0.6666666666666666,
              "#ed7953"
             ],
             [
              0.7777777777777778,
              "#fb9f3a"
             ],
             [
              0.8888888888888888,
              "#fdca26"
             ],
             [
              1,
              "#f0f921"
             ]
            ],
            "type": "histogram2dcontour"
           }
          ],
          "mesh3d": [
           {
            "colorbar": {
             "outlinewidth": 0,
             "ticks": ""
            },
            "type": "mesh3d"
           }
          ],
          "parcoords": [
           {
            "line": {
             "colorbar": {
              "outlinewidth": 0,
              "ticks": ""
             }
            },
            "type": "parcoords"
           }
          ],
          "pie": [
           {
            "automargin": true,
            "type": "pie"
           }
          ],
          "scatter": [
           {
            "marker": {
             "colorbar": {
              "outlinewidth": 0,
              "ticks": ""
             }
            },
            "type": "scatter"
           }
          ],
          "scatter3d": [
           {
            "line": {
             "colorbar": {
              "outlinewidth": 0,
              "ticks": ""
             }
            },
            "marker": {
             "colorbar": {
              "outlinewidth": 0,
              "ticks": ""
             }
            },
            "type": "scatter3d"
           }
          ],
          "scattercarpet": [
           {
            "marker": {
             "colorbar": {
              "outlinewidth": 0,
              "ticks": ""
             }
            },
            "type": "scattercarpet"
           }
          ],
          "scattergeo": [
           {
            "marker": {
             "colorbar": {
              "outlinewidth": 0,
              "ticks": ""
             }
            },
            "type": "scattergeo"
           }
          ],
          "scattergl": [
           {
            "marker": {
             "colorbar": {
              "outlinewidth": 0,
              "ticks": ""
             }
            },
            "type": "scattergl"
           }
          ],
          "scattermapbox": [
           {
            "marker": {
             "colorbar": {
              "outlinewidth": 0,
              "ticks": ""
             }
            },
            "type": "scattermapbox"
           }
          ],
          "scatterpolar": [
           {
            "marker": {
             "colorbar": {
              "outlinewidth": 0,
              "ticks": ""
             }
            },
            "type": "scatterpolar"
           }
          ],
          "scatterpolargl": [
           {
            "marker": {
             "colorbar": {
              "outlinewidth": 0,
              "ticks": ""
             }
            },
            "type": "scatterpolargl"
           }
          ],
          "scatterternary": [
           {
            "marker": {
             "colorbar": {
              "outlinewidth": 0,
              "ticks": ""
             }
            },
            "type": "scatterternary"
           }
          ],
          "surface": [
           {
            "colorbar": {
             "outlinewidth": 0,
             "ticks": ""
            },
            "colorscale": [
             [
              0,
              "#0d0887"
             ],
             [
              0.1111111111111111,
              "#46039f"
             ],
             [
              0.2222222222222222,
              "#7201a8"
             ],
             [
              0.3333333333333333,
              "#9c179e"
             ],
             [
              0.4444444444444444,
              "#bd3786"
             ],
             [
              0.5555555555555556,
              "#d8576b"
             ],
             [
              0.6666666666666666,
              "#ed7953"
             ],
             [
              0.7777777777777778,
              "#fb9f3a"
             ],
             [
              0.8888888888888888,
              "#fdca26"
             ],
             [
              1,
              "#f0f921"
             ]
            ],
            "type": "surface"
           }
          ],
          "table": [
           {
            "cells": {
             "fill": {
              "color": "#EBF0F8"
             },
             "line": {
              "color": "white"
             }
            },
            "header": {
             "fill": {
              "color": "#C8D4E3"
             },
             "line": {
              "color": "white"
             }
            },
            "type": "table"
           }
          ]
         },
         "layout": {
          "annotationdefaults": {
           "arrowcolor": "#2a3f5f",
           "arrowhead": 0,
           "arrowwidth": 1
          },
          "coloraxis": {
           "colorbar": {
            "outlinewidth": 0,
            "ticks": ""
           }
          },
          "colorscale": {
           "diverging": [
            [
             0,
             "#8e0152"
            ],
            [
             0.1,
             "#c51b7d"
            ],
            [
             0.2,
             "#de77ae"
            ],
            [
             0.3,
             "#f1b6da"
            ],
            [
             0.4,
             "#fde0ef"
            ],
            [
             0.5,
             "#f7f7f7"
            ],
            [
             0.6,
             "#e6f5d0"
            ],
            [
             0.7,
             "#b8e186"
            ],
            [
             0.8,
             "#7fbc41"
            ],
            [
             0.9,
             "#4d9221"
            ],
            [
             1,
             "#276419"
            ]
           ],
           "sequential": [
            [
             0,
             "#0d0887"
            ],
            [
             0.1111111111111111,
             "#46039f"
            ],
            [
             0.2222222222222222,
             "#7201a8"
            ],
            [
             0.3333333333333333,
             "#9c179e"
            ],
            [
             0.4444444444444444,
             "#bd3786"
            ],
            [
             0.5555555555555556,
             "#d8576b"
            ],
            [
             0.6666666666666666,
             "#ed7953"
            ],
            [
             0.7777777777777778,
             "#fb9f3a"
            ],
            [
             0.8888888888888888,
             "#fdca26"
            ],
            [
             1,
             "#f0f921"
            ]
           ],
           "sequentialminus": [
            [
             0,
             "#0d0887"
            ],
            [
             0.1111111111111111,
             "#46039f"
            ],
            [
             0.2222222222222222,
             "#7201a8"
            ],
            [
             0.3333333333333333,
             "#9c179e"
            ],
            [
             0.4444444444444444,
             "#bd3786"
            ],
            [
             0.5555555555555556,
             "#d8576b"
            ],
            [
             0.6666666666666666,
             "#ed7953"
            ],
            [
             0.7777777777777778,
             "#fb9f3a"
            ],
            [
             0.8888888888888888,
             "#fdca26"
            ],
            [
             1,
             "#f0f921"
            ]
           ]
          },
          "colorway": [
           "#636efa",
           "#EF553B",
           "#00cc96",
           "#ab63fa",
           "#FFA15A",
           "#19d3f3",
           "#FF6692",
           "#B6E880",
           "#FF97FF",
           "#FECB52"
          ],
          "font": {
           "color": "#2a3f5f"
          },
          "geo": {
           "bgcolor": "white",
           "lakecolor": "white",
           "landcolor": "#E5ECF6",
           "showlakes": true,
           "showland": true,
           "subunitcolor": "white"
          },
          "hoverlabel": {
           "align": "left"
          },
          "hovermode": "closest",
          "mapbox": {
           "style": "light"
          },
          "paper_bgcolor": "white",
          "plot_bgcolor": "#E5ECF6",
          "polar": {
           "angularaxis": {
            "gridcolor": "white",
            "linecolor": "white",
            "ticks": ""
           },
           "bgcolor": "#E5ECF6",
           "radialaxis": {
            "gridcolor": "white",
            "linecolor": "white",
            "ticks": ""
           }
          },
          "scene": {
           "xaxis": {
            "backgroundcolor": "#E5ECF6",
            "gridcolor": "white",
            "gridwidth": 2,
            "linecolor": "white",
            "showbackground": true,
            "ticks": "",
            "zerolinecolor": "white"
           },
           "yaxis": {
            "backgroundcolor": "#E5ECF6",
            "gridcolor": "white",
            "gridwidth": 2,
            "linecolor": "white",
            "showbackground": true,
            "ticks": "",
            "zerolinecolor": "white"
           },
           "zaxis": {
            "backgroundcolor": "#E5ECF6",
            "gridcolor": "white",
            "gridwidth": 2,
            "linecolor": "white",
            "showbackground": true,
            "ticks": "",
            "zerolinecolor": "white"
           }
          },
          "shapedefaults": {
           "line": {
            "color": "#2a3f5f"
           }
          },
          "ternary": {
           "aaxis": {
            "gridcolor": "white",
            "linecolor": "white",
            "ticks": ""
           },
           "baxis": {
            "gridcolor": "white",
            "linecolor": "white",
            "ticks": ""
           },
           "bgcolor": "#E5ECF6",
           "caxis": {
            "gridcolor": "white",
            "linecolor": "white",
            "ticks": ""
           }
          },
          "title": {
           "x": 0.05
          },
          "xaxis": {
           "automargin": true,
           "gridcolor": "white",
           "linecolor": "white",
           "ticks": "",
           "title": {
            "standoff": 15
           },
           "zerolinecolor": "white",
           "zerolinewidth": 2
          },
          "yaxis": {
           "automargin": true,
           "gridcolor": "white",
           "linecolor": "white",
           "ticks": "",
           "title": {
            "standoff": 15
           },
           "zerolinecolor": "white",
           "zerolinewidth": 2
          }
         }
        },
        "title": {
         "text": "날짜별 도시락빈도"
        }
       }
      },
      "text/html": [
       "<div>                            <div id=\"fa899a7d-7664-40ee-9cc8-820257fd7af6\" class=\"plotly-graph-div\" style=\"height:525px; width:100%;\"></div>            <script type=\"text/javascript\">                require([\"plotly\"], function(Plotly) {                    window.PLOTLYENV=window.PLOTLYENV || {};                                    if (document.getElementById(\"fa899a7d-7664-40ee-9cc8-820257fd7af6\")) {                    Plotly.newPlot(                        \"fa899a7d-7664-40ee-9cc8-820257fd7af6\",                        [{\"type\": \"bar\", \"x\": [\"2020-01-01T00:00:00\", \"2020-01-02T00:00:00\", \"2020-01-03T00:00:00\", \"2020-01-04T00:00:00\", \"2020-01-05T00:00:00\", \"2020-01-06T00:00:00\", \"2020-01-07T00:00:00\", \"2020-01-08T00:00:00\", \"2020-01-09T00:00:00\", \"2020-01-10T00:00:00\", \"2020-01-11T00:00:00\", \"2020-01-12T00:00:00\", \"2020-01-13T00:00:00\", \"2020-01-14T00:00:00\", \"2020-01-15T00:00:00\", \"2020-01-16T00:00:00\", \"2020-01-17T00:00:00\", \"2020-01-18T00:00:00\", \"2020-01-19T00:00:00\", \"2020-01-20T00:00:00\", \"2020-01-21T00:00:00\", \"2020-01-22T00:00:00\", \"2020-01-23T00:00:00\", \"2020-01-24T00:00:00\", \"2020-01-25T00:00:00\", \"2020-01-26T00:00:00\", \"2020-01-27T00:00:00\", \"2020-01-28T00:00:00\", \"2020-01-29T00:00:00\", \"2020-01-30T00:00:00\", \"2020-01-31T00:00:00\", \"2020-02-01T00:00:00\", \"2020-02-02T00:00:00\", \"2020-02-03T00:00:00\", \"2020-02-04T00:00:00\", \"2020-02-05T00:00:00\", \"2020-02-06T00:00:00\", \"2020-02-07T00:00:00\", \"2020-02-08T00:00:00\", \"2020-02-09T00:00:00\", \"2020-02-10T00:00:00\", \"2020-02-11T00:00:00\", \"2020-02-12T00:00:00\", \"2020-02-13T00:00:00\", \"2020-02-14T00:00:00\", \"2020-02-15T00:00:00\", \"2020-02-16T00:00:00\", \"2020-02-17T00:00:00\", \"2020-02-18T00:00:00\", \"2020-02-19T00:00:00\", \"2020-02-20T00:00:00\", \"2020-02-21T00:00:00\", \"2020-02-22T00:00:00\", \"2020-02-23T00:00:00\", \"2020-02-24T00:00:00\", \"2020-02-25T00:00:00\", \"2020-02-26T00:00:00\", \"2020-02-27T00:00:00\", \"2020-02-28T00:00:00\", \"2020-02-29T00:00:00\", \"2020-03-01T00:00:00\", \"2020-03-02T00:00:00\", \"2020-03-03T00:00:00\", \"2020-03-04T00:00:00\", \"2020-03-05T00:00:00\", \"2020-03-06T00:00:00\", \"2020-03-07T00:00:00\", \"2020-03-08T00:00:00\", \"2020-03-09T00:00:00\", \"2020-03-10T00:00:00\", \"2020-03-11T00:00:00\", \"2020-03-12T00:00:00\", \"2020-03-13T00:00:00\", \"2020-03-14T00:00:00\", \"2020-03-15T00:00:00\", \"2020-03-16T00:00:00\", \"2020-03-17T00:00:00\", \"2020-03-18T00:00:00\", \"2020-03-19T00:00:00\", \"2020-03-20T00:00:00\", \"2020-03-21T00:00:00\", \"2020-03-22T00:00:00\", \"2020-03-23T00:00:00\", \"2020-03-24T00:00:00\", \"2020-03-25T00:00:00\", \"2020-03-26T00:00:00\", \"2020-03-27T00:00:00\", \"2020-03-28T00:00:00\", \"2020-03-29T00:00:00\", \"2020-03-30T00:00:00\", \"2020-03-31T00:00:00\", \"2020-04-01T00:00:00\", \"2020-04-02T00:00:00\", \"2020-04-03T00:00:00\", \"2020-04-04T00:00:00\", \"2020-04-05T00:00:00\", \"2020-04-06T00:00:00\", \"2020-04-07T00:00:00\", \"2020-04-08T00:00:00\", \"2020-04-09T00:00:00\", \"2020-04-10T00:00:00\", \"2020-04-11T00:00:00\", \"2020-04-12T00:00:00\", \"2020-04-13T00:00:00\", \"2020-04-14T00:00:00\", \"2020-04-15T00:00:00\", \"2020-04-16T00:00:00\", \"2020-04-17T00:00:00\", \"2020-04-18T00:00:00\", \"2020-04-19T00:00:00\", \"2020-04-20T00:00:00\", \"2020-04-21T00:00:00\", \"2020-04-22T00:00:00\", \"2020-04-23T00:00:00\", \"2020-04-24T00:00:00\", \"2020-04-25T00:00:00\", \"2020-04-26T00:00:00\", \"2020-04-27T00:00:00\", \"2020-04-28T00:00:00\", \"2020-04-29T00:00:00\", \"2020-04-30T00:00:00\", \"2020-05-01T00:00:00\", \"2020-05-02T00:00:00\", \"2020-05-03T00:00:00\", \"2020-05-04T00:00:00\", \"2020-05-05T00:00:00\", \"2020-05-06T00:00:00\", \"2020-05-07T00:00:00\", \"2020-05-08T00:00:00\", \"2020-05-09T00:00:00\", \"2020-05-10T00:00:00\", \"2020-05-11T00:00:00\", \"2020-05-12T00:00:00\", \"2020-05-13T00:00:00\", \"2020-05-14T00:00:00\", \"2020-05-15T00:00:00\", \"2020-05-16T00:00:00\", \"2020-05-17T00:00:00\", \"2020-05-19T00:00:00\", \"2020-05-20T00:00:00\", \"2020-05-21T00:00:00\", \"2020-05-22T00:00:00\", \"2020-05-23T00:00:00\", \"2020-05-24T00:00:00\", \"2020-05-25T00:00:00\", \"2020-05-26T00:00:00\", \"2020-05-27T00:00:00\", \"2020-05-28T00:00:00\", \"2020-05-29T00:00:00\", \"2020-05-30T00:00:00\", \"2020-05-31T00:00:00\", \"2020-06-01T00:00:00\", \"2020-06-02T00:00:00\", \"2020-06-03T00:00:00\", \"2020-06-04T00:00:00\", \"2020-06-05T00:00:00\", \"2020-06-06T00:00:00\", \"2020-06-07T00:00:00\", \"2020-06-08T00:00:00\", \"2020-06-09T00:00:00\", \"2020-06-10T00:00:00\", \"2020-06-11T00:00:00\", \"2020-06-12T00:00:00\", \"2020-06-20T00:00:00\", \"2020-06-21T00:00:00\"], \"y\": [161, 357, 340, 262, 204, 620, 297, 309, 286, 307, 292, 264, 318, 319, 263, 300, 263, 243, 207, 348, 311, 281, 274, 156, 47, 111, 175, 261, 287, 284, 277, 287, 224, 397, 300, 321, 345, 406, 327, 251, 390, 285, 295, 285, 307, 297, 232, 403, 348, 296, 345, 367, 296, 252, 410, 379, 335, 393, 392, 291, 221, 382, 351, 357, 296, 334, 262, 197, 355, 388, 318, 357, 362, 270, 209, 348, 349, 360, 356, 375, 266, 210, 372, 339, 303, 313, 374, 254, 155, 354, 332, 338, 299, 302, 272, 162, 359, 312, 300, 309, 285, 234, 160, 342, 275, 215, 300, 333, 241, 199, 364, 341, 308, 299, 328, 281, 152, 377, 356, 347, 237, 257, 197, 131, 343, 259, 341, 315, 286, 301, 185, 367, 306, 328, 307, 344, 276, 138, 357, 386, 334, 316, 283, 176, 359, 349, 306, 322, 303, 256, 172, 369, 343, 330, 328, 349, 262, 185, 405, 325, 352, 358, 304, 314, 204]}],                        {\"template\": {\"data\": {\"bar\": [{\"error_x\": {\"color\": \"#2a3f5f\"}, \"error_y\": {\"color\": \"#2a3f5f\"}, \"marker\": {\"line\": {\"color\": \"#E5ECF6\", \"width\": 0.5}}, \"type\": \"bar\"}], \"barpolar\": [{\"marker\": {\"line\": {\"color\": \"#E5ECF6\", \"width\": 0.5}}, \"type\": \"barpolar\"}], \"carpet\": [{\"aaxis\": {\"endlinecolor\": \"#2a3f5f\", \"gridcolor\": \"white\", \"linecolor\": \"white\", \"minorgridcolor\": \"white\", \"startlinecolor\": \"#2a3f5f\"}, \"baxis\": {\"endlinecolor\": \"#2a3f5f\", \"gridcolor\": \"white\", \"linecolor\": \"white\", \"minorgridcolor\": \"white\", \"startlinecolor\": \"#2a3f5f\"}, \"type\": \"carpet\"}], \"choropleth\": [{\"colorbar\": {\"outlinewidth\": 0, \"ticks\": \"\"}, \"type\": \"choropleth\"}], \"contour\": [{\"colorbar\": {\"outlinewidth\": 0, \"ticks\": \"\"}, \"colorscale\": [[0.0, \"#0d0887\"], [0.1111111111111111, \"#46039f\"], [0.2222222222222222, \"#7201a8\"], [0.3333333333333333, \"#9c179e\"], [0.4444444444444444, \"#bd3786\"], [0.5555555555555556, \"#d8576b\"], [0.6666666666666666, \"#ed7953\"], [0.7777777777777778, \"#fb9f3a\"], [0.8888888888888888, \"#fdca26\"], [1.0, \"#f0f921\"]], \"type\": \"contour\"}], \"contourcarpet\": [{\"colorbar\": {\"outlinewidth\": 0, \"ticks\": \"\"}, \"type\": \"contourcarpet\"}], \"heatmap\": [{\"colorbar\": {\"outlinewidth\": 0, \"ticks\": \"\"}, \"colorscale\": [[0.0, \"#0d0887\"], [0.1111111111111111, \"#46039f\"], [0.2222222222222222, \"#7201a8\"], [0.3333333333333333, \"#9c179e\"], [0.4444444444444444, \"#bd3786\"], [0.5555555555555556, \"#d8576b\"], [0.6666666666666666, \"#ed7953\"], [0.7777777777777778, \"#fb9f3a\"], [0.8888888888888888, \"#fdca26\"], [1.0, \"#f0f921\"]], \"type\": \"heatmap\"}], \"heatmapgl\": [{\"colorbar\": {\"outlinewidth\": 0, \"ticks\": \"\"}, \"colorscale\": [[0.0, \"#0d0887\"], [0.1111111111111111, \"#46039f\"], [0.2222222222222222, \"#7201a8\"], [0.3333333333333333, \"#9c179e\"], [0.4444444444444444, \"#bd3786\"], [0.5555555555555556, \"#d8576b\"], [0.6666666666666666, \"#ed7953\"], [0.7777777777777778, \"#fb9f3a\"], [0.8888888888888888, \"#fdca26\"], [1.0, \"#f0f921\"]], \"type\": \"heatmapgl\"}], \"histogram\": [{\"marker\": {\"colorbar\": {\"outlinewidth\": 0, \"ticks\": \"\"}}, \"type\": \"histogram\"}], \"histogram2d\": [{\"colorbar\": {\"outlinewidth\": 0, \"ticks\": \"\"}, \"colorscale\": [[0.0, \"#0d0887\"], [0.1111111111111111, \"#46039f\"], [0.2222222222222222, \"#7201a8\"], [0.3333333333333333, \"#9c179e\"], [0.4444444444444444, \"#bd3786\"], [0.5555555555555556, \"#d8576b\"], [0.6666666666666666, \"#ed7953\"], [0.7777777777777778, \"#fb9f3a\"], [0.8888888888888888, \"#fdca26\"], [1.0, \"#f0f921\"]], \"type\": \"histogram2d\"}], \"histogram2dcontour\": [{\"colorbar\": {\"outlinewidth\": 0, \"ticks\": \"\"}, \"colorscale\": [[0.0, \"#0d0887\"], [0.1111111111111111, \"#46039f\"], [0.2222222222222222, \"#7201a8\"], [0.3333333333333333, \"#9c179e\"], [0.4444444444444444, \"#bd3786\"], [0.5555555555555556, \"#d8576b\"], [0.6666666666666666, \"#ed7953\"], [0.7777777777777778, \"#fb9f3a\"], [0.8888888888888888, \"#fdca26\"], [1.0, \"#f0f921\"]], \"type\": \"histogram2dcontour\"}], \"mesh3d\": [{\"colorbar\": {\"outlinewidth\": 0, \"ticks\": \"\"}, \"type\": \"mesh3d\"}], \"parcoords\": [{\"line\": {\"colorbar\": {\"outlinewidth\": 0, \"ticks\": \"\"}}, \"type\": \"parcoords\"}], \"pie\": [{\"automargin\": true, \"type\": \"pie\"}], \"scatter\": [{\"marker\": {\"colorbar\": {\"outlinewidth\": 0, \"ticks\": \"\"}}, \"type\": \"scatter\"}], \"scatter3d\": [{\"line\": {\"colorbar\": {\"outlinewidth\": 0, \"ticks\": \"\"}}, \"marker\": {\"colorbar\": {\"outlinewidth\": 0, \"ticks\": \"\"}}, \"type\": \"scatter3d\"}], \"scattercarpet\": [{\"marker\": {\"colorbar\": {\"outlinewidth\": 0, \"ticks\": \"\"}}, \"type\": \"scattercarpet\"}], \"scattergeo\": [{\"marker\": {\"colorbar\": {\"outlinewidth\": 0, \"ticks\": \"\"}}, \"type\": \"scattergeo\"}], \"scattergl\": [{\"marker\": {\"colorbar\": {\"outlinewidth\": 0, \"ticks\": \"\"}}, \"type\": \"scattergl\"}], \"scattermapbox\": [{\"marker\": {\"colorbar\": {\"outlinewidth\": 0, \"ticks\": \"\"}}, \"type\": \"scattermapbox\"}], \"scatterpolar\": [{\"marker\": {\"colorbar\": {\"outlinewidth\": 0, \"ticks\": \"\"}}, \"type\": \"scatterpolar\"}], \"scatterpolargl\": [{\"marker\": {\"colorbar\": {\"outlinewidth\": 0, \"ticks\": \"\"}}, \"type\": \"scatterpolargl\"}], \"scatterternary\": [{\"marker\": {\"colorbar\": {\"outlinewidth\": 0, \"ticks\": \"\"}}, \"type\": \"scatterternary\"}], \"surface\": [{\"colorbar\": {\"outlinewidth\": 0, \"ticks\": \"\"}, \"colorscale\": [[0.0, \"#0d0887\"], [0.1111111111111111, \"#46039f\"], [0.2222222222222222, \"#7201a8\"], [0.3333333333333333, \"#9c179e\"], [0.4444444444444444, \"#bd3786\"], [0.5555555555555556, \"#d8576b\"], [0.6666666666666666, \"#ed7953\"], [0.7777777777777778, \"#fb9f3a\"], [0.8888888888888888, \"#fdca26\"], [1.0, \"#f0f921\"]], \"type\": \"surface\"}], \"table\": [{\"cells\": {\"fill\": {\"color\": \"#EBF0F8\"}, \"line\": {\"color\": \"white\"}}, \"header\": {\"fill\": {\"color\": \"#C8D4E3\"}, \"line\": {\"color\": \"white\"}}, \"type\": \"table\"}]}, \"layout\": {\"annotationdefaults\": {\"arrowcolor\": \"#2a3f5f\", \"arrowhead\": 0, \"arrowwidth\": 1}, \"coloraxis\": {\"colorbar\": {\"outlinewidth\": 0, \"ticks\": \"\"}}, \"colorscale\": {\"diverging\": [[0, \"#8e0152\"], [0.1, \"#c51b7d\"], [0.2, \"#de77ae\"], [0.3, \"#f1b6da\"], [0.4, \"#fde0ef\"], [0.5, \"#f7f7f7\"], [0.6, \"#e6f5d0\"], [0.7, \"#b8e186\"], [0.8, \"#7fbc41\"], [0.9, \"#4d9221\"], [1, \"#276419\"]], \"sequential\": [[0.0, \"#0d0887\"], [0.1111111111111111, \"#46039f\"], [0.2222222222222222, \"#7201a8\"], [0.3333333333333333, \"#9c179e\"], [0.4444444444444444, \"#bd3786\"], [0.5555555555555556, \"#d8576b\"], [0.6666666666666666, \"#ed7953\"], [0.7777777777777778, \"#fb9f3a\"], [0.8888888888888888, \"#fdca26\"], [1.0, \"#f0f921\"]], \"sequentialminus\": [[0.0, \"#0d0887\"], [0.1111111111111111, \"#46039f\"], [0.2222222222222222, \"#7201a8\"], [0.3333333333333333, \"#9c179e\"], [0.4444444444444444, \"#bd3786\"], [0.5555555555555556, \"#d8576b\"], [0.6666666666666666, \"#ed7953\"], [0.7777777777777778, \"#fb9f3a\"], [0.8888888888888888, \"#fdca26\"], [1.0, \"#f0f921\"]]}, \"colorway\": [\"#636efa\", \"#EF553B\", \"#00cc96\", \"#ab63fa\", \"#FFA15A\", \"#19d3f3\", \"#FF6692\", \"#B6E880\", \"#FF97FF\", \"#FECB52\"], \"font\": {\"color\": \"#2a3f5f\"}, \"geo\": {\"bgcolor\": \"white\", \"lakecolor\": \"white\", \"landcolor\": \"#E5ECF6\", \"showlakes\": true, \"showland\": true, \"subunitcolor\": \"white\"}, \"hoverlabel\": {\"align\": \"left\"}, \"hovermode\": \"closest\", \"mapbox\": {\"style\": \"light\"}, \"paper_bgcolor\": \"white\", \"plot_bgcolor\": \"#E5ECF6\", \"polar\": {\"angularaxis\": {\"gridcolor\": \"white\", \"linecolor\": \"white\", \"ticks\": \"\"}, \"bgcolor\": \"#E5ECF6\", \"radialaxis\": {\"gridcolor\": \"white\", \"linecolor\": \"white\", \"ticks\": \"\"}}, \"scene\": {\"xaxis\": {\"backgroundcolor\": \"#E5ECF6\", \"gridcolor\": \"white\", \"gridwidth\": 2, \"linecolor\": \"white\", \"showbackground\": true, \"ticks\": \"\", \"zerolinecolor\": \"white\"}, \"yaxis\": {\"backgroundcolor\": \"#E5ECF6\", \"gridcolor\": \"white\", \"gridwidth\": 2, \"linecolor\": \"white\", \"showbackground\": true, \"ticks\": \"\", \"zerolinecolor\": \"white\"}, \"zaxis\": {\"backgroundcolor\": \"#E5ECF6\", \"gridcolor\": \"white\", \"gridwidth\": 2, \"linecolor\": \"white\", \"showbackground\": true, \"ticks\": \"\", \"zerolinecolor\": \"white\"}}, \"shapedefaults\": {\"line\": {\"color\": \"#2a3f5f\"}}, \"ternary\": {\"aaxis\": {\"gridcolor\": \"white\", \"linecolor\": \"white\", \"ticks\": \"\"}, \"baxis\": {\"gridcolor\": \"white\", \"linecolor\": \"white\", \"ticks\": \"\"}, \"bgcolor\": \"#E5ECF6\", \"caxis\": {\"gridcolor\": \"white\", \"linecolor\": \"white\", \"ticks\": \"\"}}, \"title\": {\"x\": 0.05}, \"xaxis\": {\"automargin\": true, \"gridcolor\": \"white\", \"linecolor\": \"white\", \"ticks\": \"\", \"title\": {\"standoff\": 15}, \"zerolinecolor\": \"white\", \"zerolinewidth\": 2}, \"yaxis\": {\"automargin\": true, \"gridcolor\": \"white\", \"linecolor\": \"white\", \"ticks\": \"\", \"title\": {\"standoff\": 15}, \"zerolinecolor\": \"white\", \"zerolinewidth\": 2}}}, \"title\": {\"text\": \"\\ub0a0\\uc9dc\\ubcc4 \\ub3c4\\uc2dc\\ub77d\\ube48\\ub3c4\"}},                        {\"responsive\": true}                    ).then(function(){\n",
       "                            \n",
       "var gd = document.getElementById('fa899a7d-7664-40ee-9cc8-820257fd7af6');\n",
       "var x = new MutationObserver(function (mutations, observer) {{\n",
       "        var display = window.getComputedStyle(gd).display;\n",
       "        if (!display || display === 'none') {{\n",
       "            console.log([gd, 'removed!']);\n",
       "            Plotly.purge(gd);\n",
       "            observer.disconnect();\n",
       "        }}\n",
       "}});\n",
       "\n",
       "// Listen for the removal of the full notebook cells\n",
       "var notebookContainer = gd.closest('#notebook-container');\n",
       "if (notebookContainer) {{\n",
       "    x.observe(notebookContainer, {childList: true});\n",
       "}}\n",
       "\n",
       "// Listen for the clearing of the current output cell\n",
       "var outputEl = gd.closest('.output');\n",
       "if (outputEl) {{\n",
       "    x.observe(outputEl, {childList: true});\n",
       "}}\n",
       "\n",
       "                        })                };                });            </script>        </div>"
      ]
     },
     "metadata": {},
     "output_type": "display_data"
    }
   ],
   "source": [
    "# 막대 그래프 그리기\n",
    "trace1 = go.Bar(x=kkk3['PROCESS_DT'], y=kkk3['dosi'])\n",
    "data = [trace1]\n",
    "layout = go.Layout(title='날짜별 도시락빈도')\n",
    "fig = go.Figure(data=data, layout=layout)\n",
    "pyo.iplot(fig)"
   ]
  },
  {
   "cell_type": "code",
   "execution_count": 88,
   "metadata": {},
   "outputs": [],
   "source": [
    "# 분식만 뽑아냄\n",
    "kkkkkk = del_dstn['induty_nm'] == '분식'\n",
    "kkk4 = del_dstn[kkkkkk]"
   ]
  },
  {
   "cell_type": "code",
   "execution_count": 89,
   "metadata": {},
   "outputs": [],
   "source": [
    "# 그룹1에서 많이시키는 빈도\n",
    "kkk4 = kkk4.groupby(['PROCESS_DT']).size().reset_index(name='count')"
   ]
  },
  {
   "cell_type": "code",
   "execution_count": 90,
   "metadata": {},
   "outputs": [],
   "source": [
    "# 열이름 간단하게 변경\n",
    "kkk4 = kkk4.rename({'count':'bun'}, axis = 'columns')"
   ]
  },
  {
   "cell_type": "code",
   "execution_count": 92,
   "metadata": {},
   "outputs": [
    {
     "data": {
      "application/vnd.plotly.v1+json": {
       "config": {
        "linkText": "Export to plot.ly",
        "plotlyServerURL": "https://plot.ly",
        "showLink": false
       },
       "data": [
        {
         "type": "bar",
         "x": [
          "2020-01-01T00:00:00",
          "2020-01-02T00:00:00",
          "2020-01-03T00:00:00",
          "2020-01-04T00:00:00",
          "2020-01-05T00:00:00",
          "2020-01-06T00:00:00",
          "2020-01-07T00:00:00",
          "2020-01-08T00:00:00",
          "2020-01-09T00:00:00",
          "2020-01-10T00:00:00",
          "2020-01-11T00:00:00",
          "2020-01-12T00:00:00",
          "2020-01-13T00:00:00",
          "2020-01-14T00:00:00",
          "2020-01-15T00:00:00",
          "2020-01-16T00:00:00",
          "2020-01-17T00:00:00",
          "2020-01-18T00:00:00",
          "2020-01-19T00:00:00",
          "2020-01-20T00:00:00",
          "2020-01-21T00:00:00",
          "2020-01-22T00:00:00",
          "2020-01-23T00:00:00",
          "2020-01-24T00:00:00",
          "2020-01-25T00:00:00",
          "2020-01-26T00:00:00",
          "2020-01-27T00:00:00",
          "2020-01-28T00:00:00",
          "2020-01-29T00:00:00",
          "2020-01-30T00:00:00",
          "2020-01-31T00:00:00",
          "2020-02-01T00:00:00",
          "2020-02-02T00:00:00",
          "2020-02-03T00:00:00",
          "2020-02-04T00:00:00",
          "2020-02-05T00:00:00",
          "2020-02-06T00:00:00",
          "2020-02-07T00:00:00",
          "2020-02-08T00:00:00",
          "2020-02-09T00:00:00",
          "2020-02-10T00:00:00",
          "2020-02-11T00:00:00",
          "2020-02-12T00:00:00",
          "2020-02-13T00:00:00",
          "2020-02-14T00:00:00",
          "2020-02-15T00:00:00",
          "2020-02-16T00:00:00",
          "2020-02-17T00:00:00",
          "2020-02-18T00:00:00",
          "2020-02-19T00:00:00",
          "2020-02-20T00:00:00",
          "2020-02-21T00:00:00",
          "2020-02-22T00:00:00",
          "2020-02-23T00:00:00",
          "2020-02-24T00:00:00",
          "2020-02-25T00:00:00",
          "2020-02-26T00:00:00",
          "2020-02-27T00:00:00",
          "2020-02-28T00:00:00",
          "2020-02-29T00:00:00",
          "2020-03-01T00:00:00",
          "2020-03-02T00:00:00",
          "2020-03-03T00:00:00",
          "2020-03-04T00:00:00",
          "2020-03-05T00:00:00",
          "2020-03-06T00:00:00",
          "2020-03-07T00:00:00",
          "2020-03-08T00:00:00",
          "2020-03-09T00:00:00",
          "2020-03-10T00:00:00",
          "2020-03-11T00:00:00",
          "2020-03-12T00:00:00",
          "2020-03-13T00:00:00",
          "2020-03-14T00:00:00",
          "2020-03-15T00:00:00",
          "2020-03-16T00:00:00",
          "2020-03-17T00:00:00",
          "2020-03-18T00:00:00",
          "2020-03-19T00:00:00",
          "2020-03-20T00:00:00",
          "2020-03-21T00:00:00",
          "2020-03-22T00:00:00",
          "2020-03-23T00:00:00",
          "2020-03-24T00:00:00",
          "2020-03-25T00:00:00",
          "2020-03-26T00:00:00",
          "2020-03-27T00:00:00",
          "2020-03-28T00:00:00",
          "2020-03-29T00:00:00",
          "2020-03-30T00:00:00",
          "2020-03-31T00:00:00",
          "2020-04-01T00:00:00",
          "2020-04-02T00:00:00",
          "2020-04-03T00:00:00",
          "2020-04-04T00:00:00",
          "2020-04-05T00:00:00",
          "2020-04-06T00:00:00",
          "2020-04-07T00:00:00",
          "2020-04-08T00:00:00",
          "2020-04-09T00:00:00",
          "2020-04-10T00:00:00",
          "2020-04-11T00:00:00",
          "2020-04-12T00:00:00",
          "2020-04-13T00:00:00",
          "2020-04-14T00:00:00",
          "2020-04-15T00:00:00",
          "2020-04-16T00:00:00",
          "2020-04-17T00:00:00",
          "2020-04-18T00:00:00",
          "2020-04-19T00:00:00",
          "2020-04-20T00:00:00",
          "2020-04-21T00:00:00",
          "2020-04-22T00:00:00",
          "2020-04-23T00:00:00",
          "2020-04-24T00:00:00",
          "2020-04-25T00:00:00",
          "2020-04-26T00:00:00",
          "2020-04-27T00:00:00",
          "2020-04-28T00:00:00",
          "2020-04-29T00:00:00",
          "2020-04-30T00:00:00",
          "2020-05-01T00:00:00",
          "2020-05-02T00:00:00",
          "2020-05-03T00:00:00",
          "2020-05-04T00:00:00",
          "2020-05-05T00:00:00",
          "2020-05-06T00:00:00",
          "2020-05-07T00:00:00",
          "2020-05-08T00:00:00",
          "2020-05-09T00:00:00",
          "2020-05-10T00:00:00",
          "2020-05-11T00:00:00",
          "2020-05-12T00:00:00",
          "2020-05-13T00:00:00",
          "2020-05-14T00:00:00",
          "2020-05-15T00:00:00",
          "2020-05-16T00:00:00",
          "2020-05-17T00:00:00",
          "2020-05-19T00:00:00",
          "2020-05-20T00:00:00",
          "2020-05-21T00:00:00",
          "2020-05-22T00:00:00",
          "2020-05-23T00:00:00",
          "2020-05-24T00:00:00",
          "2020-05-25T00:00:00",
          "2020-05-26T00:00:00",
          "2020-05-27T00:00:00",
          "2020-05-28T00:00:00",
          "2020-05-29T00:00:00",
          "2020-05-30T00:00:00",
          "2020-05-31T00:00:00",
          "2020-06-01T00:00:00",
          "2020-06-02T00:00:00",
          "2020-06-03T00:00:00",
          "2020-06-04T00:00:00",
          "2020-06-05T00:00:00",
          "2020-06-06T00:00:00",
          "2020-06-07T00:00:00",
          "2020-06-08T00:00:00",
          "2020-06-09T00:00:00",
          "2020-06-10T00:00:00",
          "2020-06-11T00:00:00",
          "2020-06-12T00:00:00",
          "2020-06-20T00:00:00",
          "2020-06-21T00:00:00"
         ],
         "y": [
          3553,
          2775,
          3139,
          3544,
          3770,
          6382,
          3439,
          3074,
          3246,
          3440,
          3945,
          4092,
          2979,
          3012,
          2912,
          3170,
          3439,
          3892,
          4185,
          2888,
          3058,
          2995,
          3276,
          2247,
          1321,
          3289,
          4069,
          2943,
          3114,
          3498,
          3878,
          4339,
          4451,
          3645,
          3932,
          4053,
          3982,
          3933,
          4445,
          4514,
          3142,
          3149,
          3606,
          3170,
          3449,
          3953,
          4479,
          2980,
          3107,
          3247,
          3208,
          3815,
          4258,
          4062,
          3074,
          3655,
          3407,
          3419,
          4031,
          4034,
          4365,
          3268,
          3439,
          3251,
          3558,
          3598,
          4102,
          3990,
          3193,
          3996,
          3736,
          3647,
          3979,
          4135,
          4845,
          3305,
          3343,
          3264,
          3711,
          3949,
          4279,
          4652,
          3520,
          3810,
          3569,
          3878,
          4008,
          4643,
          4528,
          3409,
          4040,
          3754,
          3862,
          4208,
          4422,
          4480,
          3255,
          3442,
          3393,
          3510,
          3855,
          4290,
          4500,
          3074,
          3715,
          4160,
          3289,
          4225,
          4150,
          4765,
          3253,
          3708,
          3610,
          3531,
          3862,
          4343,
          4453,
          3385,
          3673,
          3481,
          4270,
          3385,
          4258,
          4393,
          4022,
          4655,
          3098,
          3420,
          4021,
          5142,
          5285,
          3781,
          3958,
          3755,
          3971,
          4879,
          4829,
          4750,
          4103,
          3585,
          3795,
          3913,
          4477,
          4983,
          3512,
          3830,
          3393,
          3537,
          3853,
          4634,
          4974,
          3273,
          3843,
          3386,
          3574,
          4014,
          4707,
          4565,
          3197,
          3531,
          3673,
          3641,
          4054,
          4382,
          4883
         ]
        }
       ],
       "layout": {
        "template": {
         "data": {
          "bar": [
           {
            "error_x": {
             "color": "#2a3f5f"
            },
            "error_y": {
             "color": "#2a3f5f"
            },
            "marker": {
             "line": {
              "color": "#E5ECF6",
              "width": 0.5
             }
            },
            "type": "bar"
           }
          ],
          "barpolar": [
           {
            "marker": {
             "line": {
              "color": "#E5ECF6",
              "width": 0.5
             }
            },
            "type": "barpolar"
           }
          ],
          "carpet": [
           {
            "aaxis": {
             "endlinecolor": "#2a3f5f",
             "gridcolor": "white",
             "linecolor": "white",
             "minorgridcolor": "white",
             "startlinecolor": "#2a3f5f"
            },
            "baxis": {
             "endlinecolor": "#2a3f5f",
             "gridcolor": "white",
             "linecolor": "white",
             "minorgridcolor": "white",
             "startlinecolor": "#2a3f5f"
            },
            "type": "carpet"
           }
          ],
          "choropleth": [
           {
            "colorbar": {
             "outlinewidth": 0,
             "ticks": ""
            },
            "type": "choropleth"
           }
          ],
          "contour": [
           {
            "colorbar": {
             "outlinewidth": 0,
             "ticks": ""
            },
            "colorscale": [
             [
              0,
              "#0d0887"
             ],
             [
              0.1111111111111111,
              "#46039f"
             ],
             [
              0.2222222222222222,
              "#7201a8"
             ],
             [
              0.3333333333333333,
              "#9c179e"
             ],
             [
              0.4444444444444444,
              "#bd3786"
             ],
             [
              0.5555555555555556,
              "#d8576b"
             ],
             [
              0.6666666666666666,
              "#ed7953"
             ],
             [
              0.7777777777777778,
              "#fb9f3a"
             ],
             [
              0.8888888888888888,
              "#fdca26"
             ],
             [
              1,
              "#f0f921"
             ]
            ],
            "type": "contour"
           }
          ],
          "contourcarpet": [
           {
            "colorbar": {
             "outlinewidth": 0,
             "ticks": ""
            },
            "type": "contourcarpet"
           }
          ],
          "heatmap": [
           {
            "colorbar": {
             "outlinewidth": 0,
             "ticks": ""
            },
            "colorscale": [
             [
              0,
              "#0d0887"
             ],
             [
              0.1111111111111111,
              "#46039f"
             ],
             [
              0.2222222222222222,
              "#7201a8"
             ],
             [
              0.3333333333333333,
              "#9c179e"
             ],
             [
              0.4444444444444444,
              "#bd3786"
             ],
             [
              0.5555555555555556,
              "#d8576b"
             ],
             [
              0.6666666666666666,
              "#ed7953"
             ],
             [
              0.7777777777777778,
              "#fb9f3a"
             ],
             [
              0.8888888888888888,
              "#fdca26"
             ],
             [
              1,
              "#f0f921"
             ]
            ],
            "type": "heatmap"
           }
          ],
          "heatmapgl": [
           {
            "colorbar": {
             "outlinewidth": 0,
             "ticks": ""
            },
            "colorscale": [
             [
              0,
              "#0d0887"
             ],
             [
              0.1111111111111111,
              "#46039f"
             ],
             [
              0.2222222222222222,
              "#7201a8"
             ],
             [
              0.3333333333333333,
              "#9c179e"
             ],
             [
              0.4444444444444444,
              "#bd3786"
             ],
             [
              0.5555555555555556,
              "#d8576b"
             ],
             [
              0.6666666666666666,
              "#ed7953"
             ],
             [
              0.7777777777777778,
              "#fb9f3a"
             ],
             [
              0.8888888888888888,
              "#fdca26"
             ],
             [
              1,
              "#f0f921"
             ]
            ],
            "type": "heatmapgl"
           }
          ],
          "histogram": [
           {
            "marker": {
             "colorbar": {
              "outlinewidth": 0,
              "ticks": ""
             }
            },
            "type": "histogram"
           }
          ],
          "histogram2d": [
           {
            "colorbar": {
             "outlinewidth": 0,
             "ticks": ""
            },
            "colorscale": [
             [
              0,
              "#0d0887"
             ],
             [
              0.1111111111111111,
              "#46039f"
             ],
             [
              0.2222222222222222,
              "#7201a8"
             ],
             [
              0.3333333333333333,
              "#9c179e"
             ],
             [
              0.4444444444444444,
              "#bd3786"
             ],
             [
              0.5555555555555556,
              "#d8576b"
             ],
             [
              0.6666666666666666,
              "#ed7953"
             ],
             [
              0.7777777777777778,
              "#fb9f3a"
             ],
             [
              0.8888888888888888,
              "#fdca26"
             ],
             [
              1,
              "#f0f921"
             ]
            ],
            "type": "histogram2d"
           }
          ],
          "histogram2dcontour": [
           {
            "colorbar": {
             "outlinewidth": 0,
             "ticks": ""
            },
            "colorscale": [
             [
              0,
              "#0d0887"
             ],
             [
              0.1111111111111111,
              "#46039f"
             ],
             [
              0.2222222222222222,
              "#7201a8"
             ],
             [
              0.3333333333333333,
              "#9c179e"
             ],
             [
              0.4444444444444444,
              "#bd3786"
             ],
             [
              0.5555555555555556,
              "#d8576b"
             ],
             [
              0.6666666666666666,
              "#ed7953"
             ],
             [
              0.7777777777777778,
              "#fb9f3a"
             ],
             [
              0.8888888888888888,
              "#fdca26"
             ],
             [
              1,
              "#f0f921"
             ]
            ],
            "type": "histogram2dcontour"
           }
          ],
          "mesh3d": [
           {
            "colorbar": {
             "outlinewidth": 0,
             "ticks": ""
            },
            "type": "mesh3d"
           }
          ],
          "parcoords": [
           {
            "line": {
             "colorbar": {
              "outlinewidth": 0,
              "ticks": ""
             }
            },
            "type": "parcoords"
           }
          ],
          "pie": [
           {
            "automargin": true,
            "type": "pie"
           }
          ],
          "scatter": [
           {
            "marker": {
             "colorbar": {
              "outlinewidth": 0,
              "ticks": ""
             }
            },
            "type": "scatter"
           }
          ],
          "scatter3d": [
           {
            "line": {
             "colorbar": {
              "outlinewidth": 0,
              "ticks": ""
             }
            },
            "marker": {
             "colorbar": {
              "outlinewidth": 0,
              "ticks": ""
             }
            },
            "type": "scatter3d"
           }
          ],
          "scattercarpet": [
           {
            "marker": {
             "colorbar": {
              "outlinewidth": 0,
              "ticks": ""
             }
            },
            "type": "scattercarpet"
           }
          ],
          "scattergeo": [
           {
            "marker": {
             "colorbar": {
              "outlinewidth": 0,
              "ticks": ""
             }
            },
            "type": "scattergeo"
           }
          ],
          "scattergl": [
           {
            "marker": {
             "colorbar": {
              "outlinewidth": 0,
              "ticks": ""
             }
            },
            "type": "scattergl"
           }
          ],
          "scattermapbox": [
           {
            "marker": {
             "colorbar": {
              "outlinewidth": 0,
              "ticks": ""
             }
            },
            "type": "scattermapbox"
           }
          ],
          "scatterpolar": [
           {
            "marker": {
             "colorbar": {
              "outlinewidth": 0,
              "ticks": ""
             }
            },
            "type": "scatterpolar"
           }
          ],
          "scatterpolargl": [
           {
            "marker": {
             "colorbar": {
              "outlinewidth": 0,
              "ticks": ""
             }
            },
            "type": "scatterpolargl"
           }
          ],
          "scatterternary": [
           {
            "marker": {
             "colorbar": {
              "outlinewidth": 0,
              "ticks": ""
             }
            },
            "type": "scatterternary"
           }
          ],
          "surface": [
           {
            "colorbar": {
             "outlinewidth": 0,
             "ticks": ""
            },
            "colorscale": [
             [
              0,
              "#0d0887"
             ],
             [
              0.1111111111111111,
              "#46039f"
             ],
             [
              0.2222222222222222,
              "#7201a8"
             ],
             [
              0.3333333333333333,
              "#9c179e"
             ],
             [
              0.4444444444444444,
              "#bd3786"
             ],
             [
              0.5555555555555556,
              "#d8576b"
             ],
             [
              0.6666666666666666,
              "#ed7953"
             ],
             [
              0.7777777777777778,
              "#fb9f3a"
             ],
             [
              0.8888888888888888,
              "#fdca26"
             ],
             [
              1,
              "#f0f921"
             ]
            ],
            "type": "surface"
           }
          ],
          "table": [
           {
            "cells": {
             "fill": {
              "color": "#EBF0F8"
             },
             "line": {
              "color": "white"
             }
            },
            "header": {
             "fill": {
              "color": "#C8D4E3"
             },
             "line": {
              "color": "white"
             }
            },
            "type": "table"
           }
          ]
         },
         "layout": {
          "annotationdefaults": {
           "arrowcolor": "#2a3f5f",
           "arrowhead": 0,
           "arrowwidth": 1
          },
          "coloraxis": {
           "colorbar": {
            "outlinewidth": 0,
            "ticks": ""
           }
          },
          "colorscale": {
           "diverging": [
            [
             0,
             "#8e0152"
            ],
            [
             0.1,
             "#c51b7d"
            ],
            [
             0.2,
             "#de77ae"
            ],
            [
             0.3,
             "#f1b6da"
            ],
            [
             0.4,
             "#fde0ef"
            ],
            [
             0.5,
             "#f7f7f7"
            ],
            [
             0.6,
             "#e6f5d0"
            ],
            [
             0.7,
             "#b8e186"
            ],
            [
             0.8,
             "#7fbc41"
            ],
            [
             0.9,
             "#4d9221"
            ],
            [
             1,
             "#276419"
            ]
           ],
           "sequential": [
            [
             0,
             "#0d0887"
            ],
            [
             0.1111111111111111,
             "#46039f"
            ],
            [
             0.2222222222222222,
             "#7201a8"
            ],
            [
             0.3333333333333333,
             "#9c179e"
            ],
            [
             0.4444444444444444,
             "#bd3786"
            ],
            [
             0.5555555555555556,
             "#d8576b"
            ],
            [
             0.6666666666666666,
             "#ed7953"
            ],
            [
             0.7777777777777778,
             "#fb9f3a"
            ],
            [
             0.8888888888888888,
             "#fdca26"
            ],
            [
             1,
             "#f0f921"
            ]
           ],
           "sequentialminus": [
            [
             0,
             "#0d0887"
            ],
            [
             0.1111111111111111,
             "#46039f"
            ],
            [
             0.2222222222222222,
             "#7201a8"
            ],
            [
             0.3333333333333333,
             "#9c179e"
            ],
            [
             0.4444444444444444,
             "#bd3786"
            ],
            [
             0.5555555555555556,
             "#d8576b"
            ],
            [
             0.6666666666666666,
             "#ed7953"
            ],
            [
             0.7777777777777778,
             "#fb9f3a"
            ],
            [
             0.8888888888888888,
             "#fdca26"
            ],
            [
             1,
             "#f0f921"
            ]
           ]
          },
          "colorway": [
           "#636efa",
           "#EF553B",
           "#00cc96",
           "#ab63fa",
           "#FFA15A",
           "#19d3f3",
           "#FF6692",
           "#B6E880",
           "#FF97FF",
           "#FECB52"
          ],
          "font": {
           "color": "#2a3f5f"
          },
          "geo": {
           "bgcolor": "white",
           "lakecolor": "white",
           "landcolor": "#E5ECF6",
           "showlakes": true,
           "showland": true,
           "subunitcolor": "white"
          },
          "hoverlabel": {
           "align": "left"
          },
          "hovermode": "closest",
          "mapbox": {
           "style": "light"
          },
          "paper_bgcolor": "white",
          "plot_bgcolor": "#E5ECF6",
          "polar": {
           "angularaxis": {
            "gridcolor": "white",
            "linecolor": "white",
            "ticks": ""
           },
           "bgcolor": "#E5ECF6",
           "radialaxis": {
            "gridcolor": "white",
            "linecolor": "white",
            "ticks": ""
           }
          },
          "scene": {
           "xaxis": {
            "backgroundcolor": "#E5ECF6",
            "gridcolor": "white",
            "gridwidth": 2,
            "linecolor": "white",
            "showbackground": true,
            "ticks": "",
            "zerolinecolor": "white"
           },
           "yaxis": {
            "backgroundcolor": "#E5ECF6",
            "gridcolor": "white",
            "gridwidth": 2,
            "linecolor": "white",
            "showbackground": true,
            "ticks": "",
            "zerolinecolor": "white"
           },
           "zaxis": {
            "backgroundcolor": "#E5ECF6",
            "gridcolor": "white",
            "gridwidth": 2,
            "linecolor": "white",
            "showbackground": true,
            "ticks": "",
            "zerolinecolor": "white"
           }
          },
          "shapedefaults": {
           "line": {
            "color": "#2a3f5f"
           }
          },
          "ternary": {
           "aaxis": {
            "gridcolor": "white",
            "linecolor": "white",
            "ticks": ""
           },
           "baxis": {
            "gridcolor": "white",
            "linecolor": "white",
            "ticks": ""
           },
           "bgcolor": "#E5ECF6",
           "caxis": {
            "gridcolor": "white",
            "linecolor": "white",
            "ticks": ""
           }
          },
          "title": {
           "x": 0.05
          },
          "xaxis": {
           "automargin": true,
           "gridcolor": "white",
           "linecolor": "white",
           "ticks": "",
           "title": {
            "standoff": 15
           },
           "zerolinecolor": "white",
           "zerolinewidth": 2
          },
          "yaxis": {
           "automargin": true,
           "gridcolor": "white",
           "linecolor": "white",
           "ticks": "",
           "title": {
            "standoff": 15
           },
           "zerolinecolor": "white",
           "zerolinewidth": 2
          }
         }
        },
        "title": {
         "text": "날짜별 분식 빈도"
        }
       }
      },
      "text/html": [
       "<div>                            <div id=\"13e7d7db-2f20-4153-98a1-53b75849f55e\" class=\"plotly-graph-div\" style=\"height:525px; width:100%;\"></div>            <script type=\"text/javascript\">                require([\"plotly\"], function(Plotly) {                    window.PLOTLYENV=window.PLOTLYENV || {};                                    if (document.getElementById(\"13e7d7db-2f20-4153-98a1-53b75849f55e\")) {                    Plotly.newPlot(                        \"13e7d7db-2f20-4153-98a1-53b75849f55e\",                        [{\"type\": \"bar\", \"x\": [\"2020-01-01T00:00:00\", \"2020-01-02T00:00:00\", \"2020-01-03T00:00:00\", \"2020-01-04T00:00:00\", \"2020-01-05T00:00:00\", \"2020-01-06T00:00:00\", \"2020-01-07T00:00:00\", \"2020-01-08T00:00:00\", \"2020-01-09T00:00:00\", \"2020-01-10T00:00:00\", \"2020-01-11T00:00:00\", \"2020-01-12T00:00:00\", \"2020-01-13T00:00:00\", \"2020-01-14T00:00:00\", \"2020-01-15T00:00:00\", \"2020-01-16T00:00:00\", \"2020-01-17T00:00:00\", \"2020-01-18T00:00:00\", \"2020-01-19T00:00:00\", \"2020-01-20T00:00:00\", \"2020-01-21T00:00:00\", \"2020-01-22T00:00:00\", \"2020-01-23T00:00:00\", \"2020-01-24T00:00:00\", \"2020-01-25T00:00:00\", \"2020-01-26T00:00:00\", \"2020-01-27T00:00:00\", \"2020-01-28T00:00:00\", \"2020-01-29T00:00:00\", \"2020-01-30T00:00:00\", \"2020-01-31T00:00:00\", \"2020-02-01T00:00:00\", \"2020-02-02T00:00:00\", \"2020-02-03T00:00:00\", \"2020-02-04T00:00:00\", \"2020-02-05T00:00:00\", \"2020-02-06T00:00:00\", \"2020-02-07T00:00:00\", \"2020-02-08T00:00:00\", \"2020-02-09T00:00:00\", \"2020-02-10T00:00:00\", \"2020-02-11T00:00:00\", \"2020-02-12T00:00:00\", \"2020-02-13T00:00:00\", \"2020-02-14T00:00:00\", \"2020-02-15T00:00:00\", \"2020-02-16T00:00:00\", \"2020-02-17T00:00:00\", \"2020-02-18T00:00:00\", \"2020-02-19T00:00:00\", \"2020-02-20T00:00:00\", \"2020-02-21T00:00:00\", \"2020-02-22T00:00:00\", \"2020-02-23T00:00:00\", \"2020-02-24T00:00:00\", \"2020-02-25T00:00:00\", \"2020-02-26T00:00:00\", \"2020-02-27T00:00:00\", \"2020-02-28T00:00:00\", \"2020-02-29T00:00:00\", \"2020-03-01T00:00:00\", \"2020-03-02T00:00:00\", \"2020-03-03T00:00:00\", \"2020-03-04T00:00:00\", \"2020-03-05T00:00:00\", \"2020-03-06T00:00:00\", \"2020-03-07T00:00:00\", \"2020-03-08T00:00:00\", \"2020-03-09T00:00:00\", \"2020-03-10T00:00:00\", \"2020-03-11T00:00:00\", \"2020-03-12T00:00:00\", \"2020-03-13T00:00:00\", \"2020-03-14T00:00:00\", \"2020-03-15T00:00:00\", \"2020-03-16T00:00:00\", \"2020-03-17T00:00:00\", \"2020-03-18T00:00:00\", \"2020-03-19T00:00:00\", \"2020-03-20T00:00:00\", \"2020-03-21T00:00:00\", \"2020-03-22T00:00:00\", \"2020-03-23T00:00:00\", \"2020-03-24T00:00:00\", \"2020-03-25T00:00:00\", \"2020-03-26T00:00:00\", \"2020-03-27T00:00:00\", \"2020-03-28T00:00:00\", \"2020-03-29T00:00:00\", \"2020-03-30T00:00:00\", \"2020-03-31T00:00:00\", \"2020-04-01T00:00:00\", \"2020-04-02T00:00:00\", \"2020-04-03T00:00:00\", \"2020-04-04T00:00:00\", \"2020-04-05T00:00:00\", \"2020-04-06T00:00:00\", \"2020-04-07T00:00:00\", \"2020-04-08T00:00:00\", \"2020-04-09T00:00:00\", \"2020-04-10T00:00:00\", \"2020-04-11T00:00:00\", \"2020-04-12T00:00:00\", \"2020-04-13T00:00:00\", \"2020-04-14T00:00:00\", \"2020-04-15T00:00:00\", \"2020-04-16T00:00:00\", \"2020-04-17T00:00:00\", \"2020-04-18T00:00:00\", \"2020-04-19T00:00:00\", \"2020-04-20T00:00:00\", \"2020-04-21T00:00:00\", \"2020-04-22T00:00:00\", \"2020-04-23T00:00:00\", \"2020-04-24T00:00:00\", \"2020-04-25T00:00:00\", \"2020-04-26T00:00:00\", \"2020-04-27T00:00:00\", \"2020-04-28T00:00:00\", \"2020-04-29T00:00:00\", \"2020-04-30T00:00:00\", \"2020-05-01T00:00:00\", \"2020-05-02T00:00:00\", \"2020-05-03T00:00:00\", \"2020-05-04T00:00:00\", \"2020-05-05T00:00:00\", \"2020-05-06T00:00:00\", \"2020-05-07T00:00:00\", \"2020-05-08T00:00:00\", \"2020-05-09T00:00:00\", \"2020-05-10T00:00:00\", \"2020-05-11T00:00:00\", \"2020-05-12T00:00:00\", \"2020-05-13T00:00:00\", \"2020-05-14T00:00:00\", \"2020-05-15T00:00:00\", \"2020-05-16T00:00:00\", \"2020-05-17T00:00:00\", \"2020-05-19T00:00:00\", \"2020-05-20T00:00:00\", \"2020-05-21T00:00:00\", \"2020-05-22T00:00:00\", \"2020-05-23T00:00:00\", \"2020-05-24T00:00:00\", \"2020-05-25T00:00:00\", \"2020-05-26T00:00:00\", \"2020-05-27T00:00:00\", \"2020-05-28T00:00:00\", \"2020-05-29T00:00:00\", \"2020-05-30T00:00:00\", \"2020-05-31T00:00:00\", \"2020-06-01T00:00:00\", \"2020-06-02T00:00:00\", \"2020-06-03T00:00:00\", \"2020-06-04T00:00:00\", \"2020-06-05T00:00:00\", \"2020-06-06T00:00:00\", \"2020-06-07T00:00:00\", \"2020-06-08T00:00:00\", \"2020-06-09T00:00:00\", \"2020-06-10T00:00:00\", \"2020-06-11T00:00:00\", \"2020-06-12T00:00:00\", \"2020-06-20T00:00:00\", \"2020-06-21T00:00:00\"], \"y\": [3553, 2775, 3139, 3544, 3770, 6382, 3439, 3074, 3246, 3440, 3945, 4092, 2979, 3012, 2912, 3170, 3439, 3892, 4185, 2888, 3058, 2995, 3276, 2247, 1321, 3289, 4069, 2943, 3114, 3498, 3878, 4339, 4451, 3645, 3932, 4053, 3982, 3933, 4445, 4514, 3142, 3149, 3606, 3170, 3449, 3953, 4479, 2980, 3107, 3247, 3208, 3815, 4258, 4062, 3074, 3655, 3407, 3419, 4031, 4034, 4365, 3268, 3439, 3251, 3558, 3598, 4102, 3990, 3193, 3996, 3736, 3647, 3979, 4135, 4845, 3305, 3343, 3264, 3711, 3949, 4279, 4652, 3520, 3810, 3569, 3878, 4008, 4643, 4528, 3409, 4040, 3754, 3862, 4208, 4422, 4480, 3255, 3442, 3393, 3510, 3855, 4290, 4500, 3074, 3715, 4160, 3289, 4225, 4150, 4765, 3253, 3708, 3610, 3531, 3862, 4343, 4453, 3385, 3673, 3481, 4270, 3385, 4258, 4393, 4022, 4655, 3098, 3420, 4021, 5142, 5285, 3781, 3958, 3755, 3971, 4879, 4829, 4750, 4103, 3585, 3795, 3913, 4477, 4983, 3512, 3830, 3393, 3537, 3853, 4634, 4974, 3273, 3843, 3386, 3574, 4014, 4707, 4565, 3197, 3531, 3673, 3641, 4054, 4382, 4883]}],                        {\"template\": {\"data\": {\"bar\": [{\"error_x\": {\"color\": \"#2a3f5f\"}, \"error_y\": {\"color\": \"#2a3f5f\"}, \"marker\": {\"line\": {\"color\": \"#E5ECF6\", \"width\": 0.5}}, \"type\": \"bar\"}], \"barpolar\": [{\"marker\": {\"line\": {\"color\": \"#E5ECF6\", \"width\": 0.5}}, \"type\": \"barpolar\"}], \"carpet\": [{\"aaxis\": {\"endlinecolor\": \"#2a3f5f\", \"gridcolor\": \"white\", \"linecolor\": \"white\", \"minorgridcolor\": \"white\", \"startlinecolor\": \"#2a3f5f\"}, \"baxis\": {\"endlinecolor\": \"#2a3f5f\", \"gridcolor\": \"white\", \"linecolor\": \"white\", \"minorgridcolor\": \"white\", \"startlinecolor\": \"#2a3f5f\"}, \"type\": \"carpet\"}], \"choropleth\": [{\"colorbar\": {\"outlinewidth\": 0, \"ticks\": \"\"}, \"type\": \"choropleth\"}], \"contour\": [{\"colorbar\": {\"outlinewidth\": 0, \"ticks\": \"\"}, \"colorscale\": [[0.0, \"#0d0887\"], [0.1111111111111111, \"#46039f\"], [0.2222222222222222, \"#7201a8\"], [0.3333333333333333, \"#9c179e\"], [0.4444444444444444, \"#bd3786\"], [0.5555555555555556, \"#d8576b\"], [0.6666666666666666, \"#ed7953\"], [0.7777777777777778, \"#fb9f3a\"], [0.8888888888888888, \"#fdca26\"], [1.0, \"#f0f921\"]], \"type\": \"contour\"}], \"contourcarpet\": [{\"colorbar\": {\"outlinewidth\": 0, \"ticks\": \"\"}, \"type\": \"contourcarpet\"}], \"heatmap\": [{\"colorbar\": {\"outlinewidth\": 0, \"ticks\": \"\"}, \"colorscale\": [[0.0, \"#0d0887\"], [0.1111111111111111, \"#46039f\"], [0.2222222222222222, \"#7201a8\"], [0.3333333333333333, \"#9c179e\"], [0.4444444444444444, \"#bd3786\"], [0.5555555555555556, \"#d8576b\"], [0.6666666666666666, \"#ed7953\"], [0.7777777777777778, \"#fb9f3a\"], [0.8888888888888888, \"#fdca26\"], [1.0, \"#f0f921\"]], \"type\": \"heatmap\"}], \"heatmapgl\": [{\"colorbar\": {\"outlinewidth\": 0, \"ticks\": \"\"}, \"colorscale\": [[0.0, \"#0d0887\"], [0.1111111111111111, \"#46039f\"], [0.2222222222222222, \"#7201a8\"], [0.3333333333333333, \"#9c179e\"], [0.4444444444444444, \"#bd3786\"], [0.5555555555555556, \"#d8576b\"], [0.6666666666666666, \"#ed7953\"], [0.7777777777777778, \"#fb9f3a\"], [0.8888888888888888, \"#fdca26\"], [1.0, \"#f0f921\"]], \"type\": \"heatmapgl\"}], \"histogram\": [{\"marker\": {\"colorbar\": {\"outlinewidth\": 0, \"ticks\": \"\"}}, \"type\": \"histogram\"}], \"histogram2d\": [{\"colorbar\": {\"outlinewidth\": 0, \"ticks\": \"\"}, \"colorscale\": [[0.0, \"#0d0887\"], [0.1111111111111111, \"#46039f\"], [0.2222222222222222, \"#7201a8\"], [0.3333333333333333, \"#9c179e\"], [0.4444444444444444, \"#bd3786\"], [0.5555555555555556, \"#d8576b\"], [0.6666666666666666, \"#ed7953\"], [0.7777777777777778, \"#fb9f3a\"], [0.8888888888888888, \"#fdca26\"], [1.0, \"#f0f921\"]], \"type\": \"histogram2d\"}], \"histogram2dcontour\": [{\"colorbar\": {\"outlinewidth\": 0, \"ticks\": \"\"}, \"colorscale\": [[0.0, \"#0d0887\"], [0.1111111111111111, \"#46039f\"], [0.2222222222222222, \"#7201a8\"], [0.3333333333333333, \"#9c179e\"], [0.4444444444444444, \"#bd3786\"], [0.5555555555555556, \"#d8576b\"], [0.6666666666666666, \"#ed7953\"], [0.7777777777777778, \"#fb9f3a\"], [0.8888888888888888, \"#fdca26\"], [1.0, \"#f0f921\"]], \"type\": \"histogram2dcontour\"}], \"mesh3d\": [{\"colorbar\": {\"outlinewidth\": 0, \"ticks\": \"\"}, \"type\": \"mesh3d\"}], \"parcoords\": [{\"line\": {\"colorbar\": {\"outlinewidth\": 0, \"ticks\": \"\"}}, \"type\": \"parcoords\"}], \"pie\": [{\"automargin\": true, \"type\": \"pie\"}], \"scatter\": [{\"marker\": {\"colorbar\": {\"outlinewidth\": 0, \"ticks\": \"\"}}, \"type\": \"scatter\"}], \"scatter3d\": [{\"line\": {\"colorbar\": {\"outlinewidth\": 0, \"ticks\": \"\"}}, \"marker\": {\"colorbar\": {\"outlinewidth\": 0, \"ticks\": \"\"}}, \"type\": \"scatter3d\"}], \"scattercarpet\": [{\"marker\": {\"colorbar\": {\"outlinewidth\": 0, \"ticks\": \"\"}}, \"type\": \"scattercarpet\"}], \"scattergeo\": [{\"marker\": {\"colorbar\": {\"outlinewidth\": 0, \"ticks\": \"\"}}, \"type\": \"scattergeo\"}], \"scattergl\": [{\"marker\": {\"colorbar\": {\"outlinewidth\": 0, \"ticks\": \"\"}}, \"type\": \"scattergl\"}], \"scattermapbox\": [{\"marker\": {\"colorbar\": {\"outlinewidth\": 0, \"ticks\": \"\"}}, \"type\": \"scattermapbox\"}], \"scatterpolar\": [{\"marker\": {\"colorbar\": {\"outlinewidth\": 0, \"ticks\": \"\"}}, \"type\": \"scatterpolar\"}], \"scatterpolargl\": [{\"marker\": {\"colorbar\": {\"outlinewidth\": 0, \"ticks\": \"\"}}, \"type\": \"scatterpolargl\"}], \"scatterternary\": [{\"marker\": {\"colorbar\": {\"outlinewidth\": 0, \"ticks\": \"\"}}, \"type\": \"scatterternary\"}], \"surface\": [{\"colorbar\": {\"outlinewidth\": 0, \"ticks\": \"\"}, \"colorscale\": [[0.0, \"#0d0887\"], [0.1111111111111111, \"#46039f\"], [0.2222222222222222, \"#7201a8\"], [0.3333333333333333, \"#9c179e\"], [0.4444444444444444, \"#bd3786\"], [0.5555555555555556, \"#d8576b\"], [0.6666666666666666, \"#ed7953\"], [0.7777777777777778, \"#fb9f3a\"], [0.8888888888888888, \"#fdca26\"], [1.0, \"#f0f921\"]], \"type\": \"surface\"}], \"table\": [{\"cells\": {\"fill\": {\"color\": \"#EBF0F8\"}, \"line\": {\"color\": \"white\"}}, \"header\": {\"fill\": {\"color\": \"#C8D4E3\"}, \"line\": {\"color\": \"white\"}}, \"type\": \"table\"}]}, \"layout\": {\"annotationdefaults\": {\"arrowcolor\": \"#2a3f5f\", \"arrowhead\": 0, \"arrowwidth\": 1}, \"coloraxis\": {\"colorbar\": {\"outlinewidth\": 0, \"ticks\": \"\"}}, \"colorscale\": {\"diverging\": [[0, \"#8e0152\"], [0.1, \"#c51b7d\"], [0.2, \"#de77ae\"], [0.3, \"#f1b6da\"], [0.4, \"#fde0ef\"], [0.5, \"#f7f7f7\"], [0.6, \"#e6f5d0\"], [0.7, \"#b8e186\"], [0.8, \"#7fbc41\"], [0.9, \"#4d9221\"], [1, \"#276419\"]], \"sequential\": [[0.0, \"#0d0887\"], [0.1111111111111111, \"#46039f\"], [0.2222222222222222, \"#7201a8\"], [0.3333333333333333, \"#9c179e\"], [0.4444444444444444, \"#bd3786\"], [0.5555555555555556, \"#d8576b\"], [0.6666666666666666, \"#ed7953\"], [0.7777777777777778, \"#fb9f3a\"], [0.8888888888888888, \"#fdca26\"], [1.0, \"#f0f921\"]], \"sequentialminus\": [[0.0, \"#0d0887\"], [0.1111111111111111, \"#46039f\"], [0.2222222222222222, \"#7201a8\"], [0.3333333333333333, \"#9c179e\"], [0.4444444444444444, \"#bd3786\"], [0.5555555555555556, \"#d8576b\"], [0.6666666666666666, \"#ed7953\"], [0.7777777777777778, \"#fb9f3a\"], [0.8888888888888888, \"#fdca26\"], [1.0, \"#f0f921\"]]}, \"colorway\": [\"#636efa\", \"#EF553B\", \"#00cc96\", \"#ab63fa\", \"#FFA15A\", \"#19d3f3\", \"#FF6692\", \"#B6E880\", \"#FF97FF\", \"#FECB52\"], \"font\": {\"color\": \"#2a3f5f\"}, \"geo\": {\"bgcolor\": \"white\", \"lakecolor\": \"white\", \"landcolor\": \"#E5ECF6\", \"showlakes\": true, \"showland\": true, \"subunitcolor\": \"white\"}, \"hoverlabel\": {\"align\": \"left\"}, \"hovermode\": \"closest\", \"mapbox\": {\"style\": \"light\"}, \"paper_bgcolor\": \"white\", \"plot_bgcolor\": \"#E5ECF6\", \"polar\": {\"angularaxis\": {\"gridcolor\": \"white\", \"linecolor\": \"white\", \"ticks\": \"\"}, \"bgcolor\": \"#E5ECF6\", \"radialaxis\": {\"gridcolor\": \"white\", \"linecolor\": \"white\", \"ticks\": \"\"}}, \"scene\": {\"xaxis\": {\"backgroundcolor\": \"#E5ECF6\", \"gridcolor\": \"white\", \"gridwidth\": 2, \"linecolor\": \"white\", \"showbackground\": true, \"ticks\": \"\", \"zerolinecolor\": \"white\"}, \"yaxis\": {\"backgroundcolor\": \"#E5ECF6\", \"gridcolor\": \"white\", \"gridwidth\": 2, \"linecolor\": \"white\", \"showbackground\": true, \"ticks\": \"\", \"zerolinecolor\": \"white\"}, \"zaxis\": {\"backgroundcolor\": \"#E5ECF6\", \"gridcolor\": \"white\", \"gridwidth\": 2, \"linecolor\": \"white\", \"showbackground\": true, \"ticks\": \"\", \"zerolinecolor\": \"white\"}}, \"shapedefaults\": {\"line\": {\"color\": \"#2a3f5f\"}}, \"ternary\": {\"aaxis\": {\"gridcolor\": \"white\", \"linecolor\": \"white\", \"ticks\": \"\"}, \"baxis\": {\"gridcolor\": \"white\", \"linecolor\": \"white\", \"ticks\": \"\"}, \"bgcolor\": \"#E5ECF6\", \"caxis\": {\"gridcolor\": \"white\", \"linecolor\": \"white\", \"ticks\": \"\"}}, \"title\": {\"x\": 0.05}, \"xaxis\": {\"automargin\": true, \"gridcolor\": \"white\", \"linecolor\": \"white\", \"ticks\": \"\", \"title\": {\"standoff\": 15}, \"zerolinecolor\": \"white\", \"zerolinewidth\": 2}, \"yaxis\": {\"automargin\": true, \"gridcolor\": \"white\", \"linecolor\": \"white\", \"ticks\": \"\", \"title\": {\"standoff\": 15}, \"zerolinecolor\": \"white\", \"zerolinewidth\": 2}}}, \"title\": {\"text\": \"\\ub0a0\\uc9dc\\ubcc4 \\ubd84\\uc2dd \\ube48\\ub3c4\"}},                        {\"responsive\": true}                    ).then(function(){\n",
       "                            \n",
       "var gd = document.getElementById('13e7d7db-2f20-4153-98a1-53b75849f55e');\n",
       "var x = new MutationObserver(function (mutations, observer) {{\n",
       "        var display = window.getComputedStyle(gd).display;\n",
       "        if (!display || display === 'none') {{\n",
       "            console.log([gd, 'removed!']);\n",
       "            Plotly.purge(gd);\n",
       "            observer.disconnect();\n",
       "        }}\n",
       "}});\n",
       "\n",
       "// Listen for the removal of the full notebook cells\n",
       "var notebookContainer = gd.closest('#notebook-container');\n",
       "if (notebookContainer) {{\n",
       "    x.observe(notebookContainer, {childList: true});\n",
       "}}\n",
       "\n",
       "// Listen for the clearing of the current output cell\n",
       "var outputEl = gd.closest('.output');\n",
       "if (outputEl) {{\n",
       "    x.observe(outputEl, {childList: true});\n",
       "}}\n",
       "\n",
       "                        })                };                });            </script>        </div>"
      ]
     },
     "metadata": {},
     "output_type": "display_data"
    }
   ],
   "source": [
    "# 막대 그래프 그리기\n",
    "trace1 = go.Bar(x=kkk4['PROCESS_DT'], y=kkk4['bun'])\n",
    "data = [trace1]\n",
    "layout = go.Layout(title='날짜별 분식 빈도')\n",
    "fig = go.Figure(data=data, layout=layout)\n",
    "pyo.iplot(fig)"
   ]
  },
  {
   "cell_type": "code",
   "execution_count": 106,
   "metadata": {},
   "outputs": [],
   "source": [
    "# 카페/디저트만 뽑아냄\n",
    "kkkkkkk = del_dstn['induty_nm'] == '카페/디저트'\n",
    "kkk5 = del_dstn[kkkkkkk]"
   ]
  },
  {
   "cell_type": "code",
   "execution_count": 107,
   "metadata": {},
   "outputs": [],
   "source": [
    "# 그룹1에서 많이시키는 빈도\n",
    "kkk5 = kkk5.groupby(['PROCESS_DT']).size().reset_index(name='count')"
   ]
  },
  {
   "cell_type": "code",
   "execution_count": 108,
   "metadata": {},
   "outputs": [],
   "source": [
    "# 열이름 간단하게 변경\n",
    "kkk5 = kkk5.rename({'count':'cafe'}, axis = 'columns')"
   ]
  },
  {
   "cell_type": "code",
   "execution_count": 109,
   "metadata": {},
   "outputs": [
    {
     "data": {
      "application/vnd.plotly.v1+json": {
       "config": {
        "linkText": "Export to plot.ly",
        "plotlyServerURL": "https://plot.ly",
        "showLink": false
       },
       "data": [
        {
         "type": "bar",
         "x": [
          "2020-01-01T00:00:00",
          "2020-01-02T00:00:00",
          "2020-01-03T00:00:00",
          "2020-01-04T00:00:00",
          "2020-01-05T00:00:00",
          "2020-01-06T00:00:00",
          "2020-01-07T00:00:00",
          "2020-01-08T00:00:00",
          "2020-01-09T00:00:00",
          "2020-01-10T00:00:00",
          "2020-01-11T00:00:00",
          "2020-01-12T00:00:00",
          "2020-01-13T00:00:00",
          "2020-01-14T00:00:00",
          "2020-01-15T00:00:00",
          "2020-01-16T00:00:00",
          "2020-01-17T00:00:00",
          "2020-01-18T00:00:00",
          "2020-01-19T00:00:00",
          "2020-01-20T00:00:00",
          "2020-01-21T00:00:00",
          "2020-01-22T00:00:00",
          "2020-01-23T00:00:00",
          "2020-01-24T00:00:00",
          "2020-01-25T00:00:00",
          "2020-01-26T00:00:00",
          "2020-01-27T00:00:00",
          "2020-01-28T00:00:00",
          "2020-01-29T00:00:00",
          "2020-01-30T00:00:00",
          "2020-01-31T00:00:00",
          "2020-02-01T00:00:00",
          "2020-02-02T00:00:00",
          "2020-02-03T00:00:00",
          "2020-02-04T00:00:00",
          "2020-02-05T00:00:00",
          "2020-02-06T00:00:00",
          "2020-02-07T00:00:00",
          "2020-02-08T00:00:00",
          "2020-02-09T00:00:00",
          "2020-02-10T00:00:00",
          "2020-02-11T00:00:00",
          "2020-02-12T00:00:00",
          "2020-02-13T00:00:00",
          "2020-02-14T00:00:00",
          "2020-02-15T00:00:00",
          "2020-02-16T00:00:00",
          "2020-02-17T00:00:00",
          "2020-02-18T00:00:00",
          "2020-02-19T00:00:00",
          "2020-02-20T00:00:00",
          "2020-02-21T00:00:00",
          "2020-02-22T00:00:00",
          "2020-02-23T00:00:00",
          "2020-02-24T00:00:00",
          "2020-02-25T00:00:00",
          "2020-02-26T00:00:00",
          "2020-02-27T00:00:00",
          "2020-02-28T00:00:00",
          "2020-02-29T00:00:00",
          "2020-03-01T00:00:00",
          "2020-03-02T00:00:00",
          "2020-03-03T00:00:00",
          "2020-03-04T00:00:00",
          "2020-03-05T00:00:00",
          "2020-03-06T00:00:00",
          "2020-03-07T00:00:00",
          "2020-03-08T00:00:00",
          "2020-03-09T00:00:00",
          "2020-03-10T00:00:00",
          "2020-03-11T00:00:00",
          "2020-03-12T00:00:00",
          "2020-03-13T00:00:00",
          "2020-03-14T00:00:00",
          "2020-03-15T00:00:00",
          "2020-03-16T00:00:00",
          "2020-03-17T00:00:00",
          "2020-03-18T00:00:00",
          "2020-03-19T00:00:00",
          "2020-03-20T00:00:00",
          "2020-03-21T00:00:00",
          "2020-03-22T00:00:00",
          "2020-03-23T00:00:00",
          "2020-03-24T00:00:00",
          "2020-03-25T00:00:00",
          "2020-03-26T00:00:00",
          "2020-03-27T00:00:00",
          "2020-03-28T00:00:00",
          "2020-03-29T00:00:00",
          "2020-03-30T00:00:00",
          "2020-03-31T00:00:00",
          "2020-04-01T00:00:00",
          "2020-04-02T00:00:00",
          "2020-04-03T00:00:00",
          "2020-04-04T00:00:00",
          "2020-04-05T00:00:00",
          "2020-04-06T00:00:00",
          "2020-04-07T00:00:00",
          "2020-04-08T00:00:00",
          "2020-04-09T00:00:00",
          "2020-04-10T00:00:00",
          "2020-04-11T00:00:00",
          "2020-04-12T00:00:00",
          "2020-04-13T00:00:00",
          "2020-04-14T00:00:00",
          "2020-04-15T00:00:00",
          "2020-04-16T00:00:00",
          "2020-04-17T00:00:00",
          "2020-04-18T00:00:00",
          "2020-04-19T00:00:00",
          "2020-04-20T00:00:00",
          "2020-04-21T00:00:00",
          "2020-04-22T00:00:00",
          "2020-04-23T00:00:00",
          "2020-04-24T00:00:00",
          "2020-04-25T00:00:00",
          "2020-04-26T00:00:00",
          "2020-04-27T00:00:00",
          "2020-04-28T00:00:00",
          "2020-04-29T00:00:00",
          "2020-04-30T00:00:00",
          "2020-05-01T00:00:00",
          "2020-05-02T00:00:00",
          "2020-05-03T00:00:00",
          "2020-05-04T00:00:00",
          "2020-05-05T00:00:00",
          "2020-05-06T00:00:00",
          "2020-05-07T00:00:00",
          "2020-05-08T00:00:00",
          "2020-05-09T00:00:00",
          "2020-05-10T00:00:00",
          "2020-05-11T00:00:00",
          "2020-05-12T00:00:00",
          "2020-05-13T00:00:00",
          "2020-05-14T00:00:00",
          "2020-05-15T00:00:00",
          "2020-05-16T00:00:00",
          "2020-05-17T00:00:00",
          "2020-05-19T00:00:00",
          "2020-05-20T00:00:00",
          "2020-05-21T00:00:00",
          "2020-05-22T00:00:00",
          "2020-05-23T00:00:00",
          "2020-05-24T00:00:00",
          "2020-05-25T00:00:00",
          "2020-05-26T00:00:00",
          "2020-05-27T00:00:00",
          "2020-05-28T00:00:00",
          "2020-05-29T00:00:00",
          "2020-05-30T00:00:00",
          "2020-05-31T00:00:00",
          "2020-06-01T00:00:00",
          "2020-06-02T00:00:00",
          "2020-06-03T00:00:00",
          "2020-06-04T00:00:00",
          "2020-06-05T00:00:00",
          "2020-06-06T00:00:00",
          "2020-06-07T00:00:00",
          "2020-06-08T00:00:00",
          "2020-06-09T00:00:00",
          "2020-06-10T00:00:00",
          "2020-06-11T00:00:00",
          "2020-06-12T00:00:00",
          "2020-06-20T00:00:00",
          "2020-06-21T00:00:00"
         ],
         "y": [
          2859,
          1657,
          2019,
          2475,
          2720,
          3320,
          1792,
          1513,
          1631,
          1839,
          2452,
          2793,
          2614,
          2248,
          2031,
          2145,
          2735,
          2987,
          2654,
          1375,
          1361,
          1357,
          1602,
          1795,
          1385,
          1788,
          2869,
          1541,
          1482,
          1655,
          2051,
          3115,
          3459,
          1916,
          1907,
          2141,
          2204,
          2418,
          3463,
          3723,
          2230,
          2035,
          2214,
          2029,
          2739,
          3246,
          3533,
          2464,
          2876,
          2548,
          2634,
          3104,
          4378,
          4485,
          2236,
          2463,
          2394,
          2565,
          3337,
          3881,
          3974,
          2581,
          2277,
          2505,
          2520,
          3038,
          3669,
          3655,
          2982,
          3196,
          3003,
          2990,
          3356,
          4436,
          4329,
          2429,
          2261,
          2328,
          3097,
          2933,
          3495,
          3685,
          2520,
          2095,
          2302,
          2468,
          2929,
          3431,
          3551,
          2060,
          3667,
          2391,
          2609,
          2913,
          3660,
          3791,
          2556,
          2073,
          2185,
          2185,
          2612,
          3184,
          3616,
          3017,
          3110,
          3747,
          3131,
          3714,
          3467,
          4410,
          2773,
          2517,
          2575,
          2732,
          2919,
          4402,
          4607,
          1803,
          1696,
          1942,
          3013,
          2381,
          3122,
          3333,
          2564,
          3479,
          1765,
          1954,
          2949,
          4222,
          4271,
          2514,
          2092,
          2218,
          2306,
          3214,
          3689,
          4125,
          2385,
          2068,
          2352,
          2615,
          3376,
          3808,
          2084,
          2006,
          1919,
          2054,
          2514,
          3154,
          4117,
          2340,
          2243,
          2287,
          2306,
          2766,
          3833,
          3854,
          2911,
          2826,
          2741,
          2849,
          3068,
          4457,
          5105
         ]
        }
       ],
       "layout": {
        "template": {
         "data": {
          "bar": [
           {
            "error_x": {
             "color": "#2a3f5f"
            },
            "error_y": {
             "color": "#2a3f5f"
            },
            "marker": {
             "line": {
              "color": "#E5ECF6",
              "width": 0.5
             }
            },
            "type": "bar"
           }
          ],
          "barpolar": [
           {
            "marker": {
             "line": {
              "color": "#E5ECF6",
              "width": 0.5
             }
            },
            "type": "barpolar"
           }
          ],
          "carpet": [
           {
            "aaxis": {
             "endlinecolor": "#2a3f5f",
             "gridcolor": "white",
             "linecolor": "white",
             "minorgridcolor": "white",
             "startlinecolor": "#2a3f5f"
            },
            "baxis": {
             "endlinecolor": "#2a3f5f",
             "gridcolor": "white",
             "linecolor": "white",
             "minorgridcolor": "white",
             "startlinecolor": "#2a3f5f"
            },
            "type": "carpet"
           }
          ],
          "choropleth": [
           {
            "colorbar": {
             "outlinewidth": 0,
             "ticks": ""
            },
            "type": "choropleth"
           }
          ],
          "contour": [
           {
            "colorbar": {
             "outlinewidth": 0,
             "ticks": ""
            },
            "colorscale": [
             [
              0,
              "#0d0887"
             ],
             [
              0.1111111111111111,
              "#46039f"
             ],
             [
              0.2222222222222222,
              "#7201a8"
             ],
             [
              0.3333333333333333,
              "#9c179e"
             ],
             [
              0.4444444444444444,
              "#bd3786"
             ],
             [
              0.5555555555555556,
              "#d8576b"
             ],
             [
              0.6666666666666666,
              "#ed7953"
             ],
             [
              0.7777777777777778,
              "#fb9f3a"
             ],
             [
              0.8888888888888888,
              "#fdca26"
             ],
             [
              1,
              "#f0f921"
             ]
            ],
            "type": "contour"
           }
          ],
          "contourcarpet": [
           {
            "colorbar": {
             "outlinewidth": 0,
             "ticks": ""
            },
            "type": "contourcarpet"
           }
          ],
          "heatmap": [
           {
            "colorbar": {
             "outlinewidth": 0,
             "ticks": ""
            },
            "colorscale": [
             [
              0,
              "#0d0887"
             ],
             [
              0.1111111111111111,
              "#46039f"
             ],
             [
              0.2222222222222222,
              "#7201a8"
             ],
             [
              0.3333333333333333,
              "#9c179e"
             ],
             [
              0.4444444444444444,
              "#bd3786"
             ],
             [
              0.5555555555555556,
              "#d8576b"
             ],
             [
              0.6666666666666666,
              "#ed7953"
             ],
             [
              0.7777777777777778,
              "#fb9f3a"
             ],
             [
              0.8888888888888888,
              "#fdca26"
             ],
             [
              1,
              "#f0f921"
             ]
            ],
            "type": "heatmap"
           }
          ],
          "heatmapgl": [
           {
            "colorbar": {
             "outlinewidth": 0,
             "ticks": ""
            },
            "colorscale": [
             [
              0,
              "#0d0887"
             ],
             [
              0.1111111111111111,
              "#46039f"
             ],
             [
              0.2222222222222222,
              "#7201a8"
             ],
             [
              0.3333333333333333,
              "#9c179e"
             ],
             [
              0.4444444444444444,
              "#bd3786"
             ],
             [
              0.5555555555555556,
              "#d8576b"
             ],
             [
              0.6666666666666666,
              "#ed7953"
             ],
             [
              0.7777777777777778,
              "#fb9f3a"
             ],
             [
              0.8888888888888888,
              "#fdca26"
             ],
             [
              1,
              "#f0f921"
             ]
            ],
            "type": "heatmapgl"
           }
          ],
          "histogram": [
           {
            "marker": {
             "colorbar": {
              "outlinewidth": 0,
              "ticks": ""
             }
            },
            "type": "histogram"
           }
          ],
          "histogram2d": [
           {
            "colorbar": {
             "outlinewidth": 0,
             "ticks": ""
            },
            "colorscale": [
             [
              0,
              "#0d0887"
             ],
             [
              0.1111111111111111,
              "#46039f"
             ],
             [
              0.2222222222222222,
              "#7201a8"
             ],
             [
              0.3333333333333333,
              "#9c179e"
             ],
             [
              0.4444444444444444,
              "#bd3786"
             ],
             [
              0.5555555555555556,
              "#d8576b"
             ],
             [
              0.6666666666666666,
              "#ed7953"
             ],
             [
              0.7777777777777778,
              "#fb9f3a"
             ],
             [
              0.8888888888888888,
              "#fdca26"
             ],
             [
              1,
              "#f0f921"
             ]
            ],
            "type": "histogram2d"
           }
          ],
          "histogram2dcontour": [
           {
            "colorbar": {
             "outlinewidth": 0,
             "ticks": ""
            },
            "colorscale": [
             [
              0,
              "#0d0887"
             ],
             [
              0.1111111111111111,
              "#46039f"
             ],
             [
              0.2222222222222222,
              "#7201a8"
             ],
             [
              0.3333333333333333,
              "#9c179e"
             ],
             [
              0.4444444444444444,
              "#bd3786"
             ],
             [
              0.5555555555555556,
              "#d8576b"
             ],
             [
              0.6666666666666666,
              "#ed7953"
             ],
             [
              0.7777777777777778,
              "#fb9f3a"
             ],
             [
              0.8888888888888888,
              "#fdca26"
             ],
             [
              1,
              "#f0f921"
             ]
            ],
            "type": "histogram2dcontour"
           }
          ],
          "mesh3d": [
           {
            "colorbar": {
             "outlinewidth": 0,
             "ticks": ""
            },
            "type": "mesh3d"
           }
          ],
          "parcoords": [
           {
            "line": {
             "colorbar": {
              "outlinewidth": 0,
              "ticks": ""
             }
            },
            "type": "parcoords"
           }
          ],
          "pie": [
           {
            "automargin": true,
            "type": "pie"
           }
          ],
          "scatter": [
           {
            "marker": {
             "colorbar": {
              "outlinewidth": 0,
              "ticks": ""
             }
            },
            "type": "scatter"
           }
          ],
          "scatter3d": [
           {
            "line": {
             "colorbar": {
              "outlinewidth": 0,
              "ticks": ""
             }
            },
            "marker": {
             "colorbar": {
              "outlinewidth": 0,
              "ticks": ""
             }
            },
            "type": "scatter3d"
           }
          ],
          "scattercarpet": [
           {
            "marker": {
             "colorbar": {
              "outlinewidth": 0,
              "ticks": ""
             }
            },
            "type": "scattercarpet"
           }
          ],
          "scattergeo": [
           {
            "marker": {
             "colorbar": {
              "outlinewidth": 0,
              "ticks": ""
             }
            },
            "type": "scattergeo"
           }
          ],
          "scattergl": [
           {
            "marker": {
             "colorbar": {
              "outlinewidth": 0,
              "ticks": ""
             }
            },
            "type": "scattergl"
           }
          ],
          "scattermapbox": [
           {
            "marker": {
             "colorbar": {
              "outlinewidth": 0,
              "ticks": ""
             }
            },
            "type": "scattermapbox"
           }
          ],
          "scatterpolar": [
           {
            "marker": {
             "colorbar": {
              "outlinewidth": 0,
              "ticks": ""
             }
            },
            "type": "scatterpolar"
           }
          ],
          "scatterpolargl": [
           {
            "marker": {
             "colorbar": {
              "outlinewidth": 0,
              "ticks": ""
             }
            },
            "type": "scatterpolargl"
           }
          ],
          "scatterternary": [
           {
            "marker": {
             "colorbar": {
              "outlinewidth": 0,
              "ticks": ""
             }
            },
            "type": "scatterternary"
           }
          ],
          "surface": [
           {
            "colorbar": {
             "outlinewidth": 0,
             "ticks": ""
            },
            "colorscale": [
             [
              0,
              "#0d0887"
             ],
             [
              0.1111111111111111,
              "#46039f"
             ],
             [
              0.2222222222222222,
              "#7201a8"
             ],
             [
              0.3333333333333333,
              "#9c179e"
             ],
             [
              0.4444444444444444,
              "#bd3786"
             ],
             [
              0.5555555555555556,
              "#d8576b"
             ],
             [
              0.6666666666666666,
              "#ed7953"
             ],
             [
              0.7777777777777778,
              "#fb9f3a"
             ],
             [
              0.8888888888888888,
              "#fdca26"
             ],
             [
              1,
              "#f0f921"
             ]
            ],
            "type": "surface"
           }
          ],
          "table": [
           {
            "cells": {
             "fill": {
              "color": "#EBF0F8"
             },
             "line": {
              "color": "white"
             }
            },
            "header": {
             "fill": {
              "color": "#C8D4E3"
             },
             "line": {
              "color": "white"
             }
            },
            "type": "table"
           }
          ]
         },
         "layout": {
          "annotationdefaults": {
           "arrowcolor": "#2a3f5f",
           "arrowhead": 0,
           "arrowwidth": 1
          },
          "coloraxis": {
           "colorbar": {
            "outlinewidth": 0,
            "ticks": ""
           }
          },
          "colorscale": {
           "diverging": [
            [
             0,
             "#8e0152"
            ],
            [
             0.1,
             "#c51b7d"
            ],
            [
             0.2,
             "#de77ae"
            ],
            [
             0.3,
             "#f1b6da"
            ],
            [
             0.4,
             "#fde0ef"
            ],
            [
             0.5,
             "#f7f7f7"
            ],
            [
             0.6,
             "#e6f5d0"
            ],
            [
             0.7,
             "#b8e186"
            ],
            [
             0.8,
             "#7fbc41"
            ],
            [
             0.9,
             "#4d9221"
            ],
            [
             1,
             "#276419"
            ]
           ],
           "sequential": [
            [
             0,
             "#0d0887"
            ],
            [
             0.1111111111111111,
             "#46039f"
            ],
            [
             0.2222222222222222,
             "#7201a8"
            ],
            [
             0.3333333333333333,
             "#9c179e"
            ],
            [
             0.4444444444444444,
             "#bd3786"
            ],
            [
             0.5555555555555556,
             "#d8576b"
            ],
            [
             0.6666666666666666,
             "#ed7953"
            ],
            [
             0.7777777777777778,
             "#fb9f3a"
            ],
            [
             0.8888888888888888,
             "#fdca26"
            ],
            [
             1,
             "#f0f921"
            ]
           ],
           "sequentialminus": [
            [
             0,
             "#0d0887"
            ],
            [
             0.1111111111111111,
             "#46039f"
            ],
            [
             0.2222222222222222,
             "#7201a8"
            ],
            [
             0.3333333333333333,
             "#9c179e"
            ],
            [
             0.4444444444444444,
             "#bd3786"
            ],
            [
             0.5555555555555556,
             "#d8576b"
            ],
            [
             0.6666666666666666,
             "#ed7953"
            ],
            [
             0.7777777777777778,
             "#fb9f3a"
            ],
            [
             0.8888888888888888,
             "#fdca26"
            ],
            [
             1,
             "#f0f921"
            ]
           ]
          },
          "colorway": [
           "#636efa",
           "#EF553B",
           "#00cc96",
           "#ab63fa",
           "#FFA15A",
           "#19d3f3",
           "#FF6692",
           "#B6E880",
           "#FF97FF",
           "#FECB52"
          ],
          "font": {
           "color": "#2a3f5f"
          },
          "geo": {
           "bgcolor": "white",
           "lakecolor": "white",
           "landcolor": "#E5ECF6",
           "showlakes": true,
           "showland": true,
           "subunitcolor": "white"
          },
          "hoverlabel": {
           "align": "left"
          },
          "hovermode": "closest",
          "mapbox": {
           "style": "light"
          },
          "paper_bgcolor": "white",
          "plot_bgcolor": "#E5ECF6",
          "polar": {
           "angularaxis": {
            "gridcolor": "white",
            "linecolor": "white",
            "ticks": ""
           },
           "bgcolor": "#E5ECF6",
           "radialaxis": {
            "gridcolor": "white",
            "linecolor": "white",
            "ticks": ""
           }
          },
          "scene": {
           "xaxis": {
            "backgroundcolor": "#E5ECF6",
            "gridcolor": "white",
            "gridwidth": 2,
            "linecolor": "white",
            "showbackground": true,
            "ticks": "",
            "zerolinecolor": "white"
           },
           "yaxis": {
            "backgroundcolor": "#E5ECF6",
            "gridcolor": "white",
            "gridwidth": 2,
            "linecolor": "white",
            "showbackground": true,
            "ticks": "",
            "zerolinecolor": "white"
           },
           "zaxis": {
            "backgroundcolor": "#E5ECF6",
            "gridcolor": "white",
            "gridwidth": 2,
            "linecolor": "white",
            "showbackground": true,
            "ticks": "",
            "zerolinecolor": "white"
           }
          },
          "shapedefaults": {
           "line": {
            "color": "#2a3f5f"
           }
          },
          "ternary": {
           "aaxis": {
            "gridcolor": "white",
            "linecolor": "white",
            "ticks": ""
           },
           "baxis": {
            "gridcolor": "white",
            "linecolor": "white",
            "ticks": ""
           },
           "bgcolor": "#E5ECF6",
           "caxis": {
            "gridcolor": "white",
            "linecolor": "white",
            "ticks": ""
           }
          },
          "title": {
           "x": 0.05
          },
          "xaxis": {
           "automargin": true,
           "gridcolor": "white",
           "linecolor": "white",
           "ticks": "",
           "title": {
            "standoff": 15
           },
           "zerolinecolor": "white",
           "zerolinewidth": 2
          },
          "yaxis": {
           "automargin": true,
           "gridcolor": "white",
           "linecolor": "white",
           "ticks": "",
           "title": {
            "standoff": 15
           },
           "zerolinecolor": "white",
           "zerolinewidth": 2
          }
         }
        },
        "title": {
         "text": "날짜별 카페/디저트 빈도"
        }
       }
      },
      "text/html": [
       "<div>                            <div id=\"62345f92-5e3b-4038-8568-c544a3f18652\" class=\"plotly-graph-div\" style=\"height:525px; width:100%;\"></div>            <script type=\"text/javascript\">                require([\"plotly\"], function(Plotly) {                    window.PLOTLYENV=window.PLOTLYENV || {};                                    if (document.getElementById(\"62345f92-5e3b-4038-8568-c544a3f18652\")) {                    Plotly.newPlot(                        \"62345f92-5e3b-4038-8568-c544a3f18652\",                        [{\"type\": \"bar\", \"x\": [\"2020-01-01T00:00:00\", \"2020-01-02T00:00:00\", \"2020-01-03T00:00:00\", \"2020-01-04T00:00:00\", \"2020-01-05T00:00:00\", \"2020-01-06T00:00:00\", \"2020-01-07T00:00:00\", \"2020-01-08T00:00:00\", \"2020-01-09T00:00:00\", \"2020-01-10T00:00:00\", \"2020-01-11T00:00:00\", \"2020-01-12T00:00:00\", \"2020-01-13T00:00:00\", \"2020-01-14T00:00:00\", \"2020-01-15T00:00:00\", \"2020-01-16T00:00:00\", \"2020-01-17T00:00:00\", \"2020-01-18T00:00:00\", \"2020-01-19T00:00:00\", \"2020-01-20T00:00:00\", \"2020-01-21T00:00:00\", \"2020-01-22T00:00:00\", \"2020-01-23T00:00:00\", \"2020-01-24T00:00:00\", \"2020-01-25T00:00:00\", \"2020-01-26T00:00:00\", \"2020-01-27T00:00:00\", \"2020-01-28T00:00:00\", \"2020-01-29T00:00:00\", \"2020-01-30T00:00:00\", \"2020-01-31T00:00:00\", \"2020-02-01T00:00:00\", \"2020-02-02T00:00:00\", \"2020-02-03T00:00:00\", \"2020-02-04T00:00:00\", \"2020-02-05T00:00:00\", \"2020-02-06T00:00:00\", \"2020-02-07T00:00:00\", \"2020-02-08T00:00:00\", \"2020-02-09T00:00:00\", \"2020-02-10T00:00:00\", \"2020-02-11T00:00:00\", \"2020-02-12T00:00:00\", \"2020-02-13T00:00:00\", \"2020-02-14T00:00:00\", \"2020-02-15T00:00:00\", \"2020-02-16T00:00:00\", \"2020-02-17T00:00:00\", \"2020-02-18T00:00:00\", \"2020-02-19T00:00:00\", \"2020-02-20T00:00:00\", \"2020-02-21T00:00:00\", \"2020-02-22T00:00:00\", \"2020-02-23T00:00:00\", \"2020-02-24T00:00:00\", \"2020-02-25T00:00:00\", \"2020-02-26T00:00:00\", \"2020-02-27T00:00:00\", \"2020-02-28T00:00:00\", \"2020-02-29T00:00:00\", \"2020-03-01T00:00:00\", \"2020-03-02T00:00:00\", \"2020-03-03T00:00:00\", \"2020-03-04T00:00:00\", \"2020-03-05T00:00:00\", \"2020-03-06T00:00:00\", \"2020-03-07T00:00:00\", \"2020-03-08T00:00:00\", \"2020-03-09T00:00:00\", \"2020-03-10T00:00:00\", \"2020-03-11T00:00:00\", \"2020-03-12T00:00:00\", \"2020-03-13T00:00:00\", \"2020-03-14T00:00:00\", \"2020-03-15T00:00:00\", \"2020-03-16T00:00:00\", \"2020-03-17T00:00:00\", \"2020-03-18T00:00:00\", \"2020-03-19T00:00:00\", \"2020-03-20T00:00:00\", \"2020-03-21T00:00:00\", \"2020-03-22T00:00:00\", \"2020-03-23T00:00:00\", \"2020-03-24T00:00:00\", \"2020-03-25T00:00:00\", \"2020-03-26T00:00:00\", \"2020-03-27T00:00:00\", \"2020-03-28T00:00:00\", \"2020-03-29T00:00:00\", \"2020-03-30T00:00:00\", \"2020-03-31T00:00:00\", \"2020-04-01T00:00:00\", \"2020-04-02T00:00:00\", \"2020-04-03T00:00:00\", \"2020-04-04T00:00:00\", \"2020-04-05T00:00:00\", \"2020-04-06T00:00:00\", \"2020-04-07T00:00:00\", \"2020-04-08T00:00:00\", \"2020-04-09T00:00:00\", \"2020-04-10T00:00:00\", \"2020-04-11T00:00:00\", \"2020-04-12T00:00:00\", \"2020-04-13T00:00:00\", \"2020-04-14T00:00:00\", \"2020-04-15T00:00:00\", \"2020-04-16T00:00:00\", \"2020-04-17T00:00:00\", \"2020-04-18T00:00:00\", \"2020-04-19T00:00:00\", \"2020-04-20T00:00:00\", \"2020-04-21T00:00:00\", \"2020-04-22T00:00:00\", \"2020-04-23T00:00:00\", \"2020-04-24T00:00:00\", \"2020-04-25T00:00:00\", \"2020-04-26T00:00:00\", \"2020-04-27T00:00:00\", \"2020-04-28T00:00:00\", \"2020-04-29T00:00:00\", \"2020-04-30T00:00:00\", \"2020-05-01T00:00:00\", \"2020-05-02T00:00:00\", \"2020-05-03T00:00:00\", \"2020-05-04T00:00:00\", \"2020-05-05T00:00:00\", \"2020-05-06T00:00:00\", \"2020-05-07T00:00:00\", \"2020-05-08T00:00:00\", \"2020-05-09T00:00:00\", \"2020-05-10T00:00:00\", \"2020-05-11T00:00:00\", \"2020-05-12T00:00:00\", \"2020-05-13T00:00:00\", \"2020-05-14T00:00:00\", \"2020-05-15T00:00:00\", \"2020-05-16T00:00:00\", \"2020-05-17T00:00:00\", \"2020-05-19T00:00:00\", \"2020-05-20T00:00:00\", \"2020-05-21T00:00:00\", \"2020-05-22T00:00:00\", \"2020-05-23T00:00:00\", \"2020-05-24T00:00:00\", \"2020-05-25T00:00:00\", \"2020-05-26T00:00:00\", \"2020-05-27T00:00:00\", \"2020-05-28T00:00:00\", \"2020-05-29T00:00:00\", \"2020-05-30T00:00:00\", \"2020-05-31T00:00:00\", \"2020-06-01T00:00:00\", \"2020-06-02T00:00:00\", \"2020-06-03T00:00:00\", \"2020-06-04T00:00:00\", \"2020-06-05T00:00:00\", \"2020-06-06T00:00:00\", \"2020-06-07T00:00:00\", \"2020-06-08T00:00:00\", \"2020-06-09T00:00:00\", \"2020-06-10T00:00:00\", \"2020-06-11T00:00:00\", \"2020-06-12T00:00:00\", \"2020-06-20T00:00:00\", \"2020-06-21T00:00:00\"], \"y\": [2859, 1657, 2019, 2475, 2720, 3320, 1792, 1513, 1631, 1839, 2452, 2793, 2614, 2248, 2031, 2145, 2735, 2987, 2654, 1375, 1361, 1357, 1602, 1795, 1385, 1788, 2869, 1541, 1482, 1655, 2051, 3115, 3459, 1916, 1907, 2141, 2204, 2418, 3463, 3723, 2230, 2035, 2214, 2029, 2739, 3246, 3533, 2464, 2876, 2548, 2634, 3104, 4378, 4485, 2236, 2463, 2394, 2565, 3337, 3881, 3974, 2581, 2277, 2505, 2520, 3038, 3669, 3655, 2982, 3196, 3003, 2990, 3356, 4436, 4329, 2429, 2261, 2328, 3097, 2933, 3495, 3685, 2520, 2095, 2302, 2468, 2929, 3431, 3551, 2060, 3667, 2391, 2609, 2913, 3660, 3791, 2556, 2073, 2185, 2185, 2612, 3184, 3616, 3017, 3110, 3747, 3131, 3714, 3467, 4410, 2773, 2517, 2575, 2732, 2919, 4402, 4607, 1803, 1696, 1942, 3013, 2381, 3122, 3333, 2564, 3479, 1765, 1954, 2949, 4222, 4271, 2514, 2092, 2218, 2306, 3214, 3689, 4125, 2385, 2068, 2352, 2615, 3376, 3808, 2084, 2006, 1919, 2054, 2514, 3154, 4117, 2340, 2243, 2287, 2306, 2766, 3833, 3854, 2911, 2826, 2741, 2849, 3068, 4457, 5105]}],                        {\"template\": {\"data\": {\"bar\": [{\"error_x\": {\"color\": \"#2a3f5f\"}, \"error_y\": {\"color\": \"#2a3f5f\"}, \"marker\": {\"line\": {\"color\": \"#E5ECF6\", \"width\": 0.5}}, \"type\": \"bar\"}], \"barpolar\": [{\"marker\": {\"line\": {\"color\": \"#E5ECF6\", \"width\": 0.5}}, \"type\": \"barpolar\"}], \"carpet\": [{\"aaxis\": {\"endlinecolor\": \"#2a3f5f\", \"gridcolor\": \"white\", \"linecolor\": \"white\", \"minorgridcolor\": \"white\", \"startlinecolor\": \"#2a3f5f\"}, \"baxis\": {\"endlinecolor\": \"#2a3f5f\", \"gridcolor\": \"white\", \"linecolor\": \"white\", \"minorgridcolor\": \"white\", \"startlinecolor\": \"#2a3f5f\"}, \"type\": \"carpet\"}], \"choropleth\": [{\"colorbar\": {\"outlinewidth\": 0, \"ticks\": \"\"}, \"type\": \"choropleth\"}], \"contour\": [{\"colorbar\": {\"outlinewidth\": 0, \"ticks\": \"\"}, \"colorscale\": [[0.0, \"#0d0887\"], [0.1111111111111111, \"#46039f\"], [0.2222222222222222, \"#7201a8\"], [0.3333333333333333, \"#9c179e\"], [0.4444444444444444, \"#bd3786\"], [0.5555555555555556, \"#d8576b\"], [0.6666666666666666, \"#ed7953\"], [0.7777777777777778, \"#fb9f3a\"], [0.8888888888888888, \"#fdca26\"], [1.0, \"#f0f921\"]], \"type\": \"contour\"}], \"contourcarpet\": [{\"colorbar\": {\"outlinewidth\": 0, \"ticks\": \"\"}, \"type\": \"contourcarpet\"}], \"heatmap\": [{\"colorbar\": {\"outlinewidth\": 0, \"ticks\": \"\"}, \"colorscale\": [[0.0, \"#0d0887\"], [0.1111111111111111, \"#46039f\"], [0.2222222222222222, \"#7201a8\"], [0.3333333333333333, \"#9c179e\"], [0.4444444444444444, \"#bd3786\"], [0.5555555555555556, \"#d8576b\"], [0.6666666666666666, \"#ed7953\"], [0.7777777777777778, \"#fb9f3a\"], [0.8888888888888888, \"#fdca26\"], [1.0, \"#f0f921\"]], \"type\": \"heatmap\"}], \"heatmapgl\": [{\"colorbar\": {\"outlinewidth\": 0, \"ticks\": \"\"}, \"colorscale\": [[0.0, \"#0d0887\"], [0.1111111111111111, \"#46039f\"], [0.2222222222222222, \"#7201a8\"], [0.3333333333333333, \"#9c179e\"], [0.4444444444444444, \"#bd3786\"], [0.5555555555555556, \"#d8576b\"], [0.6666666666666666, \"#ed7953\"], [0.7777777777777778, \"#fb9f3a\"], [0.8888888888888888, \"#fdca26\"], [1.0, \"#f0f921\"]], \"type\": \"heatmapgl\"}], \"histogram\": [{\"marker\": {\"colorbar\": {\"outlinewidth\": 0, \"ticks\": \"\"}}, \"type\": \"histogram\"}], \"histogram2d\": [{\"colorbar\": {\"outlinewidth\": 0, \"ticks\": \"\"}, \"colorscale\": [[0.0, \"#0d0887\"], [0.1111111111111111, \"#46039f\"], [0.2222222222222222, \"#7201a8\"], [0.3333333333333333, \"#9c179e\"], [0.4444444444444444, \"#bd3786\"], [0.5555555555555556, \"#d8576b\"], [0.6666666666666666, \"#ed7953\"], [0.7777777777777778, \"#fb9f3a\"], [0.8888888888888888, \"#fdca26\"], [1.0, \"#f0f921\"]], \"type\": \"histogram2d\"}], \"histogram2dcontour\": [{\"colorbar\": {\"outlinewidth\": 0, \"ticks\": \"\"}, \"colorscale\": [[0.0, \"#0d0887\"], [0.1111111111111111, \"#46039f\"], [0.2222222222222222, \"#7201a8\"], [0.3333333333333333, \"#9c179e\"], [0.4444444444444444, \"#bd3786\"], [0.5555555555555556, \"#d8576b\"], [0.6666666666666666, \"#ed7953\"], [0.7777777777777778, \"#fb9f3a\"], [0.8888888888888888, \"#fdca26\"], [1.0, \"#f0f921\"]], \"type\": \"histogram2dcontour\"}], \"mesh3d\": [{\"colorbar\": {\"outlinewidth\": 0, \"ticks\": \"\"}, \"type\": \"mesh3d\"}], \"parcoords\": [{\"line\": {\"colorbar\": {\"outlinewidth\": 0, \"ticks\": \"\"}}, \"type\": \"parcoords\"}], \"pie\": [{\"automargin\": true, \"type\": \"pie\"}], \"scatter\": [{\"marker\": {\"colorbar\": {\"outlinewidth\": 0, \"ticks\": \"\"}}, \"type\": \"scatter\"}], \"scatter3d\": [{\"line\": {\"colorbar\": {\"outlinewidth\": 0, \"ticks\": \"\"}}, \"marker\": {\"colorbar\": {\"outlinewidth\": 0, \"ticks\": \"\"}}, \"type\": \"scatter3d\"}], \"scattercarpet\": [{\"marker\": {\"colorbar\": {\"outlinewidth\": 0, \"ticks\": \"\"}}, \"type\": \"scattercarpet\"}], \"scattergeo\": [{\"marker\": {\"colorbar\": {\"outlinewidth\": 0, \"ticks\": \"\"}}, \"type\": \"scattergeo\"}], \"scattergl\": [{\"marker\": {\"colorbar\": {\"outlinewidth\": 0, \"ticks\": \"\"}}, \"type\": \"scattergl\"}], \"scattermapbox\": [{\"marker\": {\"colorbar\": {\"outlinewidth\": 0, \"ticks\": \"\"}}, \"type\": \"scattermapbox\"}], \"scatterpolar\": [{\"marker\": {\"colorbar\": {\"outlinewidth\": 0, \"ticks\": \"\"}}, \"type\": \"scatterpolar\"}], \"scatterpolargl\": [{\"marker\": {\"colorbar\": {\"outlinewidth\": 0, \"ticks\": \"\"}}, \"type\": \"scatterpolargl\"}], \"scatterternary\": [{\"marker\": {\"colorbar\": {\"outlinewidth\": 0, \"ticks\": \"\"}}, \"type\": \"scatterternary\"}], \"surface\": [{\"colorbar\": {\"outlinewidth\": 0, \"ticks\": \"\"}, \"colorscale\": [[0.0, \"#0d0887\"], [0.1111111111111111, \"#46039f\"], [0.2222222222222222, \"#7201a8\"], [0.3333333333333333, \"#9c179e\"], [0.4444444444444444, \"#bd3786\"], [0.5555555555555556, \"#d8576b\"], [0.6666666666666666, \"#ed7953\"], [0.7777777777777778, \"#fb9f3a\"], [0.8888888888888888, \"#fdca26\"], [1.0, \"#f0f921\"]], \"type\": \"surface\"}], \"table\": [{\"cells\": {\"fill\": {\"color\": \"#EBF0F8\"}, \"line\": {\"color\": \"white\"}}, \"header\": {\"fill\": {\"color\": \"#C8D4E3\"}, \"line\": {\"color\": \"white\"}}, \"type\": \"table\"}]}, \"layout\": {\"annotationdefaults\": {\"arrowcolor\": \"#2a3f5f\", \"arrowhead\": 0, \"arrowwidth\": 1}, \"coloraxis\": {\"colorbar\": {\"outlinewidth\": 0, \"ticks\": \"\"}}, \"colorscale\": {\"diverging\": [[0, \"#8e0152\"], [0.1, \"#c51b7d\"], [0.2, \"#de77ae\"], [0.3, \"#f1b6da\"], [0.4, \"#fde0ef\"], [0.5, \"#f7f7f7\"], [0.6, \"#e6f5d0\"], [0.7, \"#b8e186\"], [0.8, \"#7fbc41\"], [0.9, \"#4d9221\"], [1, \"#276419\"]], \"sequential\": [[0.0, \"#0d0887\"], [0.1111111111111111, \"#46039f\"], [0.2222222222222222, \"#7201a8\"], [0.3333333333333333, \"#9c179e\"], [0.4444444444444444, \"#bd3786\"], [0.5555555555555556, \"#d8576b\"], [0.6666666666666666, \"#ed7953\"], [0.7777777777777778, \"#fb9f3a\"], [0.8888888888888888, \"#fdca26\"], [1.0, \"#f0f921\"]], \"sequentialminus\": [[0.0, \"#0d0887\"], [0.1111111111111111, \"#46039f\"], [0.2222222222222222, \"#7201a8\"], [0.3333333333333333, \"#9c179e\"], [0.4444444444444444, \"#bd3786\"], [0.5555555555555556, \"#d8576b\"], [0.6666666666666666, \"#ed7953\"], [0.7777777777777778, \"#fb9f3a\"], [0.8888888888888888, \"#fdca26\"], [1.0, \"#f0f921\"]]}, \"colorway\": [\"#636efa\", \"#EF553B\", \"#00cc96\", \"#ab63fa\", \"#FFA15A\", \"#19d3f3\", \"#FF6692\", \"#B6E880\", \"#FF97FF\", \"#FECB52\"], \"font\": {\"color\": \"#2a3f5f\"}, \"geo\": {\"bgcolor\": \"white\", \"lakecolor\": \"white\", \"landcolor\": \"#E5ECF6\", \"showlakes\": true, \"showland\": true, \"subunitcolor\": \"white\"}, \"hoverlabel\": {\"align\": \"left\"}, \"hovermode\": \"closest\", \"mapbox\": {\"style\": \"light\"}, \"paper_bgcolor\": \"white\", \"plot_bgcolor\": \"#E5ECF6\", \"polar\": {\"angularaxis\": {\"gridcolor\": \"white\", \"linecolor\": \"white\", \"ticks\": \"\"}, \"bgcolor\": \"#E5ECF6\", \"radialaxis\": {\"gridcolor\": \"white\", \"linecolor\": \"white\", \"ticks\": \"\"}}, \"scene\": {\"xaxis\": {\"backgroundcolor\": \"#E5ECF6\", \"gridcolor\": \"white\", \"gridwidth\": 2, \"linecolor\": \"white\", \"showbackground\": true, \"ticks\": \"\", \"zerolinecolor\": \"white\"}, \"yaxis\": {\"backgroundcolor\": \"#E5ECF6\", \"gridcolor\": \"white\", \"gridwidth\": 2, \"linecolor\": \"white\", \"showbackground\": true, \"ticks\": \"\", \"zerolinecolor\": \"white\"}, \"zaxis\": {\"backgroundcolor\": \"#E5ECF6\", \"gridcolor\": \"white\", \"gridwidth\": 2, \"linecolor\": \"white\", \"showbackground\": true, \"ticks\": \"\", \"zerolinecolor\": \"white\"}}, \"shapedefaults\": {\"line\": {\"color\": \"#2a3f5f\"}}, \"ternary\": {\"aaxis\": {\"gridcolor\": \"white\", \"linecolor\": \"white\", \"ticks\": \"\"}, \"baxis\": {\"gridcolor\": \"white\", \"linecolor\": \"white\", \"ticks\": \"\"}, \"bgcolor\": \"#E5ECF6\", \"caxis\": {\"gridcolor\": \"white\", \"linecolor\": \"white\", \"ticks\": \"\"}}, \"title\": {\"x\": 0.05}, \"xaxis\": {\"automargin\": true, \"gridcolor\": \"white\", \"linecolor\": \"white\", \"ticks\": \"\", \"title\": {\"standoff\": 15}, \"zerolinecolor\": \"white\", \"zerolinewidth\": 2}, \"yaxis\": {\"automargin\": true, \"gridcolor\": \"white\", \"linecolor\": \"white\", \"ticks\": \"\", \"title\": {\"standoff\": 15}, \"zerolinecolor\": \"white\", \"zerolinewidth\": 2}}}, \"title\": {\"text\": \"\\ub0a0\\uc9dc\\ubcc4 \\uce74\\ud398/\\ub514\\uc800\\ud2b8 \\ube48\\ub3c4\"}},                        {\"responsive\": true}                    ).then(function(){\n",
       "                            \n",
       "var gd = document.getElementById('62345f92-5e3b-4038-8568-c544a3f18652');\n",
       "var x = new MutationObserver(function (mutations, observer) {{\n",
       "        var display = window.getComputedStyle(gd).display;\n",
       "        if (!display || display === 'none') {{\n",
       "            console.log([gd, 'removed!']);\n",
       "            Plotly.purge(gd);\n",
       "            observer.disconnect();\n",
       "        }}\n",
       "}});\n",
       "\n",
       "// Listen for the removal of the full notebook cells\n",
       "var notebookContainer = gd.closest('#notebook-container');\n",
       "if (notebookContainer) {{\n",
       "    x.observe(notebookContainer, {childList: true});\n",
       "}}\n",
       "\n",
       "// Listen for the clearing of the current output cell\n",
       "var outputEl = gd.closest('.output');\n",
       "if (outputEl) {{\n",
       "    x.observe(outputEl, {childList: true});\n",
       "}}\n",
       "\n",
       "                        })                };                });            </script>        </div>"
      ]
     },
     "metadata": {},
     "output_type": "display_data"
    }
   ],
   "source": [
    "# 막대 그래프 그리기\n",
    "trace1 = go.Bar(x=kkk5['PROCESS_DT'], y=kkk5['cafe'])\n",
    "data = [trace1]\n",
    "layout = go.Layout(title='날짜별 카페/디저트 빈도')\n",
    "fig = go.Figure(data=data, layout=layout)\n",
    "pyo.iplot(fig)"
   ]
  },
  {
   "cell_type": "code",
   "execution_count": 111,
   "metadata": {},
   "outputs": [
    {
     "data": {
      "text/html": [
       "<div>\n",
       "<style scoped>\n",
       "    .dataframe tbody tr th:only-of-type {\n",
       "        vertical-align: middle;\n",
       "    }\n",
       "\n",
       "    .dataframe tbody tr th {\n",
       "        vertical-align: top;\n",
       "    }\n",
       "\n",
       "    .dataframe thead th {\n",
       "        text-align: right;\n",
       "    }\n",
       "</style>\n",
       "<table border=\"1\" class=\"dataframe\">\n",
       "  <thead>\n",
       "    <tr style=\"text-align: right;\">\n",
       "      <th></th>\n",
       "      <th>PROCESS_DT</th>\n",
       "      <th>koreaf</th>\n",
       "      <th>chik</th>\n",
       "      <th>dosi</th>\n",
       "      <th>bun</th>\n",
       "      <th>cafe</th>\n",
       "      <th>conf</th>\n",
       "      <th>death</th>\n",
       "    </tr>\n",
       "  </thead>\n",
       "  <tbody>\n",
       "    <tr>\n",
       "      <th>0</th>\n",
       "      <td>2020-02-04</td>\n",
       "      <td>3340</td>\n",
       "      <td>6339</td>\n",
       "      <td>300</td>\n",
       "      <td>3932</td>\n",
       "      <td>1907</td>\n",
       "      <td>18</td>\n",
       "      <td>0</td>\n",
       "    </tr>\n",
       "    <tr>\n",
       "      <th>1</th>\n",
       "      <td>2020-02-05</td>\n",
       "      <td>3645</td>\n",
       "      <td>7062</td>\n",
       "      <td>321</td>\n",
       "      <td>4053</td>\n",
       "      <td>2141</td>\n",
       "      <td>1</td>\n",
       "      <td>0</td>\n",
       "    </tr>\n",
       "    <tr>\n",
       "      <th>2</th>\n",
       "      <td>2020-02-06</td>\n",
       "      <td>3778</td>\n",
       "      <td>7132</td>\n",
       "      <td>345</td>\n",
       "      <td>3982</td>\n",
       "      <td>2204</td>\n",
       "      <td>4</td>\n",
       "      <td>0</td>\n",
       "    </tr>\n",
       "    <tr>\n",
       "      <th>3</th>\n",
       "      <td>2020-02-07</td>\n",
       "      <td>3560</td>\n",
       "      <td>7493</td>\n",
       "      <td>406</td>\n",
       "      <td>3933</td>\n",
       "      <td>2418</td>\n",
       "      <td>1</td>\n",
       "      <td>0</td>\n",
       "    </tr>\n",
       "    <tr>\n",
       "      <th>4</th>\n",
       "      <td>2020-02-08</td>\n",
       "      <td>4038</td>\n",
       "      <td>8487</td>\n",
       "      <td>327</td>\n",
       "      <td>4445</td>\n",
       "      <td>3463</td>\n",
       "      <td>0</td>\n",
       "      <td>0</td>\n",
       "    </tr>\n",
       "    <tr>\n",
       "      <th>...</th>\n",
       "      <td>...</td>\n",
       "      <td>...</td>\n",
       "      <td>...</td>\n",
       "      <td>...</td>\n",
       "      <td>...</td>\n",
       "      <td>...</td>\n",
       "      <td>...</td>\n",
       "      <td>...</td>\n",
       "    </tr>\n",
       "    <tr>\n",
       "      <th>126</th>\n",
       "      <td>2020-06-10</td>\n",
       "      <td>5188</td>\n",
       "      <td>8201</td>\n",
       "      <td>352</td>\n",
       "      <td>3673</td>\n",
       "      <td>2741</td>\n",
       "      <td>50</td>\n",
       "      <td>2</td>\n",
       "    </tr>\n",
       "    <tr>\n",
       "      <th>127</th>\n",
       "      <td>2020-06-11</td>\n",
       "      <td>4886</td>\n",
       "      <td>6835</td>\n",
       "      <td>358</td>\n",
       "      <td>3641</td>\n",
       "      <td>2849</td>\n",
       "      <td>45</td>\n",
       "      <td>0</td>\n",
       "    </tr>\n",
       "    <tr>\n",
       "      <th>128</th>\n",
       "      <td>2020-06-12</td>\n",
       "      <td>5052</td>\n",
       "      <td>9019</td>\n",
       "      <td>304</td>\n",
       "      <td>4054</td>\n",
       "      <td>3068</td>\n",
       "      <td>56</td>\n",
       "      <td>1</td>\n",
       "    </tr>\n",
       "    <tr>\n",
       "      <th>129</th>\n",
       "      <td>2020-06-20</td>\n",
       "      <td>5999</td>\n",
       "      <td>9803</td>\n",
       "      <td>314</td>\n",
       "      <td>4382</td>\n",
       "      <td>4457</td>\n",
       "      <td>67</td>\n",
       "      <td>0</td>\n",
       "    </tr>\n",
       "    <tr>\n",
       "      <th>130</th>\n",
       "      <td>2020-06-21</td>\n",
       "      <td>6872</td>\n",
       "      <td>9405</td>\n",
       "      <td>204</td>\n",
       "      <td>4883</td>\n",
       "      <td>5105</td>\n",
       "      <td>48</td>\n",
       "      <td>0</td>\n",
       "    </tr>\n",
       "  </tbody>\n",
       "</table>\n",
       "<p>131 rows × 8 columns</p>\n",
       "</div>"
      ],
      "text/plain": [
       "    PROCESS_DT  koreaf  chik  dosi   bun  cafe  conf  death\n",
       "0   2020-02-04    3340  6339   300  3932  1907    18      0\n",
       "1   2020-02-05    3645  7062   321  4053  2141     1      0\n",
       "2   2020-02-06    3778  7132   345  3982  2204     4      0\n",
       "3   2020-02-07    3560  7493   406  3933  2418     1      0\n",
       "4   2020-02-08    4038  8487   327  4445  3463     0      0\n",
       "..         ...     ...   ...   ...   ...   ...   ...    ...\n",
       "126 2020-06-10    5188  8201   352  3673  2741    50      2\n",
       "127 2020-06-11    4886  6835   358  3641  2849    45      0\n",
       "128 2020-06-12    5052  9019   304  4054  3068    56      1\n",
       "129 2020-06-20    5999  9803   314  4382  4457    67      0\n",
       "130 2020-06-21    6872  9405   204  4883  5105    48      0\n",
       "\n",
       "[131 rows x 8 columns]"
      ]
     },
     "execution_count": 111,
     "metadata": {},
     "output_type": "execute_result"
    }
   ],
   "source": [
    "\n",
    "k_new = pd.merge(kkk11, kkk2)\n",
    "k_new2 = pd.merge(k_new, kkk3)\n",
    "k_new3 = pd.merge(k_new2, kkk4)\n",
    "k_new4 = pd.merge(k_new3, kkk5)\n",
    "k_new5 = pd.merge(k_new4, covid_conf)\n",
    "k_new5"
   ]
  },
  {
   "cell_type": "code",
   "execution_count": 113,
   "metadata": {},
   "outputs": [
    {
     "data": {
      "text/html": [
       "<div>\n",
       "<style scoped>\n",
       "    .dataframe tbody tr th:only-of-type {\n",
       "        vertical-align: middle;\n",
       "    }\n",
       "\n",
       "    .dataframe tbody tr th {\n",
       "        vertical-align: top;\n",
       "    }\n",
       "\n",
       "    .dataframe thead th {\n",
       "        text-align: right;\n",
       "    }\n",
       "</style>\n",
       "<table border=\"1\" class=\"dataframe\">\n",
       "  <thead>\n",
       "    <tr style=\"text-align: right;\">\n",
       "      <th></th>\n",
       "      <th>koreaf</th>\n",
       "      <th>chik</th>\n",
       "      <th>dosi</th>\n",
       "      <th>bun</th>\n",
       "      <th>cafe</th>\n",
       "      <th>conf</th>\n",
       "      <th>death</th>\n",
       "    </tr>\n",
       "  </thead>\n",
       "  <tbody>\n",
       "    <tr>\n",
       "      <th>koreaf</th>\n",
       "      <td>1.000000</td>\n",
       "      <td>0.723531</td>\n",
       "      <td>-0.553566</td>\n",
       "      <td>0.725394</td>\n",
       "      <td>0.612435</td>\n",
       "      <td>-0.194633</td>\n",
       "      <td>-0.394784</td>\n",
       "    </tr>\n",
       "    <tr>\n",
       "      <th>chik</th>\n",
       "      <td>0.723531</td>\n",
       "      <td>1.000000</td>\n",
       "      <td>-0.541650</td>\n",
       "      <td>0.843369</td>\n",
       "      <td>0.743187</td>\n",
       "      <td>0.042288</td>\n",
       "      <td>-0.130002</td>\n",
       "    </tr>\n",
       "    <tr>\n",
       "      <th>dosi</th>\n",
       "      <td>-0.553566</td>\n",
       "      <td>-0.541650</td>\n",
       "      <td>1.000000</td>\n",
       "      <td>-0.676854</td>\n",
       "      <td>-0.622651</td>\n",
       "      <td>0.106051</td>\n",
       "      <td>-0.023090</td>\n",
       "    </tr>\n",
       "    <tr>\n",
       "      <th>bun</th>\n",
       "      <td>0.725394</td>\n",
       "      <td>0.843369</td>\n",
       "      <td>-0.676854</td>\n",
       "      <td>1.000000</td>\n",
       "      <td>0.749263</td>\n",
       "      <td>-0.095898</td>\n",
       "      <td>-0.090228</td>\n",
       "    </tr>\n",
       "    <tr>\n",
       "      <th>cafe</th>\n",
       "      <td>0.612435</td>\n",
       "      <td>0.743187</td>\n",
       "      <td>-0.622651</td>\n",
       "      <td>0.749263</td>\n",
       "      <td>1.000000</td>\n",
       "      <td>0.120280</td>\n",
       "      <td>-0.009914</td>\n",
       "    </tr>\n",
       "    <tr>\n",
       "      <th>conf</th>\n",
       "      <td>-0.194633</td>\n",
       "      <td>0.042288</td>\n",
       "      <td>0.106051</td>\n",
       "      <td>-0.095898</td>\n",
       "      <td>0.120280</td>\n",
       "      <td>1.000000</td>\n",
       "      <td>0.307706</td>\n",
       "    </tr>\n",
       "    <tr>\n",
       "      <th>death</th>\n",
       "      <td>-0.394784</td>\n",
       "      <td>-0.130002</td>\n",
       "      <td>-0.023090</td>\n",
       "      <td>-0.090228</td>\n",
       "      <td>-0.009914</td>\n",
       "      <td>0.307706</td>\n",
       "      <td>1.000000</td>\n",
       "    </tr>\n",
       "  </tbody>\n",
       "</table>\n",
       "</div>"
      ],
      "text/plain": [
       "          koreaf      chik      dosi       bun      cafe      conf     death\n",
       "koreaf  1.000000  0.723531 -0.553566  0.725394  0.612435 -0.194633 -0.394784\n",
       "chik    0.723531  1.000000 -0.541650  0.843369  0.743187  0.042288 -0.130002\n",
       "dosi   -0.553566 -0.541650  1.000000 -0.676854 -0.622651  0.106051 -0.023090\n",
       "bun     0.725394  0.843369 -0.676854  1.000000  0.749263 -0.095898 -0.090228\n",
       "cafe    0.612435  0.743187 -0.622651  0.749263  1.000000  0.120280 -0.009914\n",
       "conf   -0.194633  0.042288  0.106051 -0.095898  0.120280  1.000000  0.307706\n",
       "death  -0.394784 -0.130002 -0.023090 -0.090228 -0.009914  0.307706  1.000000"
      ]
     },
     "execution_count": 113,
     "metadata": {},
     "output_type": "execute_result"
    }
   ],
   "source": [
    "corr = k_new5.corr(method = 'pearson')\n",
    "corr"
   ]
  },
  {
   "cell_type": "code",
   "execution_count": 114,
   "metadata": {},
   "outputs": [
    {
     "data": {
      "image/png": "[encoded data removed]",
      "text/plain": [
       "<Figure size 432x288 with 2 Axes>"
      ]
     },
     "metadata": {
      "needs_background": "light"
     },
     "output_type": "display_data"
    }
   ],
   "source": [
    "# 히트맵 이미지 , 상관분석을 시각화하여 쉽게 볼 수 있는 방법\n",
    "\n",
    "\n",
    "import matplotlib.pyplot as plt \n",
    "import seaborn as sns\n",
    "\n",
    "df_heatmap = sns.heatmap(corr, cbar = True, annot = True, annot_kws={'size' : 10}, fmt = '.2f', square = True, cmap = 'Blues')\n"
   ]
  },
  {
   "cell_type": "markdown",
   "metadata": {},
   "source": [
    "# 결과\n",
    "* 날짜가 지나감에 따라 확진자수와 배달음식의 유의미한 상관관계를 가지는  변수는 \n",
    "* 카페 디저트의 경우 가장 유의미하게 12%의 상관관계를 가지며\n",
    "* 도시락이  11% 의 상관관계를 가진다고 볼 수 있다.\n",
    "* 즉 코로나가 증가에 따라 카페/디저트 및 도시락 업체 등이 혜택을 받았다는것을 확인할 수 있었다."
   ]
  },
  {
   "cell_type": "markdown",
   "metadata": {},
   "source": [
    "# 결론\n",
    "* 위 결과에 대한 해석으로 코로나19 확산으로인한 사회적거리두기 2단계가 실시되었던 시기이며\n",
    "* 보통 회사에서 점심시간등을 이용하여 외부로 나가서 먹는 빈도가 줄어든 대신\n",
    "* 도시락, 카페음료 등을 배달로 시켜먹는 추세로 바뀌어진것을 위 결과를 토대로 추론해볼 수 있었다."
   ]
  }
 ],
 "metadata": {
  "kernelspec": {
   "display_name": "Python 3",
   "language": "python",
   "name": "python3"
  },
  "language_info": {
   "codemirror_mode": {
    "name": "ipython",
    "version": 3
   },
   "file_extension": ".py",
   "mimetype": "text/x-python",
   "name": "python",
   "nbconvert_exporter": "python",
   "pygments_lexer": "ipython3",
   "version": "3.7.6"
  }
 },
 "nbformat": 4,
 "nbformat_minor": 4
}
