{
 "cells": [
  {
   "cell_type": "markdown",
   "metadata": {},
   "source": [
    "# 배달 데이터 그룹화에 따른 변화 살펴보기\n",
    "\n",
    "\n",
    "* 그룹화는 비슷한 집단끼리 묶어줌에 따라 정보의 특성을 더 활용도 있게 살펴 볼 수 있다고 봄.\n",
    "\n",
    "* 예를 들면 시도로 나누는 방법, 시군구로 나누는방법이 대표적이며, \n",
    "\n",
    "* 때에 따라서는 코로나확진자수가 많이나온 지역, 1인가구 또는 아파트비율이 높고낮게 형성된 지역에 따라\n",
    "\n",
    "* 배달데이터 건수 또는 배달품목의 변화가 있을것으로 보고 분류(군집)분석을 초점에서 분석을 실시했습니다."
   ]
  },
  {
   "cell_type": "code",
   "execution_count": 3,
   "metadata": {},
   "outputs": [
    {
     "ename": "SyntaxError",
     "evalue": "invalid syntax (<ipython-input-3-036a9cfae797>, line 5)",
     "output_type": "error",
     "traceback": [
      "\u001b[1;36m  File \u001b[1;32m\"<ipython-input-3-036a9cfae797>\"\u001b[1;36m, line \u001b[1;32m5\u001b[0m\n\u001b[1;33m    delivery   : 배달 호출 데이터\u001b[0m\n\u001b[1;37m                     ^\u001b[0m\n\u001b[1;31mSyntaxError\u001b[0m\u001b[1;31m:\u001b[0m invalid syntax\n"
     ]
    }
   ],
   "source": [
    "# 배달 데이터 분석\n",
    "\n",
    "# 사용한 데이터셋\n",
    "\n",
    "delivery   : 배달 호출 데이터\n",
    "covid_conf : 코로나확진자수,사망자수 출처: 통계청\n",
    "        \n",
    "# 데이터 셋 열\n",
    "\n",
    "- Delivery 데이터 전처리\n",
    "# 사용한 배달 호출 정보 데이터 열\n",
    "PROCESS_DT : 처리일시\n",
    "DLVR_STORE_ID : 배달상점ID\n",
    "DLVR_STORE_INDUTY_NM : 배달상점 업종이름\n",
    "DLVR_DSTN_SIDO : 배달목적지 주소 법정동 시도명\n",
    "DLVR_DSTN_SIGUNGU : 배달목적지 주소 법정동 시군구명\n",
    "DLVR_DSTN_DONG : 배달목적지 주소 법정동 읍면동명\n",
    "DLVR_DSTN_ADSTRD_CODE : 배달목적지 주소 행정동 코드\n",
    "DLVR_DSTN_RDNMADR_CODE : 배달목적지주소 도로명주소 코드\n",
    "GOODS_AMOUNT : 배달상품금액\n",
    "SETLE_KND_VALUE : 결제종류번호 (1:카드, 2:선불, 3:현금)\n",
    "DLVR_RCEPT_TIME : 배달접수시간\n",
    "    \n",
    "- Covid 데이터\n",
    "conf : 확진자 수\n",
    "death : 사망자 수"
   ]
  },
  {
   "cell_type": "code",
   "execution_count": 11,
   "metadata": {},
   "outputs": [
    {
     "name": "stdout",
     "output_type": "stream",
     "text": [
      "Collecting plotly\n",
      "  Downloading plotly-4.12.0-py2.py3-none-any.whl (13.1 MB)\n",
      "Collecting retrying>=1.3.3\n",
      "  Downloading retrying-1.3.3.tar.gz (10 kB)\n",
      "Requirement already satisfied: six in c:\\programdata\\anaconda3\\lib\\site-packages (from plotly) (1.14.0)\n",
      "Building wheels for collected packages: retrying\n",
      "  Building wheel for retrying (setup.py): started\n",
      "  Building wheel for retrying (setup.py): finished with status 'done'\n",
      "  Created wheel for retrying: filename=retrying-1.3.3-py3-none-any.whl size=11435 sha256=34471d5018d6c7fe70c3bb0620f92749c98b04fb0a51ae118217f90b2fbbd327\n",
      "  Stored in directory: c:\\users\\박성진~1\\appdata\\local\\pip\\cache\\wheels\\f9\\8d\\8d\\f6af3f7f9eea3553bc2fe6d53e4b287dad18b06a861ac56ddf\n",
      "Successfully built retrying\n",
      "Installing collected packages: retrying, plotly\n",
      "Successfully installed plotly-4.12.0 retrying-1.3.3\n",
      "Note: you may need to restart the kernel to use updated packages.\n"
     ]
    }
   ],
   "source": [
    "pip install plotly"
   ]
  },
  {
   "cell_type": "code",
   "execution_count": 4,
   "metadata": {},
   "outputs": [],
   "source": [
    "import numpy as np\n",
    "import pandas as pd\n",
    "import warnings\n",
    "warnings.filterwarnings(action='ignore')\n",
    "\n",
    "import matplotlib.pyplot as plt\n",
    "\n",
    "\n",
    "from IPython.display import Image"
   ]
  },
  {
   "cell_type": "code",
   "execution_count": 5,
   "metadata": {},
   "outputs": [
    {
     "data": {
      "text/html": [
       "        <script type=\"text/javascript\">\n",
       "        window.PlotlyConfig = {MathJaxConfig: 'local'};\n",
       "        if (window.MathJax) {MathJax.Hub.Config({SVG: {font: \"STIX-Web\"}});}\n",
       "        if (typeof require !== 'undefined') {\n",
       "        require.undef(\"plotly\");\n",
       "        requirejs.config({\n",
       "            paths: {\n",
       "                'plotly': ['https://cdn.plot.ly/plotly-latest.min']\n",
       "            }\n",
       "        });\n",
       "        require(['plotly'], function(Plotly) {\n",
       "            window._Plotly = Plotly;\n",
       "        });\n",
       "        }\n",
       "        </script>\n",
       "        "
      ]
     },
     "metadata": {},
     "output_type": "display_data"
    }
   ],
   "source": [
    "# 그래프 그리기 위한 plotly\n",
    "import plotly.express as px\n",
    "\n",
    "import plotly.io as pio\n",
    "pio.renderers.default = \"notebook_connected\"\n",
    "\n",
    "import plotly.offline as pyo\n",
    "import plotly.graph_objs as go\n",
    "\n",
    "from plotly.offline import init_notebook_mode, iplot\n",
    "\n",
    "init_notebook_mode(connected=True)"
   ]
  },
  {
   "cell_type": "code",
   "execution_count": 6,
   "metadata": {},
   "outputs": [
    {
     "data": {
      "text/html": [
       "<div>\n",
       "<style scoped>\n",
       "    .dataframe tbody tr th:only-of-type {\n",
       "        vertical-align: middle;\n",
       "    }\n",
       "\n",
       "    .dataframe tbody tr th {\n",
       "        vertical-align: top;\n",
       "    }\n",
       "\n",
       "    .dataframe thead th {\n",
       "        text-align: right;\n",
       "    }\n",
       "</style>\n",
       "<table border=\"1\" class=\"dataframe\">\n",
       "  <thead>\n",
       "    <tr style=\"text-align: right;\">\n",
       "      <th></th>\n",
       "      <th>SERIAL_NUMBER</th>\n",
       "      <th>PROCESS_DT</th>\n",
       "      <th>DLVR_RQESTER_ID</th>\n",
       "      <th>DLVR_REQUST_STTUS_VALUE</th>\n",
       "      <th>DLVR_RCEPT_CMPNY_ID</th>\n",
       "      <th>DLVR_STORE_ID</th>\n",
       "      <th>DLVR_STORE_INDUTY_NM</th>\n",
       "      <th>DLVR_STORE_LEGALDONG_CODE</th>\n",
       "      <th>DLVR_STORE_SIDO</th>\n",
       "      <th>DLVR_STORE_SIGUNGU</th>\n",
       "      <th>...</th>\n",
       "      <th>DLVR_MAN_ID</th>\n",
       "      <th>DLVR_AMOUNT</th>\n",
       "      <th>CALL_RLAY_FEE_AMOUNT</th>\n",
       "      <th>GOODS_AMOUNT</th>\n",
       "      <th>SETLE_KND_VALUE</th>\n",
       "      <th>SETLE_CARD_CN</th>\n",
       "      <th>DLVR_RCEPT_TIME</th>\n",
       "      <th>DLVR_CARALC_TIME</th>\n",
       "      <th>DLVR_COMPT_TIME</th>\n",
       "      <th>DLVR_CANCL_TIME</th>\n",
       "    </tr>\n",
       "  </thead>\n",
       "  <tbody>\n",
       "    <tr>\n",
       "      <th>0</th>\n",
       "      <td>4577985</td>\n",
       "      <td>2020-01-01</td>\n",
       "      <td>C000035</td>\n",
       "      <td>1</td>\n",
       "      <td>C000035</td>\n",
       "      <td>S0032342</td>\n",
       "      <td>치킨</td>\n",
       "      <td>4812710600</td>\n",
       "      <td>경상남도</td>\n",
       "      <td>창원시 마산회원구</td>\n",
       "      <td>...</td>\n",
       "      <td>D0005271</td>\n",
       "      <td>4290</td>\n",
       "      <td>300</td>\n",
       "      <td>25000</td>\n",
       "      <td>1</td>\n",
       "      <td>승인:비씨카드사</td>\n",
       "      <td>2020-01-01 00:15:49</td>\n",
       "      <td>2020-01-01 00:21:38</td>\n",
       "      <td>2020-01-01 00:41:37</td>\n",
       "      <td>NaN</td>\n",
       "    </tr>\n",
       "    <tr>\n",
       "      <th>1</th>\n",
       "      <td>4577986</td>\n",
       "      <td>2020-01-01</td>\n",
       "      <td>C000237</td>\n",
       "      <td>1</td>\n",
       "      <td>C000237</td>\n",
       "      <td>S0021847</td>\n",
       "      <td>찜탕</td>\n",
       "      <td>4121010200</td>\n",
       "      <td>경기도</td>\n",
       "      <td>광명시</td>\n",
       "      <td>...</td>\n",
       "      <td>D0003269</td>\n",
       "      <td>4800</td>\n",
       "      <td>200</td>\n",
       "      <td>49000</td>\n",
       "      <td>2</td>\n",
       "      <td>NaN</td>\n",
       "      <td>2020-01-01 01:12:14</td>\n",
       "      <td>2020-01-01 01:21:41</td>\n",
       "      <td>2020-01-01 01:31:44</td>\n",
       "      <td>NaN</td>\n",
       "    </tr>\n",
       "    <tr>\n",
       "      <th>2</th>\n",
       "      <td>4577988</td>\n",
       "      <td>2020-01-01</td>\n",
       "      <td>C000129</td>\n",
       "      <td>1</td>\n",
       "      <td>C000129</td>\n",
       "      <td>S0025740</td>\n",
       "      <td>치킨</td>\n",
       "      <td>1138010400</td>\n",
       "      <td>서울특별시</td>\n",
       "      <td>은평구</td>\n",
       "      <td>...</td>\n",
       "      <td>D0001536</td>\n",
       "      <td>3300</td>\n",
       "      <td>300</td>\n",
       "      <td>23000</td>\n",
       "      <td>3</td>\n",
       "      <td>승인:</td>\n",
       "      <td>2020-01-01 00:01:14</td>\n",
       "      <td>2020-01-01 00:01:47</td>\n",
       "      <td>2020-01-01 00:18:47</td>\n",
       "      <td>NaN</td>\n",
       "    </tr>\n",
       "    <tr>\n",
       "      <th>3</th>\n",
       "      <td>4577989</td>\n",
       "      <td>2020-01-01</td>\n",
       "      <td>C000029</td>\n",
       "      <td>1</td>\n",
       "      <td>C000043</td>\n",
       "      <td>S0039634</td>\n",
       "      <td>한식</td>\n",
       "      <td>4115010100</td>\n",
       "      <td>경기도</td>\n",
       "      <td>의정부시</td>\n",
       "      <td>...</td>\n",
       "      <td>D0005061</td>\n",
       "      <td>4500</td>\n",
       "      <td>300</td>\n",
       "      <td>20000</td>\n",
       "      <td>2</td>\n",
       "      <td>NaN</td>\n",
       "      <td>2020-01-01 01:01:34</td>\n",
       "      <td>2020-01-01 01:28:06</td>\n",
       "      <td>2020-01-01 01:36:48</td>\n",
       "      <td>NaN</td>\n",
       "    </tr>\n",
       "    <tr>\n",
       "      <th>4</th>\n",
       "      <td>4577991</td>\n",
       "      <td>2020-01-01</td>\n",
       "      <td>C000130</td>\n",
       "      <td>1</td>\n",
       "      <td>C000130</td>\n",
       "      <td>S0002237</td>\n",
       "      <td>한식</td>\n",
       "      <td>4128112800</td>\n",
       "      <td>경기도</td>\n",
       "      <td>고양시 덕양구</td>\n",
       "      <td>...</td>\n",
       "      <td>D0005215</td>\n",
       "      <td>6500</td>\n",
       "      <td>300</td>\n",
       "      <td>32000</td>\n",
       "      <td>2</td>\n",
       "      <td>NaN</td>\n",
       "      <td>2020-01-01 01:05:06</td>\n",
       "      <td>2020-01-01 01:08:01</td>\n",
       "      <td>2020-01-01 01:29:00</td>\n",
       "      <td>NaN</td>\n",
       "    </tr>\n",
       "    <tr>\n",
       "      <th>...</th>\n",
       "      <td>...</td>\n",
       "      <td>...</td>\n",
       "      <td>...</td>\n",
       "      <td>...</td>\n",
       "      <td>...</td>\n",
       "      <td>...</td>\n",
       "      <td>...</td>\n",
       "      <td>...</td>\n",
       "      <td>...</td>\n",
       "      <td>...</td>\n",
       "      <td>...</td>\n",
       "      <td>...</td>\n",
       "      <td>...</td>\n",
       "      <td>...</td>\n",
       "      <td>...</td>\n",
       "      <td>...</td>\n",
       "      <td>...</td>\n",
       "      <td>...</td>\n",
       "      <td>...</td>\n",
       "      <td>...</td>\n",
       "      <td>...</td>\n",
       "    </tr>\n",
       "    <tr>\n",
       "      <th>5158319</th>\n",
       "      <td>10672688</td>\n",
       "      <td>2020-06-21</td>\n",
       "      <td>C000312</td>\n",
       "      <td>1</td>\n",
       "      <td>C000312</td>\n",
       "      <td>S0029529</td>\n",
       "      <td>야식</td>\n",
       "      <td>4125010200</td>\n",
       "      <td>경기도</td>\n",
       "      <td>동두천시</td>\n",
       "      <td>...</td>\n",
       "      <td>D0013004</td>\n",
       "      <td>3000</td>\n",
       "      <td>500</td>\n",
       "      <td>26000</td>\n",
       "      <td>1</td>\n",
       "      <td>승인:하나카드</td>\n",
       "      <td>2020-06-21 22:48:22</td>\n",
       "      <td>2020-06-21 22:48:37</td>\n",
       "      <td>2020-06-21 23:07:47</td>\n",
       "      <td>NaN</td>\n",
       "    </tr>\n",
       "    <tr>\n",
       "      <th>5158320</th>\n",
       "      <td>10672689</td>\n",
       "      <td>2020-06-21</td>\n",
       "      <td>C000026</td>\n",
       "      <td>1</td>\n",
       "      <td>C000026</td>\n",
       "      <td>S0026242</td>\n",
       "      <td>야식</td>\n",
       "      <td>1132010800</td>\n",
       "      <td>서울특별시</td>\n",
       "      <td>도봉구</td>\n",
       "      <td>...</td>\n",
       "      <td>D0006251</td>\n",
       "      <td>3600</td>\n",
       "      <td>55</td>\n",
       "      <td>22000</td>\n",
       "      <td>2</td>\n",
       "      <td>NaN</td>\n",
       "      <td>2020-06-21 22:57:15</td>\n",
       "      <td>2020-06-21 22:58:00</td>\n",
       "      <td>2020-06-21 23:18:20</td>\n",
       "      <td>NaN</td>\n",
       "    </tr>\n",
       "    <tr>\n",
       "      <th>5158321</th>\n",
       "      <td>10672690</td>\n",
       "      <td>2020-06-21</td>\n",
       "      <td>C000130</td>\n",
       "      <td>1</td>\n",
       "      <td>C000130</td>\n",
       "      <td>S0042234</td>\n",
       "      <td>야식</td>\n",
       "      <td>4128112300</td>\n",
       "      <td>경기도</td>\n",
       "      <td>고양시 덕양구</td>\n",
       "      <td>...</td>\n",
       "      <td>D0012754</td>\n",
       "      <td>3000</td>\n",
       "      <td>300</td>\n",
       "      <td>17000</td>\n",
       "      <td>2</td>\n",
       "      <td>NaN</td>\n",
       "      <td>2020-06-21 22:55:08</td>\n",
       "      <td>2020-06-21 22:55:22</td>\n",
       "      <td>2020-06-21 23:14:45</td>\n",
       "      <td>NaN</td>\n",
       "    </tr>\n",
       "    <tr>\n",
       "      <th>5158322</th>\n",
       "      <td>10672691</td>\n",
       "      <td>2020-06-21</td>\n",
       "      <td>C000237</td>\n",
       "      <td>1</td>\n",
       "      <td>C000237</td>\n",
       "      <td>S0021766</td>\n",
       "      <td>족발/보쌈</td>\n",
       "      <td>4121010200</td>\n",
       "      <td>경기도</td>\n",
       "      <td>광명시</td>\n",
       "      <td>...</td>\n",
       "      <td>D0004485</td>\n",
       "      <td>3630</td>\n",
       "      <td>200</td>\n",
       "      <td>53700</td>\n",
       "      <td>1</td>\n",
       "      <td>승인:비씨카드사</td>\n",
       "      <td>2020-06-21 23:10:38</td>\n",
       "      <td>2020-06-21 23:11:03</td>\n",
       "      <td>2020-06-21 23:25:10</td>\n",
       "      <td>NaN</td>\n",
       "    </tr>\n",
       "    <tr>\n",
       "      <th>5158323</th>\n",
       "      <td>10672692</td>\n",
       "      <td>2020-06-21</td>\n",
       "      <td>C000209</td>\n",
       "      <td>1</td>\n",
       "      <td>C000209</td>\n",
       "      <td>S0022227</td>\n",
       "      <td>야식</td>\n",
       "      <td>1154510300</td>\n",
       "      <td>서울특별시</td>\n",
       "      <td>금천구</td>\n",
       "      <td>...</td>\n",
       "      <td>D0006541</td>\n",
       "      <td>4730</td>\n",
       "      <td>300</td>\n",
       "      <td>46000</td>\n",
       "      <td>2</td>\n",
       "      <td>NaN</td>\n",
       "      <td>2020-06-21 23:04:50</td>\n",
       "      <td>2020-06-21 23:14:35</td>\n",
       "      <td>2020-06-21 23:28:22</td>\n",
       "      <td>NaN</td>\n",
       "    </tr>\n",
       "  </tbody>\n",
       "</table>\n",
       "<p>5158324 rows × 31 columns</p>\n",
       "</div>"
      ],
      "text/plain": [
       "         SERIAL_NUMBER  PROCESS_DT DLVR_RQESTER_ID  DLVR_REQUST_STTUS_VALUE  \\\n",
       "0              4577985  2020-01-01         C000035                        1   \n",
       "1              4577986  2020-01-01         C000237                        1   \n",
       "2              4577988  2020-01-01         C000129                        1   \n",
       "3              4577989  2020-01-01         C000029                        1   \n",
       "4              4577991  2020-01-01         C000130                        1   \n",
       "...                ...         ...             ...                      ...   \n",
       "5158319       10672688  2020-06-21         C000312                        1   \n",
       "5158320       10672689  2020-06-21         C000026                        1   \n",
       "5158321       10672690  2020-06-21         C000130                        1   \n",
       "5158322       10672691  2020-06-21         C000237                        1   \n",
       "5158323       10672692  2020-06-21         C000209                        1   \n",
       "\n",
       "        DLVR_RCEPT_CMPNY_ID DLVR_STORE_ID DLVR_STORE_INDUTY_NM  \\\n",
       "0                   C000035      S0032342                   치킨   \n",
       "1                   C000237      S0021847                   찜탕   \n",
       "2                   C000129      S0025740                   치킨   \n",
       "3                   C000043      S0039634                   한식   \n",
       "4                   C000130      S0002237                   한식   \n",
       "...                     ...           ...                  ...   \n",
       "5158319             C000312      S0029529                   야식   \n",
       "5158320             C000026      S0026242                   야식   \n",
       "5158321             C000130      S0042234                   야식   \n",
       "5158322             C000237      S0021766                족발/보쌈   \n",
       "5158323             C000209      S0022227                   야식   \n",
       "\n",
       "         DLVR_STORE_LEGALDONG_CODE DLVR_STORE_SIDO DLVR_STORE_SIGUNGU  ...  \\\n",
       "0                       4812710600            경상남도          창원시 마산회원구  ...   \n",
       "1                       4121010200             경기도                광명시  ...   \n",
       "2                       1138010400           서울특별시                은평구  ...   \n",
       "3                       4115010100             경기도               의정부시  ...   \n",
       "4                       4128112800             경기도            고양시 덕양구  ...   \n",
       "...                            ...             ...                ...  ...   \n",
       "5158319                 4125010200             경기도               동두천시  ...   \n",
       "5158320                 1132010800           서울특별시                도봉구  ...   \n",
       "5158321                 4128112300             경기도            고양시 덕양구  ...   \n",
       "5158322                 4121010200             경기도                광명시  ...   \n",
       "5158323                 1154510300           서울특별시                금천구  ...   \n",
       "\n",
       "        DLVR_MAN_ID DLVR_AMOUNT  CALL_RLAY_FEE_AMOUNT  GOODS_AMOUNT  \\\n",
       "0          D0005271        4290                   300         25000   \n",
       "1          D0003269        4800                   200         49000   \n",
       "2          D0001536        3300                   300         23000   \n",
       "3          D0005061        4500                   300         20000   \n",
       "4          D0005215        6500                   300         32000   \n",
       "...             ...         ...                   ...           ...   \n",
       "5158319    D0013004        3000                   500         26000   \n",
       "5158320    D0006251        3600                    55         22000   \n",
       "5158321    D0012754        3000                   300         17000   \n",
       "5158322    D0004485        3630                   200         53700   \n",
       "5158323    D0006541        4730                   300         46000   \n",
       "\n",
       "         SETLE_KND_VALUE SETLE_CARD_CN      DLVR_RCEPT_TIME  \\\n",
       "0                      1      승인:비씨카드사  2020-01-01 00:15:49   \n",
       "1                      2           NaN  2020-01-01 01:12:14   \n",
       "2                      3           승인:  2020-01-01 00:01:14   \n",
       "3                      2           NaN  2020-01-01 01:01:34   \n",
       "4                      2           NaN  2020-01-01 01:05:06   \n",
       "...                  ...           ...                  ...   \n",
       "5158319                1       승인:하나카드  2020-06-21 22:48:22   \n",
       "5158320                2           NaN  2020-06-21 22:57:15   \n",
       "5158321                2           NaN  2020-06-21 22:55:08   \n",
       "5158322                1      승인:비씨카드사  2020-06-21 23:10:38   \n",
       "5158323                2           NaN  2020-06-21 23:04:50   \n",
       "\n",
       "            DLVR_CARALC_TIME      DLVR_COMPT_TIME  DLVR_CANCL_TIME  \n",
       "0        2020-01-01 00:21:38  2020-01-01 00:41:37              NaN  \n",
       "1        2020-01-01 01:21:41  2020-01-01 01:31:44              NaN  \n",
       "2        2020-01-01 00:01:47  2020-01-01 00:18:47              NaN  \n",
       "3        2020-01-01 01:28:06  2020-01-01 01:36:48              NaN  \n",
       "4        2020-01-01 01:08:01  2020-01-01 01:29:00              NaN  \n",
       "...                      ...                  ...              ...  \n",
       "5158319  2020-06-21 22:48:37  2020-06-21 23:07:47              NaN  \n",
       "5158320  2020-06-21 22:58:00  2020-06-21 23:18:20              NaN  \n",
       "5158321  2020-06-21 22:55:22  2020-06-21 23:14:45              NaN  \n",
       "5158322  2020-06-21 23:11:03  2020-06-21 23:25:10              NaN  \n",
       "5158323  2020-06-21 23:14:35  2020-06-21 23:28:22              NaN  \n",
       "\n",
       "[5158324 rows x 31 columns]"
      ]
     },
     "execution_count": 6,
     "metadata": {},
     "output_type": "execute_result"
    }
   ],
   "source": [
    "# -*- coding: utf-8 -*-\n",
    "\n",
    "import pandas as pd\n",
    "\n",
    "file_path = '../data/delivery.csv'\n",
    "delivery = pd.read_csv(file_path, sep = ',', encoding='utf-8')\n",
    "delivery"
   ]
  },
  {
   "cell_type": "code",
   "execution_count": 7,
   "metadata": {},
   "outputs": [],
   "source": [
    "del_dstn = delivery.loc[:,['PROCESS_DT','DLVR_STORE_ID','DLVR_DSTN_SIDO','DLVR_DSTN_SIGUNGU','DLVR_DSTN_DONG',\n",
    "                'DLVR_DSTN_ADSTRD_CODE','DLVR_DSTN_RDNMADR_CODE','DLVR_STORE_INDUTY_NM','GOODS_AMOUNT','SETLE_KND_VALUE','DLVR_RCEPT_TIME']]"
   ]
  },
  {
   "cell_type": "code",
   "execution_count": 8,
   "metadata": {},
   "outputs": [
    {
     "data": {
      "text/html": [
       "<div>\n",
       "<style scoped>\n",
       "    .dataframe tbody tr th:only-of-type {\n",
       "        vertical-align: middle;\n",
       "    }\n",
       "\n",
       "    .dataframe tbody tr th {\n",
       "        vertical-align: top;\n",
       "    }\n",
       "\n",
       "    .dataframe thead th {\n",
       "        text-align: right;\n",
       "    }\n",
       "</style>\n",
       "<table border=\"1\" class=\"dataframe\">\n",
       "  <thead>\n",
       "    <tr style=\"text-align: right;\">\n",
       "      <th></th>\n",
       "      <th>PROCESS_DT</th>\n",
       "      <th>DLVR_STORE_ID</th>\n",
       "      <th>si_name</th>\n",
       "      <th>gu_name</th>\n",
       "      <th>dong_name</th>\n",
       "      <th>adstrd_code</th>\n",
       "      <th>DLVR_DSTN_RDNMADR_CODE</th>\n",
       "      <th>induty_nm</th>\n",
       "      <th>GOODS_AMOUNT</th>\n",
       "      <th>SETLE_KND_VALUE</th>\n",
       "      <th>DLVR_RCEPT_TIME</th>\n",
       "      <th>year</th>\n",
       "      <th>month</th>\n",
       "    </tr>\n",
       "  </thead>\n",
       "  <tbody>\n",
       "    <tr>\n",
       "      <th>0</th>\n",
       "      <td>2020-01-01</td>\n",
       "      <td>S0032342</td>\n",
       "      <td>경상남도</td>\n",
       "      <td>창원시 마산회원구</td>\n",
       "      <td>석전동</td>\n",
       "      <td>48127545</td>\n",
       "      <td>4.812748e+11</td>\n",
       "      <td>치킨</td>\n",
       "      <td>25000</td>\n",
       "      <td>1</td>\n",
       "      <td>2020-01-01 00:15:49</td>\n",
       "      <td>2020</td>\n",
       "      <td>1</td>\n",
       "    </tr>\n",
       "    <tr>\n",
       "      <th>1</th>\n",
       "      <td>2020-01-01</td>\n",
       "      <td>S0021847</td>\n",
       "      <td>서울특별시</td>\n",
       "      <td>금천구</td>\n",
       "      <td>가산동</td>\n",
       "      <td>11545510</td>\n",
       "      <td>1.154531e+11</td>\n",
       "      <td>찜탕</td>\n",
       "      <td>49000</td>\n",
       "      <td>2</td>\n",
       "      <td>2020-01-01 01:12:14</td>\n",
       "      <td>2020</td>\n",
       "      <td>1</td>\n",
       "    </tr>\n",
       "    <tr>\n",
       "      <th>2</th>\n",
       "      <td>2020-01-01</td>\n",
       "      <td>S0025740</td>\n",
       "      <td>서울특별시</td>\n",
       "      <td>은평구</td>\n",
       "      <td>갈현동</td>\n",
       "      <td>11380552</td>\n",
       "      <td>1.138041e+11</td>\n",
       "      <td>치킨</td>\n",
       "      <td>23000</td>\n",
       "      <td>3</td>\n",
       "      <td>2020-01-01 00:01:14</td>\n",
       "      <td>2020</td>\n",
       "      <td>1</td>\n",
       "    </tr>\n",
       "    <tr>\n",
       "      <th>3</th>\n",
       "      <td>2020-01-01</td>\n",
       "      <td>S0039634</td>\n",
       "      <td>경기도</td>\n",
       "      <td>의정부시</td>\n",
       "      <td>의정부동</td>\n",
       "      <td>41150510</td>\n",
       "      <td>4.115043e+11</td>\n",
       "      <td>한식</td>\n",
       "      <td>20000</td>\n",
       "      <td>2</td>\n",
       "      <td>2020-01-01 01:01:34</td>\n",
       "      <td>2020</td>\n",
       "      <td>1</td>\n",
       "    </tr>\n",
       "    <tr>\n",
       "      <th>4</th>\n",
       "      <td>2020-01-01</td>\n",
       "      <td>S0002237</td>\n",
       "      <td>경기도</td>\n",
       "      <td>고양시 덕양구</td>\n",
       "      <td>주교동</td>\n",
       "      <td>41281510</td>\n",
       "      <td>4.128144e+11</td>\n",
       "      <td>한식</td>\n",
       "      <td>32000</td>\n",
       "      <td>2</td>\n",
       "      <td>2020-01-01 01:05:06</td>\n",
       "      <td>2020</td>\n",
       "      <td>1</td>\n",
       "    </tr>\n",
       "  </tbody>\n",
       "</table>\n",
       "</div>"
      ],
      "text/plain": [
       "  PROCESS_DT DLVR_STORE_ID si_name    gu_name dong_name adstrd_code  \\\n",
       "0 2020-01-01      S0032342    경상남도  창원시 마산회원구       석전동    48127545   \n",
       "1 2020-01-01      S0021847   서울특별시        금천구       가산동    11545510   \n",
       "2 2020-01-01      S0025740   서울특별시        은평구       갈현동    11380552   \n",
       "3 2020-01-01      S0039634     경기도       의정부시      의정부동    41150510   \n",
       "4 2020-01-01      S0002237     경기도    고양시 덕양구       주교동    41281510   \n",
       "\n",
       "   DLVR_DSTN_RDNMADR_CODE induty_nm  GOODS_AMOUNT  SETLE_KND_VALUE  \\\n",
       "0            4.812748e+11        치킨         25000                1   \n",
       "1            1.154531e+11        찜탕         49000                2   \n",
       "2            1.138041e+11        치킨         23000                3   \n",
       "3            4.115043e+11        한식         20000                2   \n",
       "4            4.128144e+11        한식         32000                2   \n",
       "\n",
       "       DLVR_RCEPT_TIME  year  month  \n",
       "0  2020-01-01 00:15:49  2020      1  \n",
       "1  2020-01-01 01:12:14  2020      1  \n",
       "2  2020-01-01 00:01:14  2020      1  \n",
       "3  2020-01-01 01:01:34  2020      1  \n",
       "4  2020-01-01 01:05:06  2020      1  "
      ]
     },
     "execution_count": 8,
     "metadata": {},
     "output_type": "execute_result"
    }
   ],
   "source": [
    "# 열이름 간단하게 변경\n",
    "del_dstn = del_dstn.rename({'DLVR_DSTN_SIDO':'si_name','DLVR_DSTN_SIGUNGU':'gu_name',\n",
    "                            'DLVR_DSTN_DONG':'dong_name','DLVR_STORE_INDUTY_NM':'induty_nm','DLVR_DSTN_ADSTRD_CODE':'adstrd_code'},\n",
    "                           axis = 'columns')\n",
    "\n",
    "# 행정동코드 전처리\n",
    "del_dstn.adstrd_code = del_dstn.adstrd_code.astype(str) \n",
    "del_dstn.adstrd_code = del_dstn.adstrd_code.apply(lambda x : x[:8])\n",
    "\n",
    "# 날짜 타입 변경 및 년도, 월 열 만들기\n",
    "del_dstn['PROCESS_DT'] = pd.to_datetime(del_dstn['PROCESS_DT'], format='%Y-%m-%d')\n",
    "del_dstn['year'] = pd.DatetimeIndex(del_dstn['PROCESS_DT']).year\n",
    "del_dstn['month'] = pd.DatetimeIndex(del_dstn['PROCESS_DT']).month\n",
    "del_dstn.head()"
   ]
  },
  {
   "cell_type": "code",
   "execution_count": 9,
   "metadata": {},
   "outputs": [
    {
     "data": {
      "text/html": [
       "<div>\n",
       "<style scoped>\n",
       "    .dataframe tbody tr th:only-of-type {\n",
       "        vertical-align: middle;\n",
       "    }\n",
       "\n",
       "    .dataframe tbody tr th {\n",
       "        vertical-align: top;\n",
       "    }\n",
       "\n",
       "    .dataframe thead th {\n",
       "        text-align: right;\n",
       "    }\n",
       "</style>\n",
       "<table border=\"1\" class=\"dataframe\">\n",
       "  <thead>\n",
       "    <tr style=\"text-align: right;\">\n",
       "      <th></th>\n",
       "      <th>induty_nm</th>\n",
       "      <th>count</th>\n",
       "    </tr>\n",
       "  </thead>\n",
       "  <tbody>\n",
       "    <tr>\n",
       "      <th>0</th>\n",
       "      <td>도시락</td>\n",
       "      <td>49254</td>\n",
       "    </tr>\n",
       "    <tr>\n",
       "      <th>1</th>\n",
       "      <td>돈까스/일식</td>\n",
       "      <td>251112</td>\n",
       "    </tr>\n",
       "    <tr>\n",
       "      <th>2</th>\n",
       "      <td>배달전문업체</td>\n",
       "      <td>94837</td>\n",
       "    </tr>\n",
       "    <tr>\n",
       "      <th>3</th>\n",
       "      <td>분식</td>\n",
       "      <td>626945</td>\n",
       "    </tr>\n",
       "    <tr>\n",
       "      <th>4</th>\n",
       "      <td>심부름</td>\n",
       "      <td>5344</td>\n",
       "    </tr>\n",
       "    <tr>\n",
       "      <th>5</th>\n",
       "      <td>아시안/양식</td>\n",
       "      <td>109185</td>\n",
       "    </tr>\n",
       "    <tr>\n",
       "      <th>6</th>\n",
       "      <td>야식</td>\n",
       "      <td>226043</td>\n",
       "    </tr>\n",
       "    <tr>\n",
       "      <th>7</th>\n",
       "      <td>족발/보쌈</td>\n",
       "      <td>415060</td>\n",
       "    </tr>\n",
       "    <tr>\n",
       "      <th>8</th>\n",
       "      <td>중식</td>\n",
       "      <td>187030</td>\n",
       "    </tr>\n",
       "    <tr>\n",
       "      <th>9</th>\n",
       "      <td>찜탕</td>\n",
       "      <td>214388</td>\n",
       "    </tr>\n",
       "    <tr>\n",
       "      <th>10</th>\n",
       "      <td>치킨</td>\n",
       "      <td>1173238</td>\n",
       "    </tr>\n",
       "    <tr>\n",
       "      <th>11</th>\n",
       "      <td>카페/디저트</td>\n",
       "      <td>457830</td>\n",
       "    </tr>\n",
       "    <tr>\n",
       "      <th>12</th>\n",
       "      <td>패스트푸드</td>\n",
       "      <td>326149</td>\n",
       "    </tr>\n",
       "    <tr>\n",
       "      <th>13</th>\n",
       "      <td>피자</td>\n",
       "      <td>262246</td>\n",
       "    </tr>\n",
       "    <tr>\n",
       "      <th>14</th>\n",
       "      <td>한식</td>\n",
       "      <td>658568</td>\n",
       "    </tr>\n",
       "    <tr>\n",
       "      <th>15</th>\n",
       "      <td>회</td>\n",
       "      <td>101095</td>\n",
       "    </tr>\n",
       "  </tbody>\n",
       "</table>\n",
       "</div>"
      ],
      "text/plain": [
       "   induty_nm    count\n",
       "0        도시락    49254\n",
       "1     돈까스/일식   251112\n",
       "2     배달전문업체    94837\n",
       "3         분식   626945\n",
       "4        심부름     5344\n",
       "5     아시안/양식   109185\n",
       "6         야식   226043\n",
       "7      족발/보쌈   415060\n",
       "8         중식   187030\n",
       "9         찜탕   214388\n",
       "10        치킨  1173238\n",
       "11    카페/디저트   457830\n",
       "12     패스트푸드   326149\n",
       "13        피자   262246\n",
       "14        한식   658568\n",
       "15         회   101095"
      ]
     },
     "execution_count": 9,
     "metadata": {},
     "output_type": "execute_result"
    }
   ],
   "source": [
    "# DLVR_STORE_INDUTY_NM(업종 이름) 기준으로 묶어주기\n",
    "deliveryname = del_dstn.groupby(['induty_nm']).size().reset_index(name='count')\n",
    "\n",
    "deliveryname"
   ]
  },
  {
   "cell_type": "markdown",
   "metadata": {},
   "source": [
    "# 어떤 업종이 가장 많이 차지하는지 확인하기"
   ]
  },
  {
   "cell_type": "code",
   "execution_count": 10,
   "metadata": {},
   "outputs": [
    {
     "data": {
      "application/vnd.plotly.v1+json": {
       "config": {
        "linkText": "Export to plot.ly",
        "plotlyServerURL": "https://plot.ly",
        "showLink": false
       },
       "data": [
        {
         "type": "bar",
         "x": [
          "도시락",
          "돈까스/일식",
          "배달전문업체",
          "분식",
          "심부름",
          "아시안/양식",
          "야식",
          "족발/보쌈",
          "중식",
          "찜탕",
          "치킨",
          "카페/디저트",
          "패스트푸드",
          "피자",
          "한식",
          "회"
         ],
         "y": [
          49254,
          251112,
          94837,
          626945,
          5344,
          109185,
          226043,
          415060,
          187030,
          214388,
          1173238,
          457830,
          326149,
          262246,
          658568,
          101095
         ]
        }
       ],
       "layout": {
        "template": {
         "data": {
          "bar": [
           {
            "error_x": {
             "color": "#2a3f5f"
            },
            "error_y": {
             "color": "#2a3f5f"
            },
            "marker": {
             "line": {
              "color": "#E5ECF6",
              "width": 0.5
             }
            },
            "type": "bar"
           }
          ],
          "barpolar": [
           {
            "marker": {
             "line": {
              "color": "#E5ECF6",
              "width": 0.5
             }
            },
            "type": "barpolar"
           }
          ],
          "carpet": [
           {
            "aaxis": {
             "endlinecolor": "#2a3f5f",
             "gridcolor": "white",
             "linecolor": "white",
             "minorgridcolor": "white",
             "startlinecolor": "#2a3f5f"
            },
            "baxis": {
             "endlinecolor": "#2a3f5f",
             "gridcolor": "white",
             "linecolor": "white",
             "minorgridcolor": "white",
             "startlinecolor": "#2a3f5f"
            },
            "type": "carpet"
           }
          ],
          "choropleth": [
           {
            "colorbar": {
             "outlinewidth": 0,
             "ticks": ""
            },
            "type": "choropleth"
           }
          ],
          "contour": [
           {
            "colorbar": {
             "outlinewidth": 0,
             "ticks": ""
            },
            "colorscale": [
             [
              0,
              "#0d0887"
             ],
             [
              0.1111111111111111,
              "#46039f"
             ],
             [
              0.2222222222222222,
              "#7201a8"
             ],
             [
              0.3333333333333333,
              "#9c179e"
             ],
             [
              0.4444444444444444,
              "#bd3786"
             ],
             [
              0.5555555555555556,
              "#d8576b"
             ],
             [
              0.6666666666666666,
              "#ed7953"
             ],
             [
              0.7777777777777778,
              "#fb9f3a"
             ],
             [
              0.8888888888888888,
              "#fdca26"
             ],
             [
              1,
              "#f0f921"
             ]
            ],
            "type": "contour"
           }
          ],
          "contourcarpet": [
           {
            "colorbar": {
             "outlinewidth": 0,
             "ticks": ""
            },
            "type": "contourcarpet"
           }
          ],
          "heatmap": [
           {
            "colorbar": {
             "outlinewidth": 0,
             "ticks": ""
            },
            "colorscale": [
             [
              0,
              "#0d0887"
             ],
             [
              0.1111111111111111,
              "#46039f"
             ],
             [
              0.2222222222222222,
              "#7201a8"
             ],
             [
              0.3333333333333333,
              "#9c179e"
             ],
             [
              0.4444444444444444,
              "#bd3786"
             ],
             [
              0.5555555555555556,
              "#d8576b"
             ],
             [
              0.6666666666666666,
              "#ed7953"
             ],
             [
              0.7777777777777778,
              "#fb9f3a"
             ],
             [
              0.8888888888888888,
              "#fdca26"
             ],
             [
              1,
              "#f0f921"
             ]
            ],
            "type": "heatmap"
           }
          ],
          "heatmapgl": [
           {
            "colorbar": {
             "outlinewidth": 0,
             "ticks": ""
            },
            "colorscale": [
             [
              0,
              "#0d0887"
             ],
             [
              0.1111111111111111,
              "#46039f"
             ],
             [
              0.2222222222222222,
              "#7201a8"
             ],
             [
              0.3333333333333333,
              "#9c179e"
             ],
             [
              0.4444444444444444,
              "#bd3786"
             ],
             [
              0.5555555555555556,
              "#d8576b"
             ],
             [
              0.6666666666666666,
              "#ed7953"
             ],
             [
              0.7777777777777778,
              "#fb9f3a"
             ],
             [
              0.8888888888888888,
              "#fdca26"
             ],
             [
              1,
              "#f0f921"
             ]
            ],
            "type": "heatmapgl"
           }
          ],
          "histogram": [
           {
            "marker": {
             "colorbar": {
              "outlinewidth": 0,
              "ticks": ""
             }
            },
            "type": "histogram"
           }
          ],
          "histogram2d": [
           {
            "colorbar": {
             "outlinewidth": 0,
             "ticks": ""
            },
            "colorscale": [
             [
              0,
              "#0d0887"
             ],
             [
              0.1111111111111111,
              "#46039f"
             ],
             [
              0.2222222222222222,
              "#7201a8"
             ],
             [
              0.3333333333333333,
              "#9c179e"
             ],
             [
              0.4444444444444444,
              "#bd3786"
             ],
             [
              0.5555555555555556,
              "#d8576b"
             ],
             [
              0.6666666666666666,
              "#ed7953"
             ],
             [
              0.7777777777777778,
              "#fb9f3a"
             ],
             [
              0.8888888888888888,
              "#fdca26"
             ],
             [
              1,
              "#f0f921"
             ]
            ],
            "type": "histogram2d"
           }
          ],
          "histogram2dcontour": [
           {
            "colorbar": {
             "outlinewidth": 0,
             "ticks": ""
            },
            "colorscale": [
             [
              0,
              "#0d0887"
             ],
             [
              0.1111111111111111,
              "#46039f"
             ],
             [
              0.2222222222222222,
              "#7201a8"
             ],
             [
              0.3333333333333333,
              "#9c179e"
             ],
             [
              0.4444444444444444,
              "#bd3786"
             ],
             [
              0.5555555555555556,
              "#d8576b"
             ],
             [
              0.6666666666666666,
              "#ed7953"
             ],
             [
              0.7777777777777778,
              "#fb9f3a"
             ],
             [
              0.8888888888888888,
              "#fdca26"
             ],
             [
              1,
              "#f0f921"
             ]
            ],
            "type": "histogram2dcontour"
           }
          ],
          "mesh3d": [
           {
            "colorbar": {
             "outlinewidth": 0,
             "ticks": ""
            },
            "type": "mesh3d"
           }
          ],
          "parcoords": [
           {
            "line": {
             "colorbar": {
              "outlinewidth": 0,
              "ticks": ""
             }
            },
            "type": "parcoords"
           }
          ],
          "pie": [
           {
            "automargin": true,
            "type": "pie"
           }
          ],
          "scatter": [
           {
            "marker": {
             "colorbar": {
              "outlinewidth": 0,
              "ticks": ""
             }
            },
            "type": "scatter"
           }
          ],
          "scatter3d": [
           {
            "line": {
             "colorbar": {
              "outlinewidth": 0,
              "ticks": ""
             }
            },
            "marker": {
             "colorbar": {
              "outlinewidth": 0,
              "ticks": ""
             }
            },
            "type": "scatter3d"
           }
          ],
          "scattercarpet": [
           {
            "marker": {
             "colorbar": {
              "outlinewidth": 0,
              "ticks": ""
             }
            },
            "type": "scattercarpet"
           }
          ],
          "scattergeo": [
           {
            "marker": {
             "colorbar": {
              "outlinewidth": 0,
              "ticks": ""
             }
            },
            "type": "scattergeo"
           }
          ],
          "scattergl": [
           {
            "marker": {
             "colorbar": {
              "outlinewidth": 0,
              "ticks": ""
             }
            },
            "type": "scattergl"
           }
          ],
          "scattermapbox": [
           {
            "marker": {
             "colorbar": {
              "outlinewidth": 0,
              "ticks": ""
             }
            },
            "type": "scattermapbox"
           }
          ],
          "scatterpolar": [
           {
            "marker": {
             "colorbar": {
              "outlinewidth": 0,
              "ticks": ""
             }
            },
            "type": "scatterpolar"
           }
          ],
          "scatterpolargl": [
           {
            "marker": {
             "colorbar": {
              "outlinewidth": 0,
              "ticks": ""
             }
            },
            "type": "scatterpolargl"
           }
          ],
          "scatterternary": [
           {
            "marker": {
             "colorbar": {
              "outlinewidth": 0,
              "ticks": ""
             }
            },
            "type": "scatterternary"
           }
          ],
          "surface": [
           {
            "colorbar": {
             "outlinewidth": 0,
             "ticks": ""
            },
            "colorscale": [
             [
              0,
              "#0d0887"
             ],
             [
              0.1111111111111111,
              "#46039f"
             ],
             [
              0.2222222222222222,
              "#7201a8"
             ],
             [
              0.3333333333333333,
              "#9c179e"
             ],
             [
              0.4444444444444444,
              "#bd3786"
             ],
             [
              0.5555555555555556,
              "#d8576b"
             ],
             [
              0.6666666666666666,
              "#ed7953"
             ],
             [
              0.7777777777777778,
              "#fb9f3a"
             ],
             [
              0.8888888888888888,
              "#fdca26"
             ],
             [
              1,
              "#f0f921"
             ]
            ],
            "type": "surface"
           }
          ],
          "table": [
           {
            "cells": {
             "fill": {
              "color": "#EBF0F8"
             },
             "line": {
              "color": "white"
             }
            },
            "header": {
             "fill": {
              "color": "#C8D4E3"
             },
             "line": {
              "color": "white"
             }
            },
            "type": "table"
           }
          ]
         },
         "layout": {
          "annotationdefaults": {
           "arrowcolor": "#2a3f5f",
           "arrowhead": 0,
           "arrowwidth": 1
          },
          "coloraxis": {
           "colorbar": {
            "outlinewidth": 0,
            "ticks": ""
           }
          },
          "colorscale": {
           "diverging": [
            [
             0,
             "#8e0152"
            ],
            [
             0.1,
             "#c51b7d"
            ],
            [
             0.2,
             "#de77ae"
            ],
            [
             0.3,
             "#f1b6da"
            ],
            [
             0.4,
             "#fde0ef"
            ],
            [
             0.5,
             "#f7f7f7"
            ],
            [
             0.6,
             "#e6f5d0"
            ],
            [
             0.7,
             "#b8e186"
            ],
            [
             0.8,
             "#7fbc41"
            ],
            [
             0.9,
             "#4d9221"
            ],
            [
             1,
             "#276419"
            ]
           ],
           "sequential": [
            [
             0,
             "#0d0887"
            ],
            [
             0.1111111111111111,
             "#46039f"
            ],
            [
             0.2222222222222222,
             "#7201a8"
            ],
            [
             0.3333333333333333,
             "#9c179e"
            ],
            [
             0.4444444444444444,
             "#bd3786"
            ],
            [
             0.5555555555555556,
             "#d8576b"
            ],
            [
             0.6666666666666666,
             "#ed7953"
            ],
            [
             0.7777777777777778,
             "#fb9f3a"
            ],
            [
             0.8888888888888888,
             "#fdca26"
            ],
            [
             1,
             "#f0f921"
            ]
           ],
           "sequentialminus": [
            [
             0,
             "#0d0887"
            ],
            [
             0.1111111111111111,
             "#46039f"
            ],
            [
             0.2222222222222222,
             "#7201a8"
            ],
            [
             0.3333333333333333,
             "#9c179e"
            ],
            [
             0.4444444444444444,
             "#bd3786"
            ],
            [
             0.5555555555555556,
             "#d8576b"
            ],
            [
             0.6666666666666666,
             "#ed7953"
            ],
            [
             0.7777777777777778,
             "#fb9f3a"
            ],
            [
             0.8888888888888888,
             "#fdca26"
            ],
            [
             1,
             "#f0f921"
            ]
           ]
          },
          "colorway": [
           "#636efa",
           "#EF553B",
           "#00cc96",
           "#ab63fa",
           "#FFA15A",
           "#19d3f3",
           "#FF6692",
           "#B6E880",
           "#FF97FF",
           "#FECB52"
          ],
          "font": {
           "color": "#2a3f5f"
          },
          "geo": {
           "bgcolor": "white",
           "lakecolor": "white",
           "landcolor": "#E5ECF6",
           "showlakes": true,
           "showland": true,
           "subunitcolor": "white"
          },
          "hoverlabel": {
           "align": "left"
          },
          "hovermode": "closest",
          "mapbox": {
           "style": "light"
          },
          "paper_bgcolor": "white",
          "plot_bgcolor": "#E5ECF6",
          "polar": {
           "angularaxis": {
            "gridcolor": "white",
            "linecolor": "white",
            "ticks": ""
           },
           "bgcolor": "#E5ECF6",
           "radialaxis": {
            "gridcolor": "white",
            "linecolor": "white",
            "ticks": ""
           }
          },
          "scene": {
           "xaxis": {
            "backgroundcolor": "#E5ECF6",
            "gridcolor": "white",
            "gridwidth": 2,
            "linecolor": "white",
            "showbackground": true,
            "ticks": "",
            "zerolinecolor": "white"
           },
           "yaxis": {
            "backgroundcolor": "#E5ECF6",
            "gridcolor": "white",
            "gridwidth": 2,
            "linecolor": "white",
            "showbackground": true,
            "ticks": "",
            "zerolinecolor": "white"
           },
           "zaxis": {
            "backgroundcolor": "#E5ECF6",
            "gridcolor": "white",
            "gridwidth": 2,
            "linecolor": "white",
            "showbackground": true,
            "ticks": "",
            "zerolinecolor": "white"
           }
          },
          "shapedefaults": {
           "line": {
            "color": "#2a3f5f"
           }
          },
          "ternary": {
           "aaxis": {
            "gridcolor": "white",
            "linecolor": "white",
            "ticks": ""
           },
           "baxis": {
            "gridcolor": "white",
            "linecolor": "white",
            "ticks": ""
           },
           "bgcolor": "#E5ECF6",
           "caxis": {
            "gridcolor": "white",
            "linecolor": "white",
            "ticks": ""
           }
          },
          "title": {
           "x": 0.05
          },
          "xaxis": {
           "automargin": true,
           "gridcolor": "white",
           "linecolor": "white",
           "ticks": "",
           "title": {
            "standoff": 15
           },
           "zerolinecolor": "white",
           "zerolinewidth": 2
          },
          "yaxis": {
           "automargin": true,
           "gridcolor": "white",
           "linecolor": "white",
           "ticks": "",
           "title": {
            "standoff": 15
           },
           "zerolinecolor": "white",
           "zerolinewidth": 2
          }
         }
        },
        "title": {
         "text": "업종별 배달비율"
        }
       }
      },
      "text/html": [
       "<div>                            <div id=\"cd5de64c-7706-4e2b-bbe0-b60dc1f831cc\" class=\"plotly-graph-div\" style=\"height:525px; width:100%;\"></div>            <script type=\"text/javascript\">                require([\"plotly\"], function(Plotly) {                    window.PLOTLYENV=window.PLOTLYENV || {};                                    if (document.getElementById(\"cd5de64c-7706-4e2b-bbe0-b60dc1f831cc\")) {                    Plotly.newPlot(                        \"cd5de64c-7706-4e2b-bbe0-b60dc1f831cc\",                        [{\"type\": \"bar\", \"x\": [\"\\ub3c4\\uc2dc\\ub77d\", \"\\ub3c8\\uae4c\\uc2a4/\\uc77c\\uc2dd\", \"\\ubc30\\ub2ec\\uc804\\ubb38\\uc5c5\\uccb4\", \"\\ubd84\\uc2dd\", \"\\uc2ec\\ubd80\\ub984\", \"\\uc544\\uc2dc\\uc548/\\uc591\\uc2dd\", \"\\uc57c\\uc2dd\", \"\\uc871\\ubc1c/\\ubcf4\\uc308\", \"\\uc911\\uc2dd\", \"\\ucc1c\\ud0d5\", \"\\uce58\\ud0a8\", \"\\uce74\\ud398/\\ub514\\uc800\\ud2b8\", \"\\ud328\\uc2a4\\ud2b8\\ud478\\ub4dc\", \"\\ud53c\\uc790\", \"\\ud55c\\uc2dd\", \"\\ud68c\"], \"y\": [49254, 251112, 94837, 626945, 5344, 109185, 226043, 415060, 187030, 214388, 1173238, 457830, 326149, 262246, 658568, 101095]}],                        {\"template\": {\"data\": {\"bar\": [{\"error_x\": {\"color\": \"#2a3f5f\"}, \"error_y\": {\"color\": \"#2a3f5f\"}, \"marker\": {\"line\": {\"color\": \"#E5ECF6\", \"width\": 0.5}}, \"type\": \"bar\"}], \"barpolar\": [{\"marker\": {\"line\": {\"color\": \"#E5ECF6\", \"width\": 0.5}}, \"type\": \"barpolar\"}], \"carpet\": [{\"aaxis\": {\"endlinecolor\": \"#2a3f5f\", \"gridcolor\": \"white\", \"linecolor\": \"white\", \"minorgridcolor\": \"white\", \"startlinecolor\": \"#2a3f5f\"}, \"baxis\": {\"endlinecolor\": \"#2a3f5f\", \"gridcolor\": \"white\", \"linecolor\": \"white\", \"minorgridcolor\": \"white\", \"startlinecolor\": \"#2a3f5f\"}, \"type\": \"carpet\"}], \"choropleth\": [{\"colorbar\": {\"outlinewidth\": 0, \"ticks\": \"\"}, \"type\": \"choropleth\"}], \"contour\": [{\"colorbar\": {\"outlinewidth\": 0, \"ticks\": \"\"}, \"colorscale\": [[0.0, \"#0d0887\"], [0.1111111111111111, \"#46039f\"], [0.2222222222222222, \"#7201a8\"], [0.3333333333333333, \"#9c179e\"], [0.4444444444444444, \"#bd3786\"], [0.5555555555555556, \"#d8576b\"], [0.6666666666666666, \"#ed7953\"], [0.7777777777777778, \"#fb9f3a\"], [0.8888888888888888, \"#fdca26\"], [1.0, \"#f0f921\"]], \"type\": \"contour\"}], \"contourcarpet\": [{\"colorbar\": {\"outlinewidth\": 0, \"ticks\": \"\"}, \"type\": \"contourcarpet\"}], \"heatmap\": [{\"colorbar\": {\"outlinewidth\": 0, \"ticks\": \"\"}, \"colorscale\": [[0.0, \"#0d0887\"], [0.1111111111111111, \"#46039f\"], [0.2222222222222222, \"#7201a8\"], [0.3333333333333333, \"#9c179e\"], [0.4444444444444444, \"#bd3786\"], [0.5555555555555556, \"#d8576b\"], [0.6666666666666666, \"#ed7953\"], [0.7777777777777778, \"#fb9f3a\"], [0.8888888888888888, \"#fdca26\"], [1.0, \"#f0f921\"]], \"type\": \"heatmap\"}], \"heatmapgl\": [{\"colorbar\": {\"outlinewidth\": 0, \"ticks\": \"\"}, \"colorscale\": [[0.0, \"#0d0887\"], [0.1111111111111111, \"#46039f\"], [0.2222222222222222, \"#7201a8\"], [0.3333333333333333, \"#9c179e\"], [0.4444444444444444, \"#bd3786\"], [0.5555555555555556, \"#d8576b\"], [0.6666666666666666, \"#ed7953\"], [0.7777777777777778, \"#fb9f3a\"], [0.8888888888888888, \"#fdca26\"], [1.0, \"#f0f921\"]], \"type\": \"heatmapgl\"}], \"histogram\": [{\"marker\": {\"colorbar\": {\"outlinewidth\": 0, \"ticks\": \"\"}}, \"type\": \"histogram\"}], \"histogram2d\": [{\"colorbar\": {\"outlinewidth\": 0, \"ticks\": \"\"}, \"colorscale\": [[0.0, \"#0d0887\"], [0.1111111111111111, \"#46039f\"], [0.2222222222222222, \"#7201a8\"], [0.3333333333333333, \"#9c179e\"], [0.4444444444444444, \"#bd3786\"], [0.5555555555555556, \"#d8576b\"], [0.6666666666666666, \"#ed7953\"], [0.7777777777777778, \"#fb9f3a\"], [0.8888888888888888, \"#fdca26\"], [1.0, \"#f0f921\"]], \"type\": \"histogram2d\"}], \"histogram2dcontour\": [{\"colorbar\": {\"outlinewidth\": 0, \"ticks\": \"\"}, \"colorscale\": [[0.0, \"#0d0887\"], [0.1111111111111111, \"#46039f\"], [0.2222222222222222, \"#7201a8\"], [0.3333333333333333, \"#9c179e\"], [0.4444444444444444, \"#bd3786\"], [0.5555555555555556, \"#d8576b\"], [0.6666666666666666, \"#ed7953\"], [0.7777777777777778, \"#fb9f3a\"], [0.8888888888888888, \"#fdca26\"], [1.0, \"#f0f921\"]], \"type\": \"histogram2dcontour\"}], \"mesh3d\": [{\"colorbar\": {\"outlinewidth\": 0, \"ticks\": \"\"}, \"type\": \"mesh3d\"}], \"parcoords\": [{\"line\": {\"colorbar\": {\"outlinewidth\": 0, \"ticks\": \"\"}}, \"type\": \"parcoords\"}], \"pie\": [{\"automargin\": true, \"type\": \"pie\"}], \"scatter\": [{\"marker\": {\"colorbar\": {\"outlinewidth\": 0, \"ticks\": \"\"}}, \"type\": \"scatter\"}], \"scatter3d\": [{\"line\": {\"colorbar\": {\"outlinewidth\": 0, \"ticks\": \"\"}}, \"marker\": {\"colorbar\": {\"outlinewidth\": 0, \"ticks\": \"\"}}, \"type\": \"scatter3d\"}], \"scattercarpet\": [{\"marker\": {\"colorbar\": {\"outlinewidth\": 0, \"ticks\": \"\"}}, \"type\": \"scattercarpet\"}], \"scattergeo\": [{\"marker\": {\"colorbar\": {\"outlinewidth\": 0, \"ticks\": \"\"}}, \"type\": \"scattergeo\"}], \"scattergl\": [{\"marker\": {\"colorbar\": {\"outlinewidth\": 0, \"ticks\": \"\"}}, \"type\": \"scattergl\"}], \"scattermapbox\": [{\"marker\": {\"colorbar\": {\"outlinewidth\": 0, \"ticks\": \"\"}}, \"type\": \"scattermapbox\"}], \"scatterpolar\": [{\"marker\": {\"colorbar\": {\"outlinewidth\": 0, \"ticks\": \"\"}}, \"type\": \"scatterpolar\"}], \"scatterpolargl\": [{\"marker\": {\"colorbar\": {\"outlinewidth\": 0, \"ticks\": \"\"}}, \"type\": \"scatterpolargl\"}], \"scatterternary\": [{\"marker\": {\"colorbar\": {\"outlinewidth\": 0, \"ticks\": \"\"}}, \"type\": \"scatterternary\"}], \"surface\": [{\"colorbar\": {\"outlinewidth\": 0, \"ticks\": \"\"}, \"colorscale\": [[0.0, \"#0d0887\"], [0.1111111111111111, \"#46039f\"], [0.2222222222222222, \"#7201a8\"], [0.3333333333333333, \"#9c179e\"], [0.4444444444444444, \"#bd3786\"], [0.5555555555555556, \"#d8576b\"], [0.6666666666666666, \"#ed7953\"], [0.7777777777777778, \"#fb9f3a\"], [0.8888888888888888, \"#fdca26\"], [1.0, \"#f0f921\"]], \"type\": \"surface\"}], \"table\": [{\"cells\": {\"fill\": {\"color\": \"#EBF0F8\"}, \"line\": {\"color\": \"white\"}}, \"header\": {\"fill\": {\"color\": \"#C8D4E3\"}, \"line\": {\"color\": \"white\"}}, \"type\": \"table\"}]}, \"layout\": {\"annotationdefaults\": {\"arrowcolor\": \"#2a3f5f\", \"arrowhead\": 0, \"arrowwidth\": 1}, \"coloraxis\": {\"colorbar\": {\"outlinewidth\": 0, \"ticks\": \"\"}}, \"colorscale\": {\"diverging\": [[0, \"#8e0152\"], [0.1, \"#c51b7d\"], [0.2, \"#de77ae\"], [0.3, \"#f1b6da\"], [0.4, \"#fde0ef\"], [0.5, \"#f7f7f7\"], [0.6, \"#e6f5d0\"], [0.7, \"#b8e186\"], [0.8, \"#7fbc41\"], [0.9, \"#4d9221\"], [1, \"#276419\"]], \"sequential\": [[0.0, \"#0d0887\"], [0.1111111111111111, \"#46039f\"], [0.2222222222222222, \"#7201a8\"], [0.3333333333333333, \"#9c179e\"], [0.4444444444444444, \"#bd3786\"], [0.5555555555555556, \"#d8576b\"], [0.6666666666666666, \"#ed7953\"], [0.7777777777777778, \"#fb9f3a\"], [0.8888888888888888, \"#fdca26\"], [1.0, \"#f0f921\"]], \"sequentialminus\": [[0.0, \"#0d0887\"], [0.1111111111111111, \"#46039f\"], [0.2222222222222222, \"#7201a8\"], [0.3333333333333333, \"#9c179e\"], [0.4444444444444444, \"#bd3786\"], [0.5555555555555556, \"#d8576b\"], [0.6666666666666666, \"#ed7953\"], [0.7777777777777778, \"#fb9f3a\"], [0.8888888888888888, \"#fdca26\"], [1.0, \"#f0f921\"]]}, \"colorway\": [\"#636efa\", \"#EF553B\", \"#00cc96\", \"#ab63fa\", \"#FFA15A\", \"#19d3f3\", \"#FF6692\", \"#B6E880\", \"#FF97FF\", \"#FECB52\"], \"font\": {\"color\": \"#2a3f5f\"}, \"geo\": {\"bgcolor\": \"white\", \"lakecolor\": \"white\", \"landcolor\": \"#E5ECF6\", \"showlakes\": true, \"showland\": true, \"subunitcolor\": \"white\"}, \"hoverlabel\": {\"align\": \"left\"}, \"hovermode\": \"closest\", \"mapbox\": {\"style\": \"light\"}, \"paper_bgcolor\": \"white\", \"plot_bgcolor\": \"#E5ECF6\", \"polar\": {\"angularaxis\": {\"gridcolor\": \"white\", \"linecolor\": \"white\", \"ticks\": \"\"}, \"bgcolor\": \"#E5ECF6\", \"radialaxis\": {\"gridcolor\": \"white\", \"linecolor\": \"white\", \"ticks\": \"\"}}, \"scene\": {\"xaxis\": {\"backgroundcolor\": \"#E5ECF6\", \"gridcolor\": \"white\", \"gridwidth\": 2, \"linecolor\": \"white\", \"showbackground\": true, \"ticks\": \"\", \"zerolinecolor\": \"white\"}, \"yaxis\": {\"backgroundcolor\": \"#E5ECF6\", \"gridcolor\": \"white\", \"gridwidth\": 2, \"linecolor\": \"white\", \"showbackground\": true, \"ticks\": \"\", \"zerolinecolor\": \"white\"}, \"zaxis\": {\"backgroundcolor\": \"#E5ECF6\", \"gridcolor\": \"white\", \"gridwidth\": 2, \"linecolor\": \"white\", \"showbackground\": true, \"ticks\": \"\", \"zerolinecolor\": \"white\"}}, \"shapedefaults\": {\"line\": {\"color\": \"#2a3f5f\"}}, \"ternary\": {\"aaxis\": {\"gridcolor\": \"white\", \"linecolor\": \"white\", \"ticks\": \"\"}, \"baxis\": {\"gridcolor\": \"white\", \"linecolor\": \"white\", \"ticks\": \"\"}, \"bgcolor\": \"#E5ECF6\", \"caxis\": {\"gridcolor\": \"white\", \"linecolor\": \"white\", \"ticks\": \"\"}}, \"title\": {\"x\": 0.05}, \"xaxis\": {\"automargin\": true, \"gridcolor\": \"white\", \"linecolor\": \"white\", \"ticks\": \"\", \"title\": {\"standoff\": 15}, \"zerolinecolor\": \"white\", \"zerolinewidth\": 2}, \"yaxis\": {\"automargin\": true, \"gridcolor\": \"white\", \"linecolor\": \"white\", \"ticks\": \"\", \"title\": {\"standoff\": 15}, \"zerolinecolor\": \"white\", \"zerolinewidth\": 2}}}, \"title\": {\"text\": \"\\uc5c5\\uc885\\ubcc4 \\ubc30\\ub2ec\\ube44\\uc728\"}},                        {\"responsive\": true}                    ).then(function(){\n",
       "                            \n",
       "var gd = document.getElementById('cd5de64c-7706-4e2b-bbe0-b60dc1f831cc');\n",
       "var x = new MutationObserver(function (mutations, observer) {{\n",
       "        var display = window.getComputedStyle(gd).display;\n",
       "        if (!display || display === 'none') {{\n",
       "            console.log([gd, 'removed!']);\n",
       "            Plotly.purge(gd);\n",
       "            observer.disconnect();\n",
       "        }}\n",
       "}});\n",
       "\n",
       "// Listen for the removal of the full notebook cells\n",
       "var notebookContainer = gd.closest('#notebook-container');\n",
       "if (notebookContainer) {{\n",
       "    x.observe(notebookContainer, {childList: true});\n",
       "}}\n",
       "\n",
       "// Listen for the clearing of the current output cell\n",
       "var outputEl = gd.closest('.output');\n",
       "if (outputEl) {{\n",
       "    x.observe(outputEl, {childList: true});\n",
       "}}\n",
       "\n",
       "                        })                };                });            </script>        </div>"
      ]
     },
     "metadata": {},
     "output_type": "display_data"
    }
   ],
   "source": [
    "# 막대 그래프 그리기\n",
    "trace1 = go.Bar(x=deliveryname['induty_nm'], y=deliveryname['count'])\n",
    "data = [trace1]\n",
    "layout = go.Layout(title='업종별 배달비율')\n",
    "fig = go.Figure(data=data, layout=layout)\n",
    "pyo.iplot(fig)\n",
    "\n",
    "# 1순위 치킨 2 순위 한식 3순위 분식 4순위 카페디저트 5순위 족발 순이었다."
   ]
  },
  {
   "cell_type": "code",
   "execution_count": 11,
   "metadata": {},
   "outputs": [
    {
     "data": {
      "text/html": [
       "<div>\n",
       "<style scoped>\n",
       "    .dataframe tbody tr th:only-of-type {\n",
       "        vertical-align: middle;\n",
       "    }\n",
       "\n",
       "    .dataframe tbody tr th {\n",
       "        vertical-align: top;\n",
       "    }\n",
       "\n",
       "    .dataframe thead th {\n",
       "        text-align: right;\n",
       "    }\n",
       "</style>\n",
       "<table border=\"1\" class=\"dataframe\">\n",
       "  <thead>\n",
       "    <tr style=\"text-align: right;\">\n",
       "      <th></th>\n",
       "      <th>si_name</th>\n",
       "      <th>count</th>\n",
       "    </tr>\n",
       "  </thead>\n",
       "  <tbody>\n",
       "    <tr>\n",
       "      <th>0</th>\n",
       "      <td>강원도</td>\n",
       "      <td>12632</td>\n",
       "    </tr>\n",
       "    <tr>\n",
       "      <th>1</th>\n",
       "      <td>경기도</td>\n",
       "      <td>2736607</td>\n",
       "    </tr>\n",
       "    <tr>\n",
       "      <th>2</th>\n",
       "      <td>경상남도</td>\n",
       "      <td>266602</td>\n",
       "    </tr>\n",
       "    <tr>\n",
       "      <th>3</th>\n",
       "      <td>경상북도</td>\n",
       "      <td>174840</td>\n",
       "    </tr>\n",
       "    <tr>\n",
       "      <th>4</th>\n",
       "      <td>광주광역시</td>\n",
       "      <td>11229</td>\n",
       "    </tr>\n",
       "    <tr>\n",
       "      <th>5</th>\n",
       "      <td>대구광역시</td>\n",
       "      <td>63024</td>\n",
       "    </tr>\n",
       "    <tr>\n",
       "      <th>6</th>\n",
       "      <td>대전광역시</td>\n",
       "      <td>65301</td>\n",
       "    </tr>\n",
       "    <tr>\n",
       "      <th>7</th>\n",
       "      <td>부산광역시</td>\n",
       "      <td>29792</td>\n",
       "    </tr>\n",
       "    <tr>\n",
       "      <th>8</th>\n",
       "      <td>서울특별시</td>\n",
       "      <td>818496</td>\n",
       "    </tr>\n",
       "    <tr>\n",
       "      <th>9</th>\n",
       "      <td>울산광역시</td>\n",
       "      <td>3</td>\n",
       "    </tr>\n",
       "    <tr>\n",
       "      <th>10</th>\n",
       "      <td>인천광역시</td>\n",
       "      <td>109571</td>\n",
       "    </tr>\n",
       "    <tr>\n",
       "      <th>11</th>\n",
       "      <td>전라남도</td>\n",
       "      <td>33773</td>\n",
       "    </tr>\n",
       "    <tr>\n",
       "      <th>12</th>\n",
       "      <td>전라북도</td>\n",
       "      <td>124310</td>\n",
       "    </tr>\n",
       "    <tr>\n",
       "      <th>13</th>\n",
       "      <td>제주특별자치도</td>\n",
       "      <td>61411</td>\n",
       "    </tr>\n",
       "    <tr>\n",
       "      <th>14</th>\n",
       "      <td>충청남도</td>\n",
       "      <td>168084</td>\n",
       "    </tr>\n",
       "    <tr>\n",
       "      <th>15</th>\n",
       "      <td>충청북도</td>\n",
       "      <td>93106</td>\n",
       "    </tr>\n",
       "  </tbody>\n",
       "</table>\n",
       "</div>"
      ],
      "text/plain": [
       "    si_name    count\n",
       "0       강원도    12632\n",
       "1       경기도  2736607\n",
       "2      경상남도   266602\n",
       "3      경상북도   174840\n",
       "4     광주광역시    11229\n",
       "5     대구광역시    63024\n",
       "6     대전광역시    65301\n",
       "7     부산광역시    29792\n",
       "8     서울특별시   818496\n",
       "9     울산광역시        3\n",
       "10    인천광역시   109571\n",
       "11     전라남도    33773\n",
       "12     전라북도   124310\n",
       "13  제주특별자치도    61411\n",
       "14     충청남도   168084\n",
       "15     충청북도    93106"
      ]
     },
     "execution_count": 11,
     "metadata": {},
     "output_type": "execute_result"
    }
   ],
   "source": [
    "# DLVR_STORE_SIDO(배달 지역) 기준으로 묶어주기\n",
    "districtname = del_dstn.groupby(['si_name']).size().reset_index(name='count')\n",
    "\n",
    "districtname"
   ]
  },
  {
   "cell_type": "markdown",
   "metadata": {},
   "source": [
    "# 시도별 배달비율확인 (추후 어느지역을 중점적으로 분석할 것인가)"
   ]
  },
  {
   "cell_type": "code",
   "execution_count": 12,
   "metadata": {},
   "outputs": [
    {
     "data": {
      "application/vnd.plotly.v1+json": {
       "config": {
        "linkText": "Export to plot.ly",
        "plotlyServerURL": "https://plot.ly",
        "showLink": false
       },
       "data": [
        {
         "type": "bar",
         "x": [
          "강원도",
          "경기도",
          "경상남도",
          "경상북도",
          "광주광역시",
          "대구광역시",
          "대전광역시",
          "부산광역시",
          "서울특별시",
          "울산광역시",
          "인천광역시",
          "전라남도",
          "전라북도",
          "제주특별자치도",
          "충청남도",
          "충청북도"
         ],
         "y": [
          12632,
          2736607,
          266602,
          174840,
          11229,
          63024,
          65301,
          29792,
          818496,
          3,
          109571,
          33773,
          124310,
          61411,
          168084,
          93106
         ]
        }
       ],
       "layout": {
        "template": {
         "data": {
          "bar": [
           {
            "error_x": {
             "color": "#2a3f5f"
            },
            "error_y": {
             "color": "#2a3f5f"
            },
            "marker": {
             "line": {
              "color": "#E5ECF6",
              "width": 0.5
             }
            },
            "type": "bar"
           }
          ],
          "barpolar": [
           {
            "marker": {
             "line": {
              "color": "#E5ECF6",
              "width": 0.5
             }
            },
            "type": "barpolar"
           }
          ],
          "carpet": [
           {
            "aaxis": {
             "endlinecolor": "#2a3f5f",
             "gridcolor": "white",
             "linecolor": "white",
             "minorgridcolor": "white",
             "startlinecolor": "#2a3f5f"
            },
            "baxis": {
             "endlinecolor": "#2a3f5f",
             "gridcolor": "white",
             "linecolor": "white",
             "minorgridcolor": "white",
             "startlinecolor": "#2a3f5f"
            },
            "type": "carpet"
           }
          ],
          "choropleth": [
           {
            "colorbar": {
             "outlinewidth": 0,
             "ticks": ""
            },
            "type": "choropleth"
           }
          ],
          "contour": [
           {
            "colorbar": {
             "outlinewidth": 0,
             "ticks": ""
            },
            "colorscale": [
             [
              0,
              "#0d0887"
             ],
             [
              0.1111111111111111,
              "#46039f"
             ],
             [
              0.2222222222222222,
              "#7201a8"
             ],
             [
              0.3333333333333333,
              "#9c179e"
             ],
             [
              0.4444444444444444,
              "#bd3786"
             ],
             [
              0.5555555555555556,
              "#d8576b"
             ],
             [
              0.6666666666666666,
              "#ed7953"
             ],
             [
              0.7777777777777778,
              "#fb9f3a"
             ],
             [
              0.8888888888888888,
              "#fdca26"
             ],
             [
              1,
              "#f0f921"
             ]
            ],
            "type": "contour"
           }
          ],
          "contourcarpet": [
           {
            "colorbar": {
             "outlinewidth": 0,
             "ticks": ""
            },
            "type": "contourcarpet"
           }
          ],
          "heatmap": [
           {
            "colorbar": {
             "outlinewidth": 0,
             "ticks": ""
            },
            "colorscale": [
             [
              0,
              "#0d0887"
             ],
             [
              0.1111111111111111,
              "#46039f"
             ],
             [
              0.2222222222222222,
              "#7201a8"
             ],
             [
              0.3333333333333333,
              "#9c179e"
             ],
             [
              0.4444444444444444,
              "#bd3786"
             ],
             [
              0.5555555555555556,
              "#d8576b"
             ],
             [
              0.6666666666666666,
              "#ed7953"
             ],
             [
              0.7777777777777778,
              "#fb9f3a"
             ],
             [
              0.8888888888888888,
              "#fdca26"
             ],
             [
              1,
              "#f0f921"
             ]
            ],
            "type": "heatmap"
           }
          ],
          "heatmapgl": [
           {
            "colorbar": {
             "outlinewidth": 0,
             "ticks": ""
            },
            "colorscale": [
             [
              0,
              "#0d0887"
             ],
             [
              0.1111111111111111,
              "#46039f"
             ],
             [
              0.2222222222222222,
              "#7201a8"
             ],
             [
              0.3333333333333333,
              "#9c179e"
             ],
             [
              0.4444444444444444,
              "#bd3786"
             ],
             [
              0.5555555555555556,
              "#d8576b"
             ],
             [
              0.6666666666666666,
              "#ed7953"
             ],
             [
              0.7777777777777778,
              "#fb9f3a"
             ],
             [
              0.8888888888888888,
              "#fdca26"
             ],
             [
              1,
              "#f0f921"
             ]
            ],
            "type": "heatmapgl"
           }
          ],
          "histogram": [
           {
            "marker": {
             "colorbar": {
              "outlinewidth": 0,
              "ticks": ""
             }
            },
            "type": "histogram"
           }
          ],
          "histogram2d": [
           {
            "colorbar": {
             "outlinewidth": 0,
             "ticks": ""
            },
            "colorscale": [
             [
              0,
              "#0d0887"
             ],
             [
              0.1111111111111111,
              "#46039f"
             ],
             [
              0.2222222222222222,
              "#7201a8"
             ],
             [
              0.3333333333333333,
              "#9c179e"
             ],
             [
              0.4444444444444444,
              "#bd3786"
             ],
             [
              0.5555555555555556,
              "#d8576b"
             ],
             [
              0.6666666666666666,
              "#ed7953"
             ],
             [
              0.7777777777777778,
              "#fb9f3a"
             ],
             [
              0.8888888888888888,
              "#fdca26"
             ],
             [
              1,
              "#f0f921"
             ]
            ],
            "type": "histogram2d"
           }
          ],
          "histogram2dcontour": [
           {
            "colorbar": {
             "outlinewidth": 0,
             "ticks": ""
            },
            "colorscale": [
             [
              0,
              "#0d0887"
             ],
             [
              0.1111111111111111,
              "#46039f"
             ],
             [
              0.2222222222222222,
              "#7201a8"
             ],
             [
              0.3333333333333333,
              "#9c179e"
             ],
             [
              0.4444444444444444,
              "#bd3786"
             ],
             [
              0.5555555555555556,
              "#d8576b"
             ],
             [
              0.6666666666666666,
              "#ed7953"
             ],
             [
              0.7777777777777778,
              "#fb9f3a"
             ],
             [
              0.8888888888888888,
              "#fdca26"
             ],
             [
              1,
              "#f0f921"
             ]
            ],
            "type": "histogram2dcontour"
           }
          ],
          "mesh3d": [
           {
            "colorbar": {
             "outlinewidth": 0,
             "ticks": ""
            },
            "type": "mesh3d"
           }
          ],
          "parcoords": [
           {
            "line": {
             "colorbar": {
              "outlinewidth": 0,
              "ticks": ""
             }
            },
            "type": "parcoords"
           }
          ],
          "pie": [
           {
            "automargin": true,
            "type": "pie"
           }
          ],
          "scatter": [
           {
            "marker": {
             "colorbar": {
              "outlinewidth": 0,
              "ticks": ""
             }
            },
            "type": "scatter"
           }
          ],
          "scatter3d": [
           {
            "line": {
             "colorbar": {
              "outlinewidth": 0,
              "ticks": ""
             }
            },
            "marker": {
             "colorbar": {
              "outlinewidth": 0,
              "ticks": ""
             }
            },
            "type": "scatter3d"
           }
          ],
          "scattercarpet": [
           {
            "marker": {
             "colorbar": {
              "outlinewidth": 0,
              "ticks": ""
             }
            },
            "type": "scattercarpet"
           }
          ],
          "scattergeo": [
           {
            "marker": {
             "colorbar": {
              "outlinewidth": 0,
              "ticks": ""
             }
            },
            "type": "scattergeo"
           }
          ],
          "scattergl": [
           {
            "marker": {
             "colorbar": {
              "outlinewidth": 0,
              "ticks": ""
             }
            },
            "type": "scattergl"
           }
          ],
          "scattermapbox": [
           {
            "marker": {
             "colorbar": {
              "outlinewidth": 0,
              "ticks": ""
             }
            },
            "type": "scattermapbox"
           }
          ],
          "scatterpolar": [
           {
            "marker": {
             "colorbar": {
              "outlinewidth": 0,
              "ticks": ""
             }
            },
            "type": "scatterpolar"
           }
          ],
          "scatterpolargl": [
           {
            "marker": {
             "colorbar": {
              "outlinewidth": 0,
              "ticks": ""
             }
            },
            "type": "scatterpolargl"
           }
          ],
          "scatterternary": [
           {
            "marker": {
             "colorbar": {
              "outlinewidth": 0,
              "ticks": ""
             }
            },
            "type": "scatterternary"
           }
          ],
          "surface": [
           {
            "colorbar": {
             "outlinewidth": 0,
             "ticks": ""
            },
            "colorscale": [
             [
              0,
              "#0d0887"
             ],
             [
              0.1111111111111111,
              "#46039f"
             ],
             [
              0.2222222222222222,
              "#7201a8"
             ],
             [
              0.3333333333333333,
              "#9c179e"
             ],
             [
              0.4444444444444444,
              "#bd3786"
             ],
             [
              0.5555555555555556,
              "#d8576b"
             ],
             [
              0.6666666666666666,
              "#ed7953"
             ],
             [
              0.7777777777777778,
              "#fb9f3a"
             ],
             [
              0.8888888888888888,
              "#fdca26"
             ],
             [
              1,
              "#f0f921"
             ]
            ],
            "type": "surface"
           }
          ],
          "table": [
           {
            "cells": {
             "fill": {
              "color": "#EBF0F8"
             },
             "line": {
              "color": "white"
             }
            },
            "header": {
             "fill": {
              "color": "#C8D4E3"
             },
             "line": {
              "color": "white"
             }
            },
            "type": "table"
           }
          ]
         },
         "layout": {
          "annotationdefaults": {
           "arrowcolor": "#2a3f5f",
           "arrowhead": 0,
           "arrowwidth": 1
          },
          "coloraxis": {
           "colorbar": {
            "outlinewidth": 0,
            "ticks": ""
           }
          },
          "colorscale": {
           "diverging": [
            [
             0,
             "#8e0152"
            ],
            [
             0.1,
             "#c51b7d"
            ],
            [
             0.2,
             "#de77ae"
            ],
            [
             0.3,
             "#f1b6da"
            ],
            [
             0.4,
             "#fde0ef"
            ],
            [
             0.5,
             "#f7f7f7"
            ],
            [
             0.6,
             "#e6f5d0"
            ],
            [
             0.7,
             "#b8e186"
            ],
            [
             0.8,
             "#7fbc41"
            ],
            [
             0.9,
             "#4d9221"
            ],
            [
             1,
             "#276419"
            ]
           ],
           "sequential": [
            [
             0,
             "#0d0887"
            ],
            [
             0.1111111111111111,
             "#46039f"
            ],
            [
             0.2222222222222222,
             "#7201a8"
            ],
            [
             0.3333333333333333,
             "#9c179e"
            ],
            [
             0.4444444444444444,
             "#bd3786"
            ],
            [
             0.5555555555555556,
             "#d8576b"
            ],
            [
             0.6666666666666666,
             "#ed7953"
            ],
            [
             0.7777777777777778,
             "#fb9f3a"
            ],
            [
             0.8888888888888888,
             "#fdca26"
            ],
            [
             1,
             "#f0f921"
            ]
           ],
           "sequentialminus": [
            [
             0,
             "#0d0887"
            ],
            [
             0.1111111111111111,
             "#46039f"
            ],
            [
             0.2222222222222222,
             "#7201a8"
            ],
            [
             0.3333333333333333,
             "#9c179e"
            ],
            [
             0.4444444444444444,
             "#bd3786"
            ],
            [
             0.5555555555555556,
             "#d8576b"
            ],
            [
             0.6666666666666666,
             "#ed7953"
            ],
            [
             0.7777777777777778,
             "#fb9f3a"
            ],
            [
             0.8888888888888888,
             "#fdca26"
            ],
            [
             1,
             "#f0f921"
            ]
           ]
          },
          "colorway": [
           "#636efa",
           "#EF553B",
           "#00cc96",
           "#ab63fa",
           "#FFA15A",
           "#19d3f3",
           "#FF6692",
           "#B6E880",
           "#FF97FF",
           "#FECB52"
          ],
          "font": {
           "color": "#2a3f5f"
          },
          "geo": {
           "bgcolor": "white",
           "lakecolor": "white",
           "landcolor": "#E5ECF6",
           "showlakes": true,
           "showland": true,
           "subunitcolor": "white"
          },
          "hoverlabel": {
           "align": "left"
          },
          "hovermode": "closest",
          "mapbox": {
           "style": "light"
          },
          "paper_bgcolor": "white",
          "plot_bgcolor": "#E5ECF6",
          "polar": {
           "angularaxis": {
            "gridcolor": "white",
            "linecolor": "white",
            "ticks": ""
           },
           "bgcolor": "#E5ECF6",
           "radialaxis": {
            "gridcolor": "white",
            "linecolor": "white",
            "ticks": ""
           }
          },
          "scene": {
           "xaxis": {
            "backgroundcolor": "#E5ECF6",
            "gridcolor": "white",
            "gridwidth": 2,
            "linecolor": "white",
            "showbackground": true,
            "ticks": "",
            "zerolinecolor": "white"
           },
           "yaxis": {
            "backgroundcolor": "#E5ECF6",
            "gridcolor": "white",
            "gridwidth": 2,
            "linecolor": "white",
            "showbackground": true,
            "ticks": "",
            "zerolinecolor": "white"
           },
           "zaxis": {
            "backgroundcolor": "#E5ECF6",
            "gridcolor": "white",
            "gridwidth": 2,
            "linecolor": "white",
            "showbackground": true,
            "ticks": "",
            "zerolinecolor": "white"
           }
          },
          "shapedefaults": {
           "line": {
            "color": "#2a3f5f"
           }
          },
          "ternary": {
           "aaxis": {
            "gridcolor": "white",
            "linecolor": "white",
            "ticks": ""
           },
           "baxis": {
            "gridcolor": "white",
            "linecolor": "white",
            "ticks": ""
           },
           "bgcolor": "#E5ECF6",
           "caxis": {
            "gridcolor": "white",
            "linecolor": "white",
            "ticks": ""
           }
          },
          "title": {
           "x": 0.05
          },
          "xaxis": {
           "automargin": true,
           "gridcolor": "white",
           "linecolor": "white",
           "ticks": "",
           "title": {
            "standoff": 15
           },
           "zerolinecolor": "white",
           "zerolinewidth": 2
          },
          "yaxis": {
           "automargin": true,
           "gridcolor": "white",
           "linecolor": "white",
           "ticks": "",
           "title": {
            "standoff": 15
           },
           "zerolinecolor": "white",
           "zerolinewidth": 2
          }
         }
        },
        "title": {
         "text": "시도별 배달비율"
        }
       }
      },
      "text/html": [
       "<div>                            <div id=\"f9585cac-cd3f-4ca1-bf7d-dcf93378aa36\" class=\"plotly-graph-div\" style=\"height:525px; width:100%;\"></div>            <script type=\"text/javascript\">                require([\"plotly\"], function(Plotly) {                    window.PLOTLYENV=window.PLOTLYENV || {};                                    if (document.getElementById(\"f9585cac-cd3f-4ca1-bf7d-dcf93378aa36\")) {                    Plotly.newPlot(                        \"f9585cac-cd3f-4ca1-bf7d-dcf93378aa36\",                        [{\"type\": \"bar\", \"x\": [\"\\uac15\\uc6d0\\ub3c4\", \"\\uacbd\\uae30\\ub3c4\", \"\\uacbd\\uc0c1\\ub0a8\\ub3c4\", \"\\uacbd\\uc0c1\\ubd81\\ub3c4\", \"\\uad11\\uc8fc\\uad11\\uc5ed\\uc2dc\", \"\\ub300\\uad6c\\uad11\\uc5ed\\uc2dc\", \"\\ub300\\uc804\\uad11\\uc5ed\\uc2dc\", \"\\ubd80\\uc0b0\\uad11\\uc5ed\\uc2dc\", \"\\uc11c\\uc6b8\\ud2b9\\ubcc4\\uc2dc\", \"\\uc6b8\\uc0b0\\uad11\\uc5ed\\uc2dc\", \"\\uc778\\ucc9c\\uad11\\uc5ed\\uc2dc\", \"\\uc804\\ub77c\\ub0a8\\ub3c4\", \"\\uc804\\ub77c\\ubd81\\ub3c4\", \"\\uc81c\\uc8fc\\ud2b9\\ubcc4\\uc790\\uce58\\ub3c4\", \"\\ucda9\\uccad\\ub0a8\\ub3c4\", \"\\ucda9\\uccad\\ubd81\\ub3c4\"], \"y\": [12632, 2736607, 266602, 174840, 11229, 63024, 65301, 29792, 818496, 3, 109571, 33773, 124310, 61411, 168084, 93106]}],                        {\"template\": {\"data\": {\"bar\": [{\"error_x\": {\"color\": \"#2a3f5f\"}, \"error_y\": {\"color\": \"#2a3f5f\"}, \"marker\": {\"line\": {\"color\": \"#E5ECF6\", \"width\": 0.5}}, \"type\": \"bar\"}], \"barpolar\": [{\"marker\": {\"line\": {\"color\": \"#E5ECF6\", \"width\": 0.5}}, \"type\": \"barpolar\"}], \"carpet\": [{\"aaxis\": {\"endlinecolor\": \"#2a3f5f\", \"gridcolor\": \"white\", \"linecolor\": \"white\", \"minorgridcolor\": \"white\", \"startlinecolor\": \"#2a3f5f\"}, \"baxis\": {\"endlinecolor\": \"#2a3f5f\", \"gridcolor\": \"white\", \"linecolor\": \"white\", \"minorgridcolor\": \"white\", \"startlinecolor\": \"#2a3f5f\"}, \"type\": \"carpet\"}], \"choropleth\": [{\"colorbar\": {\"outlinewidth\": 0, \"ticks\": \"\"}, \"type\": \"choropleth\"}], \"contour\": [{\"colorbar\": {\"outlinewidth\": 0, \"ticks\": \"\"}, \"colorscale\": [[0.0, \"#0d0887\"], [0.1111111111111111, \"#46039f\"], [0.2222222222222222, \"#7201a8\"], [0.3333333333333333, \"#9c179e\"], [0.4444444444444444, \"#bd3786\"], [0.5555555555555556, \"#d8576b\"], [0.6666666666666666, \"#ed7953\"], [0.7777777777777778, \"#fb9f3a\"], [0.8888888888888888, \"#fdca26\"], [1.0, \"#f0f921\"]], \"type\": \"contour\"}], \"contourcarpet\": [{\"colorbar\": {\"outlinewidth\": 0, \"ticks\": \"\"}, \"type\": \"contourcarpet\"}], \"heatmap\": [{\"colorbar\": {\"outlinewidth\": 0, \"ticks\": \"\"}, \"colorscale\": [[0.0, \"#0d0887\"], [0.1111111111111111, \"#46039f\"], [0.2222222222222222, \"#7201a8\"], [0.3333333333333333, \"#9c179e\"], [0.4444444444444444, \"#bd3786\"], [0.5555555555555556, \"#d8576b\"], [0.6666666666666666, \"#ed7953\"], [0.7777777777777778, \"#fb9f3a\"], [0.8888888888888888, \"#fdca26\"], [1.0, \"#f0f921\"]], \"type\": \"heatmap\"}], \"heatmapgl\": [{\"colorbar\": {\"outlinewidth\": 0, \"ticks\": \"\"}, \"colorscale\": [[0.0, \"#0d0887\"], [0.1111111111111111, \"#46039f\"], [0.2222222222222222, \"#7201a8\"], [0.3333333333333333, \"#9c179e\"], [0.4444444444444444, \"#bd3786\"], [0.5555555555555556, \"#d8576b\"], [0.6666666666666666, \"#ed7953\"], [0.7777777777777778, \"#fb9f3a\"], [0.8888888888888888, \"#fdca26\"], [1.0, \"#f0f921\"]], \"type\": \"heatmapgl\"}], \"histogram\": [{\"marker\": {\"colorbar\": {\"outlinewidth\": 0, \"ticks\": \"\"}}, \"type\": \"histogram\"}], \"histogram2d\": [{\"colorbar\": {\"outlinewidth\": 0, \"ticks\": \"\"}, \"colorscale\": [[0.0, \"#0d0887\"], [0.1111111111111111, \"#46039f\"], [0.2222222222222222, \"#7201a8\"], [0.3333333333333333, \"#9c179e\"], [0.4444444444444444, \"#bd3786\"], [0.5555555555555556, \"#d8576b\"], [0.6666666666666666, \"#ed7953\"], [0.7777777777777778, \"#fb9f3a\"], [0.8888888888888888, \"#fdca26\"], [1.0, \"#f0f921\"]], \"type\": \"histogram2d\"}], \"histogram2dcontour\": [{\"colorbar\": {\"outlinewidth\": 0, \"ticks\": \"\"}, \"colorscale\": [[0.0, \"#0d0887\"], [0.1111111111111111, \"#46039f\"], [0.2222222222222222, \"#7201a8\"], [0.3333333333333333, \"#9c179e\"], [0.4444444444444444, \"#bd3786\"], [0.5555555555555556, \"#d8576b\"], [0.6666666666666666, \"#ed7953\"], [0.7777777777777778, \"#fb9f3a\"], [0.8888888888888888, \"#fdca26\"], [1.0, \"#f0f921\"]], \"type\": \"histogram2dcontour\"}], \"mesh3d\": [{\"colorbar\": {\"outlinewidth\": 0, \"ticks\": \"\"}, \"type\": \"mesh3d\"}], \"parcoords\": [{\"line\": {\"colorbar\": {\"outlinewidth\": 0, \"ticks\": \"\"}}, \"type\": \"parcoords\"}], \"pie\": [{\"automargin\": true, \"type\": \"pie\"}], \"scatter\": [{\"marker\": {\"colorbar\": {\"outlinewidth\": 0, \"ticks\": \"\"}}, \"type\": \"scatter\"}], \"scatter3d\": [{\"line\": {\"colorbar\": {\"outlinewidth\": 0, \"ticks\": \"\"}}, \"marker\": {\"colorbar\": {\"outlinewidth\": 0, \"ticks\": \"\"}}, \"type\": \"scatter3d\"}], \"scattercarpet\": [{\"marker\": {\"colorbar\": {\"outlinewidth\": 0, \"ticks\": \"\"}}, \"type\": \"scattercarpet\"}], \"scattergeo\": [{\"marker\": {\"colorbar\": {\"outlinewidth\": 0, \"ticks\": \"\"}}, \"type\": \"scattergeo\"}], \"scattergl\": [{\"marker\": {\"colorbar\": {\"outlinewidth\": 0, \"ticks\": \"\"}}, \"type\": \"scattergl\"}], \"scattermapbox\": [{\"marker\": {\"colorbar\": {\"outlinewidth\": 0, \"ticks\": \"\"}}, \"type\": \"scattermapbox\"}], \"scatterpolar\": [{\"marker\": {\"colorbar\": {\"outlinewidth\": 0, \"ticks\": \"\"}}, \"type\": \"scatterpolar\"}], \"scatterpolargl\": [{\"marker\": {\"colorbar\": {\"outlinewidth\": 0, \"ticks\": \"\"}}, \"type\": \"scatterpolargl\"}], \"scatterternary\": [{\"marker\": {\"colorbar\": {\"outlinewidth\": 0, \"ticks\": \"\"}}, \"type\": \"scatterternary\"}], \"surface\": [{\"colorbar\": {\"outlinewidth\": 0, \"ticks\": \"\"}, \"colorscale\": [[0.0, \"#0d0887\"], [0.1111111111111111, \"#46039f\"], [0.2222222222222222, \"#7201a8\"], [0.3333333333333333, \"#9c179e\"], [0.4444444444444444, \"#bd3786\"], [0.5555555555555556, \"#d8576b\"], [0.6666666666666666, \"#ed7953\"], [0.7777777777777778, \"#fb9f3a\"], [0.8888888888888888, \"#fdca26\"], [1.0, \"#f0f921\"]], \"type\": \"surface\"}], \"table\": [{\"cells\": {\"fill\": {\"color\": \"#EBF0F8\"}, \"line\": {\"color\": \"white\"}}, \"header\": {\"fill\": {\"color\": \"#C8D4E3\"}, \"line\": {\"color\": \"white\"}}, \"type\": \"table\"}]}, \"layout\": {\"annotationdefaults\": {\"arrowcolor\": \"#2a3f5f\", \"arrowhead\": 0, \"arrowwidth\": 1}, \"coloraxis\": {\"colorbar\": {\"outlinewidth\": 0, \"ticks\": \"\"}}, \"colorscale\": {\"diverging\": [[0, \"#8e0152\"], [0.1, \"#c51b7d\"], [0.2, \"#de77ae\"], [0.3, \"#f1b6da\"], [0.4, \"#fde0ef\"], [0.5, \"#f7f7f7\"], [0.6, \"#e6f5d0\"], [0.7, \"#b8e186\"], [0.8, \"#7fbc41\"], [0.9, \"#4d9221\"], [1, \"#276419\"]], \"sequential\": [[0.0, \"#0d0887\"], [0.1111111111111111, \"#46039f\"], [0.2222222222222222, \"#7201a8\"], [0.3333333333333333, \"#9c179e\"], [0.4444444444444444, \"#bd3786\"], [0.5555555555555556, \"#d8576b\"], [0.6666666666666666, \"#ed7953\"], [0.7777777777777778, \"#fb9f3a\"], [0.8888888888888888, \"#fdca26\"], [1.0, \"#f0f921\"]], \"sequentialminus\": [[0.0, \"#0d0887\"], [0.1111111111111111, \"#46039f\"], [0.2222222222222222, \"#7201a8\"], [0.3333333333333333, \"#9c179e\"], [0.4444444444444444, \"#bd3786\"], [0.5555555555555556, \"#d8576b\"], [0.6666666666666666, \"#ed7953\"], [0.7777777777777778, \"#fb9f3a\"], [0.8888888888888888, \"#fdca26\"], [1.0, \"#f0f921\"]]}, \"colorway\": [\"#636efa\", \"#EF553B\", \"#00cc96\", \"#ab63fa\", \"#FFA15A\", \"#19d3f3\", \"#FF6692\", \"#B6E880\", \"#FF97FF\", \"#FECB52\"], \"font\": {\"color\": \"#2a3f5f\"}, \"geo\": {\"bgcolor\": \"white\", \"lakecolor\": \"white\", \"landcolor\": \"#E5ECF6\", \"showlakes\": true, \"showland\": true, \"subunitcolor\": \"white\"}, \"hoverlabel\": {\"align\": \"left\"}, \"hovermode\": \"closest\", \"mapbox\": {\"style\": \"light\"}, \"paper_bgcolor\": \"white\", \"plot_bgcolor\": \"#E5ECF6\", \"polar\": {\"angularaxis\": {\"gridcolor\": \"white\", \"linecolor\": \"white\", \"ticks\": \"\"}, \"bgcolor\": \"#E5ECF6\", \"radialaxis\": {\"gridcolor\": \"white\", \"linecolor\": \"white\", \"ticks\": \"\"}}, \"scene\": {\"xaxis\": {\"backgroundcolor\": \"#E5ECF6\", \"gridcolor\": \"white\", \"gridwidth\": 2, \"linecolor\": \"white\", \"showbackground\": true, \"ticks\": \"\", \"zerolinecolor\": \"white\"}, \"yaxis\": {\"backgroundcolor\": \"#E5ECF6\", \"gridcolor\": \"white\", \"gridwidth\": 2, \"linecolor\": \"white\", \"showbackground\": true, \"ticks\": \"\", \"zerolinecolor\": \"white\"}, \"zaxis\": {\"backgroundcolor\": \"#E5ECF6\", \"gridcolor\": \"white\", \"gridwidth\": 2, \"linecolor\": \"white\", \"showbackground\": true, \"ticks\": \"\", \"zerolinecolor\": \"white\"}}, \"shapedefaults\": {\"line\": {\"color\": \"#2a3f5f\"}}, \"ternary\": {\"aaxis\": {\"gridcolor\": \"white\", \"linecolor\": \"white\", \"ticks\": \"\"}, \"baxis\": {\"gridcolor\": \"white\", \"linecolor\": \"white\", \"ticks\": \"\"}, \"bgcolor\": \"#E5ECF6\", \"caxis\": {\"gridcolor\": \"white\", \"linecolor\": \"white\", \"ticks\": \"\"}}, \"title\": {\"x\": 0.05}, \"xaxis\": {\"automargin\": true, \"gridcolor\": \"white\", \"linecolor\": \"white\", \"ticks\": \"\", \"title\": {\"standoff\": 15}, \"zerolinecolor\": \"white\", \"zerolinewidth\": 2}, \"yaxis\": {\"automargin\": true, \"gridcolor\": \"white\", \"linecolor\": \"white\", \"ticks\": \"\", \"title\": {\"standoff\": 15}, \"zerolinecolor\": \"white\", \"zerolinewidth\": 2}}}, \"title\": {\"text\": \"\\uc2dc\\ub3c4\\ubcc4 \\ubc30\\ub2ec\\ube44\\uc728\"}},                        {\"responsive\": true}                    ).then(function(){\n",
       "                            \n",
       "var gd = document.getElementById('f9585cac-cd3f-4ca1-bf7d-dcf93378aa36');\n",
       "var x = new MutationObserver(function (mutations, observer) {{\n",
       "        var display = window.getComputedStyle(gd).display;\n",
       "        if (!display || display === 'none') {{\n",
       "            console.log([gd, 'removed!']);\n",
       "            Plotly.purge(gd);\n",
       "            observer.disconnect();\n",
       "        }}\n",
       "}});\n",
       "\n",
       "// Listen for the removal of the full notebook cells\n",
       "var notebookContainer = gd.closest('#notebook-container');\n",
       "if (notebookContainer) {{\n",
       "    x.observe(notebookContainer, {childList: true});\n",
       "}}\n",
       "\n",
       "// Listen for the clearing of the current output cell\n",
       "var outputEl = gd.closest('.output');\n",
       "if (outputEl) {{\n",
       "    x.observe(outputEl, {childList: true});\n",
       "}}\n",
       "\n",
       "                        })                };                });            </script>        </div>"
      ]
     },
     "metadata": {},
     "output_type": "display_data"
    }
   ],
   "source": [
    "# 시도별 막대그래프\n",
    "\n",
    "# 막대 그래프 그리기\n",
    "trace1 = go.Bar(x=districtname['si_name'], y=districtname['count'])\n",
    "data = [trace1]\n",
    "layout = go.Layout(title='시도별 배달비율')\n",
    "fig = go.Figure(data=data, layout=layout)\n",
    "pyo.iplot(fig)"
   ]
  },
  {
   "cell_type": "code",
   "execution_count": 13,
   "metadata": {},
   "outputs": [
    {
     "data": {
      "text/html": [
       "<div>\n",
       "<style scoped>\n",
       "    .dataframe tbody tr th:only-of-type {\n",
       "        vertical-align: middle;\n",
       "    }\n",
       "\n",
       "    .dataframe tbody tr th {\n",
       "        vertical-align: top;\n",
       "    }\n",
       "\n",
       "    .dataframe thead th {\n",
       "        text-align: right;\n",
       "    }\n",
       "</style>\n",
       "<table border=\"1\" class=\"dataframe\">\n",
       "  <thead>\n",
       "    <tr style=\"text-align: right;\">\n",
       "      <th></th>\n",
       "      <th>si_name</th>\n",
       "      <th>count</th>\n",
       "    </tr>\n",
       "  </thead>\n",
       "  <tbody>\n",
       "    <tr>\n",
       "      <th>1</th>\n",
       "      <td>경기도</td>\n",
       "      <td>2736607</td>\n",
       "    </tr>\n",
       "    <tr>\n",
       "      <th>8</th>\n",
       "      <td>서울특별시</td>\n",
       "      <td>818496</td>\n",
       "    </tr>\n",
       "    <tr>\n",
       "      <th>2</th>\n",
       "      <td>경상남도</td>\n",
       "      <td>266602</td>\n",
       "    </tr>\n",
       "    <tr>\n",
       "      <th>3</th>\n",
       "      <td>경상북도</td>\n",
       "      <td>174840</td>\n",
       "    </tr>\n",
       "    <tr>\n",
       "      <th>14</th>\n",
       "      <td>충청남도</td>\n",
       "      <td>168084</td>\n",
       "    </tr>\n",
       "  </tbody>\n",
       "</table>\n",
       "</div>"
      ],
      "text/plain": [
       "   si_name    count\n",
       "1      경기도  2736607\n",
       "8    서울특별시   818496\n",
       "2     경상남도   266602\n",
       "3     경상북도   174840\n",
       "14    충청남도   168084"
      ]
     },
     "execution_count": 13,
     "metadata": {},
     "output_type": "execute_result"
    }
   ],
   "source": [
    "# 상위 5개 시도의 주문개수\n",
    "\n",
    "df_sort_group_top5 = districtname.sort_values(by=\"count\", ascending=False).groupby(\"si_name\").head(10)\n",
    "df_sort5 = df_sort_group_top5.head(5)\n",
    "df_sort5\n",
    "\n"
   ]
  },
  {
   "cell_type": "code",
   "execution_count": 14,
   "metadata": {},
   "outputs": [
    {
     "data": {
      "application/vnd.plotly.v1+json": {
       "config": {
        "linkText": "Export to plot.ly",
        "plotlyServerURL": "https://plot.ly",
        "showLink": false
       },
       "data": [
        {
         "type": "bar",
         "x": [
          "경기도",
          "서울특별시",
          "경상남도",
          "경상북도",
          "충청남도"
         ],
         "y": [
          2736607,
          818496,
          266602,
          174840,
          168084
         ]
        }
       ],
       "layout": {
        "template": {
         "data": {
          "bar": [
           {
            "error_x": {
             "color": "#2a3f5f"
            },
            "error_y": {
             "color": "#2a3f5f"
            },
            "marker": {
             "line": {
              "color": "#E5ECF6",
              "width": 0.5
             }
            },
            "type": "bar"
           }
          ],
          "barpolar": [
           {
            "marker": {
             "line": {
              "color": "#E5ECF6",
              "width": 0.5
             }
            },
            "type": "barpolar"
           }
          ],
          "carpet": [
           {
            "aaxis": {
             "endlinecolor": "#2a3f5f",
             "gridcolor": "white",
             "linecolor": "white",
             "minorgridcolor": "white",
             "startlinecolor": "#2a3f5f"
            },
            "baxis": {
             "endlinecolor": "#2a3f5f",
             "gridcolor": "white",
             "linecolor": "white",
             "minorgridcolor": "white",
             "startlinecolor": "#2a3f5f"
            },
            "type": "carpet"
           }
          ],
          "choropleth": [
           {
            "colorbar": {
             "outlinewidth": 0,
             "ticks": ""
            },
            "type": "choropleth"
           }
          ],
          "contour": [
           {
            "colorbar": {
             "outlinewidth": 0,
             "ticks": ""
            },
            "colorscale": [
             [
              0,
              "#0d0887"
             ],
             [
              0.1111111111111111,
              "#46039f"
             ],
             [
              0.2222222222222222,
              "#7201a8"
             ],
             [
              0.3333333333333333,
              "#9c179e"
             ],
             [
              0.4444444444444444,
              "#bd3786"
             ],
             [
              0.5555555555555556,
              "#d8576b"
             ],
             [
              0.6666666666666666,
              "#ed7953"
             ],
             [
              0.7777777777777778,
              "#fb9f3a"
             ],
             [
              0.8888888888888888,
              "#fdca26"
             ],
             [
              1,
              "#f0f921"
             ]
            ],
            "type": "contour"
           }
          ],
          "contourcarpet": [
           {
            "colorbar": {
             "outlinewidth": 0,
             "ticks": ""
            },
            "type": "contourcarpet"
           }
          ],
          "heatmap": [
           {
            "colorbar": {
             "outlinewidth": 0,
             "ticks": ""
            },
            "colorscale": [
             [
              0,
              "#0d0887"
             ],
             [
              0.1111111111111111,
              "#46039f"
             ],
             [
              0.2222222222222222,
              "#7201a8"
             ],
             [
              0.3333333333333333,
              "#9c179e"
             ],
             [
              0.4444444444444444,
              "#bd3786"
             ],
             [
              0.5555555555555556,
              "#d8576b"
             ],
             [
              0.6666666666666666,
              "#ed7953"
             ],
             [
              0.7777777777777778,
              "#fb9f3a"
             ],
             [
              0.8888888888888888,
              "#fdca26"
             ],
             [
              1,
              "#f0f921"
             ]
            ],
            "type": "heatmap"
           }
          ],
          "heatmapgl": [
           {
            "colorbar": {
             "outlinewidth": 0,
             "ticks": ""
            },
            "colorscale": [
             [
              0,
              "#0d0887"
             ],
             [
              0.1111111111111111,
              "#46039f"
             ],
             [
              0.2222222222222222,
              "#7201a8"
             ],
             [
              0.3333333333333333,
              "#9c179e"
             ],
             [
              0.4444444444444444,
              "#bd3786"
             ],
             [
              0.5555555555555556,
              "#d8576b"
             ],
             [
              0.6666666666666666,
              "#ed7953"
             ],
             [
              0.7777777777777778,
              "#fb9f3a"
             ],
             [
              0.8888888888888888,
              "#fdca26"
             ],
             [
              1,
              "#f0f921"
             ]
            ],
            "type": "heatmapgl"
           }
          ],
          "histogram": [
           {
            "marker": {
             "colorbar": {
              "outlinewidth": 0,
              "ticks": ""
             }
            },
            "type": "histogram"
           }
          ],
          "histogram2d": [
           {
            "colorbar": {
             "outlinewidth": 0,
             "ticks": ""
            },
            "colorscale": [
             [
              0,
              "#0d0887"
             ],
             [
              0.1111111111111111,
              "#46039f"
             ],
             [
              0.2222222222222222,
              "#7201a8"
             ],
             [
              0.3333333333333333,
              "#9c179e"
             ],
             [
              0.4444444444444444,
              "#bd3786"
             ],
             [
              0.5555555555555556,
              "#d8576b"
             ],
             [
              0.6666666666666666,
              "#ed7953"
             ],
             [
              0.7777777777777778,
              "#fb9f3a"
             ],
             [
              0.8888888888888888,
              "#fdca26"
             ],
             [
              1,
              "#f0f921"
             ]
            ],
            "type": "histogram2d"
           }
          ],
          "histogram2dcontour": [
           {
            "colorbar": {
             "outlinewidth": 0,
             "ticks": ""
            },
            "colorscale": [
             [
              0,
              "#0d0887"
             ],
             [
              0.1111111111111111,
              "#46039f"
             ],
             [
              0.2222222222222222,
              "#7201a8"
             ],
             [
              0.3333333333333333,
              "#9c179e"
             ],
             [
              0.4444444444444444,
              "#bd3786"
             ],
             [
              0.5555555555555556,
              "#d8576b"
             ],
             [
              0.6666666666666666,
              "#ed7953"
             ],
             [
              0.7777777777777778,
              "#fb9f3a"
             ],
             [
              0.8888888888888888,
              "#fdca26"
             ],
             [
              1,
              "#f0f921"
             ]
            ],
            "type": "histogram2dcontour"
           }
          ],
          "mesh3d": [
           {
            "colorbar": {
             "outlinewidth": 0,
             "ticks": ""
            },
            "type": "mesh3d"
           }
          ],
          "parcoords": [
           {
            "line": {
             "colorbar": {
              "outlinewidth": 0,
              "ticks": ""
             }
            },
            "type": "parcoords"
           }
          ],
          "pie": [
           {
            "automargin": true,
            "type": "pie"
           }
          ],
          "scatter": [
           {
            "marker": {
             "colorbar": {
              "outlinewidth": 0,
              "ticks": ""
             }
            },
            "type": "scatter"
           }
          ],
          "scatter3d": [
           {
            "line": {
             "colorbar": {
              "outlinewidth": 0,
              "ticks": ""
             }
            },
            "marker": {
             "colorbar": {
              "outlinewidth": 0,
              "ticks": ""
             }
            },
            "type": "scatter3d"
           }
          ],
          "scattercarpet": [
           {
            "marker": {
             "colorbar": {
              "outlinewidth": 0,
              "ticks": ""
             }
            },
            "type": "scattercarpet"
           }
          ],
          "scattergeo": [
           {
            "marker": {
             "colorbar": {
              "outlinewidth": 0,
              "ticks": ""
             }
            },
            "type": "scattergeo"
           }
          ],
          "scattergl": [
           {
            "marker": {
             "colorbar": {
              "outlinewidth": 0,
              "ticks": ""
             }
            },
            "type": "scattergl"
           }
          ],
          "scattermapbox": [
           {
            "marker": {
             "colorbar": {
              "outlinewidth": 0,
              "ticks": ""
             }
            },
            "type": "scattermapbox"
           }
          ],
          "scatterpolar": [
           {
            "marker": {
             "colorbar": {
              "outlinewidth": 0,
              "ticks": ""
             }
            },
            "type": "scatterpolar"
           }
          ],
          "scatterpolargl": [
           {
            "marker": {
             "colorbar": {
              "outlinewidth": 0,
              "ticks": ""
             }
            },
            "type": "scatterpolargl"
           }
          ],
          "scatterternary": [
           {
            "marker": {
             "colorbar": {
              "outlinewidth": 0,
              "ticks": ""
             }
            },
            "type": "scatterternary"
           }
          ],
          "surface": [
           {
            "colorbar": {
             "outlinewidth": 0,
             "ticks": ""
            },
            "colorscale": [
             [
              0,
              "#0d0887"
             ],
             [
              0.1111111111111111,
              "#46039f"
             ],
             [
              0.2222222222222222,
              "#7201a8"
             ],
             [
              0.3333333333333333,
              "#9c179e"
             ],
             [
              0.4444444444444444,
              "#bd3786"
             ],
             [
              0.5555555555555556,
              "#d8576b"
             ],
             [
              0.6666666666666666,
              "#ed7953"
             ],
             [
              0.7777777777777778,
              "#fb9f3a"
             ],
             [
              0.8888888888888888,
              "#fdca26"
             ],
             [
              1,
              "#f0f921"
             ]
            ],
            "type": "surface"
           }
          ],
          "table": [
           {
            "cells": {
             "fill": {
              "color": "#EBF0F8"
             },
             "line": {
              "color": "white"
             }
            },
            "header": {
             "fill": {
              "color": "#C8D4E3"
             },
             "line": {
              "color": "white"
             }
            },
            "type": "table"
           }
          ]
         },
         "layout": {
          "annotationdefaults": {
           "arrowcolor": "#2a3f5f",
           "arrowhead": 0,
           "arrowwidth": 1
          },
          "coloraxis": {
           "colorbar": {
            "outlinewidth": 0,
            "ticks": ""
           }
          },
          "colorscale": {
           "diverging": [
            [
             0,
             "#8e0152"
            ],
            [
             0.1,
             "#c51b7d"
            ],
            [
             0.2,
             "#de77ae"
            ],
            [
             0.3,
             "#f1b6da"
            ],
            [
             0.4,
             "#fde0ef"
            ],
            [
             0.5,
             "#f7f7f7"
            ],
            [
             0.6,
             "#e6f5d0"
            ],
            [
             0.7,
             "#b8e186"
            ],
            [
             0.8,
             "#7fbc41"
            ],
            [
             0.9,
             "#4d9221"
            ],
            [
             1,
             "#276419"
            ]
           ],
           "sequential": [
            [
             0,
             "#0d0887"
            ],
            [
             0.1111111111111111,
             "#46039f"
            ],
            [
             0.2222222222222222,
             "#7201a8"
            ],
            [
             0.3333333333333333,
             "#9c179e"
            ],
            [
             0.4444444444444444,
             "#bd3786"
            ],
            [
             0.5555555555555556,
             "#d8576b"
            ],
            [
             0.6666666666666666,
             "#ed7953"
            ],
            [
             0.7777777777777778,
             "#fb9f3a"
            ],
            [
             0.8888888888888888,
             "#fdca26"
            ],
            [
             1,
             "#f0f921"
            ]
           ],
           "sequentialminus": [
            [
             0,
             "#0d0887"
            ],
            [
             0.1111111111111111,
             "#46039f"
            ],
            [
             0.2222222222222222,
             "#7201a8"
            ],
            [
             0.3333333333333333,
             "#9c179e"
            ],
            [
             0.4444444444444444,
             "#bd3786"
            ],
            [
             0.5555555555555556,
             "#d8576b"
            ],
            [
             0.6666666666666666,
             "#ed7953"
            ],
            [
             0.7777777777777778,
             "#fb9f3a"
            ],
            [
             0.8888888888888888,
             "#fdca26"
            ],
            [
             1,
             "#f0f921"
            ]
           ]
          },
          "colorway": [
           "#636efa",
           "#EF553B",
           "#00cc96",
           "#ab63fa",
           "#FFA15A",
           "#19d3f3",
           "#FF6692",
           "#B6E880",
           "#FF97FF",
           "#FECB52"
          ],
          "font": {
           "color": "#2a3f5f"
          },
          "geo": {
           "bgcolor": "white",
           "lakecolor": "white",
           "landcolor": "#E5ECF6",
           "showlakes": true,
           "showland": true,
           "subunitcolor": "white"
          },
          "hoverlabel": {
           "align": "left"
          },
          "hovermode": "closest",
          "mapbox": {
           "style": "light"
          },
          "paper_bgcolor": "white",
          "plot_bgcolor": "#E5ECF6",
          "polar": {
           "angularaxis": {
            "gridcolor": "white",
            "linecolor": "white",
            "ticks": ""
           },
           "bgcolor": "#E5ECF6",
           "radialaxis": {
            "gridcolor": "white",
            "linecolor": "white",
            "ticks": ""
           }
          },
          "scene": {
           "xaxis": {
            "backgroundcolor": "#E5ECF6",
            "gridcolor": "white",
            "gridwidth": 2,
            "linecolor": "white",
            "showbackground": true,
            "ticks": "",
            "zerolinecolor": "white"
           },
           "yaxis": {
            "backgroundcolor": "#E5ECF6",
            "gridcolor": "white",
            "gridwidth": 2,
            "linecolor": "white",
            "showbackground": true,
            "ticks": "",
            "zerolinecolor": "white"
           },
           "zaxis": {
            "backgroundcolor": "#E5ECF6",
            "gridcolor": "white",
            "gridwidth": 2,
            "linecolor": "white",
            "showbackground": true,
            "ticks": "",
            "zerolinecolor": "white"
           }
          },
          "shapedefaults": {
           "line": {
            "color": "#2a3f5f"
           }
          },
          "ternary": {
           "aaxis": {
            "gridcolor": "white",
            "linecolor": "white",
            "ticks": ""
           },
           "baxis": {
            "gridcolor": "white",
            "linecolor": "white",
            "ticks": ""
           },
           "bgcolor": "#E5ECF6",
           "caxis": {
            "gridcolor": "white",
            "linecolor": "white",
            "ticks": ""
           }
          },
          "title": {
           "x": 0.05
          },
          "xaxis": {
           "automargin": true,
           "gridcolor": "white",
           "linecolor": "white",
           "ticks": "",
           "title": {
            "standoff": 15
           },
           "zerolinecolor": "white",
           "zerolinewidth": 2
          },
          "yaxis": {
           "automargin": true,
           "gridcolor": "white",
           "linecolor": "white",
           "ticks": "",
           "title": {
            "standoff": 15
           },
           "zerolinecolor": "white",
           "zerolinewidth": 2
          }
         }
        },
        "title": {
         "text": "시도별 배달비율"
        }
       }
      },
      "text/html": [
       "<div>                            <div id=\"a3cc428a-f5eb-4367-aae9-7e4f1c6bb20f\" class=\"plotly-graph-div\" style=\"height:525px; width:100%;\"></div>            <script type=\"text/javascript\">                require([\"plotly\"], function(Plotly) {                    window.PLOTLYENV=window.PLOTLYENV || {};                                    if (document.getElementById(\"a3cc428a-f5eb-4367-aae9-7e4f1c6bb20f\")) {                    Plotly.newPlot(                        \"a3cc428a-f5eb-4367-aae9-7e4f1c6bb20f\",                        [{\"type\": \"bar\", \"x\": [\"\\uacbd\\uae30\\ub3c4\", \"\\uc11c\\uc6b8\\ud2b9\\ubcc4\\uc2dc\", \"\\uacbd\\uc0c1\\ub0a8\\ub3c4\", \"\\uacbd\\uc0c1\\ubd81\\ub3c4\", \"\\ucda9\\uccad\\ub0a8\\ub3c4\"], \"y\": [2736607, 818496, 266602, 174840, 168084]}],                        {\"template\": {\"data\": {\"bar\": [{\"error_x\": {\"color\": \"#2a3f5f\"}, \"error_y\": {\"color\": \"#2a3f5f\"}, \"marker\": {\"line\": {\"color\": \"#E5ECF6\", \"width\": 0.5}}, \"type\": \"bar\"}], \"barpolar\": [{\"marker\": {\"line\": {\"color\": \"#E5ECF6\", \"width\": 0.5}}, \"type\": \"barpolar\"}], \"carpet\": [{\"aaxis\": {\"endlinecolor\": \"#2a3f5f\", \"gridcolor\": \"white\", \"linecolor\": \"white\", \"minorgridcolor\": \"white\", \"startlinecolor\": \"#2a3f5f\"}, \"baxis\": {\"endlinecolor\": \"#2a3f5f\", \"gridcolor\": \"white\", \"linecolor\": \"white\", \"minorgridcolor\": \"white\", \"startlinecolor\": \"#2a3f5f\"}, \"type\": \"carpet\"}], \"choropleth\": [{\"colorbar\": {\"outlinewidth\": 0, \"ticks\": \"\"}, \"type\": \"choropleth\"}], \"contour\": [{\"colorbar\": {\"outlinewidth\": 0, \"ticks\": \"\"}, \"colorscale\": [[0.0, \"#0d0887\"], [0.1111111111111111, \"#46039f\"], [0.2222222222222222, \"#7201a8\"], [0.3333333333333333, \"#9c179e\"], [0.4444444444444444, \"#bd3786\"], [0.5555555555555556, \"#d8576b\"], [0.6666666666666666, \"#ed7953\"], [0.7777777777777778, \"#fb9f3a\"], [0.8888888888888888, \"#fdca26\"], [1.0, \"#f0f921\"]], \"type\": \"contour\"}], \"contourcarpet\": [{\"colorbar\": {\"outlinewidth\": 0, \"ticks\": \"\"}, \"type\": \"contourcarpet\"}], \"heatmap\": [{\"colorbar\": {\"outlinewidth\": 0, \"ticks\": \"\"}, \"colorscale\": [[0.0, \"#0d0887\"], [0.1111111111111111, \"#46039f\"], [0.2222222222222222, \"#7201a8\"], [0.3333333333333333, \"#9c179e\"], [0.4444444444444444, \"#bd3786\"], [0.5555555555555556, \"#d8576b\"], [0.6666666666666666, \"#ed7953\"], [0.7777777777777778, \"#fb9f3a\"], [0.8888888888888888, \"#fdca26\"], [1.0, \"#f0f921\"]], \"type\": \"heatmap\"}], \"heatmapgl\": [{\"colorbar\": {\"outlinewidth\": 0, \"ticks\": \"\"}, \"colorscale\": [[0.0, \"#0d0887\"], [0.1111111111111111, \"#46039f\"], [0.2222222222222222, \"#7201a8\"], [0.3333333333333333, \"#9c179e\"], [0.4444444444444444, \"#bd3786\"], [0.5555555555555556, \"#d8576b\"], [0.6666666666666666, \"#ed7953\"], [0.7777777777777778, \"#fb9f3a\"], [0.8888888888888888, \"#fdca26\"], [1.0, \"#f0f921\"]], \"type\": \"heatmapgl\"}], \"histogram\": [{\"marker\": {\"colorbar\": {\"outlinewidth\": 0, \"ticks\": \"\"}}, \"type\": \"histogram\"}], \"histogram2d\": [{\"colorbar\": {\"outlinewidth\": 0, \"ticks\": \"\"}, \"colorscale\": [[0.0, \"#0d0887\"], [0.1111111111111111, \"#46039f\"], [0.2222222222222222, \"#7201a8\"], [0.3333333333333333, \"#9c179e\"], [0.4444444444444444, \"#bd3786\"], [0.5555555555555556, \"#d8576b\"], [0.6666666666666666, \"#ed7953\"], [0.7777777777777778, \"#fb9f3a\"], [0.8888888888888888, \"#fdca26\"], [1.0, \"#f0f921\"]], \"type\": \"histogram2d\"}], \"histogram2dcontour\": [{\"colorbar\": {\"outlinewidth\": 0, \"ticks\": \"\"}, \"colorscale\": [[0.0, \"#0d0887\"], [0.1111111111111111, \"#46039f\"], [0.2222222222222222, \"#7201a8\"], [0.3333333333333333, \"#9c179e\"], [0.4444444444444444, \"#bd3786\"], [0.5555555555555556, \"#d8576b\"], [0.6666666666666666, \"#ed7953\"], [0.7777777777777778, \"#fb9f3a\"], [0.8888888888888888, \"#fdca26\"], [1.0, \"#f0f921\"]], \"type\": \"histogram2dcontour\"}], \"mesh3d\": [{\"colorbar\": {\"outlinewidth\": 0, \"ticks\": \"\"}, \"type\": \"mesh3d\"}], \"parcoords\": [{\"line\": {\"colorbar\": {\"outlinewidth\": 0, \"ticks\": \"\"}}, \"type\": \"parcoords\"}], \"pie\": [{\"automargin\": true, \"type\": \"pie\"}], \"scatter\": [{\"marker\": {\"colorbar\": {\"outlinewidth\": 0, \"ticks\": \"\"}}, \"type\": \"scatter\"}], \"scatter3d\": [{\"line\": {\"colorbar\": {\"outlinewidth\": 0, \"ticks\": \"\"}}, \"marker\": {\"colorbar\": {\"outlinewidth\": 0, \"ticks\": \"\"}}, \"type\": \"scatter3d\"}], \"scattercarpet\": [{\"marker\": {\"colorbar\": {\"outlinewidth\": 0, \"ticks\": \"\"}}, \"type\": \"scattercarpet\"}], \"scattergeo\": [{\"marker\": {\"colorbar\": {\"outlinewidth\": 0, \"ticks\": \"\"}}, \"type\": \"scattergeo\"}], \"scattergl\": [{\"marker\": {\"colorbar\": {\"outlinewidth\": 0, \"ticks\": \"\"}}, \"type\": \"scattergl\"}], \"scattermapbox\": [{\"marker\": {\"colorbar\": {\"outlinewidth\": 0, \"ticks\": \"\"}}, \"type\": \"scattermapbox\"}], \"scatterpolar\": [{\"marker\": {\"colorbar\": {\"outlinewidth\": 0, \"ticks\": \"\"}}, \"type\": \"scatterpolar\"}], \"scatterpolargl\": [{\"marker\": {\"colorbar\": {\"outlinewidth\": 0, \"ticks\": \"\"}}, \"type\": \"scatterpolargl\"}], \"scatterternary\": [{\"marker\": {\"colorbar\": {\"outlinewidth\": 0, \"ticks\": \"\"}}, \"type\": \"scatterternary\"}], \"surface\": [{\"colorbar\": {\"outlinewidth\": 0, \"ticks\": \"\"}, \"colorscale\": [[0.0, \"#0d0887\"], [0.1111111111111111, \"#46039f\"], [0.2222222222222222, \"#7201a8\"], [0.3333333333333333, \"#9c179e\"], [0.4444444444444444, \"#bd3786\"], [0.5555555555555556, \"#d8576b\"], [0.6666666666666666, \"#ed7953\"], [0.7777777777777778, \"#fb9f3a\"], [0.8888888888888888, \"#fdca26\"], [1.0, \"#f0f921\"]], \"type\": \"surface\"}], \"table\": [{\"cells\": {\"fill\": {\"color\": \"#EBF0F8\"}, \"line\": {\"color\": \"white\"}}, \"header\": {\"fill\": {\"color\": \"#C8D4E3\"}, \"line\": {\"color\": \"white\"}}, \"type\": \"table\"}]}, \"layout\": {\"annotationdefaults\": {\"arrowcolor\": \"#2a3f5f\", \"arrowhead\": 0, \"arrowwidth\": 1}, \"coloraxis\": {\"colorbar\": {\"outlinewidth\": 0, \"ticks\": \"\"}}, \"colorscale\": {\"diverging\": [[0, \"#8e0152\"], [0.1, \"#c51b7d\"], [0.2, \"#de77ae\"], [0.3, \"#f1b6da\"], [0.4, \"#fde0ef\"], [0.5, \"#f7f7f7\"], [0.6, \"#e6f5d0\"], [0.7, \"#b8e186\"], [0.8, \"#7fbc41\"], [0.9, \"#4d9221\"], [1, \"#276419\"]], \"sequential\": [[0.0, \"#0d0887\"], [0.1111111111111111, \"#46039f\"], [0.2222222222222222, \"#7201a8\"], [0.3333333333333333, \"#9c179e\"], [0.4444444444444444, \"#bd3786\"], [0.5555555555555556, \"#d8576b\"], [0.6666666666666666, \"#ed7953\"], [0.7777777777777778, \"#fb9f3a\"], [0.8888888888888888, \"#fdca26\"], [1.0, \"#f0f921\"]], \"sequentialminus\": [[0.0, \"#0d0887\"], [0.1111111111111111, \"#46039f\"], [0.2222222222222222, \"#7201a8\"], [0.3333333333333333, \"#9c179e\"], [0.4444444444444444, \"#bd3786\"], [0.5555555555555556, \"#d8576b\"], [0.6666666666666666, \"#ed7953\"], [0.7777777777777778, \"#fb9f3a\"], [0.8888888888888888, \"#fdca26\"], [1.0, \"#f0f921\"]]}, \"colorway\": [\"#636efa\", \"#EF553B\", \"#00cc96\", \"#ab63fa\", \"#FFA15A\", \"#19d3f3\", \"#FF6692\", \"#B6E880\", \"#FF97FF\", \"#FECB52\"], \"font\": {\"color\": \"#2a3f5f\"}, \"geo\": {\"bgcolor\": \"white\", \"lakecolor\": \"white\", \"landcolor\": \"#E5ECF6\", \"showlakes\": true, \"showland\": true, \"subunitcolor\": \"white\"}, \"hoverlabel\": {\"align\": \"left\"}, \"hovermode\": \"closest\", \"mapbox\": {\"style\": \"light\"}, \"paper_bgcolor\": \"white\", \"plot_bgcolor\": \"#E5ECF6\", \"polar\": {\"angularaxis\": {\"gridcolor\": \"white\", \"linecolor\": \"white\", \"ticks\": \"\"}, \"bgcolor\": \"#E5ECF6\", \"radialaxis\": {\"gridcolor\": \"white\", \"linecolor\": \"white\", \"ticks\": \"\"}}, \"scene\": {\"xaxis\": {\"backgroundcolor\": \"#E5ECF6\", \"gridcolor\": \"white\", \"gridwidth\": 2, \"linecolor\": \"white\", \"showbackground\": true, \"ticks\": \"\", \"zerolinecolor\": \"white\"}, \"yaxis\": {\"backgroundcolor\": \"#E5ECF6\", \"gridcolor\": \"white\", \"gridwidth\": 2, \"linecolor\": \"white\", \"showbackground\": true, \"ticks\": \"\", \"zerolinecolor\": \"white\"}, \"zaxis\": {\"backgroundcolor\": \"#E5ECF6\", \"gridcolor\": \"white\", \"gridwidth\": 2, \"linecolor\": \"white\", \"showbackground\": true, \"ticks\": \"\", \"zerolinecolor\": \"white\"}}, \"shapedefaults\": {\"line\": {\"color\": \"#2a3f5f\"}}, \"ternary\": {\"aaxis\": {\"gridcolor\": \"white\", \"linecolor\": \"white\", \"ticks\": \"\"}, \"baxis\": {\"gridcolor\": \"white\", \"linecolor\": \"white\", \"ticks\": \"\"}, \"bgcolor\": \"#E5ECF6\", \"caxis\": {\"gridcolor\": \"white\", \"linecolor\": \"white\", \"ticks\": \"\"}}, \"title\": {\"x\": 0.05}, \"xaxis\": {\"automargin\": true, \"gridcolor\": \"white\", \"linecolor\": \"white\", \"ticks\": \"\", \"title\": {\"standoff\": 15}, \"zerolinecolor\": \"white\", \"zerolinewidth\": 2}, \"yaxis\": {\"automargin\": true, \"gridcolor\": \"white\", \"linecolor\": \"white\", \"ticks\": \"\", \"title\": {\"standoff\": 15}, \"zerolinecolor\": \"white\", \"zerolinewidth\": 2}}}, \"title\": {\"text\": \"\\uc2dc\\ub3c4\\ubcc4 \\ubc30\\ub2ec\\ube44\\uc728\"}},                        {\"responsive\": true}                    ).then(function(){\n",
       "                            \n",
       "var gd = document.getElementById('a3cc428a-f5eb-4367-aae9-7e4f1c6bb20f');\n",
       "var x = new MutationObserver(function (mutations, observer) {{\n",
       "        var display = window.getComputedStyle(gd).display;\n",
       "        if (!display || display === 'none') {{\n",
       "            console.log([gd, 'removed!']);\n",
       "            Plotly.purge(gd);\n",
       "            observer.disconnect();\n",
       "        }}\n",
       "}});\n",
       "\n",
       "// Listen for the removal of the full notebook cells\n",
       "var notebookContainer = gd.closest('#notebook-container');\n",
       "if (notebookContainer) {{\n",
       "    x.observe(notebookContainer, {childList: true});\n",
       "}}\n",
       "\n",
       "// Listen for the clearing of the current output cell\n",
       "var outputEl = gd.closest('.output');\n",
       "if (outputEl) {{\n",
       "    x.observe(outputEl, {childList: true});\n",
       "}}\n",
       "\n",
       "                        })                };                });            </script>        </div>"
      ]
     },
     "metadata": {},
     "output_type": "display_data"
    }
   ],
   "source": [
    "# 상위 5개 막대 그래프 그리기\n",
    "trace1 = go.Bar(x=df_sort5['si_name'], y=df_sort5['count'])\n",
    "data = [trace1]\n",
    "layout = go.Layout(title='시도별 배달비율')\n",
    "fig = go.Figure(data=data, layout=layout)\n",
    "pyo.iplot(fig)"
   ]
  },
  {
   "cell_type": "markdown",
   "metadata": {},
   "source": [
    "# 지역별로 컬럼을 만들고 음식업종 이름 살펴보기 (4집단으로 분류)\n",
    "  * 지역별로 선호하는 음식의 기호가 다를 수 있다고 판단하고 각 지역별 주문된 음식에 대해 알고싶어서\n",
    "  * 크게4개집단 나눔 \n",
    "  * 서울특별시/경기/인천광역시\n",
    "  * 경상남도/경상북도/대구광역시/부산광역시   \n",
    "  * 전라남도/전라북도/광주광역시 \n",
    "  * 충청남도/충청북도/대전광역시(concat 함수를 이용해서 생성)"
   ]
  },
  {
   "cell_type": "code",
   "execution_count": 15,
   "metadata": {},
   "outputs": [
    {
     "data": {
      "text/html": [
       "<div>\n",
       "<style scoped>\n",
       "    .dataframe tbody tr th:only-of-type {\n",
       "        vertical-align: middle;\n",
       "    }\n",
       "\n",
       "    .dataframe tbody tr th {\n",
       "        vertical-align: top;\n",
       "    }\n",
       "\n",
       "    .dataframe thead th {\n",
       "        text-align: right;\n",
       "    }\n",
       "</style>\n",
       "<table border=\"1\" class=\"dataframe\">\n",
       "  <thead>\n",
       "    <tr style=\"text-align: right;\">\n",
       "      <th></th>\n",
       "      <th>PROCESS_DT</th>\n",
       "      <th>DLVR_STORE_ID</th>\n",
       "      <th>si_name</th>\n",
       "      <th>gu_name</th>\n",
       "      <th>dong_name</th>\n",
       "      <th>adstrd_code</th>\n",
       "      <th>DLVR_DSTN_RDNMADR_CODE</th>\n",
       "      <th>induty_nm</th>\n",
       "      <th>GOODS_AMOUNT</th>\n",
       "      <th>SETLE_KND_VALUE</th>\n",
       "      <th>DLVR_RCEPT_TIME</th>\n",
       "      <th>year</th>\n",
       "      <th>month</th>\n",
       "    </tr>\n",
       "  </thead>\n",
       "  <tbody>\n",
       "    <tr>\n",
       "      <th>3</th>\n",
       "      <td>2020-01-01</td>\n",
       "      <td>S0039634</td>\n",
       "      <td>경기도</td>\n",
       "      <td>의정부시</td>\n",
       "      <td>의정부동</td>\n",
       "      <td>41150510</td>\n",
       "      <td>4.115043e+11</td>\n",
       "      <td>한식</td>\n",
       "      <td>20000</td>\n",
       "      <td>2</td>\n",
       "      <td>2020-01-01 01:01:34</td>\n",
       "      <td>2020</td>\n",
       "      <td>1</td>\n",
       "    </tr>\n",
       "    <tr>\n",
       "      <th>4</th>\n",
       "      <td>2020-01-01</td>\n",
       "      <td>S0002237</td>\n",
       "      <td>경기도</td>\n",
       "      <td>고양시 덕양구</td>\n",
       "      <td>주교동</td>\n",
       "      <td>41281510</td>\n",
       "      <td>4.128144e+11</td>\n",
       "      <td>한식</td>\n",
       "      <td>32000</td>\n",
       "      <td>2</td>\n",
       "      <td>2020-01-01 01:05:06</td>\n",
       "      <td>2020</td>\n",
       "      <td>1</td>\n",
       "    </tr>\n",
       "    <tr>\n",
       "      <th>5</th>\n",
       "      <td>2020-01-01</td>\n",
       "      <td>S0001485</td>\n",
       "      <td>경기도</td>\n",
       "      <td>부천시</td>\n",
       "      <td>심곡동</td>\n",
       "      <td>41190603</td>\n",
       "      <td>4.119030e+11</td>\n",
       "      <td>족발/보쌈</td>\n",
       "      <td>37000</td>\n",
       "      <td>1</td>\n",
       "      <td>2020-01-01 00:59:31</td>\n",
       "      <td>2020</td>\n",
       "      <td>1</td>\n",
       "    </tr>\n",
       "    <tr>\n",
       "      <th>7</th>\n",
       "      <td>2020-01-01</td>\n",
       "      <td>S0001037</td>\n",
       "      <td>경기도</td>\n",
       "      <td>부천시</td>\n",
       "      <td>송내동</td>\n",
       "      <td>41190746</td>\n",
       "      <td>4.119044e+11</td>\n",
       "      <td>야식</td>\n",
       "      <td>28500</td>\n",
       "      <td>2</td>\n",
       "      <td>2020-01-01 00:09:40</td>\n",
       "      <td>2020</td>\n",
       "      <td>1</td>\n",
       "    </tr>\n",
       "    <tr>\n",
       "      <th>9</th>\n",
       "      <td>2020-01-01</td>\n",
       "      <td>S0028777</td>\n",
       "      <td>경기도</td>\n",
       "      <td>의정부시</td>\n",
       "      <td>낙양동</td>\n",
       "      <td>41150578</td>\n",
       "      <td>4.115032e+11</td>\n",
       "      <td>야식</td>\n",
       "      <td>22000</td>\n",
       "      <td>1</td>\n",
       "      <td>2020-01-01 00:10:34</td>\n",
       "      <td>2020</td>\n",
       "      <td>1</td>\n",
       "    </tr>\n",
       "    <tr>\n",
       "      <th>...</th>\n",
       "      <td>...</td>\n",
       "      <td>...</td>\n",
       "      <td>...</td>\n",
       "      <td>...</td>\n",
       "      <td>...</td>\n",
       "      <td>...</td>\n",
       "      <td>...</td>\n",
       "      <td>...</td>\n",
       "      <td>...</td>\n",
       "      <td>...</td>\n",
       "      <td>...</td>\n",
       "      <td>...</td>\n",
       "      <td>...</td>\n",
       "    </tr>\n",
       "    <tr>\n",
       "      <th>5158158</th>\n",
       "      <td>2020-06-21</td>\n",
       "      <td>S0019943</td>\n",
       "      <td>인천광역시</td>\n",
       "      <td>부평구</td>\n",
       "      <td>부평동</td>\n",
       "      <td>28237510</td>\n",
       "      <td>2.823732e+11</td>\n",
       "      <td>한식</td>\n",
       "      <td>31000</td>\n",
       "      <td>1</td>\n",
       "      <td>2020-06-21 22:53:03</td>\n",
       "      <td>2020</td>\n",
       "      <td>6</td>\n",
       "    </tr>\n",
       "    <tr>\n",
       "      <th>5158169</th>\n",
       "      <td>2020-06-21</td>\n",
       "      <td>S0043710</td>\n",
       "      <td>인천광역시</td>\n",
       "      <td>부평구</td>\n",
       "      <td>부개동</td>\n",
       "      <td>28237660</td>\n",
       "      <td>2.823732e+11</td>\n",
       "      <td>한식</td>\n",
       "      <td>30000</td>\n",
       "      <td>2</td>\n",
       "      <td>2020-06-21 23:29:45</td>\n",
       "      <td>2020</td>\n",
       "      <td>6</td>\n",
       "    </tr>\n",
       "    <tr>\n",
       "      <th>5158200</th>\n",
       "      <td>2020-06-21</td>\n",
       "      <td>S0019950</td>\n",
       "      <td>인천광역시</td>\n",
       "      <td>부평구</td>\n",
       "      <td>부평동</td>\n",
       "      <td>28237550</td>\n",
       "      <td>2.823732e+11</td>\n",
       "      <td>한식</td>\n",
       "      <td>25500</td>\n",
       "      <td>1</td>\n",
       "      <td>2020-06-21 22:52:26</td>\n",
       "      <td>2020</td>\n",
       "      <td>6</td>\n",
       "    </tr>\n",
       "    <tr>\n",
       "      <th>5158203</th>\n",
       "      <td>2020-06-21</td>\n",
       "      <td>S0040809</td>\n",
       "      <td>인천광역시</td>\n",
       "      <td>부평구</td>\n",
       "      <td>산곡동</td>\n",
       "      <td>28237581</td>\n",
       "      <td>2.823730e+11</td>\n",
       "      <td>치킨</td>\n",
       "      <td>19900</td>\n",
       "      <td>2</td>\n",
       "      <td>2020-06-21 23:10:49</td>\n",
       "      <td>2020</td>\n",
       "      <td>6</td>\n",
       "    </tr>\n",
       "    <tr>\n",
       "      <th>5158240</th>\n",
       "      <td>2020-06-21</td>\n",
       "      <td>S0043678</td>\n",
       "      <td>인천광역시</td>\n",
       "      <td>부평구</td>\n",
       "      <td>삼산동</td>\n",
       "      <td>28237648</td>\n",
       "      <td>2.823732e+11</td>\n",
       "      <td>치킨</td>\n",
       "      <td>23900</td>\n",
       "      <td>1</td>\n",
       "      <td>2020-06-21 23:29:12</td>\n",
       "      <td>2020</td>\n",
       "      <td>6</td>\n",
       "    </tr>\n",
       "  </tbody>\n",
       "</table>\n",
       "<p>3664674 rows × 13 columns</p>\n",
       "</div>"
      ],
      "text/plain": [
       "        PROCESS_DT DLVR_STORE_ID si_name  gu_name dong_name adstrd_code  \\\n",
       "3       2020-01-01      S0039634     경기도     의정부시      의정부동    41150510   \n",
       "4       2020-01-01      S0002237     경기도  고양시 덕양구       주교동    41281510   \n",
       "5       2020-01-01      S0001485     경기도      부천시       심곡동    41190603   \n",
       "7       2020-01-01      S0001037     경기도      부천시       송내동    41190746   \n",
       "9       2020-01-01      S0028777     경기도     의정부시       낙양동    41150578   \n",
       "...            ...           ...     ...      ...       ...         ...   \n",
       "5158158 2020-06-21      S0019943   인천광역시      부평구       부평동    28237510   \n",
       "5158169 2020-06-21      S0043710   인천광역시      부평구       부개동    28237660   \n",
       "5158200 2020-06-21      S0019950   인천광역시      부평구       부평동    28237550   \n",
       "5158203 2020-06-21      S0040809   인천광역시      부평구       산곡동    28237581   \n",
       "5158240 2020-06-21      S0043678   인천광역시      부평구       삼산동    28237648   \n",
       "\n",
       "         DLVR_DSTN_RDNMADR_CODE induty_nm  GOODS_AMOUNT  SETLE_KND_VALUE  \\\n",
       "3                  4.115043e+11        한식         20000                2   \n",
       "4                  4.128144e+11        한식         32000                2   \n",
       "5                  4.119030e+11     족발/보쌈         37000                1   \n",
       "7                  4.119044e+11        야식         28500                2   \n",
       "9                  4.115032e+11        야식         22000                1   \n",
       "...                         ...       ...           ...              ...   \n",
       "5158158            2.823732e+11        한식         31000                1   \n",
       "5158169            2.823732e+11        한식         30000                2   \n",
       "5158200            2.823732e+11        한식         25500                1   \n",
       "5158203            2.823730e+11        치킨         19900                2   \n",
       "5158240            2.823732e+11        치킨         23900                1   \n",
       "\n",
       "             DLVR_RCEPT_TIME  year  month  \n",
       "3        2020-01-01 01:01:34  2020      1  \n",
       "4        2020-01-01 01:05:06  2020      1  \n",
       "5        2020-01-01 00:59:31  2020      1  \n",
       "7        2020-01-01 00:09:40  2020      1  \n",
       "9        2020-01-01 00:10:34  2020      1  \n",
       "...                      ...   ...    ...  \n",
       "5158158  2020-06-21 22:53:03  2020      6  \n",
       "5158169  2020-06-21 23:29:45  2020      6  \n",
       "5158200  2020-06-21 22:52:26  2020      6  \n",
       "5158203  2020-06-21 23:10:49  2020      6  \n",
       "5158240  2020-06-21 23:29:12  2020      6  \n",
       "\n",
       "[3664674 rows x 13 columns]"
      ]
     },
     "execution_count": 15,
     "metadata": {},
     "output_type": "execute_result"
    }
   ],
   "source": [
    "# 그룹1 수도권 (서울특별시, 경기도, 인천광역시)\n",
    "is_kgd = del_dstn['si_name'] == '경기도'\n",
    "kgd = del_dstn[is_kgd]\n",
    "\n",
    "is_seoul = del_dstn['si_name'] == '서울특별시'\n",
    "seoul = del_dstn[is_seoul]\n",
    "\n",
    "is_inch = del_dstn['si_name'] == '인천광역시'\n",
    "inch = del_dstn[is_inch]\n",
    "\n",
    "gr1 = pd.concat([kgd, seoul, inch])\n",
    "gr1"
   ]
  },
  {
   "cell_type": "code",
   "execution_count": 16,
   "metadata": {},
   "outputs": [
    {
     "data": {
      "text/html": [
       "<div>\n",
       "<style scoped>\n",
       "    .dataframe tbody tr th:only-of-type {\n",
       "        vertical-align: middle;\n",
       "    }\n",
       "\n",
       "    .dataframe tbody tr th {\n",
       "        vertical-align: top;\n",
       "    }\n",
       "\n",
       "    .dataframe thead th {\n",
       "        text-align: right;\n",
       "    }\n",
       "</style>\n",
       "<table border=\"1\" class=\"dataframe\">\n",
       "  <thead>\n",
       "    <tr style=\"text-align: right;\">\n",
       "      <th></th>\n",
       "      <th>PROCESS_DT</th>\n",
       "      <th>DLVR_STORE_ID</th>\n",
       "      <th>si_name</th>\n",
       "      <th>gu_name</th>\n",
       "      <th>dong_name</th>\n",
       "      <th>adstrd_code</th>\n",
       "      <th>DLVR_DSTN_RDNMADR_CODE</th>\n",
       "      <th>induty_nm</th>\n",
       "      <th>GOODS_AMOUNT</th>\n",
       "      <th>SETLE_KND_VALUE</th>\n",
       "      <th>DLVR_RCEPT_TIME</th>\n",
       "      <th>year</th>\n",
       "      <th>month</th>\n",
       "    </tr>\n",
       "  </thead>\n",
       "  <tbody>\n",
       "    <tr>\n",
       "      <th>0</th>\n",
       "      <td>2020-01-01</td>\n",
       "      <td>S0032342</td>\n",
       "      <td>경상남도</td>\n",
       "      <td>창원시 마산회원구</td>\n",
       "      <td>석전동</td>\n",
       "      <td>48127545</td>\n",
       "      <td>4.812748e+11</td>\n",
       "      <td>치킨</td>\n",
       "      <td>25000</td>\n",
       "      <td>1</td>\n",
       "      <td>2020-01-01 00:15:49</td>\n",
       "      <td>2020</td>\n",
       "      <td>1</td>\n",
       "    </tr>\n",
       "    <tr>\n",
       "      <th>34</th>\n",
       "      <td>2020-01-01</td>\n",
       "      <td>S0021051</td>\n",
       "      <td>경상남도</td>\n",
       "      <td>진주시</td>\n",
       "      <td>초전동</td>\n",
       "      <td>48170695</td>\n",
       "      <td>4.817033e+11</td>\n",
       "      <td>족발/보쌈</td>\n",
       "      <td>28000</td>\n",
       "      <td>1</td>\n",
       "      <td>2020-01-01 00:53:31</td>\n",
       "      <td>2020</td>\n",
       "      <td>1</td>\n",
       "    </tr>\n",
       "    <tr>\n",
       "      <th>56</th>\n",
       "      <td>2020-01-01</td>\n",
       "      <td>S0019888</td>\n",
       "      <td>경상남도</td>\n",
       "      <td>진주시</td>\n",
       "      <td>상봉동</td>\n",
       "      <td>48170595</td>\n",
       "      <td>4.817048e+11</td>\n",
       "      <td>치킨</td>\n",
       "      <td>23000</td>\n",
       "      <td>3</td>\n",
       "      <td>2020-01-01 00:15:13</td>\n",
       "      <td>2020</td>\n",
       "      <td>1</td>\n",
       "    </tr>\n",
       "    <tr>\n",
       "      <th>75</th>\n",
       "      <td>2020-01-01</td>\n",
       "      <td>S0021495</td>\n",
       "      <td>경상남도</td>\n",
       "      <td>진주시</td>\n",
       "      <td>상봉동</td>\n",
       "      <td>48170595</td>\n",
       "      <td>4.817033e+11</td>\n",
       "      <td>치킨</td>\n",
       "      <td>23400</td>\n",
       "      <td>2</td>\n",
       "      <td>2020-01-01 00:52:05</td>\n",
       "      <td>2020</td>\n",
       "      <td>1</td>\n",
       "    </tr>\n",
       "    <tr>\n",
       "      <th>79</th>\n",
       "      <td>2020-01-01</td>\n",
       "      <td>S0019862</td>\n",
       "      <td>경상남도</td>\n",
       "      <td>진주시</td>\n",
       "      <td>신안동</td>\n",
       "      <td>48170715</td>\n",
       "      <td>4.817048e+11</td>\n",
       "      <td>피자</td>\n",
       "      <td>17000</td>\n",
       "      <td>2</td>\n",
       "      <td>2020-01-01 00:27:04</td>\n",
       "      <td>2020</td>\n",
       "      <td>1</td>\n",
       "    </tr>\n",
       "    <tr>\n",
       "      <th>...</th>\n",
       "      <td>...</td>\n",
       "      <td>...</td>\n",
       "      <td>...</td>\n",
       "      <td>...</td>\n",
       "      <td>...</td>\n",
       "      <td>...</td>\n",
       "      <td>...</td>\n",
       "      <td>...</td>\n",
       "      <td>...</td>\n",
       "      <td>...</td>\n",
       "      <td>...</td>\n",
       "      <td>...</td>\n",
       "      <td>...</td>\n",
       "    </tr>\n",
       "    <tr>\n",
       "      <th>5157393</th>\n",
       "      <td>2020-06-21</td>\n",
       "      <td>S0023340</td>\n",
       "      <td>부산광역시</td>\n",
       "      <td>강서구</td>\n",
       "      <td>명지동</td>\n",
       "      <td>26440535</td>\n",
       "      <td>2.644034e+11</td>\n",
       "      <td>치킨</td>\n",
       "      <td>18000</td>\n",
       "      <td>1</td>\n",
       "      <td>2020-06-21 23:36:35</td>\n",
       "      <td>2020</td>\n",
       "      <td>6</td>\n",
       "    </tr>\n",
       "    <tr>\n",
       "      <th>5157771</th>\n",
       "      <td>2020-06-21</td>\n",
       "      <td>S0035510</td>\n",
       "      <td>부산광역시</td>\n",
       "      <td>강서구</td>\n",
       "      <td>명지동</td>\n",
       "      <td>26440545</td>\n",
       "      <td>2.644031e+11</td>\n",
       "      <td>치킨</td>\n",
       "      <td>18900</td>\n",
       "      <td>1</td>\n",
       "      <td>2020-06-21 23:26:55</td>\n",
       "      <td>2020</td>\n",
       "      <td>6</td>\n",
       "    </tr>\n",
       "    <tr>\n",
       "      <th>5157805</th>\n",
       "      <td>2020-06-21</td>\n",
       "      <td>S0023340</td>\n",
       "      <td>부산광역시</td>\n",
       "      <td>강서구</td>\n",
       "      <td>명지동</td>\n",
       "      <td>26440535</td>\n",
       "      <td>2.644034e+11</td>\n",
       "      <td>치킨</td>\n",
       "      <td>20000</td>\n",
       "      <td>2</td>\n",
       "      <td>2020-06-21 23:17:10</td>\n",
       "      <td>2020</td>\n",
       "      <td>6</td>\n",
       "    </tr>\n",
       "    <tr>\n",
       "      <th>5158112</th>\n",
       "      <td>2020-06-21</td>\n",
       "      <td>S0023340</td>\n",
       "      <td>부산광역시</td>\n",
       "      <td>강서구</td>\n",
       "      <td>신호동</td>\n",
       "      <td>26440560</td>\n",
       "      <td>2.644031e+11</td>\n",
       "      <td>치킨</td>\n",
       "      <td>20000</td>\n",
       "      <td>1</td>\n",
       "      <td>2020-06-21 23:13:10</td>\n",
       "      <td>2020</td>\n",
       "      <td>6</td>\n",
       "    </tr>\n",
       "    <tr>\n",
       "      <th>5158127</th>\n",
       "      <td>2020-06-21</td>\n",
       "      <td>S0023340</td>\n",
       "      <td>부산광역시</td>\n",
       "      <td>강서구</td>\n",
       "      <td>명지동</td>\n",
       "      <td>26440535</td>\n",
       "      <td>2.644034e+11</td>\n",
       "      <td>치킨</td>\n",
       "      <td>20500</td>\n",
       "      <td>2</td>\n",
       "      <td>2020-06-21 23:29:26</td>\n",
       "      <td>2020</td>\n",
       "      <td>6</td>\n",
       "    </tr>\n",
       "  </tbody>\n",
       "</table>\n",
       "<p>534258 rows × 13 columns</p>\n",
       "</div>"
      ],
      "text/plain": [
       "        PROCESS_DT DLVR_STORE_ID si_name    gu_name dong_name adstrd_code  \\\n",
       "0       2020-01-01      S0032342    경상남도  창원시 마산회원구       석전동    48127545   \n",
       "34      2020-01-01      S0021051    경상남도        진주시       초전동    48170695   \n",
       "56      2020-01-01      S0019888    경상남도        진주시       상봉동    48170595   \n",
       "75      2020-01-01      S0021495    경상남도        진주시       상봉동    48170595   \n",
       "79      2020-01-01      S0019862    경상남도        진주시       신안동    48170715   \n",
       "...            ...           ...     ...        ...       ...         ...   \n",
       "5157393 2020-06-21      S0023340   부산광역시        강서구       명지동    26440535   \n",
       "5157771 2020-06-21      S0035510   부산광역시        강서구       명지동    26440545   \n",
       "5157805 2020-06-21      S0023340   부산광역시        강서구       명지동    26440535   \n",
       "5158112 2020-06-21      S0023340   부산광역시        강서구       신호동    26440560   \n",
       "5158127 2020-06-21      S0023340   부산광역시        강서구       명지동    26440535   \n",
       "\n",
       "         DLVR_DSTN_RDNMADR_CODE induty_nm  GOODS_AMOUNT  SETLE_KND_VALUE  \\\n",
       "0                  4.812748e+11        치킨         25000                1   \n",
       "34                 4.817033e+11     족발/보쌈         28000                1   \n",
       "56                 4.817048e+11        치킨         23000                3   \n",
       "75                 4.817033e+11        치킨         23400                2   \n",
       "79                 4.817048e+11        피자         17000                2   \n",
       "...                         ...       ...           ...              ...   \n",
       "5157393            2.644034e+11        치킨         18000                1   \n",
       "5157771            2.644031e+11        치킨         18900                1   \n",
       "5157805            2.644034e+11        치킨         20000                2   \n",
       "5158112            2.644031e+11        치킨         20000                1   \n",
       "5158127            2.644034e+11        치킨         20500                2   \n",
       "\n",
       "             DLVR_RCEPT_TIME  year  month  \n",
       "0        2020-01-01 00:15:49  2020      1  \n",
       "34       2020-01-01 00:53:31  2020      1  \n",
       "56       2020-01-01 00:15:13  2020      1  \n",
       "75       2020-01-01 00:52:05  2020      1  \n",
       "79       2020-01-01 00:27:04  2020      1  \n",
       "...                      ...   ...    ...  \n",
       "5157393  2020-06-21 23:36:35  2020      6  \n",
       "5157771  2020-06-21 23:26:55  2020      6  \n",
       "5157805  2020-06-21 23:17:10  2020      6  \n",
       "5158112  2020-06-21 23:13:10  2020      6  \n",
       "5158127  2020-06-21 23:29:26  2020      6  \n",
       "\n",
       "[534258 rows x 13 columns]"
      ]
     },
     "execution_count": 16,
     "metadata": {},
     "output_type": "execute_result"
    }
   ],
   "source": [
    "# 그룹2 동남권 (경상남도/경상북도/대구광역시/부산광역시)\n",
    "is_kn = del_dstn['si_name'] == '경상남도'\n",
    "kn= del_dstn[is_kn]\n",
    "\n",
    "is_kb = del_dstn['si_name'] == '경상북도'\n",
    "kb = del_dstn[is_kb]\n",
    "\n",
    "is_dk = del_dstn['si_name'] == '대구광역시'\n",
    "dk = del_dstn[is_dk]\n",
    "\n",
    "is_bs = del_dstn['si_name'] == '부산광역시'\n",
    "bs = del_dstn[is_bs]\n",
    "\n",
    "gr2 = pd.concat([kn, kb, dk, bs])\n",
    "gr2"
   ]
  },
  {
   "cell_type": "code",
   "execution_count": 17,
   "metadata": {},
   "outputs": [
    {
     "data": {
      "text/html": [
       "<div>\n",
       "<style scoped>\n",
       "    .dataframe tbody tr th:only-of-type {\n",
       "        vertical-align: middle;\n",
       "    }\n",
       "\n",
       "    .dataframe tbody tr th {\n",
       "        vertical-align: top;\n",
       "    }\n",
       "\n",
       "    .dataframe thead th {\n",
       "        text-align: right;\n",
       "    }\n",
       "</style>\n",
       "<table border=\"1\" class=\"dataframe\">\n",
       "  <thead>\n",
       "    <tr style=\"text-align: right;\">\n",
       "      <th></th>\n",
       "      <th>PROCESS_DT</th>\n",
       "      <th>DLVR_STORE_ID</th>\n",
       "      <th>si_name</th>\n",
       "      <th>gu_name</th>\n",
       "      <th>dong_name</th>\n",
       "      <th>adstrd_code</th>\n",
       "      <th>DLVR_DSTN_RDNMADR_CODE</th>\n",
       "      <th>induty_nm</th>\n",
       "      <th>GOODS_AMOUNT</th>\n",
       "      <th>SETLE_KND_VALUE</th>\n",
       "      <th>DLVR_RCEPT_TIME</th>\n",
       "      <th>year</th>\n",
       "      <th>month</th>\n",
       "    </tr>\n",
       "  </thead>\n",
       "  <tbody>\n",
       "    <tr>\n",
       "      <th>11</th>\n",
       "      <td>2020-01-01</td>\n",
       "      <td>S0025712</td>\n",
       "      <td>전라남도</td>\n",
       "      <td>광양시</td>\n",
       "      <td>광양읍</td>\n",
       "      <td>46230250</td>\n",
       "      <td>4.623047e+11</td>\n",
       "      <td>치킨</td>\n",
       "      <td>19000</td>\n",
       "      <td>1</td>\n",
       "      <td>2020-01-01 00:10:00</td>\n",
       "      <td>2020</td>\n",
       "      <td>1</td>\n",
       "    </tr>\n",
       "    <tr>\n",
       "      <th>126</th>\n",
       "      <td>2020-01-01</td>\n",
       "      <td>S0035234</td>\n",
       "      <td>전라남도</td>\n",
       "      <td>순천시</td>\n",
       "      <td>덕암동</td>\n",
       "      <td>46150570</td>\n",
       "      <td>4.615033e+11</td>\n",
       "      <td>치킨</td>\n",
       "      <td>1000</td>\n",
       "      <td>3</td>\n",
       "      <td>2020-01-01 00:13:58</td>\n",
       "      <td>2020</td>\n",
       "      <td>1</td>\n",
       "    </tr>\n",
       "    <tr>\n",
       "      <th>292</th>\n",
       "      <td>2020-01-01</td>\n",
       "      <td>S0035234</td>\n",
       "      <td>전라남도</td>\n",
       "      <td>순천시</td>\n",
       "      <td>조례동</td>\n",
       "      <td>46150665</td>\n",
       "      <td>4.615046e+11</td>\n",
       "      <td>치킨</td>\n",
       "      <td>20000</td>\n",
       "      <td>1</td>\n",
       "      <td>2020-01-01 00:03:38</td>\n",
       "      <td>2020</td>\n",
       "      <td>1</td>\n",
       "    </tr>\n",
       "    <tr>\n",
       "      <th>444</th>\n",
       "      <td>2020-01-01</td>\n",
       "      <td>S0042041</td>\n",
       "      <td>전라남도</td>\n",
       "      <td>광양시</td>\n",
       "      <td>광양읍</td>\n",
       "      <td>46230250</td>\n",
       "      <td>4.623047e+11</td>\n",
       "      <td>치킨</td>\n",
       "      <td>18000</td>\n",
       "      <td>1</td>\n",
       "      <td>2020-01-01 00:25:33</td>\n",
       "      <td>2020</td>\n",
       "      <td>1</td>\n",
       "    </tr>\n",
       "    <tr>\n",
       "      <th>541</th>\n",
       "      <td>2020-01-01</td>\n",
       "      <td>S0023484</td>\n",
       "      <td>전라남도</td>\n",
       "      <td>순천시</td>\n",
       "      <td>조례동</td>\n",
       "      <td>46150661</td>\n",
       "      <td>4.615046e+11</td>\n",
       "      <td>족발/보쌈</td>\n",
       "      <td>24000</td>\n",
       "      <td>2</td>\n",
       "      <td>2020-01-01 00:20:07</td>\n",
       "      <td>2020</td>\n",
       "      <td>1</td>\n",
       "    </tr>\n",
       "    <tr>\n",
       "      <th>...</th>\n",
       "      <td>...</td>\n",
       "      <td>...</td>\n",
       "      <td>...</td>\n",
       "      <td>...</td>\n",
       "      <td>...</td>\n",
       "      <td>...</td>\n",
       "      <td>...</td>\n",
       "      <td>...</td>\n",
       "      <td>...</td>\n",
       "      <td>...</td>\n",
       "      <td>...</td>\n",
       "      <td>...</td>\n",
       "      <td>...</td>\n",
       "    </tr>\n",
       "    <tr>\n",
       "      <th>5157779</th>\n",
       "      <td>2020-06-21</td>\n",
       "      <td>S0044052</td>\n",
       "      <td>광주광역시</td>\n",
       "      <td>북구</td>\n",
       "      <td>용두동</td>\n",
       "      <td>29170695</td>\n",
       "      <td>2.917043e+11</td>\n",
       "      <td>치킨</td>\n",
       "      <td>25800</td>\n",
       "      <td>2</td>\n",
       "      <td>2020-06-21 22:54:18</td>\n",
       "      <td>2020</td>\n",
       "      <td>6</td>\n",
       "    </tr>\n",
       "    <tr>\n",
       "      <th>5157989</th>\n",
       "      <td>2020-06-21</td>\n",
       "      <td>S0044052</td>\n",
       "      <td>광주광역시</td>\n",
       "      <td>북구</td>\n",
       "      <td>용두동</td>\n",
       "      <td>29170695</td>\n",
       "      <td>2.917032e+11</td>\n",
       "      <td>치킨</td>\n",
       "      <td>20900</td>\n",
       "      <td>1</td>\n",
       "      <td>2020-06-21 22:54:14</td>\n",
       "      <td>2020</td>\n",
       "      <td>6</td>\n",
       "    </tr>\n",
       "    <tr>\n",
       "      <th>5158183</th>\n",
       "      <td>2020-06-21</td>\n",
       "      <td>S0035224</td>\n",
       "      <td>광주광역시</td>\n",
       "      <td>북구</td>\n",
       "      <td>연제동</td>\n",
       "      <td>29170696</td>\n",
       "      <td>2.917032e+11</td>\n",
       "      <td>치킨</td>\n",
       "      <td>19000</td>\n",
       "      <td>2</td>\n",
       "      <td>2020-06-21 23:00:05</td>\n",
       "      <td>2020</td>\n",
       "      <td>6</td>\n",
       "    </tr>\n",
       "    <tr>\n",
       "      <th>5158211</th>\n",
       "      <td>2020-06-21</td>\n",
       "      <td>S0044052</td>\n",
       "      <td>광주광역시</td>\n",
       "      <td>북구</td>\n",
       "      <td>양산동</td>\n",
       "      <td>29170696</td>\n",
       "      <td>2.917043e+11</td>\n",
       "      <td>치킨</td>\n",
       "      <td>19900</td>\n",
       "      <td>1</td>\n",
       "      <td>2020-06-21 23:28:13</td>\n",
       "      <td>2020</td>\n",
       "      <td>6</td>\n",
       "    </tr>\n",
       "    <tr>\n",
       "      <th>5158273</th>\n",
       "      <td>2020-06-21</td>\n",
       "      <td>S0035224</td>\n",
       "      <td>광주광역시</td>\n",
       "      <td>북구</td>\n",
       "      <td>신용동</td>\n",
       "      <td>29170695</td>\n",
       "      <td>2.917032e+11</td>\n",
       "      <td>치킨</td>\n",
       "      <td>26000</td>\n",
       "      <td>2</td>\n",
       "      <td>2020-06-21 23:16:46</td>\n",
       "      <td>2020</td>\n",
       "      <td>6</td>\n",
       "    </tr>\n",
       "  </tbody>\n",
       "</table>\n",
       "<p>169312 rows × 13 columns</p>\n",
       "</div>"
      ],
      "text/plain": [
       "        PROCESS_DT DLVR_STORE_ID si_name gu_name dong_name adstrd_code  \\\n",
       "11      2020-01-01      S0025712    전라남도     광양시       광양읍    46230250   \n",
       "126     2020-01-01      S0035234    전라남도     순천시       덕암동    46150570   \n",
       "292     2020-01-01      S0035234    전라남도     순천시       조례동    46150665   \n",
       "444     2020-01-01      S0042041    전라남도     광양시       광양읍    46230250   \n",
       "541     2020-01-01      S0023484    전라남도     순천시       조례동    46150661   \n",
       "...            ...           ...     ...     ...       ...         ...   \n",
       "5157779 2020-06-21      S0044052   광주광역시      북구       용두동    29170695   \n",
       "5157989 2020-06-21      S0044052   광주광역시      북구       용두동    29170695   \n",
       "5158183 2020-06-21      S0035224   광주광역시      북구       연제동    29170696   \n",
       "5158211 2020-06-21      S0044052   광주광역시      북구       양산동    29170696   \n",
       "5158273 2020-06-21      S0035224   광주광역시      북구       신용동    29170695   \n",
       "\n",
       "         DLVR_DSTN_RDNMADR_CODE induty_nm  GOODS_AMOUNT  SETLE_KND_VALUE  \\\n",
       "11                 4.623047e+11        치킨         19000                1   \n",
       "126                4.615033e+11        치킨          1000                3   \n",
       "292                4.615046e+11        치킨         20000                1   \n",
       "444                4.623047e+11        치킨         18000                1   \n",
       "541                4.615046e+11     족발/보쌈         24000                2   \n",
       "...                         ...       ...           ...              ...   \n",
       "5157779            2.917043e+11        치킨         25800                2   \n",
       "5157989            2.917032e+11        치킨         20900                1   \n",
       "5158183            2.917032e+11        치킨         19000                2   \n",
       "5158211            2.917043e+11        치킨         19900                1   \n",
       "5158273            2.917032e+11        치킨         26000                2   \n",
       "\n",
       "             DLVR_RCEPT_TIME  year  month  \n",
       "11       2020-01-01 00:10:00  2020      1  \n",
       "126      2020-01-01 00:13:58  2020      1  \n",
       "292      2020-01-01 00:03:38  2020      1  \n",
       "444      2020-01-01 00:25:33  2020      1  \n",
       "541      2020-01-01 00:20:07  2020      1  \n",
       "...                      ...   ...    ...  \n",
       "5157779  2020-06-21 22:54:18  2020      6  \n",
       "5157989  2020-06-21 22:54:14  2020      6  \n",
       "5158183  2020-06-21 23:00:05  2020      6  \n",
       "5158211  2020-06-21 23:28:13  2020      6  \n",
       "5158273  2020-06-21 23:16:46  2020      6  \n",
       "\n",
       "[169312 rows x 13 columns]"
      ]
     },
     "execution_count": 17,
     "metadata": {},
     "output_type": "execute_result"
    }
   ],
   "source": [
    "# 그룹3 호남권 (전라남도/전라북도/광주광역시)\n",
    "is_jn = del_dstn['si_name'] == '전라남도'\n",
    "jn = del_dstn[is_jn]\n",
    "\n",
    "is_jb = del_dstn['si_name'] == '전라북도'\n",
    "jb = del_dstn[is_jb]\n",
    "\n",
    "is_kj = del_dstn['si_name'] == '광주광역시'\n",
    "kj = del_dstn[is_kj]\n",
    "\n",
    "\n",
    "gr3 = pd.concat([jn, jb, kj])\n",
    "gr3"
   ]
  },
  {
   "cell_type": "code",
   "execution_count": 18,
   "metadata": {},
   "outputs": [
    {
     "data": {
      "text/html": [
       "<div>\n",
       "<style scoped>\n",
       "    .dataframe tbody tr th:only-of-type {\n",
       "        vertical-align: middle;\n",
       "    }\n",
       "\n",
       "    .dataframe tbody tr th {\n",
       "        vertical-align: top;\n",
       "    }\n",
       "\n",
       "    .dataframe thead th {\n",
       "        text-align: right;\n",
       "    }\n",
       "</style>\n",
       "<table border=\"1\" class=\"dataframe\">\n",
       "  <thead>\n",
       "    <tr style=\"text-align: right;\">\n",
       "      <th></th>\n",
       "      <th>PROCESS_DT</th>\n",
       "      <th>DLVR_STORE_ID</th>\n",
       "      <th>si_name</th>\n",
       "      <th>gu_name</th>\n",
       "      <th>dong_name</th>\n",
       "      <th>adstrd_code</th>\n",
       "      <th>DLVR_DSTN_RDNMADR_CODE</th>\n",
       "      <th>induty_nm</th>\n",
       "      <th>GOODS_AMOUNT</th>\n",
       "      <th>SETLE_KND_VALUE</th>\n",
       "      <th>DLVR_RCEPT_TIME</th>\n",
       "      <th>year</th>\n",
       "      <th>month</th>\n",
       "    </tr>\n",
       "  </thead>\n",
       "  <tbody>\n",
       "    <tr>\n",
       "      <th>17</th>\n",
       "      <td>2020-01-01</td>\n",
       "      <td>S0028315</td>\n",
       "      <td>충청남도</td>\n",
       "      <td>서산시</td>\n",
       "      <td>예천동</td>\n",
       "      <td>44210550</td>\n",
       "      <td>4.421033e+11</td>\n",
       "      <td>한식</td>\n",
       "      <td>30500</td>\n",
       "      <td>3</td>\n",
       "      <td>2020-01-01 00:32:04</td>\n",
       "      <td>2020</td>\n",
       "      <td>1</td>\n",
       "    </tr>\n",
       "    <tr>\n",
       "      <th>96</th>\n",
       "      <td>2020-01-01</td>\n",
       "      <td>S0039688</td>\n",
       "      <td>충청남도</td>\n",
       "      <td>서산시</td>\n",
       "      <td>읍내동</td>\n",
       "      <td>44210510</td>\n",
       "      <td>4.421033e+11</td>\n",
       "      <td>중식</td>\n",
       "      <td>45000</td>\n",
       "      <td>3</td>\n",
       "      <td>2020-01-01 00:12:16</td>\n",
       "      <td>2020</td>\n",
       "      <td>1</td>\n",
       "    </tr>\n",
       "    <tr>\n",
       "      <th>185</th>\n",
       "      <td>2020-01-01</td>\n",
       "      <td>S0037292</td>\n",
       "      <td>충청남도</td>\n",
       "      <td>서산시</td>\n",
       "      <td>동문동</td>\n",
       "      <td>44210525</td>\n",
       "      <td>4.421033e+11</td>\n",
       "      <td>분식</td>\n",
       "      <td>32000</td>\n",
       "      <td>3</td>\n",
       "      <td>2020-01-01 00:43:17</td>\n",
       "      <td>2020</td>\n",
       "      <td>1</td>\n",
       "    </tr>\n",
       "    <tr>\n",
       "      <th>229</th>\n",
       "      <td>2020-01-01</td>\n",
       "      <td>S0040937</td>\n",
       "      <td>충청남도</td>\n",
       "      <td>서산시</td>\n",
       "      <td>읍내동</td>\n",
       "      <td>44210510</td>\n",
       "      <td>4.421033e+11</td>\n",
       "      <td>피자</td>\n",
       "      <td>20000</td>\n",
       "      <td>2</td>\n",
       "      <td>2020-01-01 00:02:41</td>\n",
       "      <td>2020</td>\n",
       "      <td>1</td>\n",
       "    </tr>\n",
       "    <tr>\n",
       "      <th>353</th>\n",
       "      <td>2020-01-01</td>\n",
       "      <td>S0022911</td>\n",
       "      <td>충청남도</td>\n",
       "      <td>서산시</td>\n",
       "      <td>석림동</td>\n",
       "      <td>44210540</td>\n",
       "      <td>NaN</td>\n",
       "      <td>족발/보쌈</td>\n",
       "      <td>32000</td>\n",
       "      <td>1</td>\n",
       "      <td>2020-01-01 00:43:26</td>\n",
       "      <td>2020</td>\n",
       "      <td>1</td>\n",
       "    </tr>\n",
       "    <tr>\n",
       "      <th>...</th>\n",
       "      <td>...</td>\n",
       "      <td>...</td>\n",
       "      <td>...</td>\n",
       "      <td>...</td>\n",
       "      <td>...</td>\n",
       "      <td>...</td>\n",
       "      <td>...</td>\n",
       "      <td>...</td>\n",
       "      <td>...</td>\n",
       "      <td>...</td>\n",
       "      <td>...</td>\n",
       "      <td>...</td>\n",
       "      <td>...</td>\n",
       "    </tr>\n",
       "    <tr>\n",
       "      <th>5158130</th>\n",
       "      <td>2020-06-21</td>\n",
       "      <td>S0040126</td>\n",
       "      <td>대전광역시</td>\n",
       "      <td>동구</td>\n",
       "      <td>효동</td>\n",
       "      <td>30110530</td>\n",
       "      <td>3.011030e+11</td>\n",
       "      <td>치킨</td>\n",
       "      <td>28300</td>\n",
       "      <td>2</td>\n",
       "      <td>2020-06-21 22:55:52</td>\n",
       "      <td>2020</td>\n",
       "      <td>6</td>\n",
       "    </tr>\n",
       "    <tr>\n",
       "      <th>5158186</th>\n",
       "      <td>2020-06-21</td>\n",
       "      <td>S0031671</td>\n",
       "      <td>대전광역시</td>\n",
       "      <td>서구</td>\n",
       "      <td>월평동</td>\n",
       "      <td>30170587</td>\n",
       "      <td>3.017032e+11</td>\n",
       "      <td>아시안/양식</td>\n",
       "      <td>12900</td>\n",
       "      <td>2</td>\n",
       "      <td>2020-06-21 22:54:57</td>\n",
       "      <td>2020</td>\n",
       "      <td>6</td>\n",
       "    </tr>\n",
       "    <tr>\n",
       "      <th>5158215</th>\n",
       "      <td>2020-06-21</td>\n",
       "      <td>S0003081</td>\n",
       "      <td>대전광역시</td>\n",
       "      <td>동구</td>\n",
       "      <td>홍도동</td>\n",
       "      <td>30110670</td>\n",
       "      <td>3.011030e+11</td>\n",
       "      <td>치킨</td>\n",
       "      <td>22500</td>\n",
       "      <td>2</td>\n",
       "      <td>2020-06-21 23:32:16</td>\n",
       "      <td>2020</td>\n",
       "      <td>6</td>\n",
       "    </tr>\n",
       "    <tr>\n",
       "      <th>5158220</th>\n",
       "      <td>2020-06-21</td>\n",
       "      <td>S0003081</td>\n",
       "      <td>대전광역시</td>\n",
       "      <td>동구</td>\n",
       "      <td>홍도동</td>\n",
       "      <td>30110670</td>\n",
       "      <td>3.011043e+11</td>\n",
       "      <td>치킨</td>\n",
       "      <td>21500</td>\n",
       "      <td>2</td>\n",
       "      <td>2020-06-21 23:55:21</td>\n",
       "      <td>2020</td>\n",
       "      <td>6</td>\n",
       "    </tr>\n",
       "    <tr>\n",
       "      <th>5158289</th>\n",
       "      <td>2020-06-21</td>\n",
       "      <td>S0026134</td>\n",
       "      <td>대전광역시</td>\n",
       "      <td>동구</td>\n",
       "      <td>가양동</td>\n",
       "      <td>30110620</td>\n",
       "      <td>3.011043e+11</td>\n",
       "      <td>한식</td>\n",
       "      <td>15900</td>\n",
       "      <td>2</td>\n",
       "      <td>2020-06-21 23:12:42</td>\n",
       "      <td>2020</td>\n",
       "      <td>6</td>\n",
       "    </tr>\n",
       "  </tbody>\n",
       "</table>\n",
       "<p>326491 rows × 13 columns</p>\n",
       "</div>"
      ],
      "text/plain": [
       "        PROCESS_DT DLVR_STORE_ID si_name gu_name dong_name adstrd_code  \\\n",
       "17      2020-01-01      S0028315    충청남도     서산시       예천동    44210550   \n",
       "96      2020-01-01      S0039688    충청남도     서산시       읍내동    44210510   \n",
       "185     2020-01-01      S0037292    충청남도     서산시       동문동    44210525   \n",
       "229     2020-01-01      S0040937    충청남도     서산시       읍내동    44210510   \n",
       "353     2020-01-01      S0022911    충청남도     서산시       석림동    44210540   \n",
       "...            ...           ...     ...     ...       ...         ...   \n",
       "5158130 2020-06-21      S0040126   대전광역시      동구        효동    30110530   \n",
       "5158186 2020-06-21      S0031671   대전광역시      서구       월평동    30170587   \n",
       "5158215 2020-06-21      S0003081   대전광역시      동구       홍도동    30110670   \n",
       "5158220 2020-06-21      S0003081   대전광역시      동구       홍도동    30110670   \n",
       "5158289 2020-06-21      S0026134   대전광역시      동구       가양동    30110620   \n",
       "\n",
       "         DLVR_DSTN_RDNMADR_CODE induty_nm  GOODS_AMOUNT  SETLE_KND_VALUE  \\\n",
       "17                 4.421033e+11        한식         30500                3   \n",
       "96                 4.421033e+11        중식         45000                3   \n",
       "185                4.421033e+11        분식         32000                3   \n",
       "229                4.421033e+11        피자         20000                2   \n",
       "353                         NaN     족발/보쌈         32000                1   \n",
       "...                         ...       ...           ...              ...   \n",
       "5158130            3.011030e+11        치킨         28300                2   \n",
       "5158186            3.017032e+11    아시안/양식         12900                2   \n",
       "5158215            3.011030e+11        치킨         22500                2   \n",
       "5158220            3.011043e+11        치킨         21500                2   \n",
       "5158289            3.011043e+11        한식         15900                2   \n",
       "\n",
       "             DLVR_RCEPT_TIME  year  month  \n",
       "17       2020-01-01 00:32:04  2020      1  \n",
       "96       2020-01-01 00:12:16  2020      1  \n",
       "185      2020-01-01 00:43:17  2020      1  \n",
       "229      2020-01-01 00:02:41  2020      1  \n",
       "353      2020-01-01 00:43:26  2020      1  \n",
       "...                      ...   ...    ...  \n",
       "5158130  2020-06-21 22:55:52  2020      6  \n",
       "5158186  2020-06-21 22:54:57  2020      6  \n",
       "5158215  2020-06-21 23:32:16  2020      6  \n",
       "5158220  2020-06-21 23:55:21  2020      6  \n",
       "5158289  2020-06-21 23:12:42  2020      6  \n",
       "\n",
       "[326491 rows x 13 columns]"
      ]
     },
     "execution_count": 18,
     "metadata": {},
     "output_type": "execute_result"
    }
   ],
   "source": [
    "# 그룹4 호서권 (충청남도/충청북도/대전광역시)\n",
    "is_cn = del_dstn['si_name'] == '충청남도'\n",
    "cn = del_dstn[is_cn]\n",
    "\n",
    "is_cb = del_dstn['si_name'] == '충청북도'\n",
    "cb = del_dstn[is_cb]\n",
    "\n",
    "is_djj = del_dstn['si_name'] == '대전광역시'\n",
    "djj = del_dstn[is_djj]\n",
    "\n",
    "\n",
    "gr4 = pd.concat([cn, cb, djj])\n",
    "gr4\n"
   ]
  },
  {
   "cell_type": "code",
   "execution_count": 19,
   "metadata": {},
   "outputs": [
    {
     "data": {
      "text/html": [
       "<div>\n",
       "<style scoped>\n",
       "    .dataframe tbody tr th:only-of-type {\n",
       "        vertical-align: middle;\n",
       "    }\n",
       "\n",
       "    .dataframe tbody tr th {\n",
       "        vertical-align: top;\n",
       "    }\n",
       "\n",
       "    .dataframe thead th {\n",
       "        text-align: right;\n",
       "    }\n",
       "</style>\n",
       "<table border=\"1\" class=\"dataframe\">\n",
       "  <thead>\n",
       "    <tr style=\"text-align: right;\">\n",
       "      <th></th>\n",
       "      <th>induty_nm</th>\n",
       "      <th>count</th>\n",
       "    </tr>\n",
       "  </thead>\n",
       "  <tbody>\n",
       "    <tr>\n",
       "      <th>10</th>\n",
       "      <td>치킨</td>\n",
       "      <td>814691</td>\n",
       "    </tr>\n",
       "    <tr>\n",
       "      <th>14</th>\n",
       "      <td>한식</td>\n",
       "      <td>464390</td>\n",
       "    </tr>\n",
       "    <tr>\n",
       "      <th>3</th>\n",
       "      <td>분식</td>\n",
       "      <td>424765</td>\n",
       "    </tr>\n",
       "    <tr>\n",
       "      <th>11</th>\n",
       "      <td>카페/디저트</td>\n",
       "      <td>326393</td>\n",
       "    </tr>\n",
       "    <tr>\n",
       "      <th>7</th>\n",
       "      <td>족발/보쌈</td>\n",
       "      <td>312868</td>\n",
       "    </tr>\n",
       "  </tbody>\n",
       "</table>\n",
       "</div>"
      ],
      "text/plain": [
       "   induty_nm   count\n",
       "10        치킨  814691\n",
       "14        한식  464390\n",
       "3         분식  424765\n",
       "11    카페/디저트  326393\n",
       "7      족발/보쌈  312868"
      ]
     },
     "execution_count": 19,
     "metadata": {},
     "output_type": "execute_result"
    }
   ],
   "source": [
    "# 그룹1에서 많이시키는 빈도\n",
    "gr11 = gr1.groupby(['induty_nm']).size().reset_index(name='count')\n",
    "\n",
    "gr1_5 = gr11.sort_values(by=\"count\", ascending=False).head(10)\n",
    "gr1_sort5 = gr1_5.head(5)\n",
    "gr1_sort5\n"
   ]
  },
  {
   "cell_type": "code",
   "execution_count": 20,
   "metadata": {},
   "outputs": [
    {
     "data": {
      "application/vnd.plotly.v1+json": {
       "config": {
        "linkText": "Export to plot.ly",
        "plotlyServerURL": "https://plot.ly",
        "showLink": false
       },
       "data": [
        {
         "type": "bar",
         "x": [
          "치킨",
          "한식",
          "분식",
          "카페/디저트",
          "족발/보쌈"
         ],
         "y": [
          814691,
          464390,
          424765,
          326393,
          312868
         ]
        }
       ],
       "layout": {
        "template": {
         "data": {
          "bar": [
           {
            "error_x": {
             "color": "#2a3f5f"
            },
            "error_y": {
             "color": "#2a3f5f"
            },
            "marker": {
             "line": {
              "color": "#E5ECF6",
              "width": 0.5
             }
            },
            "type": "bar"
           }
          ],
          "barpolar": [
           {
            "marker": {
             "line": {
              "color": "#E5ECF6",
              "width": 0.5
             }
            },
            "type": "barpolar"
           }
          ],
          "carpet": [
           {
            "aaxis": {
             "endlinecolor": "#2a3f5f",
             "gridcolor": "white",
             "linecolor": "white",
             "minorgridcolor": "white",
             "startlinecolor": "#2a3f5f"
            },
            "baxis": {
             "endlinecolor": "#2a3f5f",
             "gridcolor": "white",
             "linecolor": "white",
             "minorgridcolor": "white",
             "startlinecolor": "#2a3f5f"
            },
            "type": "carpet"
           }
          ],
          "choropleth": [
           {
            "colorbar": {
             "outlinewidth": 0,
             "ticks": ""
            },
            "type": "choropleth"
           }
          ],
          "contour": [
           {
            "colorbar": {
             "outlinewidth": 0,
             "ticks": ""
            },
            "colorscale": [
             [
              0,
              "#0d0887"
             ],
             [
              0.1111111111111111,
              "#46039f"
             ],
             [
              0.2222222222222222,
              "#7201a8"
             ],
             [
              0.3333333333333333,
              "#9c179e"
             ],
             [
              0.4444444444444444,
              "#bd3786"
             ],
             [
              0.5555555555555556,
              "#d8576b"
             ],
             [
              0.6666666666666666,
              "#ed7953"
             ],
             [
              0.7777777777777778,
              "#fb9f3a"
             ],
             [
              0.8888888888888888,
              "#fdca26"
             ],
             [
              1,
              "#f0f921"
             ]
            ],
            "type": "contour"
           }
          ],
          "contourcarpet": [
           {
            "colorbar": {
             "outlinewidth": 0,
             "ticks": ""
            },
            "type": "contourcarpet"
           }
          ],
          "heatmap": [
           {
            "colorbar": {
             "outlinewidth": 0,
             "ticks": ""
            },
            "colorscale": [
             [
              0,
              "#0d0887"
             ],
             [
              0.1111111111111111,
              "#46039f"
             ],
             [
              0.2222222222222222,
              "#7201a8"
             ],
             [
              0.3333333333333333,
              "#9c179e"
             ],
             [
              0.4444444444444444,
              "#bd3786"
             ],
             [
              0.5555555555555556,
              "#d8576b"
             ],
             [
              0.6666666666666666,
              "#ed7953"
             ],
             [
              0.7777777777777778,
              "#fb9f3a"
             ],
             [
              0.8888888888888888,
              "#fdca26"
             ],
             [
              1,
              "#f0f921"
             ]
            ],
            "type": "heatmap"
           }
          ],
          "heatmapgl": [
           {
            "colorbar": {
             "outlinewidth": 0,
             "ticks": ""
            },
            "colorscale": [
             [
              0,
              "#0d0887"
             ],
             [
              0.1111111111111111,
              "#46039f"
             ],
             [
              0.2222222222222222,
              "#7201a8"
             ],
             [
              0.3333333333333333,
              "#9c179e"
             ],
             [
              0.4444444444444444,
              "#bd3786"
             ],
             [
              0.5555555555555556,
              "#d8576b"
             ],
             [
              0.6666666666666666,
              "#ed7953"
             ],
             [
              0.7777777777777778,
              "#fb9f3a"
             ],
             [
              0.8888888888888888,
              "#fdca26"
             ],
             [
              1,
              "#f0f921"
             ]
            ],
            "type": "heatmapgl"
           }
          ],
          "histogram": [
           {
            "marker": {
             "colorbar": {
              "outlinewidth": 0,
              "ticks": ""
             }
            },
            "type": "histogram"
           }
          ],
          "histogram2d": [
           {
            "colorbar": {
             "outlinewidth": 0,
             "ticks": ""
            },
            "colorscale": [
             [
              0,
              "#0d0887"
             ],
             [
              0.1111111111111111,
              "#46039f"
             ],
             [
              0.2222222222222222,
              "#7201a8"
             ],
             [
              0.3333333333333333,
              "#9c179e"
             ],
             [
              0.4444444444444444,
              "#bd3786"
             ],
             [
              0.5555555555555556,
              "#d8576b"
             ],
             [
              0.6666666666666666,
              "#ed7953"
             ],
             [
              0.7777777777777778,
              "#fb9f3a"
             ],
             [
              0.8888888888888888,
              "#fdca26"
             ],
             [
              1,
              "#f0f921"
             ]
            ],
            "type": "histogram2d"
           }
          ],
          "histogram2dcontour": [
           {
            "colorbar": {
             "outlinewidth": 0,
             "ticks": ""
            },
            "colorscale": [
             [
              0,
              "#0d0887"
             ],
             [
              0.1111111111111111,
              "#46039f"
             ],
             [
              0.2222222222222222,
              "#7201a8"
             ],
             [
              0.3333333333333333,
              "#9c179e"
             ],
             [
              0.4444444444444444,
              "#bd3786"
             ],
             [
              0.5555555555555556,
              "#d8576b"
             ],
             [
              0.6666666666666666,
              "#ed7953"
             ],
             [
              0.7777777777777778,
              "#fb9f3a"
             ],
             [
              0.8888888888888888,
              "#fdca26"
             ],
             [
              1,
              "#f0f921"
             ]
            ],
            "type": "histogram2dcontour"
           }
          ],
          "mesh3d": [
           {
            "colorbar": {
             "outlinewidth": 0,
             "ticks": ""
            },
            "type": "mesh3d"
           }
          ],
          "parcoords": [
           {
            "line": {
             "colorbar": {
              "outlinewidth": 0,
              "ticks": ""
             }
            },
            "type": "parcoords"
           }
          ],
          "pie": [
           {
            "automargin": true,
            "type": "pie"
           }
          ],
          "scatter": [
           {
            "marker": {
             "colorbar": {
              "outlinewidth": 0,
              "ticks": ""
             }
            },
            "type": "scatter"
           }
          ],
          "scatter3d": [
           {
            "line": {
             "colorbar": {
              "outlinewidth": 0,
              "ticks": ""
             }
            },
            "marker": {
             "colorbar": {
              "outlinewidth": 0,
              "ticks": ""
             }
            },
            "type": "scatter3d"
           }
          ],
          "scattercarpet": [
           {
            "marker": {
             "colorbar": {
              "outlinewidth": 0,
              "ticks": ""
             }
            },
            "type": "scattercarpet"
           }
          ],
          "scattergeo": [
           {
            "marker": {
             "colorbar": {
              "outlinewidth": 0,
              "ticks": ""
             }
            },
            "type": "scattergeo"
           }
          ],
          "scattergl": [
           {
            "marker": {
             "colorbar": {
              "outlinewidth": 0,
              "ticks": ""
             }
            },
            "type": "scattergl"
           }
          ],
          "scattermapbox": [
           {
            "marker": {
             "colorbar": {
              "outlinewidth": 0,
              "ticks": ""
             }
            },
            "type": "scattermapbox"
           }
          ],
          "scatterpolar": [
           {
            "marker": {
             "colorbar": {
              "outlinewidth": 0,
              "ticks": ""
             }
            },
            "type": "scatterpolar"
           }
          ],
          "scatterpolargl": [
           {
            "marker": {
             "colorbar": {
              "outlinewidth": 0,
              "ticks": ""
             }
            },
            "type": "scatterpolargl"
           }
          ],
          "scatterternary": [
           {
            "marker": {
             "colorbar": {
              "outlinewidth": 0,
              "ticks": ""
             }
            },
            "type": "scatterternary"
           }
          ],
          "surface": [
           {
            "colorbar": {
             "outlinewidth": 0,
             "ticks": ""
            },
            "colorscale": [
             [
              0,
              "#0d0887"
             ],
             [
              0.1111111111111111,
              "#46039f"
             ],
             [
              0.2222222222222222,
              "#7201a8"
             ],
             [
              0.3333333333333333,
              "#9c179e"
             ],
             [
              0.4444444444444444,
              "#bd3786"
             ],
             [
              0.5555555555555556,
              "#d8576b"
             ],
             [
              0.6666666666666666,
              "#ed7953"
             ],
             [
              0.7777777777777778,
              "#fb9f3a"
             ],
             [
              0.8888888888888888,
              "#fdca26"
             ],
             [
              1,
              "#f0f921"
             ]
            ],
            "type": "surface"
           }
          ],
          "table": [
           {
            "cells": {
             "fill": {
              "color": "#EBF0F8"
             },
             "line": {
              "color": "white"
             }
            },
            "header": {
             "fill": {
              "color": "#C8D4E3"
             },
             "line": {
              "color": "white"
             }
            },
            "type": "table"
           }
          ]
         },
         "layout": {
          "annotationdefaults": {
           "arrowcolor": "#2a3f5f",
           "arrowhead": 0,
           "arrowwidth": 1
          },
          "coloraxis": {
           "colorbar": {
            "outlinewidth": 0,
            "ticks": ""
           }
          },
          "colorscale": {
           "diverging": [
            [
             0,
             "#8e0152"
            ],
            [
             0.1,
             "#c51b7d"
            ],
            [
             0.2,
             "#de77ae"
            ],
            [
             0.3,
             "#f1b6da"
            ],
            [
             0.4,
             "#fde0ef"
            ],
            [
             0.5,
             "#f7f7f7"
            ],
            [
             0.6,
             "#e6f5d0"
            ],
            [
             0.7,
             "#b8e186"
            ],
            [
             0.8,
             "#7fbc41"
            ],
            [
             0.9,
             "#4d9221"
            ],
            [
             1,
             "#276419"
            ]
           ],
           "sequential": [
            [
             0,
             "#0d0887"
            ],
            [
             0.1111111111111111,
             "#46039f"
            ],
            [
             0.2222222222222222,
             "#7201a8"
            ],
            [
             0.3333333333333333,
             "#9c179e"
            ],
            [
             0.4444444444444444,
             "#bd3786"
            ],
            [
             0.5555555555555556,
             "#d8576b"
            ],
            [
             0.6666666666666666,
             "#ed7953"
            ],
            [
             0.7777777777777778,
             "#fb9f3a"
            ],
            [
             0.8888888888888888,
             "#fdca26"
            ],
            [
             1,
             "#f0f921"
            ]
           ],
           "sequentialminus": [
            [
             0,
             "#0d0887"
            ],
            [
             0.1111111111111111,
             "#46039f"
            ],
            [
             0.2222222222222222,
             "#7201a8"
            ],
            [
             0.3333333333333333,
             "#9c179e"
            ],
            [
             0.4444444444444444,
             "#bd3786"
            ],
            [
             0.5555555555555556,
             "#d8576b"
            ],
            [
             0.6666666666666666,
             "#ed7953"
            ],
            [
             0.7777777777777778,
             "#fb9f3a"
            ],
            [
             0.8888888888888888,
             "#fdca26"
            ],
            [
             1,
             "#f0f921"
            ]
           ]
          },
          "colorway": [
           "#636efa",
           "#EF553B",
           "#00cc96",
           "#ab63fa",
           "#FFA15A",
           "#19d3f3",
           "#FF6692",
           "#B6E880",
           "#FF97FF",
           "#FECB52"
          ],
          "font": {
           "color": "#2a3f5f"
          },
          "geo": {
           "bgcolor": "white",
           "lakecolor": "white",
           "landcolor": "#E5ECF6",
           "showlakes": true,
           "showland": true,
           "subunitcolor": "white"
          },
          "hoverlabel": {
           "align": "left"
          },
          "hovermode": "closest",
          "mapbox": {
           "style": "light"
          },
          "paper_bgcolor": "white",
          "plot_bgcolor": "#E5ECF6",
          "polar": {
           "angularaxis": {
            "gridcolor": "white",
            "linecolor": "white",
            "ticks": ""
           },
           "bgcolor": "#E5ECF6",
           "radialaxis": {
            "gridcolor": "white",
            "linecolor": "white",
            "ticks": ""
           }
          },
          "scene": {
           "xaxis": {
            "backgroundcolor": "#E5ECF6",
            "gridcolor": "white",
            "gridwidth": 2,
            "linecolor": "white",
            "showbackground": true,
            "ticks": "",
            "zerolinecolor": "white"
           },
           "yaxis": {
            "backgroundcolor": "#E5ECF6",
            "gridcolor": "white",
            "gridwidth": 2,
            "linecolor": "white",
            "showbackground": true,
            "ticks": "",
            "zerolinecolor": "white"
           },
           "zaxis": {
            "backgroundcolor": "#E5ECF6",
            "gridcolor": "white",
            "gridwidth": 2,
            "linecolor": "white",
            "showbackground": true,
            "ticks": "",
            "zerolinecolor": "white"
           }
          },
          "shapedefaults": {
           "line": {
            "color": "#2a3f5f"
           }
          },
          "ternary": {
           "aaxis": {
            "gridcolor": "white",
            "linecolor": "white",
            "ticks": ""
           },
           "baxis": {
            "gridcolor": "white",
            "linecolor": "white",
            "ticks": ""
           },
           "bgcolor": "#E5ECF6",
           "caxis": {
            "gridcolor": "white",
            "linecolor": "white",
            "ticks": ""
           }
          },
          "title": {
           "x": 0.05
          },
          "xaxis": {
           "automargin": true,
           "gridcolor": "white",
           "linecolor": "white",
           "ticks": "",
           "title": {
            "standoff": 15
           },
           "zerolinecolor": "white",
           "zerolinewidth": 2
          },
          "yaxis": {
           "automargin": true,
           "gridcolor": "white",
           "linecolor": "white",
           "ticks": "",
           "title": {
            "standoff": 15
           },
           "zerolinecolor": "white",
           "zerolinewidth": 2
          }
         }
        },
        "title": {
         "text": "시도별 배달비율"
        }
       }
      },
      "text/html": [
       "<div>                            <div id=\"738b14bb-c05a-4aec-a615-7371e1af8cb1\" class=\"plotly-graph-div\" style=\"height:525px; width:100%;\"></div>            <script type=\"text/javascript\">                require([\"plotly\"], function(Plotly) {                    window.PLOTLYENV=window.PLOTLYENV || {};                                    if (document.getElementById(\"738b14bb-c05a-4aec-a615-7371e1af8cb1\")) {                    Plotly.newPlot(                        \"738b14bb-c05a-4aec-a615-7371e1af8cb1\",                        [{\"type\": \"bar\", \"x\": [\"\\uce58\\ud0a8\", \"\\ud55c\\uc2dd\", \"\\ubd84\\uc2dd\", \"\\uce74\\ud398/\\ub514\\uc800\\ud2b8\", \"\\uc871\\ubc1c/\\ubcf4\\uc308\"], \"y\": [814691, 464390, 424765, 326393, 312868]}],                        {\"template\": {\"data\": {\"bar\": [{\"error_x\": {\"color\": \"#2a3f5f\"}, \"error_y\": {\"color\": \"#2a3f5f\"}, \"marker\": {\"line\": {\"color\": \"#E5ECF6\", \"width\": 0.5}}, \"type\": \"bar\"}], \"barpolar\": [{\"marker\": {\"line\": {\"color\": \"#E5ECF6\", \"width\": 0.5}}, \"type\": \"barpolar\"}], \"carpet\": [{\"aaxis\": {\"endlinecolor\": \"#2a3f5f\", \"gridcolor\": \"white\", \"linecolor\": \"white\", \"minorgridcolor\": \"white\", \"startlinecolor\": \"#2a3f5f\"}, \"baxis\": {\"endlinecolor\": \"#2a3f5f\", \"gridcolor\": \"white\", \"linecolor\": \"white\", \"minorgridcolor\": \"white\", \"startlinecolor\": \"#2a3f5f\"}, \"type\": \"carpet\"}], \"choropleth\": [{\"colorbar\": {\"outlinewidth\": 0, \"ticks\": \"\"}, \"type\": \"choropleth\"}], \"contour\": [{\"colorbar\": {\"outlinewidth\": 0, \"ticks\": \"\"}, \"colorscale\": [[0.0, \"#0d0887\"], [0.1111111111111111, \"#46039f\"], [0.2222222222222222, \"#7201a8\"], [0.3333333333333333, \"#9c179e\"], [0.4444444444444444, \"#bd3786\"], [0.5555555555555556, \"#d8576b\"], [0.6666666666666666, \"#ed7953\"], [0.7777777777777778, \"#fb9f3a\"], [0.8888888888888888, \"#fdca26\"], [1.0, \"#f0f921\"]], \"type\": \"contour\"}], \"contourcarpet\": [{\"colorbar\": {\"outlinewidth\": 0, \"ticks\": \"\"}, \"type\": \"contourcarpet\"}], \"heatmap\": [{\"colorbar\": {\"outlinewidth\": 0, \"ticks\": \"\"}, \"colorscale\": [[0.0, \"#0d0887\"], [0.1111111111111111, \"#46039f\"], [0.2222222222222222, \"#7201a8\"], [0.3333333333333333, \"#9c179e\"], [0.4444444444444444, \"#bd3786\"], [0.5555555555555556, \"#d8576b\"], [0.6666666666666666, \"#ed7953\"], [0.7777777777777778, \"#fb9f3a\"], [0.8888888888888888, \"#fdca26\"], [1.0, \"#f0f921\"]], \"type\": \"heatmap\"}], \"heatmapgl\": [{\"colorbar\": {\"outlinewidth\": 0, \"ticks\": \"\"}, \"colorscale\": [[0.0, \"#0d0887\"], [0.1111111111111111, \"#46039f\"], [0.2222222222222222, \"#7201a8\"], [0.3333333333333333, \"#9c179e\"], [0.4444444444444444, \"#bd3786\"], [0.5555555555555556, \"#d8576b\"], [0.6666666666666666, \"#ed7953\"], [0.7777777777777778, \"#fb9f3a\"], [0.8888888888888888, \"#fdca26\"], [1.0, \"#f0f921\"]], \"type\": \"heatmapgl\"}], \"histogram\": [{\"marker\": {\"colorbar\": {\"outlinewidth\": 0, \"ticks\": \"\"}}, \"type\": \"histogram\"}], \"histogram2d\": [{\"colorbar\": {\"outlinewidth\": 0, \"ticks\": \"\"}, \"colorscale\": [[0.0, \"#0d0887\"], [0.1111111111111111, \"#46039f\"], [0.2222222222222222, \"#7201a8\"], [0.3333333333333333, \"#9c179e\"], [0.4444444444444444, \"#bd3786\"], [0.5555555555555556, \"#d8576b\"], [0.6666666666666666, \"#ed7953\"], [0.7777777777777778, \"#fb9f3a\"], [0.8888888888888888, \"#fdca26\"], [1.0, \"#f0f921\"]], \"type\": \"histogram2d\"}], \"histogram2dcontour\": [{\"colorbar\": {\"outlinewidth\": 0, \"ticks\": \"\"}, \"colorscale\": [[0.0, \"#0d0887\"], [0.1111111111111111, \"#46039f\"], [0.2222222222222222, \"#7201a8\"], [0.3333333333333333, \"#9c179e\"], [0.4444444444444444, \"#bd3786\"], [0.5555555555555556, \"#d8576b\"], [0.6666666666666666, \"#ed7953\"], [0.7777777777777778, \"#fb9f3a\"], [0.8888888888888888, \"#fdca26\"], [1.0, \"#f0f921\"]], \"type\": \"histogram2dcontour\"}], \"mesh3d\": [{\"colorbar\": {\"outlinewidth\": 0, \"ticks\": \"\"}, \"type\": \"mesh3d\"}], \"parcoords\": [{\"line\": {\"colorbar\": {\"outlinewidth\": 0, \"ticks\": \"\"}}, \"type\": \"parcoords\"}], \"pie\": [{\"automargin\": true, \"type\": \"pie\"}], \"scatter\": [{\"marker\": {\"colorbar\": {\"outlinewidth\": 0, \"ticks\": \"\"}}, \"type\": \"scatter\"}], \"scatter3d\": [{\"line\": {\"colorbar\": {\"outlinewidth\": 0, \"ticks\": \"\"}}, \"marker\": {\"colorbar\": {\"outlinewidth\": 0, \"ticks\": \"\"}}, \"type\": \"scatter3d\"}], \"scattercarpet\": [{\"marker\": {\"colorbar\": {\"outlinewidth\": 0, \"ticks\": \"\"}}, \"type\": \"scattercarpet\"}], \"scattergeo\": [{\"marker\": {\"colorbar\": {\"outlinewidth\": 0, \"ticks\": \"\"}}, \"type\": \"scattergeo\"}], \"scattergl\": [{\"marker\": {\"colorbar\": {\"outlinewidth\": 0, \"ticks\": \"\"}}, \"type\": \"scattergl\"}], \"scattermapbox\": [{\"marker\": {\"colorbar\": {\"outlinewidth\": 0, \"ticks\": \"\"}}, \"type\": \"scattermapbox\"}], \"scatterpolar\": [{\"marker\": {\"colorbar\": {\"outlinewidth\": 0, \"ticks\": \"\"}}, \"type\": \"scatterpolar\"}], \"scatterpolargl\": [{\"marker\": {\"colorbar\": {\"outlinewidth\": 0, \"ticks\": \"\"}}, \"type\": \"scatterpolargl\"}], \"scatterternary\": [{\"marker\": {\"colorbar\": {\"outlinewidth\": 0, \"ticks\": \"\"}}, \"type\": \"scatterternary\"}], \"surface\": [{\"colorbar\": {\"outlinewidth\": 0, \"ticks\": \"\"}, \"colorscale\": [[0.0, \"#0d0887\"], [0.1111111111111111, \"#46039f\"], [0.2222222222222222, \"#7201a8\"], [0.3333333333333333, \"#9c179e\"], [0.4444444444444444, \"#bd3786\"], [0.5555555555555556, \"#d8576b\"], [0.6666666666666666, \"#ed7953\"], [0.7777777777777778, \"#fb9f3a\"], [0.8888888888888888, \"#fdca26\"], [1.0, \"#f0f921\"]], \"type\": \"surface\"}], \"table\": [{\"cells\": {\"fill\": {\"color\": \"#EBF0F8\"}, \"line\": {\"color\": \"white\"}}, \"header\": {\"fill\": {\"color\": \"#C8D4E3\"}, \"line\": {\"color\": \"white\"}}, \"type\": \"table\"}]}, \"layout\": {\"annotationdefaults\": {\"arrowcolor\": \"#2a3f5f\", \"arrowhead\": 0, \"arrowwidth\": 1}, \"coloraxis\": {\"colorbar\": {\"outlinewidth\": 0, \"ticks\": \"\"}}, \"colorscale\": {\"diverging\": [[0, \"#8e0152\"], [0.1, \"#c51b7d\"], [0.2, \"#de77ae\"], [0.3, \"#f1b6da\"], [0.4, \"#fde0ef\"], [0.5, \"#f7f7f7\"], [0.6, \"#e6f5d0\"], [0.7, \"#b8e186\"], [0.8, \"#7fbc41\"], [0.9, \"#4d9221\"], [1, \"#276419\"]], \"sequential\": [[0.0, \"#0d0887\"], [0.1111111111111111, \"#46039f\"], [0.2222222222222222, \"#7201a8\"], [0.3333333333333333, \"#9c179e\"], [0.4444444444444444, \"#bd3786\"], [0.5555555555555556, \"#d8576b\"], [0.6666666666666666, \"#ed7953\"], [0.7777777777777778, \"#fb9f3a\"], [0.8888888888888888, \"#fdca26\"], [1.0, \"#f0f921\"]], \"sequentialminus\": [[0.0, \"#0d0887\"], [0.1111111111111111, \"#46039f\"], [0.2222222222222222, \"#7201a8\"], [0.3333333333333333, \"#9c179e\"], [0.4444444444444444, \"#bd3786\"], [0.5555555555555556, \"#d8576b\"], [0.6666666666666666, \"#ed7953\"], [0.7777777777777778, \"#fb9f3a\"], [0.8888888888888888, \"#fdca26\"], [1.0, \"#f0f921\"]]}, \"colorway\": [\"#636efa\", \"#EF553B\", \"#00cc96\", \"#ab63fa\", \"#FFA15A\", \"#19d3f3\", \"#FF6692\", \"#B6E880\", \"#FF97FF\", \"#FECB52\"], \"font\": {\"color\": \"#2a3f5f\"}, \"geo\": {\"bgcolor\": \"white\", \"lakecolor\": \"white\", \"landcolor\": \"#E5ECF6\", \"showlakes\": true, \"showland\": true, \"subunitcolor\": \"white\"}, \"hoverlabel\": {\"align\": \"left\"}, \"hovermode\": \"closest\", \"mapbox\": {\"style\": \"light\"}, \"paper_bgcolor\": \"white\", \"plot_bgcolor\": \"#E5ECF6\", \"polar\": {\"angularaxis\": {\"gridcolor\": \"white\", \"linecolor\": \"white\", \"ticks\": \"\"}, \"bgcolor\": \"#E5ECF6\", \"radialaxis\": {\"gridcolor\": \"white\", \"linecolor\": \"white\", \"ticks\": \"\"}}, \"scene\": {\"xaxis\": {\"backgroundcolor\": \"#E5ECF6\", \"gridcolor\": \"white\", \"gridwidth\": 2, \"linecolor\": \"white\", \"showbackground\": true, \"ticks\": \"\", \"zerolinecolor\": \"white\"}, \"yaxis\": {\"backgroundcolor\": \"#E5ECF6\", \"gridcolor\": \"white\", \"gridwidth\": 2, \"linecolor\": \"white\", \"showbackground\": true, \"ticks\": \"\", \"zerolinecolor\": \"white\"}, \"zaxis\": {\"backgroundcolor\": \"#E5ECF6\", \"gridcolor\": \"white\", \"gridwidth\": 2, \"linecolor\": \"white\", \"showbackground\": true, \"ticks\": \"\", \"zerolinecolor\": \"white\"}}, \"shapedefaults\": {\"line\": {\"color\": \"#2a3f5f\"}}, \"ternary\": {\"aaxis\": {\"gridcolor\": \"white\", \"linecolor\": \"white\", \"ticks\": \"\"}, \"baxis\": {\"gridcolor\": \"white\", \"linecolor\": \"white\", \"ticks\": \"\"}, \"bgcolor\": \"#E5ECF6\", \"caxis\": {\"gridcolor\": \"white\", \"linecolor\": \"white\", \"ticks\": \"\"}}, \"title\": {\"x\": 0.05}, \"xaxis\": {\"automargin\": true, \"gridcolor\": \"white\", \"linecolor\": \"white\", \"ticks\": \"\", \"title\": {\"standoff\": 15}, \"zerolinecolor\": \"white\", \"zerolinewidth\": 2}, \"yaxis\": {\"automargin\": true, \"gridcolor\": \"white\", \"linecolor\": \"white\", \"ticks\": \"\", \"title\": {\"standoff\": 15}, \"zerolinecolor\": \"white\", \"zerolinewidth\": 2}}}, \"title\": {\"text\": \"\\uc2dc\\ub3c4\\ubcc4 \\ubc30\\ub2ec\\ube44\\uc728\"}},                        {\"responsive\": true}                    ).then(function(){\n",
       "                            \n",
       "var gd = document.getElementById('738b14bb-c05a-4aec-a615-7371e1af8cb1');\n",
       "var x = new MutationObserver(function (mutations, observer) {{\n",
       "        var display = window.getComputedStyle(gd).display;\n",
       "        if (!display || display === 'none') {{\n",
       "            console.log([gd, 'removed!']);\n",
       "            Plotly.purge(gd);\n",
       "            observer.disconnect();\n",
       "        }}\n",
       "}});\n",
       "\n",
       "// Listen for the removal of the full notebook cells\n",
       "var notebookContainer = gd.closest('#notebook-container');\n",
       "if (notebookContainer) {{\n",
       "    x.observe(notebookContainer, {childList: true});\n",
       "}}\n",
       "\n",
       "// Listen for the clearing of the current output cell\n",
       "var outputEl = gd.closest('.output');\n",
       "if (outputEl) {{\n",
       "    x.observe(outputEl, {childList: true});\n",
       "}}\n",
       "\n",
       "                        })                };                });            </script>        </div>"
      ]
     },
     "metadata": {},
     "output_type": "display_data"
    }
   ],
   "source": [
    "# 상위 5개 막대 그래프 그리기\n",
    "trace1 = go.Bar(x=gr1_sort5['induty_nm'], y=gr1_sort5['count'])\n",
    "data = [trace1]\n",
    "layout = go.Layout(title='시도별 배달비율')\n",
    "fig = go.Figure(data=data, layout=layout)\n",
    "pyo.iplot(fig)"
   ]
  },
  {
   "cell_type": "code",
   "execution_count": 21,
   "metadata": {},
   "outputs": [
    {
     "data": {
      "text/html": [
       "<div>\n",
       "<style scoped>\n",
       "    .dataframe tbody tr th:only-of-type {\n",
       "        vertical-align: middle;\n",
       "    }\n",
       "\n",
       "    .dataframe tbody tr th {\n",
       "        vertical-align: top;\n",
       "    }\n",
       "\n",
       "    .dataframe thead th {\n",
       "        text-align: right;\n",
       "    }\n",
       "</style>\n",
       "<table border=\"1\" class=\"dataframe\">\n",
       "  <thead>\n",
       "    <tr style=\"text-align: right;\">\n",
       "      <th></th>\n",
       "      <th>induty_nm</th>\n",
       "      <th>count</th>\n",
       "    </tr>\n",
       "  </thead>\n",
       "  <tbody>\n",
       "    <tr>\n",
       "      <th>10</th>\n",
       "      <td>치킨</td>\n",
       "      <td>105196</td>\n",
       "    </tr>\n",
       "    <tr>\n",
       "      <th>3</th>\n",
       "      <td>분식</td>\n",
       "      <td>83957</td>\n",
       "    </tr>\n",
       "    <tr>\n",
       "      <th>14</th>\n",
       "      <td>한식</td>\n",
       "      <td>66342</td>\n",
       "    </tr>\n",
       "    <tr>\n",
       "      <th>11</th>\n",
       "      <td>카페/디저트</td>\n",
       "      <td>61574</td>\n",
       "    </tr>\n",
       "    <tr>\n",
       "      <th>12</th>\n",
       "      <td>패스트푸드</td>\n",
       "      <td>33492</td>\n",
       "    </tr>\n",
       "  </tbody>\n",
       "</table>\n",
       "</div>"
      ],
      "text/plain": [
       "   induty_nm   count\n",
       "10        치킨  105196\n",
       "3         분식   83957\n",
       "14        한식   66342\n",
       "11    카페/디저트   61574\n",
       "12     패스트푸드   33492"
      ]
     },
     "execution_count": 21,
     "metadata": {},
     "output_type": "execute_result"
    }
   ],
   "source": [
    "# 그룹2에서 많이시키는 빈도\n",
    "gr22 = gr2.groupby(['induty_nm']).size().reset_index(name='count')\n",
    "\n",
    "gr2_5 = gr22.sort_values(by=\"count\", ascending=False).head(10)\n",
    "gr2_sort5 = gr2_5.head(5)\n",
    "gr2_sort5\n"
   ]
  },
  {
   "cell_type": "code",
   "execution_count": 22,
   "metadata": {},
   "outputs": [
    {
     "data": {
      "application/vnd.plotly.v1+json": {
       "config": {
        "linkText": "Export to plot.ly",
        "plotlyServerURL": "https://plot.ly",
        "showLink": false
       },
       "data": [
        {
         "type": "bar",
         "x": [
          "치킨",
          "분식",
          "한식",
          "카페/디저트",
          "패스트푸드"
         ],
         "y": [
          105196,
          83957,
          66342,
          61574,
          33492
         ]
        }
       ],
       "layout": {
        "template": {
         "data": {
          "bar": [
           {
            "error_x": {
             "color": "#2a3f5f"
            },
            "error_y": {
             "color": "#2a3f5f"
            },
            "marker": {
             "line": {
              "color": "#E5ECF6",
              "width": 0.5
             }
            },
            "type": "bar"
           }
          ],
          "barpolar": [
           {
            "marker": {
             "line": {
              "color": "#E5ECF6",
              "width": 0.5
             }
            },
            "type": "barpolar"
           }
          ],
          "carpet": [
           {
            "aaxis": {
             "endlinecolor": "#2a3f5f",
             "gridcolor": "white",
             "linecolor": "white",
             "minorgridcolor": "white",
             "startlinecolor": "#2a3f5f"
            },
            "baxis": {
             "endlinecolor": "#2a3f5f",
             "gridcolor": "white",
             "linecolor": "white",
             "minorgridcolor": "white",
             "startlinecolor": "#2a3f5f"
            },
            "type": "carpet"
           }
          ],
          "choropleth": [
           {
            "colorbar": {
             "outlinewidth": 0,
             "ticks": ""
            },
            "type": "choropleth"
           }
          ],
          "contour": [
           {
            "colorbar": {
             "outlinewidth": 0,
             "ticks": ""
            },
            "colorscale": [
             [
              0,
              "#0d0887"
             ],
             [
              0.1111111111111111,
              "#46039f"
             ],
             [
              0.2222222222222222,
              "#7201a8"
             ],
             [
              0.3333333333333333,
              "#9c179e"
             ],
             [
              0.4444444444444444,
              "#bd3786"
             ],
             [
              0.5555555555555556,
              "#d8576b"
             ],
             [
              0.6666666666666666,
              "#ed7953"
             ],
             [
              0.7777777777777778,
              "#fb9f3a"
             ],
             [
              0.8888888888888888,
              "#fdca26"
             ],
             [
              1,
              "#f0f921"
             ]
            ],
            "type": "contour"
           }
          ],
          "contourcarpet": [
           {
            "colorbar": {
             "outlinewidth": 0,
             "ticks": ""
            },
            "type": "contourcarpet"
           }
          ],
          "heatmap": [
           {
            "colorbar": {
             "outlinewidth": 0,
             "ticks": ""
            },
            "colorscale": [
             [
              0,
              "#0d0887"
             ],
             [
              0.1111111111111111,
              "#46039f"
             ],
             [
              0.2222222222222222,
              "#7201a8"
             ],
             [
              0.3333333333333333,
              "#9c179e"
             ],
             [
              0.4444444444444444,
              "#bd3786"
             ],
             [
              0.5555555555555556,
              "#d8576b"
             ],
             [
              0.6666666666666666,
              "#ed7953"
             ],
             [
              0.7777777777777778,
              "#fb9f3a"
             ],
             [
              0.8888888888888888,
              "#fdca26"
             ],
             [
              1,
              "#f0f921"
             ]
            ],
            "type": "heatmap"
           }
          ],
          "heatmapgl": [
           {
            "colorbar": {
             "outlinewidth": 0,
             "ticks": ""
            },
            "colorscale": [
             [
              0,
              "#0d0887"
             ],
             [
              0.1111111111111111,
              "#46039f"
             ],
             [
              0.2222222222222222,
              "#7201a8"
             ],
             [
              0.3333333333333333,
              "#9c179e"
             ],
             [
              0.4444444444444444,
              "#bd3786"
             ],
             [
              0.5555555555555556,
              "#d8576b"
             ],
             [
              0.6666666666666666,
              "#ed7953"
             ],
             [
              0.7777777777777778,
              "#fb9f3a"
             ],
             [
              0.8888888888888888,
              "#fdca26"
             ],
             [
              1,
              "#f0f921"
             ]
            ],
            "type": "heatmapgl"
           }
          ],
          "histogram": [
           {
            "marker": {
             "colorbar": {
              "outlinewidth": 0,
              "ticks": ""
             }
            },
            "type": "histogram"
           }
          ],
          "histogram2d": [
           {
            "colorbar": {
             "outlinewidth": 0,
             "ticks": ""
            },
            "colorscale": [
             [
              0,
              "#0d0887"
             ],
             [
              0.1111111111111111,
              "#46039f"
             ],
             [
              0.2222222222222222,
              "#7201a8"
             ],
             [
              0.3333333333333333,
              "#9c179e"
             ],
             [
              0.4444444444444444,
              "#bd3786"
             ],
             [
              0.5555555555555556,
              "#d8576b"
             ],
             [
              0.6666666666666666,
              "#ed7953"
             ],
             [
              0.7777777777777778,
              "#fb9f3a"
             ],
             [
              0.8888888888888888,
              "#fdca26"
             ],
             [
              1,
              "#f0f921"
             ]
            ],
            "type": "histogram2d"
           }
          ],
          "histogram2dcontour": [
           {
            "colorbar": {
             "outlinewidth": 0,
             "ticks": ""
            },
            "colorscale": [
             [
              0,
              "#0d0887"
             ],
             [
              0.1111111111111111,
              "#46039f"
             ],
             [
              0.2222222222222222,
              "#7201a8"
             ],
             [
              0.3333333333333333,
              "#9c179e"
             ],
             [
              0.4444444444444444,
              "#bd3786"
             ],
             [
              0.5555555555555556,
              "#d8576b"
             ],
             [
              0.6666666666666666,
              "#ed7953"
             ],
             [
              0.7777777777777778,
              "#fb9f3a"
             ],
             [
              0.8888888888888888,
              "#fdca26"
             ],
             [
              1,
              "#f0f921"
             ]
            ],
            "type": "histogram2dcontour"
           }
          ],
          "mesh3d": [
           {
            "colorbar": {
             "outlinewidth": 0,
             "ticks": ""
            },
            "type": "mesh3d"
           }
          ],
          "parcoords": [
           {
            "line": {
             "colorbar": {
              "outlinewidth": 0,
              "ticks": ""
             }
            },
            "type": "parcoords"
           }
          ],
          "pie": [
           {
            "automargin": true,
            "type": "pie"
           }
          ],
          "scatter": [
           {
            "marker": {
             "colorbar": {
              "outlinewidth": 0,
              "ticks": ""
             }
            },
            "type": "scatter"
           }
          ],
          "scatter3d": [
           {
            "line": {
             "colorbar": {
              "outlinewidth": 0,
              "ticks": ""
             }
            },
            "marker": {
             "colorbar": {
              "outlinewidth": 0,
              "ticks": ""
             }
            },
            "type": "scatter3d"
           }
          ],
          "scattercarpet": [
           {
            "marker": {
             "colorbar": {
              "outlinewidth": 0,
              "ticks": ""
             }
            },
            "type": "scattercarpet"
           }
          ],
          "scattergeo": [
           {
            "marker": {
             "colorbar": {
              "outlinewidth": 0,
              "ticks": ""
             }
            },
            "type": "scattergeo"
           }
          ],
          "scattergl": [
           {
            "marker": {
             "colorbar": {
              "outlinewidth": 0,
              "ticks": ""
             }
            },
            "type": "scattergl"
           }
          ],
          "scattermapbox": [
           {
            "marker": {
             "colorbar": {
              "outlinewidth": 0,
              "ticks": ""
             }
            },
            "type": "scattermapbox"
           }
          ],
          "scatterpolar": [
           {
            "marker": {
             "colorbar": {
              "outlinewidth": 0,
              "ticks": ""
             }
            },
            "type": "scatterpolar"
           }
          ],
          "scatterpolargl": [
           {
            "marker": {
             "colorbar": {
              "outlinewidth": 0,
              "ticks": ""
             }
            },
            "type": "scatterpolargl"
           }
          ],
          "scatterternary": [
           {
            "marker": {
             "colorbar": {
              "outlinewidth": 0,
              "ticks": ""
             }
            },
            "type": "scatterternary"
           }
          ],
          "surface": [
           {
            "colorbar": {
             "outlinewidth": 0,
             "ticks": ""
            },
            "colorscale": [
             [
              0,
              "#0d0887"
             ],
             [
              0.1111111111111111,
              "#46039f"
             ],
             [
              0.2222222222222222,
              "#7201a8"
             ],
             [
              0.3333333333333333,
              "#9c179e"
             ],
             [
              0.4444444444444444,
              "#bd3786"
             ],
             [
              0.5555555555555556,
              "#d8576b"
             ],
             [
              0.6666666666666666,
              "#ed7953"
             ],
             [
              0.7777777777777778,
              "#fb9f3a"
             ],
             [
              0.8888888888888888,
              "#fdca26"
             ],
             [
              1,
              "#f0f921"
             ]
            ],
            "type": "surface"
           }
          ],
          "table": [
           {
            "cells": {
             "fill": {
              "color": "#EBF0F8"
             },
             "line": {
              "color": "white"
             }
            },
            "header": {
             "fill": {
              "color": "#C8D4E3"
             },
             "line": {
              "color": "white"
             }
            },
            "type": "table"
           }
          ]
         },
         "layout": {
          "annotationdefaults": {
           "arrowcolor": "#2a3f5f",
           "arrowhead": 0,
           "arrowwidth": 1
          },
          "coloraxis": {
           "colorbar": {
            "outlinewidth": 0,
            "ticks": ""
           }
          },
          "colorscale": {
           "diverging": [
            [
             0,
             "#8e0152"
            ],
            [
             0.1,
             "#c51b7d"
            ],
            [
             0.2,
             "#de77ae"
            ],
            [
             0.3,
             "#f1b6da"
            ],
            [
             0.4,
             "#fde0ef"
            ],
            [
             0.5,
             "#f7f7f7"
            ],
            [
             0.6,
             "#e6f5d0"
            ],
            [
             0.7,
             "#b8e186"
            ],
            [
             0.8,
             "#7fbc41"
            ],
            [
             0.9,
             "#4d9221"
            ],
            [
             1,
             "#276419"
            ]
           ],
           "sequential": [
            [
             0,
             "#0d0887"
            ],
            [
             0.1111111111111111,
             "#46039f"
            ],
            [
             0.2222222222222222,
             "#7201a8"
            ],
            [
             0.3333333333333333,
             "#9c179e"
            ],
            [
             0.4444444444444444,
             "#bd3786"
            ],
            [
             0.5555555555555556,
             "#d8576b"
            ],
            [
             0.6666666666666666,
             "#ed7953"
            ],
            [
             0.7777777777777778,
             "#fb9f3a"
            ],
            [
             0.8888888888888888,
             "#fdca26"
            ],
            [
             1,
             "#f0f921"
            ]
           ],
           "sequentialminus": [
            [
             0,
             "#0d0887"
            ],
            [
             0.1111111111111111,
             "#46039f"
            ],
            [
             0.2222222222222222,
             "#7201a8"
            ],
            [
             0.3333333333333333,
             "#9c179e"
            ],
            [
             0.4444444444444444,
             "#bd3786"
            ],
            [
             0.5555555555555556,
             "#d8576b"
            ],
            [
             0.6666666666666666,
             "#ed7953"
            ],
            [
             0.7777777777777778,
             "#fb9f3a"
            ],
            [
             0.8888888888888888,
             "#fdca26"
            ],
            [
             1,
             "#f0f921"
            ]
           ]
          },
          "colorway": [
           "#636efa",
           "#EF553B",
           "#00cc96",
           "#ab63fa",
           "#FFA15A",
           "#19d3f3",
           "#FF6692",
           "#B6E880",
           "#FF97FF",
           "#FECB52"
          ],
          "font": {
           "color": "#2a3f5f"
          },
          "geo": {
           "bgcolor": "white",
           "lakecolor": "white",
           "landcolor": "#E5ECF6",
           "showlakes": true,
           "showland": true,
           "subunitcolor": "white"
          },
          "hoverlabel": {
           "align": "left"
          },
          "hovermode": "closest",
          "mapbox": {
           "style": "light"
          },
          "paper_bgcolor": "white",
          "plot_bgcolor": "#E5ECF6",
          "polar": {
           "angularaxis": {
            "gridcolor": "white",
            "linecolor": "white",
            "ticks": ""
           },
           "bgcolor": "#E5ECF6",
           "radialaxis": {
            "gridcolor": "white",
            "linecolor": "white",
            "ticks": ""
           }
          },
          "scene": {
           "xaxis": {
            "backgroundcolor": "#E5ECF6",
            "gridcolor": "white",
            "gridwidth": 2,
            "linecolor": "white",
            "showbackground": true,
            "ticks": "",
            "zerolinecolor": "white"
           },
           "yaxis": {
            "backgroundcolor": "#E5ECF6",
            "gridcolor": "white",
            "gridwidth": 2,
            "linecolor": "white",
            "showbackground": true,
            "ticks": "",
            "zerolinecolor": "white"
           },
           "zaxis": {
            "backgroundcolor": "#E5ECF6",
            "gridcolor": "white",
            "gridwidth": 2,
            "linecolor": "white",
            "showbackground": true,
            "ticks": "",
            "zerolinecolor": "white"
           }
          },
          "shapedefaults": {
           "line": {
            "color": "#2a3f5f"
           }
          },
          "ternary": {
           "aaxis": {
            "gridcolor": "white",
            "linecolor": "white",
            "ticks": ""
           },
           "baxis": {
            "gridcolor": "white",
            "linecolor": "white",
            "ticks": ""
           },
           "bgcolor": "#E5ECF6",
           "caxis": {
            "gridcolor": "white",
            "linecolor": "white",
            "ticks": ""
           }
          },
          "title": {
           "x": 0.05
          },
          "xaxis": {
           "automargin": true,
           "gridcolor": "white",
           "linecolor": "white",
           "ticks": "",
           "title": {
            "standoff": 15
           },
           "zerolinecolor": "white",
           "zerolinewidth": 2
          },
          "yaxis": {
           "automargin": true,
           "gridcolor": "white",
           "linecolor": "white",
           "ticks": "",
           "title": {
            "standoff": 15
           },
           "zerolinecolor": "white",
           "zerolinewidth": 2
          }
         }
        },
        "title": {
         "text": "시도별 배달비율"
        }
       }
      },
      "text/html": [
       "<div>                            <div id=\"66660cef-2767-411f-8192-296ad6d1dc49\" class=\"plotly-graph-div\" style=\"height:525px; width:100%;\"></div>            <script type=\"text/javascript\">                require([\"plotly\"], function(Plotly) {                    window.PLOTLYENV=window.PLOTLYENV || {};                                    if (document.getElementById(\"66660cef-2767-411f-8192-296ad6d1dc49\")) {                    Plotly.newPlot(                        \"66660cef-2767-411f-8192-296ad6d1dc49\",                        [{\"type\": \"bar\", \"x\": [\"\\uce58\\ud0a8\", \"\\ubd84\\uc2dd\", \"\\ud55c\\uc2dd\", \"\\uce74\\ud398/\\ub514\\uc800\\ud2b8\", \"\\ud328\\uc2a4\\ud2b8\\ud478\\ub4dc\"], \"y\": [105196, 83957, 66342, 61574, 33492]}],                        {\"template\": {\"data\": {\"bar\": [{\"error_x\": {\"color\": \"#2a3f5f\"}, \"error_y\": {\"color\": \"#2a3f5f\"}, \"marker\": {\"line\": {\"color\": \"#E5ECF6\", \"width\": 0.5}}, \"type\": \"bar\"}], \"barpolar\": [{\"marker\": {\"line\": {\"color\": \"#E5ECF6\", \"width\": 0.5}}, \"type\": \"barpolar\"}], \"carpet\": [{\"aaxis\": {\"endlinecolor\": \"#2a3f5f\", \"gridcolor\": \"white\", \"linecolor\": \"white\", \"minorgridcolor\": \"white\", \"startlinecolor\": \"#2a3f5f\"}, \"baxis\": {\"endlinecolor\": \"#2a3f5f\", \"gridcolor\": \"white\", \"linecolor\": \"white\", \"minorgridcolor\": \"white\", \"startlinecolor\": \"#2a3f5f\"}, \"type\": \"carpet\"}], \"choropleth\": [{\"colorbar\": {\"outlinewidth\": 0, \"ticks\": \"\"}, \"type\": \"choropleth\"}], \"contour\": [{\"colorbar\": {\"outlinewidth\": 0, \"ticks\": \"\"}, \"colorscale\": [[0.0, \"#0d0887\"], [0.1111111111111111, \"#46039f\"], [0.2222222222222222, \"#7201a8\"], [0.3333333333333333, \"#9c179e\"], [0.4444444444444444, \"#bd3786\"], [0.5555555555555556, \"#d8576b\"], [0.6666666666666666, \"#ed7953\"], [0.7777777777777778, \"#fb9f3a\"], [0.8888888888888888, \"#fdca26\"], [1.0, \"#f0f921\"]], \"type\": \"contour\"}], \"contourcarpet\": [{\"colorbar\": {\"outlinewidth\": 0, \"ticks\": \"\"}, \"type\": \"contourcarpet\"}], \"heatmap\": [{\"colorbar\": {\"outlinewidth\": 0, \"ticks\": \"\"}, \"colorscale\": [[0.0, \"#0d0887\"], [0.1111111111111111, \"#46039f\"], [0.2222222222222222, \"#7201a8\"], [0.3333333333333333, \"#9c179e\"], [0.4444444444444444, \"#bd3786\"], [0.5555555555555556, \"#d8576b\"], [0.6666666666666666, \"#ed7953\"], [0.7777777777777778, \"#fb9f3a\"], [0.8888888888888888, \"#fdca26\"], [1.0, \"#f0f921\"]], \"type\": \"heatmap\"}], \"heatmapgl\": [{\"colorbar\": {\"outlinewidth\": 0, \"ticks\": \"\"}, \"colorscale\": [[0.0, \"#0d0887\"], [0.1111111111111111, \"#46039f\"], [0.2222222222222222, \"#7201a8\"], [0.3333333333333333, \"#9c179e\"], [0.4444444444444444, \"#bd3786\"], [0.5555555555555556, \"#d8576b\"], [0.6666666666666666, \"#ed7953\"], [0.7777777777777778, \"#fb9f3a\"], [0.8888888888888888, \"#fdca26\"], [1.0, \"#f0f921\"]], \"type\": \"heatmapgl\"}], \"histogram\": [{\"marker\": {\"colorbar\": {\"outlinewidth\": 0, \"ticks\": \"\"}}, \"type\": \"histogram\"}], \"histogram2d\": [{\"colorbar\": {\"outlinewidth\": 0, \"ticks\": \"\"}, \"colorscale\": [[0.0, \"#0d0887\"], [0.1111111111111111, \"#46039f\"], [0.2222222222222222, \"#7201a8\"], [0.3333333333333333, \"#9c179e\"], [0.4444444444444444, \"#bd3786\"], [0.5555555555555556, \"#d8576b\"], [0.6666666666666666, \"#ed7953\"], [0.7777777777777778, \"#fb9f3a\"], [0.8888888888888888, \"#fdca26\"], [1.0, \"#f0f921\"]], \"type\": \"histogram2d\"}], \"histogram2dcontour\": [{\"colorbar\": {\"outlinewidth\": 0, \"ticks\": \"\"}, \"colorscale\": [[0.0, \"#0d0887\"], [0.1111111111111111, \"#46039f\"], [0.2222222222222222, \"#7201a8\"], [0.3333333333333333, \"#9c179e\"], [0.4444444444444444, \"#bd3786\"], [0.5555555555555556, \"#d8576b\"], [0.6666666666666666, \"#ed7953\"], [0.7777777777777778, \"#fb9f3a\"], [0.8888888888888888, \"#fdca26\"], [1.0, \"#f0f921\"]], \"type\": \"histogram2dcontour\"}], \"mesh3d\": [{\"colorbar\": {\"outlinewidth\": 0, \"ticks\": \"\"}, \"type\": \"mesh3d\"}], \"parcoords\": [{\"line\": {\"colorbar\": {\"outlinewidth\": 0, \"ticks\": \"\"}}, \"type\": \"parcoords\"}], \"pie\": [{\"automargin\": true, \"type\": \"pie\"}], \"scatter\": [{\"marker\": {\"colorbar\": {\"outlinewidth\": 0, \"ticks\": \"\"}}, \"type\": \"scatter\"}], \"scatter3d\": [{\"line\": {\"colorbar\": {\"outlinewidth\": 0, \"ticks\": \"\"}}, \"marker\": {\"colorbar\": {\"outlinewidth\": 0, \"ticks\": \"\"}}, \"type\": \"scatter3d\"}], \"scattercarpet\": [{\"marker\": {\"colorbar\": {\"outlinewidth\": 0, \"ticks\": \"\"}}, \"type\": \"scattercarpet\"}], \"scattergeo\": [{\"marker\": {\"colorbar\": {\"outlinewidth\": 0, \"ticks\": \"\"}}, \"type\": \"scattergeo\"}], \"scattergl\": [{\"marker\": {\"colorbar\": {\"outlinewidth\": 0, \"ticks\": \"\"}}, \"type\": \"scattergl\"}], \"scattermapbox\": [{\"marker\": {\"colorbar\": {\"outlinewidth\": 0, \"ticks\": \"\"}}, \"type\": \"scattermapbox\"}], \"scatterpolar\": [{\"marker\": {\"colorbar\": {\"outlinewidth\": 0, \"ticks\": \"\"}}, \"type\": \"scatterpolar\"}], \"scatterpolargl\": [{\"marker\": {\"colorbar\": {\"outlinewidth\": 0, \"ticks\": \"\"}}, \"type\": \"scatterpolargl\"}], \"scatterternary\": [{\"marker\": {\"colorbar\": {\"outlinewidth\": 0, \"ticks\": \"\"}}, \"type\": \"scatterternary\"}], \"surface\": [{\"colorbar\": {\"outlinewidth\": 0, \"ticks\": \"\"}, \"colorscale\": [[0.0, \"#0d0887\"], [0.1111111111111111, \"#46039f\"], [0.2222222222222222, \"#7201a8\"], [0.3333333333333333, \"#9c179e\"], [0.4444444444444444, \"#bd3786\"], [0.5555555555555556, \"#d8576b\"], [0.6666666666666666, \"#ed7953\"], [0.7777777777777778, \"#fb9f3a\"], [0.8888888888888888, \"#fdca26\"], [1.0, \"#f0f921\"]], \"type\": \"surface\"}], \"table\": [{\"cells\": {\"fill\": {\"color\": \"#EBF0F8\"}, \"line\": {\"color\": \"white\"}}, \"header\": {\"fill\": {\"color\": \"#C8D4E3\"}, \"line\": {\"color\": \"white\"}}, \"type\": \"table\"}]}, \"layout\": {\"annotationdefaults\": {\"arrowcolor\": \"#2a3f5f\", \"arrowhead\": 0, \"arrowwidth\": 1}, \"coloraxis\": {\"colorbar\": {\"outlinewidth\": 0, \"ticks\": \"\"}}, \"colorscale\": {\"diverging\": [[0, \"#8e0152\"], [0.1, \"#c51b7d\"], [0.2, \"#de77ae\"], [0.3, \"#f1b6da\"], [0.4, \"#fde0ef\"], [0.5, \"#f7f7f7\"], [0.6, \"#e6f5d0\"], [0.7, \"#b8e186\"], [0.8, \"#7fbc41\"], [0.9, \"#4d9221\"], [1, \"#276419\"]], \"sequential\": [[0.0, \"#0d0887\"], [0.1111111111111111, \"#46039f\"], [0.2222222222222222, \"#7201a8\"], [0.3333333333333333, \"#9c179e\"], [0.4444444444444444, \"#bd3786\"], [0.5555555555555556, \"#d8576b\"], [0.6666666666666666, \"#ed7953\"], [0.7777777777777778, \"#fb9f3a\"], [0.8888888888888888, \"#fdca26\"], [1.0, \"#f0f921\"]], \"sequentialminus\": [[0.0, \"#0d0887\"], [0.1111111111111111, \"#46039f\"], [0.2222222222222222, \"#7201a8\"], [0.3333333333333333, \"#9c179e\"], [0.4444444444444444, \"#bd3786\"], [0.5555555555555556, \"#d8576b\"], [0.6666666666666666, \"#ed7953\"], [0.7777777777777778, \"#fb9f3a\"], [0.8888888888888888, \"#fdca26\"], [1.0, \"#f0f921\"]]}, \"colorway\": [\"#636efa\", \"#EF553B\", \"#00cc96\", \"#ab63fa\", \"#FFA15A\", \"#19d3f3\", \"#FF6692\", \"#B6E880\", \"#FF97FF\", \"#FECB52\"], \"font\": {\"color\": \"#2a3f5f\"}, \"geo\": {\"bgcolor\": \"white\", \"lakecolor\": \"white\", \"landcolor\": \"#E5ECF6\", \"showlakes\": true, \"showland\": true, \"subunitcolor\": \"white\"}, \"hoverlabel\": {\"align\": \"left\"}, \"hovermode\": \"closest\", \"mapbox\": {\"style\": \"light\"}, \"paper_bgcolor\": \"white\", \"plot_bgcolor\": \"#E5ECF6\", \"polar\": {\"angularaxis\": {\"gridcolor\": \"white\", \"linecolor\": \"white\", \"ticks\": \"\"}, \"bgcolor\": \"#E5ECF6\", \"radialaxis\": {\"gridcolor\": \"white\", \"linecolor\": \"white\", \"ticks\": \"\"}}, \"scene\": {\"xaxis\": {\"backgroundcolor\": \"#E5ECF6\", \"gridcolor\": \"white\", \"gridwidth\": 2, \"linecolor\": \"white\", \"showbackground\": true, \"ticks\": \"\", \"zerolinecolor\": \"white\"}, \"yaxis\": {\"backgroundcolor\": \"#E5ECF6\", \"gridcolor\": \"white\", \"gridwidth\": 2, \"linecolor\": \"white\", \"showbackground\": true, \"ticks\": \"\", \"zerolinecolor\": \"white\"}, \"zaxis\": {\"backgroundcolor\": \"#E5ECF6\", \"gridcolor\": \"white\", \"gridwidth\": 2, \"linecolor\": \"white\", \"showbackground\": true, \"ticks\": \"\", \"zerolinecolor\": \"white\"}}, \"shapedefaults\": {\"line\": {\"color\": \"#2a3f5f\"}}, \"ternary\": {\"aaxis\": {\"gridcolor\": \"white\", \"linecolor\": \"white\", \"ticks\": \"\"}, \"baxis\": {\"gridcolor\": \"white\", \"linecolor\": \"white\", \"ticks\": \"\"}, \"bgcolor\": \"#E5ECF6\", \"caxis\": {\"gridcolor\": \"white\", \"linecolor\": \"white\", \"ticks\": \"\"}}, \"title\": {\"x\": 0.05}, \"xaxis\": {\"automargin\": true, \"gridcolor\": \"white\", \"linecolor\": \"white\", \"ticks\": \"\", \"title\": {\"standoff\": 15}, \"zerolinecolor\": \"white\", \"zerolinewidth\": 2}, \"yaxis\": {\"automargin\": true, \"gridcolor\": \"white\", \"linecolor\": \"white\", \"ticks\": \"\", \"title\": {\"standoff\": 15}, \"zerolinecolor\": \"white\", \"zerolinewidth\": 2}}}, \"title\": {\"text\": \"\\uc2dc\\ub3c4\\ubcc4 \\ubc30\\ub2ec\\ube44\\uc728\"}},                        {\"responsive\": true}                    ).then(function(){\n",
       "                            \n",
       "var gd = document.getElementById('66660cef-2767-411f-8192-296ad6d1dc49');\n",
       "var x = new MutationObserver(function (mutations, observer) {{\n",
       "        var display = window.getComputedStyle(gd).display;\n",
       "        if (!display || display === 'none') {{\n",
       "            console.log([gd, 'removed!']);\n",
       "            Plotly.purge(gd);\n",
       "            observer.disconnect();\n",
       "        }}\n",
       "}});\n",
       "\n",
       "// Listen for the removal of the full notebook cells\n",
       "var notebookContainer = gd.closest('#notebook-container');\n",
       "if (notebookContainer) {{\n",
       "    x.observe(notebookContainer, {childList: true});\n",
       "}}\n",
       "\n",
       "// Listen for the clearing of the current output cell\n",
       "var outputEl = gd.closest('.output');\n",
       "if (outputEl) {{\n",
       "    x.observe(outputEl, {childList: true});\n",
       "}}\n",
       "\n",
       "                        })                };                });            </script>        </div>"
      ]
     },
     "metadata": {},
     "output_type": "display_data"
    }
   ],
   "source": [
    "# 상위 5개 막대 그래프 그리기\n",
    "trace1 = go.Bar(x=gr2_sort5['induty_nm'], y=gr2_sort5['count'])\n",
    "data = [trace1]\n",
    "layout = go.Layout(title='시도별 배달비율')\n",
    "fig = go.Figure(data=data, layout=layout)\n",
    "pyo.iplot(fig)"
   ]
  },
  {
   "cell_type": "code",
   "execution_count": 23,
   "metadata": {},
   "outputs": [
    {
     "data": {
      "text/html": [
       "<div>\n",
       "<style scoped>\n",
       "    .dataframe tbody tr th:only-of-type {\n",
       "        vertical-align: middle;\n",
       "    }\n",
       "\n",
       "    .dataframe tbody tr th {\n",
       "        vertical-align: top;\n",
       "    }\n",
       "\n",
       "    .dataframe thead th {\n",
       "        text-align: right;\n",
       "    }\n",
       "</style>\n",
       "<table border=\"1\" class=\"dataframe\">\n",
       "  <thead>\n",
       "    <tr style=\"text-align: right;\">\n",
       "      <th></th>\n",
       "      <th>induty_nm</th>\n",
       "      <th>count</th>\n",
       "    </tr>\n",
       "  </thead>\n",
       "  <tbody>\n",
       "    <tr>\n",
       "      <th>10</th>\n",
       "      <td>치킨</td>\n",
       "      <td>44788</td>\n",
       "    </tr>\n",
       "    <tr>\n",
       "      <th>3</th>\n",
       "      <td>분식</td>\n",
       "      <td>26467</td>\n",
       "    </tr>\n",
       "    <tr>\n",
       "      <th>14</th>\n",
       "      <td>한식</td>\n",
       "      <td>22061</td>\n",
       "    </tr>\n",
       "    <tr>\n",
       "      <th>6</th>\n",
       "      <td>야식</td>\n",
       "      <td>20306</td>\n",
       "    </tr>\n",
       "    <tr>\n",
       "      <th>11</th>\n",
       "      <td>카페/디저트</td>\n",
       "      <td>16895</td>\n",
       "    </tr>\n",
       "  </tbody>\n",
       "</table>\n",
       "</div>"
      ],
      "text/plain": [
       "   induty_nm  count\n",
       "10        치킨  44788\n",
       "3         분식  26467\n",
       "14        한식  22061\n",
       "6         야식  20306\n",
       "11    카페/디저트  16895"
      ]
     },
     "execution_count": 23,
     "metadata": {},
     "output_type": "execute_result"
    }
   ],
   "source": [
    "# 그룹3에서 많이시키는 빈도\n",
    "gr33 = gr3.groupby(['induty_nm']).size().reset_index(name='count')\n",
    "\n",
    "gr3_5 = gr33.sort_values(by=\"count\", ascending=False).head(10)\n",
    "gr3_sort5 = gr3_5.head(5)\n",
    "gr3_sort5\n"
   ]
  },
  {
   "cell_type": "code",
   "execution_count": 24,
   "metadata": {},
   "outputs": [
    {
     "data": {
      "application/vnd.plotly.v1+json": {
       "config": {
        "linkText": "Export to plot.ly",
        "plotlyServerURL": "https://plot.ly",
        "showLink": false
       },
       "data": [
        {
         "type": "bar",
         "x": [
          "치킨",
          "분식",
          "한식",
          "야식",
          "카페/디저트"
         ],
         "y": [
          44788,
          26467,
          22061,
          20306,
          16895
         ]
        }
       ],
       "layout": {
        "template": {
         "data": {
          "bar": [
           {
            "error_x": {
             "color": "#2a3f5f"
            },
            "error_y": {
             "color": "#2a3f5f"
            },
            "marker": {
             "line": {
              "color": "#E5ECF6",
              "width": 0.5
             }
            },
            "type": "bar"
           }
          ],
          "barpolar": [
           {
            "marker": {
             "line": {
              "color": "#E5ECF6",
              "width": 0.5
             }
            },
            "type": "barpolar"
           }
          ],
          "carpet": [
           {
            "aaxis": {
             "endlinecolor": "#2a3f5f",
             "gridcolor": "white",
             "linecolor": "white",
             "minorgridcolor": "white",
             "startlinecolor": "#2a3f5f"
            },
            "baxis": {
             "endlinecolor": "#2a3f5f",
             "gridcolor": "white",
             "linecolor": "white",
             "minorgridcolor": "white",
             "startlinecolor": "#2a3f5f"
            },
            "type": "carpet"
           }
          ],
          "choropleth": [
           {
            "colorbar": {
             "outlinewidth": 0,
             "ticks": ""
            },
            "type": "choropleth"
           }
          ],
          "contour": [
           {
            "colorbar": {
             "outlinewidth": 0,
             "ticks": ""
            },
            "colorscale": [
             [
              0,
              "#0d0887"
             ],
             [
              0.1111111111111111,
              "#46039f"
             ],
             [
              0.2222222222222222,
              "#7201a8"
             ],
             [
              0.3333333333333333,
              "#9c179e"
             ],
             [
              0.4444444444444444,
              "#bd3786"
             ],
             [
              0.5555555555555556,
              "#d8576b"
             ],
             [
              0.6666666666666666,
              "#ed7953"
             ],
             [
              0.7777777777777778,
              "#fb9f3a"
             ],
             [
              0.8888888888888888,
              "#fdca26"
             ],
             [
              1,
              "#f0f921"
             ]
            ],
            "type": "contour"
           }
          ],
          "contourcarpet": [
           {
            "colorbar": {
             "outlinewidth": 0,
             "ticks": ""
            },
            "type": "contourcarpet"
           }
          ],
          "heatmap": [
           {
            "colorbar": {
             "outlinewidth": 0,
             "ticks": ""
            },
            "colorscale": [
             [
              0,
              "#0d0887"
             ],
             [
              0.1111111111111111,
              "#46039f"
             ],
             [
              0.2222222222222222,
              "#7201a8"
             ],
             [
              0.3333333333333333,
              "#9c179e"
             ],
             [
              0.4444444444444444,
              "#bd3786"
             ],
             [
              0.5555555555555556,
              "#d8576b"
             ],
             [
              0.6666666666666666,
              "#ed7953"
             ],
             [
              0.7777777777777778,
              "#fb9f3a"
             ],
             [
              0.8888888888888888,
              "#fdca26"
             ],
             [
              1,
              "#f0f921"
             ]
            ],
            "type": "heatmap"
           }
          ],
          "heatmapgl": [
           {
            "colorbar": {
             "outlinewidth": 0,
             "ticks": ""
            },
            "colorscale": [
             [
              0,
              "#0d0887"
             ],
             [
              0.1111111111111111,
              "#46039f"
             ],
             [
              0.2222222222222222,
              "#7201a8"
             ],
             [
              0.3333333333333333,
              "#9c179e"
             ],
             [
              0.4444444444444444,
              "#bd3786"
             ],
             [
              0.5555555555555556,
              "#d8576b"
             ],
             [
              0.6666666666666666,
              "#ed7953"
             ],
             [
              0.7777777777777778,
              "#fb9f3a"
             ],
             [
              0.8888888888888888,
              "#fdca26"
             ],
             [
              1,
              "#f0f921"
             ]
            ],
            "type": "heatmapgl"
           }
          ],
          "histogram": [
           {
            "marker": {
             "colorbar": {
              "outlinewidth": 0,
              "ticks": ""
             }
            },
            "type": "histogram"
           }
          ],
          "histogram2d": [
           {
            "colorbar": {
             "outlinewidth": 0,
             "ticks": ""
            },
            "colorscale": [
             [
              0,
              "#0d0887"
             ],
             [
              0.1111111111111111,
              "#46039f"
             ],
             [
              0.2222222222222222,
              "#7201a8"
             ],
             [
              0.3333333333333333,
              "#9c179e"
             ],
             [
              0.4444444444444444,
              "#bd3786"
             ],
             [
              0.5555555555555556,
              "#d8576b"
             ],
             [
              0.6666666666666666,
              "#ed7953"
             ],
             [
              0.7777777777777778,
              "#fb9f3a"
             ],
             [
              0.8888888888888888,
              "#fdca26"
             ],
             [
              1,
              "#f0f921"
             ]
            ],
            "type": "histogram2d"
           }
          ],
          "histogram2dcontour": [
           {
            "colorbar": {
             "outlinewidth": 0,
             "ticks": ""
            },
            "colorscale": [
             [
              0,
              "#0d0887"
             ],
             [
              0.1111111111111111,
              "#46039f"
             ],
             [
              0.2222222222222222,
              "#7201a8"
             ],
             [
              0.3333333333333333,
              "#9c179e"
             ],
             [
              0.4444444444444444,
              "#bd3786"
             ],
             [
              0.5555555555555556,
              "#d8576b"
             ],
             [
              0.6666666666666666,
              "#ed7953"
             ],
             [
              0.7777777777777778,
              "#fb9f3a"
             ],
             [
              0.8888888888888888,
              "#fdca26"
             ],
             [
              1,
              "#f0f921"
             ]
            ],
            "type": "histogram2dcontour"
           }
          ],
          "mesh3d": [
           {
            "colorbar": {
             "outlinewidth": 0,
             "ticks": ""
            },
            "type": "mesh3d"
           }
          ],
          "parcoords": [
           {
            "line": {
             "colorbar": {
              "outlinewidth": 0,
              "ticks": ""
             }
            },
            "type": "parcoords"
           }
          ],
          "pie": [
           {
            "automargin": true,
            "type": "pie"
           }
          ],
          "scatter": [
           {
            "marker": {
             "colorbar": {
              "outlinewidth": 0,
              "ticks": ""
             }
            },
            "type": "scatter"
           }
          ],
          "scatter3d": [
           {
            "line": {
             "colorbar": {
              "outlinewidth": 0,
              "ticks": ""
             }
            },
            "marker": {
             "colorbar": {
              "outlinewidth": 0,
              "ticks": ""
             }
            },
            "type": "scatter3d"
           }
          ],
          "scattercarpet": [
           {
            "marker": {
             "colorbar": {
              "outlinewidth": 0,
              "ticks": ""
             }
            },
            "type": "scattercarpet"
           }
          ],
          "scattergeo": [
           {
            "marker": {
             "colorbar": {
              "outlinewidth": 0,
              "ticks": ""
             }
            },
            "type": "scattergeo"
           }
          ],
          "scattergl": [
           {
            "marker": {
             "colorbar": {
              "outlinewidth": 0,
              "ticks": ""
             }
            },
            "type": "scattergl"
           }
          ],
          "scattermapbox": [
           {
            "marker": {
             "colorbar": {
              "outlinewidth": 0,
              "ticks": ""
             }
            },
            "type": "scattermapbox"
           }
          ],
          "scatterpolar": [
           {
            "marker": {
             "colorbar": {
              "outlinewidth": 0,
              "ticks": ""
             }
            },
            "type": "scatterpolar"
           }
          ],
          "scatterpolargl": [
           {
            "marker": {
             "colorbar": {
              "outlinewidth": 0,
              "ticks": ""
             }
            },
            "type": "scatterpolargl"
           }
          ],
          "scatterternary": [
           {
            "marker": {
             "colorbar": {
              "outlinewidth": 0,
              "ticks": ""
             }
            },
            "type": "scatterternary"
           }
          ],
          "surface": [
           {
            "colorbar": {
             "outlinewidth": 0,
             "ticks": ""
            },
            "colorscale": [
             [
              0,
              "#0d0887"
             ],
             [
              0.1111111111111111,
              "#46039f"
             ],
             [
              0.2222222222222222,
              "#7201a8"
             ],
             [
              0.3333333333333333,
              "#9c179e"
             ],
             [
              0.4444444444444444,
              "#bd3786"
             ],
             [
              0.5555555555555556,
              "#d8576b"
             ],
             [
              0.6666666666666666,
              "#ed7953"
             ],
             [
              0.7777777777777778,
              "#fb9f3a"
             ],
             [
              0.8888888888888888,
              "#fdca26"
             ],
             [
              1,
              "#f0f921"
             ]
            ],
            "type": "surface"
           }
          ],
          "table": [
           {
            "cells": {
             "fill": {
              "color": "#EBF0F8"
             },
             "line": {
              "color": "white"
             }
            },
            "header": {
             "fill": {
              "color": "#C8D4E3"
             },
             "line": {
              "color": "white"
             }
            },
            "type": "table"
           }
          ]
         },
         "layout": {
          "annotationdefaults": {
           "arrowcolor": "#2a3f5f",
           "arrowhead": 0,
           "arrowwidth": 1
          },
          "coloraxis": {
           "colorbar": {
            "outlinewidth": 0,
            "ticks": ""
           }
          },
          "colorscale": {
           "diverging": [
            [
             0,
             "#8e0152"
            ],
            [
             0.1,
             "#c51b7d"
            ],
            [
             0.2,
             "#de77ae"
            ],
            [
             0.3,
             "#f1b6da"
            ],
            [
             0.4,
             "#fde0ef"
            ],
            [
             0.5,
             "#f7f7f7"
            ],
            [
             0.6,
             "#e6f5d0"
            ],
            [
             0.7,
             "#b8e186"
            ],
            [
             0.8,
             "#7fbc41"
            ],
            [
             0.9,
             "#4d9221"
            ],
            [
             1,
             "#276419"
            ]
           ],
           "sequential": [
            [
             0,
             "#0d0887"
            ],
            [
             0.1111111111111111,
             "#46039f"
            ],
            [
             0.2222222222222222,
             "#7201a8"
            ],
            [
             0.3333333333333333,
             "#9c179e"
            ],
            [
             0.4444444444444444,
             "#bd3786"
            ],
            [
             0.5555555555555556,
             "#d8576b"
            ],
            [
             0.6666666666666666,
             "#ed7953"
            ],
            [
             0.7777777777777778,
             "#fb9f3a"
            ],
            [
             0.8888888888888888,
             "#fdca26"
            ],
            [
             1,
             "#f0f921"
            ]
           ],
           "sequentialminus": [
            [
             0,
             "#0d0887"
            ],
            [
             0.1111111111111111,
             "#46039f"
            ],
            [
             0.2222222222222222,
             "#7201a8"
            ],
            [
             0.3333333333333333,
             "#9c179e"
            ],
            [
             0.4444444444444444,
             "#bd3786"
            ],
            [
             0.5555555555555556,
             "#d8576b"
            ],
            [
             0.6666666666666666,
             "#ed7953"
            ],
            [
             0.7777777777777778,
             "#fb9f3a"
            ],
            [
             0.8888888888888888,
             "#fdca26"
            ],
            [
             1,
             "#f0f921"
            ]
           ]
          },
          "colorway": [
           "#636efa",
           "#EF553B",
           "#00cc96",
           "#ab63fa",
           "#FFA15A",
           "#19d3f3",
           "#FF6692",
           "#B6E880",
           "#FF97FF",
           "#FECB52"
          ],
          "font": {
           "color": "#2a3f5f"
          },
          "geo": {
           "bgcolor": "white",
           "lakecolor": "white",
           "landcolor": "#E5ECF6",
           "showlakes": true,
           "showland": true,
           "subunitcolor": "white"
          },
          "hoverlabel": {
           "align": "left"
          },
          "hovermode": "closest",
          "mapbox": {
           "style": "light"
          },
          "paper_bgcolor": "white",
          "plot_bgcolor": "#E5ECF6",
          "polar": {
           "angularaxis": {
            "gridcolor": "white",
            "linecolor": "white",
            "ticks": ""
           },
           "bgcolor": "#E5ECF6",
           "radialaxis": {
            "gridcolor": "white",
            "linecolor": "white",
            "ticks": ""
           }
          },
          "scene": {
           "xaxis": {
            "backgroundcolor": "#E5ECF6",
            "gridcolor": "white",
            "gridwidth": 2,
            "linecolor": "white",
            "showbackground": true,
            "ticks": "",
            "zerolinecolor": "white"
           },
           "yaxis": {
            "backgroundcolor": "#E5ECF6",
            "gridcolor": "white",
            "gridwidth": 2,
            "linecolor": "white",
            "showbackground": true,
            "ticks": "",
            "zerolinecolor": "white"
           },
           "zaxis": {
            "backgroundcolor": "#E5ECF6",
            "gridcolor": "white",
            "gridwidth": 2,
            "linecolor": "white",
            "showbackground": true,
            "ticks": "",
            "zerolinecolor": "white"
           }
          },
          "shapedefaults": {
           "line": {
            "color": "#2a3f5f"
           }
          },
          "ternary": {
           "aaxis": {
            "gridcolor": "white",
            "linecolor": "white",
            "ticks": ""
           },
           "baxis": {
            "gridcolor": "white",
            "linecolor": "white",
            "ticks": ""
           },
           "bgcolor": "#E5ECF6",
           "caxis": {
            "gridcolor": "white",
            "linecolor": "white",
            "ticks": ""
           }
          },
          "title": {
           "x": 0.05
          },
          "xaxis": {
           "automargin": true,
           "gridcolor": "white",
           "linecolor": "white",
           "ticks": "",
           "title": {
            "standoff": 15
           },
           "zerolinecolor": "white",
           "zerolinewidth": 2
          },
          "yaxis": {
           "automargin": true,
           "gridcolor": "white",
           "linecolor": "white",
           "ticks": "",
           "title": {
            "standoff": 15
           },
           "zerolinecolor": "white",
           "zerolinewidth": 2
          }
         }
        },
        "title": {
         "text": "시도별 배달비율"
        }
       }
      },
      "text/html": [
       "<div>                            <div id=\"0f66a4cb-fedb-442c-a9ef-ab68594b1c38\" class=\"plotly-graph-div\" style=\"height:525px; width:100%;\"></div>            <script type=\"text/javascript\">                require([\"plotly\"], function(Plotly) {                    window.PLOTLYENV=window.PLOTLYENV || {};                                    if (document.getElementById(\"0f66a4cb-fedb-442c-a9ef-ab68594b1c38\")) {                    Plotly.newPlot(                        \"0f66a4cb-fedb-442c-a9ef-ab68594b1c38\",                        [{\"type\": \"bar\", \"x\": [\"\\uce58\\ud0a8\", \"\\ubd84\\uc2dd\", \"\\ud55c\\uc2dd\", \"\\uc57c\\uc2dd\", \"\\uce74\\ud398/\\ub514\\uc800\\ud2b8\"], \"y\": [44788, 26467, 22061, 20306, 16895]}],                        {\"template\": {\"data\": {\"bar\": [{\"error_x\": {\"color\": \"#2a3f5f\"}, \"error_y\": {\"color\": \"#2a3f5f\"}, \"marker\": {\"line\": {\"color\": \"#E5ECF6\", \"width\": 0.5}}, \"type\": \"bar\"}], \"barpolar\": [{\"marker\": {\"line\": {\"color\": \"#E5ECF6\", \"width\": 0.5}}, \"type\": \"barpolar\"}], \"carpet\": [{\"aaxis\": {\"endlinecolor\": \"#2a3f5f\", \"gridcolor\": \"white\", \"linecolor\": \"white\", \"minorgridcolor\": \"white\", \"startlinecolor\": \"#2a3f5f\"}, \"baxis\": {\"endlinecolor\": \"#2a3f5f\", \"gridcolor\": \"white\", \"linecolor\": \"white\", \"minorgridcolor\": \"white\", \"startlinecolor\": \"#2a3f5f\"}, \"type\": \"carpet\"}], \"choropleth\": [{\"colorbar\": {\"outlinewidth\": 0, \"ticks\": \"\"}, \"type\": \"choropleth\"}], \"contour\": [{\"colorbar\": {\"outlinewidth\": 0, \"ticks\": \"\"}, \"colorscale\": [[0.0, \"#0d0887\"], [0.1111111111111111, \"#46039f\"], [0.2222222222222222, \"#7201a8\"], [0.3333333333333333, \"#9c179e\"], [0.4444444444444444, \"#bd3786\"], [0.5555555555555556, \"#d8576b\"], [0.6666666666666666, \"#ed7953\"], [0.7777777777777778, \"#fb9f3a\"], [0.8888888888888888, \"#fdca26\"], [1.0, \"#f0f921\"]], \"type\": \"contour\"}], \"contourcarpet\": [{\"colorbar\": {\"outlinewidth\": 0, \"ticks\": \"\"}, \"type\": \"contourcarpet\"}], \"heatmap\": [{\"colorbar\": {\"outlinewidth\": 0, \"ticks\": \"\"}, \"colorscale\": [[0.0, \"#0d0887\"], [0.1111111111111111, \"#46039f\"], [0.2222222222222222, \"#7201a8\"], [0.3333333333333333, \"#9c179e\"], [0.4444444444444444, \"#bd3786\"], [0.5555555555555556, \"#d8576b\"], [0.6666666666666666, \"#ed7953\"], [0.7777777777777778, \"#fb9f3a\"], [0.8888888888888888, \"#fdca26\"], [1.0, \"#f0f921\"]], \"type\": \"heatmap\"}], \"heatmapgl\": [{\"colorbar\": {\"outlinewidth\": 0, \"ticks\": \"\"}, \"colorscale\": [[0.0, \"#0d0887\"], [0.1111111111111111, \"#46039f\"], [0.2222222222222222, \"#7201a8\"], [0.3333333333333333, \"#9c179e\"], [0.4444444444444444, \"#bd3786\"], [0.5555555555555556, \"#d8576b\"], [0.6666666666666666, \"#ed7953\"], [0.7777777777777778, \"#fb9f3a\"], [0.8888888888888888, \"#fdca26\"], [1.0, \"#f0f921\"]], \"type\": \"heatmapgl\"}], \"histogram\": [{\"marker\": {\"colorbar\": {\"outlinewidth\": 0, \"ticks\": \"\"}}, \"type\": \"histogram\"}], \"histogram2d\": [{\"colorbar\": {\"outlinewidth\": 0, \"ticks\": \"\"}, \"colorscale\": [[0.0, \"#0d0887\"], [0.1111111111111111, \"#46039f\"], [0.2222222222222222, \"#7201a8\"], [0.3333333333333333, \"#9c179e\"], [0.4444444444444444, \"#bd3786\"], [0.5555555555555556, \"#d8576b\"], [0.6666666666666666, \"#ed7953\"], [0.7777777777777778, \"#fb9f3a\"], [0.8888888888888888, \"#fdca26\"], [1.0, \"#f0f921\"]], \"type\": \"histogram2d\"}], \"histogram2dcontour\": [{\"colorbar\": {\"outlinewidth\": 0, \"ticks\": \"\"}, \"colorscale\": [[0.0, \"#0d0887\"], [0.1111111111111111, \"#46039f\"], [0.2222222222222222, \"#7201a8\"], [0.3333333333333333, \"#9c179e\"], [0.4444444444444444, \"#bd3786\"], [0.5555555555555556, \"#d8576b\"], [0.6666666666666666, \"#ed7953\"], [0.7777777777777778, \"#fb9f3a\"], [0.8888888888888888, \"#fdca26\"], [1.0, \"#f0f921\"]], \"type\": \"histogram2dcontour\"}], \"mesh3d\": [{\"colorbar\": {\"outlinewidth\": 0, \"ticks\": \"\"}, \"type\": \"mesh3d\"}], \"parcoords\": [{\"line\": {\"colorbar\": {\"outlinewidth\": 0, \"ticks\": \"\"}}, \"type\": \"parcoords\"}], \"pie\": [{\"automargin\": true, \"type\": \"pie\"}], \"scatter\": [{\"marker\": {\"colorbar\": {\"outlinewidth\": 0, \"ticks\": \"\"}}, \"type\": \"scatter\"}], \"scatter3d\": [{\"line\": {\"colorbar\": {\"outlinewidth\": 0, \"ticks\": \"\"}}, \"marker\": {\"colorbar\": {\"outlinewidth\": 0, \"ticks\": \"\"}}, \"type\": \"scatter3d\"}], \"scattercarpet\": [{\"marker\": {\"colorbar\": {\"outlinewidth\": 0, \"ticks\": \"\"}}, \"type\": \"scattercarpet\"}], \"scattergeo\": [{\"marker\": {\"colorbar\": {\"outlinewidth\": 0, \"ticks\": \"\"}}, \"type\": \"scattergeo\"}], \"scattergl\": [{\"marker\": {\"colorbar\": {\"outlinewidth\": 0, \"ticks\": \"\"}}, \"type\": \"scattergl\"}], \"scattermapbox\": [{\"marker\": {\"colorbar\": {\"outlinewidth\": 0, \"ticks\": \"\"}}, \"type\": \"scattermapbox\"}], \"scatterpolar\": [{\"marker\": {\"colorbar\": {\"outlinewidth\": 0, \"ticks\": \"\"}}, \"type\": \"scatterpolar\"}], \"scatterpolargl\": [{\"marker\": {\"colorbar\": {\"outlinewidth\": 0, \"ticks\": \"\"}}, \"type\": \"scatterpolargl\"}], \"scatterternary\": [{\"marker\": {\"colorbar\": {\"outlinewidth\": 0, \"ticks\": \"\"}}, \"type\": \"scatterternary\"}], \"surface\": [{\"colorbar\": {\"outlinewidth\": 0, \"ticks\": \"\"}, \"colorscale\": [[0.0, \"#0d0887\"], [0.1111111111111111, \"#46039f\"], [0.2222222222222222, \"#7201a8\"], [0.3333333333333333, \"#9c179e\"], [0.4444444444444444, \"#bd3786\"], [0.5555555555555556, \"#d8576b\"], [0.6666666666666666, \"#ed7953\"], [0.7777777777777778, \"#fb9f3a\"], [0.8888888888888888, \"#fdca26\"], [1.0, \"#f0f921\"]], \"type\": \"surface\"}], \"table\": [{\"cells\": {\"fill\": {\"color\": \"#EBF0F8\"}, \"line\": {\"color\": \"white\"}}, \"header\": {\"fill\": {\"color\": \"#C8D4E3\"}, \"line\": {\"color\": \"white\"}}, \"type\": \"table\"}]}, \"layout\": {\"annotationdefaults\": {\"arrowcolor\": \"#2a3f5f\", \"arrowhead\": 0, \"arrowwidth\": 1}, \"coloraxis\": {\"colorbar\": {\"outlinewidth\": 0, \"ticks\": \"\"}}, \"colorscale\": {\"diverging\": [[0, \"#8e0152\"], [0.1, \"#c51b7d\"], [0.2, \"#de77ae\"], [0.3, \"#f1b6da\"], [0.4, \"#fde0ef\"], [0.5, \"#f7f7f7\"], [0.6, \"#e6f5d0\"], [0.7, \"#b8e186\"], [0.8, \"#7fbc41\"], [0.9, \"#4d9221\"], [1, \"#276419\"]], \"sequential\": [[0.0, \"#0d0887\"], [0.1111111111111111, \"#46039f\"], [0.2222222222222222, \"#7201a8\"], [0.3333333333333333, \"#9c179e\"], [0.4444444444444444, \"#bd3786\"], [0.5555555555555556, \"#d8576b\"], [0.6666666666666666, \"#ed7953\"], [0.7777777777777778, \"#fb9f3a\"], [0.8888888888888888, \"#fdca26\"], [1.0, \"#f0f921\"]], \"sequentialminus\": [[0.0, \"#0d0887\"], [0.1111111111111111, \"#46039f\"], [0.2222222222222222, \"#7201a8\"], [0.3333333333333333, \"#9c179e\"], [0.4444444444444444, \"#bd3786\"], [0.5555555555555556, \"#d8576b\"], [0.6666666666666666, \"#ed7953\"], [0.7777777777777778, \"#fb9f3a\"], [0.8888888888888888, \"#fdca26\"], [1.0, \"#f0f921\"]]}, \"colorway\": [\"#636efa\", \"#EF553B\", \"#00cc96\", \"#ab63fa\", \"#FFA15A\", \"#19d3f3\", \"#FF6692\", \"#B6E880\", \"#FF97FF\", \"#FECB52\"], \"font\": {\"color\": \"#2a3f5f\"}, \"geo\": {\"bgcolor\": \"white\", \"lakecolor\": \"white\", \"landcolor\": \"#E5ECF6\", \"showlakes\": true, \"showland\": true, \"subunitcolor\": \"white\"}, \"hoverlabel\": {\"align\": \"left\"}, \"hovermode\": \"closest\", \"mapbox\": {\"style\": \"light\"}, \"paper_bgcolor\": \"white\", \"plot_bgcolor\": \"#E5ECF6\", \"polar\": {\"angularaxis\": {\"gridcolor\": \"white\", \"linecolor\": \"white\", \"ticks\": \"\"}, \"bgcolor\": \"#E5ECF6\", \"radialaxis\": {\"gridcolor\": \"white\", \"linecolor\": \"white\", \"ticks\": \"\"}}, \"scene\": {\"xaxis\": {\"backgroundcolor\": \"#E5ECF6\", \"gridcolor\": \"white\", \"gridwidth\": 2, \"linecolor\": \"white\", \"showbackground\": true, \"ticks\": \"\", \"zerolinecolor\": \"white\"}, \"yaxis\": {\"backgroundcolor\": \"#E5ECF6\", \"gridcolor\": \"white\", \"gridwidth\": 2, \"linecolor\": \"white\", \"showbackground\": true, \"ticks\": \"\", \"zerolinecolor\": \"white\"}, \"zaxis\": {\"backgroundcolor\": \"#E5ECF6\", \"gridcolor\": \"white\", \"gridwidth\": 2, \"linecolor\": \"white\", \"showbackground\": true, \"ticks\": \"\", \"zerolinecolor\": \"white\"}}, \"shapedefaults\": {\"line\": {\"color\": \"#2a3f5f\"}}, \"ternary\": {\"aaxis\": {\"gridcolor\": \"white\", \"linecolor\": \"white\", \"ticks\": \"\"}, \"baxis\": {\"gridcolor\": \"white\", \"linecolor\": \"white\", \"ticks\": \"\"}, \"bgcolor\": \"#E5ECF6\", \"caxis\": {\"gridcolor\": \"white\", \"linecolor\": \"white\", \"ticks\": \"\"}}, \"title\": {\"x\": 0.05}, \"xaxis\": {\"automargin\": true, \"gridcolor\": \"white\", \"linecolor\": \"white\", \"ticks\": \"\", \"title\": {\"standoff\": 15}, \"zerolinecolor\": \"white\", \"zerolinewidth\": 2}, \"yaxis\": {\"automargin\": true, \"gridcolor\": \"white\", \"linecolor\": \"white\", \"ticks\": \"\", \"title\": {\"standoff\": 15}, \"zerolinecolor\": \"white\", \"zerolinewidth\": 2}}}, \"title\": {\"text\": \"\\uc2dc\\ub3c4\\ubcc4 \\ubc30\\ub2ec\\ube44\\uc728\"}},                        {\"responsive\": true}                    ).then(function(){\n",
       "                            \n",
       "var gd = document.getElementById('0f66a4cb-fedb-442c-a9ef-ab68594b1c38');\n",
       "var x = new MutationObserver(function (mutations, observer) {{\n",
       "        var display = window.getComputedStyle(gd).display;\n",
       "        if (!display || display === 'none') {{\n",
       "            console.log([gd, 'removed!']);\n",
       "            Plotly.purge(gd);\n",
       "            observer.disconnect();\n",
       "        }}\n",
       "}});\n",
       "\n",
       "// Listen for the removal of the full notebook cells\n",
       "var notebookContainer = gd.closest('#notebook-container');\n",
       "if (notebookContainer) {{\n",
       "    x.observe(notebookContainer, {childList: true});\n",
       "}}\n",
       "\n",
       "// Listen for the clearing of the current output cell\n",
       "var outputEl = gd.closest('.output');\n",
       "if (outputEl) {{\n",
       "    x.observe(outputEl, {childList: true});\n",
       "}}\n",
       "\n",
       "                        })                };                });            </script>        </div>"
      ]
     },
     "metadata": {},
     "output_type": "display_data"
    }
   ],
   "source": [
    "# 상위 5개 막대 그래프 그리기\n",
    "trace1 = go.Bar(x=gr3_sort5['induty_nm'], y=gr3_sort5['count'])\n",
    "data = [trace1]\n",
    "layout = go.Layout(title='시도별 배달비율')\n",
    "fig = go.Figure(data=data, layout=layout)\n",
    "pyo.iplot(fig)"
   ]
  },
  {
   "cell_type": "code",
   "execution_count": 25,
   "metadata": {},
   "outputs": [
    {
     "data": {
      "text/html": [
       "<div>\n",
       "<style scoped>\n",
       "    .dataframe tbody tr th:only-of-type {\n",
       "        vertical-align: middle;\n",
       "    }\n",
       "\n",
       "    .dataframe tbody tr th {\n",
       "        vertical-align: top;\n",
       "    }\n",
       "\n",
       "    .dataframe thead th {\n",
       "        text-align: right;\n",
       "    }\n",
       "</style>\n",
       "<table border=\"1\" class=\"dataframe\">\n",
       "  <thead>\n",
       "    <tr style=\"text-align: right;\">\n",
       "      <th></th>\n",
       "      <th>induty_nm</th>\n",
       "      <th>count</th>\n",
       "    </tr>\n",
       "  </thead>\n",
       "  <tbody>\n",
       "    <tr>\n",
       "      <th>10</th>\n",
       "      <td>치킨</td>\n",
       "      <td>76882</td>\n",
       "    </tr>\n",
       "    <tr>\n",
       "      <th>14</th>\n",
       "      <td>한식</td>\n",
       "      <td>46084</td>\n",
       "    </tr>\n",
       "    <tr>\n",
       "      <th>3</th>\n",
       "      <td>분식</td>\n",
       "      <td>34854</td>\n",
       "    </tr>\n",
       "    <tr>\n",
       "      <th>11</th>\n",
       "      <td>카페/디저트</td>\n",
       "      <td>30887</td>\n",
       "    </tr>\n",
       "    <tr>\n",
       "      <th>13</th>\n",
       "      <td>피자</td>\n",
       "      <td>21231</td>\n",
       "    </tr>\n",
       "  </tbody>\n",
       "</table>\n",
       "</div>"
      ],
      "text/plain": [
       "   induty_nm  count\n",
       "10        치킨  76882\n",
       "14        한식  46084\n",
       "3         분식  34854\n",
       "11    카페/디저트  30887\n",
       "13        피자  21231"
      ]
     },
     "execution_count": 25,
     "metadata": {},
     "output_type": "execute_result"
    }
   ],
   "source": [
    "# 그룹4에서 많이시키는 빈도\n",
    "gr44 = gr4.groupby(['induty_nm']).size().reset_index(name='count')\n",
    "\n",
    "gr4_5 = gr44.sort_values(by=\"count\", ascending=False).head(10)\n",
    "gr4_sort5 = gr4_5.head(5)\n",
    "gr4_sort5\n"
   ]
  },
  {
   "cell_type": "code",
   "execution_count": 26,
   "metadata": {},
   "outputs": [
    {
     "data": {
      "application/vnd.plotly.v1+json": {
       "config": {
        "linkText": "Export to plot.ly",
        "plotlyServerURL": "https://plot.ly",
        "showLink": false
       },
       "data": [
        {
         "type": "bar",
         "x": [
          "치킨",
          "한식",
          "분식",
          "카페/디저트",
          "피자"
         ],
         "y": [
          76882,
          46084,
          34854,
          30887,
          21231
         ]
        }
       ],
       "layout": {
        "template": {
         "data": {
          "bar": [
           {
            "error_x": {
             "color": "#2a3f5f"
            },
            "error_y": {
             "color": "#2a3f5f"
            },
            "marker": {
             "line": {
              "color": "#E5ECF6",
              "width": 0.5
             }
            },
            "type": "bar"
           }
          ],
          "barpolar": [
           {
            "marker": {
             "line": {
              "color": "#E5ECF6",
              "width": 0.5
             }
            },
            "type": "barpolar"
           }
          ],
          "carpet": [
           {
            "aaxis": {
             "endlinecolor": "#2a3f5f",
             "gridcolor": "white",
             "linecolor": "white",
             "minorgridcolor": "white",
             "startlinecolor": "#2a3f5f"
            },
            "baxis": {
             "endlinecolor": "#2a3f5f",
             "gridcolor": "white",
             "linecolor": "white",
             "minorgridcolor": "white",
             "startlinecolor": "#2a3f5f"
            },
            "type": "carpet"
           }
          ],
          "choropleth": [
           {
            "colorbar": {
             "outlinewidth": 0,
             "ticks": ""
            },
            "type": "choropleth"
           }
          ],
          "contour": [
           {
            "colorbar": {
             "outlinewidth": 0,
             "ticks": ""
            },
            "colorscale": [
             [
              0,
              "#0d0887"
             ],
             [
              0.1111111111111111,
              "#46039f"
             ],
             [
              0.2222222222222222,
              "#7201a8"
             ],
             [
              0.3333333333333333,
              "#9c179e"
             ],
             [
              0.4444444444444444,
              "#bd3786"
             ],
             [
              0.5555555555555556,
              "#d8576b"
             ],
             [
              0.6666666666666666,
              "#ed7953"
             ],
             [
              0.7777777777777778,
              "#fb9f3a"
             ],
             [
              0.8888888888888888,
              "#fdca26"
             ],
             [
              1,
              "#f0f921"
             ]
            ],
            "type": "contour"
           }
          ],
          "contourcarpet": [
           {
            "colorbar": {
             "outlinewidth": 0,
             "ticks": ""
            },
            "type": "contourcarpet"
           }
          ],
          "heatmap": [
           {
            "colorbar": {
             "outlinewidth": 0,
             "ticks": ""
            },
            "colorscale": [
             [
              0,
              "#0d0887"
             ],
             [
              0.1111111111111111,
              "#46039f"
             ],
             [
              0.2222222222222222,
              "#7201a8"
             ],
             [
              0.3333333333333333,
              "#9c179e"
             ],
             [
              0.4444444444444444,
              "#bd3786"
             ],
             [
              0.5555555555555556,
              "#d8576b"
             ],
             [
              0.6666666666666666,
              "#ed7953"
             ],
             [
              0.7777777777777778,
              "#fb9f3a"
             ],
             [
              0.8888888888888888,
              "#fdca26"
             ],
             [
              1,
              "#f0f921"
             ]
            ],
            "type": "heatmap"
           }
          ],
          "heatmapgl": [
           {
            "colorbar": {
             "outlinewidth": 0,
             "ticks": ""
            },
            "colorscale": [
             [
              0,
              "#0d0887"
             ],
             [
              0.1111111111111111,
              "#46039f"
             ],
             [
              0.2222222222222222,
              "#7201a8"
             ],
             [
              0.3333333333333333,
              "#9c179e"
             ],
             [
              0.4444444444444444,
              "#bd3786"
             ],
             [
              0.5555555555555556,
              "#d8576b"
             ],
             [
              0.6666666666666666,
              "#ed7953"
             ],
             [
              0.7777777777777778,
              "#fb9f3a"
             ],
             [
              0.8888888888888888,
              "#fdca26"
             ],
             [
              1,
              "#f0f921"
             ]
            ],
            "type": "heatmapgl"
           }
          ],
          "histogram": [
           {
            "marker": {
             "colorbar": {
              "outlinewidth": 0,
              "ticks": ""
             }
            },
            "type": "histogram"
           }
          ],
          "histogram2d": [
           {
            "colorbar": {
             "outlinewidth": 0,
             "ticks": ""
            },
            "colorscale": [
             [
              0,
              "#0d0887"
             ],
             [
              0.1111111111111111,
              "#46039f"
             ],
             [
              0.2222222222222222,
              "#7201a8"
             ],
             [
              0.3333333333333333,
              "#9c179e"
             ],
             [
              0.4444444444444444,
              "#bd3786"
             ],
             [
              0.5555555555555556,
              "#d8576b"
             ],
             [
              0.6666666666666666,
              "#ed7953"
             ],
             [
              0.7777777777777778,
              "#fb9f3a"
             ],
             [
              0.8888888888888888,
              "#fdca26"
             ],
             [
              1,
              "#f0f921"
             ]
            ],
            "type": "histogram2d"
           }
          ],
          "histogram2dcontour": [
           {
            "colorbar": {
             "outlinewidth": 0,
             "ticks": ""
            },
            "colorscale": [
             [
              0,
              "#0d0887"
             ],
             [
              0.1111111111111111,
              "#46039f"
             ],
             [
              0.2222222222222222,
              "#7201a8"
             ],
             [
              0.3333333333333333,
              "#9c179e"
             ],
             [
              0.4444444444444444,
              "#bd3786"
             ],
             [
              0.5555555555555556,
              "#d8576b"
             ],
             [
              0.6666666666666666,
              "#ed7953"
             ],
             [
              0.7777777777777778,
              "#fb9f3a"
             ],
             [
              0.8888888888888888,
              "#fdca26"
             ],
             [
              1,
              "#f0f921"
             ]
            ],
            "type": "histogram2dcontour"
           }
          ],
          "mesh3d": [
           {
            "colorbar": {
             "outlinewidth": 0,
             "ticks": ""
            },
            "type": "mesh3d"
           }
          ],
          "parcoords": [
           {
            "line": {
             "colorbar": {
              "outlinewidth": 0,
              "ticks": ""
             }
            },
            "type": "parcoords"
           }
          ],
          "pie": [
           {
            "automargin": true,
            "type": "pie"
           }
          ],
          "scatter": [
           {
            "marker": {
             "colorbar": {
              "outlinewidth": 0,
              "ticks": ""
             }
            },
            "type": "scatter"
           }
          ],
          "scatter3d": [
           {
            "line": {
             "colorbar": {
              "outlinewidth": 0,
              "ticks": ""
             }
            },
            "marker": {
             "colorbar": {
              "outlinewidth": 0,
              "ticks": ""
             }
            },
            "type": "scatter3d"
           }
          ],
          "scattercarpet": [
           {
            "marker": {
             "colorbar": {
              "outlinewidth": 0,
              "ticks": ""
             }
            },
            "type": "scattercarpet"
           }
          ],
          "scattergeo": [
           {
            "marker": {
             "colorbar": {
              "outlinewidth": 0,
              "ticks": ""
             }
            },
            "type": "scattergeo"
           }
          ],
          "scattergl": [
           {
            "marker": {
             "colorbar": {
              "outlinewidth": 0,
              "ticks": ""
             }
            },
            "type": "scattergl"
           }
          ],
          "scattermapbox": [
           {
            "marker": {
             "colorbar": {
              "outlinewidth": 0,
              "ticks": ""
             }
            },
            "type": "scattermapbox"
           }
          ],
          "scatterpolar": [
           {
            "marker": {
             "colorbar": {
              "outlinewidth": 0,
              "ticks": ""
             }
            },
            "type": "scatterpolar"
           }
          ],
          "scatterpolargl": [
           {
            "marker": {
             "colorbar": {
              "outlinewidth": 0,
              "ticks": ""
             }
            },
            "type": "scatterpolargl"
           }
          ],
          "scatterternary": [
           {
            "marker": {
             "colorbar": {
              "outlinewidth": 0,
              "ticks": ""
             }
            },
            "type": "scatterternary"
           }
          ],
          "surface": [
           {
            "colorbar": {
             "outlinewidth": 0,
             "ticks": ""
            },
            "colorscale": [
             [
              0,
              "#0d0887"
             ],
             [
              0.1111111111111111,
              "#46039f"
             ],
             [
              0.2222222222222222,
              "#7201a8"
             ],
             [
              0.3333333333333333,
              "#9c179e"
             ],
             [
              0.4444444444444444,
              "#bd3786"
             ],
             [
              0.5555555555555556,
              "#d8576b"
             ],
             [
              0.6666666666666666,
              "#ed7953"
             ],
             [
              0.7777777777777778,
              "#fb9f3a"
             ],
             [
              0.8888888888888888,
              "#fdca26"
             ],
             [
              1,
              "#f0f921"
             ]
            ],
            "type": "surface"
           }
          ],
          "table": [
           {
            "cells": {
             "fill": {
              "color": "#EBF0F8"
             },
             "line": {
              "color": "white"
             }
            },
            "header": {
             "fill": {
              "color": "#C8D4E3"
             },
             "line": {
              "color": "white"
             }
            },
            "type": "table"
           }
          ]
         },
         "layout": {
          "annotationdefaults": {
           "arrowcolor": "#2a3f5f",
           "arrowhead": 0,
           "arrowwidth": 1
          },
          "coloraxis": {
           "colorbar": {
            "outlinewidth": 0,
            "ticks": ""
           }
          },
          "colorscale": {
           "diverging": [
            [
             0,
             "#8e0152"
            ],
            [
             0.1,
             "#c51b7d"
            ],
            [
             0.2,
             "#de77ae"
            ],
            [
             0.3,
             "#f1b6da"
            ],
            [
             0.4,
             "#fde0ef"
            ],
            [
             0.5,
             "#f7f7f7"
            ],
            [
             0.6,
             "#e6f5d0"
            ],
            [
             0.7,
             "#b8e186"
            ],
            [
             0.8,
             "#7fbc41"
            ],
            [
             0.9,
             "#4d9221"
            ],
            [
             1,
             "#276419"
            ]
           ],
           "sequential": [
            [
             0,
             "#0d0887"
            ],
            [
             0.1111111111111111,
             "#46039f"
            ],
            [
             0.2222222222222222,
             "#7201a8"
            ],
            [
             0.3333333333333333,
             "#9c179e"
            ],
            [
             0.4444444444444444,
             "#bd3786"
            ],
            [
             0.5555555555555556,
             "#d8576b"
            ],
            [
             0.6666666666666666,
             "#ed7953"
            ],
            [
             0.7777777777777778,
             "#fb9f3a"
            ],
            [
             0.8888888888888888,
             "#fdca26"
            ],
            [
             1,
             "#f0f921"
            ]
           ],
           "sequentialminus": [
            [
             0,
             "#0d0887"
            ],
            [
             0.1111111111111111,
             "#46039f"
            ],
            [
             0.2222222222222222,
             "#7201a8"
            ],
            [
             0.3333333333333333,
             "#9c179e"
            ],
            [
             0.4444444444444444,
             "#bd3786"
            ],
            [
             0.5555555555555556,
             "#d8576b"
            ],
            [
             0.6666666666666666,
             "#ed7953"
            ],
            [
             0.7777777777777778,
             "#fb9f3a"
            ],
            [
             0.8888888888888888,
             "#fdca26"
            ],
            [
             1,
             "#f0f921"
            ]
           ]
          },
          "colorway": [
           "#636efa",
           "#EF553B",
           "#00cc96",
           "#ab63fa",
           "#FFA15A",
           "#19d3f3",
           "#FF6692",
           "#B6E880",
           "#FF97FF",
           "#FECB52"
          ],
          "font": {
           "color": "#2a3f5f"
          },
          "geo": {
           "bgcolor": "white",
           "lakecolor": "white",
           "landcolor": "#E5ECF6",
           "showlakes": true,
           "showland": true,
           "subunitcolor": "white"
          },
          "hoverlabel": {
           "align": "left"
          },
          "hovermode": "closest",
          "mapbox": {
           "style": "light"
          },
          "paper_bgcolor": "white",
          "plot_bgcolor": "#E5ECF6",
          "polar": {
           "angularaxis": {
            "gridcolor": "white",
            "linecolor": "white",
            "ticks": ""
           },
           "bgcolor": "#E5ECF6",
           "radialaxis": {
            "gridcolor": "white",
            "linecolor": "white",
            "ticks": ""
           }
          },
          "scene": {
           "xaxis": {
            "backgroundcolor": "#E5ECF6",
            "gridcolor": "white",
            "gridwidth": 2,
            "linecolor": "white",
            "showbackground": true,
            "ticks": "",
            "zerolinecolor": "white"
           },
           "yaxis": {
            "backgroundcolor": "#E5ECF6",
            "gridcolor": "white",
            "gridwidth": 2,
            "linecolor": "white",
            "showbackground": true,
            "ticks": "",
            "zerolinecolor": "white"
           },
           "zaxis": {
            "backgroundcolor": "#E5ECF6",
            "gridcolor": "white",
            "gridwidth": 2,
            "linecolor": "white",
            "showbackground": true,
            "ticks": "",
            "zerolinecolor": "white"
           }
          },
          "shapedefaults": {
           "line": {
            "color": "#2a3f5f"
           }
          },
          "ternary": {
           "aaxis": {
            "gridcolor": "white",
            "linecolor": "white",
            "ticks": ""
           },
           "baxis": {
            "gridcolor": "white",
            "linecolor": "white",
            "ticks": ""
           },
           "bgcolor": "#E5ECF6",
           "caxis": {
            "gridcolor": "white",
            "linecolor": "white",
            "ticks": ""
           }
          },
          "title": {
           "x": 0.05
          },
          "xaxis": {
           "automargin": true,
           "gridcolor": "white",
           "linecolor": "white",
           "ticks": "",
           "title": {
            "standoff": 15
           },
           "zerolinecolor": "white",
           "zerolinewidth": 2
          },
          "yaxis": {
           "automargin": true,
           "gridcolor": "white",
           "linecolor": "white",
           "ticks": "",
           "title": {
            "standoff": 15
           },
           "zerolinecolor": "white",
           "zerolinewidth": 2
          }
         }
        },
        "title": {
         "text": "시도별 배달비율"
        }
       }
      },
      "text/html": [
       "<div>                            <div id=\"05128c32-1115-4b52-b98d-fe1f00f47d49\" class=\"plotly-graph-div\" style=\"height:525px; width:100%;\"></div>            <script type=\"text/javascript\">                require([\"plotly\"], function(Plotly) {                    window.PLOTLYENV=window.PLOTLYENV || {};                                    if (document.getElementById(\"05128c32-1115-4b52-b98d-fe1f00f47d49\")) {                    Plotly.newPlot(                        \"05128c32-1115-4b52-b98d-fe1f00f47d49\",                        [{\"type\": \"bar\", \"x\": [\"\\uce58\\ud0a8\", \"\\ud55c\\uc2dd\", \"\\ubd84\\uc2dd\", \"\\uce74\\ud398/\\ub514\\uc800\\ud2b8\", \"\\ud53c\\uc790\"], \"y\": [76882, 46084, 34854, 30887, 21231]}],                        {\"template\": {\"data\": {\"bar\": [{\"error_x\": {\"color\": \"#2a3f5f\"}, \"error_y\": {\"color\": \"#2a3f5f\"}, \"marker\": {\"line\": {\"color\": \"#E5ECF6\", \"width\": 0.5}}, \"type\": \"bar\"}], \"barpolar\": [{\"marker\": {\"line\": {\"color\": \"#E5ECF6\", \"width\": 0.5}}, \"type\": \"barpolar\"}], \"carpet\": [{\"aaxis\": {\"endlinecolor\": \"#2a3f5f\", \"gridcolor\": \"white\", \"linecolor\": \"white\", \"minorgridcolor\": \"white\", \"startlinecolor\": \"#2a3f5f\"}, \"baxis\": {\"endlinecolor\": \"#2a3f5f\", \"gridcolor\": \"white\", \"linecolor\": \"white\", \"minorgridcolor\": \"white\", \"startlinecolor\": \"#2a3f5f\"}, \"type\": \"carpet\"}], \"choropleth\": [{\"colorbar\": {\"outlinewidth\": 0, \"ticks\": \"\"}, \"type\": \"choropleth\"}], \"contour\": [{\"colorbar\": {\"outlinewidth\": 0, \"ticks\": \"\"}, \"colorscale\": [[0.0, \"#0d0887\"], [0.1111111111111111, \"#46039f\"], [0.2222222222222222, \"#7201a8\"], [0.3333333333333333, \"#9c179e\"], [0.4444444444444444, \"#bd3786\"], [0.5555555555555556, \"#d8576b\"], [0.6666666666666666, \"#ed7953\"], [0.7777777777777778, \"#fb9f3a\"], [0.8888888888888888, \"#fdca26\"], [1.0, \"#f0f921\"]], \"type\": \"contour\"}], \"contourcarpet\": [{\"colorbar\": {\"outlinewidth\": 0, \"ticks\": \"\"}, \"type\": \"contourcarpet\"}], \"heatmap\": [{\"colorbar\": {\"outlinewidth\": 0, \"ticks\": \"\"}, \"colorscale\": [[0.0, \"#0d0887\"], [0.1111111111111111, \"#46039f\"], [0.2222222222222222, \"#7201a8\"], [0.3333333333333333, \"#9c179e\"], [0.4444444444444444, \"#bd3786\"], [0.5555555555555556, \"#d8576b\"], [0.6666666666666666, \"#ed7953\"], [0.7777777777777778, \"#fb9f3a\"], [0.8888888888888888, \"#fdca26\"], [1.0, \"#f0f921\"]], \"type\": \"heatmap\"}], \"heatmapgl\": [{\"colorbar\": {\"outlinewidth\": 0, \"ticks\": \"\"}, \"colorscale\": [[0.0, \"#0d0887\"], [0.1111111111111111, \"#46039f\"], [0.2222222222222222, \"#7201a8\"], [0.3333333333333333, \"#9c179e\"], [0.4444444444444444, \"#bd3786\"], [0.5555555555555556, \"#d8576b\"], [0.6666666666666666, \"#ed7953\"], [0.7777777777777778, \"#fb9f3a\"], [0.8888888888888888, \"#fdca26\"], [1.0, \"#f0f921\"]], \"type\": \"heatmapgl\"}], \"histogram\": [{\"marker\": {\"colorbar\": {\"outlinewidth\": 0, \"ticks\": \"\"}}, \"type\": \"histogram\"}], \"histogram2d\": [{\"colorbar\": {\"outlinewidth\": 0, \"ticks\": \"\"}, \"colorscale\": [[0.0, \"#0d0887\"], [0.1111111111111111, \"#46039f\"], [0.2222222222222222, \"#7201a8\"], [0.3333333333333333, \"#9c179e\"], [0.4444444444444444, \"#bd3786\"], [0.5555555555555556, \"#d8576b\"], [0.6666666666666666, \"#ed7953\"], [0.7777777777777778, \"#fb9f3a\"], [0.8888888888888888, \"#fdca26\"], [1.0, \"#f0f921\"]], \"type\": \"histogram2d\"}], \"histogram2dcontour\": [{\"colorbar\": {\"outlinewidth\": 0, \"ticks\": \"\"}, \"colorscale\": [[0.0, \"#0d0887\"], [0.1111111111111111, \"#46039f\"], [0.2222222222222222, \"#7201a8\"], [0.3333333333333333, \"#9c179e\"], [0.4444444444444444, \"#bd3786\"], [0.5555555555555556, \"#d8576b\"], [0.6666666666666666, \"#ed7953\"], [0.7777777777777778, \"#fb9f3a\"], [0.8888888888888888, \"#fdca26\"], [1.0, \"#f0f921\"]], \"type\": \"histogram2dcontour\"}], \"mesh3d\": [{\"colorbar\": {\"outlinewidth\": 0, \"ticks\": \"\"}, \"type\": \"mesh3d\"}], \"parcoords\": [{\"line\": {\"colorbar\": {\"outlinewidth\": 0, \"ticks\": \"\"}}, \"type\": \"parcoords\"}], \"pie\": [{\"automargin\": true, \"type\": \"pie\"}], \"scatter\": [{\"marker\": {\"colorbar\": {\"outlinewidth\": 0, \"ticks\": \"\"}}, \"type\": \"scatter\"}], \"scatter3d\": [{\"line\": {\"colorbar\": {\"outlinewidth\": 0, \"ticks\": \"\"}}, \"marker\": {\"colorbar\": {\"outlinewidth\": 0, \"ticks\": \"\"}}, \"type\": \"scatter3d\"}], \"scattercarpet\": [{\"marker\": {\"colorbar\": {\"outlinewidth\": 0, \"ticks\": \"\"}}, \"type\": \"scattercarpet\"}], \"scattergeo\": [{\"marker\": {\"colorbar\": {\"outlinewidth\": 0, \"ticks\": \"\"}}, \"type\": \"scattergeo\"}], \"scattergl\": [{\"marker\": {\"colorbar\": {\"outlinewidth\": 0, \"ticks\": \"\"}}, \"type\": \"scattergl\"}], \"scattermapbox\": [{\"marker\": {\"colorbar\": {\"outlinewidth\": 0, \"ticks\": \"\"}}, \"type\": \"scattermapbox\"}], \"scatterpolar\": [{\"marker\": {\"colorbar\": {\"outlinewidth\": 0, \"ticks\": \"\"}}, \"type\": \"scatterpolar\"}], \"scatterpolargl\": [{\"marker\": {\"colorbar\": {\"outlinewidth\": 0, \"ticks\": \"\"}}, \"type\": \"scatterpolargl\"}], \"scatterternary\": [{\"marker\": {\"colorbar\": {\"outlinewidth\": 0, \"ticks\": \"\"}}, \"type\": \"scatterternary\"}], \"surface\": [{\"colorbar\": {\"outlinewidth\": 0, \"ticks\": \"\"}, \"colorscale\": [[0.0, \"#0d0887\"], [0.1111111111111111, \"#46039f\"], [0.2222222222222222, \"#7201a8\"], [0.3333333333333333, \"#9c179e\"], [0.4444444444444444, \"#bd3786\"], [0.5555555555555556, \"#d8576b\"], [0.6666666666666666, \"#ed7953\"], [0.7777777777777778, \"#fb9f3a\"], [0.8888888888888888, \"#fdca26\"], [1.0, \"#f0f921\"]], \"type\": \"surface\"}], \"table\": [{\"cells\": {\"fill\": {\"color\": \"#EBF0F8\"}, \"line\": {\"color\": \"white\"}}, \"header\": {\"fill\": {\"color\": \"#C8D4E3\"}, \"line\": {\"color\": \"white\"}}, \"type\": \"table\"}]}, \"layout\": {\"annotationdefaults\": {\"arrowcolor\": \"#2a3f5f\", \"arrowhead\": 0, \"arrowwidth\": 1}, \"coloraxis\": {\"colorbar\": {\"outlinewidth\": 0, \"ticks\": \"\"}}, \"colorscale\": {\"diverging\": [[0, \"#8e0152\"], [0.1, \"#c51b7d\"], [0.2, \"#de77ae\"], [0.3, \"#f1b6da\"], [0.4, \"#fde0ef\"], [0.5, \"#f7f7f7\"], [0.6, \"#e6f5d0\"], [0.7, \"#b8e186\"], [0.8, \"#7fbc41\"], [0.9, \"#4d9221\"], [1, \"#276419\"]], \"sequential\": [[0.0, \"#0d0887\"], [0.1111111111111111, \"#46039f\"], [0.2222222222222222, \"#7201a8\"], [0.3333333333333333, \"#9c179e\"], [0.4444444444444444, \"#bd3786\"], [0.5555555555555556, \"#d8576b\"], [0.6666666666666666, \"#ed7953\"], [0.7777777777777778, \"#fb9f3a\"], [0.8888888888888888, \"#fdca26\"], [1.0, \"#f0f921\"]], \"sequentialminus\": [[0.0, \"#0d0887\"], [0.1111111111111111, \"#46039f\"], [0.2222222222222222, \"#7201a8\"], [0.3333333333333333, \"#9c179e\"], [0.4444444444444444, \"#bd3786\"], [0.5555555555555556, \"#d8576b\"], [0.6666666666666666, \"#ed7953\"], [0.7777777777777778, \"#fb9f3a\"], [0.8888888888888888, \"#fdca26\"], [1.0, \"#f0f921\"]]}, \"colorway\": [\"#636efa\", \"#EF553B\", \"#00cc96\", \"#ab63fa\", \"#FFA15A\", \"#19d3f3\", \"#FF6692\", \"#B6E880\", \"#FF97FF\", \"#FECB52\"], \"font\": {\"color\": \"#2a3f5f\"}, \"geo\": {\"bgcolor\": \"white\", \"lakecolor\": \"white\", \"landcolor\": \"#E5ECF6\", \"showlakes\": true, \"showland\": true, \"subunitcolor\": \"white\"}, \"hoverlabel\": {\"align\": \"left\"}, \"hovermode\": \"closest\", \"mapbox\": {\"style\": \"light\"}, \"paper_bgcolor\": \"white\", \"plot_bgcolor\": \"#E5ECF6\", \"polar\": {\"angularaxis\": {\"gridcolor\": \"white\", \"linecolor\": \"white\", \"ticks\": \"\"}, \"bgcolor\": \"#E5ECF6\", \"radialaxis\": {\"gridcolor\": \"white\", \"linecolor\": \"white\", \"ticks\": \"\"}}, \"scene\": {\"xaxis\": {\"backgroundcolor\": \"#E5ECF6\", \"gridcolor\": \"white\", \"gridwidth\": 2, \"linecolor\": \"white\", \"showbackground\": true, \"ticks\": \"\", \"zerolinecolor\": \"white\"}, \"yaxis\": {\"backgroundcolor\": \"#E5ECF6\", \"gridcolor\": \"white\", \"gridwidth\": 2, \"linecolor\": \"white\", \"showbackground\": true, \"ticks\": \"\", \"zerolinecolor\": \"white\"}, \"zaxis\": {\"backgroundcolor\": \"#E5ECF6\", \"gridcolor\": \"white\", \"gridwidth\": 2, \"linecolor\": \"white\", \"showbackground\": true, \"ticks\": \"\", \"zerolinecolor\": \"white\"}}, \"shapedefaults\": {\"line\": {\"color\": \"#2a3f5f\"}}, \"ternary\": {\"aaxis\": {\"gridcolor\": \"white\", \"linecolor\": \"white\", \"ticks\": \"\"}, \"baxis\": {\"gridcolor\": \"white\", \"linecolor\": \"white\", \"ticks\": \"\"}, \"bgcolor\": \"#E5ECF6\", \"caxis\": {\"gridcolor\": \"white\", \"linecolor\": \"white\", \"ticks\": \"\"}}, \"title\": {\"x\": 0.05}, \"xaxis\": {\"automargin\": true, \"gridcolor\": \"white\", \"linecolor\": \"white\", \"ticks\": \"\", \"title\": {\"standoff\": 15}, \"zerolinecolor\": \"white\", \"zerolinewidth\": 2}, \"yaxis\": {\"automargin\": true, \"gridcolor\": \"white\", \"linecolor\": \"white\", \"ticks\": \"\", \"title\": {\"standoff\": 15}, \"zerolinecolor\": \"white\", \"zerolinewidth\": 2}}}, \"title\": {\"text\": \"\\uc2dc\\ub3c4\\ubcc4 \\ubc30\\ub2ec\\ube44\\uc728\"}},                        {\"responsive\": true}                    ).then(function(){\n",
       "                            \n",
       "var gd = document.getElementById('05128c32-1115-4b52-b98d-fe1f00f47d49');\n",
       "var x = new MutationObserver(function (mutations, observer) {{\n",
       "        var display = window.getComputedStyle(gd).display;\n",
       "        if (!display || display === 'none') {{\n",
       "            console.log([gd, 'removed!']);\n",
       "            Plotly.purge(gd);\n",
       "            observer.disconnect();\n",
       "        }}\n",
       "}});\n",
       "\n",
       "// Listen for the removal of the full notebook cells\n",
       "var notebookContainer = gd.closest('#notebook-container');\n",
       "if (notebookContainer) {{\n",
       "    x.observe(notebookContainer, {childList: true});\n",
       "}}\n",
       "\n",
       "// Listen for the clearing of the current output cell\n",
       "var outputEl = gd.closest('.output');\n",
       "if (outputEl) {{\n",
       "    x.observe(outputEl, {childList: true});\n",
       "}}\n",
       "\n",
       "                        })                };                });            </script>        </div>"
      ]
     },
     "metadata": {},
     "output_type": "display_data"
    }
   ],
   "source": [
    "# 상위 5개 막대 그래프 그리기\n",
    "trace1 = go.Bar(x=gr4_sort5['induty_nm'], y=gr4_sort5['count'])\n",
    "data = [trace1]\n",
    "layout = go.Layout(title='시도별 배달비율')\n",
    "fig = go.Figure(data=data, layout=layout)\n",
    "pyo.iplot(fig)"
   ]
  },
  {
   "cell_type": "markdown",
   "metadata": {},
   "source": [
    "# 크게 4개 지역군 별로 특성을 살펴본 결과\n",
    "* 1,2,3 순위는 지역에 상관없이 치킨 한식 분식 \n",
    "* 또는 치킨 분식 한식 순으로 많이배달되나\n",
    "* 4순위 5순위의 경우 지역별에 따라서 \n",
    "* 수도권은 족발보쌈의 비중이 높았고 \n",
    "* 동남권의 경우 패스트푸드 호남권은 야식카테고리 \n",
    "* 호서권은 피자의 빈도가 나오는 차이점을 볼 수 있었다.\n",
    "* 결론적으로 치킨 한식 분식의 시장이 지역과 상관없이 많은 빈도를 나타내기에 위 세 업종을 창업을 고려할 수 도 있지만\n",
    "* 오히려 과포화된 시장에 뛰어들기 부담스러운 창업자의 경우에는 위 정보를 고려하여\n",
    "* 틈새시장을 노려 각 지역별 4순위와 5순위의 업종을 창업하는것도 괜찮아보임."
   ]
  },
  {
   "cell_type": "markdown",
   "metadata": {},
   "source": [
    "# 서울+경기의 시군구별 업종 동향파악하기 (군집분석을 하기 이전에 전체적흐름) "
   ]
  },
  {
   "cell_type": "code",
   "execution_count": 27,
   "metadata": {},
   "outputs": [
    {
     "data": {
      "text/html": [
       "<div>\n",
       "<style scoped>\n",
       "    .dataframe tbody tr th:only-of-type {\n",
       "        vertical-align: middle;\n",
       "    }\n",
       "\n",
       "    .dataframe tbody tr th {\n",
       "        vertical-align: top;\n",
       "    }\n",
       "\n",
       "    .dataframe thead th {\n",
       "        text-align: right;\n",
       "    }\n",
       "</style>\n",
       "<table border=\"1\" class=\"dataframe\">\n",
       "  <thead>\n",
       "    <tr style=\"text-align: right;\">\n",
       "      <th></th>\n",
       "      <th>PROCESS_DT</th>\n",
       "      <th>DLVR_STORE_ID</th>\n",
       "      <th>si_name</th>\n",
       "      <th>gu_name</th>\n",
       "      <th>dong_name</th>\n",
       "      <th>adstrd_code</th>\n",
       "      <th>DLVR_DSTN_RDNMADR_CODE</th>\n",
       "      <th>induty_nm</th>\n",
       "      <th>GOODS_AMOUNT</th>\n",
       "      <th>SETLE_KND_VALUE</th>\n",
       "      <th>DLVR_RCEPT_TIME</th>\n",
       "      <th>year</th>\n",
       "      <th>month</th>\n",
       "    </tr>\n",
       "  </thead>\n",
       "  <tbody>\n",
       "    <tr>\n",
       "      <th>3</th>\n",
       "      <td>2020-01-01</td>\n",
       "      <td>S0039634</td>\n",
       "      <td>경기도</td>\n",
       "      <td>의정부시</td>\n",
       "      <td>의정부동</td>\n",
       "      <td>41150510</td>\n",
       "      <td>4.115043e+11</td>\n",
       "      <td>한식</td>\n",
       "      <td>20000</td>\n",
       "      <td>2</td>\n",
       "      <td>2020-01-01 01:01:34</td>\n",
       "      <td>2020</td>\n",
       "      <td>1</td>\n",
       "    </tr>\n",
       "    <tr>\n",
       "      <th>4</th>\n",
       "      <td>2020-01-01</td>\n",
       "      <td>S0002237</td>\n",
       "      <td>경기도</td>\n",
       "      <td>고양시 덕양구</td>\n",
       "      <td>주교동</td>\n",
       "      <td>41281510</td>\n",
       "      <td>4.128144e+11</td>\n",
       "      <td>한식</td>\n",
       "      <td>32000</td>\n",
       "      <td>2</td>\n",
       "      <td>2020-01-01 01:05:06</td>\n",
       "      <td>2020</td>\n",
       "      <td>1</td>\n",
       "    </tr>\n",
       "    <tr>\n",
       "      <th>5</th>\n",
       "      <td>2020-01-01</td>\n",
       "      <td>S0001485</td>\n",
       "      <td>경기도</td>\n",
       "      <td>부천시</td>\n",
       "      <td>심곡동</td>\n",
       "      <td>41190603</td>\n",
       "      <td>4.119030e+11</td>\n",
       "      <td>족발/보쌈</td>\n",
       "      <td>37000</td>\n",
       "      <td>1</td>\n",
       "      <td>2020-01-01 00:59:31</td>\n",
       "      <td>2020</td>\n",
       "      <td>1</td>\n",
       "    </tr>\n",
       "    <tr>\n",
       "      <th>7</th>\n",
       "      <td>2020-01-01</td>\n",
       "      <td>S0001037</td>\n",
       "      <td>경기도</td>\n",
       "      <td>부천시</td>\n",
       "      <td>송내동</td>\n",
       "      <td>41190746</td>\n",
       "      <td>4.119044e+11</td>\n",
       "      <td>야식</td>\n",
       "      <td>28500</td>\n",
       "      <td>2</td>\n",
       "      <td>2020-01-01 00:09:40</td>\n",
       "      <td>2020</td>\n",
       "      <td>1</td>\n",
       "    </tr>\n",
       "    <tr>\n",
       "      <th>9</th>\n",
       "      <td>2020-01-01</td>\n",
       "      <td>S0028777</td>\n",
       "      <td>경기도</td>\n",
       "      <td>의정부시</td>\n",
       "      <td>낙양동</td>\n",
       "      <td>41150578</td>\n",
       "      <td>4.115032e+11</td>\n",
       "      <td>야식</td>\n",
       "      <td>22000</td>\n",
       "      <td>1</td>\n",
       "      <td>2020-01-01 00:10:34</td>\n",
       "      <td>2020</td>\n",
       "      <td>1</td>\n",
       "    </tr>\n",
       "  </tbody>\n",
       "</table>\n",
       "</div>"
      ],
      "text/plain": [
       "  PROCESS_DT DLVR_STORE_ID si_name  gu_name dong_name adstrd_code  \\\n",
       "3 2020-01-01      S0039634     경기도     의정부시      의정부동    41150510   \n",
       "4 2020-01-01      S0002237     경기도  고양시 덕양구       주교동    41281510   \n",
       "5 2020-01-01      S0001485     경기도      부천시       심곡동    41190603   \n",
       "7 2020-01-01      S0001037     경기도      부천시       송내동    41190746   \n",
       "9 2020-01-01      S0028777     경기도     의정부시       낙양동    41150578   \n",
       "\n",
       "   DLVR_DSTN_RDNMADR_CODE induty_nm  GOODS_AMOUNT  SETLE_KND_VALUE  \\\n",
       "3            4.115043e+11        한식         20000                2   \n",
       "4            4.128144e+11        한식         32000                2   \n",
       "5            4.119030e+11     족발/보쌈         37000                1   \n",
       "7            4.119044e+11        야식         28500                2   \n",
       "9            4.115032e+11        야식         22000                1   \n",
       "\n",
       "       DLVR_RCEPT_TIME  year  month  \n",
       "3  2020-01-01 01:01:34  2020      1  \n",
       "4  2020-01-01 01:05:06  2020      1  \n",
       "5  2020-01-01 00:59:31  2020      1  \n",
       "7  2020-01-01 00:09:40  2020      1  \n",
       "9  2020-01-01 00:10:34  2020      1  "
      ]
     },
     "execution_count": 27,
     "metadata": {},
     "output_type": "execute_result"
    }
   ],
   "source": [
    "######################################\n",
    "# 배달데이터 수도권 (서울특별시, 경기도)\n",
    "is_kgd = del_dstn['si_name'] == '경기도'\n",
    "kgd = del_dstn[is_kgd]\n",
    "\n",
    "is_seoul = del_dstn['si_name'] == '서울특별시'\n",
    "seoul = del_dstn[is_seoul]\n",
    "\n",
    "\n",
    "sudo = pd.concat([kgd, seoul])\n",
    "sudo.head()"
   ]
  },
  {
   "cell_type": "code",
   "execution_count": 28,
   "metadata": {},
   "outputs": [
    {
     "data": {
      "text/html": [
       "<div>\n",
       "<style scoped>\n",
       "    .dataframe tbody tr th:only-of-type {\n",
       "        vertical-align: middle;\n",
       "    }\n",
       "\n",
       "    .dataframe tbody tr th {\n",
       "        vertical-align: top;\n",
       "    }\n",
       "\n",
       "    .dataframe thead th {\n",
       "        text-align: right;\n",
       "    }\n",
       "</style>\n",
       "<table border=\"1\" class=\"dataframe\">\n",
       "  <thead>\n",
       "    <tr style=\"text-align: right;\">\n",
       "      <th></th>\n",
       "      <th>gu_name</th>\n",
       "      <th>induty_nm</th>\n",
       "      <th>count</th>\n",
       "    </tr>\n",
       "  </thead>\n",
       "  <tbody>\n",
       "    <tr>\n",
       "      <th>0</th>\n",
       "      <td>가평군</td>\n",
       "      <td>회</td>\n",
       "      <td>1</td>\n",
       "    </tr>\n",
       "    <tr>\n",
       "      <th>1</th>\n",
       "      <td>강동구</td>\n",
       "      <td>분식</td>\n",
       "      <td>5</td>\n",
       "    </tr>\n",
       "    <tr>\n",
       "      <th>2</th>\n",
       "      <td>강동구</td>\n",
       "      <td>치킨</td>\n",
       "      <td>1</td>\n",
       "    </tr>\n",
       "    <tr>\n",
       "      <th>3</th>\n",
       "      <td>강북구</td>\n",
       "      <td>돈까스/일식</td>\n",
       "      <td>42</td>\n",
       "    </tr>\n",
       "    <tr>\n",
       "      <th>4</th>\n",
       "      <td>강북구</td>\n",
       "      <td>분식</td>\n",
       "      <td>348</td>\n",
       "    </tr>\n",
       "    <tr>\n",
       "      <th>...</th>\n",
       "      <td>...</td>\n",
       "      <td>...</td>\n",
       "      <td>...</td>\n",
       "    </tr>\n",
       "    <tr>\n",
       "      <th>555</th>\n",
       "      <td>화성시</td>\n",
       "      <td>카페/디저트</td>\n",
       "      <td>10157</td>\n",
       "    </tr>\n",
       "    <tr>\n",
       "      <th>556</th>\n",
       "      <td>화성시</td>\n",
       "      <td>패스트푸드</td>\n",
       "      <td>144</td>\n",
       "    </tr>\n",
       "    <tr>\n",
       "      <th>557</th>\n",
       "      <td>화성시</td>\n",
       "      <td>피자</td>\n",
       "      <td>4459</td>\n",
       "    </tr>\n",
       "    <tr>\n",
       "      <th>558</th>\n",
       "      <td>화성시</td>\n",
       "      <td>한식</td>\n",
       "      <td>1398</td>\n",
       "    </tr>\n",
       "    <tr>\n",
       "      <th>559</th>\n",
       "      <td>화성시</td>\n",
       "      <td>회</td>\n",
       "      <td>7222</td>\n",
       "    </tr>\n",
       "  </tbody>\n",
       "</table>\n",
       "<p>560 rows × 3 columns</p>\n",
       "</div>"
      ],
      "text/plain": [
       "    gu_name induty_nm  count\n",
       "0       가평군         회      1\n",
       "1       강동구        분식      5\n",
       "2       강동구        치킨      1\n",
       "3       강북구    돈까스/일식     42\n",
       "4       강북구        분식    348\n",
       "..      ...       ...    ...\n",
       "555     화성시    카페/디저트  10157\n",
       "556     화성시     패스트푸드    144\n",
       "557     화성시        피자   4459\n",
       "558     화성시        한식   1398\n",
       "559     화성시         회   7222\n",
       "\n",
       "[560 rows x 3 columns]"
      ]
     },
     "execution_count": 28,
     "metadata": {},
     "output_type": "execute_result"
    }
   ],
   "source": [
    "# 경기도와 서울특별시의 시군구별 주문한 업종 카운트\n",
    "ss = sudo.groupby(['gu_name','induty_nm']).size().reset_index(name='count')\n",
    "ss"
   ]
  },
  {
   "cell_type": "code",
   "execution_count": 29,
   "metadata": {},
   "outputs": [
    {
     "data": {
      "text/html": [
       "<div>\n",
       "<style scoped>\n",
       "    .dataframe tbody tr th:only-of-type {\n",
       "        vertical-align: middle;\n",
       "    }\n",
       "\n",
       "    .dataframe tbody tr th {\n",
       "        vertical-align: top;\n",
       "    }\n",
       "\n",
       "    .dataframe thead th {\n",
       "        text-align: right;\n",
       "    }\n",
       "</style>\n",
       "<table border=\"1\" class=\"dataframe\">\n",
       "  <thead>\n",
       "    <tr style=\"text-align: right;\">\n",
       "      <th></th>\n",
       "      <th>gu_name</th>\n",
       "      <th>induty_nm</th>\n",
       "      <th>count</th>\n",
       "      <th>rate</th>\n",
       "    </tr>\n",
       "  </thead>\n",
       "  <tbody>\n",
       "    <tr>\n",
       "      <th>0</th>\n",
       "      <td>가평군</td>\n",
       "      <td>회</td>\n",
       "      <td>1</td>\n",
       "      <td>100.000000</td>\n",
       "    </tr>\n",
       "    <tr>\n",
       "      <th>1</th>\n",
       "      <td>강동구</td>\n",
       "      <td>분식</td>\n",
       "      <td>5</td>\n",
       "      <td>83.333333</td>\n",
       "    </tr>\n",
       "    <tr>\n",
       "      <th>2</th>\n",
       "      <td>강동구</td>\n",
       "      <td>치킨</td>\n",
       "      <td>1</td>\n",
       "      <td>16.666667</td>\n",
       "    </tr>\n",
       "    <tr>\n",
       "      <th>3</th>\n",
       "      <td>강북구</td>\n",
       "      <td>돈까스/일식</td>\n",
       "      <td>42</td>\n",
       "      <td>2.217529</td>\n",
       "    </tr>\n",
       "    <tr>\n",
       "      <th>4</th>\n",
       "      <td>강북구</td>\n",
       "      <td>분식</td>\n",
       "      <td>348</td>\n",
       "      <td>18.373812</td>\n",
       "    </tr>\n",
       "  </tbody>\n",
       "</table>\n",
       "</div>"
      ],
      "text/plain": [
       "  gu_name induty_nm  count        rate\n",
       "0     가평군         회      1  100.000000\n",
       "1     강동구        분식      5   83.333333\n",
       "2     강동구        치킨      1   16.666667\n",
       "3     강북구    돈까스/일식     42    2.217529\n",
       "4     강북구        분식    348   18.373812"
      ]
     },
     "execution_count": 29,
     "metadata": {},
     "output_type": "execute_result"
    }
   ],
   "source": [
    "# 경기도와 서울특별시의 배달품목의 주문 비율 구하기 \n",
    "sss = ss.gu_name.unique()\n",
    "ss['rate'] = 0\n",
    "for i in sss:\n",
    "    index = ss.loc[ss['gu_name']==i,:].index\n",
    "    ss.loc[index,'rate'] = (ss.loc[index,'count']/ss.loc[index,'count'].sum())*100\n",
    "ss.head()"
   ]
  },
  {
   "cell_type": "code",
   "execution_count": 30,
   "metadata": {
    "scrolled": false
   },
   "outputs": [
    {
     "data": {
      "application/vnd.plotly.v1+json": {
       "config": {
        "plotlyServerURL": "https://plot.ly"
       },
       "data": [
        {
         "hoverongaps": false,
         "type": "heatmap",
         "x": [
          "가평군",
          "강동구",
          "강동구",
          "강북구",
          "강북구",
          "강북구",
          "강북구",
          "강북구",
          "강북구",
          "강북구",
          "강북구",
          "강북구",
          "강서구",
          "강서구",
          "강서구",
          "강서구",
          "강서구",
          "강서구",
          "강서구",
          "강서구",
          "강서구",
          "고양시 덕양구",
          "고양시 덕양구",
          "고양시 덕양구",
          "고양시 덕양구",
          "고양시 덕양구",
          "고양시 덕양구",
          "고양시 덕양구",
          "고양시 덕양구",
          "고양시 덕양구",
          "고양시 덕양구",
          "고양시 덕양구",
          "고양시 덕양구",
          "고양시 덕양구",
          "고양시 덕양구",
          "고양시 덕양구",
          "고양시 일산동구",
          "고양시 일산동구",
          "고양시 일산동구",
          "고양시 일산동구",
          "고양시 일산동구",
          "고양시 일산동구",
          "고양시 일산동구",
          "고양시 일산동구",
          "고양시 일산동구",
          "고양시 일산동구",
          "고양시 일산동구",
          "고양시 일산동구",
          "고양시 일산동구",
          "고양시 일산동구",
          "고양시 일산동구",
          "고양시 일산서구",
          "고양시 일산서구",
          "고양시 일산서구",
          "고양시 일산서구",
          "고양시 일산서구",
          "고양시 일산서구",
          "고양시 일산서구",
          "고양시 일산서구",
          "고양시 일산서구",
          "고양시 일산서구",
          "고양시 일산서구",
          "고양시 일산서구",
          "고양시 일산서구",
          "고양시 일산서구",
          "고양시 일산서구",
          "과천시",
          "과천시",
          "과천시",
          "과천시",
          "과천시",
          "관악구",
          "관악구",
          "관악구",
          "관악구",
          "관악구",
          "관악구",
          "관악구",
          "관악구",
          "관악구",
          "관악구",
          "관악구",
          "관악구",
          "관악구",
          "관악구",
          "광명시",
          "광명시",
          "광명시",
          "광명시",
          "광명시",
          "광명시",
          "광명시",
          "광명시",
          "광명시",
          "광명시",
          "광명시",
          "광명시",
          "광명시",
          "광명시",
          "광명시",
          "광주시",
          "광주시",
          "광주시",
          "광주시",
          "광주시",
          "광주시",
          "광주시",
          "광주시",
          "광주시",
          "광주시",
          "광주시",
          "광주시",
          "광진구",
          "광진구",
          "구로구",
          "구로구",
          "구로구",
          "구로구",
          "구로구",
          "구로구",
          "구로구",
          "구로구",
          "구로구",
          "구로구",
          "구로구",
          "구로구",
          "구로구",
          "구로구",
          "구로구",
          "구리시",
          "구리시",
          "구리시",
          "군포시",
          "군포시",
          "군포시",
          "군포시",
          "군포시",
          "군포시",
          "금천구",
          "금천구",
          "금천구",
          "금천구",
          "금천구",
          "금천구",
          "금천구",
          "금천구",
          "금천구",
          "금천구",
          "금천구",
          "금천구",
          "금천구",
          "금천구",
          "금천구",
          "김포시",
          "김포시",
          "김포시",
          "남양주시",
          "남양주시",
          "남양주시",
          "남양주시",
          "남양주시",
          "남양주시",
          "남양주시",
          "남양주시",
          "남양주시",
          "남양주시",
          "남양주시",
          "남양주시",
          "남양주시",
          "남양주시",
          "남양주시",
          "노원구",
          "노원구",
          "노원구",
          "노원구",
          "노원구",
          "노원구",
          "노원구",
          "노원구",
          "노원구",
          "노원구",
          "노원구",
          "노원구",
          "노원구",
          "노원구",
          "도봉구",
          "도봉구",
          "도봉구",
          "도봉구",
          "도봉구",
          "도봉구",
          "도봉구",
          "도봉구",
          "도봉구",
          "도봉구",
          "도봉구",
          "도봉구",
          "도봉구",
          "도봉구",
          "도봉구",
          "동대문구",
          "동대문구",
          "동두천시",
          "동두천시",
          "동두천시",
          "동두천시",
          "동두천시",
          "동두천시",
          "동두천시",
          "동두천시",
          "동두천시",
          "동두천시",
          "동두천시",
          "동두천시",
          "동두천시",
          "동두천시",
          "동두천시",
          "동작구",
          "동작구",
          "동작구",
          "동작구",
          "동작구",
          "동작구",
          "동작구",
          "동작구",
          "동작구",
          "동작구",
          "동작구",
          "동작구",
          "동작구",
          "동작구",
          "마포구",
          "마포구",
          "마포구",
          "부천시",
          "부천시",
          "부천시",
          "부천시",
          "부천시",
          "부천시",
          "부천시",
          "부천시",
          "부천시",
          "부천시",
          "부천시",
          "부천시",
          "부천시",
          "부천시",
          "부천시",
          "서대문구",
          "서대문구",
          "서대문구",
          "서초구",
          "서초구",
          "서초구",
          "서초구",
          "서초구",
          "서초구",
          "서초구",
          "서초구",
          "서초구",
          "성남시 분당구",
          "성남시 분당구",
          "성남시 분당구",
          "성남시 분당구",
          "성남시 분당구",
          "성남시 분당구",
          "성남시 분당구",
          "성남시 분당구",
          "성남시 분당구",
          "성남시 수정구",
          "성남시 수정구",
          "성남시 수정구",
          "성남시 수정구",
          "성남시 수정구",
          "성남시 수정구",
          "성남시 수정구",
          "성남시 수정구",
          "성남시 수정구",
          "성남시 수정구",
          "성남시 수정구",
          "성남시 수정구",
          "성남시 수정구",
          "성남시 중원구",
          "성남시 중원구",
          "성남시 중원구",
          "성남시 중원구",
          "성남시 중원구",
          "성남시 중원구",
          "성남시 중원구",
          "성남시 중원구",
          "성남시 중원구",
          "성남시 중원구",
          "성남시 중원구",
          "성남시 중원구",
          "성남시 중원구",
          "성북구",
          "송파구",
          "송파구",
          "송파구",
          "수원시 권선구",
          "수원시 권선구",
          "수원시 장안구",
          "수원시 팔달구",
          "수원시 팔달구",
          "수원시 팔달구",
          "시흥시",
          "시흥시",
          "시흥시",
          "시흥시",
          "시흥시",
          "시흥시",
          "시흥시",
          "시흥시",
          "시흥시",
          "시흥시",
          "시흥시",
          "시흥시",
          "시흥시",
          "시흥시",
          "안산시 단원구",
          "안산시 단원구",
          "안산시 단원구",
          "안산시 단원구",
          "안산시 단원구",
          "안산시 단원구",
          "안산시 단원구",
          "안산시 단원구",
          "안산시 단원구",
          "안산시 단원구",
          "안산시 단원구",
          "안산시 단원구",
          "안산시 단원구",
          "안산시 단원구",
          "안산시 상록구",
          "안산시 상록구",
          "안산시 상록구",
          "안산시 상록구",
          "안산시 상록구",
          "안산시 상록구",
          "안산시 상록구",
          "안산시 상록구",
          "안산시 상록구",
          "안산시 상록구",
          "안산시 상록구",
          "안산시 상록구",
          "안산시 상록구",
          "안산시 상록구",
          "안산시 상록구",
          "안성시",
          "안성시",
          "안성시",
          "안양시 동안구",
          "안양시 동안구",
          "안양시 동안구",
          "안양시 동안구",
          "안양시 동안구",
          "안양시 동안구",
          "안양시 동안구",
          "안양시 동안구",
          "안양시 동안구",
          "안양시 동안구",
          "안양시 동안구",
          "안양시 동안구",
          "안양시 만안구",
          "안양시 만안구",
          "안양시 만안구",
          "안양시 만안구",
          "안양시 만안구",
          "안양시 만안구",
          "안양시 만안구",
          "안양시 만안구",
          "안양시 만안구",
          "안양시 만안구",
          "안양시 만안구",
          "안양시 만안구",
          "안양시 만안구",
          "안양시 만안구",
          "양주시",
          "양주시",
          "양주시",
          "양주시",
          "양주시",
          "양주시",
          "양주시",
          "양주시",
          "양주시",
          "양주시",
          "양주시",
          "양주시",
          "양주시",
          "양주시",
          "양주시",
          "양천구",
          "양천구",
          "양천구",
          "양천구",
          "양천구",
          "양천구",
          "양천구",
          "양천구",
          "양천구",
          "양천구",
          "양천구",
          "양천구",
          "양천구",
          "양천구",
          "양천구",
          "양평군",
          "양평군",
          "연천군",
          "연천군",
          "연천군",
          "연천군",
          "연천군",
          "연천군",
          "연천군",
          "연천군",
          "연천군",
          "연천군",
          "연천군",
          "연천군",
          "영등포구",
          "영등포구",
          "영등포구",
          "영등포구",
          "영등포구",
          "영등포구",
          "영등포구",
          "영등포구",
          "영등포구",
          "영등포구",
          "영등포구",
          "영등포구",
          "영등포구",
          "영등포구",
          "영등포구",
          "오산시",
          "오산시",
          "오산시",
          "용산구",
          "용산구",
          "용인시 처인구",
          "용인시 처인구",
          "용인시 처인구",
          "용인시 처인구",
          "용인시 처인구",
          "용인시 처인구",
          "용인시 처인구",
          "용인시 처인구",
          "용인시 처인구",
          "용인시 처인구",
          "용인시 처인구",
          "용인시 처인구",
          "은평구",
          "은평구",
          "은평구",
          "은평구",
          "은평구",
          "은평구",
          "은평구",
          "은평구",
          "은평구",
          "은평구",
          "은평구",
          "의왕시",
          "의왕시",
          "의왕시",
          "의왕시",
          "의왕시",
          "의왕시",
          "의왕시",
          "의왕시",
          "의왕시",
          "의왕시",
          "의왕시",
          "의왕시",
          "의정부시",
          "의정부시",
          "의정부시",
          "의정부시",
          "의정부시",
          "의정부시",
          "의정부시",
          "의정부시",
          "의정부시",
          "의정부시",
          "의정부시",
          "의정부시",
          "의정부시",
          "의정부시",
          "의정부시",
          "의정부시",
          "이천시",
          "이천시",
          "이천시",
          "이천시",
          "이천시",
          "종로구",
          "종로구",
          "중구",
          "중구",
          "중랑구",
          "중랑구",
          "파주시",
          "파주시",
          "파주시",
          "파주시",
          "파주시",
          "파주시",
          "파주시",
          "파주시",
          "파주시",
          "평택시",
          "평택시",
          "평택시",
          "평택시",
          "평택시",
          "평택시",
          "평택시",
          "평택시",
          "평택시",
          "평택시",
          "평택시",
          "평택시",
          "평택시",
          "평택시",
          "평택시",
          "포천시",
          "포천시",
          "포천시",
          "포천시",
          "포천시",
          "포천시",
          "포천시",
          "포천시",
          "포천시",
          "포천시",
          "포천시",
          "포천시",
          "포천시",
          "포천시",
          "포천시",
          "하남시",
          "하남시",
          "하남시",
          "화성시",
          "화성시",
          "화성시",
          "화성시",
          "화성시",
          "화성시",
          "화성시",
          "화성시",
          "화성시",
          "화성시",
          "화성시",
          "화성시",
          "화성시",
          "화성시"
         ],
         "y": [
          "회",
          "분식",
          "치킨",
          "돈까스/일식",
          "분식",
          "아시안/양식",
          "야식",
          "족발/보쌈",
          "찜탕",
          "치킨",
          "피자",
          "한식",
          "돈까스/일식",
          "야식",
          "족발/보쌈",
          "치킨",
          "카페/디저트",
          "패스트푸드",
          "피자",
          "한식",
          "회",
          "도시락",
          "돈까스/일식",
          "배달전문업체",
          "분식",
          "아시안/양식",
          "야식",
          "족발/보쌈",
          "중식",
          "찜탕",
          "치킨",
          "카페/디저트",
          "패스트푸드",
          "피자",
          "한식",
          "회",
          "도시락",
          "돈까스/일식",
          "배달전문업체",
          "분식",
          "아시안/양식",
          "야식",
          "족발/보쌈",
          "중식",
          "찜탕",
          "치킨",
          "카페/디저트",
          "패스트푸드",
          "피자",
          "한식",
          "회",
          "도시락",
          "돈까스/일식",
          "배달전문업체",
          "분식",
          "아시안/양식",
          "야식",
          "족발/보쌈",
          "중식",
          "찜탕",
          "치킨",
          "카페/디저트",
          "패스트푸드",
          "피자",
          "한식",
          "회",
          "분식",
          "족발/보쌈",
          "중식",
          "치킨",
          "카페/디저트",
          "돈까스/일식",
          "배달전문업체",
          "분식",
          "아시안/양식",
          "야식",
          "족발/보쌈",
          "중식",
          "찜탕",
          "치킨",
          "카페/디저트",
          "패스트푸드",
          "피자",
          "한식",
          "회",
          "도시락",
          "돈까스/일식",
          "배달전문업체",
          "분식",
          "아시안/양식",
          "야식",
          "족발/보쌈",
          "중식",
          "찜탕",
          "치킨",
          "카페/디저트",
          "패스트푸드",
          "피자",
          "한식",
          "회",
          "돈까스/일식",
          "배달전문업체",
          "분식",
          "심부름",
          "족발/보쌈",
          "중식",
          "찜탕",
          "치킨",
          "카페/디저트",
          "패스트푸드",
          "피자",
          "한식",
          "치킨",
          "회",
          "도시락",
          "돈까스/일식",
          "배달전문업체",
          "분식",
          "아시안/양식",
          "야식",
          "족발/보쌈",
          "중식",
          "찜탕",
          "치킨",
          "카페/디저트",
          "패스트푸드",
          "피자",
          "한식",
          "회",
          "분식",
          "치킨",
          "카페/디저트",
          "분식",
          "찜탕",
          "카페/디저트",
          "패스트푸드",
          "한식",
          "회",
          "도시락",
          "돈까스/일식",
          "배달전문업체",
          "분식",
          "아시안/양식",
          "야식",
          "족발/보쌈",
          "중식",
          "찜탕",
          "치킨",
          "카페/디저트",
          "패스트푸드",
          "피자",
          "한식",
          "회",
          "분식",
          "카페/디저트",
          "패스트푸드",
          "도시락",
          "돈까스/일식",
          "배달전문업체",
          "분식",
          "아시안/양식",
          "야식",
          "족발/보쌈",
          "중식",
          "찜탕",
          "치킨",
          "카페/디저트",
          "패스트푸드",
          "피자",
          "한식",
          "회",
          "도시락",
          "돈까스/일식",
          "분식",
          "아시안/양식",
          "야식",
          "족발/보쌈",
          "중식",
          "찜탕",
          "치킨",
          "카페/디저트",
          "패스트푸드",
          "피자",
          "한식",
          "회",
          "도시락",
          "돈까스/일식",
          "분식",
          "심부름",
          "아시안/양식",
          "야식",
          "족발/보쌈",
          "중식",
          "찜탕",
          "치킨",
          "카페/디저트",
          "패스트푸드",
          "피자",
          "한식",
          "회",
          "심부름",
          "찜탕",
          "도시락",
          "돈까스/일식",
          "배달전문업체",
          "분식",
          "아시안/양식",
          "야식",
          "족발/보쌈",
          "중식",
          "찜탕",
          "치킨",
          "카페/디저트",
          "패스트푸드",
          "피자",
          "한식",
          "회",
          "돈까스/일식",
          "배달전문업체",
          "분식",
          "아시안/양식",
          "야식",
          "족발/보쌈",
          "중식",
          "찜탕",
          "치킨",
          "카페/디저트",
          "패스트푸드",
          "피자",
          "한식",
          "회",
          "치킨",
          "카페/디저트",
          "한식",
          "도시락",
          "돈까스/일식",
          "배달전문업체",
          "분식",
          "아시안/양식",
          "야식",
          "족발/보쌈",
          "중식",
          "찜탕",
          "치킨",
          "카페/디저트",
          "패스트푸드",
          "피자",
          "한식",
          "회",
          "카페/디저트",
          "패스트푸드",
          "한식",
          "분식",
          "아시안/양식",
          "족발/보쌈",
          "중식",
          "치킨",
          "카페/디저트",
          "패스트푸드",
          "피자",
          "한식",
          "돈까스/일식",
          "분식",
          "야식",
          "족발/보쌈",
          "중식",
          "치킨",
          "피자",
          "한식",
          "회",
          "돈까스/일식",
          "배달전문업체",
          "분식",
          "야식",
          "족발/보쌈",
          "중식",
          "찜탕",
          "치킨",
          "카페/디저트",
          "패스트푸드",
          "피자",
          "한식",
          "회",
          "돈까스/일식",
          "배달전문업체",
          "분식",
          "야식",
          "족발/보쌈",
          "중식",
          "찜탕",
          "치킨",
          "카페/디저트",
          "패스트푸드",
          "피자",
          "한식",
          "회",
          "카페/디저트",
          "분식",
          "치킨",
          "한식",
          "치킨",
          "카페/디저트",
          "카페/디저트",
          "분식",
          "치킨",
          "카페/디저트",
          "도시락",
          "돈까스/일식",
          "분식",
          "아시안/양식",
          "야식",
          "족발/보쌈",
          "중식",
          "찜탕",
          "치킨",
          "카페/디저트",
          "패스트푸드",
          "피자",
          "한식",
          "회",
          "도시락",
          "돈까스/일식",
          "분식",
          "아시안/양식",
          "야식",
          "족발/보쌈",
          "중식",
          "찜탕",
          "치킨",
          "카페/디저트",
          "패스트푸드",
          "피자",
          "한식",
          "회",
          "도시락",
          "돈까스/일식",
          "배달전문업체",
          "분식",
          "아시안/양식",
          "야식",
          "족발/보쌈",
          "중식",
          "찜탕",
          "치킨",
          "카페/디저트",
          "패스트푸드",
          "피자",
          "한식",
          "회",
          "분식",
          "족발/보쌈",
          "치킨",
          "분식",
          "아시안/양식",
          "야식",
          "족발/보쌈",
          "중식",
          "찜탕",
          "치킨",
          "카페/디저트",
          "패스트푸드",
          "피자",
          "한식",
          "회",
          "도시락",
          "돈까스/일식",
          "분식",
          "아시안/양식",
          "야식",
          "족발/보쌈",
          "중식",
          "찜탕",
          "치킨",
          "카페/디저트",
          "패스트푸드",
          "피자",
          "한식",
          "회",
          "도시락",
          "돈까스/일식",
          "배달전문업체",
          "분식",
          "아시안/양식",
          "야식",
          "족발/보쌈",
          "중식",
          "찜탕",
          "치킨",
          "카페/디저트",
          "패스트푸드",
          "피자",
          "한식",
          "회",
          "도시락",
          "돈까스/일식",
          "배달전문업체",
          "분식",
          "아시안/양식",
          "야식",
          "족발/보쌈",
          "중식",
          "찜탕",
          "치킨",
          "카페/디저트",
          "패스트푸드",
          "피자",
          "한식",
          "회",
          "피자",
          "한식",
          "돈까스/일식",
          "배달전문업체",
          "분식",
          "야식",
          "족발/보쌈",
          "중식",
          "치킨",
          "카페/디저트",
          "패스트푸드",
          "피자",
          "한식",
          "회",
          "도시락",
          "돈까스/일식",
          "배달전문업체",
          "분식",
          "아시안/양식",
          "야식",
          "족발/보쌈",
          "중식",
          "찜탕",
          "치킨",
          "카페/디저트",
          "패스트푸드",
          "피자",
          "한식",
          "회",
          "심부름",
          "치킨",
          "한식",
          "분식",
          "치킨",
          "돈까스/일식",
          "분식",
          "아시안/양식",
          "야식",
          "족발/보쌈",
          "찜탕",
          "치킨",
          "카페/디저트",
          "패스트푸드",
          "피자",
          "한식",
          "회",
          "돈까스/일식",
          "분식",
          "아시안/양식",
          "족발/보쌈",
          "중식",
          "찜탕",
          "치킨",
          "카페/디저트",
          "패스트푸드",
          "한식",
          "회",
          "분식",
          "아시안/양식",
          "야식",
          "족발/보쌈",
          "중식",
          "찜탕",
          "치킨",
          "카페/디저트",
          "패스트푸드",
          "피자",
          "한식",
          "회",
          "도시락",
          "돈까스/일식",
          "배달전문업체",
          "분식",
          "심부름",
          "아시안/양식",
          "야식",
          "족발/보쌈",
          "중식",
          "찜탕",
          "치킨",
          "카페/디저트",
          "패스트푸드",
          "피자",
          "한식",
          "회",
          "돈까스/일식",
          "분식",
          "야식",
          "치킨",
          "피자",
          "치킨",
          "회",
          "돈까스/일식",
          "아시안/양식",
          "족발/보쌈",
          "카페/디저트",
          "돈까스/일식",
          "분식",
          "족발/보쌈",
          "찜탕",
          "치킨",
          "카페/디저트",
          "패스트푸드",
          "피자",
          "한식",
          "돈까스/일식",
          "배달전문업체",
          "분식",
          "심부름",
          "아시안/양식",
          "야식",
          "족발/보쌈",
          "중식",
          "찜탕",
          "치킨",
          "카페/디저트",
          "패스트푸드",
          "피자",
          "한식",
          "회",
          "도시락",
          "돈까스/일식",
          "배달전문업체",
          "분식",
          "심부름",
          "야식",
          "족발/보쌈",
          "중식",
          "찜탕",
          "치킨",
          "카페/디저트",
          "패스트푸드",
          "피자",
          "한식",
          "회",
          "분식",
          "치킨",
          "피자",
          "도시락",
          "돈까스/일식",
          "분식",
          "아시안/양식",
          "야식",
          "족발/보쌈",
          "중식",
          "찜탕",
          "치킨",
          "카페/디저트",
          "패스트푸드",
          "피자",
          "한식",
          "회"
         ],
         "z": [
          100,
          83.33333333333334,
          16.666666666666664,
          2.2175290390707496,
          18.373812038014783,
          0.26399155227032733,
          0.6335797254487857,
          7.708553326293559,
          0.36958817317845827,
          7.074973600844774,
          54.2766631467793,
          9.081309398099261,
          30.65217391304348,
          18.26086956521739,
          0.10869565217391304,
          9.130434782608695,
          24.23913043478261,
          3.369565217391304,
          5.434782608695652,
          6.630434782608696,
          2.1739130434782608,
          1.7704975732651624,
          6.325256567003816,
          0.23804231039976287,
          13.539235300655776,
          4.247712200363083,
          5.992738320180801,
          8.746433996517359,
          3.083435219147123,
          2.4248823681968066,
          23.290170797673298,
          1.5931236338038606,
          10.976807083842763,
          3.3145307695157644,
          11.73029898855174,
          2.726834870882887,
          0.6930407161420733,
          3.4218885359514872,
          0.24545192030031765,
          7.666762922321686,
          0.620848974877274,
          0.15882183078255846,
          0.8085475021657523,
          0.47646549234767543,
          5.963037828472423,
          31.995379728559055,
          2.8443546058330926,
          0.44758879584175565,
          4.966791799018192,
          18.235633843488305,
          21.455385503898356,
          0.05767567047966932,
          6.751257650036849,
          0.03524624307090903,
          16.610593098144765,
          0.012816815662148737,
          0.0032042039155371843,
          0.03524624307090903,
          0.07049248614181806,
          9.785638758050561,
          35.73969047390176,
          1.8680508827581785,
          3.6079336088948697,
          5.094684225704124,
          13.733217981992373,
          6.594251658175526,
          7.142857142857142,
          14.285714285714285,
          21.428571428571427,
          50,
          7.142857142857142,
          0.10568772512563897,
          0.010784461747514181,
          1.0460927895088756,
          1.212173500420594,
          0.7678536764230097,
          3.1404352608761297,
          0.6880486594914048,
          0.25235640489183186,
          24.840929189224166,
          44.02001596100338,
          19.912430170610186,
          1.6500226473696695,
          2.2970903522205206,
          0.05607920108707374,
          0.1145943887535304,
          8.74619634778868,
          0.9728182109876625,
          10.0726704723757,
          2.736161405315064,
          2.9389053238790024,
          11.34484448659951,
          9.152741979274284,
          4.5280650473010375,
          18.448286196841426,
          5.837967060283701,
          6.400361060474104,
          5.1891865208790975,
          12.184733206633076,
          1.3324682926141271,
          7.9908740909739056,
          1.3745900470554684,
          13.609011835163267,
          0.002851846570654499,
          10.49764722657921,
          6.741765293027235,
          9.824611435904748,
          19.292742050477685,
          4.614287751318979,
          8.789391130757165,
          1.3688863539141596,
          15.893340938257522,
          50,
          50,
          0.49843224538202846,
          5.277078290253927,
          0.5751141292869559,
          11.26573846928663,
          1.915097558201875,
          2.5009341543060453,
          7.262359267623024,
          3.7756080126070213,
          2.8755706464347797,
          29.216772537488016,
          6.933861875132,
          12.20314200770068,
          4.763374652738291,
          10.113235748054523,
          0.8236804055041995,
          0.6779661016949152,
          0.3389830508474576,
          98.98305084745763,
          15.566037735849056,
          1.4150943396226416,
          34.43396226415094,
          5.660377358490567,
          0.9433962264150944,
          41.9811320754717,
          0.005866091789671279,
          1.4203274745741583,
          1.0221664943502204,
          23.162996692990752,
          3.019570748733291,
          9.911495340123334,
          10.548699560776377,
          5.480396254500392,
          2.5172866392426876,
          21.748535310206265,
          4.041003981609802,
          10.083811786444928,
          1.9160122308013814,
          5.103499857014013,
          0.018331536842722748,
          36.067080174592235,
          63.10590397427062,
          0.8270158511371467,
          2.037452394213545,
          3.7836251147807496,
          2.763017266035435,
          16.10016408002288,
          2.2421760924869414,
          7.546928391865243,
          5.541087745179209,
          4.173503334286703,
          5.635170327106321,
          13.349942045129534,
          14.17561078412187,
          3.035480423296353,
          6.585028074242446,
          10.136833707154793,
          2.893980220077976,
          0.4109790107148099,
          1.7943637164244826,
          16.974900924702773,
          3.041978570380156,
          9.709379128137384,
          3.3575517393218846,
          0.4366651988844855,
          0.726552179656539,
          5.408777337443124,
          29.370321444297666,
          0.0036694554528108026,
          14.586085424922942,
          8.902098928519008,
          5.276676941141935,
          0.7393392056475976,
          3.386650554901898,
          11.028078990046746,
          0.0015899767863389194,
          1.564537157757497,
          5.213533882405317,
          12.543326867427734,
          1.675835532801221,
          1.658345788151493,
          11.174356854389925,
          2.725220211784908,
          2.548732788501288,
          27.535217985817408,
          16.440359970744428,
          1.7648742328362006,
          50,
          50,
          0.002923933860616073,
          6.284995833394248,
          2.48680574845397,
          10.131430827034693,
          1.1447201064311925,
          3.9560825134135467,
          13.239572520869578,
          1.3757108814198622,
          0.40496483969532604,
          19.38860542974518,
          2.907852224382684,
          10.52762386514817,
          9.0232598938612,
          18.379848247832633,
          0.7456031344570986,
          0.8873526452910981,
          0.0051590270075063845,
          1.2355869682977791,
          4.14527820053138,
          0.2863259989166043,
          3.3894807439316943,
          0.6732530244795831,
          1.743751128537158,
          25.44690071452524,
          33.11837387468724,
          23.790853045115693,
          2.4402197745505196,
          2.574354476745686,
          0.2631103773828256,
          1.095890410958904,
          98.63013698630137,
          0.273972602739726,
          0.7207891667336319,
          8.871307477457076,
          2.4144001987040404,
          10.017021338768474,
          2.5748731922437242,
          3.011729869649175,
          7.335490830636461,
          4.465240185944124,
          3.324883541412503,
          22.220030633539587,
          9.846564441230115,
          2.912621359223301,
          4.556556381053959,
          16.06337100430769,
          1.66512037909614,
          99.90770650669127,
          0.046146746654360866,
          0.046146746654360866,
          0.06340148993501347,
          0.01585037248375337,
          1.2997305436677762,
          0.07925186241876685,
          40.244095736249804,
          0.17435409732128707,
          53.827864954826445,
          2.8213663021080992,
          1.474084640989063,
          5.128205128205128,
          8.791208791208792,
          4.395604395604396,
          2.197802197802198,
          1.098901098901099,
          54.57875457875458,
          4.761904761904762,
          16.483516483516482,
          2.564102564102564,
          3.721729172630976,
          1.503006012024048,
          18.308044660750074,
          2.2330375035785854,
          3.764672201545949,
          7.014028056112225,
          0.5296306899513312,
          17.95018608645863,
          6.212424849699398,
          5.797308903521328,
          8.11623246492986,
          20.56971085027197,
          4.279988548525623,
          3.951949860724234,
          1.8105849582172702,
          18.9066852367688,
          2.5069637883008355,
          6.615598885793872,
          3.447075208913649,
          1.2012534818941505,
          23.57242339832869,
          3.081476323119777,
          4.42200557103064,
          9.958217270194986,
          15.302924791086351,
          5.222841225626741,
          100,
          28.57142857142857,
          57.14285714285714,
          14.285714285714285,
          0.016523463317911432,
          99.98347653668209,
          100,
          0.23923444976076555,
          0.23923444976076555,
          99.52153110047847,
          0.6876924596227567,
          4.748309946403081,
          15.221704507707361,
          2.7911695260667764,
          4.998788009372728,
          5.609272177184052,
          3.6943269860935297,
          5.236697280652141,
          11.099140833310889,
          17.400594324292783,
          12.512232127627101,
          4.645964071211182,
          10.182516810758885,
          1.171590939696733,
          8.22482281193341,
          6.873248722597659,
          8.620405472226802,
          18.262732816878195,
          1.8790176363936046,
          1.9449480797758365,
          0.8076479314323389,
          11.092797099060492,
          18.180319762650406,
          0.016482610845557938,
          2.9833525630459863,
          1.6482610845557937,
          16.76281522993242,
          2.7031481786715017,
          1.5820261559670628,
          5.342225865345206,
          0.25708856514773276,
          18.503670032415513,
          5.751332016841164,
          1.7146689518983567,
          5.578449271582399,
          0.6758821118521554,
          4.378702634226313,
          20.096128767837847,
          1.751182979991803,
          5.27590446737956,
          6.998025261745967,
          18.027497298707104,
          4.067215619061813,
          33.33333333333333,
          33.33333333333333,
          33.33333333333333,
          9.294535182703799,
          0.7967261796979683,
          2.5585774816209756,
          5.367037265056314,
          0.054322239524861475,
          2.7704342157679354,
          56.723282511860354,
          9.924673161192192,
          2.361206678013979,
          1.51377974142614,
          6.234382356136602,
          2.401042986998877,
          0.040412204485754694,
          0.040412204485754694,
          21.660941604364517,
          0.020206102242877347,
          0.7880379874722166,
          10.062638916952919,
          0.30309153364316027,
          7.4964639321074955,
          4.9504950495049505,
          11.780157607597493,
          16.811477066073955,
          0.22226712467165083,
          23.09557486360881,
          2.727823802788442,
          1.7884322678843225,
          0.0532724505327245,
          0.7343987823439878,
          17.47716894977169,
          0.1750380517503805,
          0.3691019786910198,
          1.5753424657534247,
          0.01141552511415525,
          3.458904109589041,
          17.14992389649924,
          31.666666666666664,
          6.834094368340944,
          7.264079147640791,
          3.1012176560121762,
          8.340943683409437,
          1.2212852573422508,
          7.06923847371652,
          0.0032309133792123037,
          12.87518981616103,
          0.3037058576459565,
          6.1548899873994385,
          0.4006332590223256,
          0.6558754159800976,
          0.9434267067299926,
          23.640593195696425,
          27.020128590352492,
          7.091854867371006,
          2.6138089237827535,
          9.511808988401022,
          0.4943297470194824,
          50,
          50,
          0.27261884477764525,
          0.03407735559720566,
          0.08519338899301414,
          1.6357130686658716,
          0.7156244675413188,
          0.6815471119441131,
          1.090475379110581,
          10.734367013119781,
          82.16050434486284,
          2.368376214005793,
          0.20446413358323395,
          0.01703867779860283,
          1.264212451299992,
          4.505247674326151,
          0.0009938777132861571,
          14.400294187803134,
          8.629840184463704,
          3.0223821261032042,
          5.957303013437227,
          3.992406774270494,
          3.0949351991730936,
          33.60797487477141,
          2.129879939572235,
          7.359664466883994,
          2.0762105430547826,
          9.280830086666136,
          0.6778246004611592,
          33.33333333333333,
          33.33333333333333,
          33.33333333333333,
          50,
          50,
          1.7662199343214695,
          14.054317919588177,
          4.88595011981894,
          16.947723440134908,
          0.7233513801366823,
          16.490636371704976,
          12.962634241590484,
          13.25996272299636,
          2.0502352001420077,
          8.680216561640188,
          6.203958462767374,
          1.9747936451584274,
          12.882048685209968,
          10.426086012948964,
          1.5987268058017146,
          13.484284009114914,
          0.6420226426013672,
          0.9892574239519659,
          32.54421817918762,
          0.83915072159728,
          8.107570441639238,
          5.910225340904981,
          12.576409737041994,
          8.600182982616651,
          1.079597438243367,
          1.2259835315645013,
          4.84903934126258,
          0.09149130832570906,
          3.110704483074108,
          51.216834400731926,
          12.296431838975296,
          5.269899359560841,
          1.445562671546203,
          6.752058554437329,
          4.062214089661482,
          1.0923129940339011,
          5.1140451011221435,
          3.953240431626785,
          8.958840379934955,
          0.1761829890801008,
          1.7083073079325422,
          6.1471278726657905,
          12.36016282926619,
          2.5691916689999785,
          5.915053091817614,
          20.0571840875315,
          6.3298800318766295,
          5.118029679726034,
          3.3249693079756186,
          15.485364750479228,
          1.6901074759309915,
          6.927297668038408,
          0.06858710562414265,
          2.880658436213992,
          84.70507544581619,
          5.41838134430727,
          75,
          25,
          50,
          50,
          0.19230769230769232,
          99.8076923076923,
          0.8640552995391706,
          0.6240399385560677,
          0.019201228878648235,
          0.0576036866359447,
          2.6977726574500767,
          94.98847926267281,
          0.03840245775729647,
          0.36482334869431643,
          0.3456221198156682,
          7.514848684830771,
          3.2110870180069764,
          16.385405864052043,
          0.018855472800980485,
          1.1812953709814273,
          2.100499670029226,
          6.91807297067974,
          2.7726972753841803,
          3.9587065145658524,
          16.694635617988123,
          7.63363816347695,
          3.813519373998303,
          4.185914961817668,
          18.35863109267465,
          5.252191948713114,
          3.520668997382337,
          6.245498146553996,
          0.0035136417139544278,
          5.4320900897735465,
          0.0017568208569772139,
          4.550166019570985,
          8.889513536304703,
          0.005270462570931642,
          3.485532580242793,
          24.375889390558843,
          12.136118479998595,
          6.501993991672669,
          7.477029567295022,
          16.688041320426557,
          0.6869169550780907,
          54.54545454545454,
          36.36363636363637,
          9.090909090909092,
          0.11664301405548319,
          0.15941211920916037,
          7.99782266373763,
          1.2500243006279281,
          0.20023717412857947,
          3.08520772176753,
          2.3970139388401797,
          6.057660529948094,
          33.28408406073213,
          19.745718229359046,
          0.27994323373315966,
          8.66851999455666,
          2.7177822274927586,
          14.039930791811662
         ]
        }
       ],
       "layout": {
        "template": {
         "data": {
          "bar": [
           {
            "error_x": {
             "color": "#2a3f5f"
            },
            "error_y": {
             "color": "#2a3f5f"
            },
            "marker": {
             "line": {
              "color": "#E5ECF6",
              "width": 0.5
             }
            },
            "type": "bar"
           }
          ],
          "barpolar": [
           {
            "marker": {
             "line": {
              "color": "#E5ECF6",
              "width": 0.5
             }
            },
            "type": "barpolar"
           }
          ],
          "carpet": [
           {
            "aaxis": {
             "endlinecolor": "#2a3f5f",
             "gridcolor": "white",
             "linecolor": "white",
             "minorgridcolor": "white",
             "startlinecolor": "#2a3f5f"
            },
            "baxis": {
             "endlinecolor": "#2a3f5f",
             "gridcolor": "white",
             "linecolor": "white",
             "minorgridcolor": "white",
             "startlinecolor": "#2a3f5f"
            },
            "type": "carpet"
           }
          ],
          "choropleth": [
           {
            "colorbar": {
             "outlinewidth": 0,
             "ticks": ""
            },
            "type": "choropleth"
           }
          ],
          "contour": [
           {
            "colorbar": {
             "outlinewidth": 0,
             "ticks": ""
            },
            "colorscale": [
             [
              0,
              "#0d0887"
             ],
             [
              0.1111111111111111,
              "#46039f"
             ],
             [
              0.2222222222222222,
              "#7201a8"
             ],
             [
              0.3333333333333333,
              "#9c179e"
             ],
             [
              0.4444444444444444,
              "#bd3786"
             ],
             [
              0.5555555555555556,
              "#d8576b"
             ],
             [
              0.6666666666666666,
              "#ed7953"
             ],
             [
              0.7777777777777778,
              "#fb9f3a"
             ],
             [
              0.8888888888888888,
              "#fdca26"
             ],
             [
              1,
              "#f0f921"
             ]
            ],
            "type": "contour"
           }
          ],
          "contourcarpet": [
           {
            "colorbar": {
             "outlinewidth": 0,
             "ticks": ""
            },
            "type": "contourcarpet"
           }
          ],
          "heatmap": [
           {
            "colorbar": {
             "outlinewidth": 0,
             "ticks": ""
            },
            "colorscale": [
             [
              0,
              "#0d0887"
             ],
             [
              0.1111111111111111,
              "#46039f"
             ],
             [
              0.2222222222222222,
              "#7201a8"
             ],
             [
              0.3333333333333333,
              "#9c179e"
             ],
             [
              0.4444444444444444,
              "#bd3786"
             ],
             [
              0.5555555555555556,
              "#d8576b"
             ],
             [
              0.6666666666666666,
              "#ed7953"
             ],
             [
              0.7777777777777778,
              "#fb9f3a"
             ],
             [
              0.8888888888888888,
              "#fdca26"
             ],
             [
              1,
              "#f0f921"
             ]
            ],
            "type": "heatmap"
           }
          ],
          "heatmapgl": [
           {
            "colorbar": {
             "outlinewidth": 0,
             "ticks": ""
            },
            "colorscale": [
             [
              0,
              "#0d0887"
             ],
             [
              0.1111111111111111,
              "#46039f"
             ],
             [
              0.2222222222222222,
              "#7201a8"
             ],
             [
              0.3333333333333333,
              "#9c179e"
             ],
             [
              0.4444444444444444,
              "#bd3786"
             ],
             [
              0.5555555555555556,
              "#d8576b"
             ],
             [
              0.6666666666666666,
              "#ed7953"
             ],
             [
              0.7777777777777778,
              "#fb9f3a"
             ],
             [
              0.8888888888888888,
              "#fdca26"
             ],
             [
              1,
              "#f0f921"
             ]
            ],
            "type": "heatmapgl"
           }
          ],
          "histogram": [
           {
            "marker": {
             "colorbar": {
              "outlinewidth": 0,
              "ticks": ""
             }
            },
            "type": "histogram"
           }
          ],
          "histogram2d": [
           {
            "colorbar": {
             "outlinewidth": 0,
             "ticks": ""
            },
            "colorscale": [
             [
              0,
              "#0d0887"
             ],
             [
              0.1111111111111111,
              "#46039f"
             ],
             [
              0.2222222222222222,
              "#7201a8"
             ],
             [
              0.3333333333333333,
              "#9c179e"
             ],
             [
              0.4444444444444444,
              "#bd3786"
             ],
             [
              0.5555555555555556,
              "#d8576b"
             ],
             [
              0.6666666666666666,
              "#ed7953"
             ],
             [
              0.7777777777777778,
              "#fb9f3a"
             ],
             [
              0.8888888888888888,
              "#fdca26"
             ],
             [
              1,
              "#f0f921"
             ]
            ],
            "type": "histogram2d"
           }
          ],
          "histogram2dcontour": [
           {
            "colorbar": {
             "outlinewidth": 0,
             "ticks": ""
            },
            "colorscale": [
             [
              0,
              "#0d0887"
             ],
             [
              0.1111111111111111,
              "#46039f"
             ],
             [
              0.2222222222222222,
              "#7201a8"
             ],
             [
              0.3333333333333333,
              "#9c179e"
             ],
             [
              0.4444444444444444,
              "#bd3786"
             ],
             [
              0.5555555555555556,
              "#d8576b"
             ],
             [
              0.6666666666666666,
              "#ed7953"
             ],
             [
              0.7777777777777778,
              "#fb9f3a"
             ],
             [
              0.8888888888888888,
              "#fdca26"
             ],
             [
              1,
              "#f0f921"
             ]
            ],
            "type": "histogram2dcontour"
           }
          ],
          "mesh3d": [
           {
            "colorbar": {
             "outlinewidth": 0,
             "ticks": ""
            },
            "type": "mesh3d"
           }
          ],
          "parcoords": [
           {
            "line": {
             "colorbar": {
              "outlinewidth": 0,
              "ticks": ""
             }
            },
            "type": "parcoords"
           }
          ],
          "pie": [
           {
            "automargin": true,
            "type": "pie"
           }
          ],
          "scatter": [
           {
            "marker": {
             "colorbar": {
              "outlinewidth": 0,
              "ticks": ""
             }
            },
            "type": "scatter"
           }
          ],
          "scatter3d": [
           {
            "line": {
             "colorbar": {
              "outlinewidth": 0,
              "ticks": ""
             }
            },
            "marker": {
             "colorbar": {
              "outlinewidth": 0,
              "ticks": ""
             }
            },
            "type": "scatter3d"
           }
          ],
          "scattercarpet": [
           {
            "marker": {
             "colorbar": {
              "outlinewidth": 0,
              "ticks": ""
             }
            },
            "type": "scattercarpet"
           }
          ],
          "scattergeo": [
           {
            "marker": {
             "colorbar": {
              "outlinewidth": 0,
              "ticks": ""
             }
            },
            "type": "scattergeo"
           }
          ],
          "scattergl": [
           {
            "marker": {
             "colorbar": {
              "outlinewidth": 0,
              "ticks": ""
             }
            },
            "type": "scattergl"
           }
          ],
          "scattermapbox": [
           {
            "marker": {
             "colorbar": {
              "outlinewidth": 0,
              "ticks": ""
             }
            },
            "type": "scattermapbox"
           }
          ],
          "scatterpolar": [
           {
            "marker": {
             "colorbar": {
              "outlinewidth": 0,
              "ticks": ""
             }
            },
            "type": "scatterpolar"
           }
          ],
          "scatterpolargl": [
           {
            "marker": {
             "colorbar": {
              "outlinewidth": 0,
              "ticks": ""
             }
            },
            "type": "scatterpolargl"
           }
          ],
          "scatterternary": [
           {
            "marker": {
             "colorbar": {
              "outlinewidth": 0,
              "ticks": ""
             }
            },
            "type": "scatterternary"
           }
          ],
          "surface": [
           {
            "colorbar": {
             "outlinewidth": 0,
             "ticks": ""
            },
            "colorscale": [
             [
              0,
              "#0d0887"
             ],
             [
              0.1111111111111111,
              "#46039f"
             ],
             [
              0.2222222222222222,
              "#7201a8"
             ],
             [
              0.3333333333333333,
              "#9c179e"
             ],
             [
              0.4444444444444444,
              "#bd3786"
             ],
             [
              0.5555555555555556,
              "#d8576b"
             ],
             [
              0.6666666666666666,
              "#ed7953"
             ],
             [
              0.7777777777777778,
              "#fb9f3a"
             ],
             [
              0.8888888888888888,
              "#fdca26"
             ],
             [
              1,
              "#f0f921"
             ]
            ],
            "type": "surface"
           }
          ],
          "table": [
           {
            "cells": {
             "fill": {
              "color": "#EBF0F8"
             },
             "line": {
              "color": "white"
             }
            },
            "header": {
             "fill": {
              "color": "#C8D4E3"
             },
             "line": {
              "color": "white"
             }
            },
            "type": "table"
           }
          ]
         },
         "layout": {
          "annotationdefaults": {
           "arrowcolor": "#2a3f5f",
           "arrowhead": 0,
           "arrowwidth": 1
          },
          "coloraxis": {
           "colorbar": {
            "outlinewidth": 0,
            "ticks": ""
           }
          },
          "colorscale": {
           "diverging": [
            [
             0,
             "#8e0152"
            ],
            [
             0.1,
             "#c51b7d"
            ],
            [
             0.2,
             "#de77ae"
            ],
            [
             0.3,
             "#f1b6da"
            ],
            [
             0.4,
             "#fde0ef"
            ],
            [
             0.5,
             "#f7f7f7"
            ],
            [
             0.6,
             "#e6f5d0"
            ],
            [
             0.7,
             "#b8e186"
            ],
            [
             0.8,
             "#7fbc41"
            ],
            [
             0.9,
             "#4d9221"
            ],
            [
             1,
             "#276419"
            ]
           ],
           "sequential": [
            [
             0,
             "#0d0887"
            ],
            [
             0.1111111111111111,
             "#46039f"
            ],
            [
             0.2222222222222222,
             "#7201a8"
            ],
            [
             0.3333333333333333,
             "#9c179e"
            ],
            [
             0.4444444444444444,
             "#bd3786"
            ],
            [
             0.5555555555555556,
             "#d8576b"
            ],
            [
             0.6666666666666666,
             "#ed7953"
            ],
            [
             0.7777777777777778,
             "#fb9f3a"
            ],
            [
             0.8888888888888888,
             "#fdca26"
            ],
            [
             1,
             "#f0f921"
            ]
           ],
           "sequentialminus": [
            [
             0,
             "#0d0887"
            ],
            [
             0.1111111111111111,
             "#46039f"
            ],
            [
             0.2222222222222222,
             "#7201a8"
            ],
            [
             0.3333333333333333,
             "#9c179e"
            ],
            [
             0.4444444444444444,
             "#bd3786"
            ],
            [
             0.5555555555555556,
             "#d8576b"
            ],
            [
             0.6666666666666666,
             "#ed7953"
            ],
            [
             0.7777777777777778,
             "#fb9f3a"
            ],
            [
             0.8888888888888888,
             "#fdca26"
            ],
            [
             1,
             "#f0f921"
            ]
           ]
          },
          "colorway": [
           "#636efa",
           "#EF553B",
           "#00cc96",
           "#ab63fa",
           "#FFA15A",
           "#19d3f3",
           "#FF6692",
           "#B6E880",
           "#FF97FF",
           "#FECB52"
          ],
          "font": {
           "color": "#2a3f5f"
          },
          "geo": {
           "bgcolor": "white",
           "lakecolor": "white",
           "landcolor": "#E5ECF6",
           "showlakes": true,
           "showland": true,
           "subunitcolor": "white"
          },
          "hoverlabel": {
           "align": "left"
          },
          "hovermode": "closest",
          "mapbox": {
           "style": "light"
          },
          "paper_bgcolor": "white",
          "plot_bgcolor": "#E5ECF6",
          "polar": {
           "angularaxis": {
            "gridcolor": "white",
            "linecolor": "white",
            "ticks": ""
           },
           "bgcolor": "#E5ECF6",
           "radialaxis": {
            "gridcolor": "white",
            "linecolor": "white",
            "ticks": ""
           }
          },
          "scene": {
           "xaxis": {
            "backgroundcolor": "#E5ECF6",
            "gridcolor": "white",
            "gridwidth": 2,
            "linecolor": "white",
            "showbackground": true,
            "ticks": "",
            "zerolinecolor": "white"
           },
           "yaxis": {
            "backgroundcolor": "#E5ECF6",
            "gridcolor": "white",
            "gridwidth": 2,
            "linecolor": "white",
            "showbackground": true,
            "ticks": "",
            "zerolinecolor": "white"
           },
           "zaxis": {
            "backgroundcolor": "#E5ECF6",
            "gridcolor": "white",
            "gridwidth": 2,
            "linecolor": "white",
            "showbackground": true,
            "ticks": "",
            "zerolinecolor": "white"
           }
          },
          "shapedefaults": {
           "line": {
            "color": "#2a3f5f"
           }
          },
          "ternary": {
           "aaxis": {
            "gridcolor": "white",
            "linecolor": "white",
            "ticks": ""
           },
           "baxis": {
            "gridcolor": "white",
            "linecolor": "white",
            "ticks": ""
           },
           "bgcolor": "#E5ECF6",
           "caxis": {
            "gridcolor": "white",
            "linecolor": "white",
            "ticks": ""
           }
          },
          "title": {
           "x": 0.05
          },
          "xaxis": {
           "automargin": true,
           "gridcolor": "white",
           "linecolor": "white",
           "ticks": "",
           "title": {
            "standoff": 15
           },
           "zerolinecolor": "white",
           "zerolinewidth": 2
          },
          "yaxis": {
           "automargin": true,
           "gridcolor": "white",
           "linecolor": "white",
           "ticks": "",
           "title": {
            "standoff": 15
           },
           "zerolinecolor": "white",
           "zerolinewidth": 2
          }
         }
        }
       }
      },
      "text/html": [
       "<div>                            <div id=\"5f2c5c59-6020-47c9-824a-3cb3913e533a\" class=\"plotly-graph-div\" style=\"height:525px; width:100%;\"></div>            <script type=\"text/javascript\">                require([\"plotly\"], function(Plotly) {                    window.PLOTLYENV=window.PLOTLYENV || {};                                    if (document.getElementById(\"5f2c5c59-6020-47c9-824a-3cb3913e533a\")) {                    Plotly.newPlot(                        \"5f2c5c59-6020-47c9-824a-3cb3913e533a\",                        [{\"hoverongaps\": false, \"type\": \"heatmap\", \"x\": [\"\\uac00\\ud3c9\\uad70\", \"\\uac15\\ub3d9\\uad6c\", \"\\uac15\\ub3d9\\uad6c\", \"\\uac15\\ubd81\\uad6c\", \"\\uac15\\ubd81\\uad6c\", \"\\uac15\\ubd81\\uad6c\", \"\\uac15\\ubd81\\uad6c\", \"\\uac15\\ubd81\\uad6c\", \"\\uac15\\ubd81\\uad6c\", \"\\uac15\\ubd81\\uad6c\", \"\\uac15\\ubd81\\uad6c\", \"\\uac15\\ubd81\\uad6c\", \"\\uac15\\uc11c\\uad6c\", \"\\uac15\\uc11c\\uad6c\", \"\\uac15\\uc11c\\uad6c\", \"\\uac15\\uc11c\\uad6c\", \"\\uac15\\uc11c\\uad6c\", \"\\uac15\\uc11c\\uad6c\", \"\\uac15\\uc11c\\uad6c\", \"\\uac15\\uc11c\\uad6c\", \"\\uac15\\uc11c\\uad6c\", \"\\uace0\\uc591\\uc2dc \\ub355\\uc591\\uad6c\", \"\\uace0\\uc591\\uc2dc \\ub355\\uc591\\uad6c\", \"\\uace0\\uc591\\uc2dc \\ub355\\uc591\\uad6c\", \"\\uace0\\uc591\\uc2dc \\ub355\\uc591\\uad6c\", \"\\uace0\\uc591\\uc2dc \\ub355\\uc591\\uad6c\", \"\\uace0\\uc591\\uc2dc \\ub355\\uc591\\uad6c\", \"\\uace0\\uc591\\uc2dc \\ub355\\uc591\\uad6c\", \"\\uace0\\uc591\\uc2dc \\ub355\\uc591\\uad6c\", \"\\uace0\\uc591\\uc2dc \\ub355\\uc591\\uad6c\", \"\\uace0\\uc591\\uc2dc \\ub355\\uc591\\uad6c\", \"\\uace0\\uc591\\uc2dc \\ub355\\uc591\\uad6c\", \"\\uace0\\uc591\\uc2dc \\ub355\\uc591\\uad6c\", \"\\uace0\\uc591\\uc2dc \\ub355\\uc591\\uad6c\", \"\\uace0\\uc591\\uc2dc \\ub355\\uc591\\uad6c\", \"\\uace0\\uc591\\uc2dc \\ub355\\uc591\\uad6c\", \"\\uace0\\uc591\\uc2dc \\uc77c\\uc0b0\\ub3d9\\uad6c\", \"\\uace0\\uc591\\uc2dc \\uc77c\\uc0b0\\ub3d9\\uad6c\", \"\\uace0\\uc591\\uc2dc \\uc77c\\uc0b0\\ub3d9\\uad6c\", \"\\uace0\\uc591\\uc2dc \\uc77c\\uc0b0\\ub3d9\\uad6c\", \"\\uace0\\uc591\\uc2dc \\uc77c\\uc0b0\\ub3d9\\uad6c\", \"\\uace0\\uc591\\uc2dc \\uc77c\\uc0b0\\ub3d9\\uad6c\", \"\\uace0\\uc591\\uc2dc \\uc77c\\uc0b0\\ub3d9\\uad6c\", \"\\uace0\\uc591\\uc2dc \\uc77c\\uc0b0\\ub3d9\\uad6c\", \"\\uace0\\uc591\\uc2dc \\uc77c\\uc0b0\\ub3d9\\uad6c\", \"\\uace0\\uc591\\uc2dc \\uc77c\\uc0b0\\ub3d9\\uad6c\", \"\\uace0\\uc591\\uc2dc \\uc77c\\uc0b0\\ub3d9\\uad6c\", \"\\uace0\\uc591\\uc2dc \\uc77c\\uc0b0\\ub3d9\\uad6c\", \"\\uace0\\uc591\\uc2dc \\uc77c\\uc0b0\\ub3d9\\uad6c\", \"\\uace0\\uc591\\uc2dc \\uc77c\\uc0b0\\ub3d9\\uad6c\", \"\\uace0\\uc591\\uc2dc \\uc77c\\uc0b0\\ub3d9\\uad6c\", \"\\uace0\\uc591\\uc2dc \\uc77c\\uc0b0\\uc11c\\uad6c\", \"\\uace0\\uc591\\uc2dc \\uc77c\\uc0b0\\uc11c\\uad6c\", \"\\uace0\\uc591\\uc2dc \\uc77c\\uc0b0\\uc11c\\uad6c\", \"\\uace0\\uc591\\uc2dc \\uc77c\\uc0b0\\uc11c\\uad6c\", \"\\uace0\\uc591\\uc2dc \\uc77c\\uc0b0\\uc11c\\uad6c\", \"\\uace0\\uc591\\uc2dc \\uc77c\\uc0b0\\uc11c\\uad6c\", \"\\uace0\\uc591\\uc2dc \\uc77c\\uc0b0\\uc11c\\uad6c\", \"\\uace0\\uc591\\uc2dc \\uc77c\\uc0b0\\uc11c\\uad6c\", \"\\uace0\\uc591\\uc2dc \\uc77c\\uc0b0\\uc11c\\uad6c\", \"\\uace0\\uc591\\uc2dc \\uc77c\\uc0b0\\uc11c\\uad6c\", \"\\uace0\\uc591\\uc2dc \\uc77c\\uc0b0\\uc11c\\uad6c\", \"\\uace0\\uc591\\uc2dc \\uc77c\\uc0b0\\uc11c\\uad6c\", \"\\uace0\\uc591\\uc2dc \\uc77c\\uc0b0\\uc11c\\uad6c\", \"\\uace0\\uc591\\uc2dc \\uc77c\\uc0b0\\uc11c\\uad6c\", \"\\uace0\\uc591\\uc2dc \\uc77c\\uc0b0\\uc11c\\uad6c\", \"\\uacfc\\ucc9c\\uc2dc\", \"\\uacfc\\ucc9c\\uc2dc\", \"\\uacfc\\ucc9c\\uc2dc\", \"\\uacfc\\ucc9c\\uc2dc\", \"\\uacfc\\ucc9c\\uc2dc\", \"\\uad00\\uc545\\uad6c\", \"\\uad00\\uc545\\uad6c\", \"\\uad00\\uc545\\uad6c\", \"\\uad00\\uc545\\uad6c\", \"\\uad00\\uc545\\uad6c\", \"\\uad00\\uc545\\uad6c\", \"\\uad00\\uc545\\uad6c\", \"\\uad00\\uc545\\uad6c\", \"\\uad00\\uc545\\uad6c\", \"\\uad00\\uc545\\uad6c\", \"\\uad00\\uc545\\uad6c\", \"\\uad00\\uc545\\uad6c\", \"\\uad00\\uc545\\uad6c\", \"\\uad00\\uc545\\uad6c\", \"\\uad11\\uba85\\uc2dc\", \"\\uad11\\uba85\\uc2dc\", \"\\uad11\\uba85\\uc2dc\", \"\\uad11\\uba85\\uc2dc\", \"\\uad11\\uba85\\uc2dc\", \"\\uad11\\uba85\\uc2dc\", \"\\uad11\\uba85\\uc2dc\", \"\\uad11\\uba85\\uc2dc\", \"\\uad11\\uba85\\uc2dc\", \"\\uad11\\uba85\\uc2dc\", \"\\uad11\\uba85\\uc2dc\", \"\\uad11\\uba85\\uc2dc\", \"\\uad11\\uba85\\uc2dc\", \"\\uad11\\uba85\\uc2dc\", \"\\uad11\\uba85\\uc2dc\", \"\\uad11\\uc8fc\\uc2dc\", \"\\uad11\\uc8fc\\uc2dc\", \"\\uad11\\uc8fc\\uc2dc\", \"\\uad11\\uc8fc\\uc2dc\", \"\\uad11\\uc8fc\\uc2dc\", \"\\uad11\\uc8fc\\uc2dc\", \"\\uad11\\uc8fc\\uc2dc\", \"\\uad11\\uc8fc\\uc2dc\", \"\\uad11\\uc8fc\\uc2dc\", \"\\uad11\\uc8fc\\uc2dc\", \"\\uad11\\uc8fc\\uc2dc\", \"\\uad11\\uc8fc\\uc2dc\", \"\\uad11\\uc9c4\\uad6c\", \"\\uad11\\uc9c4\\uad6c\", \"\\uad6c\\ub85c\\uad6c\", \"\\uad6c\\ub85c\\uad6c\", \"\\uad6c\\ub85c\\uad6c\", \"\\uad6c\\ub85c\\uad6c\", \"\\uad6c\\ub85c\\uad6c\", \"\\uad6c\\ub85c\\uad6c\", \"\\uad6c\\ub85c\\uad6c\", \"\\uad6c\\ub85c\\uad6c\", \"\\uad6c\\ub85c\\uad6c\", \"\\uad6c\\ub85c\\uad6c\", \"\\uad6c\\ub85c\\uad6c\", \"\\uad6c\\ub85c\\uad6c\", \"\\uad6c\\ub85c\\uad6c\", \"\\uad6c\\ub85c\\uad6c\", \"\\uad6c\\ub85c\\uad6c\", \"\\uad6c\\ub9ac\\uc2dc\", \"\\uad6c\\ub9ac\\uc2dc\", \"\\uad6c\\ub9ac\\uc2dc\", \"\\uad70\\ud3ec\\uc2dc\", \"\\uad70\\ud3ec\\uc2dc\", \"\\uad70\\ud3ec\\uc2dc\", \"\\uad70\\ud3ec\\uc2dc\", \"\\uad70\\ud3ec\\uc2dc\", \"\\uad70\\ud3ec\\uc2dc\", \"\\uae08\\ucc9c\\uad6c\", \"\\uae08\\ucc9c\\uad6c\", \"\\uae08\\ucc9c\\uad6c\", \"\\uae08\\ucc9c\\uad6c\", \"\\uae08\\ucc9c\\uad6c\", \"\\uae08\\ucc9c\\uad6c\", \"\\uae08\\ucc9c\\uad6c\", \"\\uae08\\ucc9c\\uad6c\", \"\\uae08\\ucc9c\\uad6c\", \"\\uae08\\ucc9c\\uad6c\", \"\\uae08\\ucc9c\\uad6c\", \"\\uae08\\ucc9c\\uad6c\", \"\\uae08\\ucc9c\\uad6c\", \"\\uae08\\ucc9c\\uad6c\", \"\\uae08\\ucc9c\\uad6c\", \"\\uae40\\ud3ec\\uc2dc\", \"\\uae40\\ud3ec\\uc2dc\", \"\\uae40\\ud3ec\\uc2dc\", \"\\ub0a8\\uc591\\uc8fc\\uc2dc\", \"\\ub0a8\\uc591\\uc8fc\\uc2dc\", \"\\ub0a8\\uc591\\uc8fc\\uc2dc\", \"\\ub0a8\\uc591\\uc8fc\\uc2dc\", \"\\ub0a8\\uc591\\uc8fc\\uc2dc\", \"\\ub0a8\\uc591\\uc8fc\\uc2dc\", \"\\ub0a8\\uc591\\uc8fc\\uc2dc\", \"\\ub0a8\\uc591\\uc8fc\\uc2dc\", \"\\ub0a8\\uc591\\uc8fc\\uc2dc\", \"\\ub0a8\\uc591\\uc8fc\\uc2dc\", \"\\ub0a8\\uc591\\uc8fc\\uc2dc\", \"\\ub0a8\\uc591\\uc8fc\\uc2dc\", \"\\ub0a8\\uc591\\uc8fc\\uc2dc\", \"\\ub0a8\\uc591\\uc8fc\\uc2dc\", \"\\ub0a8\\uc591\\uc8fc\\uc2dc\", \"\\ub178\\uc6d0\\uad6c\", \"\\ub178\\uc6d0\\uad6c\", \"\\ub178\\uc6d0\\uad6c\", \"\\ub178\\uc6d0\\uad6c\", \"\\ub178\\uc6d0\\uad6c\", \"\\ub178\\uc6d0\\uad6c\", \"\\ub178\\uc6d0\\uad6c\", \"\\ub178\\uc6d0\\uad6c\", \"\\ub178\\uc6d0\\uad6c\", \"\\ub178\\uc6d0\\uad6c\", \"\\ub178\\uc6d0\\uad6c\", \"\\ub178\\uc6d0\\uad6c\", \"\\ub178\\uc6d0\\uad6c\", \"\\ub178\\uc6d0\\uad6c\", \"\\ub3c4\\ubd09\\uad6c\", \"\\ub3c4\\ubd09\\uad6c\", \"\\ub3c4\\ubd09\\uad6c\", \"\\ub3c4\\ubd09\\uad6c\", \"\\ub3c4\\ubd09\\uad6c\", \"\\ub3c4\\ubd09\\uad6c\", \"\\ub3c4\\ubd09\\uad6c\", \"\\ub3c4\\ubd09\\uad6c\", \"\\ub3c4\\ubd09\\uad6c\", \"\\ub3c4\\ubd09\\uad6c\", \"\\ub3c4\\ubd09\\uad6c\", \"\\ub3c4\\ubd09\\uad6c\", \"\\ub3c4\\ubd09\\uad6c\", \"\\ub3c4\\ubd09\\uad6c\", \"\\ub3c4\\ubd09\\uad6c\", \"\\ub3d9\\ub300\\ubb38\\uad6c\", \"\\ub3d9\\ub300\\ubb38\\uad6c\", \"\\ub3d9\\ub450\\ucc9c\\uc2dc\", \"\\ub3d9\\ub450\\ucc9c\\uc2dc\", \"\\ub3d9\\ub450\\ucc9c\\uc2dc\", \"\\ub3d9\\ub450\\ucc9c\\uc2dc\", \"\\ub3d9\\ub450\\ucc9c\\uc2dc\", \"\\ub3d9\\ub450\\ucc9c\\uc2dc\", \"\\ub3d9\\ub450\\ucc9c\\uc2dc\", \"\\ub3d9\\ub450\\ucc9c\\uc2dc\", \"\\ub3d9\\ub450\\ucc9c\\uc2dc\", \"\\ub3d9\\ub450\\ucc9c\\uc2dc\", \"\\ub3d9\\ub450\\ucc9c\\uc2dc\", \"\\ub3d9\\ub450\\ucc9c\\uc2dc\", \"\\ub3d9\\ub450\\ucc9c\\uc2dc\", \"\\ub3d9\\ub450\\ucc9c\\uc2dc\", \"\\ub3d9\\ub450\\ucc9c\\uc2dc\", \"\\ub3d9\\uc791\\uad6c\", \"\\ub3d9\\uc791\\uad6c\", \"\\ub3d9\\uc791\\uad6c\", \"\\ub3d9\\uc791\\uad6c\", \"\\ub3d9\\uc791\\uad6c\", \"\\ub3d9\\uc791\\uad6c\", \"\\ub3d9\\uc791\\uad6c\", \"\\ub3d9\\uc791\\uad6c\", \"\\ub3d9\\uc791\\uad6c\", \"\\ub3d9\\uc791\\uad6c\", \"\\ub3d9\\uc791\\uad6c\", \"\\ub3d9\\uc791\\uad6c\", \"\\ub3d9\\uc791\\uad6c\", \"\\ub3d9\\uc791\\uad6c\", \"\\ub9c8\\ud3ec\\uad6c\", \"\\ub9c8\\ud3ec\\uad6c\", \"\\ub9c8\\ud3ec\\uad6c\", \"\\ubd80\\ucc9c\\uc2dc\", \"\\ubd80\\ucc9c\\uc2dc\", \"\\ubd80\\ucc9c\\uc2dc\", \"\\ubd80\\ucc9c\\uc2dc\", \"\\ubd80\\ucc9c\\uc2dc\", \"\\ubd80\\ucc9c\\uc2dc\", \"\\ubd80\\ucc9c\\uc2dc\", \"\\ubd80\\ucc9c\\uc2dc\", \"\\ubd80\\ucc9c\\uc2dc\", \"\\ubd80\\ucc9c\\uc2dc\", \"\\ubd80\\ucc9c\\uc2dc\", \"\\ubd80\\ucc9c\\uc2dc\", \"\\ubd80\\ucc9c\\uc2dc\", \"\\ubd80\\ucc9c\\uc2dc\", \"\\ubd80\\ucc9c\\uc2dc\", \"\\uc11c\\ub300\\ubb38\\uad6c\", \"\\uc11c\\ub300\\ubb38\\uad6c\", \"\\uc11c\\ub300\\ubb38\\uad6c\", \"\\uc11c\\ucd08\\uad6c\", \"\\uc11c\\ucd08\\uad6c\", \"\\uc11c\\ucd08\\uad6c\", \"\\uc11c\\ucd08\\uad6c\", \"\\uc11c\\ucd08\\uad6c\", \"\\uc11c\\ucd08\\uad6c\", \"\\uc11c\\ucd08\\uad6c\", \"\\uc11c\\ucd08\\uad6c\", \"\\uc11c\\ucd08\\uad6c\", \"\\uc131\\ub0a8\\uc2dc \\ubd84\\ub2f9\\uad6c\", \"\\uc131\\ub0a8\\uc2dc \\ubd84\\ub2f9\\uad6c\", \"\\uc131\\ub0a8\\uc2dc \\ubd84\\ub2f9\\uad6c\", \"\\uc131\\ub0a8\\uc2dc \\ubd84\\ub2f9\\uad6c\", \"\\uc131\\ub0a8\\uc2dc \\ubd84\\ub2f9\\uad6c\", \"\\uc131\\ub0a8\\uc2dc \\ubd84\\ub2f9\\uad6c\", \"\\uc131\\ub0a8\\uc2dc \\ubd84\\ub2f9\\uad6c\", \"\\uc131\\ub0a8\\uc2dc \\ubd84\\ub2f9\\uad6c\", \"\\uc131\\ub0a8\\uc2dc \\ubd84\\ub2f9\\uad6c\", \"\\uc131\\ub0a8\\uc2dc \\uc218\\uc815\\uad6c\", \"\\uc131\\ub0a8\\uc2dc \\uc218\\uc815\\uad6c\", \"\\uc131\\ub0a8\\uc2dc \\uc218\\uc815\\uad6c\", \"\\uc131\\ub0a8\\uc2dc \\uc218\\uc815\\uad6c\", \"\\uc131\\ub0a8\\uc2dc \\uc218\\uc815\\uad6c\", \"\\uc131\\ub0a8\\uc2dc \\uc218\\uc815\\uad6c\", \"\\uc131\\ub0a8\\uc2dc \\uc218\\uc815\\uad6c\", \"\\uc131\\ub0a8\\uc2dc \\uc218\\uc815\\uad6c\", \"\\uc131\\ub0a8\\uc2dc \\uc218\\uc815\\uad6c\", \"\\uc131\\ub0a8\\uc2dc \\uc218\\uc815\\uad6c\", \"\\uc131\\ub0a8\\uc2dc \\uc218\\uc815\\uad6c\", \"\\uc131\\ub0a8\\uc2dc \\uc218\\uc815\\uad6c\", \"\\uc131\\ub0a8\\uc2dc \\uc218\\uc815\\uad6c\", \"\\uc131\\ub0a8\\uc2dc \\uc911\\uc6d0\\uad6c\", \"\\uc131\\ub0a8\\uc2dc \\uc911\\uc6d0\\uad6c\", \"\\uc131\\ub0a8\\uc2dc \\uc911\\uc6d0\\uad6c\", \"\\uc131\\ub0a8\\uc2dc \\uc911\\uc6d0\\uad6c\", \"\\uc131\\ub0a8\\uc2dc \\uc911\\uc6d0\\uad6c\", \"\\uc131\\ub0a8\\uc2dc \\uc911\\uc6d0\\uad6c\", \"\\uc131\\ub0a8\\uc2dc \\uc911\\uc6d0\\uad6c\", \"\\uc131\\ub0a8\\uc2dc \\uc911\\uc6d0\\uad6c\", \"\\uc131\\ub0a8\\uc2dc \\uc911\\uc6d0\\uad6c\", \"\\uc131\\ub0a8\\uc2dc \\uc911\\uc6d0\\uad6c\", \"\\uc131\\ub0a8\\uc2dc \\uc911\\uc6d0\\uad6c\", \"\\uc131\\ub0a8\\uc2dc \\uc911\\uc6d0\\uad6c\", \"\\uc131\\ub0a8\\uc2dc \\uc911\\uc6d0\\uad6c\", \"\\uc131\\ubd81\\uad6c\", \"\\uc1a1\\ud30c\\uad6c\", \"\\uc1a1\\ud30c\\uad6c\", \"\\uc1a1\\ud30c\\uad6c\", \"\\uc218\\uc6d0\\uc2dc \\uad8c\\uc120\\uad6c\", \"\\uc218\\uc6d0\\uc2dc \\uad8c\\uc120\\uad6c\", \"\\uc218\\uc6d0\\uc2dc \\uc7a5\\uc548\\uad6c\", \"\\uc218\\uc6d0\\uc2dc \\ud314\\ub2ec\\uad6c\", \"\\uc218\\uc6d0\\uc2dc \\ud314\\ub2ec\\uad6c\", \"\\uc218\\uc6d0\\uc2dc \\ud314\\ub2ec\\uad6c\", \"\\uc2dc\\ud765\\uc2dc\", \"\\uc2dc\\ud765\\uc2dc\", \"\\uc2dc\\ud765\\uc2dc\", \"\\uc2dc\\ud765\\uc2dc\", \"\\uc2dc\\ud765\\uc2dc\", \"\\uc2dc\\ud765\\uc2dc\", \"\\uc2dc\\ud765\\uc2dc\", \"\\uc2dc\\ud765\\uc2dc\", \"\\uc2dc\\ud765\\uc2dc\", \"\\uc2dc\\ud765\\uc2dc\", \"\\uc2dc\\ud765\\uc2dc\", \"\\uc2dc\\ud765\\uc2dc\", \"\\uc2dc\\ud765\\uc2dc\", \"\\uc2dc\\ud765\\uc2dc\", \"\\uc548\\uc0b0\\uc2dc \\ub2e8\\uc6d0\\uad6c\", \"\\uc548\\uc0b0\\uc2dc \\ub2e8\\uc6d0\\uad6c\", \"\\uc548\\uc0b0\\uc2dc \\ub2e8\\uc6d0\\uad6c\", \"\\uc548\\uc0b0\\uc2dc \\ub2e8\\uc6d0\\uad6c\", \"\\uc548\\uc0b0\\uc2dc \\ub2e8\\uc6d0\\uad6c\", \"\\uc548\\uc0b0\\uc2dc \\ub2e8\\uc6d0\\uad6c\", \"\\uc548\\uc0b0\\uc2dc \\ub2e8\\uc6d0\\uad6c\", \"\\uc548\\uc0b0\\uc2dc \\ub2e8\\uc6d0\\uad6c\", \"\\uc548\\uc0b0\\uc2dc \\ub2e8\\uc6d0\\uad6c\", \"\\uc548\\uc0b0\\uc2dc \\ub2e8\\uc6d0\\uad6c\", \"\\uc548\\uc0b0\\uc2dc \\ub2e8\\uc6d0\\uad6c\", \"\\uc548\\uc0b0\\uc2dc \\ub2e8\\uc6d0\\uad6c\", \"\\uc548\\uc0b0\\uc2dc \\ub2e8\\uc6d0\\uad6c\", \"\\uc548\\uc0b0\\uc2dc \\ub2e8\\uc6d0\\uad6c\", \"\\uc548\\uc0b0\\uc2dc \\uc0c1\\ub85d\\uad6c\", \"\\uc548\\uc0b0\\uc2dc \\uc0c1\\ub85d\\uad6c\", \"\\uc548\\uc0b0\\uc2dc \\uc0c1\\ub85d\\uad6c\", \"\\uc548\\uc0b0\\uc2dc \\uc0c1\\ub85d\\uad6c\", \"\\uc548\\uc0b0\\uc2dc \\uc0c1\\ub85d\\uad6c\", \"\\uc548\\uc0b0\\uc2dc \\uc0c1\\ub85d\\uad6c\", \"\\uc548\\uc0b0\\uc2dc \\uc0c1\\ub85d\\uad6c\", \"\\uc548\\uc0b0\\uc2dc \\uc0c1\\ub85d\\uad6c\", \"\\uc548\\uc0b0\\uc2dc \\uc0c1\\ub85d\\uad6c\", \"\\uc548\\uc0b0\\uc2dc \\uc0c1\\ub85d\\uad6c\", \"\\uc548\\uc0b0\\uc2dc \\uc0c1\\ub85d\\uad6c\", \"\\uc548\\uc0b0\\uc2dc \\uc0c1\\ub85d\\uad6c\", \"\\uc548\\uc0b0\\uc2dc \\uc0c1\\ub85d\\uad6c\", \"\\uc548\\uc0b0\\uc2dc \\uc0c1\\ub85d\\uad6c\", \"\\uc548\\uc0b0\\uc2dc \\uc0c1\\ub85d\\uad6c\", \"\\uc548\\uc131\\uc2dc\", \"\\uc548\\uc131\\uc2dc\", \"\\uc548\\uc131\\uc2dc\", \"\\uc548\\uc591\\uc2dc \\ub3d9\\uc548\\uad6c\", \"\\uc548\\uc591\\uc2dc \\ub3d9\\uc548\\uad6c\", \"\\uc548\\uc591\\uc2dc \\ub3d9\\uc548\\uad6c\", \"\\uc548\\uc591\\uc2dc \\ub3d9\\uc548\\uad6c\", \"\\uc548\\uc591\\uc2dc \\ub3d9\\uc548\\uad6c\", \"\\uc548\\uc591\\uc2dc \\ub3d9\\uc548\\uad6c\", \"\\uc548\\uc591\\uc2dc \\ub3d9\\uc548\\uad6c\", \"\\uc548\\uc591\\uc2dc \\ub3d9\\uc548\\uad6c\", \"\\uc548\\uc591\\uc2dc \\ub3d9\\uc548\\uad6c\", \"\\uc548\\uc591\\uc2dc \\ub3d9\\uc548\\uad6c\", \"\\uc548\\uc591\\uc2dc \\ub3d9\\uc548\\uad6c\", \"\\uc548\\uc591\\uc2dc \\ub3d9\\uc548\\uad6c\", \"\\uc548\\uc591\\uc2dc \\ub9cc\\uc548\\uad6c\", \"\\uc548\\uc591\\uc2dc \\ub9cc\\uc548\\uad6c\", \"\\uc548\\uc591\\uc2dc \\ub9cc\\uc548\\uad6c\", \"\\uc548\\uc591\\uc2dc \\ub9cc\\uc548\\uad6c\", \"\\uc548\\uc591\\uc2dc \\ub9cc\\uc548\\uad6c\", \"\\uc548\\uc591\\uc2dc \\ub9cc\\uc548\\uad6c\", \"\\uc548\\uc591\\uc2dc \\ub9cc\\uc548\\uad6c\", \"\\uc548\\uc591\\uc2dc \\ub9cc\\uc548\\uad6c\", \"\\uc548\\uc591\\uc2dc \\ub9cc\\uc548\\uad6c\", \"\\uc548\\uc591\\uc2dc \\ub9cc\\uc548\\uad6c\", \"\\uc548\\uc591\\uc2dc \\ub9cc\\uc548\\uad6c\", \"\\uc548\\uc591\\uc2dc \\ub9cc\\uc548\\uad6c\", \"\\uc548\\uc591\\uc2dc \\ub9cc\\uc548\\uad6c\", \"\\uc548\\uc591\\uc2dc \\ub9cc\\uc548\\uad6c\", \"\\uc591\\uc8fc\\uc2dc\", \"\\uc591\\uc8fc\\uc2dc\", \"\\uc591\\uc8fc\\uc2dc\", \"\\uc591\\uc8fc\\uc2dc\", \"\\uc591\\uc8fc\\uc2dc\", \"\\uc591\\uc8fc\\uc2dc\", \"\\uc591\\uc8fc\\uc2dc\", \"\\uc591\\uc8fc\\uc2dc\", \"\\uc591\\uc8fc\\uc2dc\", \"\\uc591\\uc8fc\\uc2dc\", \"\\uc591\\uc8fc\\uc2dc\", \"\\uc591\\uc8fc\\uc2dc\", \"\\uc591\\uc8fc\\uc2dc\", \"\\uc591\\uc8fc\\uc2dc\", \"\\uc591\\uc8fc\\uc2dc\", \"\\uc591\\ucc9c\\uad6c\", \"\\uc591\\ucc9c\\uad6c\", \"\\uc591\\ucc9c\\uad6c\", \"\\uc591\\ucc9c\\uad6c\", \"\\uc591\\ucc9c\\uad6c\", \"\\uc591\\ucc9c\\uad6c\", \"\\uc591\\ucc9c\\uad6c\", \"\\uc591\\ucc9c\\uad6c\", \"\\uc591\\ucc9c\\uad6c\", \"\\uc591\\ucc9c\\uad6c\", \"\\uc591\\ucc9c\\uad6c\", \"\\uc591\\ucc9c\\uad6c\", \"\\uc591\\ucc9c\\uad6c\", \"\\uc591\\ucc9c\\uad6c\", \"\\uc591\\ucc9c\\uad6c\", \"\\uc591\\ud3c9\\uad70\", \"\\uc591\\ud3c9\\uad70\", \"\\uc5f0\\ucc9c\\uad70\", \"\\uc5f0\\ucc9c\\uad70\", \"\\uc5f0\\ucc9c\\uad70\", \"\\uc5f0\\ucc9c\\uad70\", \"\\uc5f0\\ucc9c\\uad70\", \"\\uc5f0\\ucc9c\\uad70\", \"\\uc5f0\\ucc9c\\uad70\", \"\\uc5f0\\ucc9c\\uad70\", \"\\uc5f0\\ucc9c\\uad70\", \"\\uc5f0\\ucc9c\\uad70\", \"\\uc5f0\\ucc9c\\uad70\", \"\\uc5f0\\ucc9c\\uad70\", \"\\uc601\\ub4f1\\ud3ec\\uad6c\", \"\\uc601\\ub4f1\\ud3ec\\uad6c\", \"\\uc601\\ub4f1\\ud3ec\\uad6c\", \"\\uc601\\ub4f1\\ud3ec\\uad6c\", \"\\uc601\\ub4f1\\ud3ec\\uad6c\", \"\\uc601\\ub4f1\\ud3ec\\uad6c\", \"\\uc601\\ub4f1\\ud3ec\\uad6c\", \"\\uc601\\ub4f1\\ud3ec\\uad6c\", \"\\uc601\\ub4f1\\ud3ec\\uad6c\", \"\\uc601\\ub4f1\\ud3ec\\uad6c\", \"\\uc601\\ub4f1\\ud3ec\\uad6c\", \"\\uc601\\ub4f1\\ud3ec\\uad6c\", \"\\uc601\\ub4f1\\ud3ec\\uad6c\", \"\\uc601\\ub4f1\\ud3ec\\uad6c\", \"\\uc601\\ub4f1\\ud3ec\\uad6c\", \"\\uc624\\uc0b0\\uc2dc\", \"\\uc624\\uc0b0\\uc2dc\", \"\\uc624\\uc0b0\\uc2dc\", \"\\uc6a9\\uc0b0\\uad6c\", \"\\uc6a9\\uc0b0\\uad6c\", \"\\uc6a9\\uc778\\uc2dc \\ucc98\\uc778\\uad6c\", \"\\uc6a9\\uc778\\uc2dc \\ucc98\\uc778\\uad6c\", \"\\uc6a9\\uc778\\uc2dc \\ucc98\\uc778\\uad6c\", \"\\uc6a9\\uc778\\uc2dc \\ucc98\\uc778\\uad6c\", \"\\uc6a9\\uc778\\uc2dc \\ucc98\\uc778\\uad6c\", \"\\uc6a9\\uc778\\uc2dc \\ucc98\\uc778\\uad6c\", \"\\uc6a9\\uc778\\uc2dc \\ucc98\\uc778\\uad6c\", \"\\uc6a9\\uc778\\uc2dc \\ucc98\\uc778\\uad6c\", \"\\uc6a9\\uc778\\uc2dc \\ucc98\\uc778\\uad6c\", \"\\uc6a9\\uc778\\uc2dc \\ucc98\\uc778\\uad6c\", \"\\uc6a9\\uc778\\uc2dc \\ucc98\\uc778\\uad6c\", \"\\uc6a9\\uc778\\uc2dc \\ucc98\\uc778\\uad6c\", \"\\uc740\\ud3c9\\uad6c\", \"\\uc740\\ud3c9\\uad6c\", \"\\uc740\\ud3c9\\uad6c\", \"\\uc740\\ud3c9\\uad6c\", \"\\uc740\\ud3c9\\uad6c\", \"\\uc740\\ud3c9\\uad6c\", \"\\uc740\\ud3c9\\uad6c\", \"\\uc740\\ud3c9\\uad6c\", \"\\uc740\\ud3c9\\uad6c\", \"\\uc740\\ud3c9\\uad6c\", \"\\uc740\\ud3c9\\uad6c\", \"\\uc758\\uc655\\uc2dc\", \"\\uc758\\uc655\\uc2dc\", \"\\uc758\\uc655\\uc2dc\", \"\\uc758\\uc655\\uc2dc\", \"\\uc758\\uc655\\uc2dc\", \"\\uc758\\uc655\\uc2dc\", \"\\uc758\\uc655\\uc2dc\", \"\\uc758\\uc655\\uc2dc\", \"\\uc758\\uc655\\uc2dc\", \"\\uc758\\uc655\\uc2dc\", \"\\uc758\\uc655\\uc2dc\", \"\\uc758\\uc655\\uc2dc\", \"\\uc758\\uc815\\ubd80\\uc2dc\", \"\\uc758\\uc815\\ubd80\\uc2dc\", \"\\uc758\\uc815\\ubd80\\uc2dc\", \"\\uc758\\uc815\\ubd80\\uc2dc\", \"\\uc758\\uc815\\ubd80\\uc2dc\", \"\\uc758\\uc815\\ubd80\\uc2dc\", \"\\uc758\\uc815\\ubd80\\uc2dc\", \"\\uc758\\uc815\\ubd80\\uc2dc\", \"\\uc758\\uc815\\ubd80\\uc2dc\", \"\\uc758\\uc815\\ubd80\\uc2dc\", \"\\uc758\\uc815\\ubd80\\uc2dc\", \"\\uc758\\uc815\\ubd80\\uc2dc\", \"\\uc758\\uc815\\ubd80\\uc2dc\", \"\\uc758\\uc815\\ubd80\\uc2dc\", \"\\uc758\\uc815\\ubd80\\uc2dc\", \"\\uc758\\uc815\\ubd80\\uc2dc\", \"\\uc774\\ucc9c\\uc2dc\", \"\\uc774\\ucc9c\\uc2dc\", \"\\uc774\\ucc9c\\uc2dc\", \"\\uc774\\ucc9c\\uc2dc\", \"\\uc774\\ucc9c\\uc2dc\", \"\\uc885\\ub85c\\uad6c\", \"\\uc885\\ub85c\\uad6c\", \"\\uc911\\uad6c\", \"\\uc911\\uad6c\", \"\\uc911\\ub791\\uad6c\", \"\\uc911\\ub791\\uad6c\", \"\\ud30c\\uc8fc\\uc2dc\", \"\\ud30c\\uc8fc\\uc2dc\", \"\\ud30c\\uc8fc\\uc2dc\", \"\\ud30c\\uc8fc\\uc2dc\", \"\\ud30c\\uc8fc\\uc2dc\", \"\\ud30c\\uc8fc\\uc2dc\", \"\\ud30c\\uc8fc\\uc2dc\", \"\\ud30c\\uc8fc\\uc2dc\", \"\\ud30c\\uc8fc\\uc2dc\", \"\\ud3c9\\ud0dd\\uc2dc\", \"\\ud3c9\\ud0dd\\uc2dc\", \"\\ud3c9\\ud0dd\\uc2dc\", \"\\ud3c9\\ud0dd\\uc2dc\", \"\\ud3c9\\ud0dd\\uc2dc\", \"\\ud3c9\\ud0dd\\uc2dc\", \"\\ud3c9\\ud0dd\\uc2dc\", \"\\ud3c9\\ud0dd\\uc2dc\", \"\\ud3c9\\ud0dd\\uc2dc\", \"\\ud3c9\\ud0dd\\uc2dc\", \"\\ud3c9\\ud0dd\\uc2dc\", \"\\ud3c9\\ud0dd\\uc2dc\", \"\\ud3c9\\ud0dd\\uc2dc\", \"\\ud3c9\\ud0dd\\uc2dc\", \"\\ud3c9\\ud0dd\\uc2dc\", \"\\ud3ec\\ucc9c\\uc2dc\", \"\\ud3ec\\ucc9c\\uc2dc\", \"\\ud3ec\\ucc9c\\uc2dc\", \"\\ud3ec\\ucc9c\\uc2dc\", \"\\ud3ec\\ucc9c\\uc2dc\", \"\\ud3ec\\ucc9c\\uc2dc\", \"\\ud3ec\\ucc9c\\uc2dc\", \"\\ud3ec\\ucc9c\\uc2dc\", \"\\ud3ec\\ucc9c\\uc2dc\", \"\\ud3ec\\ucc9c\\uc2dc\", \"\\ud3ec\\ucc9c\\uc2dc\", \"\\ud3ec\\ucc9c\\uc2dc\", \"\\ud3ec\\ucc9c\\uc2dc\", \"\\ud3ec\\ucc9c\\uc2dc\", \"\\ud3ec\\ucc9c\\uc2dc\", \"\\ud558\\ub0a8\\uc2dc\", \"\\ud558\\ub0a8\\uc2dc\", \"\\ud558\\ub0a8\\uc2dc\", \"\\ud654\\uc131\\uc2dc\", \"\\ud654\\uc131\\uc2dc\", \"\\ud654\\uc131\\uc2dc\", \"\\ud654\\uc131\\uc2dc\", \"\\ud654\\uc131\\uc2dc\", \"\\ud654\\uc131\\uc2dc\", \"\\ud654\\uc131\\uc2dc\", \"\\ud654\\uc131\\uc2dc\", \"\\ud654\\uc131\\uc2dc\", \"\\ud654\\uc131\\uc2dc\", \"\\ud654\\uc131\\uc2dc\", \"\\ud654\\uc131\\uc2dc\", \"\\ud654\\uc131\\uc2dc\", \"\\ud654\\uc131\\uc2dc\"], \"y\": [\"\\ud68c\", \"\\ubd84\\uc2dd\", \"\\uce58\\ud0a8\", \"\\ub3c8\\uae4c\\uc2a4/\\uc77c\\uc2dd\", \"\\ubd84\\uc2dd\", \"\\uc544\\uc2dc\\uc548/\\uc591\\uc2dd\", \"\\uc57c\\uc2dd\", \"\\uc871\\ubc1c/\\ubcf4\\uc308\", \"\\ucc1c\\ud0d5\", \"\\uce58\\ud0a8\", \"\\ud53c\\uc790\", \"\\ud55c\\uc2dd\", \"\\ub3c8\\uae4c\\uc2a4/\\uc77c\\uc2dd\", \"\\uc57c\\uc2dd\", \"\\uc871\\ubc1c/\\ubcf4\\uc308\", \"\\uce58\\ud0a8\", \"\\uce74\\ud398/\\ub514\\uc800\\ud2b8\", \"\\ud328\\uc2a4\\ud2b8\\ud478\\ub4dc\", \"\\ud53c\\uc790\", \"\\ud55c\\uc2dd\", \"\\ud68c\", \"\\ub3c4\\uc2dc\\ub77d\", \"\\ub3c8\\uae4c\\uc2a4/\\uc77c\\uc2dd\", \"\\ubc30\\ub2ec\\uc804\\ubb38\\uc5c5\\uccb4\", \"\\ubd84\\uc2dd\", \"\\uc544\\uc2dc\\uc548/\\uc591\\uc2dd\", \"\\uc57c\\uc2dd\", \"\\uc871\\ubc1c/\\ubcf4\\uc308\", \"\\uc911\\uc2dd\", \"\\ucc1c\\ud0d5\", \"\\uce58\\ud0a8\", \"\\uce74\\ud398/\\ub514\\uc800\\ud2b8\", \"\\ud328\\uc2a4\\ud2b8\\ud478\\ub4dc\", \"\\ud53c\\uc790\", \"\\ud55c\\uc2dd\", \"\\ud68c\", \"\\ub3c4\\uc2dc\\ub77d\", \"\\ub3c8\\uae4c\\uc2a4/\\uc77c\\uc2dd\", \"\\ubc30\\ub2ec\\uc804\\ubb38\\uc5c5\\uccb4\", \"\\ubd84\\uc2dd\", \"\\uc544\\uc2dc\\uc548/\\uc591\\uc2dd\", \"\\uc57c\\uc2dd\", \"\\uc871\\ubc1c/\\ubcf4\\uc308\", \"\\uc911\\uc2dd\", \"\\ucc1c\\ud0d5\", \"\\uce58\\ud0a8\", \"\\uce74\\ud398/\\ub514\\uc800\\ud2b8\", \"\\ud328\\uc2a4\\ud2b8\\ud478\\ub4dc\", \"\\ud53c\\uc790\", \"\\ud55c\\uc2dd\", \"\\ud68c\", \"\\ub3c4\\uc2dc\\ub77d\", \"\\ub3c8\\uae4c\\uc2a4/\\uc77c\\uc2dd\", \"\\ubc30\\ub2ec\\uc804\\ubb38\\uc5c5\\uccb4\", \"\\ubd84\\uc2dd\", \"\\uc544\\uc2dc\\uc548/\\uc591\\uc2dd\", \"\\uc57c\\uc2dd\", \"\\uc871\\ubc1c/\\ubcf4\\uc308\", \"\\uc911\\uc2dd\", \"\\ucc1c\\ud0d5\", \"\\uce58\\ud0a8\", \"\\uce74\\ud398/\\ub514\\uc800\\ud2b8\", \"\\ud328\\uc2a4\\ud2b8\\ud478\\ub4dc\", \"\\ud53c\\uc790\", \"\\ud55c\\uc2dd\", \"\\ud68c\", \"\\ubd84\\uc2dd\", \"\\uc871\\ubc1c/\\ubcf4\\uc308\", \"\\uc911\\uc2dd\", \"\\uce58\\ud0a8\", \"\\uce74\\ud398/\\ub514\\uc800\\ud2b8\", \"\\ub3c8\\uae4c\\uc2a4/\\uc77c\\uc2dd\", \"\\ubc30\\ub2ec\\uc804\\ubb38\\uc5c5\\uccb4\", \"\\ubd84\\uc2dd\", \"\\uc544\\uc2dc\\uc548/\\uc591\\uc2dd\", \"\\uc57c\\uc2dd\", \"\\uc871\\ubc1c/\\ubcf4\\uc308\", \"\\uc911\\uc2dd\", \"\\ucc1c\\ud0d5\", \"\\uce58\\ud0a8\", \"\\uce74\\ud398/\\ub514\\uc800\\ud2b8\", \"\\ud328\\uc2a4\\ud2b8\\ud478\\ub4dc\", \"\\ud53c\\uc790\", \"\\ud55c\\uc2dd\", \"\\ud68c\", \"\\ub3c4\\uc2dc\\ub77d\", \"\\ub3c8\\uae4c\\uc2a4/\\uc77c\\uc2dd\", \"\\ubc30\\ub2ec\\uc804\\ubb38\\uc5c5\\uccb4\", \"\\ubd84\\uc2dd\", \"\\uc544\\uc2dc\\uc548/\\uc591\\uc2dd\", \"\\uc57c\\uc2dd\", \"\\uc871\\ubc1c/\\ubcf4\\uc308\", \"\\uc911\\uc2dd\", \"\\ucc1c\\ud0d5\", \"\\uce58\\ud0a8\", \"\\uce74\\ud398/\\ub514\\uc800\\ud2b8\", \"\\ud328\\uc2a4\\ud2b8\\ud478\\ub4dc\", \"\\ud53c\\uc790\", \"\\ud55c\\uc2dd\", \"\\ud68c\", \"\\ub3c8\\uae4c\\uc2a4/\\uc77c\\uc2dd\", \"\\ubc30\\ub2ec\\uc804\\ubb38\\uc5c5\\uccb4\", \"\\ubd84\\uc2dd\", \"\\uc2ec\\ubd80\\ub984\", \"\\uc871\\ubc1c/\\ubcf4\\uc308\", \"\\uc911\\uc2dd\", \"\\ucc1c\\ud0d5\", \"\\uce58\\ud0a8\", \"\\uce74\\ud398/\\ub514\\uc800\\ud2b8\", \"\\ud328\\uc2a4\\ud2b8\\ud478\\ub4dc\", \"\\ud53c\\uc790\", \"\\ud55c\\uc2dd\", \"\\uce58\\ud0a8\", \"\\ud68c\", \"\\ub3c4\\uc2dc\\ub77d\", \"\\ub3c8\\uae4c\\uc2a4/\\uc77c\\uc2dd\", \"\\ubc30\\ub2ec\\uc804\\ubb38\\uc5c5\\uccb4\", \"\\ubd84\\uc2dd\", \"\\uc544\\uc2dc\\uc548/\\uc591\\uc2dd\", \"\\uc57c\\uc2dd\", \"\\uc871\\ubc1c/\\ubcf4\\uc308\", \"\\uc911\\uc2dd\", \"\\ucc1c\\ud0d5\", \"\\uce58\\ud0a8\", \"\\uce74\\ud398/\\ub514\\uc800\\ud2b8\", \"\\ud328\\uc2a4\\ud2b8\\ud478\\ub4dc\", \"\\ud53c\\uc790\", \"\\ud55c\\uc2dd\", \"\\ud68c\", \"\\ubd84\\uc2dd\", \"\\uce58\\ud0a8\", \"\\uce74\\ud398/\\ub514\\uc800\\ud2b8\", \"\\ubd84\\uc2dd\", \"\\ucc1c\\ud0d5\", \"\\uce74\\ud398/\\ub514\\uc800\\ud2b8\", \"\\ud328\\uc2a4\\ud2b8\\ud478\\ub4dc\", \"\\ud55c\\uc2dd\", \"\\ud68c\", \"\\ub3c4\\uc2dc\\ub77d\", \"\\ub3c8\\uae4c\\uc2a4/\\uc77c\\uc2dd\", \"\\ubc30\\ub2ec\\uc804\\ubb38\\uc5c5\\uccb4\", \"\\ubd84\\uc2dd\", \"\\uc544\\uc2dc\\uc548/\\uc591\\uc2dd\", \"\\uc57c\\uc2dd\", \"\\uc871\\ubc1c/\\ubcf4\\uc308\", \"\\uc911\\uc2dd\", \"\\ucc1c\\ud0d5\", \"\\uce58\\ud0a8\", \"\\uce74\\ud398/\\ub514\\uc800\\ud2b8\", \"\\ud328\\uc2a4\\ud2b8\\ud478\\ub4dc\", \"\\ud53c\\uc790\", \"\\ud55c\\uc2dd\", \"\\ud68c\", \"\\ubd84\\uc2dd\", \"\\uce74\\ud398/\\ub514\\uc800\\ud2b8\", \"\\ud328\\uc2a4\\ud2b8\\ud478\\ub4dc\", \"\\ub3c4\\uc2dc\\ub77d\", \"\\ub3c8\\uae4c\\uc2a4/\\uc77c\\uc2dd\", \"\\ubc30\\ub2ec\\uc804\\ubb38\\uc5c5\\uccb4\", \"\\ubd84\\uc2dd\", \"\\uc544\\uc2dc\\uc548/\\uc591\\uc2dd\", \"\\uc57c\\uc2dd\", \"\\uc871\\ubc1c/\\ubcf4\\uc308\", \"\\uc911\\uc2dd\", \"\\ucc1c\\ud0d5\", \"\\uce58\\ud0a8\", \"\\uce74\\ud398/\\ub514\\uc800\\ud2b8\", \"\\ud328\\uc2a4\\ud2b8\\ud478\\ub4dc\", \"\\ud53c\\uc790\", \"\\ud55c\\uc2dd\", \"\\ud68c\", \"\\ub3c4\\uc2dc\\ub77d\", \"\\ub3c8\\uae4c\\uc2a4/\\uc77c\\uc2dd\", \"\\ubd84\\uc2dd\", \"\\uc544\\uc2dc\\uc548/\\uc591\\uc2dd\", \"\\uc57c\\uc2dd\", \"\\uc871\\ubc1c/\\ubcf4\\uc308\", \"\\uc911\\uc2dd\", \"\\ucc1c\\ud0d5\", \"\\uce58\\ud0a8\", \"\\uce74\\ud398/\\ub514\\uc800\\ud2b8\", \"\\ud328\\uc2a4\\ud2b8\\ud478\\ub4dc\", \"\\ud53c\\uc790\", \"\\ud55c\\uc2dd\", \"\\ud68c\", \"\\ub3c4\\uc2dc\\ub77d\", \"\\ub3c8\\uae4c\\uc2a4/\\uc77c\\uc2dd\", \"\\ubd84\\uc2dd\", \"\\uc2ec\\ubd80\\ub984\", \"\\uc544\\uc2dc\\uc548/\\uc591\\uc2dd\", \"\\uc57c\\uc2dd\", \"\\uc871\\ubc1c/\\ubcf4\\uc308\", \"\\uc911\\uc2dd\", \"\\ucc1c\\ud0d5\", \"\\uce58\\ud0a8\", \"\\uce74\\ud398/\\ub514\\uc800\\ud2b8\", \"\\ud328\\uc2a4\\ud2b8\\ud478\\ub4dc\", \"\\ud53c\\uc790\", \"\\ud55c\\uc2dd\", \"\\ud68c\", \"\\uc2ec\\ubd80\\ub984\", \"\\ucc1c\\ud0d5\", \"\\ub3c4\\uc2dc\\ub77d\", \"\\ub3c8\\uae4c\\uc2a4/\\uc77c\\uc2dd\", \"\\ubc30\\ub2ec\\uc804\\ubb38\\uc5c5\\uccb4\", \"\\ubd84\\uc2dd\", \"\\uc544\\uc2dc\\uc548/\\uc591\\uc2dd\", \"\\uc57c\\uc2dd\", \"\\uc871\\ubc1c/\\ubcf4\\uc308\", \"\\uc911\\uc2dd\", \"\\ucc1c\\ud0d5\", \"\\uce58\\ud0a8\", \"\\uce74\\ud398/\\ub514\\uc800\\ud2b8\", \"\\ud328\\uc2a4\\ud2b8\\ud478\\ub4dc\", \"\\ud53c\\uc790\", \"\\ud55c\\uc2dd\", \"\\ud68c\", \"\\ub3c8\\uae4c\\uc2a4/\\uc77c\\uc2dd\", \"\\ubc30\\ub2ec\\uc804\\ubb38\\uc5c5\\uccb4\", \"\\ubd84\\uc2dd\", \"\\uc544\\uc2dc\\uc548/\\uc591\\uc2dd\", \"\\uc57c\\uc2dd\", \"\\uc871\\ubc1c/\\ubcf4\\uc308\", \"\\uc911\\uc2dd\", \"\\ucc1c\\ud0d5\", \"\\uce58\\ud0a8\", \"\\uce74\\ud398/\\ub514\\uc800\\ud2b8\", \"\\ud328\\uc2a4\\ud2b8\\ud478\\ub4dc\", \"\\ud53c\\uc790\", \"\\ud55c\\uc2dd\", \"\\ud68c\", \"\\uce58\\ud0a8\", \"\\uce74\\ud398/\\ub514\\uc800\\ud2b8\", \"\\ud55c\\uc2dd\", \"\\ub3c4\\uc2dc\\ub77d\", \"\\ub3c8\\uae4c\\uc2a4/\\uc77c\\uc2dd\", \"\\ubc30\\ub2ec\\uc804\\ubb38\\uc5c5\\uccb4\", \"\\ubd84\\uc2dd\", \"\\uc544\\uc2dc\\uc548/\\uc591\\uc2dd\", \"\\uc57c\\uc2dd\", \"\\uc871\\ubc1c/\\ubcf4\\uc308\", \"\\uc911\\uc2dd\", \"\\ucc1c\\ud0d5\", \"\\uce58\\ud0a8\", \"\\uce74\\ud398/\\ub514\\uc800\\ud2b8\", \"\\ud328\\uc2a4\\ud2b8\\ud478\\ub4dc\", \"\\ud53c\\uc790\", \"\\ud55c\\uc2dd\", \"\\ud68c\", \"\\uce74\\ud398/\\ub514\\uc800\\ud2b8\", \"\\ud328\\uc2a4\\ud2b8\\ud478\\ub4dc\", \"\\ud55c\\uc2dd\", \"\\ubd84\\uc2dd\", \"\\uc544\\uc2dc\\uc548/\\uc591\\uc2dd\", \"\\uc871\\ubc1c/\\ubcf4\\uc308\", \"\\uc911\\uc2dd\", \"\\uce58\\ud0a8\", \"\\uce74\\ud398/\\ub514\\uc800\\ud2b8\", \"\\ud328\\uc2a4\\ud2b8\\ud478\\ub4dc\", \"\\ud53c\\uc790\", \"\\ud55c\\uc2dd\", \"\\ub3c8\\uae4c\\uc2a4/\\uc77c\\uc2dd\", \"\\ubd84\\uc2dd\", \"\\uc57c\\uc2dd\", \"\\uc871\\ubc1c/\\ubcf4\\uc308\", \"\\uc911\\uc2dd\", \"\\uce58\\ud0a8\", \"\\ud53c\\uc790\", \"\\ud55c\\uc2dd\", \"\\ud68c\", \"\\ub3c8\\uae4c\\uc2a4/\\uc77c\\uc2dd\", \"\\ubc30\\ub2ec\\uc804\\ubb38\\uc5c5\\uccb4\", \"\\ubd84\\uc2dd\", \"\\uc57c\\uc2dd\", \"\\uc871\\ubc1c/\\ubcf4\\uc308\", \"\\uc911\\uc2dd\", \"\\ucc1c\\ud0d5\", \"\\uce58\\ud0a8\", \"\\uce74\\ud398/\\ub514\\uc800\\ud2b8\", \"\\ud328\\uc2a4\\ud2b8\\ud478\\ub4dc\", \"\\ud53c\\uc790\", \"\\ud55c\\uc2dd\", \"\\ud68c\", \"\\ub3c8\\uae4c\\uc2a4/\\uc77c\\uc2dd\", \"\\ubc30\\ub2ec\\uc804\\ubb38\\uc5c5\\uccb4\", \"\\ubd84\\uc2dd\", \"\\uc57c\\uc2dd\", \"\\uc871\\ubc1c/\\ubcf4\\uc308\", \"\\uc911\\uc2dd\", \"\\ucc1c\\ud0d5\", \"\\uce58\\ud0a8\", \"\\uce74\\ud398/\\ub514\\uc800\\ud2b8\", \"\\ud328\\uc2a4\\ud2b8\\ud478\\ub4dc\", \"\\ud53c\\uc790\", \"\\ud55c\\uc2dd\", \"\\ud68c\", \"\\uce74\\ud398/\\ub514\\uc800\\ud2b8\", \"\\ubd84\\uc2dd\", \"\\uce58\\ud0a8\", \"\\ud55c\\uc2dd\", \"\\uce58\\ud0a8\", \"\\uce74\\ud398/\\ub514\\uc800\\ud2b8\", \"\\uce74\\ud398/\\ub514\\uc800\\ud2b8\", \"\\ubd84\\uc2dd\", \"\\uce58\\ud0a8\", \"\\uce74\\ud398/\\ub514\\uc800\\ud2b8\", \"\\ub3c4\\uc2dc\\ub77d\", \"\\ub3c8\\uae4c\\uc2a4/\\uc77c\\uc2dd\", \"\\ubd84\\uc2dd\", \"\\uc544\\uc2dc\\uc548/\\uc591\\uc2dd\", \"\\uc57c\\uc2dd\", \"\\uc871\\ubc1c/\\ubcf4\\uc308\", \"\\uc911\\uc2dd\", \"\\ucc1c\\ud0d5\", \"\\uce58\\ud0a8\", \"\\uce74\\ud398/\\ub514\\uc800\\ud2b8\", \"\\ud328\\uc2a4\\ud2b8\\ud478\\ub4dc\", \"\\ud53c\\uc790\", \"\\ud55c\\uc2dd\", \"\\ud68c\", \"\\ub3c4\\uc2dc\\ub77d\", \"\\ub3c8\\uae4c\\uc2a4/\\uc77c\\uc2dd\", \"\\ubd84\\uc2dd\", \"\\uc544\\uc2dc\\uc548/\\uc591\\uc2dd\", \"\\uc57c\\uc2dd\", \"\\uc871\\ubc1c/\\ubcf4\\uc308\", \"\\uc911\\uc2dd\", \"\\ucc1c\\ud0d5\", \"\\uce58\\ud0a8\", \"\\uce74\\ud398/\\ub514\\uc800\\ud2b8\", \"\\ud328\\uc2a4\\ud2b8\\ud478\\ub4dc\", \"\\ud53c\\uc790\", \"\\ud55c\\uc2dd\", \"\\ud68c\", \"\\ub3c4\\uc2dc\\ub77d\", \"\\ub3c8\\uae4c\\uc2a4/\\uc77c\\uc2dd\", \"\\ubc30\\ub2ec\\uc804\\ubb38\\uc5c5\\uccb4\", \"\\ubd84\\uc2dd\", \"\\uc544\\uc2dc\\uc548/\\uc591\\uc2dd\", \"\\uc57c\\uc2dd\", \"\\uc871\\ubc1c/\\ubcf4\\uc308\", \"\\uc911\\uc2dd\", \"\\ucc1c\\ud0d5\", \"\\uce58\\ud0a8\", \"\\uce74\\ud398/\\ub514\\uc800\\ud2b8\", \"\\ud328\\uc2a4\\ud2b8\\ud478\\ub4dc\", \"\\ud53c\\uc790\", \"\\ud55c\\uc2dd\", \"\\ud68c\", \"\\ubd84\\uc2dd\", \"\\uc871\\ubc1c/\\ubcf4\\uc308\", \"\\uce58\\ud0a8\", \"\\ubd84\\uc2dd\", \"\\uc544\\uc2dc\\uc548/\\uc591\\uc2dd\", \"\\uc57c\\uc2dd\", \"\\uc871\\ubc1c/\\ubcf4\\uc308\", \"\\uc911\\uc2dd\", \"\\ucc1c\\ud0d5\", \"\\uce58\\ud0a8\", \"\\uce74\\ud398/\\ub514\\uc800\\ud2b8\", \"\\ud328\\uc2a4\\ud2b8\\ud478\\ub4dc\", \"\\ud53c\\uc790\", \"\\ud55c\\uc2dd\", \"\\ud68c\", \"\\ub3c4\\uc2dc\\ub77d\", \"\\ub3c8\\uae4c\\uc2a4/\\uc77c\\uc2dd\", \"\\ubd84\\uc2dd\", \"\\uc544\\uc2dc\\uc548/\\uc591\\uc2dd\", \"\\uc57c\\uc2dd\", \"\\uc871\\ubc1c/\\ubcf4\\uc308\", \"\\uc911\\uc2dd\", \"\\ucc1c\\ud0d5\", \"\\uce58\\ud0a8\", \"\\uce74\\ud398/\\ub514\\uc800\\ud2b8\", \"\\ud328\\uc2a4\\ud2b8\\ud478\\ub4dc\", \"\\ud53c\\uc790\", \"\\ud55c\\uc2dd\", \"\\ud68c\", \"\\ub3c4\\uc2dc\\ub77d\", \"\\ub3c8\\uae4c\\uc2a4/\\uc77c\\uc2dd\", \"\\ubc30\\ub2ec\\uc804\\ubb38\\uc5c5\\uccb4\", \"\\ubd84\\uc2dd\", \"\\uc544\\uc2dc\\uc548/\\uc591\\uc2dd\", \"\\uc57c\\uc2dd\", \"\\uc871\\ubc1c/\\ubcf4\\uc308\", \"\\uc911\\uc2dd\", \"\\ucc1c\\ud0d5\", \"\\uce58\\ud0a8\", \"\\uce74\\ud398/\\ub514\\uc800\\ud2b8\", \"\\ud328\\uc2a4\\ud2b8\\ud478\\ub4dc\", \"\\ud53c\\uc790\", \"\\ud55c\\uc2dd\", \"\\ud68c\", \"\\ub3c4\\uc2dc\\ub77d\", \"\\ub3c8\\uae4c\\uc2a4/\\uc77c\\uc2dd\", \"\\ubc30\\ub2ec\\uc804\\ubb38\\uc5c5\\uccb4\", \"\\ubd84\\uc2dd\", \"\\uc544\\uc2dc\\uc548/\\uc591\\uc2dd\", \"\\uc57c\\uc2dd\", \"\\uc871\\ubc1c/\\ubcf4\\uc308\", \"\\uc911\\uc2dd\", \"\\ucc1c\\ud0d5\", \"\\uce58\\ud0a8\", \"\\uce74\\ud398/\\ub514\\uc800\\ud2b8\", \"\\ud328\\uc2a4\\ud2b8\\ud478\\ub4dc\", \"\\ud53c\\uc790\", \"\\ud55c\\uc2dd\", \"\\ud68c\", \"\\ud53c\\uc790\", \"\\ud55c\\uc2dd\", \"\\ub3c8\\uae4c\\uc2a4/\\uc77c\\uc2dd\", \"\\ubc30\\ub2ec\\uc804\\ubb38\\uc5c5\\uccb4\", \"\\ubd84\\uc2dd\", \"\\uc57c\\uc2dd\", \"\\uc871\\ubc1c/\\ubcf4\\uc308\", \"\\uc911\\uc2dd\", \"\\uce58\\ud0a8\", \"\\uce74\\ud398/\\ub514\\uc800\\ud2b8\", \"\\ud328\\uc2a4\\ud2b8\\ud478\\ub4dc\", \"\\ud53c\\uc790\", \"\\ud55c\\uc2dd\", \"\\ud68c\", \"\\ub3c4\\uc2dc\\ub77d\", \"\\ub3c8\\uae4c\\uc2a4/\\uc77c\\uc2dd\", \"\\ubc30\\ub2ec\\uc804\\ubb38\\uc5c5\\uccb4\", \"\\ubd84\\uc2dd\", \"\\uc544\\uc2dc\\uc548/\\uc591\\uc2dd\", \"\\uc57c\\uc2dd\", \"\\uc871\\ubc1c/\\ubcf4\\uc308\", \"\\uc911\\uc2dd\", \"\\ucc1c\\ud0d5\", \"\\uce58\\ud0a8\", \"\\uce74\\ud398/\\ub514\\uc800\\ud2b8\", \"\\ud328\\uc2a4\\ud2b8\\ud478\\ub4dc\", \"\\ud53c\\uc790\", \"\\ud55c\\uc2dd\", \"\\ud68c\", \"\\uc2ec\\ubd80\\ub984\", \"\\uce58\\ud0a8\", \"\\ud55c\\uc2dd\", \"\\ubd84\\uc2dd\", \"\\uce58\\ud0a8\", \"\\ub3c8\\uae4c\\uc2a4/\\uc77c\\uc2dd\", \"\\ubd84\\uc2dd\", \"\\uc544\\uc2dc\\uc548/\\uc591\\uc2dd\", \"\\uc57c\\uc2dd\", \"\\uc871\\ubc1c/\\ubcf4\\uc308\", \"\\ucc1c\\ud0d5\", \"\\uce58\\ud0a8\", \"\\uce74\\ud398/\\ub514\\uc800\\ud2b8\", \"\\ud328\\uc2a4\\ud2b8\\ud478\\ub4dc\", \"\\ud53c\\uc790\", \"\\ud55c\\uc2dd\", \"\\ud68c\", \"\\ub3c8\\uae4c\\uc2a4/\\uc77c\\uc2dd\", \"\\ubd84\\uc2dd\", \"\\uc544\\uc2dc\\uc548/\\uc591\\uc2dd\", \"\\uc871\\ubc1c/\\ubcf4\\uc308\", \"\\uc911\\uc2dd\", \"\\ucc1c\\ud0d5\", \"\\uce58\\ud0a8\", \"\\uce74\\ud398/\\ub514\\uc800\\ud2b8\", \"\\ud328\\uc2a4\\ud2b8\\ud478\\ub4dc\", \"\\ud55c\\uc2dd\", \"\\ud68c\", \"\\ubd84\\uc2dd\", \"\\uc544\\uc2dc\\uc548/\\uc591\\uc2dd\", \"\\uc57c\\uc2dd\", \"\\uc871\\ubc1c/\\ubcf4\\uc308\", \"\\uc911\\uc2dd\", \"\\ucc1c\\ud0d5\", \"\\uce58\\ud0a8\", \"\\uce74\\ud398/\\ub514\\uc800\\ud2b8\", \"\\ud328\\uc2a4\\ud2b8\\ud478\\ub4dc\", \"\\ud53c\\uc790\", \"\\ud55c\\uc2dd\", \"\\ud68c\", \"\\ub3c4\\uc2dc\\ub77d\", \"\\ub3c8\\uae4c\\uc2a4/\\uc77c\\uc2dd\", \"\\ubc30\\ub2ec\\uc804\\ubb38\\uc5c5\\uccb4\", \"\\ubd84\\uc2dd\", \"\\uc2ec\\ubd80\\ub984\", \"\\uc544\\uc2dc\\uc548/\\uc591\\uc2dd\", \"\\uc57c\\uc2dd\", \"\\uc871\\ubc1c/\\ubcf4\\uc308\", \"\\uc911\\uc2dd\", \"\\ucc1c\\ud0d5\", \"\\uce58\\ud0a8\", \"\\uce74\\ud398/\\ub514\\uc800\\ud2b8\", \"\\ud328\\uc2a4\\ud2b8\\ud478\\ub4dc\", \"\\ud53c\\uc790\", \"\\ud55c\\uc2dd\", \"\\ud68c\", \"\\ub3c8\\uae4c\\uc2a4/\\uc77c\\uc2dd\", \"\\ubd84\\uc2dd\", \"\\uc57c\\uc2dd\", \"\\uce58\\ud0a8\", \"\\ud53c\\uc790\", \"\\uce58\\ud0a8\", \"\\ud68c\", \"\\ub3c8\\uae4c\\uc2a4/\\uc77c\\uc2dd\", \"\\uc544\\uc2dc\\uc548/\\uc591\\uc2dd\", \"\\uc871\\ubc1c/\\ubcf4\\uc308\", \"\\uce74\\ud398/\\ub514\\uc800\\ud2b8\", \"\\ub3c8\\uae4c\\uc2a4/\\uc77c\\uc2dd\", \"\\ubd84\\uc2dd\", \"\\uc871\\ubc1c/\\ubcf4\\uc308\", \"\\ucc1c\\ud0d5\", \"\\uce58\\ud0a8\", \"\\uce74\\ud398/\\ub514\\uc800\\ud2b8\", \"\\ud328\\uc2a4\\ud2b8\\ud478\\ub4dc\", \"\\ud53c\\uc790\", \"\\ud55c\\uc2dd\", \"\\ub3c8\\uae4c\\uc2a4/\\uc77c\\uc2dd\", \"\\ubc30\\ub2ec\\uc804\\ubb38\\uc5c5\\uccb4\", \"\\ubd84\\uc2dd\", \"\\uc2ec\\ubd80\\ub984\", \"\\uc544\\uc2dc\\uc548/\\uc591\\uc2dd\", \"\\uc57c\\uc2dd\", \"\\uc871\\ubc1c/\\ubcf4\\uc308\", \"\\uc911\\uc2dd\", \"\\ucc1c\\ud0d5\", \"\\uce58\\ud0a8\", \"\\uce74\\ud398/\\ub514\\uc800\\ud2b8\", \"\\ud328\\uc2a4\\ud2b8\\ud478\\ub4dc\", \"\\ud53c\\uc790\", \"\\ud55c\\uc2dd\", \"\\ud68c\", \"\\ub3c4\\uc2dc\\ub77d\", \"\\ub3c8\\uae4c\\uc2a4/\\uc77c\\uc2dd\", \"\\ubc30\\ub2ec\\uc804\\ubb38\\uc5c5\\uccb4\", \"\\ubd84\\uc2dd\", \"\\uc2ec\\ubd80\\ub984\", \"\\uc57c\\uc2dd\", \"\\uc871\\ubc1c/\\ubcf4\\uc308\", \"\\uc911\\uc2dd\", \"\\ucc1c\\ud0d5\", \"\\uce58\\ud0a8\", \"\\uce74\\ud398/\\ub514\\uc800\\ud2b8\", \"\\ud328\\uc2a4\\ud2b8\\ud478\\ub4dc\", \"\\ud53c\\uc790\", \"\\ud55c\\uc2dd\", \"\\ud68c\", \"\\ubd84\\uc2dd\", \"\\uce58\\ud0a8\", \"\\ud53c\\uc790\", \"\\ub3c4\\uc2dc\\ub77d\", \"\\ub3c8\\uae4c\\uc2a4/\\uc77c\\uc2dd\", \"\\ubd84\\uc2dd\", \"\\uc544\\uc2dc\\uc548/\\uc591\\uc2dd\", \"\\uc57c\\uc2dd\", \"\\uc871\\ubc1c/\\ubcf4\\uc308\", \"\\uc911\\uc2dd\", \"\\ucc1c\\ud0d5\", \"\\uce58\\ud0a8\", \"\\uce74\\ud398/\\ub514\\uc800\\ud2b8\", \"\\ud328\\uc2a4\\ud2b8\\ud478\\ub4dc\", \"\\ud53c\\uc790\", \"\\ud55c\\uc2dd\", \"\\ud68c\"], \"z\": [100.0, 83.33333333333334, 16.666666666666664, 2.2175290390707496, 18.373812038014783, 0.26399155227032733, 0.6335797254487857, 7.708553326293559, 0.36958817317845827, 7.074973600844774, 54.2766631467793, 9.081309398099261, 30.65217391304348, 18.26086956521739, 0.10869565217391304, 9.130434782608695, 24.23913043478261, 3.369565217391304, 5.434782608695652, 6.630434782608696, 2.1739130434782608, 1.7704975732651624, 6.325256567003816, 0.23804231039976287, 13.539235300655776, 4.247712200363083, 5.992738320180801, 8.746433996517359, 3.083435219147123, 2.4248823681968066, 23.290170797673298, 1.5931236338038606, 10.976807083842763, 3.3145307695157644, 11.73029898855174, 2.726834870882887, 0.6930407161420733, 3.4218885359514872, 0.24545192030031765, 7.666762922321686, 0.620848974877274, 0.15882183078255846, 0.8085475021657523, 0.47646549234767543, 5.963037828472423, 31.995379728559055, 2.8443546058330926, 0.44758879584175565, 4.966791799018192, 18.235633843488305, 21.455385503898356, 0.05767567047966932, 6.751257650036849, 0.03524624307090903, 16.610593098144765, 0.012816815662148737, 0.0032042039155371843, 0.03524624307090903, 0.07049248614181806, 9.785638758050561, 35.73969047390176, 1.8680508827581785, 3.6079336088948697, 5.094684225704124, 13.733217981992373, 6.594251658175526, 7.142857142857142, 14.285714285714285, 21.428571428571427, 50.0, 7.142857142857142, 0.10568772512563897, 0.010784461747514181, 1.0460927895088756, 1.212173500420594, 0.7678536764230097, 3.1404352608761297, 0.6880486594914048, 0.25235640489183186, 24.840929189224166, 44.02001596100338, 19.912430170610186, 1.6500226473696695, 2.2970903522205206, 0.05607920108707374, 0.1145943887535304, 8.74619634778868, 0.9728182109876625, 10.0726704723757, 2.736161405315064, 2.9389053238790024, 11.34484448659951, 9.152741979274284, 4.5280650473010375, 18.448286196841426, 5.837967060283701, 6.400361060474104, 5.1891865208790975, 12.184733206633076, 1.3324682926141271, 7.9908740909739056, 1.3745900470554684, 13.609011835163267, 0.002851846570654499, 10.49764722657921, 6.741765293027235, 9.824611435904748, 19.292742050477685, 4.614287751318979, 8.789391130757165, 1.3688863539141596, 15.893340938257522, 50.0, 50.0, 0.49843224538202846, 5.277078290253927, 0.5751141292869559, 11.26573846928663, 1.915097558201875, 2.5009341543060453, 7.262359267623024, 3.7756080126070213, 2.8755706464347797, 29.216772537488016, 6.933861875132, 12.20314200770068, 4.763374652738291, 10.113235748054523, 0.8236804055041995, 0.6779661016949152, 0.3389830508474576, 98.98305084745763, 15.566037735849056, 1.4150943396226416, 34.43396226415094, 5.660377358490567, 0.9433962264150944, 41.9811320754717, 0.005866091789671279, 1.4203274745741583, 1.0221664943502204, 23.162996692990752, 3.019570748733291, 9.911495340123334, 10.548699560776377, 5.480396254500392, 2.5172866392426876, 21.748535310206265, 4.041003981609802, 10.083811786444928, 1.9160122308013814, 5.103499857014013, 0.018331536842722748, 36.067080174592235, 63.10590397427062, 0.8270158511371467, 2.037452394213545, 3.7836251147807496, 2.763017266035435, 16.10016408002288, 2.2421760924869414, 7.546928391865243, 5.541087745179209, 4.173503334286703, 5.635170327106321, 13.349942045129534, 14.17561078412187, 3.035480423296353, 6.585028074242446, 10.136833707154793, 2.893980220077976, 0.4109790107148099, 1.7943637164244826, 16.974900924702773, 3.041978570380156, 9.709379128137384, 3.3575517393218846, 0.4366651988844855, 0.726552179656539, 5.408777337443124, 29.370321444297666, 0.0036694554528108026, 14.586085424922942, 8.902098928519008, 5.276676941141935, 0.7393392056475976, 3.386650554901898, 11.028078990046746, 0.0015899767863389194, 1.564537157757497, 5.213533882405317, 12.543326867427734, 1.675835532801221, 1.658345788151493, 11.174356854389925, 2.725220211784908, 2.548732788501288, 27.535217985817408, 16.440359970744428, 1.7648742328362006, 50.0, 50.0, 0.002923933860616073, 6.284995833394248, 2.48680574845397, 10.131430827034693, 1.1447201064311925, 3.9560825134135467, 13.239572520869578, 1.3757108814198622, 0.40496483969532604, 19.38860542974518, 2.907852224382684, 10.52762386514817, 9.0232598938612, 18.379848247832633, 0.7456031344570986, 0.8873526452910981, 0.0051590270075063845, 1.2355869682977791, 4.14527820053138, 0.2863259989166043, 3.3894807439316943, 0.6732530244795831, 1.743751128537158, 25.44690071452524, 33.11837387468724, 23.790853045115693, 2.4402197745505196, 2.574354476745686, 0.2631103773828256, 1.095890410958904, 98.63013698630137, 0.273972602739726, 0.7207891667336319, 8.871307477457076, 2.4144001987040404, 10.017021338768474, 2.5748731922437242, 3.011729869649175, 7.335490830636461, 4.465240185944124, 3.324883541412503, 22.220030633539587, 9.846564441230115, 2.912621359223301, 4.556556381053959, 16.06337100430769, 1.66512037909614, 99.90770650669127, 0.046146746654360866, 0.046146746654360866, 0.06340148993501347, 0.01585037248375337, 1.2997305436677762, 0.07925186241876685, 40.244095736249804, 0.17435409732128707, 53.827864954826445, 2.8213663021080992, 1.474084640989063, 5.128205128205128, 8.791208791208792, 4.395604395604396, 2.197802197802198, 1.098901098901099, 54.57875457875458, 4.761904761904762, 16.483516483516482, 2.564102564102564, 3.721729172630976, 1.503006012024048, 18.308044660750074, 2.2330375035785854, 3.764672201545949, 7.014028056112225, 0.5296306899513312, 17.95018608645863, 6.212424849699398, 5.797308903521328, 8.11623246492986, 20.56971085027197, 4.279988548525623, 3.951949860724234, 1.8105849582172702, 18.9066852367688, 2.5069637883008355, 6.615598885793872, 3.447075208913649, 1.2012534818941505, 23.57242339832869, 3.081476323119777, 4.42200557103064, 9.958217270194986, 15.302924791086351, 5.222841225626741, 100.0, 28.57142857142857, 57.14285714285714, 14.285714285714285, 0.016523463317911432, 99.98347653668209, 100.0, 0.23923444976076555, 0.23923444976076555, 99.52153110047847, 0.6876924596227567, 4.748309946403081, 15.221704507707361, 2.7911695260667764, 4.998788009372728, 5.609272177184052, 3.6943269860935297, 5.236697280652141, 11.099140833310889, 17.400594324292783, 12.512232127627101, 4.645964071211182, 10.182516810758885, 1.171590939696733, 8.22482281193341, 6.873248722597659, 8.620405472226802, 18.262732816878195, 1.8790176363936046, 1.9449480797758365, 0.8076479314323389, 11.092797099060492, 18.180319762650406, 0.016482610845557938, 2.9833525630459863, 1.6482610845557937, 16.76281522993242, 2.7031481786715017, 1.5820261559670628, 5.342225865345206, 0.25708856514773276, 18.503670032415513, 5.751332016841164, 1.7146689518983567, 5.578449271582399, 0.6758821118521554, 4.378702634226313, 20.096128767837847, 1.751182979991803, 5.27590446737956, 6.998025261745967, 18.027497298707104, 4.067215619061813, 33.33333333333333, 33.33333333333333, 33.33333333333333, 9.294535182703799, 0.7967261796979683, 2.5585774816209756, 5.367037265056314, 0.054322239524861475, 2.7704342157679354, 56.723282511860354, 9.924673161192192, 2.361206678013979, 1.51377974142614, 6.234382356136602, 2.401042986998877, 0.040412204485754694, 0.040412204485754694, 21.660941604364517, 0.020206102242877347, 0.7880379874722166, 10.062638916952919, 0.30309153364316027, 7.4964639321074955, 4.9504950495049505, 11.780157607597493, 16.811477066073955, 0.22226712467165083, 23.09557486360881, 2.727823802788442, 1.7884322678843225, 0.0532724505327245, 0.7343987823439878, 17.47716894977169, 0.1750380517503805, 0.3691019786910198, 1.5753424657534247, 0.01141552511415525, 3.458904109589041, 17.14992389649924, 31.666666666666664, 6.834094368340944, 7.264079147640791, 3.1012176560121762, 8.340943683409437, 1.2212852573422508, 7.06923847371652, 0.0032309133792123037, 12.87518981616103, 0.3037058576459565, 6.1548899873994385, 0.4006332590223256, 0.6558754159800976, 0.9434267067299926, 23.640593195696425, 27.020128590352492, 7.091854867371006, 2.6138089237827535, 9.511808988401022, 0.4943297470194824, 50.0, 50.0, 0.27261884477764525, 0.03407735559720566, 0.08519338899301414, 1.6357130686658716, 0.7156244675413188, 0.6815471119441131, 1.090475379110581, 10.734367013119781, 82.16050434486284, 2.368376214005793, 0.20446413358323395, 0.01703867779860283, 1.264212451299992, 4.505247674326151, 0.0009938777132861571, 14.400294187803134, 8.629840184463704, 3.0223821261032042, 5.957303013437227, 3.992406774270494, 3.0949351991730936, 33.60797487477141, 2.129879939572235, 7.359664466883994, 2.0762105430547826, 9.280830086666136, 0.6778246004611592, 33.33333333333333, 33.33333333333333, 33.33333333333333, 50.0, 50.0, 1.7662199343214695, 14.054317919588177, 4.88595011981894, 16.947723440134908, 0.7233513801366823, 16.490636371704976, 12.962634241590484, 13.25996272299636, 2.0502352001420077, 8.680216561640188, 6.203958462767374, 1.9747936451584274, 12.882048685209968, 10.426086012948964, 1.5987268058017146, 13.484284009114914, 0.6420226426013672, 0.9892574239519659, 32.54421817918762, 0.83915072159728, 8.107570441639238, 5.910225340904981, 12.576409737041994, 8.600182982616651, 1.079597438243367, 1.2259835315645013, 4.84903934126258, 0.09149130832570906, 3.110704483074108, 51.216834400731926, 12.296431838975296, 5.269899359560841, 1.445562671546203, 6.752058554437329, 4.062214089661482, 1.0923129940339011, 5.1140451011221435, 3.953240431626785, 8.958840379934955, 0.1761829890801008, 1.7083073079325422, 6.1471278726657905, 12.36016282926619, 2.5691916689999785, 5.915053091817614, 20.0571840875315, 6.3298800318766295, 5.118029679726034, 3.3249693079756186, 15.485364750479228, 1.6901074759309915, 6.927297668038408, 0.06858710562414265, 2.880658436213992, 84.70507544581619, 5.41838134430727, 75.0, 25.0, 50.0, 50.0, 0.19230769230769232, 99.8076923076923, 0.8640552995391706, 0.6240399385560677, 0.019201228878648235, 0.0576036866359447, 2.6977726574500767, 94.98847926267281, 0.03840245775729647, 0.36482334869431643, 0.3456221198156682, 7.514848684830771, 3.2110870180069764, 16.385405864052043, 0.018855472800980485, 1.1812953709814273, 2.100499670029226, 6.91807297067974, 2.7726972753841803, 3.9587065145658524, 16.694635617988123, 7.63363816347695, 3.813519373998303, 4.185914961817668, 18.35863109267465, 5.252191948713114, 3.520668997382337, 6.245498146553996, 0.0035136417139544278, 5.4320900897735465, 0.0017568208569772139, 4.550166019570985, 8.889513536304703, 0.005270462570931642, 3.485532580242793, 24.375889390558843, 12.136118479998595, 6.501993991672669, 7.477029567295022, 16.688041320426557, 0.6869169550780907, 54.54545454545454, 36.36363636363637, 9.090909090909092, 0.11664301405548319, 0.15941211920916037, 7.99782266373763, 1.2500243006279281, 0.20023717412857947, 3.08520772176753, 2.3970139388401797, 6.057660529948094, 33.28408406073213, 19.745718229359046, 0.27994323373315966, 8.66851999455666, 2.7177822274927586, 14.039930791811662]}],                        {\"template\": {\"data\": {\"bar\": [{\"error_x\": {\"color\": \"#2a3f5f\"}, \"error_y\": {\"color\": \"#2a3f5f\"}, \"marker\": {\"line\": {\"color\": \"#E5ECF6\", \"width\": 0.5}}, \"type\": \"bar\"}], \"barpolar\": [{\"marker\": {\"line\": {\"color\": \"#E5ECF6\", \"width\": 0.5}}, \"type\": \"barpolar\"}], \"carpet\": [{\"aaxis\": {\"endlinecolor\": \"#2a3f5f\", \"gridcolor\": \"white\", \"linecolor\": \"white\", \"minorgridcolor\": \"white\", \"startlinecolor\": \"#2a3f5f\"}, \"baxis\": {\"endlinecolor\": \"#2a3f5f\", \"gridcolor\": \"white\", \"linecolor\": \"white\", \"minorgridcolor\": \"white\", \"startlinecolor\": \"#2a3f5f\"}, \"type\": \"carpet\"}], \"choropleth\": [{\"colorbar\": {\"outlinewidth\": 0, \"ticks\": \"\"}, \"type\": \"choropleth\"}], \"contour\": [{\"colorbar\": {\"outlinewidth\": 0, \"ticks\": \"\"}, \"colorscale\": [[0.0, \"#0d0887\"], [0.1111111111111111, \"#46039f\"], [0.2222222222222222, \"#7201a8\"], [0.3333333333333333, \"#9c179e\"], [0.4444444444444444, \"#bd3786\"], [0.5555555555555556, \"#d8576b\"], [0.6666666666666666, \"#ed7953\"], [0.7777777777777778, \"#fb9f3a\"], [0.8888888888888888, \"#fdca26\"], [1.0, \"#f0f921\"]], \"type\": \"contour\"}], \"contourcarpet\": [{\"colorbar\": {\"outlinewidth\": 0, \"ticks\": \"\"}, \"type\": \"contourcarpet\"}], \"heatmap\": [{\"colorbar\": {\"outlinewidth\": 0, \"ticks\": \"\"}, \"colorscale\": [[0.0, \"#0d0887\"], [0.1111111111111111, \"#46039f\"], [0.2222222222222222, \"#7201a8\"], [0.3333333333333333, \"#9c179e\"], [0.4444444444444444, \"#bd3786\"], [0.5555555555555556, \"#d8576b\"], [0.6666666666666666, \"#ed7953\"], [0.7777777777777778, \"#fb9f3a\"], [0.8888888888888888, \"#fdca26\"], [1.0, \"#f0f921\"]], \"type\": \"heatmap\"}], \"heatmapgl\": [{\"colorbar\": {\"outlinewidth\": 0, \"ticks\": \"\"}, \"colorscale\": [[0.0, \"#0d0887\"], [0.1111111111111111, \"#46039f\"], [0.2222222222222222, \"#7201a8\"], [0.3333333333333333, \"#9c179e\"], [0.4444444444444444, \"#bd3786\"], [0.5555555555555556, \"#d8576b\"], [0.6666666666666666, \"#ed7953\"], [0.7777777777777778, \"#fb9f3a\"], [0.8888888888888888, \"#fdca26\"], [1.0, \"#f0f921\"]], \"type\": \"heatmapgl\"}], \"histogram\": [{\"marker\": {\"colorbar\": {\"outlinewidth\": 0, \"ticks\": \"\"}}, \"type\": \"histogram\"}], \"histogram2d\": [{\"colorbar\": {\"outlinewidth\": 0, \"ticks\": \"\"}, \"colorscale\": [[0.0, \"#0d0887\"], [0.1111111111111111, \"#46039f\"], [0.2222222222222222, \"#7201a8\"], [0.3333333333333333, \"#9c179e\"], [0.4444444444444444, \"#bd3786\"], [0.5555555555555556, \"#d8576b\"], [0.6666666666666666, \"#ed7953\"], [0.7777777777777778, \"#fb9f3a\"], [0.8888888888888888, \"#fdca26\"], [1.0, \"#f0f921\"]], \"type\": \"histogram2d\"}], \"histogram2dcontour\": [{\"colorbar\": {\"outlinewidth\": 0, \"ticks\": \"\"}, \"colorscale\": [[0.0, \"#0d0887\"], [0.1111111111111111, \"#46039f\"], [0.2222222222222222, \"#7201a8\"], [0.3333333333333333, \"#9c179e\"], [0.4444444444444444, \"#bd3786\"], [0.5555555555555556, \"#d8576b\"], [0.6666666666666666, \"#ed7953\"], [0.7777777777777778, \"#fb9f3a\"], [0.8888888888888888, \"#fdca26\"], [1.0, \"#f0f921\"]], \"type\": \"histogram2dcontour\"}], \"mesh3d\": [{\"colorbar\": {\"outlinewidth\": 0, \"ticks\": \"\"}, \"type\": \"mesh3d\"}], \"parcoords\": [{\"line\": {\"colorbar\": {\"outlinewidth\": 0, \"ticks\": \"\"}}, \"type\": \"parcoords\"}], \"pie\": [{\"automargin\": true, \"type\": \"pie\"}], \"scatter\": [{\"marker\": {\"colorbar\": {\"outlinewidth\": 0, \"ticks\": \"\"}}, \"type\": \"scatter\"}], \"scatter3d\": [{\"line\": {\"colorbar\": {\"outlinewidth\": 0, \"ticks\": \"\"}}, \"marker\": {\"colorbar\": {\"outlinewidth\": 0, \"ticks\": \"\"}}, \"type\": \"scatter3d\"}], \"scattercarpet\": [{\"marker\": {\"colorbar\": {\"outlinewidth\": 0, \"ticks\": \"\"}}, \"type\": \"scattercarpet\"}], \"scattergeo\": [{\"marker\": {\"colorbar\": {\"outlinewidth\": 0, \"ticks\": \"\"}}, \"type\": \"scattergeo\"}], \"scattergl\": [{\"marker\": {\"colorbar\": {\"outlinewidth\": 0, \"ticks\": \"\"}}, \"type\": \"scattergl\"}], \"scattermapbox\": [{\"marker\": {\"colorbar\": {\"outlinewidth\": 0, \"ticks\": \"\"}}, \"type\": \"scattermapbox\"}], \"scatterpolar\": [{\"marker\": {\"colorbar\": {\"outlinewidth\": 0, \"ticks\": \"\"}}, \"type\": \"scatterpolar\"}], \"scatterpolargl\": [{\"marker\": {\"colorbar\": {\"outlinewidth\": 0, \"ticks\": \"\"}}, \"type\": \"scatterpolargl\"}], \"scatterternary\": [{\"marker\": {\"colorbar\": {\"outlinewidth\": 0, \"ticks\": \"\"}}, \"type\": \"scatterternary\"}], \"surface\": [{\"colorbar\": {\"outlinewidth\": 0, \"ticks\": \"\"}, \"colorscale\": [[0.0, \"#0d0887\"], [0.1111111111111111, \"#46039f\"], [0.2222222222222222, \"#7201a8\"], [0.3333333333333333, \"#9c179e\"], [0.4444444444444444, \"#bd3786\"], [0.5555555555555556, \"#d8576b\"], [0.6666666666666666, \"#ed7953\"], [0.7777777777777778, \"#fb9f3a\"], [0.8888888888888888, \"#fdca26\"], [1.0, \"#f0f921\"]], \"type\": \"surface\"}], \"table\": [{\"cells\": {\"fill\": {\"color\": \"#EBF0F8\"}, \"line\": {\"color\": \"white\"}}, \"header\": {\"fill\": {\"color\": \"#C8D4E3\"}, \"line\": {\"color\": \"white\"}}, \"type\": \"table\"}]}, \"layout\": {\"annotationdefaults\": {\"arrowcolor\": \"#2a3f5f\", \"arrowhead\": 0, \"arrowwidth\": 1}, \"coloraxis\": {\"colorbar\": {\"outlinewidth\": 0, \"ticks\": \"\"}}, \"colorscale\": {\"diverging\": [[0, \"#8e0152\"], [0.1, \"#c51b7d\"], [0.2, \"#de77ae\"], [0.3, \"#f1b6da\"], [0.4, \"#fde0ef\"], [0.5, \"#f7f7f7\"], [0.6, \"#e6f5d0\"], [0.7, \"#b8e186\"], [0.8, \"#7fbc41\"], [0.9, \"#4d9221\"], [1, \"#276419\"]], \"sequential\": [[0.0, \"#0d0887\"], [0.1111111111111111, \"#46039f\"], [0.2222222222222222, \"#7201a8\"], [0.3333333333333333, \"#9c179e\"], [0.4444444444444444, \"#bd3786\"], [0.5555555555555556, \"#d8576b\"], [0.6666666666666666, \"#ed7953\"], [0.7777777777777778, \"#fb9f3a\"], [0.8888888888888888, \"#fdca26\"], [1.0, \"#f0f921\"]], \"sequentialminus\": [[0.0, \"#0d0887\"], [0.1111111111111111, \"#46039f\"], [0.2222222222222222, \"#7201a8\"], [0.3333333333333333, \"#9c179e\"], [0.4444444444444444, \"#bd3786\"], [0.5555555555555556, \"#d8576b\"], [0.6666666666666666, \"#ed7953\"], [0.7777777777777778, \"#fb9f3a\"], [0.8888888888888888, \"#fdca26\"], [1.0, \"#f0f921\"]]}, \"colorway\": [\"#636efa\", \"#EF553B\", \"#00cc96\", \"#ab63fa\", \"#FFA15A\", \"#19d3f3\", \"#FF6692\", \"#B6E880\", \"#FF97FF\", \"#FECB52\"], \"font\": {\"color\": \"#2a3f5f\"}, \"geo\": {\"bgcolor\": \"white\", \"lakecolor\": \"white\", \"landcolor\": \"#E5ECF6\", \"showlakes\": true, \"showland\": true, \"subunitcolor\": \"white\"}, \"hoverlabel\": {\"align\": \"left\"}, \"hovermode\": \"closest\", \"mapbox\": {\"style\": \"light\"}, \"paper_bgcolor\": \"white\", \"plot_bgcolor\": \"#E5ECF6\", \"polar\": {\"angularaxis\": {\"gridcolor\": \"white\", \"linecolor\": \"white\", \"ticks\": \"\"}, \"bgcolor\": \"#E5ECF6\", \"radialaxis\": {\"gridcolor\": \"white\", \"linecolor\": \"white\", \"ticks\": \"\"}}, \"scene\": {\"xaxis\": {\"backgroundcolor\": \"#E5ECF6\", \"gridcolor\": \"white\", \"gridwidth\": 2, \"linecolor\": \"white\", \"showbackground\": true, \"ticks\": \"\", \"zerolinecolor\": \"white\"}, \"yaxis\": {\"backgroundcolor\": \"#E5ECF6\", \"gridcolor\": \"white\", \"gridwidth\": 2, \"linecolor\": \"white\", \"showbackground\": true, \"ticks\": \"\", \"zerolinecolor\": \"white\"}, \"zaxis\": {\"backgroundcolor\": \"#E5ECF6\", \"gridcolor\": \"white\", \"gridwidth\": 2, \"linecolor\": \"white\", \"showbackground\": true, \"ticks\": \"\", \"zerolinecolor\": \"white\"}}, \"shapedefaults\": {\"line\": {\"color\": \"#2a3f5f\"}}, \"ternary\": {\"aaxis\": {\"gridcolor\": \"white\", \"linecolor\": \"white\", \"ticks\": \"\"}, \"baxis\": {\"gridcolor\": \"white\", \"linecolor\": \"white\", \"ticks\": \"\"}, \"bgcolor\": \"#E5ECF6\", \"caxis\": {\"gridcolor\": \"white\", \"linecolor\": \"white\", \"ticks\": \"\"}}, \"title\": {\"x\": 0.05}, \"xaxis\": {\"automargin\": true, \"gridcolor\": \"white\", \"linecolor\": \"white\", \"ticks\": \"\", \"title\": {\"standoff\": 15}, \"zerolinecolor\": \"white\", \"zerolinewidth\": 2}, \"yaxis\": {\"automargin\": true, \"gridcolor\": \"white\", \"linecolor\": \"white\", \"ticks\": \"\", \"title\": {\"standoff\": 15}, \"zerolinecolor\": \"white\", \"zerolinewidth\": 2}}}},                        {\"responsive\": true}                    ).then(function(){\n",
       "                            \n",
       "var gd = document.getElementById('5f2c5c59-6020-47c9-824a-3cb3913e533a');\n",
       "var x = new MutationObserver(function (mutations, observer) {{\n",
       "        var display = window.getComputedStyle(gd).display;\n",
       "        if (!display || display === 'none') {{\n",
       "            console.log([gd, 'removed!']);\n",
       "            Plotly.purge(gd);\n",
       "            observer.disconnect();\n",
       "        }}\n",
       "}});\n",
       "\n",
       "// Listen for the removal of the full notebook cells\n",
       "var notebookContainer = gd.closest('#notebook-container');\n",
       "if (notebookContainer) {{\n",
       "    x.observe(notebookContainer, {childList: true});\n",
       "}}\n",
       "\n",
       "// Listen for the clearing of the current output cell\n",
       "var outputEl = gd.closest('.output');\n",
       "if (outputEl) {{\n",
       "    x.observe(outputEl, {childList: true});\n",
       "}}\n",
       "\n",
       "                        })                };                });            </script>        </div>"
      ]
     },
     "metadata": {},
     "output_type": "display_data"
    }
   ],
   "source": [
    "# 히트맵 이미지를 통해 주로시켜먹는 음식을 지역별로 한눈에 확인\n",
    "fig = go.Figure(data=go.Heatmap(\n",
    "                   z=ss[\"rate\"],\n",
    "                   x=ss[\"gu_name\"],\n",
    "                   y=ss[\"induty_nm\"],\n",
    "                   hoverongaps = False))\n",
    "fig.show()\n",
    "\n",
    "\n",
    "## 높은 비율만 따졌을때 구리, 마포, 서초, 성북구, 권선구, 장안구, 팔달구, 중랑구, 파주시의 경우\n",
    "## 카페 디저트의 비율이 높게 나타났으며\n",
    "## 경기도 가평과 같이 배달건수가 1건으로 나타난 경우 일반화의 오류를 범할 수 도 있다.\n",
    "\n",
    "## 군집을 나누어 주기전 분석"
   ]
  },
  {
   "cell_type": "markdown",
   "metadata": {},
   "source": [
    "# kmeans 군집분석\n",
    "* 단순히 시군구의 지역특성만으로 분류를 할수도 있지만\n",
    "* 1인가구와 아파트비율의 특성에 따라서 주문 빈도 등 특성이 다를 수 있다고 생각되어\n",
    "* 시도, 서울시와 경기도의 시군구 를 이용하여 \n",
    "* 군집을 형성하고 그 군집 집단간의 유의미한 차이를 가지는지 확인하기 위해 실시해본다\n",
    "* 2019년 기준 아파트비율과 1인가구 비율에 대해서는 통계청 데이터\n",
    "* 출처 https://kosis.kr/statHtml/statHtml.do?orgId=101&tblId=DT_1PL1501&conn_path=I3"
   ]
  },
  {
   "cell_type": "code",
   "execution_count": 31,
   "metadata": {},
   "outputs": [
    {
     "data": {
      "text/html": [
       "<div>\n",
       "<style scoped>\n",
       "    .dataframe tbody tr th:only-of-type {\n",
       "        vertical-align: middle;\n",
       "    }\n",
       "\n",
       "    .dataframe tbody tr th {\n",
       "        vertical-align: top;\n",
       "    }\n",
       "\n",
       "    .dataframe thead th {\n",
       "        text-align: right;\n",
       "    }\n",
       "</style>\n",
       "<table border=\"1\" class=\"dataframe\">\n",
       "  <thead>\n",
       "    <tr style=\"text-align: right;\">\n",
       "      <th></th>\n",
       "      <th>sido</th>\n",
       "      <th>all_aptra</th>\n",
       "      <th>men_aptra</th>\n",
       "      <th>wo_aptra</th>\n",
       "      <th>all_onera</th>\n",
       "      <th>men_onera</th>\n",
       "      <th>wo_onera</th>\n",
       "    </tr>\n",
       "  </thead>\n",
       "  <tbody>\n",
       "    <tr>\n",
       "      <th>0</th>\n",
       "      <td>전국</td>\n",
       "      <td>0.3490</td>\n",
       "      <td>0.3097</td>\n",
       "      <td>0.3863</td>\n",
       "      <td>0.3022</td>\n",
       "      <td>0.2202</td>\n",
       "      <td>0.4777</td>\n",
       "    </tr>\n",
       "    <tr>\n",
       "      <th>1</th>\n",
       "      <td>서울특별시</td>\n",
       "      <td>0.2605</td>\n",
       "      <td>0.2141</td>\n",
       "      <td>0.3005</td>\n",
       "      <td>0.3336</td>\n",
       "      <td>0.2417</td>\n",
       "      <td>0.5038</td>\n",
       "    </tr>\n",
       "    <tr>\n",
       "      <th>2</th>\n",
       "      <td>부산광역시</td>\n",
       "      <td>0.4026</td>\n",
       "      <td>0.3423</td>\n",
       "      <td>0.4512</td>\n",
       "      <td>0.3073</td>\n",
       "      <td>0.2108</td>\n",
       "      <td>0.4953</td>\n",
       "    </tr>\n",
       "    <tr>\n",
       "      <th>3</th>\n",
       "      <td>대구광역시</td>\n",
       "      <td>0.3810</td>\n",
       "      <td>0.3206</td>\n",
       "      <td>0.4315</td>\n",
       "      <td>0.2936</td>\n",
       "      <td>0.2014</td>\n",
       "      <td>0.4843</td>\n",
       "    </tr>\n",
       "    <tr>\n",
       "      <th>4</th>\n",
       "      <td>인천광역시</td>\n",
       "      <td>0.4006</td>\n",
       "      <td>0.3501</td>\n",
       "      <td>0.4523</td>\n",
       "      <td>0.2658</td>\n",
       "      <td>0.1999</td>\n",
       "      <td>0.4143</td>\n",
       "    </tr>\n",
       "  </tbody>\n",
       "</table>\n",
       "</div>"
      ],
      "text/plain": [
       "    sido  all_aptra  men_aptra  wo_aptra  all_onera  men_onera  wo_onera\n",
       "0     전국     0.3490     0.3097    0.3863     0.3022     0.2202    0.4777\n",
       "1  서울특별시     0.2605     0.2141    0.3005     0.3336     0.2417    0.5038\n",
       "2  부산광역시     0.4026     0.3423    0.4512     0.3073     0.2108    0.4953\n",
       "3  대구광역시     0.3810     0.3206    0.4315     0.2936     0.2014    0.4843\n",
       "4  인천광역시     0.4006     0.3501    0.4523     0.2658     0.1999    0.4143"
      ]
     },
     "execution_count": 31,
     "metadata": {},
     "output_type": "execute_result"
    }
   ],
   "source": [
    "# 시도별 1인가구 아파트비율, 데이터 불러오기\n",
    "\n",
    "f = '../data/aptsido.csv'\n",
    "sidoone = pd.read_csv(f, sep = ',', encoding='utf-8')\n",
    "sidoone.head()"
   ]
  },
  {
   "cell_type": "code",
   "execution_count": 32,
   "metadata": {},
   "outputs": [
    {
     "data": {
      "text/html": [
       "<div>\n",
       "<style scoped>\n",
       "    .dataframe tbody tr th:only-of-type {\n",
       "        vertical-align: middle;\n",
       "    }\n",
       "\n",
       "    .dataframe tbody tr th {\n",
       "        vertical-align: top;\n",
       "    }\n",
       "\n",
       "    .dataframe thead th {\n",
       "        text-align: right;\n",
       "    }\n",
       "</style>\n",
       "<table border=\"1\" class=\"dataframe\">\n",
       "  <thead>\n",
       "    <tr style=\"text-align: right;\">\n",
       "      <th></th>\n",
       "      <th>sigun</th>\n",
       "      <th>all_aptra</th>\n",
       "      <th>men_aptra</th>\n",
       "      <th>wo_aptra</th>\n",
       "      <th>all_onera</th>\n",
       "      <th>men_onera</th>\n",
       "      <th>wo_onera</th>\n",
       "    </tr>\n",
       "  </thead>\n",
       "  <tbody>\n",
       "    <tr>\n",
       "      <th>0</th>\n",
       "      <td>서울특별시</td>\n",
       "      <td>0.2605</td>\n",
       "      <td>0.2141</td>\n",
       "      <td>0.3005</td>\n",
       "      <td>0.3336</td>\n",
       "      <td>0.2417</td>\n",
       "      <td>0.5038</td>\n",
       "    </tr>\n",
       "    <tr>\n",
       "      <th>1</th>\n",
       "      <td>종로구</td>\n",
       "      <td>0.1667</td>\n",
       "      <td>0.1514</td>\n",
       "      <td>0.1799</td>\n",
       "      <td>0.3938</td>\n",
       "      <td>0.3036</td>\n",
       "      <td>0.5460</td>\n",
       "    </tr>\n",
       "    <tr>\n",
       "      <th>2</th>\n",
       "      <td>중구</td>\n",
       "      <td>0.3792</td>\n",
       "      <td>0.3412</td>\n",
       "      <td>0.4117</td>\n",
       "      <td>0.4051</td>\n",
       "      <td>0.3170</td>\n",
       "      <td>0.5477</td>\n",
       "    </tr>\n",
       "    <tr>\n",
       "      <th>3</th>\n",
       "      <td>용산구</td>\n",
       "      <td>0.2036</td>\n",
       "      <td>0.1706</td>\n",
       "      <td>0.2304</td>\n",
       "      <td>0.3772</td>\n",
       "      <td>0.2804</td>\n",
       "      <td>0.5354</td>\n",
       "    </tr>\n",
       "    <tr>\n",
       "      <th>4</th>\n",
       "      <td>성동구</td>\n",
       "      <td>0.3335</td>\n",
       "      <td>0.2594</td>\n",
       "      <td>0.4045</td>\n",
       "      <td>0.3379</td>\n",
       "      <td>0.2549</td>\n",
       "      <td>0.4963</td>\n",
       "    </tr>\n",
       "  </tbody>\n",
       "</table>\n",
       "</div>"
      ],
      "text/plain": [
       "    sigun  all_aptra  men_aptra  wo_aptra  all_onera  men_onera  wo_onera\n",
       "0   서울특별시     0.2605     0.2141    0.3005     0.3336     0.2417    0.5038\n",
       "1  　　　종로구     0.1667     0.1514    0.1799     0.3938     0.3036    0.5460\n",
       "2   　　　중구     0.3792     0.3412    0.4117     0.4051     0.3170    0.5477\n",
       "3  　　　용산구     0.2036     0.1706    0.2304     0.3772     0.2804    0.5354\n",
       "4  　　　성동구     0.3335     0.2594    0.4045     0.3379     0.2549    0.4963"
      ]
     },
     "execution_count": 32,
     "metadata": {},
     "output_type": "execute_result"
    }
   ],
   "source": [
    "# 서울경기 시군구 1인가구 아파트비율, 데이터 불러오기\n",
    "\n",
    "d = '../data/aptsigun.csv'\n",
    "sigunone = pd.read_csv(d, sep = ',', encoding='utf-8')\n",
    "sigunone.head()"
   ]
  },
  {
   "cell_type": "code",
   "execution_count": 33,
   "metadata": {},
   "outputs": [],
   "source": [
    "from sklearn.cluster import KMeans\n",
    "import seaborn as sns\n",
    "plt.rc('font', family='Malgun Gothic')"
   ]
  },
  {
   "cell_type": "code",
   "execution_count": 34,
   "metadata": {},
   "outputs": [
    {
     "data": {
      "text/plain": [
       "Text(0.5, 1, '아파트비율과 1인가구비율 분포')"
      ]
     },
     "execution_count": 34,
     "metadata": {},
     "output_type": "execute_result"
    },
    {
     "data": {
      "image/png": "[encoded data removed]",
      "text/plain": [
       "<Figure size 360x360 with 1 Axes>"
      ]
     },
     "metadata": {
      "needs_background": "light"
     },
     "output_type": "display_data"
    }
   ],
   "source": [
    "# 아파트 비율과 1인가구 비율에 따른 서울,경기 시군구의 분포\n",
    "sns.lmplot('all_aptra','all_onera',data=sigunone, fit_reg = False, scatter_kws={\"s\":200})\n",
    "plt.title('아파트비율과 1인가구비율 분포')"
   ]
  },
  {
   "cell_type": "code",
   "execution_count": 35,
   "metadata": {},
   "outputs": [],
   "source": [
    "# 원래는 적정 군집 개수 찾아주는 기법으로 엘보우, 실루엣 , CCC 등을 활용해야함.\n",
    "# 보통 적정 군집개수가 3~4개로 나오기 때문에  4개로 임의로 정하고 시작함"
   ]
  },
  {
   "cell_type": "code",
   "execution_count": 36,
   "metadata": {},
   "outputs": [],
   "source": [
    "sigunone2 = sigunone"
   ]
  },
  {
   "cell_type": "code",
   "execution_count": 37,
   "metadata": {},
   "outputs": [
    {
     "data": {
      "text/html": [
       "<div>\n",
       "<style scoped>\n",
       "    .dataframe tbody tr th:only-of-type {\n",
       "        vertical-align: middle;\n",
       "    }\n",
       "\n",
       "    .dataframe tbody tr th {\n",
       "        vertical-align: top;\n",
       "    }\n",
       "\n",
       "    .dataframe thead th {\n",
       "        text-align: right;\n",
       "    }\n",
       "</style>\n",
       "<table border=\"1\" class=\"dataframe\">\n",
       "  <thead>\n",
       "    <tr style=\"text-align: right;\">\n",
       "      <th></th>\n",
       "      <th>all_aptra</th>\n",
       "      <th>all_onera</th>\n",
       "    </tr>\n",
       "  </thead>\n",
       "  <tbody>\n",
       "    <tr>\n",
       "      <th>0</th>\n",
       "      <td>0.2605</td>\n",
       "      <td>0.3336</td>\n",
       "    </tr>\n",
       "    <tr>\n",
       "      <th>1</th>\n",
       "      <td>0.1667</td>\n",
       "      <td>0.3938</td>\n",
       "    </tr>\n",
       "    <tr>\n",
       "      <th>2</th>\n",
       "      <td>0.3792</td>\n",
       "      <td>0.4051</td>\n",
       "    </tr>\n",
       "    <tr>\n",
       "      <th>3</th>\n",
       "      <td>0.2036</td>\n",
       "      <td>0.3772</td>\n",
       "    </tr>\n",
       "    <tr>\n",
       "      <th>4</th>\n",
       "      <td>0.3335</td>\n",
       "      <td>0.3379</td>\n",
       "    </tr>\n",
       "    <tr>\n",
       "      <th>...</th>\n",
       "      <td>...</td>\n",
       "      <td>...</td>\n",
       "    </tr>\n",
       "    <tr>\n",
       "      <th>70</th>\n",
       "      <td>0.2412</td>\n",
       "      <td>0.3087</td>\n",
       "    </tr>\n",
       "    <tr>\n",
       "      <th>71</th>\n",
       "      <td>0.2276</td>\n",
       "      <td>0.2905</td>\n",
       "    </tr>\n",
       "    <tr>\n",
       "      <th>72</th>\n",
       "      <td>0.2413</td>\n",
       "      <td>0.3294</td>\n",
       "    </tr>\n",
       "    <tr>\n",
       "      <th>73</th>\n",
       "      <td>0.1510</td>\n",
       "      <td>0.3380</td>\n",
       "    </tr>\n",
       "    <tr>\n",
       "      <th>74</th>\n",
       "      <td>0.0841</td>\n",
       "      <td>0.3084</td>\n",
       "    </tr>\n",
       "  </tbody>\n",
       "</table>\n",
       "<p>75 rows × 2 columns</p>\n",
       "</div>"
      ],
      "text/plain": [
       "    all_aptra  all_onera\n",
       "0      0.2605     0.3336\n",
       "1      0.1667     0.3938\n",
       "2      0.3792     0.4051\n",
       "3      0.2036     0.3772\n",
       "4      0.3335     0.3379\n",
       "..        ...        ...\n",
       "70     0.2412     0.3087\n",
       "71     0.2276     0.2905\n",
       "72     0.2413     0.3294\n",
       "73     0.1510     0.3380\n",
       "74     0.0841     0.3084\n",
       "\n",
       "[75 rows x 2 columns]"
      ]
     },
     "execution_count": 37,
     "metadata": {},
     "output_type": "execute_result"
    }
   ],
   "source": [
    "#필요한 열만\n",
    "sigunone3 = sigunone2.loc[:,['all_aptra','all_onera']]\n",
    "sigunone3"
   ]
  },
  {
   "cell_type": "code",
   "execution_count": 38,
   "metadata": {},
   "outputs": [
    {
     "data": {
      "text/html": [
       "<div>\n",
       "<style scoped>\n",
       "    .dataframe tbody tr th:only-of-type {\n",
       "        vertical-align: middle;\n",
       "    }\n",
       "\n",
       "    .dataframe tbody tr th {\n",
       "        vertical-align: top;\n",
       "    }\n",
       "\n",
       "    .dataframe thead th {\n",
       "        text-align: right;\n",
       "    }\n",
       "</style>\n",
       "<table border=\"1\" class=\"dataframe\">\n",
       "  <thead>\n",
       "    <tr style=\"text-align: right;\">\n",
       "      <th></th>\n",
       "      <th>all_aptra</th>\n",
       "      <th>all_onera</th>\n",
       "      <th>cluster</th>\n",
       "    </tr>\n",
       "  </thead>\n",
       "  <tbody>\n",
       "    <tr>\n",
       "      <th>0</th>\n",
       "      <td>0.2605</td>\n",
       "      <td>0.3336</td>\n",
       "      <td>0</td>\n",
       "    </tr>\n",
       "    <tr>\n",
       "      <th>1</th>\n",
       "      <td>0.1667</td>\n",
       "      <td>0.3938</td>\n",
       "      <td>0</td>\n",
       "    </tr>\n",
       "    <tr>\n",
       "      <th>2</th>\n",
       "      <td>0.3792</td>\n",
       "      <td>0.4051</td>\n",
       "      <td>2</td>\n",
       "    </tr>\n",
       "    <tr>\n",
       "      <th>3</th>\n",
       "      <td>0.2036</td>\n",
       "      <td>0.3772</td>\n",
       "      <td>0</td>\n",
       "    </tr>\n",
       "    <tr>\n",
       "      <th>4</th>\n",
       "      <td>0.3335</td>\n",
       "      <td>0.3379</td>\n",
       "      <td>2</td>\n",
       "    </tr>\n",
       "  </tbody>\n",
       "</table>\n",
       "</div>"
      ],
      "text/plain": [
       "   all_aptra  all_onera  cluster\n",
       "0     0.2605     0.3336        0\n",
       "1     0.1667     0.3938        0\n",
       "2     0.3792     0.4051        2\n",
       "3     0.2036     0.3772        0\n",
       "4     0.3335     0.3379        2"
      ]
     },
     "execution_count": 38,
     "metadata": {},
     "output_type": "execute_result"
    }
   ],
   "source": [
    "kmeans = KMeans(n_clusters=3,algorithm='auto')\n",
    "kmeans.fit(sigunone3)\n",
    "sigunone3['cluster']= kmeans.labels_\n",
    "sigunone3.head()"
   ]
  },
  {
   "cell_type": "code",
   "execution_count": 39,
   "metadata": {},
   "outputs": [
    {
     "data": {
      "text/html": [
       "<div>\n",
       "<style scoped>\n",
       "    .dataframe tbody tr th:only-of-type {\n",
       "        vertical-align: middle;\n",
       "    }\n",
       "\n",
       "    .dataframe tbody tr th {\n",
       "        vertical-align: top;\n",
       "    }\n",
       "\n",
       "    .dataframe thead th {\n",
       "        text-align: right;\n",
       "    }\n",
       "</style>\n",
       "<table border=\"1\" class=\"dataframe\">\n",
       "  <thead>\n",
       "    <tr style=\"text-align: right;\">\n",
       "      <th></th>\n",
       "      <th>sigun</th>\n",
       "      <th>all_onera</th>\n",
       "    </tr>\n",
       "  </thead>\n",
       "  <tbody>\n",
       "    <tr>\n",
       "      <th>0</th>\n",
       "      <td>서울특별시</td>\n",
       "      <td>0.3336</td>\n",
       "    </tr>\n",
       "    <tr>\n",
       "      <th>1</th>\n",
       "      <td>종로구</td>\n",
       "      <td>0.3938</td>\n",
       "    </tr>\n",
       "    <tr>\n",
       "      <th>2</th>\n",
       "      <td>중구</td>\n",
       "      <td>0.4051</td>\n",
       "    </tr>\n",
       "    <tr>\n",
       "      <th>3</th>\n",
       "      <td>용산구</td>\n",
       "      <td>0.3772</td>\n",
       "    </tr>\n",
       "    <tr>\n",
       "      <th>4</th>\n",
       "      <td>성동구</td>\n",
       "      <td>0.3379</td>\n",
       "    </tr>\n",
       "  </tbody>\n",
       "</table>\n",
       "</div>"
      ],
      "text/plain": [
       "    sigun  all_onera\n",
       "0   서울특별시     0.3336\n",
       "1  　　　종로구     0.3938\n",
       "2   　　　중구     0.4051\n",
       "3  　　　용산구     0.3772\n",
       "4  　　　성동구     0.3379"
      ]
     },
     "execution_count": 39,
     "metadata": {},
     "output_type": "execute_result"
    }
   ],
   "source": [
    "#다시 시군구 옆에 붙여주기 위해서 \n",
    "sigunone4 = sigunone2.loc[:,['sigun','all_onera']]\n",
    "sigunone4.head()"
   ]
  },
  {
   "cell_type": "code",
   "execution_count": 40,
   "metadata": {},
   "outputs": [
    {
     "data": {
      "text/html": [
       "<div>\n",
       "<style scoped>\n",
       "    .dataframe tbody tr th:only-of-type {\n",
       "        vertical-align: middle;\n",
       "    }\n",
       "\n",
       "    .dataframe tbody tr th {\n",
       "        vertical-align: top;\n",
       "    }\n",
       "\n",
       "    .dataframe thead th {\n",
       "        text-align: right;\n",
       "    }\n",
       "</style>\n",
       "<table border=\"1\" class=\"dataframe\">\n",
       "  <thead>\n",
       "    <tr style=\"text-align: right;\">\n",
       "      <th></th>\n",
       "      <th>all_aptra</th>\n",
       "      <th>all_onera</th>\n",
       "      <th>cluster</th>\n",
       "      <th>sigun</th>\n",
       "    </tr>\n",
       "  </thead>\n",
       "  <tbody>\n",
       "    <tr>\n",
       "      <th>0</th>\n",
       "      <td>0.2605</td>\n",
       "      <td>0.3336</td>\n",
       "      <td>0</td>\n",
       "      <td>서울특별시</td>\n",
       "    </tr>\n",
       "    <tr>\n",
       "      <th>1</th>\n",
       "      <td>0.1667</td>\n",
       "      <td>0.3938</td>\n",
       "      <td>0</td>\n",
       "      <td>종로구</td>\n",
       "    </tr>\n",
       "    <tr>\n",
       "      <th>2</th>\n",
       "      <td>0.3792</td>\n",
       "      <td>0.4051</td>\n",
       "      <td>2</td>\n",
       "      <td>중구</td>\n",
       "    </tr>\n",
       "    <tr>\n",
       "      <th>3</th>\n",
       "      <td>0.2036</td>\n",
       "      <td>0.3772</td>\n",
       "      <td>0</td>\n",
       "      <td>용산구</td>\n",
       "    </tr>\n",
       "    <tr>\n",
       "      <th>4</th>\n",
       "      <td>0.3335</td>\n",
       "      <td>0.3379</td>\n",
       "      <td>2</td>\n",
       "      <td>성동구</td>\n",
       "    </tr>\n",
       "    <tr>\n",
       "      <th>...</th>\n",
       "      <td>...</td>\n",
       "      <td>...</td>\n",
       "      <td>...</td>\n",
       "      <td>...</td>\n",
       "    </tr>\n",
       "    <tr>\n",
       "      <th>70</th>\n",
       "      <td>0.2412</td>\n",
       "      <td>0.3087</td>\n",
       "      <td>0</td>\n",
       "      <td>포천시</td>\n",
       "    </tr>\n",
       "    <tr>\n",
       "      <th>71</th>\n",
       "      <td>0.2276</td>\n",
       "      <td>0.2905</td>\n",
       "      <td>0</td>\n",
       "      <td>여주시</td>\n",
       "    </tr>\n",
       "    <tr>\n",
       "      <th>72</th>\n",
       "      <td>0.2413</td>\n",
       "      <td>0.3294</td>\n",
       "      <td>0</td>\n",
       "      <td>연천군</td>\n",
       "    </tr>\n",
       "    <tr>\n",
       "      <th>73</th>\n",
       "      <td>0.1510</td>\n",
       "      <td>0.3380</td>\n",
       "      <td>0</td>\n",
       "      <td>가평군</td>\n",
       "    </tr>\n",
       "    <tr>\n",
       "      <th>74</th>\n",
       "      <td>0.0841</td>\n",
       "      <td>0.3084</td>\n",
       "      <td>0</td>\n",
       "      <td>양평군</td>\n",
       "    </tr>\n",
       "  </tbody>\n",
       "</table>\n",
       "<p>75 rows × 4 columns</p>\n",
       "</div>"
      ],
      "text/plain": [
       "    all_aptra  all_onera  cluster   sigun\n",
       "0      0.2605     0.3336        0   서울특별시\n",
       "1      0.1667     0.3938        0  　　　종로구\n",
       "2      0.3792     0.4051        2   　　　중구\n",
       "3      0.2036     0.3772        0  　　　용산구\n",
       "4      0.3335     0.3379        2  　　　성동구\n",
       "..        ...        ...      ...     ...\n",
       "70     0.2412     0.3087        0  　　　포천시\n",
       "71     0.2276     0.2905        0  　　　여주시\n",
       "72     0.2413     0.3294        0  　　　연천군\n",
       "73     0.1510     0.3380        0  　　　가평군\n",
       "74     0.0841     0.3084        0  　　　양평군\n",
       "\n",
       "[75 rows x 4 columns]"
      ]
     },
     "execution_count": 40,
     "metadata": {},
     "output_type": "execute_result"
    }
   ],
   "source": [
    "#  시군구별 클러스터 생성완료 \n",
    "sigun5 = pd.merge(sigunone3, sigunone4)\n",
    "sigun5"
   ]
  },
  {
   "cell_type": "code",
   "execution_count": 41,
   "metadata": {},
   "outputs": [
    {
     "data": {
      "text/html": [
       "<div>\n",
       "<style scoped>\n",
       "    .dataframe tbody tr th:only-of-type {\n",
       "        vertical-align: middle;\n",
       "    }\n",
       "\n",
       "    .dataframe tbody tr th {\n",
       "        vertical-align: top;\n",
       "    }\n",
       "\n",
       "    .dataframe thead th {\n",
       "        text-align: right;\n",
       "    }\n",
       "</style>\n",
       "<table border=\"1\" class=\"dataframe\">\n",
       "  <thead>\n",
       "    <tr style=\"text-align: right;\">\n",
       "      <th></th>\n",
       "      <th>all_aptra</th>\n",
       "      <th>all_onera</th>\n",
       "      <th>cluster</th>\n",
       "      <th>sigun</th>\n",
       "    </tr>\n",
       "  </thead>\n",
       "  <tbody>\n",
       "    <tr>\n",
       "      <th>0</th>\n",
       "      <td>0.2605</td>\n",
       "      <td>0.3336</td>\n",
       "      <td>0</td>\n",
       "      <td>서울특별시</td>\n",
       "    </tr>\n",
       "    <tr>\n",
       "      <th>72</th>\n",
       "      <td>0.2413</td>\n",
       "      <td>0.3294</td>\n",
       "      <td>0</td>\n",
       "      <td>연천군</td>\n",
       "    </tr>\n",
       "    <tr>\n",
       "      <th>71</th>\n",
       "      <td>0.2276</td>\n",
       "      <td>0.2905</td>\n",
       "      <td>0</td>\n",
       "      <td>여주시</td>\n",
       "    </tr>\n",
       "    <tr>\n",
       "      <th>70</th>\n",
       "      <td>0.2412</td>\n",
       "      <td>0.3087</td>\n",
       "      <td>0</td>\n",
       "      <td>포천시</td>\n",
       "    </tr>\n",
       "    <tr>\n",
       "      <th>68</th>\n",
       "      <td>0.1811</td>\n",
       "      <td>0.2340</td>\n",
       "      <td>0</td>\n",
       "      <td>광주시</td>\n",
       "    </tr>\n",
       "    <tr>\n",
       "      <th>...</th>\n",
       "      <td>...</td>\n",
       "      <td>...</td>\n",
       "      <td>...</td>\n",
       "      <td>...</td>\n",
       "    </tr>\n",
       "    <tr>\n",
       "      <th>43</th>\n",
       "      <td>0.3788</td>\n",
       "      <td>0.3004</td>\n",
       "      <td>2</td>\n",
       "      <td>동두천시</td>\n",
       "    </tr>\n",
       "    <tr>\n",
       "      <th>16</th>\n",
       "      <td>0.4044</td>\n",
       "      <td>0.3305</td>\n",
       "      <td>2</td>\n",
       "      <td>강서구</td>\n",
       "    </tr>\n",
       "    <tr>\n",
       "      <th>46</th>\n",
       "      <td>0.3210</td>\n",
       "      <td>0.2952</td>\n",
       "      <td>2</td>\n",
       "      <td>단원구</td>\n",
       "    </tr>\n",
       "    <tr>\n",
       "      <th>10</th>\n",
       "      <td>0.3470</td>\n",
       "      <td>0.2575</td>\n",
       "      <td>2</td>\n",
       "      <td>도봉구</td>\n",
       "    </tr>\n",
       "    <tr>\n",
       "      <th>37</th>\n",
       "      <td>0.4256</td>\n",
       "      <td>0.2289</td>\n",
       "      <td>2</td>\n",
       "      <td>안양시</td>\n",
       "    </tr>\n",
       "  </tbody>\n",
       "</table>\n",
       "<p>75 rows × 4 columns</p>\n",
       "</div>"
      ],
      "text/plain": [
       "    all_aptra  all_onera  cluster    sigun\n",
       "0      0.2605     0.3336        0    서울특별시\n",
       "72     0.2413     0.3294        0   　　　연천군\n",
       "71     0.2276     0.2905        0   　　　여주시\n",
       "70     0.2412     0.3087        0   　　　포천시\n",
       "68     0.1811     0.2340        0   　　　광주시\n",
       "..        ...        ...      ...      ...\n",
       "43     0.3788     0.3004        2  　　　동두천시\n",
       "16     0.4044     0.3305        2   　　　강서구\n",
       "46     0.3210     0.2952        2   　　　단원구\n",
       "10     0.3470     0.2575        2   　　　도봉구\n",
       "37     0.4256     0.2289        2   　　　안양시\n",
       "\n",
       "[75 rows x 4 columns]"
      ]
     },
     "execution_count": 41,
     "metadata": {},
     "output_type": "execute_result"
    }
   ],
   "source": [
    "sigun5.sort_values(by=\"cluster\", ascending=True)"
   ]
  },
  {
   "cell_type": "code",
   "execution_count": 42,
   "metadata": {},
   "outputs": [
    {
     "data": {
      "text/html": [
       "<div>\n",
       "<style scoped>\n",
       "    .dataframe tbody tr th:only-of-type {\n",
       "        vertical-align: middle;\n",
       "    }\n",
       "\n",
       "    .dataframe tbody tr th {\n",
       "        vertical-align: top;\n",
       "    }\n",
       "\n",
       "    .dataframe thead th {\n",
       "        text-align: right;\n",
       "    }\n",
       "</style>\n",
       "<table border=\"1\" class=\"dataframe\">\n",
       "  <thead>\n",
       "    <tr style=\"text-align: right;\">\n",
       "      <th></th>\n",
       "      <th>sigun</th>\n",
       "    </tr>\n",
       "  </thead>\n",
       "  <tbody>\n",
       "    <tr>\n",
       "      <th>0</th>\n",
       "      <td>서울특별시</td>\n",
       "    </tr>\n",
       "    <tr>\n",
       "      <th>1</th>\n",
       "      <td>종로구</td>\n",
       "    </tr>\n",
       "    <tr>\n",
       "      <th>3</th>\n",
       "      <td>용산구</td>\n",
       "    </tr>\n",
       "    <tr>\n",
       "      <th>5</th>\n",
       "      <td>광진구</td>\n",
       "    </tr>\n",
       "    <tr>\n",
       "      <th>6</th>\n",
       "      <td>동대문구</td>\n",
       "    </tr>\n",
       "    <tr>\n",
       "      <th>7</th>\n",
       "      <td>중랑구</td>\n",
       "    </tr>\n",
       "    <tr>\n",
       "      <th>8</th>\n",
       "      <td>성북구</td>\n",
       "    </tr>\n",
       "    <tr>\n",
       "      <th>9</th>\n",
       "      <td>강북구</td>\n",
       "    </tr>\n",
       "    <tr>\n",
       "      <th>12</th>\n",
       "      <td>은평구</td>\n",
       "    </tr>\n",
       "    <tr>\n",
       "      <th>13</th>\n",
       "      <td>서대문구</td>\n",
       "    </tr>\n",
       "    <tr>\n",
       "      <th>14</th>\n",
       "      <td>마포구</td>\n",
       "    </tr>\n",
       "    <tr>\n",
       "      <th>18</th>\n",
       "      <td>금천구</td>\n",
       "    </tr>\n",
       "    <tr>\n",
       "      <th>20</th>\n",
       "      <td>동작구</td>\n",
       "    </tr>\n",
       "    <tr>\n",
       "      <th>21</th>\n",
       "      <td>관악구</td>\n",
       "    </tr>\n",
       "    <tr>\n",
       "      <th>25</th>\n",
       "      <td>강동구</td>\n",
       "    </tr>\n",
       "    <tr>\n",
       "      <th>28</th>\n",
       "      <td>장안구</td>\n",
       "    </tr>\n",
       "    <tr>\n",
       "      <th>30</th>\n",
       "      <td>팔달구</td>\n",
       "    </tr>\n",
       "    <tr>\n",
       "      <th>33</th>\n",
       "      <td>수정구</td>\n",
       "    </tr>\n",
       "    <tr>\n",
       "      <th>34</th>\n",
       "      <td>중원구</td>\n",
       "    </tr>\n",
       "    <tr>\n",
       "      <th>44</th>\n",
       "      <td>안산시</td>\n",
       "    </tr>\n",
       "    <tr>\n",
       "      <th>45</th>\n",
       "      <td>상록구</td>\n",
       "    </tr>\n",
       "    <tr>\n",
       "      <th>68</th>\n",
       "      <td>광주시</td>\n",
       "    </tr>\n",
       "    <tr>\n",
       "      <th>70</th>\n",
       "      <td>포천시</td>\n",
       "    </tr>\n",
       "    <tr>\n",
       "      <th>71</th>\n",
       "      <td>여주시</td>\n",
       "    </tr>\n",
       "    <tr>\n",
       "      <th>72</th>\n",
       "      <td>연천군</td>\n",
       "    </tr>\n",
       "    <tr>\n",
       "      <th>73</th>\n",
       "      <td>가평군</td>\n",
       "    </tr>\n",
       "    <tr>\n",
       "      <th>74</th>\n",
       "      <td>양평군</td>\n",
       "    </tr>\n",
       "  </tbody>\n",
       "</table>\n",
       "</div>"
      ],
      "text/plain": [
       "      sigun\n",
       "0     서울특별시\n",
       "1    　　　종로구\n",
       "3    　　　용산구\n",
       "5    　　　광진구\n",
       "6   　　　동대문구\n",
       "7    　　　중랑구\n",
       "8    　　　성북구\n",
       "9    　　　강북구\n",
       "12   　　　은평구\n",
       "13  　　　서대문구\n",
       "14   　　　마포구\n",
       "18   　　　금천구\n",
       "20   　　　동작구\n",
       "21   　　　관악구\n",
       "25   　　　강동구\n",
       "28   　　　장안구\n",
       "30   　　　팔달구\n",
       "33   　　　수정구\n",
       "34   　　　중원구\n",
       "44   　　　안산시\n",
       "45   　　　상록구\n",
       "68   　　　광주시\n",
       "70   　　　포천시\n",
       "71   　　　여주시\n",
       "72   　　　연천군\n",
       "73   　　　가평군\n",
       "74   　　　양평군"
      ]
     },
     "execution_count": 42,
     "metadata": {},
     "output_type": "execute_result"
    }
   ],
   "source": [
    "# 군집0의 서울, 경기 지역\n",
    "sigun5.loc[sigun5['cluster']==0,'sigun':,]"
   ]
  },
  {
   "cell_type": "code",
   "execution_count": 43,
   "metadata": {},
   "outputs": [
    {
     "data": {
      "text/html": [
       "<div>\n",
       "<style scoped>\n",
       "    .dataframe tbody tr th:only-of-type {\n",
       "        vertical-align: middle;\n",
       "    }\n",
       "\n",
       "    .dataframe tbody tr th {\n",
       "        vertical-align: top;\n",
       "    }\n",
       "\n",
       "    .dataframe thead th {\n",
       "        text-align: right;\n",
       "    }\n",
       "</style>\n",
       "<table border=\"1\" class=\"dataframe\">\n",
       "  <thead>\n",
       "    <tr style=\"text-align: right;\">\n",
       "      <th></th>\n",
       "      <th>sigun</th>\n",
       "    </tr>\n",
       "  </thead>\n",
       "  <tbody>\n",
       "    <tr>\n",
       "      <th>11</th>\n",
       "      <td>노원구</td>\n",
       "    </tr>\n",
       "    <tr>\n",
       "      <th>31</th>\n",
       "      <td>영통구</td>\n",
       "    </tr>\n",
       "    <tr>\n",
       "      <th>35</th>\n",
       "      <td>분당구</td>\n",
       "    </tr>\n",
       "    <tr>\n",
       "      <th>36</th>\n",
       "      <td>의정부시</td>\n",
       "    </tr>\n",
       "    <tr>\n",
       "      <th>39</th>\n",
       "      <td>동안구</td>\n",
       "    </tr>\n",
       "    <tr>\n",
       "      <th>41</th>\n",
       "      <td>광명시</td>\n",
       "    </tr>\n",
       "    <tr>\n",
       "      <th>47</th>\n",
       "      <td>고양시</td>\n",
       "    </tr>\n",
       "    <tr>\n",
       "      <th>48</th>\n",
       "      <td>덕양구</td>\n",
       "    </tr>\n",
       "    <tr>\n",
       "      <th>49</th>\n",
       "      <td>일산동구</td>\n",
       "    </tr>\n",
       "    <tr>\n",
       "      <th>50</th>\n",
       "      <td>일산서구</td>\n",
       "    </tr>\n",
       "    <tr>\n",
       "      <th>53</th>\n",
       "      <td>남양주시</td>\n",
       "    </tr>\n",
       "    <tr>\n",
       "      <th>54</th>\n",
       "      <td>오산시</td>\n",
       "    </tr>\n",
       "    <tr>\n",
       "      <th>55</th>\n",
       "      <td>시흥시</td>\n",
       "    </tr>\n",
       "    <tr>\n",
       "      <th>56</th>\n",
       "      <td>군포시</td>\n",
       "    </tr>\n",
       "    <tr>\n",
       "      <th>57</th>\n",
       "      <td>의왕시</td>\n",
       "    </tr>\n",
       "    <tr>\n",
       "      <th>58</th>\n",
       "      <td>하남시</td>\n",
       "    </tr>\n",
       "    <tr>\n",
       "      <th>59</th>\n",
       "      <td>용인시</td>\n",
       "    </tr>\n",
       "    <tr>\n",
       "      <th>61</th>\n",
       "      <td>기흥구</td>\n",
       "    </tr>\n",
       "    <tr>\n",
       "      <th>62</th>\n",
       "      <td>수지구</td>\n",
       "    </tr>\n",
       "    <tr>\n",
       "      <th>63</th>\n",
       "      <td>파주시</td>\n",
       "    </tr>\n",
       "    <tr>\n",
       "      <th>66</th>\n",
       "      <td>김포시</td>\n",
       "    </tr>\n",
       "    <tr>\n",
       "      <th>67</th>\n",
       "      <td>화성시</td>\n",
       "    </tr>\n",
       "    <tr>\n",
       "      <th>69</th>\n",
       "      <td>양주시</td>\n",
       "    </tr>\n",
       "  </tbody>\n",
       "</table>\n",
       "</div>"
      ],
      "text/plain": [
       "      sigun\n",
       "11   　　　노원구\n",
       "31   　　　영통구\n",
       "35   　　　분당구\n",
       "36  　　　의정부시\n",
       "39   　　　동안구\n",
       "41   　　　광명시\n",
       "47   　　　고양시\n",
       "48   　　　덕양구\n",
       "49  　　　일산동구\n",
       "50  　　　일산서구\n",
       "53  　　　남양주시\n",
       "54   　　　오산시\n",
       "55   　　　시흥시\n",
       "56   　　　군포시\n",
       "57   　　　의왕시\n",
       "58   　　　하남시\n",
       "59   　　　용인시\n",
       "61   　　　기흥구\n",
       "62   　　　수지구\n",
       "63   　　　파주시\n",
       "66   　　　김포시\n",
       "67   　　　화성시\n",
       "69   　　　양주시"
      ]
     },
     "execution_count": 43,
     "metadata": {},
     "output_type": "execute_result"
    }
   ],
   "source": [
    "# 군집1의 서울, 경기 지역\n",
    "sigun5.loc[sigun5['cluster']==1,'sigun':,]"
   ]
  },
  {
   "cell_type": "code",
   "execution_count": 44,
   "metadata": {},
   "outputs": [
    {
     "data": {
      "text/html": [
       "<div>\n",
       "<style scoped>\n",
       "    .dataframe tbody tr th:only-of-type {\n",
       "        vertical-align: middle;\n",
       "    }\n",
       "\n",
       "    .dataframe tbody tr th {\n",
       "        vertical-align: top;\n",
       "    }\n",
       "\n",
       "    .dataframe thead th {\n",
       "        text-align: right;\n",
       "    }\n",
       "</style>\n",
       "<table border=\"1\" class=\"dataframe\">\n",
       "  <thead>\n",
       "    <tr style=\"text-align: right;\">\n",
       "      <th></th>\n",
       "      <th>sigun</th>\n",
       "    </tr>\n",
       "  </thead>\n",
       "  <tbody>\n",
       "    <tr>\n",
       "      <th>2</th>\n",
       "      <td>중구</td>\n",
       "    </tr>\n",
       "    <tr>\n",
       "      <th>4</th>\n",
       "      <td>성동구</td>\n",
       "    </tr>\n",
       "    <tr>\n",
       "      <th>10</th>\n",
       "      <td>도봉구</td>\n",
       "    </tr>\n",
       "    <tr>\n",
       "      <th>15</th>\n",
       "      <td>양천구</td>\n",
       "    </tr>\n",
       "    <tr>\n",
       "      <th>16</th>\n",
       "      <td>강서구</td>\n",
       "    </tr>\n",
       "    <tr>\n",
       "      <th>17</th>\n",
       "      <td>구로구</td>\n",
       "    </tr>\n",
       "    <tr>\n",
       "      <th>19</th>\n",
       "      <td>영등포구</td>\n",
       "    </tr>\n",
       "    <tr>\n",
       "      <th>22</th>\n",
       "      <td>서초구</td>\n",
       "    </tr>\n",
       "    <tr>\n",
       "      <th>23</th>\n",
       "      <td>강남구</td>\n",
       "    </tr>\n",
       "    <tr>\n",
       "      <th>24</th>\n",
       "      <td>송파구</td>\n",
       "    </tr>\n",
       "    <tr>\n",
       "      <th>26</th>\n",
       "      <td>경기도</td>\n",
       "    </tr>\n",
       "    <tr>\n",
       "      <th>27</th>\n",
       "      <td>수원시</td>\n",
       "    </tr>\n",
       "    <tr>\n",
       "      <th>29</th>\n",
       "      <td>권선구</td>\n",
       "    </tr>\n",
       "    <tr>\n",
       "      <th>32</th>\n",
       "      <td>성남시</td>\n",
       "    </tr>\n",
       "    <tr>\n",
       "      <th>37</th>\n",
       "      <td>안양시</td>\n",
       "    </tr>\n",
       "    <tr>\n",
       "      <th>38</th>\n",
       "      <td>만안구</td>\n",
       "    </tr>\n",
       "    <tr>\n",
       "      <th>40</th>\n",
       "      <td>부천시</td>\n",
       "    </tr>\n",
       "    <tr>\n",
       "      <th>42</th>\n",
       "      <td>평택시</td>\n",
       "    </tr>\n",
       "    <tr>\n",
       "      <th>43</th>\n",
       "      <td>동두천시</td>\n",
       "    </tr>\n",
       "    <tr>\n",
       "      <th>46</th>\n",
       "      <td>단원구</td>\n",
       "    </tr>\n",
       "    <tr>\n",
       "      <th>51</th>\n",
       "      <td>과천시</td>\n",
       "    </tr>\n",
       "    <tr>\n",
       "      <th>52</th>\n",
       "      <td>구리시</td>\n",
       "    </tr>\n",
       "    <tr>\n",
       "      <th>60</th>\n",
       "      <td>처인구</td>\n",
       "    </tr>\n",
       "    <tr>\n",
       "      <th>64</th>\n",
       "      <td>이천시</td>\n",
       "    </tr>\n",
       "    <tr>\n",
       "      <th>65</th>\n",
       "      <td>안성시</td>\n",
       "    </tr>\n",
       "  </tbody>\n",
       "</table>\n",
       "</div>"
      ],
      "text/plain": [
       "      sigun\n",
       "2     　　　중구\n",
       "4    　　　성동구\n",
       "10   　　　도봉구\n",
       "15   　　　양천구\n",
       "16   　　　강서구\n",
       "17   　　　구로구\n",
       "19  　　　영등포구\n",
       "22   　　　서초구\n",
       "23   　　　강남구\n",
       "24   　　　송파구\n",
       "26      경기도\n",
       "27   　　　수원시\n",
       "29   　　　권선구\n",
       "32   　　　성남시\n",
       "37   　　　안양시\n",
       "38   　　　만안구\n",
       "40   　　　부천시\n",
       "42   　　　평택시\n",
       "43  　　　동두천시\n",
       "46   　　　단원구\n",
       "51   　　　과천시\n",
       "52   　　　구리시\n",
       "60   　　　처인구\n",
       "64   　　　이천시\n",
       "65   　　　안성시"
      ]
     },
     "execution_count": 44,
     "metadata": {},
     "output_type": "execute_result"
    }
   ],
   "source": [
    "# 군집2의 서울, 경기 지역\n",
    "sigun5.loc[sigun5['cluster']==2,'sigun':,]"
   ]
  },
  {
   "cell_type": "code",
   "execution_count": 45,
   "metadata": {},
   "outputs": [
    {
     "data": {
      "text/plain": [
       "Text(0.5113, 0.2414, '고양시')"
      ]
     },
     "execution_count": 45,
     "metadata": {},
     "output_type": "execute_result"
    },
    {
     "data": {
      "image/png": "[encoded data removed]",
      "text/plain": [
       "<Figure size 401.5x360 with 1 Axes>"
      ]
     },
     "metadata": {
      "needs_background": "light"
     },
     "output_type": "display_data"
    }
   ],
   "source": [
    "# 아파트 비율과 1인가구 비율에 따른 서울,경기 시군구의 분포\n",
    "sns.lmplot('all_aptra','all_onera',data=sigun5, fit_reg = False, scatter_kws={\"s\":200},hue=\"cluster\")\n",
    "plt.title('군집으로 나눈 아파트비율과 1인가구비율 분포')\n",
    "plt.text(0.4988,0.2780,'시흥시')\n",
    "plt.text(0.3577,0.3199,'강남구')\n",
    "plt.text(0.328,0.3003,'수원시')\n",
    "plt.text(0.3093,0.2992,'성남시')\n",
    "plt.text(0.4736,0.2631,'의정부시')\n",
    "plt.text(0.4256,0.2289,'안양시')\n",
    "plt.text(0.34,0.2572,'부천시')\n",
    "plt.text(0.4756,0.2316,'광명시')\n",
    "plt.text(0.3792,0.4051,'중구')\n",
    "plt.text(0.2391,0.392,'동대문구')\n",
    "plt.text(0.4224,0.3102,'평택시')\n",
    "plt.text(0.2467,0.3777,'마포구')\n",
    "plt.text(0.5113,0.2414,'고양시')\n",
    "# 군집1. 아파트비율이 10~20% 사이면서 1인가구 비율이 25%~ 40% 사이 집단\n",
    "# 군집2. 아파트비율이 20~40% 사이면서 1인가구 비율이 20%~ 35% 사이 집단\n",
    "# 군집3. 아파트비율이 40~60% 사이면서 1인가구 비율이 20%~ 30% 사이 집단 으로 나누어짐"
   ]
  },
  {
   "cell_type": "markdown",
   "metadata": {},
   "source": [
    "# 나름 의미있는 세 집단으로 분류되었으며, 분류된 특성에 따라 배달을 시켜먹는 음식의 차이등이 있을것으로 판단되어"
   ]
  },
  {
   "cell_type": "markdown",
   "metadata": {},
   "source": [
    "# 1인가구 아파트 비율로 구한 군집 데이터 + 배달 데이터 MERGE"
   ]
  },
  {
   "cell_type": "code",
   "execution_count": 71,
   "metadata": {},
   "outputs": [
    {
     "data": {
      "text/html": [
       "<div>\n",
       "<style scoped>\n",
       "    .dataframe tbody tr th:only-of-type {\n",
       "        vertical-align: middle;\n",
       "    }\n",
       "\n",
       "    .dataframe tbody tr th {\n",
       "        vertical-align: top;\n",
       "    }\n",
       "\n",
       "    .dataframe thead th {\n",
       "        text-align: right;\n",
       "    }\n",
       "</style>\n",
       "<table border=\"1\" class=\"dataframe\">\n",
       "  <thead>\n",
       "    <tr style=\"text-align: right;\">\n",
       "      <th></th>\n",
       "      <th>gu_name</th>\n",
       "      <th>all_aptra</th>\n",
       "      <th>men_aptra</th>\n",
       "      <th>wo_aptra</th>\n",
       "      <th>all_onera</th>\n",
       "      <th>men_onera</th>\n",
       "      <th>wo_onera</th>\n",
       "      <th>cluster</th>\n",
       "    </tr>\n",
       "  </thead>\n",
       "  <tbody>\n",
       "    <tr>\n",
       "      <th>0</th>\n",
       "      <td>서울특별시</td>\n",
       "      <td>0.2605</td>\n",
       "      <td>0.2141</td>\n",
       "      <td>0.3005</td>\n",
       "      <td>0.3336</td>\n",
       "      <td>0.2417</td>\n",
       "      <td>0.5038</td>\n",
       "      <td>1</td>\n",
       "    </tr>\n",
       "    <tr>\n",
       "      <th>1</th>\n",
       "      <td>종로구</td>\n",
       "      <td>0.1667</td>\n",
       "      <td>0.1514</td>\n",
       "      <td>0.1799</td>\n",
       "      <td>0.3938</td>\n",
       "      <td>0.3036</td>\n",
       "      <td>0.5460</td>\n",
       "      <td>1</td>\n",
       "    </tr>\n",
       "    <tr>\n",
       "      <th>2</th>\n",
       "      <td>중구</td>\n",
       "      <td>0.3792</td>\n",
       "      <td>0.3412</td>\n",
       "      <td>0.4117</td>\n",
       "      <td>0.4051</td>\n",
       "      <td>0.3170</td>\n",
       "      <td>0.5477</td>\n",
       "      <td>2</td>\n",
       "    </tr>\n",
       "    <tr>\n",
       "      <th>3</th>\n",
       "      <td>용산구</td>\n",
       "      <td>0.2036</td>\n",
       "      <td>0.1706</td>\n",
       "      <td>0.2304</td>\n",
       "      <td>0.3772</td>\n",
       "      <td>0.2804</td>\n",
       "      <td>0.5354</td>\n",
       "      <td>1</td>\n",
       "    </tr>\n",
       "    <tr>\n",
       "      <th>4</th>\n",
       "      <td>성동구</td>\n",
       "      <td>0.3335</td>\n",
       "      <td>0.2594</td>\n",
       "      <td>0.4045</td>\n",
       "      <td>0.3379</td>\n",
       "      <td>0.2549</td>\n",
       "      <td>0.4963</td>\n",
       "      <td>2</td>\n",
       "    </tr>\n",
       "    <tr>\n",
       "      <th>...</th>\n",
       "      <td>...</td>\n",
       "      <td>...</td>\n",
       "      <td>...</td>\n",
       "      <td>...</td>\n",
       "      <td>...</td>\n",
       "      <td>...</td>\n",
       "      <td>...</td>\n",
       "      <td>...</td>\n",
       "    </tr>\n",
       "    <tr>\n",
       "      <th>70</th>\n",
       "      <td>포천시</td>\n",
       "      <td>0.2412</td>\n",
       "      <td>0.2325</td>\n",
       "      <td>0.2512</td>\n",
       "      <td>0.3087</td>\n",
       "      <td>0.2445</td>\n",
       "      <td>0.4719</td>\n",
       "      <td>1</td>\n",
       "    </tr>\n",
       "    <tr>\n",
       "      <th>71</th>\n",
       "      <td>여주시</td>\n",
       "      <td>0.2276</td>\n",
       "      <td>0.2040</td>\n",
       "      <td>0.2513</td>\n",
       "      <td>0.2905</td>\n",
       "      <td>0.2104</td>\n",
       "      <td>0.4852</td>\n",
       "      <td>1</td>\n",
       "    </tr>\n",
       "    <tr>\n",
       "      <th>72</th>\n",
       "      <td>연천군</td>\n",
       "      <td>0.2413</td>\n",
       "      <td>0.3126</td>\n",
       "      <td>0.1595</td>\n",
       "      <td>0.3294</td>\n",
       "      <td>0.2512</td>\n",
       "      <td>0.5267</td>\n",
       "      <td>1</td>\n",
       "    </tr>\n",
       "    <tr>\n",
       "      <th>73</th>\n",
       "      <td>가평군</td>\n",
       "      <td>0.1510</td>\n",
       "      <td>0.1494</td>\n",
       "      <td>0.1525</td>\n",
       "      <td>0.3380</td>\n",
       "      <td>0.2453</td>\n",
       "      <td>0.5423</td>\n",
       "      <td>1</td>\n",
       "    </tr>\n",
       "    <tr>\n",
       "      <th>74</th>\n",
       "      <td>양평군</td>\n",
       "      <td>0.0841</td>\n",
       "      <td>0.0828</td>\n",
       "      <td>0.0853</td>\n",
       "      <td>0.3084</td>\n",
       "      <td>0.2156</td>\n",
       "      <td>0.5160</td>\n",
       "      <td>1</td>\n",
       "    </tr>\n",
       "  </tbody>\n",
       "</table>\n",
       "<p>75 rows × 8 columns</p>\n",
       "</div>"
      ],
      "text/plain": [
       "   gu_name  all_aptra  men_aptra  wo_aptra  all_onera  men_onera  wo_onera  \\\n",
       "0    서울특별시     0.2605     0.2141    0.3005     0.3336     0.2417    0.5038   \n",
       "1   　　　종로구     0.1667     0.1514    0.1799     0.3938     0.3036    0.5460   \n",
       "2    　　　중구     0.3792     0.3412    0.4117     0.4051     0.3170    0.5477   \n",
       "3   　　　용산구     0.2036     0.1706    0.2304     0.3772     0.2804    0.5354   \n",
       "4   　　　성동구     0.3335     0.2594    0.4045     0.3379     0.2549    0.4963   \n",
       "..     ...        ...        ...       ...        ...        ...       ...   \n",
       "70  　　　포천시     0.2412     0.2325    0.2512     0.3087     0.2445    0.4719   \n",
       "71  　　　여주시     0.2276     0.2040    0.2513     0.2905     0.2104    0.4852   \n",
       "72  　　　연천군     0.2413     0.3126    0.1595     0.3294     0.2512    0.5267   \n",
       "73  　　　가평군     0.1510     0.1494    0.1525     0.3380     0.2453    0.5423   \n",
       "74  　　　양평군     0.0841     0.0828    0.0853     0.3084     0.2156    0.5160   \n",
       "\n",
       "    cluster  \n",
       "0         1  \n",
       "1         1  \n",
       "2         2  \n",
       "3         1  \n",
       "4         2  \n",
       "..      ...  \n",
       "70        1  \n",
       "71        1  \n",
       "72        1  \n",
       "73        1  \n",
       "74        1  \n",
       "\n",
       "[75 rows x 8 columns]"
      ]
     },
     "execution_count": 71,
     "metadata": {},
     "output_type": "execute_result"
    }
   ],
   "source": [
    "# 우선 merge를 위해 변수명 변경\n",
    "sigun5 = sigun5.rename({'sigun':'gu_name'}, axis='columns')\n",
    "sigun5['gu_name'] = sigun5['gu_name'].astype(str)\n",
    "sigun5"
   ]
  },
  {
   "cell_type": "code",
   "execution_count": 70,
   "metadata": {},
   "outputs": [
    {
     "data": {
      "text/html": [
       "<div>\n",
       "<style scoped>\n",
       "    .dataframe tbody tr th:only-of-type {\n",
       "        vertical-align: middle;\n",
       "    }\n",
       "\n",
       "    .dataframe tbody tr th {\n",
       "        vertical-align: top;\n",
       "    }\n",
       "\n",
       "    .dataframe thead th {\n",
       "        text-align: right;\n",
       "    }\n",
       "</style>\n",
       "<table border=\"1\" class=\"dataframe\">\n",
       "  <thead>\n",
       "    <tr style=\"text-align: right;\">\n",
       "      <th></th>\n",
       "      <th>gu_name</th>\n",
       "      <th>count</th>\n",
       "    </tr>\n",
       "  </thead>\n",
       "  <tbody>\n",
       "    <tr>\n",
       "      <th>0</th>\n",
       "      <td>가평군</td>\n",
       "      <td>1</td>\n",
       "    </tr>\n",
       "    <tr>\n",
       "      <th>1</th>\n",
       "      <td>강동구</td>\n",
       "      <td>6</td>\n",
       "    </tr>\n",
       "    <tr>\n",
       "      <th>2</th>\n",
       "      <td>강북구</td>\n",
       "      <td>1894</td>\n",
       "    </tr>\n",
       "    <tr>\n",
       "      <th>3</th>\n",
       "      <td>강서구</td>\n",
       "      <td>920</td>\n",
       "    </tr>\n",
       "    <tr>\n",
       "      <th>4</th>\n",
       "      <td>고양시 덕양구</td>\n",
       "      <td>215928</td>\n",
       "    </tr>\n",
       "  </tbody>\n",
       "</table>\n",
       "</div>"
      ],
      "text/plain": [
       "   gu_name   count\n",
       "0      가평군       1\n",
       "1      강동구       6\n",
       "2      강북구    1894\n",
       "3      강서구     920\n",
       "4  고양시 덕양구  215928"
      ]
     },
     "execution_count": 70,
     "metadata": {},
     "output_type": "execute_result"
    }
   ],
   "source": [
    "# 경기도와 서울특별시의 시군구별 주문한 업종 카운트\n",
    "ss = sudo.groupby(['gu_name']).size().reset_index(name='count')\n",
    "ss['gu_name'] = ss['gu_name'].astype(str)\n",
    "ss.head()"
   ]
  },
  {
   "cell_type": "code",
   "execution_count": 73,
   "metadata": {},
   "outputs": [
    {
     "data": {
      "text/html": [
       "<div>\n",
       "<style scoped>\n",
       "    .dataframe tbody tr th:only-of-type {\n",
       "        vertical-align: middle;\n",
       "    }\n",
       "\n",
       "    .dataframe tbody tr th {\n",
       "        vertical-align: top;\n",
       "    }\n",
       "\n",
       "    .dataframe thead th {\n",
       "        text-align: right;\n",
       "    }\n",
       "</style>\n",
       "<table border=\"1\" class=\"dataframe\">\n",
       "  <thead>\n",
       "    <tr style=\"text-align: right;\">\n",
       "      <th></th>\n",
       "      <th>gu_name</th>\n",
       "      <th>count</th>\n",
       "      <th>all_aptra</th>\n",
       "      <th>men_aptra</th>\n",
       "      <th>wo_aptra</th>\n",
       "      <th>all_onera</th>\n",
       "      <th>men_onera</th>\n",
       "      <th>wo_onera</th>\n",
       "      <th>cluster</th>\n",
       "    </tr>\n",
       "  </thead>\n",
       "  <tbody>\n",
       "    <tr>\n",
       "      <th>0</th>\n",
       "      <td>가평군</td>\n",
       "      <td>1.0</td>\n",
       "      <td>NaN</td>\n",
       "      <td>NaN</td>\n",
       "      <td>NaN</td>\n",
       "      <td>NaN</td>\n",
       "      <td>NaN</td>\n",
       "      <td>NaN</td>\n",
       "      <td>NaN</td>\n",
       "    </tr>\n",
       "    <tr>\n",
       "      <th>1</th>\n",
       "      <td>강동구</td>\n",
       "      <td>6.0</td>\n",
       "      <td>NaN</td>\n",
       "      <td>NaN</td>\n",
       "      <td>NaN</td>\n",
       "      <td>NaN</td>\n",
       "      <td>NaN</td>\n",
       "      <td>NaN</td>\n",
       "      <td>NaN</td>\n",
       "    </tr>\n",
       "    <tr>\n",
       "      <th>2</th>\n",
       "      <td>강북구</td>\n",
       "      <td>1894.0</td>\n",
       "      <td>NaN</td>\n",
       "      <td>NaN</td>\n",
       "      <td>NaN</td>\n",
       "      <td>NaN</td>\n",
       "      <td>NaN</td>\n",
       "      <td>NaN</td>\n",
       "      <td>NaN</td>\n",
       "    </tr>\n",
       "    <tr>\n",
       "      <th>3</th>\n",
       "      <td>강서구</td>\n",
       "      <td>920.0</td>\n",
       "      <td>NaN</td>\n",
       "      <td>NaN</td>\n",
       "      <td>NaN</td>\n",
       "      <td>NaN</td>\n",
       "      <td>NaN</td>\n",
       "      <td>NaN</td>\n",
       "      <td>NaN</td>\n",
       "    </tr>\n",
       "    <tr>\n",
       "      <th>4</th>\n",
       "      <td>고양시 덕양구</td>\n",
       "      <td>215928.0</td>\n",
       "      <td>NaN</td>\n",
       "      <td>NaN</td>\n",
       "      <td>NaN</td>\n",
       "      <td>NaN</td>\n",
       "      <td>NaN</td>\n",
       "      <td>NaN</td>\n",
       "      <td>NaN</td>\n",
       "    </tr>\n",
       "    <tr>\n",
       "      <th>...</th>\n",
       "      <td>...</td>\n",
       "      <td>...</td>\n",
       "      <td>...</td>\n",
       "      <td>...</td>\n",
       "      <td>...</td>\n",
       "      <td>...</td>\n",
       "      <td>...</td>\n",
       "      <td>...</td>\n",
       "      <td>...</td>\n",
       "    </tr>\n",
       "    <tr>\n",
       "      <th>131</th>\n",
       "      <td>포천시</td>\n",
       "      <td>NaN</td>\n",
       "      <td>0.2412</td>\n",
       "      <td>0.2325</td>\n",
       "      <td>0.2512</td>\n",
       "      <td>0.3087</td>\n",
       "      <td>0.2445</td>\n",
       "      <td>0.4719</td>\n",
       "      <td>1.0</td>\n",
       "    </tr>\n",
       "    <tr>\n",
       "      <th>132</th>\n",
       "      <td>여주시</td>\n",
       "      <td>NaN</td>\n",
       "      <td>0.2276</td>\n",
       "      <td>0.2040</td>\n",
       "      <td>0.2513</td>\n",
       "      <td>0.2905</td>\n",
       "      <td>0.2104</td>\n",
       "      <td>0.4852</td>\n",
       "      <td>1.0</td>\n",
       "    </tr>\n",
       "    <tr>\n",
       "      <th>133</th>\n",
       "      <td>연천군</td>\n",
       "      <td>NaN</td>\n",
       "      <td>0.2413</td>\n",
       "      <td>0.3126</td>\n",
       "      <td>0.1595</td>\n",
       "      <td>0.3294</td>\n",
       "      <td>0.2512</td>\n",
       "      <td>0.5267</td>\n",
       "      <td>1.0</td>\n",
       "    </tr>\n",
       "    <tr>\n",
       "      <th>134</th>\n",
       "      <td>가평군</td>\n",
       "      <td>NaN</td>\n",
       "      <td>0.1510</td>\n",
       "      <td>0.1494</td>\n",
       "      <td>0.1525</td>\n",
       "      <td>0.3380</td>\n",
       "      <td>0.2453</td>\n",
       "      <td>0.5423</td>\n",
       "      <td>1.0</td>\n",
       "    </tr>\n",
       "    <tr>\n",
       "      <th>135</th>\n",
       "      <td>양평군</td>\n",
       "      <td>NaN</td>\n",
       "      <td>0.0841</td>\n",
       "      <td>0.0828</td>\n",
       "      <td>0.0853</td>\n",
       "      <td>0.3084</td>\n",
       "      <td>0.2156</td>\n",
       "      <td>0.5160</td>\n",
       "      <td>1.0</td>\n",
       "    </tr>\n",
       "  </tbody>\n",
       "</table>\n",
       "<p>136 rows × 9 columns</p>\n",
       "</div>"
      ],
      "text/plain": [
       "     gu_name     count  all_aptra  men_aptra  wo_aptra  all_onera  men_onera  \\\n",
       "0        가평군       1.0        NaN        NaN       NaN        NaN        NaN   \n",
       "1        강동구       6.0        NaN        NaN       NaN        NaN        NaN   \n",
       "2        강북구    1894.0        NaN        NaN       NaN        NaN        NaN   \n",
       "3        강서구     920.0        NaN        NaN       NaN        NaN        NaN   \n",
       "4    고양시 덕양구  215928.0        NaN        NaN       NaN        NaN        NaN   \n",
       "..       ...       ...        ...        ...       ...        ...        ...   \n",
       "131   　　　포천시       NaN     0.2412     0.2325    0.2512     0.3087     0.2445   \n",
       "132   　　　여주시       NaN     0.2276     0.2040    0.2513     0.2905     0.2104   \n",
       "133   　　　연천군       NaN     0.2413     0.3126    0.1595     0.3294     0.2512   \n",
       "134   　　　가평군       NaN     0.1510     0.1494    0.1525     0.3380     0.2453   \n",
       "135   　　　양평군       NaN     0.0841     0.0828    0.0853     0.3084     0.2156   \n",
       "\n",
       "     wo_onera  cluster  \n",
       "0         NaN      NaN  \n",
       "1         NaN      NaN  \n",
       "2         NaN      NaN  \n",
       "3         NaN      NaN  \n",
       "4         NaN      NaN  \n",
       "..        ...      ...  \n",
       "131    0.4719      1.0  \n",
       "132    0.4852      1.0  \n",
       "133    0.5267      1.0  \n",
       "134    0.5423      1.0  \n",
       "135    0.5160      1.0  \n",
       "\n",
       "[136 rows x 9 columns]"
      ]
     },
     "execution_count": 73,
     "metadata": {},
     "output_type": "execute_result"
    }
   ],
   "source": [
    "sigun6 = pd.merge(ss, sigun5, how='outer',on='gu_name')\n",
    "sigun6"
   ]
  },
  {
   "cell_type": "markdown",
   "metadata": {},
   "source": [
    "# merge 가 제대로 이루어지지 않아 데이터 연계 분석을 하지못했다."
   ]
  },
  {
   "cell_type": "markdown",
   "metadata": {},
   "source": [
    "# COVID 확진자수 사망자수 날짜별\n",
    "\n",
    "# 코로나 확진자수에 따라 배달건수가 증가할까?"
   ]
  },
  {
   "cell_type": "code",
   "execution_count": null,
   "metadata": {},
   "outputs": [],
   "source": [
    "# 지역별 코로나 확진자료를 구하지 못하여 전체 코로나 일별 확진자 데이터\n",
    "# 통계청에서 가져와 날짜 별로 연계하였음.\n",
    "# 확진자 증가에 따른 배달건수 증가가 어느정도 연관성이 있는지 확인하기위해"
   ]
  },
  {
   "cell_type": "code",
   "execution_count": 74,
   "metadata": {},
   "outputs": [
    {
     "data": {
      "text/html": [
       "<div>\n",
       "<style scoped>\n",
       "    .dataframe tbody tr th:only-of-type {\n",
       "        vertical-align: middle;\n",
       "    }\n",
       "\n",
       "    .dataframe tbody tr th {\n",
       "        vertical-align: top;\n",
       "    }\n",
       "\n",
       "    .dataframe thead th {\n",
       "        text-align: right;\n",
       "    }\n",
       "</style>\n",
       "<table border=\"1\" class=\"dataframe\">\n",
       "  <thead>\n",
       "    <tr style=\"text-align: right;\">\n",
       "      <th></th>\n",
       "      <th>datetime</th>\n",
       "      <th>conf</th>\n",
       "      <th>death</th>\n",
       "    </tr>\n",
       "  </thead>\n",
       "  <tbody>\n",
       "    <tr>\n",
       "      <th>0</th>\n",
       "      <td>2020. 02. 04</td>\n",
       "      <td>18</td>\n",
       "      <td>0</td>\n",
       "    </tr>\n",
       "    <tr>\n",
       "      <th>1</th>\n",
       "      <td>2020. 02. 05</td>\n",
       "      <td>1</td>\n",
       "      <td>0</td>\n",
       "    </tr>\n",
       "    <tr>\n",
       "      <th>2</th>\n",
       "      <td>2020. 02. 06</td>\n",
       "      <td>4</td>\n",
       "      <td>0</td>\n",
       "    </tr>\n",
       "    <tr>\n",
       "      <th>3</th>\n",
       "      <td>2020. 02. 07</td>\n",
       "      <td>1</td>\n",
       "      <td>0</td>\n",
       "    </tr>\n",
       "    <tr>\n",
       "      <th>4</th>\n",
       "      <td>2020. 02. 08</td>\n",
       "      <td>0</td>\n",
       "      <td>0</td>\n",
       "    </tr>\n",
       "  </tbody>\n",
       "</table>\n",
       "</div>"
      ],
      "text/plain": [
       "       datetime  conf  death\n",
       "0  2020. 02. 04    18      0\n",
       "1  2020. 02. 05     1      0\n",
       "2  2020. 02. 06     4      0\n",
       "3  2020. 02. 07     1      0\n",
       "4  2020. 02. 08     0      0"
      ]
     },
     "execution_count": 74,
     "metadata": {},
     "output_type": "execute_result"
    }
   ],
   "source": [
    "covid_conf=pd.read_excel('../data/covid_conf.xlsx',sheet_name=0)\n",
    "\n",
    "covid_conf.head()"
   ]
  },
  {
   "cell_type": "code",
   "execution_count": 75,
   "metadata": {},
   "outputs": [
    {
     "data": {
      "text/html": [
       "<div>\n",
       "<style scoped>\n",
       "    .dataframe tbody tr th:only-of-type {\n",
       "        vertical-align: middle;\n",
       "    }\n",
       "\n",
       "    .dataframe tbody tr th {\n",
       "        vertical-align: top;\n",
       "    }\n",
       "\n",
       "    .dataframe thead th {\n",
       "        text-align: right;\n",
       "    }\n",
       "</style>\n",
       "<table border=\"1\" class=\"dataframe\">\n",
       "  <thead>\n",
       "    <tr style=\"text-align: right;\">\n",
       "      <th></th>\n",
       "      <th>datetime</th>\n",
       "      <th>conf</th>\n",
       "      <th>death</th>\n",
       "      <th>PROCESS_DT</th>\n",
       "    </tr>\n",
       "  </thead>\n",
       "  <tbody>\n",
       "    <tr>\n",
       "      <th>0</th>\n",
       "      <td>2020. 02. 04</td>\n",
       "      <td>18</td>\n",
       "      <td>0</td>\n",
       "      <td>2020-02-04</td>\n",
       "    </tr>\n",
       "    <tr>\n",
       "      <th>1</th>\n",
       "      <td>2020. 02. 05</td>\n",
       "      <td>1</td>\n",
       "      <td>0</td>\n",
       "      <td>2020-02-05</td>\n",
       "    </tr>\n",
       "    <tr>\n",
       "      <th>2</th>\n",
       "      <td>2020. 02. 06</td>\n",
       "      <td>4</td>\n",
       "      <td>0</td>\n",
       "      <td>2020-02-06</td>\n",
       "    </tr>\n",
       "    <tr>\n",
       "      <th>3</th>\n",
       "      <td>2020. 02. 07</td>\n",
       "      <td>1</td>\n",
       "      <td>0</td>\n",
       "      <td>2020-02-07</td>\n",
       "    </tr>\n",
       "    <tr>\n",
       "      <th>4</th>\n",
       "      <td>2020. 02. 08</td>\n",
       "      <td>0</td>\n",
       "      <td>0</td>\n",
       "      <td>2020-02-08</td>\n",
       "    </tr>\n",
       "  </tbody>\n",
       "</table>\n",
       "</div>"
      ],
      "text/plain": [
       "       datetime  conf  death PROCESS_DT\n",
       "0  2020. 02. 04    18      0 2020-02-04\n",
       "1  2020. 02. 05     1      0 2020-02-05\n",
       "2  2020. 02. 06     4      0 2020-02-06\n",
       "3  2020. 02. 07     1      0 2020-02-07\n",
       "4  2020. 02. 08     0      0 2020-02-08"
      ]
     },
     "execution_count": 75,
     "metadata": {},
     "output_type": "execute_result"
    }
   ],
   "source": [
    "# 만들어준 deliverycount 열의 PROCESS_DT 열의 형식이 문자열로 되어있어 datetime으로 변경해줌\n",
    "covid_conf['PROCESS_DT'] = pd.to_datetime(covid_conf['datetime'], format='%Y. %m. %d')\n",
    "\n",
    "covid_conf.head()"
   ]
  },
  {
   "cell_type": "code",
   "execution_count": 76,
   "metadata": {},
   "outputs": [
    {
     "data": {
      "text/html": [
       "<div>\n",
       "<style scoped>\n",
       "    .dataframe tbody tr th:only-of-type {\n",
       "        vertical-align: middle;\n",
       "    }\n",
       "\n",
       "    .dataframe tbody tr th {\n",
       "        vertical-align: top;\n",
       "    }\n",
       "\n",
       "    .dataframe thead th {\n",
       "        text-align: right;\n",
       "    }\n",
       "</style>\n",
       "<table border=\"1\" class=\"dataframe\">\n",
       "  <thead>\n",
       "    <tr style=\"text-align: right;\">\n",
       "      <th></th>\n",
       "      <th>conf</th>\n",
       "      <th>death</th>\n",
       "      <th>PROCESS_DT</th>\n",
       "    </tr>\n",
       "  </thead>\n",
       "  <tbody>\n",
       "    <tr>\n",
       "      <th>0</th>\n",
       "      <td>18</td>\n",
       "      <td>0</td>\n",
       "      <td>2020-02-04</td>\n",
       "    </tr>\n",
       "    <tr>\n",
       "      <th>1</th>\n",
       "      <td>1</td>\n",
       "      <td>0</td>\n",
       "      <td>2020-02-05</td>\n",
       "    </tr>\n",
       "    <tr>\n",
       "      <th>2</th>\n",
       "      <td>4</td>\n",
       "      <td>0</td>\n",
       "      <td>2020-02-06</td>\n",
       "    </tr>\n",
       "    <tr>\n",
       "      <th>3</th>\n",
       "      <td>1</td>\n",
       "      <td>0</td>\n",
       "      <td>2020-02-07</td>\n",
       "    </tr>\n",
       "    <tr>\n",
       "      <th>4</th>\n",
       "      <td>0</td>\n",
       "      <td>0</td>\n",
       "      <td>2020-02-08</td>\n",
       "    </tr>\n",
       "  </tbody>\n",
       "</table>\n",
       "</div>"
      ],
      "text/plain": [
       "   conf  death PROCESS_DT\n",
       "0    18      0 2020-02-04\n",
       "1     1      0 2020-02-05\n",
       "2     4      0 2020-02-06\n",
       "3     1      0 2020-02-07\n",
       "4     0      0 2020-02-08"
      ]
     },
     "execution_count": 76,
     "metadata": {},
     "output_type": "execute_result"
    }
   ],
   "source": [
    "# 기존 날짜 삭제\n",
    "covid_conf.drop(['datetime'], axis='columns', inplace=True)        \n",
    "covid_conf.head()"
   ]
  },
  {
   "cell_type": "markdown",
   "metadata": {},
   "source": [
    "# 데이터 결합 (Merge)"
   ]
  },
  {
   "cell_type": "code",
   "execution_count": 83,
   "metadata": {},
   "outputs": [
    {
     "data": {
      "text/html": [
       "<div>\n",
       "<style scoped>\n",
       "    .dataframe tbody tr th:only-of-type {\n",
       "        vertical-align: middle;\n",
       "    }\n",
       "\n",
       "    .dataframe tbody tr th {\n",
       "        vertical-align: top;\n",
       "    }\n",
       "\n",
       "    .dataframe thead th {\n",
       "        text-align: right;\n",
       "    }\n",
       "</style>\n",
       "<table border=\"1\" class=\"dataframe\">\n",
       "  <thead>\n",
       "    <tr style=\"text-align: right;\">\n",
       "      <th></th>\n",
       "      <th>PROCESS_DT</th>\n",
       "      <th>induty_nm</th>\n",
       "      <th>count</th>\n",
       "      <th>conf</th>\n",
       "      <th>death</th>\n",
       "    </tr>\n",
       "  </thead>\n",
       "  <tbody>\n",
       "    <tr>\n",
       "      <th>0</th>\n",
       "      <td>2020-02-04</td>\n",
       "      <td>도시락</td>\n",
       "      <td>300</td>\n",
       "      <td>18</td>\n",
       "      <td>0</td>\n",
       "    </tr>\n",
       "    <tr>\n",
       "      <th>1</th>\n",
       "      <td>2020-02-04</td>\n",
       "      <td>돈까스/일식</td>\n",
       "      <td>1433</td>\n",
       "      <td>18</td>\n",
       "      <td>0</td>\n",
       "    </tr>\n",
       "    <tr>\n",
       "      <th>2</th>\n",
       "      <td>2020-02-04</td>\n",
       "      <td>배달전문업체</td>\n",
       "      <td>464</td>\n",
       "      <td>18</td>\n",
       "      <td>0</td>\n",
       "    </tr>\n",
       "    <tr>\n",
       "      <th>3</th>\n",
       "      <td>2020-02-04</td>\n",
       "      <td>분식</td>\n",
       "      <td>3932</td>\n",
       "      <td>18</td>\n",
       "      <td>0</td>\n",
       "    </tr>\n",
       "    <tr>\n",
       "      <th>4</th>\n",
       "      <td>2020-02-04</td>\n",
       "      <td>심부름</td>\n",
       "      <td>38</td>\n",
       "      <td>18</td>\n",
       "      <td>0</td>\n",
       "    </tr>\n",
       "  </tbody>\n",
       "</table>\n",
       "</div>"
      ],
      "text/plain": [
       "  PROCESS_DT induty_nm  count  conf  death\n",
       "0 2020-02-04       도시락    300    18      0\n",
       "1 2020-02-04    돈까스/일식   1433    18      0\n",
       "2 2020-02-04    배달전문업체    464    18      0\n",
       "3 2020-02-04        분식   3932    18      0\n",
       "4 2020-02-04       심부름     38    18      0"
      ]
     },
     "execution_count": 83,
     "metadata": {},
     "output_type": "execute_result"
    }
   ],
   "source": [
    "# 날짜를 기준으로 확진자수(사망자수)와 배달데이터 합쳐주기 \n",
    "# 확진자수가 증가함에 따라 배달 건수가 증가하는지 여부를 확인해주기 위해 \n",
    "# 6월 21일까지의 데이터만 합쳐졌음.\n",
    "merge_inner = pd.merge(deliverycount, covid_conf)\n",
    "merge_inner.head()"
   ]
  },
  {
   "cell_type": "code",
   "execution_count": 80,
   "metadata": {},
   "outputs": [
    {
     "data": {
      "application/vnd.plotly.v1+json": {
       "config": {
        "plotlyServerURL": "https://plot.ly"
       },
       "data": [
        {
         "hovertemplate": "PROCESS_DT=%{x}<br>count=%{y}<extra></extra>",
         "legendgroup": "",
         "line": {
          "color": "#636efa",
          "dash": "solid"
         },
         "mode": "lines",
         "name": "",
         "showlegend": false,
         "type": "scattergl",
         "x": [
          "2020-02-04T00:00:00",
          "2020-02-04T00:00:00",
          "2020-02-04T00:00:00",
          "2020-02-04T00:00:00",
          "2020-02-04T00:00:00",
          "2020-02-04T00:00:00",
          "2020-02-04T00:00:00",
          "2020-02-04T00:00:00",
          "2020-02-04T00:00:00",
          "2020-02-04T00:00:00",
          "2020-02-04T00:00:00",
          "2020-02-04T00:00:00",
          "2020-02-04T00:00:00",
          "2020-02-04T00:00:00",
          "2020-02-04T00:00:00",
          "2020-02-04T00:00:00",
          "2020-02-05T00:00:00",
          "2020-02-05T00:00:00",
          "2020-02-05T00:00:00",
          "2020-02-05T00:00:00",
          "2020-02-05T00:00:00",
          "2020-02-05T00:00:00",
          "2020-02-05T00:00:00",
          "2020-02-05T00:00:00",
          "2020-02-05T00:00:00",
          "2020-02-05T00:00:00",
          "2020-02-05T00:00:00",
          "2020-02-05T00:00:00",
          "2020-02-05T00:00:00",
          "2020-02-05T00:00:00",
          "2020-02-05T00:00:00",
          "2020-02-05T00:00:00",
          "2020-02-06T00:00:00",
          "2020-02-06T00:00:00",
          "2020-02-06T00:00:00",
          "2020-02-06T00:00:00",
          "2020-02-06T00:00:00",
          "2020-02-06T00:00:00",
          "2020-02-06T00:00:00",
          "2020-02-06T00:00:00",
          "2020-02-06T00:00:00",
          "2020-02-06T00:00:00",
          "2020-02-06T00:00:00",
          "2020-02-06T00:00:00",
          "2020-02-06T00:00:00",
          "2020-02-06T00:00:00",
          "2020-02-06T00:00:00",
          "2020-02-06T00:00:00",
          "2020-02-07T00:00:00",
          "2020-02-07T00:00:00",
          "2020-02-07T00:00:00",
          "2020-02-07T00:00:00",
          "2020-02-07T00:00:00",
          "2020-02-07T00:00:00",
          "2020-02-07T00:00:00",
          "2020-02-07T00:00:00",
          "2020-02-07T00:00:00",
          "2020-02-07T00:00:00",
          "2020-02-07T00:00:00",
          "2020-02-07T00:00:00",
          "2020-02-07T00:00:00",
          "2020-02-07T00:00:00",
          "2020-02-07T00:00:00",
          "2020-02-07T00:00:00",
          "2020-02-08T00:00:00",
          "2020-02-08T00:00:00",
          "2020-02-08T00:00:00",
          "2020-02-08T00:00:00",
          "2020-02-08T00:00:00",
          "2020-02-08T00:00:00",
          "2020-02-08T00:00:00",
          "2020-02-08T00:00:00",
          "2020-02-08T00:00:00",
          "2020-02-08T00:00:00",
          "2020-02-08T00:00:00",
          "2020-02-08T00:00:00",
          "2020-02-08T00:00:00",
          "2020-02-08T00:00:00",
          "2020-02-08T00:00:00",
          "2020-02-08T00:00:00",
          "2020-02-09T00:00:00",
          "2020-02-09T00:00:00",
          "2020-02-09T00:00:00",
          "2020-02-09T00:00:00",
          "2020-02-09T00:00:00",
          "2020-02-09T00:00:00",
          "2020-02-09T00:00:00",
          "2020-02-09T00:00:00",
          "2020-02-09T00:00:00",
          "2020-02-09T00:00:00",
          "2020-02-09T00:00:00",
          "2020-02-09T00:00:00",
          "2020-02-09T00:00:00",
          "2020-02-09T00:00:00",
          "2020-02-09T00:00:00",
          "2020-02-09T00:00:00",
          "2020-02-10T00:00:00",
          "2020-02-10T00:00:00",
          "2020-02-10T00:00:00",
          "2020-02-10T00:00:00",
          "2020-02-10T00:00:00",
          "2020-02-10T00:00:00",
          "2020-02-10T00:00:00",
          "2020-02-10T00:00:00",
          "2020-02-10T00:00:00",
          "2020-02-10T00:00:00",
          "2020-02-10T00:00:00",
          "2020-02-10T00:00:00",
          "2020-02-10T00:00:00",
          "2020-02-10T00:00:00",
          "2020-02-10T00:00:00",
          "2020-02-10T00:00:00",
          "2020-02-11T00:00:00",
          "2020-02-11T00:00:00",
          "2020-02-11T00:00:00",
          "2020-02-11T00:00:00",
          "2020-02-11T00:00:00",
          "2020-02-11T00:00:00",
          "2020-02-11T00:00:00",
          "2020-02-11T00:00:00",
          "2020-02-11T00:00:00",
          "2020-02-11T00:00:00",
          "2020-02-11T00:00:00",
          "2020-02-11T00:00:00",
          "2020-02-11T00:00:00",
          "2020-02-11T00:00:00",
          "2020-02-11T00:00:00",
          "2020-02-11T00:00:00",
          "2020-02-12T00:00:00",
          "2020-02-12T00:00:00",
          "2020-02-12T00:00:00",
          "2020-02-12T00:00:00",
          "2020-02-12T00:00:00",
          "2020-02-12T00:00:00",
          "2020-02-12T00:00:00",
          "2020-02-12T00:00:00",
          "2020-02-12T00:00:00",
          "2020-02-12T00:00:00",
          "2020-02-12T00:00:00",
          "2020-02-12T00:00:00",
          "2020-02-12T00:00:00",
          "2020-02-12T00:00:00",
          "2020-02-12T00:00:00",
          "2020-02-12T00:00:00",
          "2020-02-13T00:00:00",
          "2020-02-13T00:00:00",
          "2020-02-13T00:00:00",
          "2020-02-13T00:00:00",
          "2020-02-13T00:00:00",
          "2020-02-13T00:00:00",
          "2020-02-13T00:00:00",
          "2020-02-13T00:00:00",
          "2020-02-13T00:00:00",
          "2020-02-13T00:00:00",
          "2020-02-13T00:00:00",
          "2020-02-13T00:00:00",
          "2020-02-13T00:00:00",
          "2020-02-13T00:00:00",
          "2020-02-13T00:00:00",
          "2020-02-13T00:00:00",
          "2020-02-14T00:00:00",
          "2020-02-14T00:00:00",
          "2020-02-14T00:00:00",
          "2020-02-14T00:00:00",
          "2020-02-14T00:00:00",
          "2020-02-14T00:00:00",
          "2020-02-14T00:00:00",
          "2020-02-14T00:00:00",
          "2020-02-14T00:00:00",
          "2020-02-14T00:00:00",
          "2020-02-14T00:00:00",
          "2020-02-14T00:00:00",
          "2020-02-14T00:00:00",
          "2020-02-14T00:00:00",
          "2020-02-14T00:00:00",
          "2020-02-14T00:00:00",
          "2020-02-15T00:00:00",
          "2020-02-15T00:00:00",
          "2020-02-15T00:00:00",
          "2020-02-15T00:00:00",
          "2020-02-15T00:00:00",
          "2020-02-15T00:00:00",
          "2020-02-15T00:00:00",
          "2020-02-15T00:00:00",
          "2020-02-15T00:00:00",
          "2020-02-15T00:00:00",
          "2020-02-15T00:00:00",
          "2020-02-15T00:00:00",
          "2020-02-15T00:00:00",
          "2020-02-15T00:00:00",
          "2020-02-15T00:00:00",
          "2020-02-15T00:00:00",
          "2020-02-16T00:00:00",
          "2020-02-16T00:00:00",
          "2020-02-16T00:00:00",
          "2020-02-16T00:00:00",
          "2020-02-16T00:00:00",
          "2020-02-16T00:00:00",
          "2020-02-16T00:00:00",
          "2020-02-16T00:00:00",
          "2020-02-16T00:00:00",
          "2020-02-16T00:00:00",
          "2020-02-16T00:00:00",
          "2020-02-16T00:00:00",
          "2020-02-16T00:00:00",
          "2020-02-16T00:00:00",
          "2020-02-16T00:00:00",
          "2020-02-16T00:00:00",
          "2020-02-17T00:00:00",
          "2020-02-17T00:00:00",
          "2020-02-17T00:00:00",
          "2020-02-17T00:00:00",
          "2020-02-17T00:00:00",
          "2020-02-17T00:00:00",
          "2020-02-17T00:00:00",
          "2020-02-17T00:00:00",
          "2020-02-17T00:00:00",
          "2020-02-17T00:00:00",
          "2020-02-17T00:00:00",
          "2020-02-17T00:00:00",
          "2020-02-17T00:00:00",
          "2020-02-17T00:00:00",
          "2020-02-17T00:00:00",
          "2020-02-17T00:00:00",
          "2020-02-18T00:00:00",
          "2020-02-18T00:00:00",
          "2020-02-18T00:00:00",
          "2020-02-18T00:00:00",
          "2020-02-18T00:00:00",
          "2020-02-18T00:00:00",
          "2020-02-18T00:00:00",
          "2020-02-18T00:00:00",
          "2020-02-18T00:00:00",
          "2020-02-18T00:00:00",
          "2020-02-18T00:00:00",
          "2020-02-18T00:00:00",
          "2020-02-18T00:00:00",
          "2020-02-18T00:00:00",
          "2020-02-18T00:00:00",
          "2020-02-18T00:00:00",
          "2020-02-19T00:00:00",
          "2020-02-19T00:00:00",
          "2020-02-19T00:00:00",
          "2020-02-19T00:00:00",
          "2020-02-19T00:00:00",
          "2020-02-19T00:00:00",
          "2020-02-19T00:00:00",
          "2020-02-19T00:00:00",
          "2020-02-19T00:00:00",
          "2020-02-19T00:00:00",
          "2020-02-19T00:00:00",
          "2020-02-19T00:00:00",
          "2020-02-19T00:00:00",
          "2020-02-19T00:00:00",
          "2020-02-19T00:00:00",
          "2020-02-19T00:00:00",
          "2020-02-20T00:00:00",
          "2020-02-20T00:00:00",
          "2020-02-20T00:00:00",
          "2020-02-20T00:00:00",
          "2020-02-20T00:00:00",
          "2020-02-20T00:00:00",
          "2020-02-20T00:00:00",
          "2020-02-20T00:00:00",
          "2020-02-20T00:00:00",
          "2020-02-20T00:00:00",
          "2020-02-20T00:00:00",
          "2020-02-20T00:00:00",
          "2020-02-20T00:00:00",
          "2020-02-20T00:00:00",
          "2020-02-20T00:00:00",
          "2020-02-20T00:00:00",
          "2020-02-21T00:00:00",
          "2020-02-21T00:00:00",
          "2020-02-21T00:00:00",
          "2020-02-21T00:00:00",
          "2020-02-21T00:00:00",
          "2020-02-21T00:00:00",
          "2020-02-21T00:00:00",
          "2020-02-21T00:00:00",
          "2020-02-21T00:00:00",
          "2020-02-21T00:00:00",
          "2020-02-21T00:00:00",
          "2020-02-21T00:00:00",
          "2020-02-21T00:00:00",
          "2020-02-21T00:00:00",
          "2020-02-21T00:00:00",
          "2020-02-21T00:00:00",
          "2020-02-22T00:00:00",
          "2020-02-22T00:00:00",
          "2020-02-22T00:00:00",
          "2020-02-22T00:00:00",
          "2020-02-22T00:00:00",
          "2020-02-22T00:00:00",
          "2020-02-22T00:00:00",
          "2020-02-22T00:00:00",
          "2020-02-22T00:00:00",
          "2020-02-22T00:00:00",
          "2020-02-22T00:00:00",
          "2020-02-22T00:00:00",
          "2020-02-22T00:00:00",
          "2020-02-22T00:00:00",
          "2020-02-22T00:00:00",
          "2020-02-22T00:00:00",
          "2020-02-23T00:00:00",
          "2020-02-23T00:00:00",
          "2020-02-23T00:00:00",
          "2020-02-23T00:00:00",
          "2020-02-23T00:00:00",
          "2020-02-23T00:00:00",
          "2020-02-23T00:00:00",
          "2020-02-23T00:00:00",
          "2020-02-23T00:00:00",
          "2020-02-23T00:00:00",
          "2020-02-23T00:00:00",
          "2020-02-23T00:00:00",
          "2020-02-23T00:00:00",
          "2020-02-23T00:00:00",
          "2020-02-23T00:00:00",
          "2020-02-23T00:00:00",
          "2020-02-24T00:00:00",
          "2020-02-24T00:00:00",
          "2020-02-24T00:00:00",
          "2020-02-24T00:00:00",
          "2020-02-24T00:00:00",
          "2020-02-24T00:00:00",
          "2020-02-24T00:00:00",
          "2020-02-24T00:00:00",
          "2020-02-24T00:00:00",
          "2020-02-24T00:00:00",
          "2020-02-24T00:00:00",
          "2020-02-24T00:00:00",
          "2020-02-24T00:00:00",
          "2020-02-24T00:00:00",
          "2020-02-24T00:00:00",
          "2020-02-24T00:00:00",
          "2020-02-25T00:00:00",
          "2020-02-25T00:00:00",
          "2020-02-25T00:00:00",
          "2020-02-25T00:00:00",
          "2020-02-25T00:00:00",
          "2020-02-25T00:00:00",
          "2020-02-25T00:00:00",
          "2020-02-25T00:00:00",
          "2020-02-25T00:00:00",
          "2020-02-25T00:00:00",
          "2020-02-25T00:00:00",
          "2020-02-25T00:00:00",
          "2020-02-25T00:00:00",
          "2020-02-25T00:00:00",
          "2020-02-25T00:00:00",
          "2020-02-25T00:00:00",
          "2020-02-26T00:00:00",
          "2020-02-26T00:00:00",
          "2020-02-26T00:00:00",
          "2020-02-26T00:00:00",
          "2020-02-26T00:00:00",
          "2020-02-26T00:00:00",
          "2020-02-26T00:00:00",
          "2020-02-26T00:00:00",
          "2020-02-26T00:00:00",
          "2020-02-26T00:00:00",
          "2020-02-26T00:00:00",
          "2020-02-26T00:00:00",
          "2020-02-26T00:00:00",
          "2020-02-26T00:00:00",
          "2020-02-26T00:00:00",
          "2020-02-26T00:00:00",
          "2020-02-27T00:00:00",
          "2020-02-27T00:00:00",
          "2020-02-27T00:00:00",
          "2020-02-27T00:00:00",
          "2020-02-27T00:00:00",
          "2020-02-27T00:00:00",
          "2020-02-27T00:00:00",
          "2020-02-27T00:00:00",
          "2020-02-27T00:00:00",
          "2020-02-27T00:00:00",
          "2020-02-27T00:00:00",
          "2020-02-27T00:00:00",
          "2020-02-27T00:00:00",
          "2020-02-27T00:00:00",
          "2020-02-27T00:00:00",
          "2020-02-27T00:00:00",
          "2020-02-28T00:00:00",
          "2020-02-28T00:00:00",
          "2020-02-28T00:00:00",
          "2020-02-28T00:00:00",
          "2020-02-28T00:00:00",
          "2020-02-28T00:00:00",
          "2020-02-28T00:00:00",
          "2020-02-28T00:00:00",
          "2020-02-28T00:00:00",
          "2020-02-28T00:00:00",
          "2020-02-28T00:00:00",
          "2020-02-28T00:00:00",
          "2020-02-28T00:00:00",
          "2020-02-28T00:00:00",
          "2020-02-28T00:00:00",
          "2020-02-28T00:00:00",
          "2020-02-29T00:00:00",
          "2020-02-29T00:00:00",
          "2020-02-29T00:00:00",
          "2020-02-29T00:00:00",
          "2020-02-29T00:00:00",
          "2020-02-29T00:00:00",
          "2020-02-29T00:00:00",
          "2020-02-29T00:00:00",
          "2020-02-29T00:00:00",
          "2020-02-29T00:00:00",
          "2020-02-29T00:00:00",
          "2020-02-29T00:00:00",
          "2020-02-29T00:00:00",
          "2020-02-29T00:00:00",
          "2020-02-29T00:00:00",
          "2020-02-29T00:00:00",
          "2020-03-01T00:00:00",
          "2020-03-01T00:00:00",
          "2020-03-01T00:00:00",
          "2020-03-01T00:00:00",
          "2020-03-01T00:00:00",
          "2020-03-01T00:00:00",
          "2020-03-01T00:00:00",
          "2020-03-01T00:00:00",
          "2020-03-01T00:00:00",
          "2020-03-01T00:00:00",
          "2020-03-01T00:00:00",
          "2020-03-01T00:00:00",
          "2020-03-01T00:00:00",
          "2020-03-01T00:00:00",
          "2020-03-01T00:00:00",
          "2020-03-01T00:00:00",
          "2020-03-02T00:00:00",
          "2020-03-02T00:00:00",
          "2020-03-02T00:00:00",
          "2020-03-02T00:00:00",
          "2020-03-02T00:00:00",
          "2020-03-02T00:00:00",
          "2020-03-02T00:00:00",
          "2020-03-02T00:00:00",
          "2020-03-02T00:00:00",
          "2020-03-02T00:00:00",
          "2020-03-02T00:00:00",
          "2020-03-02T00:00:00",
          "2020-03-02T00:00:00",
          "2020-03-02T00:00:00",
          "2020-03-02T00:00:00",
          "2020-03-02T00:00:00",
          "2020-03-03T00:00:00",
          "2020-03-03T00:00:00",
          "2020-03-03T00:00:00",
          "2020-03-03T00:00:00",
          "2020-03-03T00:00:00",
          "2020-03-03T00:00:00",
          "2020-03-03T00:00:00",
          "2020-03-03T00:00:00",
          "2020-03-03T00:00:00",
          "2020-03-03T00:00:00",
          "2020-03-03T00:00:00",
          "2020-03-03T00:00:00",
          "2020-03-03T00:00:00",
          "2020-03-03T00:00:00",
          "2020-03-03T00:00:00",
          "2020-03-03T00:00:00",
          "2020-03-04T00:00:00",
          "2020-03-04T00:00:00",
          "2020-03-04T00:00:00",
          "2020-03-04T00:00:00",
          "2020-03-04T00:00:00",
          "2020-03-04T00:00:00",
          "2020-03-04T00:00:00",
          "2020-03-04T00:00:00",
          "2020-03-04T00:00:00",
          "2020-03-04T00:00:00",
          "2020-03-04T00:00:00",
          "2020-03-04T00:00:00",
          "2020-03-04T00:00:00",
          "2020-03-04T00:00:00",
          "2020-03-04T00:00:00",
          "2020-03-04T00:00:00",
          "2020-03-05T00:00:00",
          "2020-03-05T00:00:00",
          "2020-03-05T00:00:00",
          "2020-03-05T00:00:00",
          "2020-03-05T00:00:00",
          "2020-03-05T00:00:00",
          "2020-03-05T00:00:00",
          "2020-03-05T00:00:00",
          "2020-03-05T00:00:00",
          "2020-03-05T00:00:00",
          "2020-03-05T00:00:00",
          "2020-03-05T00:00:00",
          "2020-03-05T00:00:00",
          "2020-03-05T00:00:00",
          "2020-03-05T00:00:00",
          "2020-03-05T00:00:00",
          "2020-03-06T00:00:00",
          "2020-03-06T00:00:00",
          "2020-03-06T00:00:00",
          "2020-03-06T00:00:00",
          "2020-03-06T00:00:00",
          "2020-03-06T00:00:00",
          "2020-03-06T00:00:00",
          "2020-03-06T00:00:00",
          "2020-03-06T00:00:00",
          "2020-03-06T00:00:00",
          "2020-03-06T00:00:00",
          "2020-03-06T00:00:00",
          "2020-03-06T00:00:00",
          "2020-03-06T00:00:00",
          "2020-03-06T00:00:00",
          "2020-03-06T00:00:00",
          "2020-03-07T00:00:00",
          "2020-03-07T00:00:00",
          "2020-03-07T00:00:00",
          "2020-03-07T00:00:00",
          "2020-03-07T00:00:00",
          "2020-03-07T00:00:00",
          "2020-03-07T00:00:00",
          "2020-03-07T00:00:00",
          "2020-03-07T00:00:00",
          "2020-03-07T00:00:00",
          "2020-03-07T00:00:00",
          "2020-03-07T00:00:00",
          "2020-03-07T00:00:00",
          "2020-03-07T00:00:00",
          "2020-03-07T00:00:00",
          "2020-03-07T00:00:00",
          "2020-03-08T00:00:00",
          "2020-03-08T00:00:00",
          "2020-03-08T00:00:00",
          "2020-03-08T00:00:00",
          "2020-03-08T00:00:00",
          "2020-03-08T00:00:00",
          "2020-03-08T00:00:00",
          "2020-03-08T00:00:00",
          "2020-03-08T00:00:00",
          "2020-03-08T00:00:00",
          "2020-03-08T00:00:00",
          "2020-03-08T00:00:00",
          "2020-03-08T00:00:00",
          "2020-03-08T00:00:00",
          "2020-03-08T00:00:00",
          "2020-03-08T00:00:00",
          "2020-03-09T00:00:00",
          "2020-03-09T00:00:00",
          "2020-03-09T00:00:00",
          "2020-03-09T00:00:00",
          "2020-03-09T00:00:00",
          "2020-03-09T00:00:00",
          "2020-03-09T00:00:00",
          "2020-03-09T00:00:00",
          "2020-03-09T00:00:00",
          "2020-03-09T00:00:00",
          "2020-03-09T00:00:00",
          "2020-03-09T00:00:00",
          "2020-03-09T00:00:00",
          "2020-03-09T00:00:00",
          "2020-03-09T00:00:00",
          "2020-03-09T00:00:00",
          "2020-03-10T00:00:00",
          "2020-03-10T00:00:00",
          "2020-03-10T00:00:00",
          "2020-03-10T00:00:00",
          "2020-03-10T00:00:00",
          "2020-03-10T00:00:00",
          "2020-03-10T00:00:00",
          "2020-03-10T00:00:00",
          "2020-03-10T00:00:00",
          "2020-03-10T00:00:00",
          "2020-03-10T00:00:00",
          "2020-03-10T00:00:00",
          "2020-03-10T00:00:00",
          "2020-03-10T00:00:00",
          "2020-03-10T00:00:00",
          "2020-03-10T00:00:00",
          "2020-03-11T00:00:00",
          "2020-03-11T00:00:00",
          "2020-03-11T00:00:00",
          "2020-03-11T00:00:00",
          "2020-03-11T00:00:00",
          "2020-03-11T00:00:00",
          "2020-03-11T00:00:00",
          "2020-03-11T00:00:00",
          "2020-03-11T00:00:00",
          "2020-03-11T00:00:00",
          "2020-03-11T00:00:00",
          "2020-03-11T00:00:00",
          "2020-03-11T00:00:00",
          "2020-03-11T00:00:00",
          "2020-03-11T00:00:00",
          "2020-03-11T00:00:00",
          "2020-03-12T00:00:00",
          "2020-03-12T00:00:00",
          "2020-03-12T00:00:00",
          "2020-03-12T00:00:00",
          "2020-03-12T00:00:00",
          "2020-03-12T00:00:00",
          "2020-03-12T00:00:00",
          "2020-03-12T00:00:00",
          "2020-03-12T00:00:00",
          "2020-03-12T00:00:00",
          "2020-03-12T00:00:00",
          "2020-03-12T00:00:00",
          "2020-03-12T00:00:00",
          "2020-03-12T00:00:00",
          "2020-03-12T00:00:00",
          "2020-03-12T00:00:00",
          "2020-03-13T00:00:00",
          "2020-03-13T00:00:00",
          "2020-03-13T00:00:00",
          "2020-03-13T00:00:00",
          "2020-03-13T00:00:00",
          "2020-03-13T00:00:00",
          "2020-03-13T00:00:00",
          "2020-03-13T00:00:00",
          "2020-03-13T00:00:00",
          "2020-03-13T00:00:00",
          "2020-03-13T00:00:00",
          "2020-03-13T00:00:00",
          "2020-03-13T00:00:00",
          "2020-03-13T00:00:00",
          "2020-03-13T00:00:00",
          "2020-03-13T00:00:00",
          "2020-03-14T00:00:00",
          "2020-03-14T00:00:00",
          "2020-03-14T00:00:00",
          "2020-03-14T00:00:00",
          "2020-03-14T00:00:00",
          "2020-03-14T00:00:00",
          "2020-03-14T00:00:00",
          "2020-03-14T00:00:00",
          "2020-03-14T00:00:00",
          "2020-03-14T00:00:00",
          "2020-03-14T00:00:00",
          "2020-03-14T00:00:00",
          "2020-03-14T00:00:00",
          "2020-03-14T00:00:00",
          "2020-03-14T00:00:00",
          "2020-03-14T00:00:00",
          "2020-03-15T00:00:00",
          "2020-03-15T00:00:00",
          "2020-03-15T00:00:00",
          "2020-03-15T00:00:00",
          "2020-03-15T00:00:00",
          "2020-03-15T00:00:00",
          "2020-03-15T00:00:00",
          "2020-03-15T00:00:00",
          "2020-03-15T00:00:00",
          "2020-03-15T00:00:00",
          "2020-03-15T00:00:00",
          "2020-03-15T00:00:00",
          "2020-03-15T00:00:00",
          "2020-03-15T00:00:00",
          "2020-03-15T00:00:00",
          "2020-03-15T00:00:00",
          "2020-03-16T00:00:00",
          "2020-03-16T00:00:00",
          "2020-03-16T00:00:00",
          "2020-03-16T00:00:00",
          "2020-03-16T00:00:00",
          "2020-03-16T00:00:00",
          "2020-03-16T00:00:00",
          "2020-03-16T00:00:00",
          "2020-03-16T00:00:00",
          "2020-03-16T00:00:00",
          "2020-03-16T00:00:00",
          "2020-03-16T00:00:00",
          "2020-03-16T00:00:00",
          "2020-03-16T00:00:00",
          "2020-03-16T00:00:00",
          "2020-03-16T00:00:00",
          "2020-03-17T00:00:00",
          "2020-03-17T00:00:00",
          "2020-03-17T00:00:00",
          "2020-03-17T00:00:00",
          "2020-03-17T00:00:00",
          "2020-03-17T00:00:00",
          "2020-03-17T00:00:00",
          "2020-03-17T00:00:00",
          "2020-03-17T00:00:00",
          "2020-03-17T00:00:00",
          "2020-03-17T00:00:00",
          "2020-03-17T00:00:00",
          "2020-03-17T00:00:00",
          "2020-03-17T00:00:00",
          "2020-03-17T00:00:00",
          "2020-03-17T00:00:00",
          "2020-03-18T00:00:00",
          "2020-03-18T00:00:00",
          "2020-03-18T00:00:00",
          "2020-03-18T00:00:00",
          "2020-03-18T00:00:00",
          "2020-03-18T00:00:00",
          "2020-03-18T00:00:00",
          "2020-03-18T00:00:00",
          "2020-03-18T00:00:00",
          "2020-03-18T00:00:00",
          "2020-03-18T00:00:00",
          "2020-03-18T00:00:00",
          "2020-03-18T00:00:00",
          "2020-03-18T00:00:00",
          "2020-03-18T00:00:00",
          "2020-03-18T00:00:00",
          "2020-03-19T00:00:00",
          "2020-03-19T00:00:00",
          "2020-03-19T00:00:00",
          "2020-03-19T00:00:00",
          "2020-03-19T00:00:00",
          "2020-03-19T00:00:00",
          "2020-03-19T00:00:00",
          "2020-03-19T00:00:00",
          "2020-03-19T00:00:00",
          "2020-03-19T00:00:00",
          "2020-03-19T00:00:00",
          "2020-03-19T00:00:00",
          "2020-03-19T00:00:00",
          "2020-03-19T00:00:00",
          "2020-03-19T00:00:00",
          "2020-03-19T00:00:00",
          "2020-03-20T00:00:00",
          "2020-03-20T00:00:00",
          "2020-03-20T00:00:00",
          "2020-03-20T00:00:00",
          "2020-03-20T00:00:00",
          "2020-03-20T00:00:00",
          "2020-03-20T00:00:00",
          "2020-03-20T00:00:00",
          "2020-03-20T00:00:00",
          "2020-03-20T00:00:00",
          "2020-03-20T00:00:00",
          "2020-03-20T00:00:00",
          "2020-03-20T00:00:00",
          "2020-03-20T00:00:00",
          "2020-03-20T00:00:00",
          "2020-03-20T00:00:00",
          "2020-03-21T00:00:00",
          "2020-03-21T00:00:00",
          "2020-03-21T00:00:00",
          "2020-03-21T00:00:00",
          "2020-03-21T00:00:00",
          "2020-03-21T00:00:00",
          "2020-03-21T00:00:00",
          "2020-03-21T00:00:00",
          "2020-03-21T00:00:00",
          "2020-03-21T00:00:00",
          "2020-03-21T00:00:00",
          "2020-03-21T00:00:00",
          "2020-03-21T00:00:00",
          "2020-03-21T00:00:00",
          "2020-03-21T00:00:00",
          "2020-03-21T00:00:00",
          "2020-03-22T00:00:00",
          "2020-03-22T00:00:00",
          "2020-03-22T00:00:00",
          "2020-03-22T00:00:00",
          "2020-03-22T00:00:00",
          "2020-03-22T00:00:00",
          "2020-03-22T00:00:00",
          "2020-03-22T00:00:00",
          "2020-03-22T00:00:00",
          "2020-03-22T00:00:00",
          "2020-03-22T00:00:00",
          "2020-03-22T00:00:00",
          "2020-03-22T00:00:00",
          "2020-03-22T00:00:00",
          "2020-03-22T00:00:00",
          "2020-03-22T00:00:00",
          "2020-03-23T00:00:00",
          "2020-03-23T00:00:00",
          "2020-03-23T00:00:00",
          "2020-03-23T00:00:00",
          "2020-03-23T00:00:00",
          "2020-03-23T00:00:00",
          "2020-03-23T00:00:00",
          "2020-03-23T00:00:00",
          "2020-03-23T00:00:00",
          "2020-03-23T00:00:00",
          "2020-03-23T00:00:00",
          "2020-03-23T00:00:00",
          "2020-03-23T00:00:00",
          "2020-03-23T00:00:00",
          "2020-03-23T00:00:00",
          "2020-03-23T00:00:00",
          "2020-03-24T00:00:00",
          "2020-03-24T00:00:00",
          "2020-03-24T00:00:00",
          "2020-03-24T00:00:00",
          "2020-03-24T00:00:00",
          "2020-03-24T00:00:00",
          "2020-03-24T00:00:00",
          "2020-03-24T00:00:00",
          "2020-03-24T00:00:00",
          "2020-03-24T00:00:00",
          "2020-03-24T00:00:00",
          "2020-03-24T00:00:00",
          "2020-03-24T00:00:00",
          "2020-03-24T00:00:00",
          "2020-03-24T00:00:00",
          "2020-03-24T00:00:00",
          "2020-03-25T00:00:00",
          "2020-03-25T00:00:00",
          "2020-03-25T00:00:00",
          "2020-03-25T00:00:00",
          "2020-03-25T00:00:00",
          "2020-03-25T00:00:00",
          "2020-03-25T00:00:00",
          "2020-03-25T00:00:00",
          "2020-03-25T00:00:00",
          "2020-03-25T00:00:00",
          "2020-03-25T00:00:00",
          "2020-03-25T00:00:00",
          "2020-03-25T00:00:00",
          "2020-03-25T00:00:00",
          "2020-03-25T00:00:00",
          "2020-03-25T00:00:00",
          "2020-03-26T00:00:00",
          "2020-03-26T00:00:00",
          "2020-03-26T00:00:00",
          "2020-03-26T00:00:00",
          "2020-03-26T00:00:00",
          "2020-03-26T00:00:00",
          "2020-03-26T00:00:00",
          "2020-03-26T00:00:00",
          "2020-03-26T00:00:00",
          "2020-03-26T00:00:00",
          "2020-03-26T00:00:00",
          "2020-03-26T00:00:00",
          "2020-03-26T00:00:00",
          "2020-03-26T00:00:00",
          "2020-03-26T00:00:00",
          "2020-03-26T00:00:00",
          "2020-03-27T00:00:00",
          "2020-03-27T00:00:00",
          "2020-03-27T00:00:00",
          "2020-03-27T00:00:00",
          "2020-03-27T00:00:00",
          "2020-03-27T00:00:00",
          "2020-03-27T00:00:00",
          "2020-03-27T00:00:00",
          "2020-03-27T00:00:00",
          "2020-03-27T00:00:00",
          "2020-03-27T00:00:00",
          "2020-03-27T00:00:00",
          "2020-03-27T00:00:00",
          "2020-03-27T00:00:00",
          "2020-03-27T00:00:00",
          "2020-03-27T00:00:00",
          "2020-03-28T00:00:00",
          "2020-03-28T00:00:00",
          "2020-03-28T00:00:00",
          "2020-03-28T00:00:00",
          "2020-03-28T00:00:00",
          "2020-03-28T00:00:00",
          "2020-03-28T00:00:00",
          "2020-03-28T00:00:00",
          "2020-03-28T00:00:00",
          "2020-03-28T00:00:00",
          "2020-03-28T00:00:00",
          "2020-03-28T00:00:00",
          "2020-03-28T00:00:00",
          "2020-03-28T00:00:00",
          "2020-03-28T00:00:00",
          "2020-03-28T00:00:00",
          "2020-03-29T00:00:00",
          "2020-03-29T00:00:00",
          "2020-03-29T00:00:00",
          "2020-03-29T00:00:00",
          "2020-03-29T00:00:00",
          "2020-03-29T00:00:00",
          "2020-03-29T00:00:00",
          "2020-03-29T00:00:00",
          "2020-03-29T00:00:00",
          "2020-03-29T00:00:00",
          "2020-03-29T00:00:00",
          "2020-03-29T00:00:00",
          "2020-03-29T00:00:00",
          "2020-03-29T00:00:00",
          "2020-03-29T00:00:00",
          "2020-03-29T00:00:00",
          "2020-03-30T00:00:00",
          "2020-03-30T00:00:00",
          "2020-03-30T00:00:00",
          "2020-03-30T00:00:00",
          "2020-03-30T00:00:00",
          "2020-03-30T00:00:00",
          "2020-03-30T00:00:00",
          "2020-03-30T00:00:00",
          "2020-03-30T00:00:00",
          "2020-03-30T00:00:00",
          "2020-03-30T00:00:00",
          "2020-03-30T00:00:00",
          "2020-03-30T00:00:00",
          "2020-03-30T00:00:00",
          "2020-03-30T00:00:00",
          "2020-03-30T00:00:00",
          "2020-03-31T00:00:00",
          "2020-03-31T00:00:00",
          "2020-03-31T00:00:00",
          "2020-03-31T00:00:00",
          "2020-03-31T00:00:00",
          "2020-03-31T00:00:00",
          "2020-03-31T00:00:00",
          "2020-03-31T00:00:00",
          "2020-03-31T00:00:00",
          "2020-03-31T00:00:00",
          "2020-03-31T00:00:00",
          "2020-03-31T00:00:00",
          "2020-03-31T00:00:00",
          "2020-03-31T00:00:00",
          "2020-03-31T00:00:00",
          "2020-03-31T00:00:00",
          "2020-04-01T00:00:00",
          "2020-04-01T00:00:00",
          "2020-04-01T00:00:00",
          "2020-04-01T00:00:00",
          "2020-04-01T00:00:00",
          "2020-04-01T00:00:00",
          "2020-04-01T00:00:00",
          "2020-04-01T00:00:00",
          "2020-04-01T00:00:00",
          "2020-04-01T00:00:00",
          "2020-04-01T00:00:00",
          "2020-04-01T00:00:00",
          "2020-04-01T00:00:00",
          "2020-04-01T00:00:00",
          "2020-04-01T00:00:00",
          "2020-04-01T00:00:00",
          "2020-04-02T00:00:00",
          "2020-04-02T00:00:00",
          "2020-04-02T00:00:00",
          "2020-04-02T00:00:00",
          "2020-04-02T00:00:00",
          "2020-04-02T00:00:00",
          "2020-04-02T00:00:00",
          "2020-04-02T00:00:00",
          "2020-04-02T00:00:00",
          "2020-04-02T00:00:00",
          "2020-04-02T00:00:00",
          "2020-04-02T00:00:00",
          "2020-04-02T00:00:00",
          "2020-04-02T00:00:00",
          "2020-04-02T00:00:00",
          "2020-04-02T00:00:00",
          "2020-04-03T00:00:00",
          "2020-04-03T00:00:00",
          "2020-04-03T00:00:00",
          "2020-04-03T00:00:00",
          "2020-04-03T00:00:00",
          "2020-04-03T00:00:00",
          "2020-04-03T00:00:00",
          "2020-04-03T00:00:00",
          "2020-04-03T00:00:00",
          "2020-04-03T00:00:00",
          "2020-04-03T00:00:00",
          "2020-04-03T00:00:00",
          "2020-04-03T00:00:00",
          "2020-04-03T00:00:00",
          "2020-04-03T00:00:00",
          "2020-04-03T00:00:00",
          "2020-04-04T00:00:00",
          "2020-04-04T00:00:00",
          "2020-04-04T00:00:00",
          "2020-04-04T00:00:00",
          "2020-04-04T00:00:00",
          "2020-04-04T00:00:00",
          "2020-04-04T00:00:00",
          "2020-04-04T00:00:00",
          "2020-04-04T00:00:00",
          "2020-04-04T00:00:00",
          "2020-04-04T00:00:00",
          "2020-04-04T00:00:00",
          "2020-04-04T00:00:00",
          "2020-04-04T00:00:00",
          "2020-04-04T00:00:00",
          "2020-04-04T00:00:00",
          "2020-04-05T00:00:00",
          "2020-04-05T00:00:00",
          "2020-04-05T00:00:00",
          "2020-04-05T00:00:00",
          "2020-04-05T00:00:00",
          "2020-04-05T00:00:00",
          "2020-04-05T00:00:00",
          "2020-04-05T00:00:00",
          "2020-04-05T00:00:00",
          "2020-04-05T00:00:00",
          "2020-04-05T00:00:00",
          "2020-04-05T00:00:00",
          "2020-04-05T00:00:00",
          "2020-04-05T00:00:00",
          "2020-04-05T00:00:00",
          "2020-04-05T00:00:00",
          "2020-04-06T00:00:00",
          "2020-04-06T00:00:00",
          "2020-04-06T00:00:00",
          "2020-04-06T00:00:00",
          "2020-04-06T00:00:00",
          "2020-04-06T00:00:00",
          "2020-04-06T00:00:00",
          "2020-04-06T00:00:00",
          "2020-04-06T00:00:00",
          "2020-04-06T00:00:00",
          "2020-04-06T00:00:00",
          "2020-04-06T00:00:00",
          "2020-04-06T00:00:00",
          "2020-04-06T00:00:00",
          "2020-04-06T00:00:00",
          "2020-04-06T00:00:00",
          "2020-04-07T00:00:00",
          "2020-04-07T00:00:00",
          "2020-04-07T00:00:00",
          "2020-04-07T00:00:00",
          "2020-04-07T00:00:00",
          "2020-04-07T00:00:00",
          "2020-04-07T00:00:00",
          "2020-04-07T00:00:00",
          "2020-04-07T00:00:00",
          "2020-04-07T00:00:00",
          "2020-04-07T00:00:00",
          "2020-04-07T00:00:00",
          "2020-04-07T00:00:00",
          "2020-04-07T00:00:00",
          "2020-04-07T00:00:00",
          "2020-04-07T00:00:00",
          "2020-04-08T00:00:00",
          "2020-04-08T00:00:00",
          "2020-04-08T00:00:00",
          "2020-04-08T00:00:00",
          "2020-04-08T00:00:00",
          "2020-04-08T00:00:00",
          "2020-04-08T00:00:00",
          "2020-04-08T00:00:00",
          "2020-04-08T00:00:00",
          "2020-04-08T00:00:00",
          "2020-04-08T00:00:00",
          "2020-04-08T00:00:00",
          "2020-04-08T00:00:00",
          "2020-04-08T00:00:00",
          "2020-04-08T00:00:00",
          "2020-04-08T00:00:00",
          "2020-04-09T00:00:00",
          "2020-04-09T00:00:00",
          "2020-04-09T00:00:00",
          "2020-04-09T00:00:00",
          "2020-04-09T00:00:00",
          "2020-04-09T00:00:00",
          "2020-04-09T00:00:00",
          "2020-04-09T00:00:00",
          "2020-04-09T00:00:00",
          "2020-04-09T00:00:00",
          "2020-04-09T00:00:00",
          "2020-04-09T00:00:00",
          "2020-04-09T00:00:00",
          "2020-04-09T00:00:00",
          "2020-04-09T00:00:00",
          "2020-04-09T00:00:00",
          "2020-04-10T00:00:00",
          "2020-04-10T00:00:00",
          "2020-04-10T00:00:00",
          "2020-04-10T00:00:00",
          "2020-04-10T00:00:00",
          "2020-04-10T00:00:00",
          "2020-04-10T00:00:00",
          "2020-04-10T00:00:00",
          "2020-04-10T00:00:00",
          "2020-04-10T00:00:00",
          "2020-04-10T00:00:00",
          "2020-04-10T00:00:00",
          "2020-04-10T00:00:00",
          "2020-04-10T00:00:00",
          "2020-04-10T00:00:00",
          "2020-04-10T00:00:00",
          "2020-04-11T00:00:00",
          "2020-04-11T00:00:00",
          "2020-04-11T00:00:00",
          "2020-04-11T00:00:00",
          "2020-04-11T00:00:00",
          "2020-04-11T00:00:00",
          "2020-04-11T00:00:00",
          "2020-04-11T00:00:00",
          "2020-04-11T00:00:00",
          "2020-04-11T00:00:00",
          "2020-04-11T00:00:00",
          "2020-04-11T00:00:00",
          "2020-04-11T00:00:00",
          "2020-04-11T00:00:00",
          "2020-04-11T00:00:00",
          "2020-04-11T00:00:00",
          "2020-04-12T00:00:00",
          "2020-04-12T00:00:00",
          "2020-04-12T00:00:00",
          "2020-04-12T00:00:00",
          "2020-04-12T00:00:00",
          "2020-04-12T00:00:00",
          "2020-04-12T00:00:00",
          "2020-04-12T00:00:00",
          "2020-04-12T00:00:00",
          "2020-04-12T00:00:00",
          "2020-04-12T00:00:00",
          "2020-04-12T00:00:00",
          "2020-04-12T00:00:00",
          "2020-04-12T00:00:00",
          "2020-04-12T00:00:00",
          "2020-04-12T00:00:00",
          "2020-04-13T00:00:00",
          "2020-04-13T00:00:00",
          "2020-04-13T00:00:00",
          "2020-04-13T00:00:00",
          "2020-04-13T00:00:00",
          "2020-04-13T00:00:00",
          "2020-04-13T00:00:00",
          "2020-04-13T00:00:00",
          "2020-04-13T00:00:00",
          "2020-04-13T00:00:00",
          "2020-04-13T00:00:00",
          "2020-04-13T00:00:00",
          "2020-04-13T00:00:00",
          "2020-04-13T00:00:00",
          "2020-04-13T00:00:00",
          "2020-04-13T00:00:00",
          "2020-04-14T00:00:00",
          "2020-04-14T00:00:00",
          "2020-04-14T00:00:00",
          "2020-04-14T00:00:00",
          "2020-04-14T00:00:00",
          "2020-04-14T00:00:00",
          "2020-04-14T00:00:00",
          "2020-04-14T00:00:00",
          "2020-04-14T00:00:00",
          "2020-04-14T00:00:00",
          "2020-04-14T00:00:00",
          "2020-04-14T00:00:00",
          "2020-04-14T00:00:00",
          "2020-04-14T00:00:00",
          "2020-04-14T00:00:00",
          "2020-04-14T00:00:00",
          "2020-04-15T00:00:00",
          "2020-04-15T00:00:00",
          "2020-04-15T00:00:00",
          "2020-04-15T00:00:00",
          "2020-04-15T00:00:00",
          "2020-04-15T00:00:00",
          "2020-04-15T00:00:00",
          "2020-04-15T00:00:00",
          "2020-04-15T00:00:00",
          "2020-04-15T00:00:00",
          "2020-04-15T00:00:00",
          "2020-04-15T00:00:00",
          "2020-04-15T00:00:00",
          "2020-04-15T00:00:00",
          "2020-04-15T00:00:00",
          "2020-04-15T00:00:00",
          "2020-04-16T00:00:00",
          "2020-04-16T00:00:00",
          "2020-04-16T00:00:00",
          "2020-04-16T00:00:00",
          "2020-04-16T00:00:00",
          "2020-04-16T00:00:00",
          "2020-04-16T00:00:00",
          "2020-04-16T00:00:00",
          "2020-04-16T00:00:00",
          "2020-04-16T00:00:00",
          "2020-04-16T00:00:00",
          "2020-04-16T00:00:00",
          "2020-04-16T00:00:00",
          "2020-04-16T00:00:00",
          "2020-04-16T00:00:00",
          "2020-04-16T00:00:00",
          "2020-04-17T00:00:00",
          "2020-04-17T00:00:00",
          "2020-04-17T00:00:00",
          "2020-04-17T00:00:00",
          "2020-04-17T00:00:00",
          "2020-04-17T00:00:00",
          "2020-04-17T00:00:00",
          "2020-04-17T00:00:00",
          "2020-04-17T00:00:00",
          "2020-04-17T00:00:00",
          "2020-04-17T00:00:00",
          "2020-04-17T00:00:00",
          "2020-04-17T00:00:00",
          "2020-04-17T00:00:00",
          "2020-04-17T00:00:00",
          "2020-04-17T00:00:00",
          "2020-04-18T00:00:00",
          "2020-04-18T00:00:00",
          "2020-04-18T00:00:00",
          "2020-04-18T00:00:00",
          "2020-04-18T00:00:00",
          "2020-04-18T00:00:00",
          "2020-04-18T00:00:00",
          "2020-04-18T00:00:00",
          "2020-04-18T00:00:00",
          "2020-04-18T00:00:00",
          "2020-04-18T00:00:00",
          "2020-04-18T00:00:00",
          "2020-04-18T00:00:00",
          "2020-04-18T00:00:00",
          "2020-04-18T00:00:00",
          "2020-04-18T00:00:00",
          "2020-04-19T00:00:00",
          "2020-04-19T00:00:00",
          "2020-04-19T00:00:00",
          "2020-04-19T00:00:00",
          "2020-04-19T00:00:00",
          "2020-04-19T00:00:00",
          "2020-04-19T00:00:00",
          "2020-04-19T00:00:00",
          "2020-04-19T00:00:00",
          "2020-04-19T00:00:00",
          "2020-04-19T00:00:00",
          "2020-04-19T00:00:00",
          "2020-04-19T00:00:00",
          "2020-04-19T00:00:00",
          "2020-04-19T00:00:00",
          "2020-04-19T00:00:00",
          "2020-04-20T00:00:00",
          "2020-04-20T00:00:00",
          "2020-04-20T00:00:00",
          "2020-04-20T00:00:00",
          "2020-04-20T00:00:00",
          "2020-04-20T00:00:00",
          "2020-04-20T00:00:00",
          "2020-04-20T00:00:00",
          "2020-04-20T00:00:00",
          "2020-04-20T00:00:00",
          "2020-04-20T00:00:00",
          "2020-04-20T00:00:00",
          "2020-04-20T00:00:00",
          "2020-04-20T00:00:00",
          "2020-04-20T00:00:00",
          "2020-04-20T00:00:00",
          "2020-04-21T00:00:00",
          "2020-04-21T00:00:00",
          "2020-04-21T00:00:00",
          "2020-04-21T00:00:00",
          "2020-04-21T00:00:00",
          "2020-04-21T00:00:00",
          "2020-04-21T00:00:00",
          "2020-04-21T00:00:00",
          "2020-04-21T00:00:00",
          "2020-04-21T00:00:00",
          "2020-04-21T00:00:00",
          "2020-04-21T00:00:00",
          "2020-04-21T00:00:00",
          "2020-04-21T00:00:00",
          "2020-04-21T00:00:00",
          "2020-04-21T00:00:00",
          "2020-04-22T00:00:00",
          "2020-04-22T00:00:00",
          "2020-04-22T00:00:00",
          "2020-04-22T00:00:00",
          "2020-04-22T00:00:00",
          "2020-04-22T00:00:00",
          "2020-04-22T00:00:00",
          "2020-04-22T00:00:00",
          "2020-04-22T00:00:00",
          "2020-04-22T00:00:00",
          "2020-04-22T00:00:00",
          "2020-04-22T00:00:00",
          "2020-04-22T00:00:00",
          "2020-04-22T00:00:00",
          "2020-04-22T00:00:00",
          "2020-04-22T00:00:00",
          "2020-04-23T00:00:00",
          "2020-04-23T00:00:00",
          "2020-04-23T00:00:00",
          "2020-04-23T00:00:00",
          "2020-04-23T00:00:00",
          "2020-04-23T00:00:00",
          "2020-04-23T00:00:00",
          "2020-04-23T00:00:00",
          "2020-04-23T00:00:00",
          "2020-04-23T00:00:00",
          "2020-04-23T00:00:00",
          "2020-04-23T00:00:00",
          "2020-04-23T00:00:00",
          "2020-04-23T00:00:00",
          "2020-04-23T00:00:00",
          "2020-04-23T00:00:00",
          "2020-04-24T00:00:00",
          "2020-04-24T00:00:00",
          "2020-04-24T00:00:00",
          "2020-04-24T00:00:00",
          "2020-04-24T00:00:00",
          "2020-04-24T00:00:00",
          "2020-04-24T00:00:00",
          "2020-04-24T00:00:00",
          "2020-04-24T00:00:00",
          "2020-04-24T00:00:00",
          "2020-04-24T00:00:00",
          "2020-04-24T00:00:00",
          "2020-04-24T00:00:00",
          "2020-04-24T00:00:00",
          "2020-04-24T00:00:00",
          "2020-04-24T00:00:00",
          "2020-04-25T00:00:00",
          "2020-04-25T00:00:00",
          "2020-04-25T00:00:00",
          "2020-04-25T00:00:00",
          "2020-04-25T00:00:00",
          "2020-04-25T00:00:00",
          "2020-04-25T00:00:00",
          "2020-04-25T00:00:00",
          "2020-04-25T00:00:00",
          "2020-04-25T00:00:00",
          "2020-04-25T00:00:00",
          "2020-04-25T00:00:00",
          "2020-04-25T00:00:00",
          "2020-04-25T00:00:00",
          "2020-04-25T00:00:00",
          "2020-04-25T00:00:00",
          "2020-04-26T00:00:00",
          "2020-04-26T00:00:00",
          "2020-04-26T00:00:00",
          "2020-04-26T00:00:00",
          "2020-04-26T00:00:00",
          "2020-04-26T00:00:00",
          "2020-04-26T00:00:00",
          "2020-04-26T00:00:00",
          "2020-04-26T00:00:00",
          "2020-04-26T00:00:00",
          "2020-04-26T00:00:00",
          "2020-04-26T00:00:00",
          "2020-04-26T00:00:00",
          "2020-04-26T00:00:00",
          "2020-04-26T00:00:00",
          "2020-04-26T00:00:00",
          "2020-04-27T00:00:00",
          "2020-04-27T00:00:00",
          "2020-04-27T00:00:00",
          "2020-04-27T00:00:00",
          "2020-04-27T00:00:00",
          "2020-04-27T00:00:00",
          "2020-04-27T00:00:00",
          "2020-04-27T00:00:00",
          "2020-04-27T00:00:00",
          "2020-04-27T00:00:00",
          "2020-04-27T00:00:00",
          "2020-04-27T00:00:00",
          "2020-04-27T00:00:00",
          "2020-04-27T00:00:00",
          "2020-04-27T00:00:00",
          "2020-04-27T00:00:00",
          "2020-04-28T00:00:00",
          "2020-04-28T00:00:00",
          "2020-04-28T00:00:00",
          "2020-04-28T00:00:00",
          "2020-04-28T00:00:00",
          "2020-04-28T00:00:00",
          "2020-04-28T00:00:00",
          "2020-04-28T00:00:00",
          "2020-04-28T00:00:00",
          "2020-04-28T00:00:00",
          "2020-04-28T00:00:00",
          "2020-04-28T00:00:00",
          "2020-04-28T00:00:00",
          "2020-04-28T00:00:00",
          "2020-04-28T00:00:00",
          "2020-04-28T00:00:00",
          "2020-04-29T00:00:00",
          "2020-04-29T00:00:00",
          "2020-04-29T00:00:00",
          "2020-04-29T00:00:00",
          "2020-04-29T00:00:00",
          "2020-04-29T00:00:00",
          "2020-04-29T00:00:00",
          "2020-04-29T00:00:00",
          "2020-04-29T00:00:00",
          "2020-04-29T00:00:00",
          "2020-04-29T00:00:00",
          "2020-04-29T00:00:00",
          "2020-04-29T00:00:00",
          "2020-04-29T00:00:00",
          "2020-04-29T00:00:00",
          "2020-04-29T00:00:00",
          "2020-04-30T00:00:00",
          "2020-04-30T00:00:00",
          "2020-04-30T00:00:00",
          "2020-04-30T00:00:00",
          "2020-04-30T00:00:00",
          "2020-04-30T00:00:00",
          "2020-04-30T00:00:00",
          "2020-04-30T00:00:00",
          "2020-04-30T00:00:00",
          "2020-04-30T00:00:00",
          "2020-04-30T00:00:00",
          "2020-04-30T00:00:00",
          "2020-04-30T00:00:00",
          "2020-04-30T00:00:00",
          "2020-04-30T00:00:00",
          "2020-04-30T00:00:00",
          "2020-05-01T00:00:00",
          "2020-05-01T00:00:00",
          "2020-05-01T00:00:00",
          "2020-05-01T00:00:00",
          "2020-05-01T00:00:00",
          "2020-05-01T00:00:00",
          "2020-05-01T00:00:00",
          "2020-05-01T00:00:00",
          "2020-05-01T00:00:00",
          "2020-05-01T00:00:00",
          "2020-05-01T00:00:00",
          "2020-05-01T00:00:00",
          "2020-05-01T00:00:00",
          "2020-05-01T00:00:00",
          "2020-05-01T00:00:00",
          "2020-05-01T00:00:00",
          "2020-05-02T00:00:00",
          "2020-05-02T00:00:00",
          "2020-05-02T00:00:00",
          "2020-05-02T00:00:00",
          "2020-05-02T00:00:00",
          "2020-05-02T00:00:00",
          "2020-05-02T00:00:00",
          "2020-05-02T00:00:00",
          "2020-05-02T00:00:00",
          "2020-05-02T00:00:00",
          "2020-05-02T00:00:00",
          "2020-05-02T00:00:00",
          "2020-05-02T00:00:00",
          "2020-05-02T00:00:00",
          "2020-05-02T00:00:00",
          "2020-05-02T00:00:00",
          "2020-05-03T00:00:00",
          "2020-05-03T00:00:00",
          "2020-05-03T00:00:00",
          "2020-05-03T00:00:00",
          "2020-05-03T00:00:00",
          "2020-05-03T00:00:00",
          "2020-05-03T00:00:00",
          "2020-05-03T00:00:00",
          "2020-05-03T00:00:00",
          "2020-05-03T00:00:00",
          "2020-05-03T00:00:00",
          "2020-05-03T00:00:00",
          "2020-05-03T00:00:00",
          "2020-05-03T00:00:00",
          "2020-05-03T00:00:00",
          "2020-05-03T00:00:00",
          "2020-05-04T00:00:00",
          "2020-05-04T00:00:00",
          "2020-05-04T00:00:00",
          "2020-05-04T00:00:00",
          "2020-05-04T00:00:00",
          "2020-05-04T00:00:00",
          "2020-05-04T00:00:00",
          "2020-05-04T00:00:00",
          "2020-05-04T00:00:00",
          "2020-05-04T00:00:00",
          "2020-05-04T00:00:00",
          "2020-05-04T00:00:00",
          "2020-05-04T00:00:00",
          "2020-05-04T00:00:00",
          "2020-05-04T00:00:00",
          "2020-05-04T00:00:00",
          "2020-05-05T00:00:00",
          "2020-05-05T00:00:00",
          "2020-05-05T00:00:00",
          "2020-05-05T00:00:00",
          "2020-05-05T00:00:00",
          "2020-05-05T00:00:00",
          "2020-05-05T00:00:00",
          "2020-05-05T00:00:00",
          "2020-05-05T00:00:00",
          "2020-05-05T00:00:00",
          "2020-05-05T00:00:00",
          "2020-05-05T00:00:00",
          "2020-05-05T00:00:00",
          "2020-05-05T00:00:00",
          "2020-05-05T00:00:00",
          "2020-05-05T00:00:00",
          "2020-05-06T00:00:00",
          "2020-05-06T00:00:00",
          "2020-05-06T00:00:00",
          "2020-05-06T00:00:00",
          "2020-05-06T00:00:00",
          "2020-05-06T00:00:00",
          "2020-05-06T00:00:00",
          "2020-05-06T00:00:00",
          "2020-05-06T00:00:00",
          "2020-05-06T00:00:00",
          "2020-05-06T00:00:00",
          "2020-05-06T00:00:00",
          "2020-05-06T00:00:00",
          "2020-05-06T00:00:00",
          "2020-05-06T00:00:00",
          "2020-05-06T00:00:00",
          "2020-05-07T00:00:00",
          "2020-05-07T00:00:00",
          "2020-05-07T00:00:00",
          "2020-05-07T00:00:00",
          "2020-05-07T00:00:00",
          "2020-05-07T00:00:00",
          "2020-05-07T00:00:00",
          "2020-05-07T00:00:00",
          "2020-05-07T00:00:00",
          "2020-05-07T00:00:00",
          "2020-05-07T00:00:00",
          "2020-05-07T00:00:00",
          "2020-05-07T00:00:00",
          "2020-05-07T00:00:00",
          "2020-05-07T00:00:00",
          "2020-05-07T00:00:00",
          "2020-05-08T00:00:00",
          "2020-05-08T00:00:00",
          "2020-05-08T00:00:00",
          "2020-05-08T00:00:00",
          "2020-05-08T00:00:00",
          "2020-05-08T00:00:00",
          "2020-05-08T00:00:00",
          "2020-05-08T00:00:00",
          "2020-05-08T00:00:00",
          "2020-05-08T00:00:00",
          "2020-05-08T00:00:00",
          "2020-05-08T00:00:00",
          "2020-05-08T00:00:00",
          "2020-05-08T00:00:00",
          "2020-05-08T00:00:00",
          "2020-05-08T00:00:00",
          "2020-05-09T00:00:00",
          "2020-05-09T00:00:00",
          "2020-05-09T00:00:00",
          "2020-05-09T00:00:00",
          "2020-05-09T00:00:00",
          "2020-05-09T00:00:00",
          "2020-05-09T00:00:00",
          "2020-05-09T00:00:00",
          "2020-05-09T00:00:00",
          "2020-05-09T00:00:00",
          "2020-05-09T00:00:00",
          "2020-05-09T00:00:00",
          "2020-05-09T00:00:00",
          "2020-05-09T00:00:00",
          "2020-05-09T00:00:00",
          "2020-05-09T00:00:00",
          "2020-05-10T00:00:00",
          "2020-05-10T00:00:00",
          "2020-05-10T00:00:00",
          "2020-05-10T00:00:00",
          "2020-05-10T00:00:00",
          "2020-05-10T00:00:00",
          "2020-05-10T00:00:00",
          "2020-05-10T00:00:00",
          "2020-05-10T00:00:00",
          "2020-05-10T00:00:00",
          "2020-05-10T00:00:00",
          "2020-05-10T00:00:00",
          "2020-05-10T00:00:00",
          "2020-05-10T00:00:00",
          "2020-05-10T00:00:00",
          "2020-05-10T00:00:00",
          "2020-05-11T00:00:00",
          "2020-05-11T00:00:00",
          "2020-05-11T00:00:00",
          "2020-05-11T00:00:00",
          "2020-05-11T00:00:00",
          "2020-05-11T00:00:00",
          "2020-05-11T00:00:00",
          "2020-05-11T00:00:00",
          "2020-05-11T00:00:00",
          "2020-05-11T00:00:00",
          "2020-05-11T00:00:00",
          "2020-05-11T00:00:00",
          "2020-05-11T00:00:00",
          "2020-05-11T00:00:00",
          "2020-05-11T00:00:00",
          "2020-05-11T00:00:00",
          "2020-05-12T00:00:00",
          "2020-05-12T00:00:00",
          "2020-05-12T00:00:00",
          "2020-05-12T00:00:00",
          "2020-05-12T00:00:00",
          "2020-05-12T00:00:00",
          "2020-05-12T00:00:00",
          "2020-05-12T00:00:00",
          "2020-05-12T00:00:00",
          "2020-05-12T00:00:00",
          "2020-05-12T00:00:00",
          "2020-05-12T00:00:00",
          "2020-05-12T00:00:00",
          "2020-05-12T00:00:00",
          "2020-05-12T00:00:00",
          "2020-05-12T00:00:00",
          "2020-05-13T00:00:00",
          "2020-05-13T00:00:00",
          "2020-05-13T00:00:00",
          "2020-05-13T00:00:00",
          "2020-05-13T00:00:00",
          "2020-05-13T00:00:00",
          "2020-05-13T00:00:00",
          "2020-05-13T00:00:00",
          "2020-05-13T00:00:00",
          "2020-05-13T00:00:00",
          "2020-05-13T00:00:00",
          "2020-05-13T00:00:00",
          "2020-05-13T00:00:00",
          "2020-05-13T00:00:00",
          "2020-05-13T00:00:00",
          "2020-05-13T00:00:00",
          "2020-05-14T00:00:00",
          "2020-05-14T00:00:00",
          "2020-05-14T00:00:00",
          "2020-05-14T00:00:00",
          "2020-05-14T00:00:00",
          "2020-05-14T00:00:00",
          "2020-05-14T00:00:00",
          "2020-05-14T00:00:00",
          "2020-05-14T00:00:00",
          "2020-05-14T00:00:00",
          "2020-05-14T00:00:00",
          "2020-05-14T00:00:00",
          "2020-05-14T00:00:00",
          "2020-05-14T00:00:00",
          "2020-05-14T00:00:00",
          "2020-05-14T00:00:00",
          "2020-05-15T00:00:00",
          "2020-05-15T00:00:00",
          "2020-05-15T00:00:00",
          "2020-05-15T00:00:00",
          "2020-05-15T00:00:00",
          "2020-05-15T00:00:00",
          "2020-05-15T00:00:00",
          "2020-05-15T00:00:00",
          "2020-05-15T00:00:00",
          "2020-05-15T00:00:00",
          "2020-05-15T00:00:00",
          "2020-05-15T00:00:00",
          "2020-05-15T00:00:00",
          "2020-05-15T00:00:00",
          "2020-05-15T00:00:00",
          "2020-05-15T00:00:00",
          "2020-05-16T00:00:00",
          "2020-05-16T00:00:00",
          "2020-05-16T00:00:00",
          "2020-05-16T00:00:00",
          "2020-05-16T00:00:00",
          "2020-05-16T00:00:00",
          "2020-05-16T00:00:00",
          "2020-05-16T00:00:00",
          "2020-05-16T00:00:00",
          "2020-05-16T00:00:00",
          "2020-05-16T00:00:00",
          "2020-05-16T00:00:00",
          "2020-05-16T00:00:00",
          "2020-05-16T00:00:00",
          "2020-05-16T00:00:00",
          "2020-05-16T00:00:00",
          "2020-05-17T00:00:00",
          "2020-05-17T00:00:00",
          "2020-05-17T00:00:00",
          "2020-05-17T00:00:00",
          "2020-05-17T00:00:00",
          "2020-05-17T00:00:00",
          "2020-05-17T00:00:00",
          "2020-05-17T00:00:00",
          "2020-05-17T00:00:00",
          "2020-05-17T00:00:00",
          "2020-05-17T00:00:00",
          "2020-05-17T00:00:00",
          "2020-05-17T00:00:00",
          "2020-05-17T00:00:00",
          "2020-05-17T00:00:00",
          "2020-05-17T00:00:00",
          "2020-05-19T00:00:00",
          "2020-05-19T00:00:00",
          "2020-05-19T00:00:00",
          "2020-05-19T00:00:00",
          "2020-05-19T00:00:00",
          "2020-05-19T00:00:00",
          "2020-05-19T00:00:00",
          "2020-05-19T00:00:00",
          "2020-05-19T00:00:00",
          "2020-05-19T00:00:00",
          "2020-05-19T00:00:00",
          "2020-05-19T00:00:00",
          "2020-05-19T00:00:00",
          "2020-05-19T00:00:00",
          "2020-05-19T00:00:00",
          "2020-05-19T00:00:00",
          "2020-05-20T00:00:00",
          "2020-05-20T00:00:00",
          "2020-05-20T00:00:00",
          "2020-05-20T00:00:00",
          "2020-05-20T00:00:00",
          "2020-05-20T00:00:00",
          "2020-05-20T00:00:00",
          "2020-05-20T00:00:00",
          "2020-05-20T00:00:00",
          "2020-05-20T00:00:00",
          "2020-05-20T00:00:00",
          "2020-05-20T00:00:00",
          "2020-05-20T00:00:00",
          "2020-05-20T00:00:00",
          "2020-05-20T00:00:00",
          "2020-05-20T00:00:00",
          "2020-05-21T00:00:00",
          "2020-05-21T00:00:00",
          "2020-05-21T00:00:00",
          "2020-05-21T00:00:00",
          "2020-05-21T00:00:00",
          "2020-05-21T00:00:00",
          "2020-05-21T00:00:00",
          "2020-05-21T00:00:00",
          "2020-05-21T00:00:00",
          "2020-05-21T00:00:00",
          "2020-05-21T00:00:00",
          "2020-05-21T00:00:00",
          "2020-05-21T00:00:00",
          "2020-05-21T00:00:00",
          "2020-05-21T00:00:00",
          "2020-05-21T00:00:00",
          "2020-05-22T00:00:00",
          "2020-05-22T00:00:00",
          "2020-05-22T00:00:00",
          "2020-05-22T00:00:00",
          "2020-05-22T00:00:00",
          "2020-05-22T00:00:00",
          "2020-05-22T00:00:00",
          "2020-05-22T00:00:00",
          "2020-05-22T00:00:00",
          "2020-05-22T00:00:00",
          "2020-05-22T00:00:00",
          "2020-05-22T00:00:00",
          "2020-05-22T00:00:00",
          "2020-05-22T00:00:00",
          "2020-05-22T00:00:00",
          "2020-05-22T00:00:00",
          "2020-05-23T00:00:00",
          "2020-05-23T00:00:00",
          "2020-05-23T00:00:00",
          "2020-05-23T00:00:00",
          "2020-05-23T00:00:00",
          "2020-05-23T00:00:00",
          "2020-05-23T00:00:00",
          "2020-05-23T00:00:00",
          "2020-05-23T00:00:00",
          "2020-05-23T00:00:00",
          "2020-05-23T00:00:00",
          "2020-05-23T00:00:00",
          "2020-05-23T00:00:00",
          "2020-05-23T00:00:00",
          "2020-05-23T00:00:00",
          "2020-05-23T00:00:00",
          "2020-05-24T00:00:00",
          "2020-05-24T00:00:00",
          "2020-05-24T00:00:00",
          "2020-05-24T00:00:00",
          "2020-05-24T00:00:00",
          "2020-05-24T00:00:00",
          "2020-05-24T00:00:00",
          "2020-05-24T00:00:00",
          "2020-05-24T00:00:00",
          "2020-05-24T00:00:00",
          "2020-05-24T00:00:00",
          "2020-05-24T00:00:00",
          "2020-05-24T00:00:00",
          "2020-05-24T00:00:00",
          "2020-05-24T00:00:00",
          "2020-05-24T00:00:00",
          "2020-05-25T00:00:00",
          "2020-05-25T00:00:00",
          "2020-05-25T00:00:00",
          "2020-05-25T00:00:00",
          "2020-05-25T00:00:00",
          "2020-05-25T00:00:00",
          "2020-05-25T00:00:00",
          "2020-05-25T00:00:00",
          "2020-05-25T00:00:00",
          "2020-05-25T00:00:00",
          "2020-05-25T00:00:00",
          "2020-05-25T00:00:00",
          "2020-05-25T00:00:00",
          "2020-05-25T00:00:00",
          "2020-05-25T00:00:00",
          "2020-05-25T00:00:00",
          "2020-05-26T00:00:00",
          "2020-05-26T00:00:00",
          "2020-05-26T00:00:00",
          "2020-05-26T00:00:00",
          "2020-05-26T00:00:00",
          "2020-05-26T00:00:00",
          "2020-05-26T00:00:00",
          "2020-05-26T00:00:00",
          "2020-05-26T00:00:00",
          "2020-05-26T00:00:00",
          "2020-05-26T00:00:00",
          "2020-05-26T00:00:00",
          "2020-05-26T00:00:00",
          "2020-05-26T00:00:00",
          "2020-05-26T00:00:00",
          "2020-05-26T00:00:00",
          "2020-05-27T00:00:00",
          "2020-05-27T00:00:00",
          "2020-05-27T00:00:00",
          "2020-05-27T00:00:00",
          "2020-05-27T00:00:00",
          "2020-05-27T00:00:00",
          "2020-05-27T00:00:00",
          "2020-05-27T00:00:00",
          "2020-05-27T00:00:00",
          "2020-05-27T00:00:00",
          "2020-05-27T00:00:00",
          "2020-05-27T00:00:00",
          "2020-05-27T00:00:00",
          "2020-05-27T00:00:00",
          "2020-05-27T00:00:00",
          "2020-05-27T00:00:00",
          "2020-05-28T00:00:00",
          "2020-05-28T00:00:00",
          "2020-05-28T00:00:00",
          "2020-05-28T00:00:00",
          "2020-05-28T00:00:00",
          "2020-05-28T00:00:00",
          "2020-05-28T00:00:00",
          "2020-05-28T00:00:00",
          "2020-05-28T00:00:00",
          "2020-05-28T00:00:00",
          "2020-05-28T00:00:00",
          "2020-05-28T00:00:00",
          "2020-05-28T00:00:00",
          "2020-05-28T00:00:00",
          "2020-05-28T00:00:00",
          "2020-05-28T00:00:00",
          "2020-05-29T00:00:00",
          "2020-05-29T00:00:00",
          "2020-05-29T00:00:00",
          "2020-05-29T00:00:00",
          "2020-05-29T00:00:00",
          "2020-05-29T00:00:00",
          "2020-05-29T00:00:00",
          "2020-05-29T00:00:00",
          "2020-05-29T00:00:00",
          "2020-05-29T00:00:00",
          "2020-05-29T00:00:00",
          "2020-05-29T00:00:00",
          "2020-05-29T00:00:00",
          "2020-05-29T00:00:00",
          "2020-05-29T00:00:00",
          "2020-05-29T00:00:00",
          "2020-05-30T00:00:00",
          "2020-05-30T00:00:00",
          "2020-05-30T00:00:00",
          "2020-05-30T00:00:00",
          "2020-05-30T00:00:00",
          "2020-05-30T00:00:00",
          "2020-05-30T00:00:00",
          "2020-05-30T00:00:00",
          "2020-05-30T00:00:00",
          "2020-05-30T00:00:00",
          "2020-05-30T00:00:00",
          "2020-05-30T00:00:00",
          "2020-05-30T00:00:00",
          "2020-05-30T00:00:00",
          "2020-05-30T00:00:00",
          "2020-05-30T00:00:00",
          "2020-05-31T00:00:00",
          "2020-05-31T00:00:00",
          "2020-05-31T00:00:00",
          "2020-05-31T00:00:00",
          "2020-05-31T00:00:00",
          "2020-05-31T00:00:00",
          "2020-05-31T00:00:00",
          "2020-05-31T00:00:00",
          "2020-05-31T00:00:00",
          "2020-05-31T00:00:00",
          "2020-05-31T00:00:00",
          "2020-05-31T00:00:00",
          "2020-05-31T00:00:00",
          "2020-05-31T00:00:00",
          "2020-05-31T00:00:00",
          "2020-05-31T00:00:00",
          "2020-06-01T00:00:00",
          "2020-06-01T00:00:00",
          "2020-06-01T00:00:00",
          "2020-06-01T00:00:00",
          "2020-06-01T00:00:00",
          "2020-06-01T00:00:00",
          "2020-06-01T00:00:00",
          "2020-06-01T00:00:00",
          "2020-06-01T00:00:00",
          "2020-06-01T00:00:00",
          "2020-06-01T00:00:00",
          "2020-06-01T00:00:00",
          "2020-06-01T00:00:00",
          "2020-06-01T00:00:00",
          "2020-06-01T00:00:00",
          "2020-06-01T00:00:00",
          "2020-06-02T00:00:00",
          "2020-06-02T00:00:00",
          "2020-06-02T00:00:00",
          "2020-06-02T00:00:00",
          "2020-06-02T00:00:00",
          "2020-06-02T00:00:00",
          "2020-06-02T00:00:00",
          "2020-06-02T00:00:00",
          "2020-06-02T00:00:00",
          "2020-06-02T00:00:00",
          "2020-06-02T00:00:00",
          "2020-06-02T00:00:00",
          "2020-06-02T00:00:00",
          "2020-06-02T00:00:00",
          "2020-06-02T00:00:00",
          "2020-06-02T00:00:00",
          "2020-06-03T00:00:00",
          "2020-06-03T00:00:00",
          "2020-06-03T00:00:00",
          "2020-06-03T00:00:00",
          "2020-06-03T00:00:00",
          "2020-06-03T00:00:00",
          "2020-06-03T00:00:00",
          "2020-06-03T00:00:00",
          "2020-06-03T00:00:00",
          "2020-06-03T00:00:00",
          "2020-06-03T00:00:00",
          "2020-06-03T00:00:00",
          "2020-06-03T00:00:00",
          "2020-06-03T00:00:00",
          "2020-06-03T00:00:00",
          "2020-06-03T00:00:00",
          "2020-06-04T00:00:00",
          "2020-06-04T00:00:00",
          "2020-06-04T00:00:00",
          "2020-06-04T00:00:00",
          "2020-06-04T00:00:00",
          "2020-06-04T00:00:00",
          "2020-06-04T00:00:00",
          "2020-06-04T00:00:00",
          "2020-06-04T00:00:00",
          "2020-06-04T00:00:00",
          "2020-06-04T00:00:00",
          "2020-06-04T00:00:00",
          "2020-06-04T00:00:00",
          "2020-06-04T00:00:00",
          "2020-06-04T00:00:00",
          "2020-06-04T00:00:00",
          "2020-06-05T00:00:00",
          "2020-06-05T00:00:00",
          "2020-06-05T00:00:00",
          "2020-06-05T00:00:00",
          "2020-06-05T00:00:00",
          "2020-06-05T00:00:00",
          "2020-06-05T00:00:00",
          "2020-06-05T00:00:00",
          "2020-06-05T00:00:00",
          "2020-06-05T00:00:00",
          "2020-06-05T00:00:00",
          "2020-06-05T00:00:00",
          "2020-06-05T00:00:00",
          "2020-06-05T00:00:00",
          "2020-06-05T00:00:00",
          "2020-06-05T00:00:00",
          "2020-06-06T00:00:00",
          "2020-06-06T00:00:00",
          "2020-06-06T00:00:00",
          "2020-06-06T00:00:00",
          "2020-06-06T00:00:00",
          "2020-06-06T00:00:00",
          "2020-06-06T00:00:00",
          "2020-06-06T00:00:00",
          "2020-06-06T00:00:00",
          "2020-06-06T00:00:00",
          "2020-06-06T00:00:00",
          "2020-06-06T00:00:00",
          "2020-06-06T00:00:00",
          "2020-06-06T00:00:00",
          "2020-06-06T00:00:00",
          "2020-06-06T00:00:00",
          "2020-06-07T00:00:00",
          "2020-06-07T00:00:00",
          "2020-06-07T00:00:00",
          "2020-06-07T00:00:00",
          "2020-06-07T00:00:00",
          "2020-06-07T00:00:00",
          "2020-06-07T00:00:00",
          "2020-06-07T00:00:00",
          "2020-06-07T00:00:00",
          "2020-06-07T00:00:00",
          "2020-06-07T00:00:00",
          "2020-06-07T00:00:00",
          "2020-06-07T00:00:00",
          "2020-06-07T00:00:00",
          "2020-06-07T00:00:00",
          "2020-06-07T00:00:00",
          "2020-06-08T00:00:00",
          "2020-06-08T00:00:00",
          "2020-06-08T00:00:00",
          "2020-06-08T00:00:00",
          "2020-06-08T00:00:00",
          "2020-06-08T00:00:00",
          "2020-06-08T00:00:00",
          "2020-06-08T00:00:00",
          "2020-06-08T00:00:00",
          "2020-06-08T00:00:00",
          "2020-06-08T00:00:00",
          "2020-06-08T00:00:00",
          "2020-06-08T00:00:00",
          "2020-06-08T00:00:00",
          "2020-06-08T00:00:00",
          "2020-06-08T00:00:00",
          "2020-06-09T00:00:00",
          "2020-06-09T00:00:00",
          "2020-06-09T00:00:00",
          "2020-06-09T00:00:00",
          "2020-06-09T00:00:00",
          "2020-06-09T00:00:00",
          "2020-06-09T00:00:00",
          "2020-06-09T00:00:00",
          "2020-06-09T00:00:00",
          "2020-06-09T00:00:00",
          "2020-06-09T00:00:00",
          "2020-06-09T00:00:00",
          "2020-06-09T00:00:00",
          "2020-06-09T00:00:00",
          "2020-06-09T00:00:00",
          "2020-06-09T00:00:00",
          "2020-06-10T00:00:00",
          "2020-06-10T00:00:00",
          "2020-06-10T00:00:00",
          "2020-06-10T00:00:00",
          "2020-06-10T00:00:00",
          "2020-06-10T00:00:00",
          "2020-06-10T00:00:00",
          "2020-06-10T00:00:00",
          "2020-06-10T00:00:00",
          "2020-06-10T00:00:00",
          "2020-06-10T00:00:00",
          "2020-06-10T00:00:00",
          "2020-06-10T00:00:00",
          "2020-06-10T00:00:00",
          "2020-06-10T00:00:00",
          "2020-06-10T00:00:00",
          "2020-06-11T00:00:00",
          "2020-06-11T00:00:00",
          "2020-06-11T00:00:00",
          "2020-06-11T00:00:00",
          "2020-06-11T00:00:00",
          "2020-06-11T00:00:00",
          "2020-06-11T00:00:00",
          "2020-06-11T00:00:00",
          "2020-06-11T00:00:00",
          "2020-06-11T00:00:00",
          "2020-06-11T00:00:00",
          "2020-06-11T00:00:00",
          "2020-06-11T00:00:00",
          "2020-06-11T00:00:00",
          "2020-06-11T00:00:00",
          "2020-06-11T00:00:00",
          "2020-06-12T00:00:00",
          "2020-06-12T00:00:00",
          "2020-06-12T00:00:00",
          "2020-06-12T00:00:00",
          "2020-06-12T00:00:00",
          "2020-06-12T00:00:00",
          "2020-06-12T00:00:00",
          "2020-06-12T00:00:00",
          "2020-06-12T00:00:00",
          "2020-06-12T00:00:00",
          "2020-06-12T00:00:00",
          "2020-06-12T00:00:00",
          "2020-06-12T00:00:00",
          "2020-06-12T00:00:00",
          "2020-06-12T00:00:00",
          "2020-06-12T00:00:00",
          "2020-06-20T00:00:00",
          "2020-06-20T00:00:00",
          "2020-06-20T00:00:00",
          "2020-06-20T00:00:00",
          "2020-06-20T00:00:00",
          "2020-06-20T00:00:00",
          "2020-06-20T00:00:00",
          "2020-06-20T00:00:00",
          "2020-06-20T00:00:00",
          "2020-06-20T00:00:00",
          "2020-06-20T00:00:00",
          "2020-06-20T00:00:00",
          "2020-06-20T00:00:00",
          "2020-06-20T00:00:00",
          "2020-06-20T00:00:00",
          "2020-06-20T00:00:00",
          "2020-06-21T00:00:00",
          "2020-06-21T00:00:00",
          "2020-06-21T00:00:00",
          "2020-06-21T00:00:00",
          "2020-06-21T00:00:00",
          "2020-06-21T00:00:00",
          "2020-06-21T00:00:00",
          "2020-06-21T00:00:00",
          "2020-06-21T00:00:00",
          "2020-06-21T00:00:00",
          "2020-06-21T00:00:00",
          "2020-06-21T00:00:00",
          "2020-06-21T00:00:00",
          "2020-06-21T00:00:00",
          "2020-06-21T00:00:00",
          "2020-06-21T00:00:00"
         ],
         "xaxis": "x",
         "y": [
          300,
          1433,
          464,
          3932,
          38,
          625,
          1198,
          2283,
          900,
          978,
          6339,
          1907,
          2071,
          1545,
          3340,
          465,
          321,
          1583,
          483,
          4053,
          27,
          588,
          1266,
          2645,
          998,
          1256,
          7062,
          2141,
          2063,
          1699,
          3645,
          493,
          345,
          1424,
          525,
          3982,
          55,
          601,
          1253,
          2433,
          984,
          1180,
          7132,
          2204,
          2010,
          1615,
          3778,
          489,
          406,
          1362,
          373,
          3933,
          36,
          678,
          1469,
          2673,
          1065,
          1127,
          7493,
          2418,
          1778,
          1566,
          3560,
          637,
          327,
          1606,
          496,
          4445,
          44,
          796,
          1623,
          3301,
          1466,
          1419,
          8487,
          3463,
          2229,
          2053,
          4038,
          811,
          251,
          1582,
          618,
          4514,
          79,
          945,
          1568,
          2878,
          1507,
          1651,
          8225,
          3723,
          2577,
          2299,
          4418,
          667,
          390,
          1248,
          388,
          3142,
          65,
          655,
          1096,
          1572,
          837,
          1027,
          5711,
          2230,
          1734,
          1219,
          3329,
          425,
          285,
          1341,
          433,
          3149,
          48,
          561,
          1169,
          1663,
          896,
          962,
          5047,
          2035,
          1838,
          1256,
          3291,
          430,
          295,
          1339,
          396,
          3606,
          27,
          733,
          1171,
          2283,
          1045,
          1164,
          6458,
          2214,
          1750,
          1492,
          3682,
          416,
          285,
          1333,
          367,
          3170,
          43,
          601,
          1179,
          1975,
          996,
          920,
          5598,
          2029,
          1811,
          1269,
          3368,
          388,
          307,
          1389,
          413,
          3449,
          46,
          657,
          1429,
          2475,
          1115,
          1038,
          6732,
          2739,
          1704,
          1406,
          3442,
          636,
          297,
          1686,
          461,
          3953,
          64,
          741,
          1788,
          3188,
          1434,
          1451,
          7859,
          3246,
          2122,
          1866,
          4058,
          772,
          232,
          1636,
          528,
          4479,
          41,
          902,
          1521,
          2940,
          1611,
          1756,
          7628,
          3533,
          2578,
          2360,
          4669,
          578,
          403,
          1239,
          280,
          2980,
          44,
          571,
          1001,
          1581,
          909,
          1031,
          4965,
          2464,
          1798,
          1236,
          3345,
          423,
          348,
          1384,
          344,
          3107,
          38,
          618,
          1074,
          1949,
          884,
          1076,
          5256,
          2876,
          1883,
          1325,
          3398,
          430,
          296,
          1331,
          344,
          3247,
          53,
          621,
          1070,
          1970,
          921,
          1046,
          5460,
          2548,
          1695,
          1332,
          3435,
          401,
          345,
          1328,
          354,
          3208,
          48,
          585,
          1256,
          2034,
          969,
          1076,
          5861,
          2634,
          1881,
          1316,
          3459,
          387,
          367,
          1537,
          435,
          3815,
          47,
          643,
          1656,
          3076,
          1208,
          1312,
          7989,
          3104,
          1856,
          1738,
          3883,
          616,
          296,
          1825,
          502,
          4258,
          77,
          851,
          1852,
          3719,
          1628,
          1677,
          8641,
          4378,
          2308,
          2292,
          4542,
          831,
          252,
          1838,
          579,
          4062,
          41,
          921,
          1580,
          3212,
          1708,
          1688,
          7699,
          4485,
          2516,
          2430,
          4588,
          623,
          410,
          1243,
          403,
          3074,
          40,
          630,
          1118,
          1673,
          1023,
          1066,
          5802,
          2236,
          1934,
          1431,
          3211,
          401,
          379,
          1546,
          509,
          3655,
          43,
          587,
          1374,
          2557,
          1296,
          1089,
          6615,
          2463,
          2078,
          1745,
          3808,
          402,
          335,
          1431,
          469,
          3407,
          47,
          539,
          1248,
          2307,
          1149,
          1140,
          6300,
          2394,
          1915,
          1580,
          3360,
          431,
          393,
          1332,
          414,
          3419,
          25,
          571,
          1368,
          2310,
          1120,
          1199,
          6694,
          2565,
          1946,
          1617,
          3414,
          505,
          392,
          1542,
          567,
          4031,
          47,
          657,
          1964,
          3382,
          1366,
          1435,
          8929,
          3337,
          2028,
          1968,
          3929,
          695,
          291,
          1663,
          579,
          4034,
          54,
          716,
          1816,
          3460,
          1427,
          1551,
          8816,
          3881,
          2334,
          2035,
          4191,
          886,
          221,
          1769,
          686,
          4365,
          49,
          803,
          1744,
          3214,
          1567,
          1725,
          9113,
          3974,
          2522,
          2467,
          4481,
          673,
          382,
          1296,
          473,
          3268,
          44,
          569,
          1143,
          1749,
          940,
          1061,
          5826,
          2581,
          1951,
          1404,
          3193,
          461,
          351,
          1391,
          574,
          3439,
          41,
          561,
          1256,
          2193,
          959,
          1044,
          5936,
          2277,
          2080,
          1498,
          3668,
          492,
          357,
          1441,
          598,
          3251,
          53,
          613,
          1308,
          2164,
          1075,
          1145,
          6712,
          2505,
          2199,
          1493,
          3386,
          493,
          296,
          1383,
          614,
          3558,
          56,
          531,
          1506,
          2257,
          1053,
          1088,
          6721,
          2520,
          2050,
          1559,
          3282,
          473,
          334,
          1614,
          589,
          3598,
          34,
          630,
          1737,
          3051,
          1155,
          1176,
          8190,
          3038,
          2033,
          1610,
          3613,
          678,
          262,
          1702,
          623,
          4102,
          57,
          712,
          2014,
          3403,
          1470,
          1486,
          8602,
          3669,
          2333,
          2087,
          3985,
          821,
          197,
          1736,
          652,
          3990,
          51,
          784,
          1644,
          3019,
          1563,
          1550,
          7775,
          3655,
          2660,
          2235,
          4335,
          608,
          355,
          1345,
          457,
          3193,
          27,
          582,
          1083,
          1696,
          845,
          874,
          5711,
          2982,
          1830,
          1310,
          3090,
          425,
          388,
          1551,
          594,
          3996,
          29,
          607,
          1433,
          2362,
          1234,
          1261,
          6669,
          3196,
          2154,
          1680,
          3788,
          473,
          318,
          1536,
          500,
          3736,
          23,
          605,
          1320,
          2207,
          1088,
          1065,
          6378,
          3003,
          2052,
          1407,
          3510,
          474,
          357,
          1484,
          430,
          3647,
          36,
          609,
          1553,
          2204,
          1023,
          1189,
          6677,
          2990,
          2005,
          1367,
          3524,
          458,
          362,
          1553,
          479,
          3979,
          42,
          673,
          1813,
          2960,
          1180,
          1260,
          8242,
          3356,
          1969,
          1628,
          3761,
          708,
          270,
          1862,
          597,
          4135,
          40,
          762,
          1900,
          3500,
          1473,
          1560,
          8745,
          4436,
          2347,
          1925,
          4304,
          908,
          209,
          1914,
          526,
          4845,
          60,
          811,
          1698,
          3274,
          1577,
          1723,
          7935,
          4329,
          2681,
          2226,
          4455,
          723,
          348,
          1422,
          433,
          3305,
          38,
          547,
          1136,
          1820,
          862,
          1032,
          5566,
          2429,
          1967,
          1136,
          3196,
          463,
          349,
          1504,
          468,
          3343,
          43,
          554,
          1204,
          2021,
          943,
          985,
          6014,
          2261,
          2181,
          1333,
          3365,
          491,
          360,
          1532,
          498,
          3264,
          39,
          577,
          1224,
          1923,
          912,
          1063,
          6031,
          2328,
          1773,
          1283,
          3257,
          420,
          356,
          1500,
          553,
          3711,
          35,
          628,
          1359,
          2227,
          1050,
          1158,
          6641,
          3097,
          1962,
          1407,
          3558,
          483,
          375,
          1661,
          660,
          3949,
          56,
          657,
          1790,
          2982,
          1094,
          1199,
          7754,
          2933,
          1971,
          1399,
          3494,
          677,
          266,
          1849,
          682,
          4279,
          32,
          755,
          1891,
          3728,
          1417,
          1553,
          8064,
          3495,
          2068,
          1781,
          4049,
          889,
          210,
          1824,
          651,
          4652,
          38,
          922,
          1574,
          3332,
          1606,
          1631,
          7741,
          3685,
          2358,
          2116,
          4474,
          809,
          372,
          1387,
          535,
          3520,
          34,
          627,
          1066,
          1677,
          889,
          996,
          5591,
          2520,
          1736,
          1157,
          3013,
          465,
          339,
          1545,
          502,
          3810,
          29,
          677,
          1106,
          2029,
          938,
          941,
          5747,
          2095,
          1918,
          1185,
          3251,
          498,
          303,
          1539,
          516,
          3569,
          25,
          758,
          1205,
          2227,
          944,
          1053,
          6345,
          2302,
          1777,
          1361,
          3253,
          532,
          313,
          1496,
          573,
          3878,
          48,
          676,
          1409,
          2533,
          1080,
          1111,
          6617,
          2468,
          1750,
          1386,
          3415,
          485,
          374,
          1582,
          589,
          4008,
          32,
          698,
          1639,
          3068,
          1229,
          1190,
          7751,
          2929,
          1891,
          1447,
          3351,
          743,
          254,
          1807,
          651,
          4643,
          21,
          775,
          1771,
          3471,
          1518,
          1546,
          8005,
          3431,
          2203,
          1775,
          4003,
          976,
          155,
          1736,
          643,
          4528,
          33,
          846,
          1466,
          3054,
          1575,
          1577,
          7744,
          3551,
          2276,
          2154,
          4259,
          728,
          354,
          1419,
          484,
          3409,
          25,
          618,
          1102,
          1695,
          927,
          1032,
          5560,
          2060,
          1692,
          1242,
          3024,
          455,
          332,
          1623,
          488,
          4040,
          26,
          607,
          1293,
          2244,
          1206,
          1023,
          5940,
          3667,
          1831,
          1364,
          3149,
          536,
          338,
          1495,
          601,
          3754,
          23,
          640,
          1368,
          2319,
          1146,
          1158,
          7039,
          2391,
          1882,
          1424,
          3456,
          512,
          299,
          1408,
          612,
          3862,
          36,
          676,
          1340,
          2466,
          1121,
          1199,
          6526,
          2609,
          1873,
          1397,
          3375,
          504,
          302,
          1722,
          597,
          4208,
          30,
          682,
          1735,
          3299,
          1280,
          1368,
          8267,
          2913,
          1933,
          1609,
          3690,
          693,
          272,
          1844,
          755,
          4422,
          33,
          719,
          1851,
          3732,
          1552,
          1655,
          9375,
          3660,
          2182,
          2022,
          4411,
          991,
          162,
          1733,
          617,
          4480,
          33,
          814,
          1548,
          3210,
          1569,
          1720,
          8424,
          3791,
          2316,
          2149,
          4466,
          691,
          359,
          1312,
          476,
          3255,
          24,
          591,
          1030,
          1762,
          779,
          1029,
          5980,
          2556,
          1791,
          1098,
          3388,
          429,
          312,
          1488,
          481,
          3442,
          21,
          598,
          1190,
          2086,
          872,
          1016,
          5904,
          2073,
          1802,
          1219,
          3443,
          433,
          300,
          1396,
          585,
          3393,
          10,
          566,
          1085,
          2139,
          967,
          1063,
          6466,
          2185,
          1641,
          1223,
          3355,
          494,
          309,
          1385,
          583,
          3510,
          25,
          533,
          1212,
          2143,
          1048,
          1106,
          6338,
          2185,
          1708,
          1253,
          3269,
          515,
          285,
          1512,
          601,
          3855,
          18,
          589,
          1622,
          2932,
          1153,
          1319,
          8370,
          2612,
          1847,
          1564,
          3549,
          797,
          234,
          1681,
          731,
          4290,
          41,
          657,
          1745,
          3482,
          1460,
          1593,
          9396,
          3184,
          2163,
          1905,
          4138,
          939,
          160,
          1765,
          677,
          4500,
          27,
          750,
          1567,
          3183,
          1656,
          1834,
          9182,
          3616,
          2421,
          2171,
          4511,
          748,
          342,
          1321,
          558,
          3074,
          22,
          533,
          1082,
          1727,
          812,
          1036,
          5638,
          3017,
          1844,
          1246,
          3432,
          446,
          275,
          1561,
          588,
          3715,
          20,
          544,
          1380,
          2508,
          1287,
          1063,
          7280,
          3110,
          1839,
          1477,
          3567,
          727,
          215,
          1813,
          705,
          4160,
          29,
          727,
          1335,
          2919,
          1444,
          1588,
          8540,
          3747,
          2202,
          1935,
          4235,
          688,
          300,
          1353,
          549,
          3289,
          16,
          577,
          1168,
          2003,
          920,
          1208,
          5912,
          3131,
          1746,
          1293,
          3395,
          463,
          333,
          1662,
          667,
          4225,
          17,
          612,
          1632,
          2973,
          1243,
          1478,
          8516,
          3714,
          1989,
          1796,
          4259,
          724,
          241,
          1637,
          785,
          4150,
          26,
          684,
          1639,
          3132,
          1299,
          1584,
          8650,
          3467,
          2026,
          1804,
          4232,
          971,
          199,
          1709,
          869,
          4765,
          30,
          857,
          1692,
          3298,
          1639,
          2097,
          9784,
          4410,
          2386,
          2490,
          5231,
          746,
          364,
          1293,
          660,
          3253,
          23,
          549,
          1021,
          1625,
          819,
          1270,
          6623,
          2773,
          1980,
          1147,
          3690,
          507,
          341,
          1512,
          580,
          3708,
          23,
          526,
          1166,
          2207,
          1064,
          1136,
          6626,
          2517,
          1889,
          1341,
          3788,
          537,
          308,
          1519,
          649,
          3610,
          7,
          646,
          1296,
          2189,
          1001,
          1296,
          6837,
          2575,
          1793,
          1457,
          3893,
          568,
          299,
          1397,
          509,
          3531,
          15,
          602,
          1268,
          2314,
          991,
          1249,
          6278,
          2732,
          1878,
          1329,
          3563,
          539,
          328,
          1603,
          628,
          3862,
          30,
          604,
          1619,
          3016,
          1150,
          1347,
          8199,
          2919,
          2046,
          1582,
          3982,
          851,
          281,
          1715,
          755,
          4343,
          34,
          686,
          1618,
          3561,
          1423,
          1644,
          9355,
          4402,
          2147,
          1847,
          4634,
          1116,
          152,
          1780,
          791,
          4453,
          28,
          758,
          1512,
          3276,
          1608,
          1884,
          8689,
          4607,
          2314,
          2014,
          5088,
          841,
          377,
          1358,
          583,
          3385,
          33,
          554,
          1097,
          1885,
          791,
          1204,
          5931,
          1803,
          1822,
          1172,
          3520,
          471,
          356,
          1388,
          641,
          3673,
          29,
          546,
          1221,
          2095,
          981,
          1070,
          5937,
          1696,
          1786,
          1322,
          3640,
          505,
          347,
          1619,
          609,
          3481,
          28,
          557,
          1396,
          2820,
          1019,
          1242,
          7415,
          1942,
          1808,
          1395,
          4014,
          712,
          237,
          1777,
          712,
          4270,
          58,
          636,
          1485,
          3061,
          1307,
          1608,
          8009,
          3013,
          2117,
          1765,
          4626,
          852,
          257,
          1364,
          771,
          3385,
          24,
          536,
          1017,
          1970,
          995,
          1204,
          5533,
          2381,
          1836,
          1307,
          3862,
          628,
          197,
          1689,
          823,
          4258,
          22,
          693,
          1565,
          2988,
          1182,
          1559,
          8357,
          3122,
          2159,
          1724,
          4661,
          909,
          131,
          1721,
          1062,
          4393,
          36,
          711,
          1502,
          2977,
          1419,
          1704,
          8111,
          3333,
          2219,
          1842,
          5045,
          873,
          343,
          1502,
          829,
          4022,
          31,
          657,
          1390,
          2531,
          865,
          1266,
          7079,
          2564,
          2006,
          1366,
          4313,
          819,
          259,
          1831,
          897,
          4655,
          5,
          808,
          1317,
          3054,
          1567,
          1701,
          9483,
          3479,
          2390,
          2452,
          5105,
          795,
          341,
          1378,
          671,
          3098,
          26,
          497,
          1027,
          1651,
          808,
          1003,
          5293,
          1765,
          1707,
          1216,
          3815,
          388,
          315,
          1466,
          606,
          3420,
          20,
          577,
          1176,
          2046,
          896,
          1127,
          5829,
          1954,
          1819,
          1208,
          3965,
          571,
          286,
          1832,
          734,
          4021,
          21,
          666,
          1793,
          4514,
          1123,
          1622,
          9603,
          2949,
          1836,
          1936,
          4624,
          1066,
          301,
          1766,
          950,
          5142,
          21,
          728,
          1905,
          3701,
          1513,
          1969,
          9978,
          4222,
          2493,
          2135,
          5323,
          945,
          185,
          1890,
          1062,
          5285,
          21,
          801,
          1446,
          2863,
          1529,
          1772,
          8402,
          4271,
          2518,
          2112,
          5237,
          790,
          367,
          1378,
          817,
          3781,
          20,
          649,
          1093,
          1641,
          743,
          1079,
          6125,
          2514,
          2179,
          1175,
          3816,
          455,
          306,
          1549,
          795,
          3958,
          15,
          597,
          1271,
          2050,
          944,
          1071,
          6464,
          2092,
          2215,
          1398,
          3839,
          576,
          328,
          1660,
          752,
          3755,
          25,
          648,
          1205,
          2173,
          975,
          1223,
          6614,
          2218,
          2005,
          1450,
          4225,
          577,
          307,
          1696,
          553,
          3971,
          22,
          676,
          1297,
          2212,
          1071,
          1184,
          6622,
          2306,
          2126,
          1403,
          4073,
          645,
          344,
          1905,
          712,
          4879,
          24,
          794,
          1890,
          3472,
          1490,
          1713,
          10153,
          3214,
          2381,
          1948,
          5170,
          868,
          276,
          2107,
          659,
          4829,
          33,
          789,
          1763,
          3456,
          1321,
          1793,
          9216,
          3689,
          2327,
          2073,
          5226,
          1086,
          138,
          2010,
          873,
          4750,
          25,
          974,
          1452,
          2985,
          1626,
          1993,
          8535,
          4125,
          2532,
          1961,
          5637,
          865,
          357,
          1687,
          616,
          4103,
          28,
          764,
          1338,
          2186,
          1082,
          1285,
          6506,
          2385,
          2088,
          1420,
          4353,
          543,
          386,
          1696,
          674,
          3585,
          8,
          762,
          1259,
          2341,
          1011,
          1318,
          6361,
          2068,
          1890,
          1426,
          4099,
          530,
          334,
          1642,
          527,
          3795,
          26,
          657,
          1246,
          2346,
          1075,
          1315,
          6707,
          2352,
          1966,
          1418,
          4300,
          605,
          316,
          1782,
          613,
          3913,
          24,
          763,
          1642,
          3090,
          1098,
          1474,
          8186,
          2615,
          1933,
          1559,
          4739,
          877,
          283,
          1990,
          670,
          4477,
          27,
          823,
          1683,
          3404,
          1406,
          1849,
          9424,
          3376,
          2283,
          1906,
          5317,
          1044,
          176,
          1826,
          868,
          4983,
          32,
          935,
          1568,
          3224,
          1680,
          2158,
          9262,
          3808,
          2557,
          2301,
          5855,
          844,
          359,
          1431,
          605,
          3512,
          26,
          572,
          1153,
          1891,
          834,
          1253,
          6259,
          2084,
          1728,
          1243,
          4201,
          442,
          349,
          1570,
          603,
          3830,
          22,
          506,
          1342,
          2369,
          1065,
          1292,
          6930,
          2006,
          2021,
          1300,
          4610,
          514,
          306,
          1566,
          565,
          3393,
          27,
          573,
          1196,
          2131,
          946,
          1228,
          6336,
          1919,
          1804,
          1260,
          4220,
          501,
          322,
          1556,
          715,
          3537,
          25,
          564,
          1315,
          2310,
          991,
          1290,
          6645,
          2054,
          1956,
          1429,
          4323,
          517,
          303,
          1734,
          600,
          3853,
          29,
          616,
          1536,
          3063,
          1084,
          1459,
          8556,
          2514,
          1929,
          1577,
          4782,
          851,
          256,
          1958,
          770,
          4634,
          37,
          714,
          1682,
          3440,
          1432,
          1786,
          9309,
          3154,
          2343,
          1934,
          5837,
          1171,
          172,
          1786,
          868,
          4974,
          44,
          762,
          1502,
          3165,
          1735,
          2031,
          8923,
          4117,
          2713,
          2242,
          6143,
          833,
          369,
          1414,
          615,
          3273,
          20,
          569,
          1066,
          1710,
          860,
          1113,
          5870,
          2340,
          1923,
          1135,
          4190,
          484,
          343,
          1480,
          576,
          3843,
          27,
          585,
          1287,
          2078,
          1028,
          1268,
          6350,
          2243,
          1811,
          1446,
          4418,
          499,
          330,
          1454,
          603,
          3386,
          16,
          580,
          1117,
          2063,
          941,
          1304,
          6074,
          2287,
          1768,
          1244,
          4299,
          540,
          328,
          1395,
          594,
          3574,
          20,
          539,
          1196,
          2321,
          941,
          1315,
          6281,
          2306,
          1946,
          1295,
          4549,
          595,
          349,
          1657,
          650,
          4014,
          5,
          534,
          1532,
          2900,
          1123,
          1411,
          9034,
          2766,
          1925,
          1482,
          4981,
          793,
          262,
          1878,
          763,
          4707,
          9,
          698,
          1755,
          3455,
          1491,
          1879,
          9942,
          3833,
          2526,
          1926,
          6164,
          926,
          185,
          1736,
          878,
          4565,
          10,
          759,
          1407,
          2919,
          1584,
          1940,
          8868,
          3854,
          2593,
          2156,
          6270,
          700,
          405,
          1230,
          540,
          3197,
          9,
          509,
          1019,
          1811,
          744,
          1211,
          6024,
          2911,
          1997,
          1094,
          4727,
          474,
          325,
          1433,
          606,
          3531,
          7,
          498,
          1289,
          2096,
          884,
          1152,
          6211,
          2826,
          1961,
          1201,
          5119,
          453,
          352,
          1565,
          825,
          3673,
          10,
          643,
          1384,
          2778,
          1088,
          1542,
          8201,
          2741,
          2043,
          1574,
          5188,
          526,
          358,
          1479,
          638,
          3641,
          14,
          558,
          1211,
          2400,
          1009,
          1316,
          6835,
          2849,
          2266,
          1376,
          4886,
          508,
          304,
          1647,
          769,
          4054,
          14,
          584,
          1631,
          3016,
          1082,
          1493,
          9019,
          3068,
          2250,
          1547,
          5052,
          743,
          314,
          1856,
          793,
          4382,
          14,
          640,
          1672,
          3602,
          1475,
          1794,
          9803,
          4457,
          2371,
          1872,
          5999,
          836,
          204,
          1838,
          1146,
          4883,
          10,
          725,
          1326,
          3389,
          1636,
          2016,
          9405,
          5105,
          2629,
          2126,
          6872,
          710
         ],
         "yaxis": "y"
        }
       ],
       "layout": {
        "legend": {
         "tracegroupgap": 0
        },
        "margin": {
         "t": 60
        },
        "template": {
         "data": {
          "bar": [
           {
            "error_x": {
             "color": "#2a3f5f"
            },
            "error_y": {
             "color": "#2a3f5f"
            },
            "marker": {
             "line": {
              "color": "#E5ECF6",
              "width": 0.5
             }
            },
            "type": "bar"
           }
          ],
          "barpolar": [
           {
            "marker": {
             "line": {
              "color": "#E5ECF6",
              "width": 0.5
             }
            },
            "type": "barpolar"
           }
          ],
          "carpet": [
           {
            "aaxis": {
             "endlinecolor": "#2a3f5f",
             "gridcolor": "white",
             "linecolor": "white",
             "minorgridcolor": "white",
             "startlinecolor": "#2a3f5f"
            },
            "baxis": {
             "endlinecolor": "#2a3f5f",
             "gridcolor": "white",
             "linecolor": "white",
             "minorgridcolor": "white",
             "startlinecolor": "#2a3f5f"
            },
            "type": "carpet"
           }
          ],
          "choropleth": [
           {
            "colorbar": {
             "outlinewidth": 0,
             "ticks": ""
            },
            "type": "choropleth"
           }
          ],
          "contour": [
           {
            "colorbar": {
             "outlinewidth": 0,
             "ticks": ""
            },
            "colorscale": [
             [
              0,
              "#0d0887"
             ],
             [
              0.1111111111111111,
              "#46039f"
             ],
             [
              0.2222222222222222,
              "#7201a8"
             ],
             [
              0.3333333333333333,
              "#9c179e"
             ],
             [
              0.4444444444444444,
              "#bd3786"
             ],
             [
              0.5555555555555556,
              "#d8576b"
             ],
             [
              0.6666666666666666,
              "#ed7953"
             ],
             [
              0.7777777777777778,
              "#fb9f3a"
             ],
             [
              0.8888888888888888,
              "#fdca26"
             ],
             [
              1,
              "#f0f921"
             ]
            ],
            "type": "contour"
           }
          ],
          "contourcarpet": [
           {
            "colorbar": {
             "outlinewidth": 0,
             "ticks": ""
            },
            "type": "contourcarpet"
           }
          ],
          "heatmap": [
           {
            "colorbar": {
             "outlinewidth": 0,
             "ticks": ""
            },
            "colorscale": [
             [
              0,
              "#0d0887"
             ],
             [
              0.1111111111111111,
              "#46039f"
             ],
             [
              0.2222222222222222,
              "#7201a8"
             ],
             [
              0.3333333333333333,
              "#9c179e"
             ],
             [
              0.4444444444444444,
              "#bd3786"
             ],
             [
              0.5555555555555556,
              "#d8576b"
             ],
             [
              0.6666666666666666,
              "#ed7953"
             ],
             [
              0.7777777777777778,
              "#fb9f3a"
             ],
             [
              0.8888888888888888,
              "#fdca26"
             ],
             [
              1,
              "#f0f921"
             ]
            ],
            "type": "heatmap"
           }
          ],
          "heatmapgl": [
           {
            "colorbar": {
             "outlinewidth": 0,
             "ticks": ""
            },
            "colorscale": [
             [
              0,
              "#0d0887"
             ],
             [
              0.1111111111111111,
              "#46039f"
             ],
             [
              0.2222222222222222,
              "#7201a8"
             ],
             [
              0.3333333333333333,
              "#9c179e"
             ],
             [
              0.4444444444444444,
              "#bd3786"
             ],
             [
              0.5555555555555556,
              "#d8576b"
             ],
             [
              0.6666666666666666,
              "#ed7953"
             ],
             [
              0.7777777777777778,
              "#fb9f3a"
             ],
             [
              0.8888888888888888,
              "#fdca26"
             ],
             [
              1,
              "#f0f921"
             ]
            ],
            "type": "heatmapgl"
           }
          ],
          "histogram": [
           {
            "marker": {
             "colorbar": {
              "outlinewidth": 0,
              "ticks": ""
             }
            },
            "type": "histogram"
           }
          ],
          "histogram2d": [
           {
            "colorbar": {
             "outlinewidth": 0,
             "ticks": ""
            },
            "colorscale": [
             [
              0,
              "#0d0887"
             ],
             [
              0.1111111111111111,
              "#46039f"
             ],
             [
              0.2222222222222222,
              "#7201a8"
             ],
             [
              0.3333333333333333,
              "#9c179e"
             ],
             [
              0.4444444444444444,
              "#bd3786"
             ],
             [
              0.5555555555555556,
              "#d8576b"
             ],
             [
              0.6666666666666666,
              "#ed7953"
             ],
             [
              0.7777777777777778,
              "#fb9f3a"
             ],
             [
              0.8888888888888888,
              "#fdca26"
             ],
             [
              1,
              "#f0f921"
             ]
            ],
            "type": "histogram2d"
           }
          ],
          "histogram2dcontour": [
           {
            "colorbar": {
             "outlinewidth": 0,
             "ticks": ""
            },
            "colorscale": [
             [
              0,
              "#0d0887"
             ],
             [
              0.1111111111111111,
              "#46039f"
             ],
             [
              0.2222222222222222,
              "#7201a8"
             ],
             [
              0.3333333333333333,
              "#9c179e"
             ],
             [
              0.4444444444444444,
              "#bd3786"
             ],
             [
              0.5555555555555556,
              "#d8576b"
             ],
             [
              0.6666666666666666,
              "#ed7953"
             ],
             [
              0.7777777777777778,
              "#fb9f3a"
             ],
             [
              0.8888888888888888,
              "#fdca26"
             ],
             [
              1,
              "#f0f921"
             ]
            ],
            "type": "histogram2dcontour"
           }
          ],
          "mesh3d": [
           {
            "colorbar": {
             "outlinewidth": 0,
             "ticks": ""
            },
            "type": "mesh3d"
           }
          ],
          "parcoords": [
           {
            "line": {
             "colorbar": {
              "outlinewidth": 0,
              "ticks": ""
             }
            },
            "type": "parcoords"
           }
          ],
          "pie": [
           {
            "automargin": true,
            "type": "pie"
           }
          ],
          "scatter": [
           {
            "marker": {
             "colorbar": {
              "outlinewidth": 0,
              "ticks": ""
             }
            },
            "type": "scatter"
           }
          ],
          "scatter3d": [
           {
            "line": {
             "colorbar": {
              "outlinewidth": 0,
              "ticks": ""
             }
            },
            "marker": {
             "colorbar": {
              "outlinewidth": 0,
              "ticks": ""
             }
            },
            "type": "scatter3d"
           }
          ],
          "scattercarpet": [
           {
            "marker": {
             "colorbar": {
              "outlinewidth": 0,
              "ticks": ""
             }
            },
            "type": "scattercarpet"
           }
          ],
          "scattergeo": [
           {
            "marker": {
             "colorbar": {
              "outlinewidth": 0,
              "ticks": ""
             }
            },
            "type": "scattergeo"
           }
          ],
          "scattergl": [
           {
            "marker": {
             "colorbar": {
              "outlinewidth": 0,
              "ticks": ""
             }
            },
            "type": "scattergl"
           }
          ],
          "scattermapbox": [
           {
            "marker": {
             "colorbar": {
              "outlinewidth": 0,
              "ticks": ""
             }
            },
            "type": "scattermapbox"
           }
          ],
          "scatterpolar": [
           {
            "marker": {
             "colorbar": {
              "outlinewidth": 0,
              "ticks": ""
             }
            },
            "type": "scatterpolar"
           }
          ],
          "scatterpolargl": [
           {
            "marker": {
             "colorbar": {
              "outlinewidth": 0,
              "ticks": ""
             }
            },
            "type": "scatterpolargl"
           }
          ],
          "scatterternary": [
           {
            "marker": {
             "colorbar": {
              "outlinewidth": 0,
              "ticks": ""
             }
            },
            "type": "scatterternary"
           }
          ],
          "surface": [
           {
            "colorbar": {
             "outlinewidth": 0,
             "ticks": ""
            },
            "colorscale": [
             [
              0,
              "#0d0887"
             ],
             [
              0.1111111111111111,
              "#46039f"
             ],
             [
              0.2222222222222222,
              "#7201a8"
             ],
             [
              0.3333333333333333,
              "#9c179e"
             ],
             [
              0.4444444444444444,
              "#bd3786"
             ],
             [
              0.5555555555555556,
              "#d8576b"
             ],
             [
              0.6666666666666666,
              "#ed7953"
             ],
             [
              0.7777777777777778,
              "#fb9f3a"
             ],
             [
              0.8888888888888888,
              "#fdca26"
             ],
             [
              1,
              "#f0f921"
             ]
            ],
            "type": "surface"
           }
          ],
          "table": [
           {
            "cells": {
             "fill": {
              "color": "#EBF0F8"
             },
             "line": {
              "color": "white"
             }
            },
            "header": {
             "fill": {
              "color": "#C8D4E3"
             },
             "line": {
              "color": "white"
             }
            },
            "type": "table"
           }
          ]
         },
         "layout": {
          "annotationdefaults": {
           "arrowcolor": "#2a3f5f",
           "arrowhead": 0,
           "arrowwidth": 1
          },
          "coloraxis": {
           "colorbar": {
            "outlinewidth": 0,
            "ticks": ""
           }
          },
          "colorscale": {
           "diverging": [
            [
             0,
             "#8e0152"
            ],
            [
             0.1,
             "#c51b7d"
            ],
            [
             0.2,
             "#de77ae"
            ],
            [
             0.3,
             "#f1b6da"
            ],
            [
             0.4,
             "#fde0ef"
            ],
            [
             0.5,
             "#f7f7f7"
            ],
            [
             0.6,
             "#e6f5d0"
            ],
            [
             0.7,
             "#b8e186"
            ],
            [
             0.8,
             "#7fbc41"
            ],
            [
             0.9,
             "#4d9221"
            ],
            [
             1,
             "#276419"
            ]
           ],
           "sequential": [
            [
             0,
             "#0d0887"
            ],
            [
             0.1111111111111111,
             "#46039f"
            ],
            [
             0.2222222222222222,
             "#7201a8"
            ],
            [
             0.3333333333333333,
             "#9c179e"
            ],
            [
             0.4444444444444444,
             "#bd3786"
            ],
            [
             0.5555555555555556,
             "#d8576b"
            ],
            [
             0.6666666666666666,
             "#ed7953"
            ],
            [
             0.7777777777777778,
             "#fb9f3a"
            ],
            [
             0.8888888888888888,
             "#fdca26"
            ],
            [
             1,
             "#f0f921"
            ]
           ],
           "sequentialminus": [
            [
             0,
             "#0d0887"
            ],
            [
             0.1111111111111111,
             "#46039f"
            ],
            [
             0.2222222222222222,
             "#7201a8"
            ],
            [
             0.3333333333333333,
             "#9c179e"
            ],
            [
             0.4444444444444444,
             "#bd3786"
            ],
            [
             0.5555555555555556,
             "#d8576b"
            ],
            [
             0.6666666666666666,
             "#ed7953"
            ],
            [
             0.7777777777777778,
             "#fb9f3a"
            ],
            [
             0.8888888888888888,
             "#fdca26"
            ],
            [
             1,
             "#f0f921"
            ]
           ]
          },
          "colorway": [
           "#636efa",
           "#EF553B",
           "#00cc96",
           "#ab63fa",
           "#FFA15A",
           "#19d3f3",
           "#FF6692",
           "#B6E880",
           "#FF97FF",
           "#FECB52"
          ],
          "font": {
           "color": "#2a3f5f"
          },
          "geo": {
           "bgcolor": "white",
           "lakecolor": "white",
           "landcolor": "#E5ECF6",
           "showlakes": true,
           "showland": true,
           "subunitcolor": "white"
          },
          "hoverlabel": {
           "align": "left"
          },
          "hovermode": "closest",
          "mapbox": {
           "style": "light"
          },
          "paper_bgcolor": "white",
          "plot_bgcolor": "#E5ECF6",
          "polar": {
           "angularaxis": {
            "gridcolor": "white",
            "linecolor": "white",
            "ticks": ""
           },
           "bgcolor": "#E5ECF6",
           "radialaxis": {
            "gridcolor": "white",
            "linecolor": "white",
            "ticks": ""
           }
          },
          "scene": {
           "xaxis": {
            "backgroundcolor": "#E5ECF6",
            "gridcolor": "white",
            "gridwidth": 2,
            "linecolor": "white",
            "showbackground": true,
            "ticks": "",
            "zerolinecolor": "white"
           },
           "yaxis": {
            "backgroundcolor": "#E5ECF6",
            "gridcolor": "white",
            "gridwidth": 2,
            "linecolor": "white",
            "showbackground": true,
            "ticks": "",
            "zerolinecolor": "white"
           },
           "zaxis": {
            "backgroundcolor": "#E5ECF6",
            "gridcolor": "white",
            "gridwidth": 2,
            "linecolor": "white",
            "showbackground": true,
            "ticks": "",
            "zerolinecolor": "white"
           }
          },
          "shapedefaults": {
           "line": {
            "color": "#2a3f5f"
           }
          },
          "ternary": {
           "aaxis": {
            "gridcolor": "white",
            "linecolor": "white",
            "ticks": ""
           },
           "baxis": {
            "gridcolor": "white",
            "linecolor": "white",
            "ticks": ""
           },
           "bgcolor": "#E5ECF6",
           "caxis": {
            "gridcolor": "white",
            "linecolor": "white",
            "ticks": ""
           }
          },
          "title": {
           "x": 0.05
          },
          "xaxis": {
           "automargin": true,
           "gridcolor": "white",
           "linecolor": "white",
           "ticks": "",
           "title": {
            "standoff": 15
           },
           "zerolinecolor": "white",
           "zerolinewidth": 2
          },
          "yaxis": {
           "automargin": true,
           "gridcolor": "white",
           "linecolor": "white",
           "ticks": "",
           "title": {
            "standoff": 15
           },
           "zerolinecolor": "white",
           "zerolinewidth": 2
          }
         }
        },
        "title": {
         "text": "일별 배달 개수 변화",
         "x": 0.5,
         "xanchor": "center",
         "y": 0.95,
         "yanchor": "top"
        },
        "xaxis": {
         "anchor": "y",
         "domain": [
          0,
          1
         ],
         "title": {
          "text": "PROCESS_DT"
         }
        },
        "yaxis": {
         "anchor": "x",
         "domain": [
          0,
          1
         ],
         "title": {
          "text": "count"
         }
        }
       }
      },
      "text/html": [
       "<div>                            <div id=\"918fa5f7-5077-4a95-ba9d-4e4bbd1c7de1\" class=\"plotly-graph-div\" style=\"height:525px; width:100%;\"></div>            <script type=\"text/javascript\">                require([\"plotly\"], function(Plotly) {                    window.PLOTLYENV=window.PLOTLYENV || {};                                    if (document.getElementById(\"918fa5f7-5077-4a95-ba9d-4e4bbd1c7de1\")) {                    Plotly.newPlot(                        \"918fa5f7-5077-4a95-ba9d-4e4bbd1c7de1\",                        [{\"hovertemplate\": \"PROCESS_DT=%{x}<br>count=%{y}<extra></extra>\", \"legendgroup\": \"\", \"line\": {\"color\": \"#636efa\", \"dash\": \"solid\"}, \"mode\": \"lines\", \"name\": \"\", \"showlegend\": false, \"type\": \"scattergl\", \"x\": [\"2020-02-04T00:00:00\", \"2020-02-04T00:00:00\", \"2020-02-04T00:00:00\", \"2020-02-04T00:00:00\", \"2020-02-04T00:00:00\", \"2020-02-04T00:00:00\", \"2020-02-04T00:00:00\", \"2020-02-04T00:00:00\", \"2020-02-04T00:00:00\", \"2020-02-04T00:00:00\", \"2020-02-04T00:00:00\", \"2020-02-04T00:00:00\", \"2020-02-04T00:00:00\", \"2020-02-04T00:00:00\", \"2020-02-04T00:00:00\", \"2020-02-04T00:00:00\", \"2020-02-05T00:00:00\", \"2020-02-05T00:00:00\", \"2020-02-05T00:00:00\", \"2020-02-05T00:00:00\", \"2020-02-05T00:00:00\", \"2020-02-05T00:00:00\", \"2020-02-05T00:00:00\", \"2020-02-05T00:00:00\", \"2020-02-05T00:00:00\", \"2020-02-05T00:00:00\", \"2020-02-05T00:00:00\", \"2020-02-05T00:00:00\", \"2020-02-05T00:00:00\", \"2020-02-05T00:00:00\", \"2020-02-05T00:00:00\", \"2020-02-05T00:00:00\", \"2020-02-06T00:00:00\", \"2020-02-06T00:00:00\", \"2020-02-06T00:00:00\", \"2020-02-06T00:00:00\", \"2020-02-06T00:00:00\", \"2020-02-06T00:00:00\", \"2020-02-06T00:00:00\", \"2020-02-06T00:00:00\", \"2020-02-06T00:00:00\", \"2020-02-06T00:00:00\", \"2020-02-06T00:00:00\", \"2020-02-06T00:00:00\", \"2020-02-06T00:00:00\", \"2020-02-06T00:00:00\", \"2020-02-06T00:00:00\", \"2020-02-06T00:00:00\", \"2020-02-07T00:00:00\", \"2020-02-07T00:00:00\", \"2020-02-07T00:00:00\", \"2020-02-07T00:00:00\", \"2020-02-07T00:00:00\", \"2020-02-07T00:00:00\", \"2020-02-07T00:00:00\", \"2020-02-07T00:00:00\", \"2020-02-07T00:00:00\", \"2020-02-07T00:00:00\", \"2020-02-07T00:00:00\", \"2020-02-07T00:00:00\", \"2020-02-07T00:00:00\", \"2020-02-07T00:00:00\", \"2020-02-07T00:00:00\", \"2020-02-07T00:00:00\", \"2020-02-08T00:00:00\", \"2020-02-08T00:00:00\", \"2020-02-08T00:00:00\", \"2020-02-08T00:00:00\", \"2020-02-08T00:00:00\", \"2020-02-08T00:00:00\", \"2020-02-08T00:00:00\", \"2020-02-08T00:00:00\", \"2020-02-08T00:00:00\", \"2020-02-08T00:00:00\", \"2020-02-08T00:00:00\", \"2020-02-08T00:00:00\", \"2020-02-08T00:00:00\", \"2020-02-08T00:00:00\", \"2020-02-08T00:00:00\", \"2020-02-08T00:00:00\", \"2020-02-09T00:00:00\", \"2020-02-09T00:00:00\", \"2020-02-09T00:00:00\", \"2020-02-09T00:00:00\", \"2020-02-09T00:00:00\", \"2020-02-09T00:00:00\", \"2020-02-09T00:00:00\", \"2020-02-09T00:00:00\", \"2020-02-09T00:00:00\", \"2020-02-09T00:00:00\", \"2020-02-09T00:00:00\", \"2020-02-09T00:00:00\", \"2020-02-09T00:00:00\", \"2020-02-09T00:00:00\", \"2020-02-09T00:00:00\", \"2020-02-09T00:00:00\", \"2020-02-10T00:00:00\", \"2020-02-10T00:00:00\", \"2020-02-10T00:00:00\", \"2020-02-10T00:00:00\", \"2020-02-10T00:00:00\", \"2020-02-10T00:00:00\", \"2020-02-10T00:00:00\", \"2020-02-10T00:00:00\", \"2020-02-10T00:00:00\", \"2020-02-10T00:00:00\", \"2020-02-10T00:00:00\", \"2020-02-10T00:00:00\", \"2020-02-10T00:00:00\", \"2020-02-10T00:00:00\", \"2020-02-10T00:00:00\", \"2020-02-10T00:00:00\", \"2020-02-11T00:00:00\", \"2020-02-11T00:00:00\", \"2020-02-11T00:00:00\", \"2020-02-11T00:00:00\", \"2020-02-11T00:00:00\", \"2020-02-11T00:00:00\", \"2020-02-11T00:00:00\", \"2020-02-11T00:00:00\", \"2020-02-11T00:00:00\", \"2020-02-11T00:00:00\", \"2020-02-11T00:00:00\", \"2020-02-11T00:00:00\", \"2020-02-11T00:00:00\", \"2020-02-11T00:00:00\", \"2020-02-11T00:00:00\", \"2020-02-11T00:00:00\", \"2020-02-12T00:00:00\", \"2020-02-12T00:00:00\", \"2020-02-12T00:00:00\", \"2020-02-12T00:00:00\", \"2020-02-12T00:00:00\", \"2020-02-12T00:00:00\", \"2020-02-12T00:00:00\", \"2020-02-12T00:00:00\", \"2020-02-12T00:00:00\", \"2020-02-12T00:00:00\", \"2020-02-12T00:00:00\", \"2020-02-12T00:00:00\", \"2020-02-12T00:00:00\", \"2020-02-12T00:00:00\", \"2020-02-12T00:00:00\", \"2020-02-12T00:00:00\", \"2020-02-13T00:00:00\", \"2020-02-13T00:00:00\", \"2020-02-13T00:00:00\", \"2020-02-13T00:00:00\", \"2020-02-13T00:00:00\", \"2020-02-13T00:00:00\", \"2020-02-13T00:00:00\", \"2020-02-13T00:00:00\", \"2020-02-13T00:00:00\", \"2020-02-13T00:00:00\", \"2020-02-13T00:00:00\", \"2020-02-13T00:00:00\", \"2020-02-13T00:00:00\", \"2020-02-13T00:00:00\", \"2020-02-13T00:00:00\", \"2020-02-13T00:00:00\", \"2020-02-14T00:00:00\", \"2020-02-14T00:00:00\", \"2020-02-14T00:00:00\", \"2020-02-14T00:00:00\", \"2020-02-14T00:00:00\", \"2020-02-14T00:00:00\", \"2020-02-14T00:00:00\", \"2020-02-14T00:00:00\", \"2020-02-14T00:00:00\", \"2020-02-14T00:00:00\", \"2020-02-14T00:00:00\", \"2020-02-14T00:00:00\", \"2020-02-14T00:00:00\", \"2020-02-14T00:00:00\", \"2020-02-14T00:00:00\", \"2020-02-14T00:00:00\", \"2020-02-15T00:00:00\", \"2020-02-15T00:00:00\", \"2020-02-15T00:00:00\", \"2020-02-15T00:00:00\", \"2020-02-15T00:00:00\", \"2020-02-15T00:00:00\", \"2020-02-15T00:00:00\", \"2020-02-15T00:00:00\", \"2020-02-15T00:00:00\", \"2020-02-15T00:00:00\", \"2020-02-15T00:00:00\", \"2020-02-15T00:00:00\", \"2020-02-15T00:00:00\", \"2020-02-15T00:00:00\", \"2020-02-15T00:00:00\", \"2020-02-15T00:00:00\", \"2020-02-16T00:00:00\", \"2020-02-16T00:00:00\", \"2020-02-16T00:00:00\", \"2020-02-16T00:00:00\", \"2020-02-16T00:00:00\", \"2020-02-16T00:00:00\", \"2020-02-16T00:00:00\", \"2020-02-16T00:00:00\", \"2020-02-16T00:00:00\", \"2020-02-16T00:00:00\", \"2020-02-16T00:00:00\", \"2020-02-16T00:00:00\", \"2020-02-16T00:00:00\", \"2020-02-16T00:00:00\", \"2020-02-16T00:00:00\", \"2020-02-16T00:00:00\", \"2020-02-17T00:00:00\", \"2020-02-17T00:00:00\", \"2020-02-17T00:00:00\", \"2020-02-17T00:00:00\", \"2020-02-17T00:00:00\", \"2020-02-17T00:00:00\", \"2020-02-17T00:00:00\", \"2020-02-17T00:00:00\", \"2020-02-17T00:00:00\", \"2020-02-17T00:00:00\", \"2020-02-17T00:00:00\", \"2020-02-17T00:00:00\", \"2020-02-17T00:00:00\", \"2020-02-17T00:00:00\", \"2020-02-17T00:00:00\", \"2020-02-17T00:00:00\", \"2020-02-18T00:00:00\", \"2020-02-18T00:00:00\", \"2020-02-18T00:00:00\", \"2020-02-18T00:00:00\", \"2020-02-18T00:00:00\", \"2020-02-18T00:00:00\", \"2020-02-18T00:00:00\", \"2020-02-18T00:00:00\", \"2020-02-18T00:00:00\", \"2020-02-18T00:00:00\", \"2020-02-18T00:00:00\", \"2020-02-18T00:00:00\", \"2020-02-18T00:00:00\", \"2020-02-18T00:00:00\", \"2020-02-18T00:00:00\", \"2020-02-18T00:00:00\", \"2020-02-19T00:00:00\", \"2020-02-19T00:00:00\", \"2020-02-19T00:00:00\", \"2020-02-19T00:00:00\", \"2020-02-19T00:00:00\", \"2020-02-19T00:00:00\", \"2020-02-19T00:00:00\", \"2020-02-19T00:00:00\", \"2020-02-19T00:00:00\", \"2020-02-19T00:00:00\", \"2020-02-19T00:00:00\", \"2020-02-19T00:00:00\", \"2020-02-19T00:00:00\", \"2020-02-19T00:00:00\", \"2020-02-19T00:00:00\", \"2020-02-19T00:00:00\", \"2020-02-20T00:00:00\", \"2020-02-20T00:00:00\", \"2020-02-20T00:00:00\", \"2020-02-20T00:00:00\", \"2020-02-20T00:00:00\", \"2020-02-20T00:00:00\", \"2020-02-20T00:00:00\", \"2020-02-20T00:00:00\", \"2020-02-20T00:00:00\", \"2020-02-20T00:00:00\", \"2020-02-20T00:00:00\", \"2020-02-20T00:00:00\", \"2020-02-20T00:00:00\", \"2020-02-20T00:00:00\", \"2020-02-20T00:00:00\", \"2020-02-20T00:00:00\", \"2020-02-21T00:00:00\", \"2020-02-21T00:00:00\", \"2020-02-21T00:00:00\", \"2020-02-21T00:00:00\", \"2020-02-21T00:00:00\", \"2020-02-21T00:00:00\", \"2020-02-21T00:00:00\", \"2020-02-21T00:00:00\", \"2020-02-21T00:00:00\", \"2020-02-21T00:00:00\", \"2020-02-21T00:00:00\", \"2020-02-21T00:00:00\", \"2020-02-21T00:00:00\", \"2020-02-21T00:00:00\", \"2020-02-21T00:00:00\", \"2020-02-21T00:00:00\", \"2020-02-22T00:00:00\", \"2020-02-22T00:00:00\", \"2020-02-22T00:00:00\", \"2020-02-22T00:00:00\", \"2020-02-22T00:00:00\", \"2020-02-22T00:00:00\", \"2020-02-22T00:00:00\", \"2020-02-22T00:00:00\", \"2020-02-22T00:00:00\", \"2020-02-22T00:00:00\", \"2020-02-22T00:00:00\", \"2020-02-22T00:00:00\", \"2020-02-22T00:00:00\", \"2020-02-22T00:00:00\", \"2020-02-22T00:00:00\", \"2020-02-22T00:00:00\", \"2020-02-23T00:00:00\", \"2020-02-23T00:00:00\", \"2020-02-23T00:00:00\", \"2020-02-23T00:00:00\", \"2020-02-23T00:00:00\", \"2020-02-23T00:00:00\", \"2020-02-23T00:00:00\", \"2020-02-23T00:00:00\", \"2020-02-23T00:00:00\", \"2020-02-23T00:00:00\", \"2020-02-23T00:00:00\", \"2020-02-23T00:00:00\", \"2020-02-23T00:00:00\", \"2020-02-23T00:00:00\", \"2020-02-23T00:00:00\", \"2020-02-23T00:00:00\", \"2020-02-24T00:00:00\", \"2020-02-24T00:00:00\", \"2020-02-24T00:00:00\", \"2020-02-24T00:00:00\", \"2020-02-24T00:00:00\", \"2020-02-24T00:00:00\", \"2020-02-24T00:00:00\", \"2020-02-24T00:00:00\", \"2020-02-24T00:00:00\", \"2020-02-24T00:00:00\", \"2020-02-24T00:00:00\", \"2020-02-24T00:00:00\", \"2020-02-24T00:00:00\", \"2020-02-24T00:00:00\", \"2020-02-24T00:00:00\", \"2020-02-24T00:00:00\", \"2020-02-25T00:00:00\", \"2020-02-25T00:00:00\", \"2020-02-25T00:00:00\", \"2020-02-25T00:00:00\", \"2020-02-25T00:00:00\", \"2020-02-25T00:00:00\", \"2020-02-25T00:00:00\", \"2020-02-25T00:00:00\", \"2020-02-25T00:00:00\", \"2020-02-25T00:00:00\", \"2020-02-25T00:00:00\", \"2020-02-25T00:00:00\", \"2020-02-25T00:00:00\", \"2020-02-25T00:00:00\", \"2020-02-25T00:00:00\", \"2020-02-25T00:00:00\", \"2020-02-26T00:00:00\", \"2020-02-26T00:00:00\", \"2020-02-26T00:00:00\", \"2020-02-26T00:00:00\", \"2020-02-26T00:00:00\", \"2020-02-26T00:00:00\", \"2020-02-26T00:00:00\", \"2020-02-26T00:00:00\", \"2020-02-26T00:00:00\", \"2020-02-26T00:00:00\", \"2020-02-26T00:00:00\", \"2020-02-26T00:00:00\", \"2020-02-26T00:00:00\", \"2020-02-26T00:00:00\", \"2020-02-26T00:00:00\", \"2020-02-26T00:00:00\", \"2020-02-27T00:00:00\", \"2020-02-27T00:00:00\", \"2020-02-27T00:00:00\", \"2020-02-27T00:00:00\", \"2020-02-27T00:00:00\", \"2020-02-27T00:00:00\", \"2020-02-27T00:00:00\", \"2020-02-27T00:00:00\", \"2020-02-27T00:00:00\", \"2020-02-27T00:00:00\", \"2020-02-27T00:00:00\", \"2020-02-27T00:00:00\", \"2020-02-27T00:00:00\", \"2020-02-27T00:00:00\", \"2020-02-27T00:00:00\", \"2020-02-27T00:00:00\", \"2020-02-28T00:00:00\", \"2020-02-28T00:00:00\", \"2020-02-28T00:00:00\", \"2020-02-28T00:00:00\", \"2020-02-28T00:00:00\", \"2020-02-28T00:00:00\", \"2020-02-28T00:00:00\", \"2020-02-28T00:00:00\", \"2020-02-28T00:00:00\", \"2020-02-28T00:00:00\", \"2020-02-28T00:00:00\", \"2020-02-28T00:00:00\", \"2020-02-28T00:00:00\", \"2020-02-28T00:00:00\", \"2020-02-28T00:00:00\", \"2020-02-28T00:00:00\", \"2020-02-29T00:00:00\", \"2020-02-29T00:00:00\", \"2020-02-29T00:00:00\", \"2020-02-29T00:00:00\", \"2020-02-29T00:00:00\", \"2020-02-29T00:00:00\", \"2020-02-29T00:00:00\", \"2020-02-29T00:00:00\", \"2020-02-29T00:00:00\", \"2020-02-29T00:00:00\", \"2020-02-29T00:00:00\", \"2020-02-29T00:00:00\", \"2020-02-29T00:00:00\", \"2020-02-29T00:00:00\", \"2020-02-29T00:00:00\", \"2020-02-29T00:00:00\", \"2020-03-01T00:00:00\", \"2020-03-01T00:00:00\", \"2020-03-01T00:00:00\", \"2020-03-01T00:00:00\", \"2020-03-01T00:00:00\", \"2020-03-01T00:00:00\", \"2020-03-01T00:00:00\", \"2020-03-01T00:00:00\", \"2020-03-01T00:00:00\", \"2020-03-01T00:00:00\", \"2020-03-01T00:00:00\", \"2020-03-01T00:00:00\", \"2020-03-01T00:00:00\", \"2020-03-01T00:00:00\", \"2020-03-01T00:00:00\", \"2020-03-01T00:00:00\", \"2020-03-02T00:00:00\", \"2020-03-02T00:00:00\", \"2020-03-02T00:00:00\", \"2020-03-02T00:00:00\", \"2020-03-02T00:00:00\", \"2020-03-02T00:00:00\", \"2020-03-02T00:00:00\", \"2020-03-02T00:00:00\", \"2020-03-02T00:00:00\", \"2020-03-02T00:00:00\", \"2020-03-02T00:00:00\", \"2020-03-02T00:00:00\", \"2020-03-02T00:00:00\", \"2020-03-02T00:00:00\", \"2020-03-02T00:00:00\", \"2020-03-02T00:00:00\", \"2020-03-03T00:00:00\", \"2020-03-03T00:00:00\", \"2020-03-03T00:00:00\", \"2020-03-03T00:00:00\", \"2020-03-03T00:00:00\", \"2020-03-03T00:00:00\", \"2020-03-03T00:00:00\", \"2020-03-03T00:00:00\", \"2020-03-03T00:00:00\", \"2020-03-03T00:00:00\", \"2020-03-03T00:00:00\", \"2020-03-03T00:00:00\", \"2020-03-03T00:00:00\", \"2020-03-03T00:00:00\", \"2020-03-03T00:00:00\", \"2020-03-03T00:00:00\", \"2020-03-04T00:00:00\", \"2020-03-04T00:00:00\", \"2020-03-04T00:00:00\", \"2020-03-04T00:00:00\", \"2020-03-04T00:00:00\", \"2020-03-04T00:00:00\", \"2020-03-04T00:00:00\", \"2020-03-04T00:00:00\", \"2020-03-04T00:00:00\", \"2020-03-04T00:00:00\", \"2020-03-04T00:00:00\", \"2020-03-04T00:00:00\", \"2020-03-04T00:00:00\", \"2020-03-04T00:00:00\", \"2020-03-04T00:00:00\", \"2020-03-04T00:00:00\", \"2020-03-05T00:00:00\", \"2020-03-05T00:00:00\", \"2020-03-05T00:00:00\", \"2020-03-05T00:00:00\", \"2020-03-05T00:00:00\", \"2020-03-05T00:00:00\", \"2020-03-05T00:00:00\", \"2020-03-05T00:00:00\", \"2020-03-05T00:00:00\", \"2020-03-05T00:00:00\", \"2020-03-05T00:00:00\", \"2020-03-05T00:00:00\", \"2020-03-05T00:00:00\", \"2020-03-05T00:00:00\", \"2020-03-05T00:00:00\", \"2020-03-05T00:00:00\", \"2020-03-06T00:00:00\", \"2020-03-06T00:00:00\", \"2020-03-06T00:00:00\", \"2020-03-06T00:00:00\", \"2020-03-06T00:00:00\", \"2020-03-06T00:00:00\", \"2020-03-06T00:00:00\", \"2020-03-06T00:00:00\", \"2020-03-06T00:00:00\", \"2020-03-06T00:00:00\", \"2020-03-06T00:00:00\", \"2020-03-06T00:00:00\", \"2020-03-06T00:00:00\", \"2020-03-06T00:00:00\", \"2020-03-06T00:00:00\", \"2020-03-06T00:00:00\", \"2020-03-07T00:00:00\", \"2020-03-07T00:00:00\", \"2020-03-07T00:00:00\", \"2020-03-07T00:00:00\", \"2020-03-07T00:00:00\", \"2020-03-07T00:00:00\", \"2020-03-07T00:00:00\", \"2020-03-07T00:00:00\", \"2020-03-07T00:00:00\", \"2020-03-07T00:00:00\", \"2020-03-07T00:00:00\", \"2020-03-07T00:00:00\", \"2020-03-07T00:00:00\", \"2020-03-07T00:00:00\", \"2020-03-07T00:00:00\", \"2020-03-07T00:00:00\", \"2020-03-08T00:00:00\", \"2020-03-08T00:00:00\", \"2020-03-08T00:00:00\", \"2020-03-08T00:00:00\", \"2020-03-08T00:00:00\", \"2020-03-08T00:00:00\", \"2020-03-08T00:00:00\", \"2020-03-08T00:00:00\", \"2020-03-08T00:00:00\", \"2020-03-08T00:00:00\", \"2020-03-08T00:00:00\", \"2020-03-08T00:00:00\", \"2020-03-08T00:00:00\", \"2020-03-08T00:00:00\", \"2020-03-08T00:00:00\", \"2020-03-08T00:00:00\", \"2020-03-09T00:00:00\", \"2020-03-09T00:00:00\", \"2020-03-09T00:00:00\", \"2020-03-09T00:00:00\", \"2020-03-09T00:00:00\", \"2020-03-09T00:00:00\", \"2020-03-09T00:00:00\", \"2020-03-09T00:00:00\", \"2020-03-09T00:00:00\", \"2020-03-09T00:00:00\", \"2020-03-09T00:00:00\", \"2020-03-09T00:00:00\", \"2020-03-09T00:00:00\", \"2020-03-09T00:00:00\", \"2020-03-09T00:00:00\", \"2020-03-09T00:00:00\", \"2020-03-10T00:00:00\", \"2020-03-10T00:00:00\", \"2020-03-10T00:00:00\", \"2020-03-10T00:00:00\", \"2020-03-10T00:00:00\", \"2020-03-10T00:00:00\", \"2020-03-10T00:00:00\", \"2020-03-10T00:00:00\", \"2020-03-10T00:00:00\", \"2020-03-10T00:00:00\", \"2020-03-10T00:00:00\", \"2020-03-10T00:00:00\", \"2020-03-10T00:00:00\", \"2020-03-10T00:00:00\", \"2020-03-10T00:00:00\", \"2020-03-10T00:00:00\", \"2020-03-11T00:00:00\", \"2020-03-11T00:00:00\", \"2020-03-11T00:00:00\", \"2020-03-11T00:00:00\", \"2020-03-11T00:00:00\", \"2020-03-11T00:00:00\", \"2020-03-11T00:00:00\", \"2020-03-11T00:00:00\", \"2020-03-11T00:00:00\", \"2020-03-11T00:00:00\", \"2020-03-11T00:00:00\", \"2020-03-11T00:00:00\", \"2020-03-11T00:00:00\", \"2020-03-11T00:00:00\", \"2020-03-11T00:00:00\", \"2020-03-11T00:00:00\", \"2020-03-12T00:00:00\", \"2020-03-12T00:00:00\", \"2020-03-12T00:00:00\", \"2020-03-12T00:00:00\", \"2020-03-12T00:00:00\", \"2020-03-12T00:00:00\", \"2020-03-12T00:00:00\", \"2020-03-12T00:00:00\", \"2020-03-12T00:00:00\", \"2020-03-12T00:00:00\", \"2020-03-12T00:00:00\", \"2020-03-12T00:00:00\", \"2020-03-12T00:00:00\", \"2020-03-12T00:00:00\", \"2020-03-12T00:00:00\", \"2020-03-12T00:00:00\", \"2020-03-13T00:00:00\", \"2020-03-13T00:00:00\", \"2020-03-13T00:00:00\", \"2020-03-13T00:00:00\", \"2020-03-13T00:00:00\", \"2020-03-13T00:00:00\", \"2020-03-13T00:00:00\", \"2020-03-13T00:00:00\", \"2020-03-13T00:00:00\", \"2020-03-13T00:00:00\", \"2020-03-13T00:00:00\", \"2020-03-13T00:00:00\", \"2020-03-13T00:00:00\", \"2020-03-13T00:00:00\", \"2020-03-13T00:00:00\", \"2020-03-13T00:00:00\", \"2020-03-14T00:00:00\", \"2020-03-14T00:00:00\", \"2020-03-14T00:00:00\", \"2020-03-14T00:00:00\", \"2020-03-14T00:00:00\", \"2020-03-14T00:00:00\", \"2020-03-14T00:00:00\", \"2020-03-14T00:00:00\", \"2020-03-14T00:00:00\", \"2020-03-14T00:00:00\", \"2020-03-14T00:00:00\", \"2020-03-14T00:00:00\", \"2020-03-14T00:00:00\", \"2020-03-14T00:00:00\", \"2020-03-14T00:00:00\", \"2020-03-14T00:00:00\", \"2020-03-15T00:00:00\", \"2020-03-15T00:00:00\", \"2020-03-15T00:00:00\", \"2020-03-15T00:00:00\", \"2020-03-15T00:00:00\", \"2020-03-15T00:00:00\", \"2020-03-15T00:00:00\", \"2020-03-15T00:00:00\", \"2020-03-15T00:00:00\", \"2020-03-15T00:00:00\", \"2020-03-15T00:00:00\", \"2020-03-15T00:00:00\", \"2020-03-15T00:00:00\", \"2020-03-15T00:00:00\", \"2020-03-15T00:00:00\", \"2020-03-15T00:00:00\", \"2020-03-16T00:00:00\", \"2020-03-16T00:00:00\", \"2020-03-16T00:00:00\", \"2020-03-16T00:00:00\", \"2020-03-16T00:00:00\", \"2020-03-16T00:00:00\", \"2020-03-16T00:00:00\", \"2020-03-16T00:00:00\", \"2020-03-16T00:00:00\", \"2020-03-16T00:00:00\", \"2020-03-16T00:00:00\", \"2020-03-16T00:00:00\", \"2020-03-16T00:00:00\", \"2020-03-16T00:00:00\", \"2020-03-16T00:00:00\", \"2020-03-16T00:00:00\", \"2020-03-17T00:00:00\", \"2020-03-17T00:00:00\", \"2020-03-17T00:00:00\", \"2020-03-17T00:00:00\", \"2020-03-17T00:00:00\", \"2020-03-17T00:00:00\", \"2020-03-17T00:00:00\", \"2020-03-17T00:00:00\", \"2020-03-17T00:00:00\", \"2020-03-17T00:00:00\", \"2020-03-17T00:00:00\", \"2020-03-17T00:00:00\", \"2020-03-17T00:00:00\", \"2020-03-17T00:00:00\", \"2020-03-17T00:00:00\", \"2020-03-17T00:00:00\", \"2020-03-18T00:00:00\", \"2020-03-18T00:00:00\", \"2020-03-18T00:00:00\", \"2020-03-18T00:00:00\", \"2020-03-18T00:00:00\", \"2020-03-18T00:00:00\", \"2020-03-18T00:00:00\", \"2020-03-18T00:00:00\", \"2020-03-18T00:00:00\", \"2020-03-18T00:00:00\", \"2020-03-18T00:00:00\", \"2020-03-18T00:00:00\", \"2020-03-18T00:00:00\", \"2020-03-18T00:00:00\", \"2020-03-18T00:00:00\", \"2020-03-18T00:00:00\", \"2020-03-19T00:00:00\", \"2020-03-19T00:00:00\", \"2020-03-19T00:00:00\", \"2020-03-19T00:00:00\", \"2020-03-19T00:00:00\", \"2020-03-19T00:00:00\", \"2020-03-19T00:00:00\", \"2020-03-19T00:00:00\", \"2020-03-19T00:00:00\", \"2020-03-19T00:00:00\", \"2020-03-19T00:00:00\", \"2020-03-19T00:00:00\", \"2020-03-19T00:00:00\", \"2020-03-19T00:00:00\", \"2020-03-19T00:00:00\", \"2020-03-19T00:00:00\", \"2020-03-20T00:00:00\", \"2020-03-20T00:00:00\", \"2020-03-20T00:00:00\", \"2020-03-20T00:00:00\", \"2020-03-20T00:00:00\", \"2020-03-20T00:00:00\", \"2020-03-20T00:00:00\", \"2020-03-20T00:00:00\", \"2020-03-20T00:00:00\", \"2020-03-20T00:00:00\", \"2020-03-20T00:00:00\", \"2020-03-20T00:00:00\", \"2020-03-20T00:00:00\", \"2020-03-20T00:00:00\", \"2020-03-20T00:00:00\", \"2020-03-20T00:00:00\", \"2020-03-21T00:00:00\", \"2020-03-21T00:00:00\", \"2020-03-21T00:00:00\", \"2020-03-21T00:00:00\", \"2020-03-21T00:00:00\", \"2020-03-21T00:00:00\", \"2020-03-21T00:00:00\", \"2020-03-21T00:00:00\", \"2020-03-21T00:00:00\", \"2020-03-21T00:00:00\", \"2020-03-21T00:00:00\", \"2020-03-21T00:00:00\", \"2020-03-21T00:00:00\", \"2020-03-21T00:00:00\", \"2020-03-21T00:00:00\", \"2020-03-21T00:00:00\", \"2020-03-22T00:00:00\", \"2020-03-22T00:00:00\", \"2020-03-22T00:00:00\", \"2020-03-22T00:00:00\", \"2020-03-22T00:00:00\", \"2020-03-22T00:00:00\", \"2020-03-22T00:00:00\", \"2020-03-22T00:00:00\", \"2020-03-22T00:00:00\", \"2020-03-22T00:00:00\", \"2020-03-22T00:00:00\", \"2020-03-22T00:00:00\", \"2020-03-22T00:00:00\", \"2020-03-22T00:00:00\", \"2020-03-22T00:00:00\", \"2020-03-22T00:00:00\", \"2020-03-23T00:00:00\", \"2020-03-23T00:00:00\", \"2020-03-23T00:00:00\", \"2020-03-23T00:00:00\", \"2020-03-23T00:00:00\", \"2020-03-23T00:00:00\", \"2020-03-23T00:00:00\", \"2020-03-23T00:00:00\", \"2020-03-23T00:00:00\", \"2020-03-23T00:00:00\", \"2020-03-23T00:00:00\", \"2020-03-23T00:00:00\", \"2020-03-23T00:00:00\", \"2020-03-23T00:00:00\", \"2020-03-23T00:00:00\", \"2020-03-23T00:00:00\", \"2020-03-24T00:00:00\", \"2020-03-24T00:00:00\", \"2020-03-24T00:00:00\", \"2020-03-24T00:00:00\", \"2020-03-24T00:00:00\", \"2020-03-24T00:00:00\", \"2020-03-24T00:00:00\", \"2020-03-24T00:00:00\", \"2020-03-24T00:00:00\", \"2020-03-24T00:00:00\", \"2020-03-24T00:00:00\", \"2020-03-24T00:00:00\", \"2020-03-24T00:00:00\", \"2020-03-24T00:00:00\", \"2020-03-24T00:00:00\", \"2020-03-24T00:00:00\", \"2020-03-25T00:00:00\", \"2020-03-25T00:00:00\", \"2020-03-25T00:00:00\", \"2020-03-25T00:00:00\", \"2020-03-25T00:00:00\", \"2020-03-25T00:00:00\", \"2020-03-25T00:00:00\", \"2020-03-25T00:00:00\", \"2020-03-25T00:00:00\", \"2020-03-25T00:00:00\", \"2020-03-25T00:00:00\", \"2020-03-25T00:00:00\", \"2020-03-25T00:00:00\", \"2020-03-25T00:00:00\", \"2020-03-25T00:00:00\", \"2020-03-25T00:00:00\", \"2020-03-26T00:00:00\", \"2020-03-26T00:00:00\", \"2020-03-26T00:00:00\", \"2020-03-26T00:00:00\", \"2020-03-26T00:00:00\", \"2020-03-26T00:00:00\", \"2020-03-26T00:00:00\", \"2020-03-26T00:00:00\", \"2020-03-26T00:00:00\", \"2020-03-26T00:00:00\", \"2020-03-26T00:00:00\", \"2020-03-26T00:00:00\", \"2020-03-26T00:00:00\", \"2020-03-26T00:00:00\", \"2020-03-26T00:00:00\", \"2020-03-26T00:00:00\", \"2020-03-27T00:00:00\", \"2020-03-27T00:00:00\", \"2020-03-27T00:00:00\", \"2020-03-27T00:00:00\", \"2020-03-27T00:00:00\", \"2020-03-27T00:00:00\", \"2020-03-27T00:00:00\", \"2020-03-27T00:00:00\", \"2020-03-27T00:00:00\", \"2020-03-27T00:00:00\", \"2020-03-27T00:00:00\", \"2020-03-27T00:00:00\", \"2020-03-27T00:00:00\", \"2020-03-27T00:00:00\", \"2020-03-27T00:00:00\", \"2020-03-27T00:00:00\", \"2020-03-28T00:00:00\", \"2020-03-28T00:00:00\", \"2020-03-28T00:00:00\", \"2020-03-28T00:00:00\", \"2020-03-28T00:00:00\", \"2020-03-28T00:00:00\", \"2020-03-28T00:00:00\", \"2020-03-28T00:00:00\", \"2020-03-28T00:00:00\", \"2020-03-28T00:00:00\", \"2020-03-28T00:00:00\", \"2020-03-28T00:00:00\", \"2020-03-28T00:00:00\", \"2020-03-28T00:00:00\", \"2020-03-28T00:00:00\", \"2020-03-28T00:00:00\", \"2020-03-29T00:00:00\", \"2020-03-29T00:00:00\", \"2020-03-29T00:00:00\", \"2020-03-29T00:00:00\", \"2020-03-29T00:00:00\", \"2020-03-29T00:00:00\", \"2020-03-29T00:00:00\", \"2020-03-29T00:00:00\", \"2020-03-29T00:00:00\", \"2020-03-29T00:00:00\", \"2020-03-29T00:00:00\", \"2020-03-29T00:00:00\", \"2020-03-29T00:00:00\", \"2020-03-29T00:00:00\", \"2020-03-29T00:00:00\", \"2020-03-29T00:00:00\", \"2020-03-30T00:00:00\", \"2020-03-30T00:00:00\", \"2020-03-30T00:00:00\", \"2020-03-30T00:00:00\", \"2020-03-30T00:00:00\", \"2020-03-30T00:00:00\", \"2020-03-30T00:00:00\", \"2020-03-30T00:00:00\", \"2020-03-30T00:00:00\", \"2020-03-30T00:00:00\", \"2020-03-30T00:00:00\", \"2020-03-30T00:00:00\", \"2020-03-30T00:00:00\", \"2020-03-30T00:00:00\", \"2020-03-30T00:00:00\", \"2020-03-30T00:00:00\", \"2020-03-31T00:00:00\", \"2020-03-31T00:00:00\", \"2020-03-31T00:00:00\", \"2020-03-31T00:00:00\", \"2020-03-31T00:00:00\", \"2020-03-31T00:00:00\", \"2020-03-31T00:00:00\", \"2020-03-31T00:00:00\", \"2020-03-31T00:00:00\", \"2020-03-31T00:00:00\", \"2020-03-31T00:00:00\", \"2020-03-31T00:00:00\", \"2020-03-31T00:00:00\", \"2020-03-31T00:00:00\", \"2020-03-31T00:00:00\", \"2020-03-31T00:00:00\", \"2020-04-01T00:00:00\", \"2020-04-01T00:00:00\", \"2020-04-01T00:00:00\", \"2020-04-01T00:00:00\", \"2020-04-01T00:00:00\", \"2020-04-01T00:00:00\", \"2020-04-01T00:00:00\", \"2020-04-01T00:00:00\", \"2020-04-01T00:00:00\", \"2020-04-01T00:00:00\", \"2020-04-01T00:00:00\", \"2020-04-01T00:00:00\", \"2020-04-01T00:00:00\", \"2020-04-01T00:00:00\", \"2020-04-01T00:00:00\", \"2020-04-01T00:00:00\", \"2020-04-02T00:00:00\", \"2020-04-02T00:00:00\", \"2020-04-02T00:00:00\", \"2020-04-02T00:00:00\", \"2020-04-02T00:00:00\", \"2020-04-02T00:00:00\", \"2020-04-02T00:00:00\", \"2020-04-02T00:00:00\", \"2020-04-02T00:00:00\", \"2020-04-02T00:00:00\", \"2020-04-02T00:00:00\", \"2020-04-02T00:00:00\", \"2020-04-02T00:00:00\", \"2020-04-02T00:00:00\", \"2020-04-02T00:00:00\", \"2020-04-02T00:00:00\", \"2020-04-03T00:00:00\", \"2020-04-03T00:00:00\", \"2020-04-03T00:00:00\", \"2020-04-03T00:00:00\", \"2020-04-03T00:00:00\", \"2020-04-03T00:00:00\", \"2020-04-03T00:00:00\", \"2020-04-03T00:00:00\", \"2020-04-03T00:00:00\", \"2020-04-03T00:00:00\", \"2020-04-03T00:00:00\", \"2020-04-03T00:00:00\", \"2020-04-03T00:00:00\", \"2020-04-03T00:00:00\", \"2020-04-03T00:00:00\", \"2020-04-03T00:00:00\", \"2020-04-04T00:00:00\", \"2020-04-04T00:00:00\", \"2020-04-04T00:00:00\", \"2020-04-04T00:00:00\", \"2020-04-04T00:00:00\", \"2020-04-04T00:00:00\", \"2020-04-04T00:00:00\", \"2020-04-04T00:00:00\", \"2020-04-04T00:00:00\", \"2020-04-04T00:00:00\", \"2020-04-04T00:00:00\", \"2020-04-04T00:00:00\", \"2020-04-04T00:00:00\", \"2020-04-04T00:00:00\", \"2020-04-04T00:00:00\", \"2020-04-04T00:00:00\", \"2020-04-05T00:00:00\", \"2020-04-05T00:00:00\", \"2020-04-05T00:00:00\", \"2020-04-05T00:00:00\", \"2020-04-05T00:00:00\", \"2020-04-05T00:00:00\", \"2020-04-05T00:00:00\", \"2020-04-05T00:00:00\", \"2020-04-05T00:00:00\", \"2020-04-05T00:00:00\", \"2020-04-05T00:00:00\", \"2020-04-05T00:00:00\", \"2020-04-05T00:00:00\", \"2020-04-05T00:00:00\", \"2020-04-05T00:00:00\", \"2020-04-05T00:00:00\", \"2020-04-06T00:00:00\", \"2020-04-06T00:00:00\", \"2020-04-06T00:00:00\", \"2020-04-06T00:00:00\", \"2020-04-06T00:00:00\", \"2020-04-06T00:00:00\", \"2020-04-06T00:00:00\", \"2020-04-06T00:00:00\", \"2020-04-06T00:00:00\", \"2020-04-06T00:00:00\", \"2020-04-06T00:00:00\", \"2020-04-06T00:00:00\", \"2020-04-06T00:00:00\", \"2020-04-06T00:00:00\", \"2020-04-06T00:00:00\", \"2020-04-06T00:00:00\", \"2020-04-07T00:00:00\", \"2020-04-07T00:00:00\", \"2020-04-07T00:00:00\", \"2020-04-07T00:00:00\", \"2020-04-07T00:00:00\", \"2020-04-07T00:00:00\", \"2020-04-07T00:00:00\", \"2020-04-07T00:00:00\", \"2020-04-07T00:00:00\", \"2020-04-07T00:00:00\", \"2020-04-07T00:00:00\", \"2020-04-07T00:00:00\", \"2020-04-07T00:00:00\", \"2020-04-07T00:00:00\", \"2020-04-07T00:00:00\", \"2020-04-07T00:00:00\", \"2020-04-08T00:00:00\", \"2020-04-08T00:00:00\", \"2020-04-08T00:00:00\", \"2020-04-08T00:00:00\", \"2020-04-08T00:00:00\", \"2020-04-08T00:00:00\", \"2020-04-08T00:00:00\", \"2020-04-08T00:00:00\", \"2020-04-08T00:00:00\", \"2020-04-08T00:00:00\", \"2020-04-08T00:00:00\", \"2020-04-08T00:00:00\", \"2020-04-08T00:00:00\", \"2020-04-08T00:00:00\", \"2020-04-08T00:00:00\", \"2020-04-08T00:00:00\", \"2020-04-09T00:00:00\", \"2020-04-09T00:00:00\", \"2020-04-09T00:00:00\", \"2020-04-09T00:00:00\", \"2020-04-09T00:00:00\", \"2020-04-09T00:00:00\", \"2020-04-09T00:00:00\", \"2020-04-09T00:00:00\", \"2020-04-09T00:00:00\", \"2020-04-09T00:00:00\", \"2020-04-09T00:00:00\", \"2020-04-09T00:00:00\", \"2020-04-09T00:00:00\", \"2020-04-09T00:00:00\", \"2020-04-09T00:00:00\", \"2020-04-09T00:00:00\", \"2020-04-10T00:00:00\", \"2020-04-10T00:00:00\", \"2020-04-10T00:00:00\", \"2020-04-10T00:00:00\", \"2020-04-10T00:00:00\", \"2020-04-10T00:00:00\", \"2020-04-10T00:00:00\", \"2020-04-10T00:00:00\", \"2020-04-10T00:00:00\", \"2020-04-10T00:00:00\", \"2020-04-10T00:00:00\", \"2020-04-10T00:00:00\", \"2020-04-10T00:00:00\", \"2020-04-10T00:00:00\", \"2020-04-10T00:00:00\", \"2020-04-10T00:00:00\", \"2020-04-11T00:00:00\", \"2020-04-11T00:00:00\", \"2020-04-11T00:00:00\", \"2020-04-11T00:00:00\", \"2020-04-11T00:00:00\", \"2020-04-11T00:00:00\", \"2020-04-11T00:00:00\", \"2020-04-11T00:00:00\", \"2020-04-11T00:00:00\", \"2020-04-11T00:00:00\", \"2020-04-11T00:00:00\", \"2020-04-11T00:00:00\", \"2020-04-11T00:00:00\", \"2020-04-11T00:00:00\", \"2020-04-11T00:00:00\", \"2020-04-11T00:00:00\", \"2020-04-12T00:00:00\", \"2020-04-12T00:00:00\", \"2020-04-12T00:00:00\", \"2020-04-12T00:00:00\", \"2020-04-12T00:00:00\", \"2020-04-12T00:00:00\", \"2020-04-12T00:00:00\", \"2020-04-12T00:00:00\", \"2020-04-12T00:00:00\", \"2020-04-12T00:00:00\", \"2020-04-12T00:00:00\", \"2020-04-12T00:00:00\", \"2020-04-12T00:00:00\", \"2020-04-12T00:00:00\", \"2020-04-12T00:00:00\", \"2020-04-12T00:00:00\", \"2020-04-13T00:00:00\", \"2020-04-13T00:00:00\", \"2020-04-13T00:00:00\", \"2020-04-13T00:00:00\", \"2020-04-13T00:00:00\", \"2020-04-13T00:00:00\", \"2020-04-13T00:00:00\", \"2020-04-13T00:00:00\", \"2020-04-13T00:00:00\", \"2020-04-13T00:00:00\", \"2020-04-13T00:00:00\", \"2020-04-13T00:00:00\", \"2020-04-13T00:00:00\", \"2020-04-13T00:00:00\", \"2020-04-13T00:00:00\", \"2020-04-13T00:00:00\", \"2020-04-14T00:00:00\", \"2020-04-14T00:00:00\", \"2020-04-14T00:00:00\", \"2020-04-14T00:00:00\", \"2020-04-14T00:00:00\", \"2020-04-14T00:00:00\", \"2020-04-14T00:00:00\", \"2020-04-14T00:00:00\", \"2020-04-14T00:00:00\", \"2020-04-14T00:00:00\", \"2020-04-14T00:00:00\", \"2020-04-14T00:00:00\", \"2020-04-14T00:00:00\", \"2020-04-14T00:00:00\", \"2020-04-14T00:00:00\", \"2020-04-14T00:00:00\", \"2020-04-15T00:00:00\", \"2020-04-15T00:00:00\", \"2020-04-15T00:00:00\", \"2020-04-15T00:00:00\", \"2020-04-15T00:00:00\", \"2020-04-15T00:00:00\", \"2020-04-15T00:00:00\", \"2020-04-15T00:00:00\", \"2020-04-15T00:00:00\", \"2020-04-15T00:00:00\", \"2020-04-15T00:00:00\", \"2020-04-15T00:00:00\", \"2020-04-15T00:00:00\", \"2020-04-15T00:00:00\", \"2020-04-15T00:00:00\", \"2020-04-15T00:00:00\", \"2020-04-16T00:00:00\", \"2020-04-16T00:00:00\", \"2020-04-16T00:00:00\", \"2020-04-16T00:00:00\", \"2020-04-16T00:00:00\", \"2020-04-16T00:00:00\", \"2020-04-16T00:00:00\", \"2020-04-16T00:00:00\", \"2020-04-16T00:00:00\", \"2020-04-16T00:00:00\", \"2020-04-16T00:00:00\", \"2020-04-16T00:00:00\", \"2020-04-16T00:00:00\", \"2020-04-16T00:00:00\", \"2020-04-16T00:00:00\", \"2020-04-16T00:00:00\", \"2020-04-17T00:00:00\", \"2020-04-17T00:00:00\", \"2020-04-17T00:00:00\", \"2020-04-17T00:00:00\", \"2020-04-17T00:00:00\", \"2020-04-17T00:00:00\", \"2020-04-17T00:00:00\", \"2020-04-17T00:00:00\", \"2020-04-17T00:00:00\", \"2020-04-17T00:00:00\", \"2020-04-17T00:00:00\", \"2020-04-17T00:00:00\", \"2020-04-17T00:00:00\", \"2020-04-17T00:00:00\", \"2020-04-17T00:00:00\", \"2020-04-17T00:00:00\", \"2020-04-18T00:00:00\", \"2020-04-18T00:00:00\", \"2020-04-18T00:00:00\", \"2020-04-18T00:00:00\", \"2020-04-18T00:00:00\", \"2020-04-18T00:00:00\", \"2020-04-18T00:00:00\", \"2020-04-18T00:00:00\", \"2020-04-18T00:00:00\", \"2020-04-18T00:00:00\", \"2020-04-18T00:00:00\", \"2020-04-18T00:00:00\", \"2020-04-18T00:00:00\", \"2020-04-18T00:00:00\", \"2020-04-18T00:00:00\", \"2020-04-18T00:00:00\", \"2020-04-19T00:00:00\", \"2020-04-19T00:00:00\", \"2020-04-19T00:00:00\", \"2020-04-19T00:00:00\", \"2020-04-19T00:00:00\", \"2020-04-19T00:00:00\", \"2020-04-19T00:00:00\", \"2020-04-19T00:00:00\", \"2020-04-19T00:00:00\", \"2020-04-19T00:00:00\", \"2020-04-19T00:00:00\", \"2020-04-19T00:00:00\", \"2020-04-19T00:00:00\", \"2020-04-19T00:00:00\", \"2020-04-19T00:00:00\", \"2020-04-19T00:00:00\", \"2020-04-20T00:00:00\", \"2020-04-20T00:00:00\", \"2020-04-20T00:00:00\", \"2020-04-20T00:00:00\", \"2020-04-20T00:00:00\", \"2020-04-20T00:00:00\", \"2020-04-20T00:00:00\", \"2020-04-20T00:00:00\", \"2020-04-20T00:00:00\", \"2020-04-20T00:00:00\", \"2020-04-20T00:00:00\", \"2020-04-20T00:00:00\", \"2020-04-20T00:00:00\", \"2020-04-20T00:00:00\", \"2020-04-20T00:00:00\", \"2020-04-20T00:00:00\", \"2020-04-21T00:00:00\", \"2020-04-21T00:00:00\", \"2020-04-21T00:00:00\", \"2020-04-21T00:00:00\", \"2020-04-21T00:00:00\", \"2020-04-21T00:00:00\", \"2020-04-21T00:00:00\", \"2020-04-21T00:00:00\", \"2020-04-21T00:00:00\", \"2020-04-21T00:00:00\", \"2020-04-21T00:00:00\", \"2020-04-21T00:00:00\", \"2020-04-21T00:00:00\", \"2020-04-21T00:00:00\", \"2020-04-21T00:00:00\", \"2020-04-21T00:00:00\", \"2020-04-22T00:00:00\", \"2020-04-22T00:00:00\", \"2020-04-22T00:00:00\", \"2020-04-22T00:00:00\", \"2020-04-22T00:00:00\", \"2020-04-22T00:00:00\", \"2020-04-22T00:00:00\", \"2020-04-22T00:00:00\", \"2020-04-22T00:00:00\", \"2020-04-22T00:00:00\", \"2020-04-22T00:00:00\", \"2020-04-22T00:00:00\", \"2020-04-22T00:00:00\", \"2020-04-22T00:00:00\", \"2020-04-22T00:00:00\", \"2020-04-22T00:00:00\", \"2020-04-23T00:00:00\", \"2020-04-23T00:00:00\", \"2020-04-23T00:00:00\", \"2020-04-23T00:00:00\", \"2020-04-23T00:00:00\", \"2020-04-23T00:00:00\", \"2020-04-23T00:00:00\", \"2020-04-23T00:00:00\", \"2020-04-23T00:00:00\", \"2020-04-23T00:00:00\", \"2020-04-23T00:00:00\", \"2020-04-23T00:00:00\", \"2020-04-23T00:00:00\", \"2020-04-23T00:00:00\", \"2020-04-23T00:00:00\", \"2020-04-23T00:00:00\", \"2020-04-24T00:00:00\", \"2020-04-24T00:00:00\", \"2020-04-24T00:00:00\", \"2020-04-24T00:00:00\", \"2020-04-24T00:00:00\", \"2020-04-24T00:00:00\", \"2020-04-24T00:00:00\", \"2020-04-24T00:00:00\", \"2020-04-24T00:00:00\", \"2020-04-24T00:00:00\", \"2020-04-24T00:00:00\", \"2020-04-24T00:00:00\", \"2020-04-24T00:00:00\", \"2020-04-24T00:00:00\", \"2020-04-24T00:00:00\", \"2020-04-24T00:00:00\", \"2020-04-25T00:00:00\", \"2020-04-25T00:00:00\", \"2020-04-25T00:00:00\", \"2020-04-25T00:00:00\", \"2020-04-25T00:00:00\", \"2020-04-25T00:00:00\", \"2020-04-25T00:00:00\", \"2020-04-25T00:00:00\", \"2020-04-25T00:00:00\", \"2020-04-25T00:00:00\", \"2020-04-25T00:00:00\", \"2020-04-25T00:00:00\", \"2020-04-25T00:00:00\", \"2020-04-25T00:00:00\", \"2020-04-25T00:00:00\", \"2020-04-25T00:00:00\", \"2020-04-26T00:00:00\", \"2020-04-26T00:00:00\", \"2020-04-26T00:00:00\", \"2020-04-26T00:00:00\", \"2020-04-26T00:00:00\", \"2020-04-26T00:00:00\", \"2020-04-26T00:00:00\", \"2020-04-26T00:00:00\", \"2020-04-26T00:00:00\", \"2020-04-26T00:00:00\", \"2020-04-26T00:00:00\", \"2020-04-26T00:00:00\", \"2020-04-26T00:00:00\", \"2020-04-26T00:00:00\", \"2020-04-26T00:00:00\", \"2020-04-26T00:00:00\", \"2020-04-27T00:00:00\", \"2020-04-27T00:00:00\", \"2020-04-27T00:00:00\", \"2020-04-27T00:00:00\", \"2020-04-27T00:00:00\", \"2020-04-27T00:00:00\", \"2020-04-27T00:00:00\", \"2020-04-27T00:00:00\", \"2020-04-27T00:00:00\", \"2020-04-27T00:00:00\", \"2020-04-27T00:00:00\", \"2020-04-27T00:00:00\", \"2020-04-27T00:00:00\", \"2020-04-27T00:00:00\", \"2020-04-27T00:00:00\", \"2020-04-27T00:00:00\", \"2020-04-28T00:00:00\", \"2020-04-28T00:00:00\", \"2020-04-28T00:00:00\", \"2020-04-28T00:00:00\", \"2020-04-28T00:00:00\", \"2020-04-28T00:00:00\", \"2020-04-28T00:00:00\", \"2020-04-28T00:00:00\", \"2020-04-28T00:00:00\", \"2020-04-28T00:00:00\", \"2020-04-28T00:00:00\", \"2020-04-28T00:00:00\", \"2020-04-28T00:00:00\", \"2020-04-28T00:00:00\", \"2020-04-28T00:00:00\", \"2020-04-28T00:00:00\", \"2020-04-29T00:00:00\", \"2020-04-29T00:00:00\", \"2020-04-29T00:00:00\", \"2020-04-29T00:00:00\", \"2020-04-29T00:00:00\", \"2020-04-29T00:00:00\", \"2020-04-29T00:00:00\", \"2020-04-29T00:00:00\", \"2020-04-29T00:00:00\", \"2020-04-29T00:00:00\", \"2020-04-29T00:00:00\", \"2020-04-29T00:00:00\", \"2020-04-29T00:00:00\", \"2020-04-29T00:00:00\", \"2020-04-29T00:00:00\", \"2020-04-29T00:00:00\", \"2020-04-30T00:00:00\", \"2020-04-30T00:00:00\", \"2020-04-30T00:00:00\", \"2020-04-30T00:00:00\", \"2020-04-30T00:00:00\", \"2020-04-30T00:00:00\", \"2020-04-30T00:00:00\", \"2020-04-30T00:00:00\", \"2020-04-30T00:00:00\", \"2020-04-30T00:00:00\", \"2020-04-30T00:00:00\", \"2020-04-30T00:00:00\", \"2020-04-30T00:00:00\", \"2020-04-30T00:00:00\", \"2020-04-30T00:00:00\", \"2020-04-30T00:00:00\", \"2020-05-01T00:00:00\", \"2020-05-01T00:00:00\", \"2020-05-01T00:00:00\", \"2020-05-01T00:00:00\", \"2020-05-01T00:00:00\", \"2020-05-01T00:00:00\", \"2020-05-01T00:00:00\", \"2020-05-01T00:00:00\", \"2020-05-01T00:00:00\", \"2020-05-01T00:00:00\", \"2020-05-01T00:00:00\", \"2020-05-01T00:00:00\", \"2020-05-01T00:00:00\", \"2020-05-01T00:00:00\", \"2020-05-01T00:00:00\", \"2020-05-01T00:00:00\", \"2020-05-02T00:00:00\", \"2020-05-02T00:00:00\", \"2020-05-02T00:00:00\", \"2020-05-02T00:00:00\", \"2020-05-02T00:00:00\", \"2020-05-02T00:00:00\", \"2020-05-02T00:00:00\", \"2020-05-02T00:00:00\", \"2020-05-02T00:00:00\", \"2020-05-02T00:00:00\", \"2020-05-02T00:00:00\", \"2020-05-02T00:00:00\", \"2020-05-02T00:00:00\", \"2020-05-02T00:00:00\", \"2020-05-02T00:00:00\", \"2020-05-02T00:00:00\", \"2020-05-03T00:00:00\", \"2020-05-03T00:00:00\", \"2020-05-03T00:00:00\", \"2020-05-03T00:00:00\", \"2020-05-03T00:00:00\", \"2020-05-03T00:00:00\", \"2020-05-03T00:00:00\", \"2020-05-03T00:00:00\", \"2020-05-03T00:00:00\", \"2020-05-03T00:00:00\", \"2020-05-03T00:00:00\", \"2020-05-03T00:00:00\", \"2020-05-03T00:00:00\", \"2020-05-03T00:00:00\", \"2020-05-03T00:00:00\", \"2020-05-03T00:00:00\", \"2020-05-04T00:00:00\", \"2020-05-04T00:00:00\", \"2020-05-04T00:00:00\", \"2020-05-04T00:00:00\", \"2020-05-04T00:00:00\", \"2020-05-04T00:00:00\", \"2020-05-04T00:00:00\", \"2020-05-04T00:00:00\", \"2020-05-04T00:00:00\", \"2020-05-04T00:00:00\", \"2020-05-04T00:00:00\", \"2020-05-04T00:00:00\", \"2020-05-04T00:00:00\", \"2020-05-04T00:00:00\", \"2020-05-04T00:00:00\", \"2020-05-04T00:00:00\", \"2020-05-05T00:00:00\", \"2020-05-05T00:00:00\", \"2020-05-05T00:00:00\", \"2020-05-05T00:00:00\", \"2020-05-05T00:00:00\", \"2020-05-05T00:00:00\", \"2020-05-05T00:00:00\", \"2020-05-05T00:00:00\", \"2020-05-05T00:00:00\", \"2020-05-05T00:00:00\", \"2020-05-05T00:00:00\", \"2020-05-05T00:00:00\", \"2020-05-05T00:00:00\", \"2020-05-05T00:00:00\", \"2020-05-05T00:00:00\", \"2020-05-05T00:00:00\", \"2020-05-06T00:00:00\", \"2020-05-06T00:00:00\", \"2020-05-06T00:00:00\", \"2020-05-06T00:00:00\", \"2020-05-06T00:00:00\", \"2020-05-06T00:00:00\", \"2020-05-06T00:00:00\", \"2020-05-06T00:00:00\", \"2020-05-06T00:00:00\", \"2020-05-06T00:00:00\", \"2020-05-06T00:00:00\", \"2020-05-06T00:00:00\", \"2020-05-06T00:00:00\", \"2020-05-06T00:00:00\", \"2020-05-06T00:00:00\", \"2020-05-06T00:00:00\", \"2020-05-07T00:00:00\", \"2020-05-07T00:00:00\", \"2020-05-07T00:00:00\", \"2020-05-07T00:00:00\", \"2020-05-07T00:00:00\", \"2020-05-07T00:00:00\", \"2020-05-07T00:00:00\", \"2020-05-07T00:00:00\", \"2020-05-07T00:00:00\", \"2020-05-07T00:00:00\", \"2020-05-07T00:00:00\", \"2020-05-07T00:00:00\", \"2020-05-07T00:00:00\", \"2020-05-07T00:00:00\", \"2020-05-07T00:00:00\", \"2020-05-07T00:00:00\", \"2020-05-08T00:00:00\", \"2020-05-08T00:00:00\", \"2020-05-08T00:00:00\", \"2020-05-08T00:00:00\", \"2020-05-08T00:00:00\", \"2020-05-08T00:00:00\", \"2020-05-08T00:00:00\", \"2020-05-08T00:00:00\", \"2020-05-08T00:00:00\", \"2020-05-08T00:00:00\", \"2020-05-08T00:00:00\", \"2020-05-08T00:00:00\", \"2020-05-08T00:00:00\", \"2020-05-08T00:00:00\", \"2020-05-08T00:00:00\", \"2020-05-08T00:00:00\", \"2020-05-09T00:00:00\", \"2020-05-09T00:00:00\", \"2020-05-09T00:00:00\", \"2020-05-09T00:00:00\", \"2020-05-09T00:00:00\", \"2020-05-09T00:00:00\", \"2020-05-09T00:00:00\", \"2020-05-09T00:00:00\", \"2020-05-09T00:00:00\", \"2020-05-09T00:00:00\", \"2020-05-09T00:00:00\", \"2020-05-09T00:00:00\", \"2020-05-09T00:00:00\", \"2020-05-09T00:00:00\", \"2020-05-09T00:00:00\", \"2020-05-09T00:00:00\", \"2020-05-10T00:00:00\", \"2020-05-10T00:00:00\", \"2020-05-10T00:00:00\", \"2020-05-10T00:00:00\", \"2020-05-10T00:00:00\", \"2020-05-10T00:00:00\", \"2020-05-10T00:00:00\", \"2020-05-10T00:00:00\", \"2020-05-10T00:00:00\", \"2020-05-10T00:00:00\", \"2020-05-10T00:00:00\", \"2020-05-10T00:00:00\", \"2020-05-10T00:00:00\", \"2020-05-10T00:00:00\", \"2020-05-10T00:00:00\", \"2020-05-10T00:00:00\", \"2020-05-11T00:00:00\", \"2020-05-11T00:00:00\", \"2020-05-11T00:00:00\", \"2020-05-11T00:00:00\", \"2020-05-11T00:00:00\", \"2020-05-11T00:00:00\", \"2020-05-11T00:00:00\", \"2020-05-11T00:00:00\", \"2020-05-11T00:00:00\", \"2020-05-11T00:00:00\", \"2020-05-11T00:00:00\", \"2020-05-11T00:00:00\", \"2020-05-11T00:00:00\", \"2020-05-11T00:00:00\", \"2020-05-11T00:00:00\", \"2020-05-11T00:00:00\", \"2020-05-12T00:00:00\", \"2020-05-12T00:00:00\", \"2020-05-12T00:00:00\", \"2020-05-12T00:00:00\", \"2020-05-12T00:00:00\", \"2020-05-12T00:00:00\", \"2020-05-12T00:00:00\", \"2020-05-12T00:00:00\", \"2020-05-12T00:00:00\", \"2020-05-12T00:00:00\", \"2020-05-12T00:00:00\", \"2020-05-12T00:00:00\", \"2020-05-12T00:00:00\", \"2020-05-12T00:00:00\", \"2020-05-12T00:00:00\", \"2020-05-12T00:00:00\", \"2020-05-13T00:00:00\", \"2020-05-13T00:00:00\", \"2020-05-13T00:00:00\", \"2020-05-13T00:00:00\", \"2020-05-13T00:00:00\", \"2020-05-13T00:00:00\", \"2020-05-13T00:00:00\", \"2020-05-13T00:00:00\", \"2020-05-13T00:00:00\", \"2020-05-13T00:00:00\", \"2020-05-13T00:00:00\", \"2020-05-13T00:00:00\", \"2020-05-13T00:00:00\", \"2020-05-13T00:00:00\", \"2020-05-13T00:00:00\", \"2020-05-13T00:00:00\", \"2020-05-14T00:00:00\", \"2020-05-14T00:00:00\", \"2020-05-14T00:00:00\", \"2020-05-14T00:00:00\", \"2020-05-14T00:00:00\", \"2020-05-14T00:00:00\", \"2020-05-14T00:00:00\", \"2020-05-14T00:00:00\", \"2020-05-14T00:00:00\", \"2020-05-14T00:00:00\", \"2020-05-14T00:00:00\", \"2020-05-14T00:00:00\", \"2020-05-14T00:00:00\", \"2020-05-14T00:00:00\", \"2020-05-14T00:00:00\", \"2020-05-14T00:00:00\", \"2020-05-15T00:00:00\", \"2020-05-15T00:00:00\", \"2020-05-15T00:00:00\", \"2020-05-15T00:00:00\", \"2020-05-15T00:00:00\", \"2020-05-15T00:00:00\", \"2020-05-15T00:00:00\", \"2020-05-15T00:00:00\", \"2020-05-15T00:00:00\", \"2020-05-15T00:00:00\", \"2020-05-15T00:00:00\", \"2020-05-15T00:00:00\", \"2020-05-15T00:00:00\", \"2020-05-15T00:00:00\", \"2020-05-15T00:00:00\", \"2020-05-15T00:00:00\", \"2020-05-16T00:00:00\", \"2020-05-16T00:00:00\", \"2020-05-16T00:00:00\", \"2020-05-16T00:00:00\", \"2020-05-16T00:00:00\", \"2020-05-16T00:00:00\", \"2020-05-16T00:00:00\", \"2020-05-16T00:00:00\", \"2020-05-16T00:00:00\", \"2020-05-16T00:00:00\", \"2020-05-16T00:00:00\", \"2020-05-16T00:00:00\", \"2020-05-16T00:00:00\", \"2020-05-16T00:00:00\", \"2020-05-16T00:00:00\", \"2020-05-16T00:00:00\", \"2020-05-17T00:00:00\", \"2020-05-17T00:00:00\", \"2020-05-17T00:00:00\", \"2020-05-17T00:00:00\", \"2020-05-17T00:00:00\", \"2020-05-17T00:00:00\", \"2020-05-17T00:00:00\", \"2020-05-17T00:00:00\", \"2020-05-17T00:00:00\", \"2020-05-17T00:00:00\", \"2020-05-17T00:00:00\", \"2020-05-17T00:00:00\", \"2020-05-17T00:00:00\", \"2020-05-17T00:00:00\", \"2020-05-17T00:00:00\", \"2020-05-17T00:00:00\", \"2020-05-19T00:00:00\", \"2020-05-19T00:00:00\", \"2020-05-19T00:00:00\", \"2020-05-19T00:00:00\", \"2020-05-19T00:00:00\", \"2020-05-19T00:00:00\", \"2020-05-19T00:00:00\", \"2020-05-19T00:00:00\", \"2020-05-19T00:00:00\", \"2020-05-19T00:00:00\", \"2020-05-19T00:00:00\", \"2020-05-19T00:00:00\", \"2020-05-19T00:00:00\", \"2020-05-19T00:00:00\", \"2020-05-19T00:00:00\", \"2020-05-19T00:00:00\", \"2020-05-20T00:00:00\", \"2020-05-20T00:00:00\", \"2020-05-20T00:00:00\", \"2020-05-20T00:00:00\", \"2020-05-20T00:00:00\", \"2020-05-20T00:00:00\", \"2020-05-20T00:00:00\", \"2020-05-20T00:00:00\", \"2020-05-20T00:00:00\", \"2020-05-20T00:00:00\", \"2020-05-20T00:00:00\", \"2020-05-20T00:00:00\", \"2020-05-20T00:00:00\", \"2020-05-20T00:00:00\", \"2020-05-20T00:00:00\", \"2020-05-20T00:00:00\", \"2020-05-21T00:00:00\", \"2020-05-21T00:00:00\", \"2020-05-21T00:00:00\", \"2020-05-21T00:00:00\", \"2020-05-21T00:00:00\", \"2020-05-21T00:00:00\", \"2020-05-21T00:00:00\", \"2020-05-21T00:00:00\", \"2020-05-21T00:00:00\", \"2020-05-21T00:00:00\", \"2020-05-21T00:00:00\", \"2020-05-21T00:00:00\", \"2020-05-21T00:00:00\", \"2020-05-21T00:00:00\", \"2020-05-21T00:00:00\", \"2020-05-21T00:00:00\", \"2020-05-22T00:00:00\", \"2020-05-22T00:00:00\", \"2020-05-22T00:00:00\", \"2020-05-22T00:00:00\", \"2020-05-22T00:00:00\", \"2020-05-22T00:00:00\", \"2020-05-22T00:00:00\", \"2020-05-22T00:00:00\", \"2020-05-22T00:00:00\", \"2020-05-22T00:00:00\", \"2020-05-22T00:00:00\", \"2020-05-22T00:00:00\", \"2020-05-22T00:00:00\", \"2020-05-22T00:00:00\", \"2020-05-22T00:00:00\", \"2020-05-22T00:00:00\", \"2020-05-23T00:00:00\", \"2020-05-23T00:00:00\", \"2020-05-23T00:00:00\", \"2020-05-23T00:00:00\", \"2020-05-23T00:00:00\", \"2020-05-23T00:00:00\", \"2020-05-23T00:00:00\", \"2020-05-23T00:00:00\", \"2020-05-23T00:00:00\", \"2020-05-23T00:00:00\", \"2020-05-23T00:00:00\", \"2020-05-23T00:00:00\", \"2020-05-23T00:00:00\", \"2020-05-23T00:00:00\", \"2020-05-23T00:00:00\", \"2020-05-23T00:00:00\", \"2020-05-24T00:00:00\", \"2020-05-24T00:00:00\", \"2020-05-24T00:00:00\", \"2020-05-24T00:00:00\", \"2020-05-24T00:00:00\", \"2020-05-24T00:00:00\", \"2020-05-24T00:00:00\", \"2020-05-24T00:00:00\", \"2020-05-24T00:00:00\", \"2020-05-24T00:00:00\", \"2020-05-24T00:00:00\", \"2020-05-24T00:00:00\", \"2020-05-24T00:00:00\", \"2020-05-24T00:00:00\", \"2020-05-24T00:00:00\", \"2020-05-24T00:00:00\", \"2020-05-25T00:00:00\", \"2020-05-25T00:00:00\", \"2020-05-25T00:00:00\", \"2020-05-25T00:00:00\", \"2020-05-25T00:00:00\", \"2020-05-25T00:00:00\", \"2020-05-25T00:00:00\", \"2020-05-25T00:00:00\", \"2020-05-25T00:00:00\", \"2020-05-25T00:00:00\", \"2020-05-25T00:00:00\", \"2020-05-25T00:00:00\", \"2020-05-25T00:00:00\", \"2020-05-25T00:00:00\", \"2020-05-25T00:00:00\", \"2020-05-25T00:00:00\", \"2020-05-26T00:00:00\", \"2020-05-26T00:00:00\", \"2020-05-26T00:00:00\", \"2020-05-26T00:00:00\", \"2020-05-26T00:00:00\", \"2020-05-26T00:00:00\", \"2020-05-26T00:00:00\", \"2020-05-26T00:00:00\", \"2020-05-26T00:00:00\", \"2020-05-26T00:00:00\", \"2020-05-26T00:00:00\", \"2020-05-26T00:00:00\", \"2020-05-26T00:00:00\", \"2020-05-26T00:00:00\", \"2020-05-26T00:00:00\", \"2020-05-26T00:00:00\", \"2020-05-27T00:00:00\", \"2020-05-27T00:00:00\", \"2020-05-27T00:00:00\", \"2020-05-27T00:00:00\", \"2020-05-27T00:00:00\", \"2020-05-27T00:00:00\", \"2020-05-27T00:00:00\", \"2020-05-27T00:00:00\", \"2020-05-27T00:00:00\", \"2020-05-27T00:00:00\", \"2020-05-27T00:00:00\", \"2020-05-27T00:00:00\", \"2020-05-27T00:00:00\", \"2020-05-27T00:00:00\", \"2020-05-27T00:00:00\", \"2020-05-27T00:00:00\", \"2020-05-28T00:00:00\", \"2020-05-28T00:00:00\", \"2020-05-28T00:00:00\", \"2020-05-28T00:00:00\", \"2020-05-28T00:00:00\", \"2020-05-28T00:00:00\", \"2020-05-28T00:00:00\", \"2020-05-28T00:00:00\", \"2020-05-28T00:00:00\", \"2020-05-28T00:00:00\", \"2020-05-28T00:00:00\", \"2020-05-28T00:00:00\", \"2020-05-28T00:00:00\", \"2020-05-28T00:00:00\", \"2020-05-28T00:00:00\", \"2020-05-28T00:00:00\", \"2020-05-29T00:00:00\", \"2020-05-29T00:00:00\", \"2020-05-29T00:00:00\", \"2020-05-29T00:00:00\", \"2020-05-29T00:00:00\", \"2020-05-29T00:00:00\", \"2020-05-29T00:00:00\", \"2020-05-29T00:00:00\", \"2020-05-29T00:00:00\", \"2020-05-29T00:00:00\", \"2020-05-29T00:00:00\", \"2020-05-29T00:00:00\", \"2020-05-29T00:00:00\", \"2020-05-29T00:00:00\", \"2020-05-29T00:00:00\", \"2020-05-29T00:00:00\", \"2020-05-30T00:00:00\", \"2020-05-30T00:00:00\", \"2020-05-30T00:00:00\", \"2020-05-30T00:00:00\", \"2020-05-30T00:00:00\", \"2020-05-30T00:00:00\", \"2020-05-30T00:00:00\", \"2020-05-30T00:00:00\", \"2020-05-30T00:00:00\", \"2020-05-30T00:00:00\", \"2020-05-30T00:00:00\", \"2020-05-30T00:00:00\", \"2020-05-30T00:00:00\", \"2020-05-30T00:00:00\", \"2020-05-30T00:00:00\", \"2020-05-30T00:00:00\", \"2020-05-31T00:00:00\", \"2020-05-31T00:00:00\", \"2020-05-31T00:00:00\", \"2020-05-31T00:00:00\", \"2020-05-31T00:00:00\", \"2020-05-31T00:00:00\", \"2020-05-31T00:00:00\", \"2020-05-31T00:00:00\", \"2020-05-31T00:00:00\", \"2020-05-31T00:00:00\", \"2020-05-31T00:00:00\", \"2020-05-31T00:00:00\", \"2020-05-31T00:00:00\", \"2020-05-31T00:00:00\", \"2020-05-31T00:00:00\", \"2020-05-31T00:00:00\", \"2020-06-01T00:00:00\", \"2020-06-01T00:00:00\", \"2020-06-01T00:00:00\", \"2020-06-01T00:00:00\", \"2020-06-01T00:00:00\", \"2020-06-01T00:00:00\", \"2020-06-01T00:00:00\", \"2020-06-01T00:00:00\", \"2020-06-01T00:00:00\", \"2020-06-01T00:00:00\", \"2020-06-01T00:00:00\", \"2020-06-01T00:00:00\", \"2020-06-01T00:00:00\", \"2020-06-01T00:00:00\", \"2020-06-01T00:00:00\", \"2020-06-01T00:00:00\", \"2020-06-02T00:00:00\", \"2020-06-02T00:00:00\", \"2020-06-02T00:00:00\", \"2020-06-02T00:00:00\", \"2020-06-02T00:00:00\", \"2020-06-02T00:00:00\", \"2020-06-02T00:00:00\", \"2020-06-02T00:00:00\", \"2020-06-02T00:00:00\", \"2020-06-02T00:00:00\", \"2020-06-02T00:00:00\", \"2020-06-02T00:00:00\", \"2020-06-02T00:00:00\", \"2020-06-02T00:00:00\", \"2020-06-02T00:00:00\", \"2020-06-02T00:00:00\", \"2020-06-03T00:00:00\", \"2020-06-03T00:00:00\", \"2020-06-03T00:00:00\", \"2020-06-03T00:00:00\", \"2020-06-03T00:00:00\", \"2020-06-03T00:00:00\", \"2020-06-03T00:00:00\", \"2020-06-03T00:00:00\", \"2020-06-03T00:00:00\", \"2020-06-03T00:00:00\", \"2020-06-03T00:00:00\", \"2020-06-03T00:00:00\", \"2020-06-03T00:00:00\", \"2020-06-03T00:00:00\", \"2020-06-03T00:00:00\", \"2020-06-03T00:00:00\", \"2020-06-04T00:00:00\", \"2020-06-04T00:00:00\", \"2020-06-04T00:00:00\", \"2020-06-04T00:00:00\", \"2020-06-04T00:00:00\", \"2020-06-04T00:00:00\", \"2020-06-04T00:00:00\", \"2020-06-04T00:00:00\", \"2020-06-04T00:00:00\", \"2020-06-04T00:00:00\", \"2020-06-04T00:00:00\", \"2020-06-04T00:00:00\", \"2020-06-04T00:00:00\", \"2020-06-04T00:00:00\", \"2020-06-04T00:00:00\", \"2020-06-04T00:00:00\", \"2020-06-05T00:00:00\", \"2020-06-05T00:00:00\", \"2020-06-05T00:00:00\", \"2020-06-05T00:00:00\", \"2020-06-05T00:00:00\", \"2020-06-05T00:00:00\", \"2020-06-05T00:00:00\", \"2020-06-05T00:00:00\", \"2020-06-05T00:00:00\", \"2020-06-05T00:00:00\", \"2020-06-05T00:00:00\", \"2020-06-05T00:00:00\", \"2020-06-05T00:00:00\", \"2020-06-05T00:00:00\", \"2020-06-05T00:00:00\", \"2020-06-05T00:00:00\", \"2020-06-06T00:00:00\", \"2020-06-06T00:00:00\", \"2020-06-06T00:00:00\", \"2020-06-06T00:00:00\", \"2020-06-06T00:00:00\", \"2020-06-06T00:00:00\", \"2020-06-06T00:00:00\", \"2020-06-06T00:00:00\", \"2020-06-06T00:00:00\", \"2020-06-06T00:00:00\", \"2020-06-06T00:00:00\", \"2020-06-06T00:00:00\", \"2020-06-06T00:00:00\", \"2020-06-06T00:00:00\", \"2020-06-06T00:00:00\", \"2020-06-06T00:00:00\", \"2020-06-07T00:00:00\", \"2020-06-07T00:00:00\", \"2020-06-07T00:00:00\", \"2020-06-07T00:00:00\", \"2020-06-07T00:00:00\", \"2020-06-07T00:00:00\", \"2020-06-07T00:00:00\", \"2020-06-07T00:00:00\", \"2020-06-07T00:00:00\", \"2020-06-07T00:00:00\", \"2020-06-07T00:00:00\", \"2020-06-07T00:00:00\", \"2020-06-07T00:00:00\", \"2020-06-07T00:00:00\", \"2020-06-07T00:00:00\", \"2020-06-07T00:00:00\", \"2020-06-08T00:00:00\", \"2020-06-08T00:00:00\", \"2020-06-08T00:00:00\", \"2020-06-08T00:00:00\", \"2020-06-08T00:00:00\", \"2020-06-08T00:00:00\", \"2020-06-08T00:00:00\", \"2020-06-08T00:00:00\", \"2020-06-08T00:00:00\", \"2020-06-08T00:00:00\", \"2020-06-08T00:00:00\", \"2020-06-08T00:00:00\", \"2020-06-08T00:00:00\", \"2020-06-08T00:00:00\", \"2020-06-08T00:00:00\", \"2020-06-08T00:00:00\", \"2020-06-09T00:00:00\", \"2020-06-09T00:00:00\", \"2020-06-09T00:00:00\", \"2020-06-09T00:00:00\", \"2020-06-09T00:00:00\", \"2020-06-09T00:00:00\", \"2020-06-09T00:00:00\", \"2020-06-09T00:00:00\", \"2020-06-09T00:00:00\", \"2020-06-09T00:00:00\", \"2020-06-09T00:00:00\", \"2020-06-09T00:00:00\", \"2020-06-09T00:00:00\", \"2020-06-09T00:00:00\", \"2020-06-09T00:00:00\", \"2020-06-09T00:00:00\", \"2020-06-10T00:00:00\", \"2020-06-10T00:00:00\", \"2020-06-10T00:00:00\", \"2020-06-10T00:00:00\", \"2020-06-10T00:00:00\", \"2020-06-10T00:00:00\", \"2020-06-10T00:00:00\", \"2020-06-10T00:00:00\", \"2020-06-10T00:00:00\", \"2020-06-10T00:00:00\", \"2020-06-10T00:00:00\", \"2020-06-10T00:00:00\", \"2020-06-10T00:00:00\", \"2020-06-10T00:00:00\", \"2020-06-10T00:00:00\", \"2020-06-10T00:00:00\", \"2020-06-11T00:00:00\", \"2020-06-11T00:00:00\", \"2020-06-11T00:00:00\", \"2020-06-11T00:00:00\", \"2020-06-11T00:00:00\", \"2020-06-11T00:00:00\", \"2020-06-11T00:00:00\", \"2020-06-11T00:00:00\", \"2020-06-11T00:00:00\", \"2020-06-11T00:00:00\", \"2020-06-11T00:00:00\", \"2020-06-11T00:00:00\", \"2020-06-11T00:00:00\", \"2020-06-11T00:00:00\", \"2020-06-11T00:00:00\", \"2020-06-11T00:00:00\", \"2020-06-12T00:00:00\", \"2020-06-12T00:00:00\", \"2020-06-12T00:00:00\", \"2020-06-12T00:00:00\", \"2020-06-12T00:00:00\", \"2020-06-12T00:00:00\", \"2020-06-12T00:00:00\", \"2020-06-12T00:00:00\", \"2020-06-12T00:00:00\", \"2020-06-12T00:00:00\", \"2020-06-12T00:00:00\", \"2020-06-12T00:00:00\", \"2020-06-12T00:00:00\", \"2020-06-12T00:00:00\", \"2020-06-12T00:00:00\", \"2020-06-12T00:00:00\", \"2020-06-20T00:00:00\", \"2020-06-20T00:00:00\", \"2020-06-20T00:00:00\", \"2020-06-20T00:00:00\", \"2020-06-20T00:00:00\", \"2020-06-20T00:00:00\", \"2020-06-20T00:00:00\", \"2020-06-20T00:00:00\", \"2020-06-20T00:00:00\", \"2020-06-20T00:00:00\", \"2020-06-20T00:00:00\", \"2020-06-20T00:00:00\", \"2020-06-20T00:00:00\", \"2020-06-20T00:00:00\", \"2020-06-20T00:00:00\", \"2020-06-20T00:00:00\", \"2020-06-21T00:00:00\", \"2020-06-21T00:00:00\", \"2020-06-21T00:00:00\", \"2020-06-21T00:00:00\", \"2020-06-21T00:00:00\", \"2020-06-21T00:00:00\", \"2020-06-21T00:00:00\", \"2020-06-21T00:00:00\", \"2020-06-21T00:00:00\", \"2020-06-21T00:00:00\", \"2020-06-21T00:00:00\", \"2020-06-21T00:00:00\", \"2020-06-21T00:00:00\", \"2020-06-21T00:00:00\", \"2020-06-21T00:00:00\", \"2020-06-21T00:00:00\"], \"xaxis\": \"x\", \"y\": [300, 1433, 464, 3932, 38, 625, 1198, 2283, 900, 978, 6339, 1907, 2071, 1545, 3340, 465, 321, 1583, 483, 4053, 27, 588, 1266, 2645, 998, 1256, 7062, 2141, 2063, 1699, 3645, 493, 345, 1424, 525, 3982, 55, 601, 1253, 2433, 984, 1180, 7132, 2204, 2010, 1615, 3778, 489, 406, 1362, 373, 3933, 36, 678, 1469, 2673, 1065, 1127, 7493, 2418, 1778, 1566, 3560, 637, 327, 1606, 496, 4445, 44, 796, 1623, 3301, 1466, 1419, 8487, 3463, 2229, 2053, 4038, 811, 251, 1582, 618, 4514, 79, 945, 1568, 2878, 1507, 1651, 8225, 3723, 2577, 2299, 4418, 667, 390, 1248, 388, 3142, 65, 655, 1096, 1572, 837, 1027, 5711, 2230, 1734, 1219, 3329, 425, 285, 1341, 433, 3149, 48, 561, 1169, 1663, 896, 962, 5047, 2035, 1838, 1256, 3291, 430, 295, 1339, 396, 3606, 27, 733, 1171, 2283, 1045, 1164, 6458, 2214, 1750, 1492, 3682, 416, 285, 1333, 367, 3170, 43, 601, 1179, 1975, 996, 920, 5598, 2029, 1811, 1269, 3368, 388, 307, 1389, 413, 3449, 46, 657, 1429, 2475, 1115, 1038, 6732, 2739, 1704, 1406, 3442, 636, 297, 1686, 461, 3953, 64, 741, 1788, 3188, 1434, 1451, 7859, 3246, 2122, 1866, 4058, 772, 232, 1636, 528, 4479, 41, 902, 1521, 2940, 1611, 1756, 7628, 3533, 2578, 2360, 4669, 578, 403, 1239, 280, 2980, 44, 571, 1001, 1581, 909, 1031, 4965, 2464, 1798, 1236, 3345, 423, 348, 1384, 344, 3107, 38, 618, 1074, 1949, 884, 1076, 5256, 2876, 1883, 1325, 3398, 430, 296, 1331, 344, 3247, 53, 621, 1070, 1970, 921, 1046, 5460, 2548, 1695, 1332, 3435, 401, 345, 1328, 354, 3208, 48, 585, 1256, 2034, 969, 1076, 5861, 2634, 1881, 1316, 3459, 387, 367, 1537, 435, 3815, 47, 643, 1656, 3076, 1208, 1312, 7989, 3104, 1856, 1738, 3883, 616, 296, 1825, 502, 4258, 77, 851, 1852, 3719, 1628, 1677, 8641, 4378, 2308, 2292, 4542, 831, 252, 1838, 579, 4062, 41, 921, 1580, 3212, 1708, 1688, 7699, 4485, 2516, 2430, 4588, 623, 410, 1243, 403, 3074, 40, 630, 1118, 1673, 1023, 1066, 5802, 2236, 1934, 1431, 3211, 401, 379, 1546, 509, 3655, 43, 587, 1374, 2557, 1296, 1089, 6615, 2463, 2078, 1745, 3808, 402, 335, 1431, 469, 3407, 47, 539, 1248, 2307, 1149, 1140, 6300, 2394, 1915, 1580, 3360, 431, 393, 1332, 414, 3419, 25, 571, 1368, 2310, 1120, 1199, 6694, 2565, 1946, 1617, 3414, 505, 392, 1542, 567, 4031, 47, 657, 1964, 3382, 1366, 1435, 8929, 3337, 2028, 1968, 3929, 695, 291, 1663, 579, 4034, 54, 716, 1816, 3460, 1427, 1551, 8816, 3881, 2334, 2035, 4191, 886, 221, 1769, 686, 4365, 49, 803, 1744, 3214, 1567, 1725, 9113, 3974, 2522, 2467, 4481, 673, 382, 1296, 473, 3268, 44, 569, 1143, 1749, 940, 1061, 5826, 2581, 1951, 1404, 3193, 461, 351, 1391, 574, 3439, 41, 561, 1256, 2193, 959, 1044, 5936, 2277, 2080, 1498, 3668, 492, 357, 1441, 598, 3251, 53, 613, 1308, 2164, 1075, 1145, 6712, 2505, 2199, 1493, 3386, 493, 296, 1383, 614, 3558, 56, 531, 1506, 2257, 1053, 1088, 6721, 2520, 2050, 1559, 3282, 473, 334, 1614, 589, 3598, 34, 630, 1737, 3051, 1155, 1176, 8190, 3038, 2033, 1610, 3613, 678, 262, 1702, 623, 4102, 57, 712, 2014, 3403, 1470, 1486, 8602, 3669, 2333, 2087, 3985, 821, 197, 1736, 652, 3990, 51, 784, 1644, 3019, 1563, 1550, 7775, 3655, 2660, 2235, 4335, 608, 355, 1345, 457, 3193, 27, 582, 1083, 1696, 845, 874, 5711, 2982, 1830, 1310, 3090, 425, 388, 1551, 594, 3996, 29, 607, 1433, 2362, 1234, 1261, 6669, 3196, 2154, 1680, 3788, 473, 318, 1536, 500, 3736, 23, 605, 1320, 2207, 1088, 1065, 6378, 3003, 2052, 1407, 3510, 474, 357, 1484, 430, 3647, 36, 609, 1553, 2204, 1023, 1189, 6677, 2990, 2005, 1367, 3524, 458, 362, 1553, 479, 3979, 42, 673, 1813, 2960, 1180, 1260, 8242, 3356, 1969, 1628, 3761, 708, 270, 1862, 597, 4135, 40, 762, 1900, 3500, 1473, 1560, 8745, 4436, 2347, 1925, 4304, 908, 209, 1914, 526, 4845, 60, 811, 1698, 3274, 1577, 1723, 7935, 4329, 2681, 2226, 4455, 723, 348, 1422, 433, 3305, 38, 547, 1136, 1820, 862, 1032, 5566, 2429, 1967, 1136, 3196, 463, 349, 1504, 468, 3343, 43, 554, 1204, 2021, 943, 985, 6014, 2261, 2181, 1333, 3365, 491, 360, 1532, 498, 3264, 39, 577, 1224, 1923, 912, 1063, 6031, 2328, 1773, 1283, 3257, 420, 356, 1500, 553, 3711, 35, 628, 1359, 2227, 1050, 1158, 6641, 3097, 1962, 1407, 3558, 483, 375, 1661, 660, 3949, 56, 657, 1790, 2982, 1094, 1199, 7754, 2933, 1971, 1399, 3494, 677, 266, 1849, 682, 4279, 32, 755, 1891, 3728, 1417, 1553, 8064, 3495, 2068, 1781, 4049, 889, 210, 1824, 651, 4652, 38, 922, 1574, 3332, 1606, 1631, 7741, 3685, 2358, 2116, 4474, 809, 372, 1387, 535, 3520, 34, 627, 1066, 1677, 889, 996, 5591, 2520, 1736, 1157, 3013, 465, 339, 1545, 502, 3810, 29, 677, 1106, 2029, 938, 941, 5747, 2095, 1918, 1185, 3251, 498, 303, 1539, 516, 3569, 25, 758, 1205, 2227, 944, 1053, 6345, 2302, 1777, 1361, 3253, 532, 313, 1496, 573, 3878, 48, 676, 1409, 2533, 1080, 1111, 6617, 2468, 1750, 1386, 3415, 485, 374, 1582, 589, 4008, 32, 698, 1639, 3068, 1229, 1190, 7751, 2929, 1891, 1447, 3351, 743, 254, 1807, 651, 4643, 21, 775, 1771, 3471, 1518, 1546, 8005, 3431, 2203, 1775, 4003, 976, 155, 1736, 643, 4528, 33, 846, 1466, 3054, 1575, 1577, 7744, 3551, 2276, 2154, 4259, 728, 354, 1419, 484, 3409, 25, 618, 1102, 1695, 927, 1032, 5560, 2060, 1692, 1242, 3024, 455, 332, 1623, 488, 4040, 26, 607, 1293, 2244, 1206, 1023, 5940, 3667, 1831, 1364, 3149, 536, 338, 1495, 601, 3754, 23, 640, 1368, 2319, 1146, 1158, 7039, 2391, 1882, 1424, 3456, 512, 299, 1408, 612, 3862, 36, 676, 1340, 2466, 1121, 1199, 6526, 2609, 1873, 1397, 3375, 504, 302, 1722, 597, 4208, 30, 682, 1735, 3299, 1280, 1368, 8267, 2913, 1933, 1609, 3690, 693, 272, 1844, 755, 4422, 33, 719, 1851, 3732, 1552, 1655, 9375, 3660, 2182, 2022, 4411, 991, 162, 1733, 617, 4480, 33, 814, 1548, 3210, 1569, 1720, 8424, 3791, 2316, 2149, 4466, 691, 359, 1312, 476, 3255, 24, 591, 1030, 1762, 779, 1029, 5980, 2556, 1791, 1098, 3388, 429, 312, 1488, 481, 3442, 21, 598, 1190, 2086, 872, 1016, 5904, 2073, 1802, 1219, 3443, 433, 300, 1396, 585, 3393, 10, 566, 1085, 2139, 967, 1063, 6466, 2185, 1641, 1223, 3355, 494, 309, 1385, 583, 3510, 25, 533, 1212, 2143, 1048, 1106, 6338, 2185, 1708, 1253, 3269, 515, 285, 1512, 601, 3855, 18, 589, 1622, 2932, 1153, 1319, 8370, 2612, 1847, 1564, 3549, 797, 234, 1681, 731, 4290, 41, 657, 1745, 3482, 1460, 1593, 9396, 3184, 2163, 1905, 4138, 939, 160, 1765, 677, 4500, 27, 750, 1567, 3183, 1656, 1834, 9182, 3616, 2421, 2171, 4511, 748, 342, 1321, 558, 3074, 22, 533, 1082, 1727, 812, 1036, 5638, 3017, 1844, 1246, 3432, 446, 275, 1561, 588, 3715, 20, 544, 1380, 2508, 1287, 1063, 7280, 3110, 1839, 1477, 3567, 727, 215, 1813, 705, 4160, 29, 727, 1335, 2919, 1444, 1588, 8540, 3747, 2202, 1935, 4235, 688, 300, 1353, 549, 3289, 16, 577, 1168, 2003, 920, 1208, 5912, 3131, 1746, 1293, 3395, 463, 333, 1662, 667, 4225, 17, 612, 1632, 2973, 1243, 1478, 8516, 3714, 1989, 1796, 4259, 724, 241, 1637, 785, 4150, 26, 684, 1639, 3132, 1299, 1584, 8650, 3467, 2026, 1804, 4232, 971, 199, 1709, 869, 4765, 30, 857, 1692, 3298, 1639, 2097, 9784, 4410, 2386, 2490, 5231, 746, 364, 1293, 660, 3253, 23, 549, 1021, 1625, 819, 1270, 6623, 2773, 1980, 1147, 3690, 507, 341, 1512, 580, 3708, 23, 526, 1166, 2207, 1064, 1136, 6626, 2517, 1889, 1341, 3788, 537, 308, 1519, 649, 3610, 7, 646, 1296, 2189, 1001, 1296, 6837, 2575, 1793, 1457, 3893, 568, 299, 1397, 509, 3531, 15, 602, 1268, 2314, 991, 1249, 6278, 2732, 1878, 1329, 3563, 539, 328, 1603, 628, 3862, 30, 604, 1619, 3016, 1150, 1347, 8199, 2919, 2046, 1582, 3982, 851, 281, 1715, 755, 4343, 34, 686, 1618, 3561, 1423, 1644, 9355, 4402, 2147, 1847, 4634, 1116, 152, 1780, 791, 4453, 28, 758, 1512, 3276, 1608, 1884, 8689, 4607, 2314, 2014, 5088, 841, 377, 1358, 583, 3385, 33, 554, 1097, 1885, 791, 1204, 5931, 1803, 1822, 1172, 3520, 471, 356, 1388, 641, 3673, 29, 546, 1221, 2095, 981, 1070, 5937, 1696, 1786, 1322, 3640, 505, 347, 1619, 609, 3481, 28, 557, 1396, 2820, 1019, 1242, 7415, 1942, 1808, 1395, 4014, 712, 237, 1777, 712, 4270, 58, 636, 1485, 3061, 1307, 1608, 8009, 3013, 2117, 1765, 4626, 852, 257, 1364, 771, 3385, 24, 536, 1017, 1970, 995, 1204, 5533, 2381, 1836, 1307, 3862, 628, 197, 1689, 823, 4258, 22, 693, 1565, 2988, 1182, 1559, 8357, 3122, 2159, 1724, 4661, 909, 131, 1721, 1062, 4393, 36, 711, 1502, 2977, 1419, 1704, 8111, 3333, 2219, 1842, 5045, 873, 343, 1502, 829, 4022, 31, 657, 1390, 2531, 865, 1266, 7079, 2564, 2006, 1366, 4313, 819, 259, 1831, 897, 4655, 5, 808, 1317, 3054, 1567, 1701, 9483, 3479, 2390, 2452, 5105, 795, 341, 1378, 671, 3098, 26, 497, 1027, 1651, 808, 1003, 5293, 1765, 1707, 1216, 3815, 388, 315, 1466, 606, 3420, 20, 577, 1176, 2046, 896, 1127, 5829, 1954, 1819, 1208, 3965, 571, 286, 1832, 734, 4021, 21, 666, 1793, 4514, 1123, 1622, 9603, 2949, 1836, 1936, 4624, 1066, 301, 1766, 950, 5142, 21, 728, 1905, 3701, 1513, 1969, 9978, 4222, 2493, 2135, 5323, 945, 185, 1890, 1062, 5285, 21, 801, 1446, 2863, 1529, 1772, 8402, 4271, 2518, 2112, 5237, 790, 367, 1378, 817, 3781, 20, 649, 1093, 1641, 743, 1079, 6125, 2514, 2179, 1175, 3816, 455, 306, 1549, 795, 3958, 15, 597, 1271, 2050, 944, 1071, 6464, 2092, 2215, 1398, 3839, 576, 328, 1660, 752, 3755, 25, 648, 1205, 2173, 975, 1223, 6614, 2218, 2005, 1450, 4225, 577, 307, 1696, 553, 3971, 22, 676, 1297, 2212, 1071, 1184, 6622, 2306, 2126, 1403, 4073, 645, 344, 1905, 712, 4879, 24, 794, 1890, 3472, 1490, 1713, 10153, 3214, 2381, 1948, 5170, 868, 276, 2107, 659, 4829, 33, 789, 1763, 3456, 1321, 1793, 9216, 3689, 2327, 2073, 5226, 1086, 138, 2010, 873, 4750, 25, 974, 1452, 2985, 1626, 1993, 8535, 4125, 2532, 1961, 5637, 865, 357, 1687, 616, 4103, 28, 764, 1338, 2186, 1082, 1285, 6506, 2385, 2088, 1420, 4353, 543, 386, 1696, 674, 3585, 8, 762, 1259, 2341, 1011, 1318, 6361, 2068, 1890, 1426, 4099, 530, 334, 1642, 527, 3795, 26, 657, 1246, 2346, 1075, 1315, 6707, 2352, 1966, 1418, 4300, 605, 316, 1782, 613, 3913, 24, 763, 1642, 3090, 1098, 1474, 8186, 2615, 1933, 1559, 4739, 877, 283, 1990, 670, 4477, 27, 823, 1683, 3404, 1406, 1849, 9424, 3376, 2283, 1906, 5317, 1044, 176, 1826, 868, 4983, 32, 935, 1568, 3224, 1680, 2158, 9262, 3808, 2557, 2301, 5855, 844, 359, 1431, 605, 3512, 26, 572, 1153, 1891, 834, 1253, 6259, 2084, 1728, 1243, 4201, 442, 349, 1570, 603, 3830, 22, 506, 1342, 2369, 1065, 1292, 6930, 2006, 2021, 1300, 4610, 514, 306, 1566, 565, 3393, 27, 573, 1196, 2131, 946, 1228, 6336, 1919, 1804, 1260, 4220, 501, 322, 1556, 715, 3537, 25, 564, 1315, 2310, 991, 1290, 6645, 2054, 1956, 1429, 4323, 517, 303, 1734, 600, 3853, 29, 616, 1536, 3063, 1084, 1459, 8556, 2514, 1929, 1577, 4782, 851, 256, 1958, 770, 4634, 37, 714, 1682, 3440, 1432, 1786, 9309, 3154, 2343, 1934, 5837, 1171, 172, 1786, 868, 4974, 44, 762, 1502, 3165, 1735, 2031, 8923, 4117, 2713, 2242, 6143, 833, 369, 1414, 615, 3273, 20, 569, 1066, 1710, 860, 1113, 5870, 2340, 1923, 1135, 4190, 484, 343, 1480, 576, 3843, 27, 585, 1287, 2078, 1028, 1268, 6350, 2243, 1811, 1446, 4418, 499, 330, 1454, 603, 3386, 16, 580, 1117, 2063, 941, 1304, 6074, 2287, 1768, 1244, 4299, 540, 328, 1395, 594, 3574, 20, 539, 1196, 2321, 941, 1315, 6281, 2306, 1946, 1295, 4549, 595, 349, 1657, 650, 4014, 5, 534, 1532, 2900, 1123, 1411, 9034, 2766, 1925, 1482, 4981, 793, 262, 1878, 763, 4707, 9, 698, 1755, 3455, 1491, 1879, 9942, 3833, 2526, 1926, 6164, 926, 185, 1736, 878, 4565, 10, 759, 1407, 2919, 1584, 1940, 8868, 3854, 2593, 2156, 6270, 700, 405, 1230, 540, 3197, 9, 509, 1019, 1811, 744, 1211, 6024, 2911, 1997, 1094, 4727, 474, 325, 1433, 606, 3531, 7, 498, 1289, 2096, 884, 1152, 6211, 2826, 1961, 1201, 5119, 453, 352, 1565, 825, 3673, 10, 643, 1384, 2778, 1088, 1542, 8201, 2741, 2043, 1574, 5188, 526, 358, 1479, 638, 3641, 14, 558, 1211, 2400, 1009, 1316, 6835, 2849, 2266, 1376, 4886, 508, 304, 1647, 769, 4054, 14, 584, 1631, 3016, 1082, 1493, 9019, 3068, 2250, 1547, 5052, 743, 314, 1856, 793, 4382, 14, 640, 1672, 3602, 1475, 1794, 9803, 4457, 2371, 1872, 5999, 836, 204, 1838, 1146, 4883, 10, 725, 1326, 3389, 1636, 2016, 9405, 5105, 2629, 2126, 6872, 710], \"yaxis\": \"y\"}],                        {\"legend\": {\"tracegroupgap\": 0}, \"margin\": {\"t\": 60}, \"template\": {\"data\": {\"bar\": [{\"error_x\": {\"color\": \"#2a3f5f\"}, \"error_y\": {\"color\": \"#2a3f5f\"}, \"marker\": {\"line\": {\"color\": \"#E5ECF6\", \"width\": 0.5}}, \"type\": \"bar\"}], \"barpolar\": [{\"marker\": {\"line\": {\"color\": \"#E5ECF6\", \"width\": 0.5}}, \"type\": \"barpolar\"}], \"carpet\": [{\"aaxis\": {\"endlinecolor\": \"#2a3f5f\", \"gridcolor\": \"white\", \"linecolor\": \"white\", \"minorgridcolor\": \"white\", \"startlinecolor\": \"#2a3f5f\"}, \"baxis\": {\"endlinecolor\": \"#2a3f5f\", \"gridcolor\": \"white\", \"linecolor\": \"white\", \"minorgridcolor\": \"white\", \"startlinecolor\": \"#2a3f5f\"}, \"type\": \"carpet\"}], \"choropleth\": [{\"colorbar\": {\"outlinewidth\": 0, \"ticks\": \"\"}, \"type\": \"choropleth\"}], \"contour\": [{\"colorbar\": {\"outlinewidth\": 0, \"ticks\": \"\"}, \"colorscale\": [[0.0, \"#0d0887\"], [0.1111111111111111, \"#46039f\"], [0.2222222222222222, \"#7201a8\"], [0.3333333333333333, \"#9c179e\"], [0.4444444444444444, \"#bd3786\"], [0.5555555555555556, \"#d8576b\"], [0.6666666666666666, \"#ed7953\"], [0.7777777777777778, \"#fb9f3a\"], [0.8888888888888888, \"#fdca26\"], [1.0, \"#f0f921\"]], \"type\": \"contour\"}], \"contourcarpet\": [{\"colorbar\": {\"outlinewidth\": 0, \"ticks\": \"\"}, \"type\": \"contourcarpet\"}], \"heatmap\": [{\"colorbar\": {\"outlinewidth\": 0, \"ticks\": \"\"}, \"colorscale\": [[0.0, \"#0d0887\"], [0.1111111111111111, \"#46039f\"], [0.2222222222222222, \"#7201a8\"], [0.3333333333333333, \"#9c179e\"], [0.4444444444444444, \"#bd3786\"], [0.5555555555555556, \"#d8576b\"], [0.6666666666666666, \"#ed7953\"], [0.7777777777777778, \"#fb9f3a\"], [0.8888888888888888, \"#fdca26\"], [1.0, \"#f0f921\"]], \"type\": \"heatmap\"}], \"heatmapgl\": [{\"colorbar\": {\"outlinewidth\": 0, \"ticks\": \"\"}, \"colorscale\": [[0.0, \"#0d0887\"], [0.1111111111111111, \"#46039f\"], [0.2222222222222222, \"#7201a8\"], [0.3333333333333333, \"#9c179e\"], [0.4444444444444444, \"#bd3786\"], [0.5555555555555556, \"#d8576b\"], [0.6666666666666666, \"#ed7953\"], [0.7777777777777778, \"#fb9f3a\"], [0.8888888888888888, \"#fdca26\"], [1.0, \"#f0f921\"]], \"type\": \"heatmapgl\"}], \"histogram\": [{\"marker\": {\"colorbar\": {\"outlinewidth\": 0, \"ticks\": \"\"}}, \"type\": \"histogram\"}], \"histogram2d\": [{\"colorbar\": {\"outlinewidth\": 0, \"ticks\": \"\"}, \"colorscale\": [[0.0, \"#0d0887\"], [0.1111111111111111, \"#46039f\"], [0.2222222222222222, \"#7201a8\"], [0.3333333333333333, \"#9c179e\"], [0.4444444444444444, \"#bd3786\"], [0.5555555555555556, \"#d8576b\"], [0.6666666666666666, \"#ed7953\"], [0.7777777777777778, \"#fb9f3a\"], [0.8888888888888888, \"#fdca26\"], [1.0, \"#f0f921\"]], \"type\": \"histogram2d\"}], \"histogram2dcontour\": [{\"colorbar\": {\"outlinewidth\": 0, \"ticks\": \"\"}, \"colorscale\": [[0.0, \"#0d0887\"], [0.1111111111111111, \"#46039f\"], [0.2222222222222222, \"#7201a8\"], [0.3333333333333333, \"#9c179e\"], [0.4444444444444444, \"#bd3786\"], [0.5555555555555556, \"#d8576b\"], [0.6666666666666666, \"#ed7953\"], [0.7777777777777778, \"#fb9f3a\"], [0.8888888888888888, \"#fdca26\"], [1.0, \"#f0f921\"]], \"type\": \"histogram2dcontour\"}], \"mesh3d\": [{\"colorbar\": {\"outlinewidth\": 0, \"ticks\": \"\"}, \"type\": \"mesh3d\"}], \"parcoords\": [{\"line\": {\"colorbar\": {\"outlinewidth\": 0, \"ticks\": \"\"}}, \"type\": \"parcoords\"}], \"pie\": [{\"automargin\": true, \"type\": \"pie\"}], \"scatter\": [{\"marker\": {\"colorbar\": {\"outlinewidth\": 0, \"ticks\": \"\"}}, \"type\": \"scatter\"}], \"scatter3d\": [{\"line\": {\"colorbar\": {\"outlinewidth\": 0, \"ticks\": \"\"}}, \"marker\": {\"colorbar\": {\"outlinewidth\": 0, \"ticks\": \"\"}}, \"type\": \"scatter3d\"}], \"scattercarpet\": [{\"marker\": {\"colorbar\": {\"outlinewidth\": 0, \"ticks\": \"\"}}, \"type\": \"scattercarpet\"}], \"scattergeo\": [{\"marker\": {\"colorbar\": {\"outlinewidth\": 0, \"ticks\": \"\"}}, \"type\": \"scattergeo\"}], \"scattergl\": [{\"marker\": {\"colorbar\": {\"outlinewidth\": 0, \"ticks\": \"\"}}, \"type\": \"scattergl\"}], \"scattermapbox\": [{\"marker\": {\"colorbar\": {\"outlinewidth\": 0, \"ticks\": \"\"}}, \"type\": \"scattermapbox\"}], \"scatterpolar\": [{\"marker\": {\"colorbar\": {\"outlinewidth\": 0, \"ticks\": \"\"}}, \"type\": \"scatterpolar\"}], \"scatterpolargl\": [{\"marker\": {\"colorbar\": {\"outlinewidth\": 0, \"ticks\": \"\"}}, \"type\": \"scatterpolargl\"}], \"scatterternary\": [{\"marker\": {\"colorbar\": {\"outlinewidth\": 0, \"ticks\": \"\"}}, \"type\": \"scatterternary\"}], \"surface\": [{\"colorbar\": {\"outlinewidth\": 0, \"ticks\": \"\"}, \"colorscale\": [[0.0, \"#0d0887\"], [0.1111111111111111, \"#46039f\"], [0.2222222222222222, \"#7201a8\"], [0.3333333333333333, \"#9c179e\"], [0.4444444444444444, \"#bd3786\"], [0.5555555555555556, \"#d8576b\"], [0.6666666666666666, \"#ed7953\"], [0.7777777777777778, \"#fb9f3a\"], [0.8888888888888888, \"#fdca26\"], [1.0, \"#f0f921\"]], \"type\": \"surface\"}], \"table\": [{\"cells\": {\"fill\": {\"color\": \"#EBF0F8\"}, \"line\": {\"color\": \"white\"}}, \"header\": {\"fill\": {\"color\": \"#C8D4E3\"}, \"line\": {\"color\": \"white\"}}, \"type\": \"table\"}]}, \"layout\": {\"annotationdefaults\": {\"arrowcolor\": \"#2a3f5f\", \"arrowhead\": 0, \"arrowwidth\": 1}, \"coloraxis\": {\"colorbar\": {\"outlinewidth\": 0, \"ticks\": \"\"}}, \"colorscale\": {\"diverging\": [[0, \"#8e0152\"], [0.1, \"#c51b7d\"], [0.2, \"#de77ae\"], [0.3, \"#f1b6da\"], [0.4, \"#fde0ef\"], [0.5, \"#f7f7f7\"], [0.6, \"#e6f5d0\"], [0.7, \"#b8e186\"], [0.8, \"#7fbc41\"], [0.9, \"#4d9221\"], [1, \"#276419\"]], \"sequential\": [[0.0, \"#0d0887\"], [0.1111111111111111, \"#46039f\"], [0.2222222222222222, \"#7201a8\"], [0.3333333333333333, \"#9c179e\"], [0.4444444444444444, \"#bd3786\"], [0.5555555555555556, \"#d8576b\"], [0.6666666666666666, \"#ed7953\"], [0.7777777777777778, \"#fb9f3a\"], [0.8888888888888888, \"#fdca26\"], [1.0, \"#f0f921\"]], \"sequentialminus\": [[0.0, \"#0d0887\"], [0.1111111111111111, \"#46039f\"], [0.2222222222222222, \"#7201a8\"], [0.3333333333333333, \"#9c179e\"], [0.4444444444444444, \"#bd3786\"], [0.5555555555555556, \"#d8576b\"], [0.6666666666666666, \"#ed7953\"], [0.7777777777777778, \"#fb9f3a\"], [0.8888888888888888, \"#fdca26\"], [1.0, \"#f0f921\"]]}, \"colorway\": [\"#636efa\", \"#EF553B\", \"#00cc96\", \"#ab63fa\", \"#FFA15A\", \"#19d3f3\", \"#FF6692\", \"#B6E880\", \"#FF97FF\", \"#FECB52\"], \"font\": {\"color\": \"#2a3f5f\"}, \"geo\": {\"bgcolor\": \"white\", \"lakecolor\": \"white\", \"landcolor\": \"#E5ECF6\", \"showlakes\": true, \"showland\": true, \"subunitcolor\": \"white\"}, \"hoverlabel\": {\"align\": \"left\"}, \"hovermode\": \"closest\", \"mapbox\": {\"style\": \"light\"}, \"paper_bgcolor\": \"white\", \"plot_bgcolor\": \"#E5ECF6\", \"polar\": {\"angularaxis\": {\"gridcolor\": \"white\", \"linecolor\": \"white\", \"ticks\": \"\"}, \"bgcolor\": \"#E5ECF6\", \"radialaxis\": {\"gridcolor\": \"white\", \"linecolor\": \"white\", \"ticks\": \"\"}}, \"scene\": {\"xaxis\": {\"backgroundcolor\": \"#E5ECF6\", \"gridcolor\": \"white\", \"gridwidth\": 2, \"linecolor\": \"white\", \"showbackground\": true, \"ticks\": \"\", \"zerolinecolor\": \"white\"}, \"yaxis\": {\"backgroundcolor\": \"#E5ECF6\", \"gridcolor\": \"white\", \"gridwidth\": 2, \"linecolor\": \"white\", \"showbackground\": true, \"ticks\": \"\", \"zerolinecolor\": \"white\"}, \"zaxis\": {\"backgroundcolor\": \"#E5ECF6\", \"gridcolor\": \"white\", \"gridwidth\": 2, \"linecolor\": \"white\", \"showbackground\": true, \"ticks\": \"\", \"zerolinecolor\": \"white\"}}, \"shapedefaults\": {\"line\": {\"color\": \"#2a3f5f\"}}, \"ternary\": {\"aaxis\": {\"gridcolor\": \"white\", \"linecolor\": \"white\", \"ticks\": \"\"}, \"baxis\": {\"gridcolor\": \"white\", \"linecolor\": \"white\", \"ticks\": \"\"}, \"bgcolor\": \"#E5ECF6\", \"caxis\": {\"gridcolor\": \"white\", \"linecolor\": \"white\", \"ticks\": \"\"}}, \"title\": {\"x\": 0.05}, \"xaxis\": {\"automargin\": true, \"gridcolor\": \"white\", \"linecolor\": \"white\", \"ticks\": \"\", \"title\": {\"standoff\": 15}, \"zerolinecolor\": \"white\", \"zerolinewidth\": 2}, \"yaxis\": {\"automargin\": true, \"gridcolor\": \"white\", \"linecolor\": \"white\", \"ticks\": \"\", \"title\": {\"standoff\": 15}, \"zerolinecolor\": \"white\", \"zerolinewidth\": 2}}}, \"title\": {\"text\": \"\\uc77c\\ubcc4 \\ubc30\\ub2ec \\uac1c\\uc218 \\ubcc0\\ud654\", \"x\": 0.5, \"xanchor\": \"center\", \"y\": 0.95, \"yanchor\": \"top\"}, \"xaxis\": {\"anchor\": \"y\", \"domain\": [0.0, 1.0], \"title\": {\"text\": \"PROCESS_DT\"}}, \"yaxis\": {\"anchor\": \"x\", \"domain\": [0.0, 1.0], \"title\": {\"text\": \"count\"}}},                        {\"responsive\": true}                    ).then(function(){\n",
       "                            \n",
       "var gd = document.getElementById('918fa5f7-5077-4a95-ba9d-4e4bbd1c7de1');\n",
       "var x = new MutationObserver(function (mutations, observer) {{\n",
       "        var display = window.getComputedStyle(gd).display;\n",
       "        if (!display || display === 'none') {{\n",
       "            console.log([gd, 'removed!']);\n",
       "            Plotly.purge(gd);\n",
       "            observer.disconnect();\n",
       "        }}\n",
       "}});\n",
       "\n",
       "// Listen for the removal of the full notebook cells\n",
       "var notebookContainer = gd.closest('#notebook-container');\n",
       "if (notebookContainer) {{\n",
       "    x.observe(notebookContainer, {childList: true});\n",
       "}}\n",
       "\n",
       "// Listen for the clearing of the current output cell\n",
       "var outputEl = gd.closest('.output');\n",
       "if (outputEl) {{\n",
       "    x.observe(outputEl, {childList: true});\n",
       "}}\n",
       "\n",
       "                        })                };                });            </script>        </div>"
      ]
     },
     "metadata": {},
     "output_type": "display_data"
    }
   ],
   "source": [
    "# 일별 배달상점 개수 그래프 그리기\n",
    "\n",
    "fig = px.line(merge_inner, x = 'PROCESS_DT', y = 'count')\n",
    "fig.update_layout(\n",
    "    title={\n",
    "        'text': \"일별 배달 개수 변화\",\n",
    "        'y':0.95,\n",
    "        'x':0.5,\n",
    "        'xanchor': 'center',\n",
    "        'yanchor': 'top'})\n",
    "fig.show()"
   ]
  },
  {
   "cell_type": "code",
   "execution_count": 58,
   "metadata": {},
   "outputs": [
    {
     "data": {
      "text/html": [
       "<div>\n",
       "<style scoped>\n",
       "    .dataframe tbody tr th:only-of-type {\n",
       "        vertical-align: middle;\n",
       "    }\n",
       "\n",
       "    .dataframe tbody tr th {\n",
       "        vertical-align: top;\n",
       "    }\n",
       "\n",
       "    .dataframe thead th {\n",
       "        text-align: right;\n",
       "    }\n",
       "</style>\n",
       "<table border=\"1\" class=\"dataframe\">\n",
       "  <thead>\n",
       "    <tr style=\"text-align: right;\">\n",
       "      <th></th>\n",
       "      <th>count</th>\n",
       "      <th>conf</th>\n",
       "      <th>death</th>\n",
       "    </tr>\n",
       "  </thead>\n",
       "  <tbody>\n",
       "    <tr>\n",
       "      <th>count</th>\n",
       "      <td>1.000000</td>\n",
       "      <td>0.026583</td>\n",
       "      <td>-0.136931</td>\n",
       "    </tr>\n",
       "    <tr>\n",
       "      <th>conf</th>\n",
       "      <td>0.026583</td>\n",
       "      <td>1.000000</td>\n",
       "      <td>0.307706</td>\n",
       "    </tr>\n",
       "    <tr>\n",
       "      <th>death</th>\n",
       "      <td>-0.136931</td>\n",
       "      <td>0.307706</td>\n",
       "      <td>1.000000</td>\n",
       "    </tr>\n",
       "  </tbody>\n",
       "</table>\n",
       "</div>"
      ],
      "text/plain": [
       "          count      conf     death\n",
       "count  1.000000  0.026583 -0.136931\n",
       "conf   0.026583  1.000000  0.307706\n",
       "death -0.136931  0.307706  1.000000"
      ]
     },
     "execution_count": 58,
     "metadata": {},
     "output_type": "execute_result"
    }
   ],
   "source": [
    "# 데이터 상으로는 확진자 수가 증가함에 따라 배달건수가 증가한다는 부분을 확인하기는 어렵다고 볼 수 있다.\n",
    "# 단 데이터가 6월 21일까지 한정되어있다는 점 \n",
    "# 업종별로 세부 분류를 했을 때 다른결과가 나올 수 있으니 시도 해볼수 있다 \n",
    "# 예를 들면 코로나 증가에 따른 도시락 업체의 증가유무 \n",
    "corr = merge_inner.corr(method = 'pearson')\n",
    "corr"
   ]
  }
 ],
 "metadata": {
  "kernelspec": {
   "display_name": "Python 3",
   "language": "python",
   "name": "python3"
  },
  "language_info": {
   "codemirror_mode": {
    "name": "ipython",
    "version": 3
   },
   "file_extension": ".py",
   "mimetype": "text/x-python",
   "name": "python",
   "nbconvert_exporter": "python",
   "pygments_lexer": "ipython3",
   "version": "3.7.6"
  }
 },
 "nbformat": 4,
 "nbformat_minor": 4
}
